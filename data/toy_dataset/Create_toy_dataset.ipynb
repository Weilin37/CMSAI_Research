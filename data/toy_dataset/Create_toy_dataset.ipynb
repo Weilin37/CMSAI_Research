{
 "cells": [
  {
   "cell_type": "markdown",
   "metadata": {},
   "source": [
    "## Synthetic dataset generation\n",
    "Author: Lin Lee Cheong <br>\n",
    "Date: 12/12/ 2020 <br>\n",
    "\n",
    "Goal of this synthetic dataset is to create datasets to help understand how different relationships between tokens affect attention, SHAP and other interpretability factors.\n",
    "- length of events (30, 300, 900)\n",
    "- spacing between 2+ coupled events, i.e. order of sequence matters\n",
    "- amount of noise, i.e. performance vs interpretability\n",
    "- vocabulary space"
   ]
  },
  {
   "cell_type": "code",
   "execution_count": 12,
   "metadata": {},
   "outputs": [],
   "source": [
    "import yaml\n",
    "import string\n",
    "import os\n",
    "import pandas as pd\n",
    "\n",
    "from utils import *"
   ]
  },
  {
   "cell_type": "code",
   "execution_count": 13,
   "metadata": {},
   "outputs": [
    {
     "name": "stdout",
     "output_type": "stream",
     "text": [
      "The autoreload extension is already loaded. To reload it, use:\n",
      "  %reload_ext autoreload\n"
     ]
    }
   ],
   "source": [
    "%load_ext autoreload\n",
    "\n",
    "%autoreload 2"
   ]
  },
  {
   "cell_type": "code",
   "execution_count": 26,
   "metadata": {},
   "outputs": [],
   "source": [
    "TOKEN_NAMES_FP = './tokens.yaml'\n",
    "\n",
    "SEQ_LEN = 900 #300 #900\n",
    "\n",
    "TRAIN_FP = 'data/train_seq{}.csv'.format(SEQ_LEN)\n",
    "VAL_FP = 'data/val_seq{}.csv'.format(SEQ_LEN)\n",
    "TEST_FP = 'data/test_seq{}.csv'.format(SEQ_LEN)\n",
    "\n",
    "UID_COLNAME = 'patient_id'\n",
    "\n",
    "TRAIN_NROWS = 3000\n",
    "VAL_NROWS = 1000\n",
    "TEST_NROWS = 1000\n",
    "\n",
    "UID_LEN = 10\n"
   ]
  },
  {
   "cell_type": "code",
   "execution_count": 27,
   "metadata": {},
   "outputs": [
    {
     "name": "stdout",
     "output_type": "stream",
     "text": [
      "adverse_tokens: 4 tokens\n",
      "adverse_helper_tokens: 6 tokens\n",
      "adverse_unhelper_tokens: 5 tokens\n",
      "noise_tokens: 15 tokens\n"
     ]
    }
   ],
   "source": [
    "#Load tokens from yaml file path\n",
    "tokens = load_tokens(TOKEN_NAMES_FP)\n",
    "for key in tokens.keys():\n",
    "    print(f\"{key}: {len(tokens[key])} tokens\")"
   ]
  },
  {
   "cell_type": "markdown",
   "metadata": {},
   "source": [
    "### Simple dataset"
   ]
  },
  {
   "cell_type": "markdown",
   "metadata": {},
   "source": [
    "Get simple dataset:\n",
    "- positive set: (+++, 1 major + a helper), (++, 1 major), (+, 3 helper)\n",
    "- negative set: (---, 3 unhelper), (--, 1 helper + 2 unhelper), (-, 2 helper + 1 unhelper)\n",
    "\n",
    "\n",
    "**NOTES**<br>\n",
    "n_ppp_adverse = 2000 # 1 adverse event + 1 helper event <br>\n",
    "n_pp_adverse = 2000 # 1 adverse event <br>\n",
    "n_p_adverse = 2000 # 3 helper events <br><br>\n",
    "n_nnn_adverse = 2000 # 3 unhelper events <br>\n",
    "n_nn_adverse = 2000 # 1 helper + 2 unhelper <br>\n",
    "n_n_adverse = 2000 # 2 helper + 1 unhelper <br>"
   ]
  },
  {
   "cell_type": "code",
   "execution_count": 28,
   "metadata": {},
   "outputs": [],
   "source": [
    "train_count_dict = {\n",
    "    'n_ppp_adverse': TRAIN_NROWS,\n",
    "    'n_pp_adverse': TRAIN_NROWS,\n",
    "    'n_p_adverse': TRAIN_NROWS,\n",
    "    'n_nnn_adverse': TRAIN_NROWS,\n",
    "    'n_nn_adverse': TRAIN_NROWS,\n",
    "    'n_n_adverse': TRAIN_NROWS\n",
    "}\n",
    "\n",
    "val_count_dict = {\n",
    "    'n_ppp_adverse': VAL_NROWS,\n",
    "    'n_pp_adverse': VAL_NROWS,\n",
    "    'n_p_adverse': VAL_NROWS,\n",
    "    'n_nnn_adverse': VAL_NROWS,\n",
    "    'n_nn_adverse': VAL_NROWS,\n",
    "    'n_n_adverse': VAL_NROWS\n",
    "}\n",
    "\n",
    "test_count_dict = {\n",
    "    'n_ppp_adverse': TEST_NROWS,\n",
    "    'n_pp_adverse': TEST_NROWS,\n",
    "    'n_p_adverse': TEST_NROWS,\n",
    "    'n_nnn_adverse': TEST_NROWS,\n",
    "    'n_nn_adverse': TEST_NROWS,\n",
    "    'n_n_adverse': TEST_NROWS\n",
    "}"
   ]
  },
  {
   "cell_type": "code",
   "execution_count": 29,
   "metadata": {},
   "outputs": [
    {
     "name": "stdout",
     "output_type": "stream",
     "text": [
      "dataset: (18000, 903)\n",
      "ratio:\n",
      "0    0.501111\n",
      "1    0.498889\n",
      "Name: label, dtype: float64\n",
      "\n",
      "dataset: (6000, 903)\n",
      "ratio:\n",
      "1    0.502333\n",
      "0    0.497667\n",
      "Name: label, dtype: float64\n",
      "\n",
      "dataset: (6000, 903)\n",
      "ratio:\n",
      "1    0.503667\n",
      "0    0.496333\n",
      "Name: label, dtype: float64\n",
      "\n"
     ]
    }
   ],
   "source": [
    "train_simple_data = get_simple_dataset(\n",
    "    seq_len=SEQ_LEN, uid_len=UID_LEN, uid_colname=UID_COLNAME, count_dict=train_count_dict, tokens=tokens)\n",
    "\n",
    "val_simple_data = get_simple_dataset(\n",
    "    seq_len=SEQ_LEN, uid_len=UID_LEN, uid_colname=UID_COLNAME, count_dict=val_count_dict, tokens=tokens)\n",
    "\n",
    "test_simple_data = get_simple_dataset(\n",
    "    seq_len=SEQ_LEN, uid_len=UID_LEN, uid_colname=UID_COLNAME, count_dict=test_count_dict, tokens=tokens)"
   ]
  },
  {
   "cell_type": "code",
   "execution_count": 30,
   "metadata": {},
   "outputs": [],
   "source": [
    "save_csv(train_simple_data, TRAIN_FP)\n",
    "save_csv(val_simple_data, VAL_FP)\n",
    "save_csv(test_simple_data, TEST_FP)"
   ]
  },
  {
   "cell_type": "code",
   "execution_count": 31,
   "metadata": {},
   "outputs": [
    {
     "name": "stdout",
     "output_type": "stream",
     "text": [
      "(18000, 903)\n"
     ]
    },
    {
     "data": {
      "text/html": [
       "<div>\n",
       "<style scoped>\n",
       "    .dataframe tbody tr th:only-of-type {\n",
       "        vertical-align: middle;\n",
       "    }\n",
       "\n",
       "    .dataframe tbody tr th {\n",
       "        vertical-align: top;\n",
       "    }\n",
       "\n",
       "    .dataframe thead th {\n",
       "        text-align: right;\n",
       "    }\n",
       "</style>\n",
       "<table border=\"1\" class=\"dataframe\">\n",
       "  <thead>\n",
       "    <tr style=\"text-align: right;\">\n",
       "      <th></th>\n",
       "      <th>index</th>\n",
       "      <th>899</th>\n",
       "      <th>898</th>\n",
       "      <th>897</th>\n",
       "      <th>896</th>\n",
       "      <th>895</th>\n",
       "      <th>894</th>\n",
       "      <th>893</th>\n",
       "      <th>892</th>\n",
       "      <th>891</th>\n",
       "      <th>...</th>\n",
       "      <th>7</th>\n",
       "      <th>6</th>\n",
       "      <th>5</th>\n",
       "      <th>4</th>\n",
       "      <th>3</th>\n",
       "      <th>2</th>\n",
       "      <th>1</th>\n",
       "      <th>0</th>\n",
       "      <th>label</th>\n",
       "      <th>patient_id</th>\n",
       "    </tr>\n",
       "  </thead>\n",
       "  <tbody>\n",
       "    <tr>\n",
       "      <th>0</th>\n",
       "      <td>1881</td>\n",
       "      <td>&lt;pad&gt;</td>\n",
       "      <td>&lt;pad&gt;</td>\n",
       "      <td>&lt;pad&gt;</td>\n",
       "      <td>&lt;pad&gt;</td>\n",
       "      <td>&lt;pad&gt;</td>\n",
       "      <td>&lt;pad&gt;</td>\n",
       "      <td>&lt;pad&gt;</td>\n",
       "      <td>&lt;pad&gt;</td>\n",
       "      <td>cold_sore</td>\n",
       "      <td>...</td>\n",
       "      <td>eye_exam</td>\n",
       "      <td>headache</td>\n",
       "      <td>cold_sore</td>\n",
       "      <td>backache</td>\n",
       "      <td>ACL_tear</td>\n",
       "      <td>ankle_sprain</td>\n",
       "      <td>ankle_sprain</td>\n",
       "      <td>tachycardia</td>\n",
       "      <td>0</td>\n",
       "      <td>XCR8CS7TK3</td>\n",
       "    </tr>\n",
       "    <tr>\n",
       "      <th>1</th>\n",
       "      <td>883</td>\n",
       "      <td>&lt;pad&gt;</td>\n",
       "      <td>&lt;pad&gt;</td>\n",
       "      <td>&lt;pad&gt;</td>\n",
       "      <td>&lt;pad&gt;</td>\n",
       "      <td>&lt;pad&gt;</td>\n",
       "      <td>&lt;pad&gt;</td>\n",
       "      <td>&lt;pad&gt;</td>\n",
       "      <td>&lt;pad&gt;</td>\n",
       "      <td>&lt;pad&gt;</td>\n",
       "      <td>...</td>\n",
       "      <td>quad_injury</td>\n",
       "      <td>peanut_allergy</td>\n",
       "      <td>ACL_tear</td>\n",
       "      <td>myopia</td>\n",
       "      <td>cut_finger</td>\n",
       "      <td>ingrown_nail</td>\n",
       "      <td>CHF</td>\n",
       "      <td>apnea</td>\n",
       "      <td>1</td>\n",
       "      <td>ELGHNAU6ES</td>\n",
       "    </tr>\n",
       "    <tr>\n",
       "      <th>2</th>\n",
       "      <td>1674</td>\n",
       "      <td>&lt;pad&gt;</td>\n",
       "      <td>&lt;pad&gt;</td>\n",
       "      <td>&lt;pad&gt;</td>\n",
       "      <td>&lt;pad&gt;</td>\n",
       "      <td>&lt;pad&gt;</td>\n",
       "      <td>&lt;pad&gt;</td>\n",
       "      <td>&lt;pad&gt;</td>\n",
       "      <td>&lt;pad&gt;</td>\n",
       "      <td>&lt;pad&gt;</td>\n",
       "      <td>...</td>\n",
       "      <td>quad_injury</td>\n",
       "      <td>headache</td>\n",
       "      <td>dental_exam</td>\n",
       "      <td>foot_pain</td>\n",
       "      <td>headache</td>\n",
       "      <td>dental_exam</td>\n",
       "      <td>ACL_tear</td>\n",
       "      <td>eye_exam</td>\n",
       "      <td>0</td>\n",
       "      <td>96NBVNP9W4</td>\n",
       "    </tr>\n",
       "    <tr>\n",
       "      <th>3</th>\n",
       "      <td>597</td>\n",
       "      <td>&lt;pad&gt;</td>\n",
       "      <td>&lt;pad&gt;</td>\n",
       "      <td>&lt;pad&gt;</td>\n",
       "      <td>&lt;pad&gt;</td>\n",
       "      <td>&lt;pad&gt;</td>\n",
       "      <td>&lt;pad&gt;</td>\n",
       "      <td>&lt;pad&gt;</td>\n",
       "      <td>&lt;pad&gt;</td>\n",
       "      <td>&lt;pad&gt;</td>\n",
       "      <td>...</td>\n",
       "      <td>eye_exam</td>\n",
       "      <td>myopia</td>\n",
       "      <td>peanut_allergy</td>\n",
       "      <td>hay_fever</td>\n",
       "      <td>myopia</td>\n",
       "      <td>annual_physical</td>\n",
       "      <td>headache</td>\n",
       "      <td>headache</td>\n",
       "      <td>1</td>\n",
       "      <td>VYDH3LX0RJ</td>\n",
       "    </tr>\n",
       "    <tr>\n",
       "      <th>4</th>\n",
       "      <td>321</td>\n",
       "      <td>&lt;pad&gt;</td>\n",
       "      <td>&lt;pad&gt;</td>\n",
       "      <td>&lt;pad&gt;</td>\n",
       "      <td>&lt;pad&gt;</td>\n",
       "      <td>&lt;pad&gt;</td>\n",
       "      <td>&lt;pad&gt;</td>\n",
       "      <td>&lt;pad&gt;</td>\n",
       "      <td>&lt;pad&gt;</td>\n",
       "      <td>&lt;pad&gt;</td>\n",
       "      <td>...</td>\n",
       "      <td>quad_injury</td>\n",
       "      <td>cut_finger</td>\n",
       "      <td>headache</td>\n",
       "      <td>ACL_tear</td>\n",
       "      <td>annual_physical</td>\n",
       "      <td>quad_injury</td>\n",
       "      <td>headache</td>\n",
       "      <td>dental_exam</td>\n",
       "      <td>1</td>\n",
       "      <td>X2FESVIS2O</td>\n",
       "    </tr>\n",
       "  </tbody>\n",
       "</table>\n",
       "<p>5 rows × 903 columns</p>\n",
       "</div>"
      ],
      "text/plain": [
       "   index    899    898    897    896    895    894    893    892        891  \\\n",
       "0   1881  <pad>  <pad>  <pad>  <pad>  <pad>  <pad>  <pad>  <pad>  cold_sore   \n",
       "1    883  <pad>  <pad>  <pad>  <pad>  <pad>  <pad>  <pad>  <pad>      <pad>   \n",
       "2   1674  <pad>  <pad>  <pad>  <pad>  <pad>  <pad>  <pad>  <pad>      <pad>   \n",
       "3    597  <pad>  <pad>  <pad>  <pad>  <pad>  <pad>  <pad>  <pad>      <pad>   \n",
       "4    321  <pad>  <pad>  <pad>  <pad>  <pad>  <pad>  <pad>  <pad>      <pad>   \n",
       "\n",
       "   ...            7               6               5          4  \\\n",
       "0  ...     eye_exam        headache       cold_sore   backache   \n",
       "1  ...  quad_injury  peanut_allergy        ACL_tear     myopia   \n",
       "2  ...  quad_injury        headache     dental_exam  foot_pain   \n",
       "3  ...     eye_exam          myopia  peanut_allergy  hay_fever   \n",
       "4  ...  quad_injury      cut_finger        headache   ACL_tear   \n",
       "\n",
       "                 3                2             1            0 label  \\\n",
       "0         ACL_tear     ankle_sprain  ankle_sprain  tachycardia     0   \n",
       "1       cut_finger     ingrown_nail           CHF        apnea     1   \n",
       "2         headache      dental_exam      ACL_tear     eye_exam     0   \n",
       "3           myopia  annual_physical      headache     headache     1   \n",
       "4  annual_physical      quad_injury      headache  dental_exam     1   \n",
       "\n",
       "   patient_id  \n",
       "0  XCR8CS7TK3  \n",
       "1  ELGHNAU6ES  \n",
       "2  96NBVNP9W4  \n",
       "3  VYDH3LX0RJ  \n",
       "4  X2FESVIS2O  \n",
       "\n",
       "[5 rows x 903 columns]"
      ]
     },
     "execution_count": 31,
     "metadata": {},
     "output_type": "execute_result"
    }
   ],
   "source": [
    "df = pd.read_csv(TRAIN_FP)\n",
    "print(df.shape)\n",
    "df.head()"
   ]
  },
  {
   "cell_type": "code",
   "execution_count": null,
   "metadata": {},
   "outputs": [],
   "source": []
  },
  {
   "cell_type": "code",
   "execution_count": null,
   "metadata": {},
   "outputs": [],
   "source": []
  },
  {
   "cell_type": "code",
   "execution_count": null,
   "metadata": {},
   "outputs": [],
   "source": []
  },
  {
   "cell_type": "code",
   "execution_count": null,
   "metadata": {},
   "outputs": [],
   "source": []
  }
 ],
 "metadata": {
  "kernelspec": {
   "display_name": "conda_python3",
   "language": "python",
   "name": "conda_python3"
  },
  "language_info": {
   "codemirror_mode": {
    "name": "ipython",
    "version": 3
   },
   "file_extension": ".py",
   "mimetype": "text/x-python",
   "name": "python",
   "nbconvert_exporter": "python",
   "pygments_lexer": "ipython3",
   "version": "3.6.10"
  }
 },
 "nbformat": 4,
 "nbformat_minor": 4
}
