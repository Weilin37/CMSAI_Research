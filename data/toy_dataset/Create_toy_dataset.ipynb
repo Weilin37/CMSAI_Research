{
 "cells": [
  {
   "cell_type": "markdown",
   "metadata": {},
   "source": [
    "## Synthetic dataset generation\n",
    "Author: Lin Lee Cheong <br>\n",
    "Date: 12/12/ 2020 <br>\n",
    "\n",
    "Goal of this synthetic dataset is to create datasets to help understand how different relationships between tokens affect attention, SHAP and other interpretability factors.\n",
    "- length of events (30, 300, 900)\n",
    "- spacing between 2+ coupled events, i.e. order of sequence matters\n",
    "- amount of noise, i.e. performance vs interpretability\n",
    "- vocabulary space"
   ]
  },
  {
   "cell_type": "code",
   "execution_count": 1,
   "metadata": {},
   "outputs": [],
   "source": [
    "import yaml\n",
    "import string\n",
    "import random\n",
    "import os\n",
    "import pandas as pd"
   ]
  },
  {
   "cell_type": "code",
   "execution_count": 2,
   "metadata": {},
   "outputs": [
    {
     "name": "stdout",
     "output_type": "stream",
     "text": [
      "adverse_tokens: 4 tokens\n",
      "adverse_helper_tokens: 6 tokens\n",
      "adverse_unhelper_tokens: 5 tokens\n",
      "noise_tokens: 15 tokens\n"
     ]
    }
   ],
   "source": [
    "token_names_fp = './tokens.yaml'\n",
    "with open(token_names_fp, 'r') as tokens:\n",
    "    tokens = yaml.safe_load(tokens)\n",
    "\n",
    "for key in tokens.keys():\n",
    "    print(f\"{key}: {len(tokens[key])} tokens\")"
   ]
  },
  {
   "cell_type": "code",
   "execution_count": 3,
   "metadata": {},
   "outputs": [],
   "source": [
    "output_file = './train_ae_prob1.csv'\n",
    "uid_colname = 'patient_id'\n",
    "uid_len = 10\n",
    "\n",
    "seq_len = 30"
   ]
  },
  {
   "cell_type": "markdown",
   "metadata": {},
   "source": [
    "Base functions"
   ]
  },
  {
   "cell_type": "code",
   "execution_count": 29,
   "metadata": {},
   "outputs": [],
   "source": [
    "def get_uid(uid_len):\n",
    "    return ''.join(random.choices(string.ascii_uppercase + string.digits, k=uid_len))\n",
    "\n",
    "def get_idx_tok(seq_len, token_dict, token_key, n_pairs):\n",
    "    return ([(random.choices(range(seq_len), k=1)[0], random.choices(token_dict[token_key], k=1)[0]) \n",
    "             for _ in range(n_pairs)])\n",
    "\n",
    "def get_tokens(seq_len, token_dict, token_key, n_tokens):\n",
    "    return random.choices(token_dict[token_key], k=n_tokens)\n",
    "\n",
    "def get_label(prob_label, target):\n",
    "    return target if random.random() <= prob_label else 1 - target"
   ]
  },
  {
   "cell_type": "code",
   "execution_count": 30,
   "metadata": {},
   "outputs": [],
   "source": [
    "def save_csv(df, fp):\n",
    "    if not os.path.isdir(os.path.split(fp)[0]):\n",
    "        os.makedirs(os.path.split(fp)[0])\n",
    "        \n",
    "    df.to_csv(fp, index=False)"
   ]
  },
  {
   "cell_type": "markdown",
   "metadata": {},
   "source": [
    "Sequence generation functions"
   ]
  },
  {
   "cell_type": "code",
   "execution_count": 31,
   "metadata": {},
   "outputs": [],
   "source": [
    "def get_a_sequence(adverse, helper, unhelper, seq_len, label):\n",
    "    '''creates sequence + label (at the end of list). returns list of list'''\n",
    "    n_noise = random.choices(range(adverse + helper + unhelper + 1, seq_len), k=1)[0] - (adverse + helper + unhelper) \n",
    "    \n",
    "    sel_adverse, sel_helper, sel_unhelper = [], [], []\n",
    "\n",
    "    if adverse:\n",
    "        sel_adverse = get_idx_tok(seq_len, tokens, 'adverse_tokens', adverse)\n",
    "    if helper:\n",
    "        sel_helper = get_idx_tok(seq_len, tokens, 'adverse_helper_tokens', helper)\n",
    "    if unhelper:\n",
    "        sel_unhelper = get_idx_tok(seq_len, tokens, 'adverse_unhelper_tokens', unhelper)\n",
    "\n",
    "    sel_noise = get_tokens(seq_len, tokens, 'noise_tokens', n_noise)\n",
    "\n",
    "    for idx, event in sel_adverse + sel_helper + sel_unhelper:\n",
    "        sel_noise.insert(idx, event)\n",
    "        \n",
    "    sel_noise = [\"<PAD>\"] * (seq_len - len(sel_noise)) + sel_noise\n",
    "    \n",
    "    sim_lab = get_label(0.9, target=label)\n",
    "    return sel_noise + [sim_lab]"
   ]
  },
  {
   "cell_type": "code",
   "execution_count": 32,
   "metadata": {},
   "outputs": [],
   "source": [
    "def get_sequences(adverse, helper, unhelper, seq_len, label, uid_len, uid_colname, n_seq):\n",
    "    sequences = [\n",
    "        get_a_sequence(\n",
    "            adverse=adverse, \n",
    "            helper=helper, \n",
    "            unhelper=unhelper,\n",
    "            seq_len=seq_len,\n",
    "            label=label\n",
    "        ) + [get_uid(uid_len)]\n",
    "    for _ in range(n_seq)]\n",
    "    \n",
    "    seq_df = pd.DataFrame(sequences)\n",
    "    seq_df.columns = [str(x) for x in range(seq_len-1, -1, -1)] + ['label', uid_colname]\n",
    "    \n",
    "    return seq_df"
   ]
  },
  {
   "cell_type": "markdown",
   "metadata": {},
   "source": [
    "### Simple dataset"
   ]
  },
  {
   "cell_type": "markdown",
   "metadata": {},
   "source": [
    "Get simple dataset:\n",
    "- positive set: (+++, 1 major + a helper), (++, 1 major), (+, 3 helper)\n",
    "- negative set: (---, 3 unhelper), (--, 1 helper + 2 unhelper), (-, 2 helper + 1 unhelper)\n",
    "\n",
    "\n",
    "**NOTES**<br>\n",
    "n_ppp_adverse = 2000 # 1 adverse event + 1 helper event <br>\n",
    "n_pp_adverse = 2000 # 1 adverse event <br>\n",
    "n_p_adverse = 2000 # 3 helper events <br><br>\n",
    "n_nnn_adverse = 2000 # 3 unhelper events <br>\n",
    "n_nn_adverse = 2000 # 1 helper + 2 unhelper <br>\n",
    "n_n_adverse = 2000 # 2 helper + 1 unhelper <br>"
   ]
  },
  {
   "cell_type": "code",
   "execution_count": 33,
   "metadata": {},
   "outputs": [],
   "source": [
    "def get_simple_dataset(seq_len, uid_len, uid_colname, count_dict):\n",
    "    ppp = get_sequences(adverse=1, helper=1, unhelper=0, seq_len=seq_len, label=1, uid_len=uid_len,\n",
    "                    uid_colname=uid_colname, n_seq=count_dict['n_ppp_adverse'])\n",
    "    pp = get_sequences(adverse=1, helper=0, unhelper=0, seq_len=seq_len, label=1, uid_len=uid_len,\n",
    "                    uid_colname=uid_colname, n_seq=count_dict['n_pp_adverse'])\n",
    "    p = get_sequences(adverse=0, helper=3, unhelper=0, seq_len=seq_len, label=1, uid_len=uid_len,\n",
    "                    uid_colname=uid_colname, n_seq=count_dict['n_p_adverse'])\n",
    "    nnn = get_sequences(adverse=0, helper=0, unhelper=3, seq_len=seq_len, label=0, uid_len=uid_len,\n",
    "                    uid_colname=uid_colname, n_seq=count_dict['n_nnn_adverse'])\n",
    "    nn = get_sequences(adverse=0, helper=1, unhelper=2, seq_len=seq_len, label=0, uid_len=uid_len,\n",
    "                    uid_colname=uid_colname, n_seq=count_dict['n_nn_adverse'])\n",
    "    n = get_sequences(adverse=0, helper=2, unhelper=1, seq_len=seq_len, label=0, uid_len=uid_len,\n",
    "                    uid_colname=uid_colname, n_seq=count_dict['n_n_adverse'])\n",
    "    \n",
    "    dataset = pd.concat([ppp, pp, p, n, nn, nnn], axis=0)\n",
    "    dataset.reset_index(inplace=True)\n",
    "    indexes = [idx for idx in range(dataset.shape[0])]\n",
    "    random.shuffle(indexes)\n",
    "    dataset = dataset.iloc[indexes, :]\n",
    "    \n",
    "    print(f\"dataset: {dataset.shape}\")\n",
    "    print(f\"ratio:\\n{dataset.label.value_counts(normalize=True)}\\n\")\n",
    "    \n",
    "    return dataset"
   ]
  },
  {
   "cell_type": "code",
   "execution_count": 36,
   "metadata": {},
   "outputs": [],
   "source": [
    "nrows = 1000\n",
    "train_count_dict = {\n",
    "    'n_ppp_adverse': nrows,\n",
    "    'n_pp_adverse': nrows,\n",
    "    'n_p_adverse': nrows,\n",
    "    'n_nnn_adverse': nrows,\n",
    "    'n_nn_adverse': nrows,\n",
    "    'n_n_adverse': nrows\n",
    "}\n",
    "\n",
    "test_count_dict = {\n",
    "    'n_ppp_adverse': nrows,\n",
    "    'n_pp_adverse': nrows,\n",
    "    'n_p_adverse': nrows,\n",
    "    'n_nnn_adverse': nrows,\n",
    "    'n_nn_adverse': nrows,\n",
    "    'n_n_adverse': nrows\n",
    "}\n"
   ]
  },
  {
   "cell_type": "code",
   "execution_count": 37,
   "metadata": {},
   "outputs": [
    {
     "name": "stdout",
     "output_type": "stream",
     "text": [
      "dataset: (18000, 33)\n",
      "ratio:\n",
      "0    0.503278\n",
      "1    0.496722\n",
      "Name: label, dtype: float64\n",
      "\n",
      "dataset: (18000, 33)\n",
      "ratio:\n",
      "1    0.502\n",
      "0    0.498\n",
      "Name: label, dtype: float64\n",
      "\n"
     ]
    }
   ],
   "source": [
    "train_simple_data = get_simple_dataset(\n",
    "    seq_len=seq_len, uid_len=uid_len, uid_colname=uid_colname, count_dict=train_count_dict)\n",
    "\n",
    "test_simple_data = get_simple_dataset(\n",
    "    seq_len=seq_len, uid_len=uid_len, uid_colname=uid_colname, count_dict=test_count_dict)"
   ]
  },
  {
   "cell_type": "code",
   "execution_count": 38,
   "metadata": {},
   "outputs": [],
   "source": [
    "save_csv(train_simple_data, './train.csv')\n",
    "save_csv(test_simple_data, './test.csv')"
   ]
  },
  {
   "cell_type": "code",
   "execution_count": null,
   "metadata": {},
   "outputs": [],
   "source": []
  },
  {
   "cell_type": "code",
   "execution_count": null,
   "metadata": {},
   "outputs": [],
   "source": []
  },
  {
   "cell_type": "code",
   "execution_count": 1,
   "metadata": {},
   "outputs": [],
   "source": [
    "import pandas as pd"
   ]
  },
  {
   "cell_type": "code",
   "execution_count": 2,
   "metadata": {},
   "outputs": [],
   "source": [
    "df = pd.read_csv(\"./test.csv\")"
   ]
  },
  {
   "cell_type": "code",
   "execution_count": 3,
   "metadata": {},
   "outputs": [
    {
     "data": {
      "text/html": [
       "<div>\n",
       "<style scoped>\n",
       "    .dataframe tbody tr th:only-of-type {\n",
       "        vertical-align: middle;\n",
       "    }\n",
       "\n",
       "    .dataframe tbody tr th {\n",
       "        vertical-align: top;\n",
       "    }\n",
       "\n",
       "    .dataframe thead th {\n",
       "        text-align: right;\n",
       "    }\n",
       "</style>\n",
       "<table border=\"1\" class=\"dataframe\">\n",
       "  <thead>\n",
       "    <tr style=\"text-align: right;\">\n",
       "      <th></th>\n",
       "      <th>index</th>\n",
       "      <th>29</th>\n",
       "      <th>28</th>\n",
       "      <th>27</th>\n",
       "      <th>26</th>\n",
       "      <th>25</th>\n",
       "      <th>24</th>\n",
       "      <th>23</th>\n",
       "      <th>22</th>\n",
       "      <th>21</th>\n",
       "      <th>...</th>\n",
       "      <th>7</th>\n",
       "      <th>6</th>\n",
       "      <th>5</th>\n",
       "      <th>4</th>\n",
       "      <th>3</th>\n",
       "      <th>2</th>\n",
       "      <th>1</th>\n",
       "      <th>0</th>\n",
       "      <th>label</th>\n",
       "      <th>patient_id</th>\n",
       "    </tr>\n",
       "  </thead>\n",
       "  <tbody>\n",
       "    <tr>\n",
       "      <th>0</th>\n",
       "      <td>359</td>\n",
       "      <td>&lt;PAD&gt;</td>\n",
       "      <td>&lt;PAD&gt;</td>\n",
       "      <td>&lt;PAD&gt;</td>\n",
       "      <td>&lt;PAD&gt;</td>\n",
       "      <td>&lt;PAD&gt;</td>\n",
       "      <td>&lt;PAD&gt;</td>\n",
       "      <td>&lt;PAD&gt;</td>\n",
       "      <td>&lt;PAD&gt;</td>\n",
       "      <td>&lt;PAD&gt;</td>\n",
       "      <td>...</td>\n",
       "      <td>cut_finger</td>\n",
       "      <td>quad_injury</td>\n",
       "      <td>dental_exam</td>\n",
       "      <td>myopia</td>\n",
       "      <td>quad_injury</td>\n",
       "      <td>foot_pain</td>\n",
       "      <td>ingrown_nail</td>\n",
       "      <td>pneumonia</td>\n",
       "      <td>1</td>\n",
       "      <td>4EP65V0W0P</td>\n",
       "    </tr>\n",
       "    <tr>\n",
       "      <th>1</th>\n",
       "      <td>2099</td>\n",
       "      <td>&lt;PAD&gt;</td>\n",
       "      <td>&lt;PAD&gt;</td>\n",
       "      <td>&lt;PAD&gt;</td>\n",
       "      <td>&lt;PAD&gt;</td>\n",
       "      <td>&lt;PAD&gt;</td>\n",
       "      <td>&lt;PAD&gt;</td>\n",
       "      <td>&lt;PAD&gt;</td>\n",
       "      <td>&lt;PAD&gt;</td>\n",
       "      <td>ingrown_nail</td>\n",
       "      <td>...</td>\n",
       "      <td>ingrown_nail</td>\n",
       "      <td>backache</td>\n",
       "      <td>cold_sore</td>\n",
       "      <td>annual_physical</td>\n",
       "      <td>annual_physical</td>\n",
       "      <td>cut_finger</td>\n",
       "      <td>cold_sore</td>\n",
       "      <td>resistent_hyp</td>\n",
       "      <td>1</td>\n",
       "      <td>2R08SO4PSC</td>\n",
       "    </tr>\n",
       "    <tr>\n",
       "      <th>2</th>\n",
       "      <td>1999</td>\n",
       "      <td>&lt;PAD&gt;</td>\n",
       "      <td>&lt;PAD&gt;</td>\n",
       "      <td>&lt;PAD&gt;</td>\n",
       "      <td>&lt;PAD&gt;</td>\n",
       "      <td>&lt;PAD&gt;</td>\n",
       "      <td>&lt;PAD&gt;</td>\n",
       "      <td>&lt;PAD&gt;</td>\n",
       "      <td>&lt;PAD&gt;</td>\n",
       "      <td>&lt;PAD&gt;</td>\n",
       "      <td>...</td>\n",
       "      <td>&lt;PAD&gt;</td>\n",
       "      <td>&lt;PAD&gt;</td>\n",
       "      <td>&lt;PAD&gt;</td>\n",
       "      <td>cut_finger</td>\n",
       "      <td>ACL_tear</td>\n",
       "      <td>pneumonia</td>\n",
       "      <td>pneumonia</td>\n",
       "      <td>ACE_inhibitors</td>\n",
       "      <td>0</td>\n",
       "      <td>74RRLFB67Y</td>\n",
       "    </tr>\n",
       "    <tr>\n",
       "      <th>3</th>\n",
       "      <td>1091</td>\n",
       "      <td>&lt;PAD&gt;</td>\n",
       "      <td>&lt;PAD&gt;</td>\n",
       "      <td>&lt;PAD&gt;</td>\n",
       "      <td>&lt;PAD&gt;</td>\n",
       "      <td>&lt;PAD&gt;</td>\n",
       "      <td>&lt;PAD&gt;</td>\n",
       "      <td>&lt;PAD&gt;</td>\n",
       "      <td>&lt;PAD&gt;</td>\n",
       "      <td>&lt;PAD&gt;</td>\n",
       "      <td>...</td>\n",
       "      <td>&lt;PAD&gt;</td>\n",
       "      <td>&lt;PAD&gt;</td>\n",
       "      <td>headache</td>\n",
       "      <td>myopia</td>\n",
       "      <td>hay_fever</td>\n",
       "      <td>apnea</td>\n",
       "      <td>PCI</td>\n",
       "      <td>low_salt_diet</td>\n",
       "      <td>0</td>\n",
       "      <td>98Y975BL1S</td>\n",
       "    </tr>\n",
       "    <tr>\n",
       "      <th>4</th>\n",
       "      <td>2683</td>\n",
       "      <td>&lt;PAD&gt;</td>\n",
       "      <td>&lt;PAD&gt;</td>\n",
       "      <td>&lt;PAD&gt;</td>\n",
       "      <td>&lt;PAD&gt;</td>\n",
       "      <td>&lt;PAD&gt;</td>\n",
       "      <td>annual_physical</td>\n",
       "      <td>ankle_sprain</td>\n",
       "      <td>cold_sore</td>\n",
       "      <td>myopia</td>\n",
       "      <td>...</td>\n",
       "      <td>myopia</td>\n",
       "      <td>ACL_tear</td>\n",
       "      <td>annual_physical</td>\n",
       "      <td>ankle_sprain</td>\n",
       "      <td>ACL_tear</td>\n",
       "      <td>high_creatinine</td>\n",
       "      <td>high_creatinine</td>\n",
       "      <td>normal_bmi</td>\n",
       "      <td>0</td>\n",
       "      <td>2FYWDMZI6R</td>\n",
       "    </tr>\n",
       "  </tbody>\n",
       "</table>\n",
       "<p>5 rows × 33 columns</p>\n",
       "</div>"
      ],
      "text/plain": [
       "   index     29     28     27     26     25               24            23  \\\n",
       "0    359  <PAD>  <PAD>  <PAD>  <PAD>  <PAD>            <PAD>         <PAD>   \n",
       "1   2099  <PAD>  <PAD>  <PAD>  <PAD>  <PAD>            <PAD>         <PAD>   \n",
       "2   1999  <PAD>  <PAD>  <PAD>  <PAD>  <PAD>            <PAD>         <PAD>   \n",
       "3   1091  <PAD>  <PAD>  <PAD>  <PAD>  <PAD>            <PAD>         <PAD>   \n",
       "4   2683  <PAD>  <PAD>  <PAD>  <PAD>  <PAD>  annual_physical  ankle_sprain   \n",
       "\n",
       "          22            21  ...             7            6                5  \\\n",
       "0      <PAD>         <PAD>  ...    cut_finger  quad_injury      dental_exam   \n",
       "1      <PAD>  ingrown_nail  ...  ingrown_nail     backache        cold_sore   \n",
       "2      <PAD>         <PAD>  ...         <PAD>        <PAD>            <PAD>   \n",
       "3      <PAD>         <PAD>  ...         <PAD>        <PAD>         headache   \n",
       "4  cold_sore        myopia  ...        myopia     ACL_tear  annual_physical   \n",
       "\n",
       "                 4                3                2                1  \\\n",
       "0           myopia      quad_injury        foot_pain     ingrown_nail   \n",
       "1  annual_physical  annual_physical       cut_finger        cold_sore   \n",
       "2       cut_finger         ACL_tear        pneumonia        pneumonia   \n",
       "3           myopia        hay_fever            apnea              PCI   \n",
       "4     ankle_sprain         ACL_tear  high_creatinine  high_creatinine   \n",
       "\n",
       "                0 label  patient_id  \n",
       "0       pneumonia     1  4EP65V0W0P  \n",
       "1   resistent_hyp     1  2R08SO4PSC  \n",
       "2  ACE_inhibitors     0  74RRLFB67Y  \n",
       "3   low_salt_diet     0  98Y975BL1S  \n",
       "4      normal_bmi     0  2FYWDMZI6R  \n",
       "\n",
       "[5 rows x 33 columns]"
      ]
     },
     "execution_count": 3,
     "metadata": {},
     "output_type": "execute_result"
    }
   ],
   "source": [
    "df.head()"
   ]
  },
  {
   "cell_type": "code",
   "execution_count": null,
   "metadata": {},
   "outputs": [],
   "source": []
  }
 ],
 "metadata": {
  "kernelspec": {
   "display_name": "conda_python3",
   "language": "python",
   "name": "conda_python3"
  },
  "language_info": {
   "codemirror_mode": {
    "name": "ipython",
    "version": 3
   },
   "file_extension": ".py",
   "mimetype": "text/x-python",
   "name": "python",
   "nbconvert_exporter": "python",
   "pygments_lexer": "ipython3",
   "version": "3.6.10"
  }
 },
 "nbformat": 4,
 "nbformat_minor": 4
}
