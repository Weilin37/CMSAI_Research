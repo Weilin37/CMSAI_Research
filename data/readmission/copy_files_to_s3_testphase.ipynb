{
 "cells": [
  {
   "cell_type": "code",
   "execution_count": 1,
   "metadata": {},
   "outputs": [],
   "source": [
    "import boto3, os"
   ]
  },
  {
   "cell_type": "code",
   "execution_count": 2,
   "metadata": {},
   "outputs": [],
   "source": [
    "s3 = boto3.resource('s3')"
   ]
  },
  {
   "cell_type": "markdown",
   "metadata": {},
   "source": [
    "**TESTPHASE RAW DATA**"
   ]
  },
  {
   "cell_type": "code",
   "execution_count": 3,
   "metadata": {},
   "outputs": [],
   "source": [
    "main_dir = \"../../data/readmission/raw_data/\"\n",
    "filenames = [\n",
    "    \"readmissions_data_new_365.csv\",\n",
    "    \"readmissions_data_testphase_1000_30days.csv\",\n",
    "    \"readmissions_data_testphase_1000_365days.csv\",\n",
    "]"
   ]
  },
  {
   "cell_type": "code",
   "execution_count": 4,
   "metadata": {},
   "outputs": [
    {
     "name": "stdout",
     "output_type": "stream",
     "text": [
      "Written to : FinalData/RE/Data/Preprocessed/Raw/TestPhase/readmissions_data_new_365.csv\n",
      "Written to : FinalData/RE/Data/Preprocessed/Raw/TestPhase/readmissions_data_testphase_1000_30days.csv\n",
      "Written to : FinalData/RE/Data/Preprocessed/Raw/TestPhase/readmissions_data_testphase_1000_365days.csv\n"
     ]
    }
   ],
   "source": [
    "for filename in filenames:\n",
    "    fp = os.path.join(main_dir, filename)\n",
    "    destination = f'FinalData/RE/Data/Preprocessed/Raw/TestPhase/{filename}' \n",
    "    s3.meta.client.upload_file(fp, 'cmsai-mrk-amzn', destination)\n",
    "    print(f'Written to : {destination}')"
   ]
  },
  {
   "cell_type": "markdown",
   "metadata": {},
   "source": [
    "**TESTPHASE ANONYMIZED DATA**"
   ]
  },
  {
   "cell_type": "code",
   "execution_count": 5,
   "metadata": {},
   "outputs": [],
   "source": [
    "main_dir = \"../../data/readmission/raw_data/\"\n",
    "filenames = [\n",
    "    \"readmissions_data_new_365_anony.csv\",\n",
    "    \"readmissions_data_testphase_1000_30days_anony.csv\",\n",
    "    \"readmissions_data_testphase_1000_365days_anony.csv\",\n",
    "]"
   ]
  },
  {
   "cell_type": "code",
   "execution_count": 6,
   "metadata": {},
   "outputs": [
    {
     "name": "stdout",
     "output_type": "stream",
     "text": [
      "Written to : FinalData/RE/Data/Preprocessed/Anonymized/TestPhase/readmissions_data_new_365_anony.csv\n",
      "Written to : FinalData/RE/Data/Preprocessed/Anonymized/TestPhase/readmissions_data_testphase_1000_30days_anony.csv\n",
      "Written to : FinalData/RE/Data/Preprocessed/Anonymized/TestPhase/readmissions_data_testphase_1000_365days_anony.csv\n"
     ]
    }
   ],
   "source": [
    "for filename in filenames:\n",
    "    fp = os.path.join(main_dir, filename)\n",
    "    destination = f'FinalData/RE/Data/Preprocessed/Anonymized/TestPhase/{filename}' \n",
    "    s3.meta.client.upload_file(fp, 'cmsai-mrk-amzn', destination)\n",
    "    print(f'Written to : {destination}')"
   ]
  },
  {
   "cell_type": "code",
   "execution_count": null,
   "metadata": {},
   "outputs": [],
   "source": []
  },
  {
   "cell_type": "code",
   "execution_count": null,
   "metadata": {},
   "outputs": [],
   "source": []
  }
 ],
 "metadata": {
  "kernelspec": {
   "display_name": "conda_pytorch_latest_p36",
   "language": "python",
   "name": "conda_pytorch_latest_p36"
  },
  "language_info": {
   "codemirror_mode": {
    "name": "ipython",
    "version": 3
   },
   "file_extension": ".py",
   "mimetype": "text/x-python",
   "name": "python",
   "nbconvert_exporter": "python",
   "pygments_lexer": "ipython3",
   "version": "3.6.10"
  }
 },
 "nbformat": 4,
 "nbformat_minor": 4
}
