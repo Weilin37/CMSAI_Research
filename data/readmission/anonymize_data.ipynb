{
 "cells": [
  {
   "cell_type": "markdown",
   "metadata": {},
   "source": [
    "## Anonymize data (Patient_id, Discharge_id)\n",
    "\n",
    "Author: Lin Lee Cheong <br>\n",
    "Last Update: 11/23/2020"
   ]
  },
  {
   "cell_type": "code",
   "execution_count": 1,
   "metadata": {},
   "outputs": [],
   "source": [
    "import csv\n",
    "import json"
   ]
  },
  {
   "cell_type": "code",
   "execution_count": 2,
   "metadata": {},
   "outputs": [],
   "source": [
    "map_fp = './patient_id_mappings.json'\n",
    "with open(map_fp) as f:\n",
    "    mapping = json.load(f)"
   ]
  },
  {
   "cell_type": "code",
   "execution_count": 3,
   "metadata": {},
   "outputs": [],
   "source": [
    "def anonymize(org_fp, new_fp, mapping):\n",
    "    print(f'Anonymizing: {org_fp}')\n",
    "    with open(org_fp, \"r\") as in_fh, open(new_fp, \"w+\") as out_fh:\n",
    "\n",
    "        writer = csv.writer(out_fh, delimiter=',')\n",
    "        reader = csv.reader(in_fh)\n",
    "\n",
    "        header = next(reader)\n",
    "        pid_idx = header.index('patient_id')\n",
    "        did_idx = header.index('discharge_id')\n",
    "        writer.writerow(header)\n",
    "\n",
    "        for idx, row in enumerate(reader):\n",
    "            try:\n",
    "                if '.' in row[pid_idx]:\n",
    "                    new_pid = mapping[str(int(float(row[pid_idx])))]\n",
    "                else:\n",
    "                    new_pid = mapping[row[pid_idx]]\n",
    "            except:\n",
    "                print(row[pid_idx])\n",
    "                print(row[did_idx])\n",
    "                print(row)\n",
    "                print(idx)\n",
    "                raise Exception('Something wrong in mapping')\n",
    "            row[did_idx] = row[did_idx].replace(row[pid_idx], new_pid)\n",
    "            row[pid_idx] = new_pid\n",
    "\n",
    "            writer.writerow(row)\n",
    "    print(f'Finished, write to: {new_fp}')"
   ]
  },
  {
   "cell_type": "markdown",
   "metadata": {},
   "source": [
    "**ANONYMIZE RAW_DATA**"
   ]
  },
  {
   "cell_type": "code",
   "execution_count": 4,
   "metadata": {},
   "outputs": [
    {
     "name": "stdout",
     "output_type": "stream",
     "text": [
      "Anonymizing: ./raw_data/readmission_input_targets_365_v2.csv\n",
      "Finished, write to: ./raw_data/readmission_input_targets_365_v2_anony.csv\n"
     ]
    }
   ],
   "source": [
    "raw_org_fp = './raw_data/readmission_input_targets_365_v2.csv'\n",
    "raw_new_fp = './raw_data/readmission_input_targets_365_v2_anony.csv'\n",
    "\n",
    "anonymize(raw_org_fp, raw_new_fp, mapping)"
   ]
  },
  {
   "cell_type": "markdown",
   "metadata": {},
   "source": [
    "**ANONYMIZE RAW_DATA IN FOLDS**"
   ]
  },
  {
   "cell_type": "code",
   "execution_count": 6,
   "metadata": {},
   "outputs": [
    {
     "name": "stdout",
     "output_type": "stream",
     "text": [
      "Anonymizing: ./fold_0/train/raw_train_data.csv\n",
      "Finished, write to: ./fold_0/train/raw_train_data_anony.csv\n",
      "Anonymizing: ./fold_1/train/raw_train_data.csv\n",
      "Finished, write to: ./fold_1/train/raw_train_data_anony.csv\n",
      "Anonymizing: ./fold_2/train/raw_train_data.csv\n",
      "Finished, write to: ./fold_2/train/raw_train_data_anony.csv\n",
      "Anonymizing: ./fold_3/train/raw_train_data.csv\n",
      "Finished, write to: ./fold_3/train/raw_train_data_anony.csv\n",
      "Anonymizing: ./fold_4/train/raw_train_data.csv\n",
      "Finished, write to: ./fold_4/train/raw_train_data_anony.csv\n",
      "Anonymizing: ./fold_0/test/raw_test_data.csv\n",
      "Finished, write to: ./fold_0/test/raw_test_data_anony.csv\n",
      "Anonymizing: ./fold_1/test/raw_test_data.csv\n",
      "Finished, write to: ./fold_1/test/raw_test_data_anony.csv\n",
      "Anonymizing: ./fold_2/test/raw_test_data.csv\n",
      "Finished, write to: ./fold_2/test/raw_test_data_anony.csv\n",
      "Anonymizing: ./fold_3/test/raw_test_data.csv\n",
      "Finished, write to: ./fold_3/test/raw_test_data_anony.csv\n",
      "Anonymizing: ./fold_4/test/raw_test_data.csv\n",
      "Finished, write to: ./fold_4/test/raw_test_data_anony.csv\n"
     ]
    }
   ],
   "source": [
    "org_train_fps = [f'./fold_{idx}/train/raw_train_data.csv' for idx in range(5)]\n",
    "org_test_fps = [f'./fold_{idx}/test/raw_test_data.csv' for idx in range(5)]\n",
    "\n",
    "new_train_fps = [f'./fold_{idx}/train/raw_train_data_anony.csv' for idx in range(5)]\n",
    "new_test_fps = [f'./fold_{idx}/test/raw_test_data_anony.csv' for idx in range(5)]\n",
    "\n",
    "for org_fp, new_fp in zip(org_train_fps, new_train_fps):\n",
    "    anonymize(org_fp, new_fp, mapping)\n",
    "    \n",
    "for org_fp, new_fp in zip(org_test_fps, new_test_fps):\n",
    "    anonymize(org_fp, new_fp, mapping)"
   ]
  },
  {
   "cell_type": "markdown",
   "metadata": {},
   "source": [
    "**ANONYMIZE FLATTENED 365 DAYS DATA**"
   ]
  },
  {
   "cell_type": "code",
   "execution_count": 49,
   "metadata": {
    "scrolled": false
   },
   "outputs": [
    {
     "name": "stdout",
     "output_type": "stream",
     "text": [
      "Anonymizing: ./fold_0/test/raw_test_data_1000_365days.csv\n",
      "Finished, write to: ./fold_0/test/raw_test_data_1000_365days_anony.csv\n",
      "Anonymizing: ./fold_1/test/raw_test_data_1000_365days.csv\n",
      "Finished, write to: ./fold_1/test/raw_test_data_1000_365days_anony.csv\n",
      "Anonymizing: ./fold_2/test/raw_test_data_1000_365days.csv\n",
      "Finished, write to: ./fold_2/test/raw_test_data_1000_365days_anony.csv\n",
      "Anonymizing: ./fold_3/test/raw_test_data_1000_365days.csv\n",
      "Finished, write to: ./fold_3/test/raw_test_data_1000_365days_anony.csv\n",
      "Anonymizing: ./fold_4/test/raw_test_data_1000_365days.csv\n",
      "Finished, write to: ./fold_4/test/raw_test_data_1000_365days_anony.csv\n"
     ]
    }
   ],
   "source": [
    "org_test_fps = [f'./fold_{idx}/test/raw_test_data_1000_365days.csv' for idx in range(5)]\n",
    "new_test_fps = [f'./fold_{idx}/test/raw_test_data_1000_365days_anony.csv' for idx in range(5)]\n",
    " \n",
    "for org_fp, new_fp in zip(org_test_fps, new_test_fps):\n",
    "    anonymize(org_fp, new_fp, mapping)"
   ]
  },
  {
   "cell_type": "code",
   "execution_count": 4,
   "metadata": {
    "scrolled": false
   },
   "outputs": [
    {
     "name": "stdout",
     "output_type": "stream",
     "text": [
      "Anonymizing: ./fold_0/train/raw_train_data_1000_365days.csv\n",
      "Finished, write to: ./fold_0/train/raw_train_data_1000_365days_anony.csv\n",
      "Anonymizing: ./fold_1/train/raw_train_data_1000_365days.csv\n",
      "Finished, write to: ./fold_1/train/raw_train_data_1000_365days_anony.csv\n",
      "Anonymizing: ./fold_2/train/raw_train_data_1000_365days.csv\n",
      "Finished, write to: ./fold_2/train/raw_train_data_1000_365days_anony.csv\n",
      "Anonymizing: ./fold_3/train/raw_train_data_1000_365days.csv\n",
      "Finished, write to: ./fold_3/train/raw_train_data_1000_365days_anony.csv\n",
      "Anonymizing: ./fold_4/train/raw_train_data_1000_365days.csv\n",
      "Finished, write to: ./fold_4/train/raw_train_data_1000_365days_anony.csv\n"
     ]
    }
   ],
   "source": [
    "org_train_fps = [f'./fold_{idx}/train/raw_train_data_1000_365days.csv' for idx in range(5)]\n",
    "new_train_fps = [f'./fold_{idx}/train/raw_train_data_1000_365days_anony.csv' for idx in range(5)]\n",
    "\n",
    "for org_fp, new_fp in zip(org_train_fps, new_train_fps):\n",
    "    anonymize(org_fp, new_fp, mapping)\n"
   ]
  },
  {
   "cell_type": "markdown",
   "metadata": {},
   "source": [
    "**ANONYMIZE FLATTENED 30 DAYS DATA**"
   ]
  },
  {
   "cell_type": "code",
   "execution_count": 50,
   "metadata": {
    "scrolled": false
   },
   "outputs": [
    {
     "name": "stdout",
     "output_type": "stream",
     "text": [
      "Anonymizing: ./fold_0/test/raw_test_data_1000_30days.csv\n",
      "Finished, write to: ./fold_0/test/raw_test_data_1000_30days_anony.csv\n",
      "Anonymizing: ./fold_1/test/raw_test_data_1000_30days.csv\n",
      "Finished, write to: ./fold_1/test/raw_test_data_1000_30days_anony.csv\n",
      "Anonymizing: ./fold_2/test/raw_test_data_1000_30days.csv\n",
      "Finished, write to: ./fold_2/test/raw_test_data_1000_30days_anony.csv\n",
      "Anonymizing: ./fold_3/test/raw_test_data_1000_30days.csv\n",
      "Finished, write to: ./fold_3/test/raw_test_data_1000_30days_anony.csv\n",
      "Anonymizing: ./fold_4/test/raw_test_data_1000_30days.csv\n",
      "Finished, write to: ./fold_4/test/raw_test_data_1000_30days_anony.csv\n"
     ]
    }
   ],
   "source": [
    "org_test_fps = [f'./fold_{idx}/test/raw_test_data_1000_30days.csv' for idx in range(5)]\n",
    "new_test_fps = [f'./fold_{idx}/test/raw_test_data_1000_30days_anony.csv' for idx in range(5)]\n",
    " \n",
    "for org_fp, new_fp in zip(org_test_fps, new_test_fps):\n",
    "    anonymize(org_fp, new_fp, mapping)"
   ]
  },
  {
   "cell_type": "code",
   "execution_count": null,
   "metadata": {
    "scrolled": false
   },
   "outputs": [
    {
     "name": "stdout",
     "output_type": "stream",
     "text": [
      "Anonymizing: ./fold_0/train/raw_train_data_1000_30days.csv\n",
      "Finished, write to: ./fold_0/train/raw_train_data_1000_30days_anony.csv\n",
      "Anonymizing: ./fold_1/train/raw_train_data_1000_30days.csv\n",
      "Finished, write to: ./fold_1/train/raw_train_data_1000_30days_anony.csv\n",
      "Anonymizing: ./fold_2/train/raw_train_data_1000_30days.csv\n",
      "Finished, write to: ./fold_2/train/raw_train_data_1000_30days_anony.csv\n",
      "Anonymizing: ./fold_3/train/raw_train_data_1000_30days.csv\n",
      "Finished, write to: ./fold_3/train/raw_train_data_1000_30days_anony.csv\n",
      "Anonymizing: ./fold_4/train/raw_train_data_1000_30days.csv\n",
      "Finished, write to: ./fold_4/train/raw_train_data_1000_30days_anony.csv\n"
     ]
    }
   ],
   "source": [
    "org_train_fps = [f'./fold_{idx}/train/raw_train_data_1000_30days.csv' for idx in range(5)]\n",
    "new_train_fps = [f'./fold_{idx}/train/raw_train_data_1000_30days_anony.csv' for idx in range(5)]\n",
    "\n",
    "for org_fp, new_fp in zip(org_train_fps, new_train_fps):\n",
    "    anonymize(org_fp, new_fp, mapping)\n"
   ]
  },
  {
   "cell_type": "markdown",
   "metadata": {},
   "source": [
    "**ANONYMIZE TEST DATA**"
   ]
  },
  {
   "cell_type": "code",
   "execution_count": 6,
   "metadata": {},
   "outputs": [
    {
     "name": "stdout",
     "output_type": "stream",
     "text": [
      "Anonymizing: ./raw_data/readmissions_data_new_365.csv\n",
      "Finished, write to: ./raw_data/readmissions_data_new_365_anony.csv\n"
     ]
    }
   ],
   "source": [
    "org_fp = './raw_data/readmissions_data_new_365.csv'\n",
    "new_fp = './raw_data/readmissions_data_new_365_anony.csv'\n",
    "\n",
    "anonymize(org_fp, new_fp, mapping)"
   ]
  },
  {
   "cell_type": "code",
   "execution_count": 7,
   "metadata": {},
   "outputs": [
    {
     "name": "stdout",
     "output_type": "stream",
     "text": [
      "Anonymizing: ./raw_data/readmissions_data_testphase_1000_30days.csv\n",
      "Finished, write to: ./raw_data/readmissions_data_testphase_1000_30days_anony.csv\n"
     ]
    }
   ],
   "source": [
    "org_fp = './raw_data/readmissions_data_testphase_1000_30days.csv'\n",
    "new_fp = './raw_data/readmissions_data_testphase_1000_30days_anony.csv'\n",
    "\n",
    "anonymize(org_fp, new_fp, mapping)"
   ]
  },
  {
   "cell_type": "code",
   "execution_count": 8,
   "metadata": {},
   "outputs": [
    {
     "name": "stdout",
     "output_type": "stream",
     "text": [
      "Anonymizing: ./raw_data/readmissions_data_testphase_1000_365days.csv\n",
      "Finished, write to: ./raw_data/readmissions_data_testphase_1000_365days_anony.csv\n"
     ]
    }
   ],
   "source": [
    "org_fp = './raw_data/readmissions_data_testphase_1000_365days.csv'\n",
    "new_fp = './raw_data/readmissions_data_testphase_1000_365days_anony.csv'\n",
    "\n",
    "anonymize(org_fp, new_fp, mapping)"
   ]
  },
  {
   "cell_type": "code",
   "execution_count": null,
   "metadata": {},
   "outputs": [],
   "source": []
  }
 ],
 "metadata": {
  "kernelspec": {
   "display_name": "conda_pytorch_latest_p36",
   "language": "python",
   "name": "conda_pytorch_latest_p36"
  },
  "language_info": {
   "codemirror_mode": {
    "name": "ipython",
    "version": 3
   },
   "file_extension": ".py",
   "mimetype": "text/x-python",
   "name": "python",
   "nbconvert_exporter": "python",
   "pygments_lexer": "ipython3",
   "version": "3.6.10"
  }
 },
 "nbformat": 4,
 "nbformat_minor": 4
}
