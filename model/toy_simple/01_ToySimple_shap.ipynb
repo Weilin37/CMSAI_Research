{
 "cells": [
  {
   "cell_type": "code",
   "execution_count": 28,
   "metadata": {},
   "outputs": [
    {
     "name": "stdout",
     "output_type": "stream",
     "text": [
      "Enabling notebook extension jupyter-black-master/jupyter-black...\n",
      "      - Validating: \u001b[32mOK\u001b[0m\n"
     ]
    }
   ],
   "source": [
    "! jupyter nbextension enable jupyter-black-master/jupyter-black"
   ]
  },
  {
   "cell_type": "code",
   "execution_count": 175,
   "metadata": {},
   "outputs": [],
   "source": [
    "import os\n",
    "import time\n",
    "import torch\n",
    "import pandas as pd\n",
    "import numpy as np\n",
    "import time\n",
    "import matplotlib.pyplot as plt\n",
    "import seaborn as sns\n",
    "\n",
    "from collections import Counter\n",
    "\n",
    "import torch\n",
    "import torch.nn as nn\n",
    "from torch.utils.data import DataLoader\n",
    "\n",
    "import deep_id_pytorch\n",
    "\n",
    "from lstm_models import *\n",
    "from model_utils import *"
   ]
  },
  {
   "cell_type": "code",
   "execution_count": 176,
   "metadata": {},
   "outputs": [
    {
     "name": "stdout",
     "output_type": "stream",
     "text": [
      "The autoreload extension is already loaded. To reload it, use:\n",
      "  %reload_ext autoreload\n"
     ]
    }
   ],
   "source": [
    "%load_ext autoreload\n",
    "\n",
    "%autoreload 2"
   ]
  },
  {
   "cell_type": "markdown",
   "metadata": {},
   "source": [
    "## OPTIONS"
   ]
  },
  {
   "cell_type": "code",
   "execution_count": 177,
   "metadata": {},
   "outputs": [],
   "source": [
    "nrows = 1000\n",
    "min_freq = 1\n",
    "\n",
    "train_data_path = \"../../data/toy_dataset/data/train.csv\"\n",
    "valid_data_path = \"../../data/toy_dataset/data/val.csv\"\n",
    "\n",
    "model_save_path = './sample_model/simple_lstm_201215'\n",
    "results_save_path = \"./sample_results/simple_results_201215\"\n",
    "batch_size = 64\n",
    "n_epochs = 5\n",
    "\n",
    "embedding_dim = 8\n",
    "hidden_dim = 16\n",
    "bidirectional = True\n",
    "dropout = 0.3\n",
    "\n",
    "target_colname = 'label'\n",
    "uid_colname = 'patient_id'\n",
    "x_inputs = [str(x) for x in range(29, -1, -1)]\n",
    "target_value = '1'\n",
    "\n",
    "seq_len = 30\n",
    "rev = False"
   ]
  },
  {
   "cell_type": "code",
   "execution_count": 178,
   "metadata": {},
   "outputs": [
    {
     "name": "stdout",
     "output_type": "stream",
     "text": [
      "Cuda available: True\n"
     ]
    }
   ],
   "source": [
    "for fp in [model_save_path, results_save_path]:\n",
    "    if not os.path.isdir(os.path.split(fp)[0]):\n",
    "        print(f'New directory created: {fp}')\n",
    "        os.makedirs(os.path.split(fp)[0])\n",
    "\n",
    "print(f\"Cuda available: {torch.cuda.is_available()}\")\n",
    "model_device = torch.device('cuda' if torch.cuda.is_available() else 'cpu')"
   ]
  },
  {
   "cell_type": "markdown",
   "metadata": {},
   "source": [
    "## Create Vocab and Build Dataset"
   ]
  },
  {
   "cell_type": "code",
   "execution_count": 179,
   "metadata": {},
   "outputs": [
    {
     "name": "stdout",
     "output_type": "stream",
     "text": [
      "Building dataset from ../../data/toy_dataset/data/train.csv..\n",
      "Success!\n",
      "Building dataset from ../../data/toy_dataset/data/val.csv..\n",
      "Success!\n"
     ]
    }
   ],
   "source": [
    "train_dataset, vocab = build_lstm_dataset(\n",
    "                                train_data_path,\n",
    "                                min_freq=min_freq,\n",
    "                                uid_colname=\"patient_id\",\n",
    "                                target_colname=\"label\",\n",
    "                                max_len=seq_len,\n",
    "                                target_value=target_value,\n",
    "                                vocab=None,\n",
    "                                nrows=nrows,\n",
    "                                rev=rev\n",
    "                            )\n",
    "valid_dataset, _ = build_lstm_dataset(\n",
    "                                valid_data_path,\n",
    "                                min_freq=min_freq,\n",
    "                                uid_colname=\"patient_id\",\n",
    "                                target_colname=\"label\",\n",
    "                                max_len=seq_len,\n",
    "                                target_value=target_value,\n",
    "                                vocab=vocab,\n",
    "                                nrows=nrows,\n",
    "                                rev=rev\n",
    "                            )"
   ]
  },
  {
   "cell_type": "code",
   "execution_count": 180,
   "metadata": {},
   "outputs": [],
   "source": [
    "train_dataloader = DataLoader(\n",
    "    train_dataset,\n",
    "    batch_size=batch_size,\n",
    "    shuffle=True,\n",
    "    num_workers=2\n",
    ")\n",
    "\n",
    "valid_dataloader = DataLoader(\n",
    "    valid_dataset,\n",
    "    batch_size=batch_size,\n",
    "    shuffle=False,\n",
    "    num_workers=2\n",
    ")"
   ]
  },
  {
   "cell_type": "markdown",
   "metadata": {},
   "source": [
    "## Model Training"
   ]
  },
  {
   "cell_type": "code",
   "execution_count": 181,
   "metadata": {},
   "outputs": [],
   "source": [
    "model = SimpleLSTM(embedding_dim, hidden_dim, vocab, model_device)\n",
    "model = model.cuda()"
   ]
  },
  {
   "cell_type": "code",
   "execution_count": 182,
   "metadata": {},
   "outputs": [
    {
     "data": {
      "text/plain": [
       "SimpleLSTM(\n",
       "  (emb_layer): Embedding(32, 8, padding_idx=0)\n",
       "  (lstm): LSTM(8, 16, batch_first=True, bidirectional=True)\n",
       "  (pred_layer): Linear(in_features=32, out_features=2, bias=True)\n",
       ")"
      ]
     },
     "execution_count": 182,
     "metadata": {},
     "output_type": "execute_result"
    }
   ],
   "source": [
    "model"
   ]
  },
  {
   "cell_type": "code",
   "execution_count": 183,
   "metadata": {},
   "outputs": [],
   "source": [
    "loss_function = nn.CrossEntropyLoss()\n",
    "optimizer = torch.optim.Adam(model.parameters(), lr=0.05)\n",
    "\n",
    "scheduler = torch.optim.lr_scheduler.StepLR(optimizer, 4, gamma=0.9)"
   ]
  },
  {
   "cell_type": "code",
   "execution_count": 184,
   "metadata": {},
   "outputs": [
    {
     "name": "stdout",
     "output_type": "stream",
     "text": [
      "Epoch: 01 | Epoch Time: 0m 0s\n",
      "Saved Model, epoch 0\n",
      "Train Loss: 0.703 | Train AUC: 0.51 \t Val. Loss: 0.676 |  Val. AUC: 0.6364\n",
      "Epoch: 02 | Epoch Time: 0m 0s\n",
      "Saved Model, epoch 1\n",
      "Train Loss: 0.576 | Train AUC: 0.77 \t Val. Loss: 0.373 |  Val. AUC: 0.9111\n",
      "Epoch: 03 | Epoch Time: 0m 0s\n",
      "Saved Model, epoch 2\n",
      "Train Loss: 0.344 | Train AUC: 0.91 \t Val. Loss: 0.321 |  Val. AUC: 0.9269\n",
      "Epoch: 04 | Epoch Time: 0m 0s\n",
      "Saved Model, epoch 3\n",
      "Train Loss: 0.320 | Train AUC: 0.92 \t Val. Loss: 0.314 |  Val. AUC: 0.9297\n",
      "Epoch: 05 | Epoch Time: 0m 0s\n",
      "Saved Model, epoch 4\n",
      "Train Loss: 0.312 | Train AUC: 0.92 \t Val. Loss: 0.301 |  Val. AUC: 0.9377\n"
     ]
    }
   ],
   "source": [
    "best_valid_loss = float(\"inf\")\n",
    "valid_worse_loss = 0  # enable early stopping\n",
    "stop_num = 10\n",
    "\n",
    "for epoch in range(n_epochs):\n",
    "\n",
    "    start_time = time.time()\n",
    "\n",
    "    train_loss, train_auc = epoch_train_lstm(\n",
    "        model, train_dataloader, optimizer, loss_function\n",
    "    )\n",
    "\n",
    "    valid_loss, valid_auc = epoch_val_lstm(\n",
    "       model, train_dataloader, loss_function)#, return_preds=False\n",
    "    #)\n",
    "    end_time = time.time()\n",
    "\n",
    "    epoch_mins, epoch_secs = epoch_time(start_time, end_time)\n",
    "    \n",
    "    print(f\"Epoch: {epoch+1:02} | Epoch Time: {epoch_mins}m {epoch_secs}s\")\n",
    "\n",
    "    if valid_loss < best_valid_loss:\n",
    "        best_valid_loss = valid_loss\n",
    "        torch.save(model.state_dict(), model_save_path)\n",
    "        print(\"Saved Model, epoch {}\".format(epoch))\n",
    "        valid_worse_loss = 0\n",
    "\n",
    "    else:\n",
    "        valid_worse_loss += 1\n",
    "        if valid_worse_loss == stop_num:\n",
    "            print(\"EARLY STOP ------\")\n",
    "            break\n",
    "\n",
    "    scheduler.step()\n",
    "    print(\n",
    "        f\"Train Loss: {train_loss:.3f} | Train AUC: {train_auc:.2f} \\t Val. Loss: {valid_loss:.3f} |  Val. AUC: {valid_auc:.4f}\"\n",
    "    )"
   ]
  },
  {
   "cell_type": "markdown",
   "metadata": {},
   "source": [
    "## Get SHAP values"
   ]
  },
  {
   "cell_type": "code",
   "execution_count": 185,
   "metadata": {},
   "outputs": [],
   "source": [
    "background = next(iter(train_dataloader))\n",
    "background_ids, background_labels, background_idxes = background"
   ]
  },
  {
   "cell_type": "code",
   "execution_count": 186,
   "metadata": {},
   "outputs": [
    {
     "data": {
      "text/plain": [
       "torch.Size([64, 30])"
      ]
     },
     "execution_count": 186,
     "metadata": {},
     "output_type": "execute_result"
    }
   ],
   "source": [
    "background_idxes.shape"
   ]
  },
  {
   "cell_type": "code",
   "execution_count": 187,
   "metadata": {},
   "outputs": [],
   "source": [
    "bg_data, bg_masks = model.get_all_ids_masks(background_idxes, 20)"
   ]
  },
  {
   "cell_type": "code",
   "execution_count": 188,
   "metadata": {},
   "outputs": [
    {
     "data": {
      "text/plain": [
       "torch.Size([64, 20, 32])"
      ]
     },
     "execution_count": 188,
     "metadata": {},
     "output_type": "execute_result"
    }
   ],
   "source": [
    "bg_data.shape"
   ]
  },
  {
   "cell_type": "code",
   "execution_count": 189,
   "metadata": {},
   "outputs": [
    {
     "name": "stderr",
     "output_type": "stream",
     "text": [
      "64it [00:00, 906.45it/s]\n"
     ]
    }
   ],
   "source": [
    "explainer = deep_id_pytorch.CustomPyTorchDeepIDExplainer(model, bg_data, bg_masks,\n",
    "                                                         gpu_memory_efficient=True)"
   ]
  },
  {
   "cell_type": "code",
   "execution_count": 190,
   "metadata": {},
   "outputs": [],
   "source": [
    "model.train() # in case that shap complains that autograd cannot be called\n",
    "lstm_values = []\n",
    "features = []\n",
    "start = 0"
   ]
  },
  {
   "cell_type": "code",
   "execution_count": 191,
   "metadata": {},
   "outputs": [],
   "source": [
    "test = list(train_dataloader)[3]\n",
    "test_ids, test_labels, test_idxes = test"
   ]
  },
  {
   "cell_type": "code",
   "execution_count": 192,
   "metadata": {},
   "outputs": [
    {
     "data": {
      "text/plain": [
       "tensor([ 6,  9, 19, 21,  8, 15, 11,  6, 31, 20,  8, 20, 19,  4,  6,  9, 11, 17,\n",
       "        10,  5, 19,  9, 21,  3,  0,  0,  0,  0,  0,  0])"
      ]
     },
     "execution_count": 192,
     "metadata": {},
     "output_type": "execute_result"
    }
   ],
   "source": [
    "test_idxes[0]"
   ]
  },
  {
   "cell_type": "code",
   "execution_count": 193,
   "metadata": {},
   "outputs": [],
   "source": [
    "test_data, test_masks = model.get_all_ids_masks(test_idxes, 20)"
   ]
  },
  {
   "cell_type": "code",
   "execution_count": 194,
   "metadata": {},
   "outputs": [
    {
     "data": {
      "text/plain": [
       "torch.Size([20, 32])"
      ]
     },
     "execution_count": 194,
     "metadata": {},
     "output_type": "execute_result"
    }
   ],
   "source": [
    "test_data[0].shape"
   ]
  },
  {
   "cell_type": "code",
   "execution_count": 195,
   "metadata": {},
   "outputs": [
    {
     "data": {
      "text/plain": [
       "20"
      ]
     },
     "execution_count": 195,
     "metadata": {},
     "output_type": "execute_result"
    }
   ],
   "source": [
    "len(test_masks[0])"
   ]
  },
  {
   "cell_type": "code",
   "execution_count": 196,
   "metadata": {},
   "outputs": [
    {
     "name": "stderr",
     "output_type": "stream",
     "text": [
      "128it [00:00, 332.25it/s]\n",
      "128it [00:00, 323.93it/s]\n"
     ]
    }
   ],
   "source": [
    "lstm_shap_values = explainer.shap_values(test_data[0].unsqueeze(0), test_masks[0])"
   ]
  },
  {
   "cell_type": "code",
   "execution_count": 197,
   "metadata": {},
   "outputs": [],
   "source": [
    "class_token_values = [[] for _ in lstm_shap_values]"
   ]
  },
  {
   "cell_type": "code",
   "execution_count": 198,
   "metadata": {},
   "outputs": [],
   "source": [
    "for (i, w) in enumerate(test_idxes[0, :20]):\n",
    "    for c in range(len(lstm_shap_values)):\n",
    "        class_token_values[c].append(lstm_shap_values[c][0, i, w])\n",
    "lstm_values.append(class_token_values)\n",
    "#features.append(tokens)"
   ]
  },
  {
   "cell_type": "code",
   "execution_count": 199,
   "metadata": {},
   "outputs": [
    {
     "data": {
      "text/plain": [
       "[[[0.2284105122089386,\n",
       "   -0.08082426339387894,\n",
       "   -0.002629045397043228,\n",
       "   0.004059555474668741,\n",
       "   -0.0038593264762312174,\n",
       "   0.0010509488638490438,\n",
       "   -0.0032367075327783823,\n",
       "   -0.0005264503415673971,\n",
       "   -0.004273338709026575,\n",
       "   -0.0015388900646939874,\n",
       "   -0.001204347820021212,\n",
       "   -0.0015232681762427092,\n",
       "   -0.0007353146211244166,\n",
       "   -0.0008845474221743643,\n",
       "   -0.00011129260383313522,\n",
       "   -0.0005295959417708218,\n",
       "   -0.00018938776338472962,\n",
       "   8.620136213721707e-05,\n",
       "   -4.8148353926080745e-06,\n",
       "   7.940780778881162e-05],\n",
       "  [-0.20028294622898102,\n",
       "   0.06900153309106827,\n",
       "   0.0019821343012154102,\n",
       "   -0.003351386869326234,\n",
       "   0.0035118544474244118,\n",
       "   -0.0009849835187196732,\n",
       "   0.0031067149247974157,\n",
       "   0.00043689750600606203,\n",
       "   0.004369432106614113,\n",
       "   0.0014246178325265646,\n",
       "   0.0010689113987609744,\n",
       "   0.001300674513913691,\n",
       "   0.0006396784447133541,\n",
       "   0.0007616428774781525,\n",
       "   9.332464833278209e-05,\n",
       "   0.0004642837739083916,\n",
       "   0.00017156547983177006,\n",
       "   -7.333420944632962e-05,\n",
       "   6.660298822680488e-06,\n",
       "   -6.616850441787392e-05]]]"
      ]
     },
     "execution_count": 199,
     "metadata": {},
     "output_type": "execute_result"
    }
   ],
   "source": [
    "lstm_values"
   ]
  },
  {
   "cell_type": "code",
   "execution_count": 200,
   "metadata": {},
   "outputs": [
    {
     "data": {
      "text/plain": [
       "(1, 2, 20)"
      ]
     },
     "execution_count": 200,
     "metadata": {},
     "output_type": "execute_result"
    }
   ],
   "source": [
    "np.array(lstm_values).shape"
   ]
  },
  {
   "cell_type": "code",
   "execution_count": 201,
   "metadata": {},
   "outputs": [
    {
     "data": {
      "text/plain": [
       "<matplotlib.collections.PathCollection at 0x7fd0d4599160>"
      ]
     },
     "execution_count": 201,
     "metadata": {},
     "output_type": "execute_result"
    },
    {
     "data": {
      "image/png": "[encoded data removed]",
      "text/plain": [
       "<Figure size 432x288 with 1 Axes>"
      ]
     },
     "metadata": {
      "needs_background": "light"
     },
     "output_type": "display_data"
    }
   ],
   "source": [
    "plt.scatter(lstm_values[0][0], lstm_values[0][1])"
   ]
  },
  {
   "cell_type": "code",
   "execution_count": 202,
   "metadata": {},
   "outputs": [
    {
     "data": {
      "text/plain": [
       "tensor([ 6,  9, 19, 21,  8, 15, 11,  6, 31, 20,  8, 20, 19,  4,  6,  9, 11, 17,\n",
       "        10,  5])"
      ]
     },
     "execution_count": 202,
     "metadata": {},
     "output_type": "execute_result"
    }
   ],
   "source": [
    "idx_seq = test_idxes[0, :20]\n",
    "idx_seq"
   ]
  },
  {
   "cell_type": "code",
   "execution_count": 203,
   "metadata": {},
   "outputs": [
    {
     "data": {
      "text/plain": [
       "6"
      ]
     },
     "execution_count": 203,
     "metadata": {},
     "output_type": "execute_result"
    }
   ],
   "source": [
    "idx_seq.numpy()[0]"
   ]
  },
  {
   "cell_type": "code",
   "execution_count": 204,
   "metadata": {},
   "outputs": [
    {
     "data": {
      "text/plain": [
       "{0: '<pad>',\n",
       " 1: '<unk>',\n",
       " 2: 'normal_bmi',\n",
       " 3: 'dental_exam',\n",
       " 4: 'backache',\n",
       " 5: 'eye_exam',\n",
       " 6: 'quad_injury',\n",
       " 7: 'cold_sore',\n",
       " 8: 'hay_fever',\n",
       " 9: 'peanut_allergy',\n",
       " 10: 'annual_physical',\n",
       " 11: 'cut_finger',\n",
       " 12: 'myopia',\n",
       " 13: 'ACE_inhibitors',\n",
       " 14: 'foot_pain',\n",
       " 15: 'headache',\n",
       " 16: 'resistent_hyp',\n",
       " 17: 'high_creatinine',\n",
       " 18: 'furosemide',\n",
       " 19: 'ACL_tear',\n",
       " 20: 'ankle_sprain',\n",
       " 21: 'ingrown_nail',\n",
       " 22: 'cardiac_rehab',\n",
       " 23: 'low_salt_diet',\n",
       " 24: 'pneumonia',\n",
       " 25: 'apnea',\n",
       " 26: 'PCI',\n",
       " 27: 'tachycardia',\n",
       " 28: 'CHF',\n",
       " 29: 'ARR',\n",
       " 30: 'PH',\n",
       " 31: 'AMI'}"
      ]
     },
     "execution_count": 204,
     "metadata": {},
     "output_type": "execute_result"
    }
   ],
   "source": [
    "model.vocab._rev_vocab"
   ]
  },
  {
   "cell_type": "code",
   "execution_count": 205,
   "metadata": {},
   "outputs": [
    {
     "name": "stdout",
     "output_type": "stream",
     "text": [
      "['quad_injury', 'peanut_allergy', 'ACL_tear', 'ingrown_nail', 'hay_fever', 'headache', 'cut_finger', 'quad_injury', 'AMI', 'ankle_sprain', 'hay_fever', 'ankle_sprain', 'ACL_tear', 'backache', 'quad_injury', 'peanut_allergy', 'cut_finger', 'high_creatinine', 'annual_physical', 'eye_exam']\n"
     ]
    }
   ],
   "source": [
    "events = [model.vocab.itos(x) for x in idx_seq.numpy()]\n",
    "print(events)"
   ]
  },
  {
   "cell_type": "code",
   "execution_count": 206,
   "metadata": {},
   "outputs": [],
   "source": [
    "#model.vocab._vocab"
   ]
  },
  {
   "cell_type": "code",
   "execution_count": 207,
   "metadata": {},
   "outputs": [
    {
     "data": {
      "text/plain": [
       "[0.2284105122089386,\n",
       " -0.08082426339387894,\n",
       " -0.002629045397043228,\n",
       " 0.004059555474668741,\n",
       " -0.0038593264762312174,\n",
       " 0.0010509488638490438,\n",
       " -0.0032367075327783823,\n",
       " -0.0005264503415673971,\n",
       " -0.004273338709026575,\n",
       " -0.0015388900646939874,\n",
       " -0.001204347820021212,\n",
       " -0.0015232681762427092,\n",
       " -0.0007353146211244166,\n",
       " -0.0008845474221743643,\n",
       " -0.00011129260383313522,\n",
       " -0.0005295959417708218,\n",
       " -0.00018938776338472962,\n",
       " 8.620136213721707e-05,\n",
       " -4.8148353926080745e-06,\n",
       " 7.940780778881162e-05]"
      ]
     },
     "execution_count": 207,
     "metadata": {},
     "output_type": "execute_result"
    }
   ],
   "source": [
    "lstm_values[0][0]"
   ]
  },
  {
   "cell_type": "code",
   "execution_count": 208,
   "metadata": {},
   "outputs": [
    {
     "data": {
      "text/plain": [
       "20"
      ]
     },
     "execution_count": 208,
     "metadata": {},
     "output_type": "execute_result"
    }
   ],
   "source": [
    "len(lstm_values[0][0])"
   ]
  },
  {
   "cell_type": "code",
   "execution_count": 209,
   "metadata": {},
   "outputs": [
    {
     "data": {
      "text/plain": [
       "['quad_injury',\n",
       " 'peanut_allergy',\n",
       " 'ACL_tear',\n",
       " 'ingrown_nail',\n",
       " 'hay_fever',\n",
       " 'headache',\n",
       " 'cut_finger',\n",
       " 'quad_injury',\n",
       " 'AMI',\n",
       " 'ankle_sprain',\n",
       " 'hay_fever',\n",
       " 'ankle_sprain',\n",
       " 'ACL_tear',\n",
       " 'backache',\n",
       " 'quad_injury',\n",
       " 'peanut_allergy',\n",
       " 'cut_finger',\n",
       " 'high_creatinine',\n",
       " 'annual_physical',\n",
       " 'eye_exam']"
      ]
     },
     "execution_count": 209,
     "metadata": {},
     "output_type": "execute_result"
    }
   ],
   "source": [
    "events"
   ]
  },
  {
   "cell_type": "code",
   "execution_count": 210,
   "metadata": {},
   "outputs": [],
   "source": [
    "df = pd.DataFrame()\n",
    "df['events'] = events\n",
    "df['shap_vals'] = lstm_values[0][0]"
   ]
  },
  {
   "cell_type": "code",
   "execution_count": 211,
   "metadata": {},
   "outputs": [
    {
     "data": {
      "text/html": [
       "<div>\n",
       "<style scoped>\n",
       "    .dataframe tbody tr th:only-of-type {\n",
       "        vertical-align: middle;\n",
       "    }\n",
       "\n",
       "    .dataframe tbody tr th {\n",
       "        vertical-align: top;\n",
       "    }\n",
       "\n",
       "    .dataframe thead th {\n",
       "        text-align: right;\n",
       "    }\n",
       "</style>\n",
       "<table border=\"1\" class=\"dataframe\">\n",
       "  <thead>\n",
       "    <tr style=\"text-align: right;\">\n",
       "      <th></th>\n",
       "      <th>events</th>\n",
       "      <th>shap_vals</th>\n",
       "    </tr>\n",
       "  </thead>\n",
       "  <tbody>\n",
       "    <tr>\n",
       "      <th>0</th>\n",
       "      <td>quad_injury</td>\n",
       "      <td>0.228411</td>\n",
       "    </tr>\n",
       "    <tr>\n",
       "      <th>1</th>\n",
       "      <td>peanut_allergy</td>\n",
       "      <td>-0.080824</td>\n",
       "    </tr>\n",
       "    <tr>\n",
       "      <th>2</th>\n",
       "      <td>ACL_tear</td>\n",
       "      <td>-0.002629</td>\n",
       "    </tr>\n",
       "    <tr>\n",
       "      <th>3</th>\n",
       "      <td>ingrown_nail</td>\n",
       "      <td>0.004060</td>\n",
       "    </tr>\n",
       "    <tr>\n",
       "      <th>4</th>\n",
       "      <td>hay_fever</td>\n",
       "      <td>-0.003859</td>\n",
       "    </tr>\n",
       "    <tr>\n",
       "      <th>5</th>\n",
       "      <td>headache</td>\n",
       "      <td>0.001051</td>\n",
       "    </tr>\n",
       "    <tr>\n",
       "      <th>6</th>\n",
       "      <td>cut_finger</td>\n",
       "      <td>-0.003237</td>\n",
       "    </tr>\n",
       "    <tr>\n",
       "      <th>7</th>\n",
       "      <td>quad_injury</td>\n",
       "      <td>-0.000526</td>\n",
       "    </tr>\n",
       "    <tr>\n",
       "      <th>8</th>\n",
       "      <td>AMI</td>\n",
       "      <td>-0.004273</td>\n",
       "    </tr>\n",
       "    <tr>\n",
       "      <th>9</th>\n",
       "      <td>ankle_sprain</td>\n",
       "      <td>-0.001539</td>\n",
       "    </tr>\n",
       "    <tr>\n",
       "      <th>10</th>\n",
       "      <td>hay_fever</td>\n",
       "      <td>-0.001204</td>\n",
       "    </tr>\n",
       "    <tr>\n",
       "      <th>11</th>\n",
       "      <td>ankle_sprain</td>\n",
       "      <td>-0.001523</td>\n",
       "    </tr>\n",
       "    <tr>\n",
       "      <th>12</th>\n",
       "      <td>ACL_tear</td>\n",
       "      <td>-0.000735</td>\n",
       "    </tr>\n",
       "    <tr>\n",
       "      <th>13</th>\n",
       "      <td>backache</td>\n",
       "      <td>-0.000885</td>\n",
       "    </tr>\n",
       "    <tr>\n",
       "      <th>14</th>\n",
       "      <td>quad_injury</td>\n",
       "      <td>-0.000111</td>\n",
       "    </tr>\n",
       "    <tr>\n",
       "      <th>15</th>\n",
       "      <td>peanut_allergy</td>\n",
       "      <td>-0.000530</td>\n",
       "    </tr>\n",
       "    <tr>\n",
       "      <th>16</th>\n",
       "      <td>cut_finger</td>\n",
       "      <td>-0.000189</td>\n",
       "    </tr>\n",
       "    <tr>\n",
       "      <th>17</th>\n",
       "      <td>high_creatinine</td>\n",
       "      <td>0.000086</td>\n",
       "    </tr>\n",
       "    <tr>\n",
       "      <th>18</th>\n",
       "      <td>annual_physical</td>\n",
       "      <td>-0.000005</td>\n",
       "    </tr>\n",
       "    <tr>\n",
       "      <th>19</th>\n",
       "      <td>eye_exam</td>\n",
       "      <td>0.000079</td>\n",
       "    </tr>\n",
       "  </tbody>\n",
       "</table>\n",
       "</div>"
      ],
      "text/plain": [
       "             events  shap_vals\n",
       "0       quad_injury   0.228411\n",
       "1    peanut_allergy  -0.080824\n",
       "2          ACL_tear  -0.002629\n",
       "3      ingrown_nail   0.004060\n",
       "4         hay_fever  -0.003859\n",
       "5          headache   0.001051\n",
       "6        cut_finger  -0.003237\n",
       "7       quad_injury  -0.000526\n",
       "8               AMI  -0.004273\n",
       "9      ankle_sprain  -0.001539\n",
       "10        hay_fever  -0.001204\n",
       "11     ankle_sprain  -0.001523\n",
       "12         ACL_tear  -0.000735\n",
       "13         backache  -0.000885\n",
       "14      quad_injury  -0.000111\n",
       "15   peanut_allergy  -0.000530\n",
       "16       cut_finger  -0.000189\n",
       "17  high_creatinine   0.000086\n",
       "18  annual_physical  -0.000005\n",
       "19         eye_exam   0.000079"
      ]
     },
     "execution_count": 211,
     "metadata": {},
     "output_type": "execute_result"
    }
   ],
   "source": [
    "df"
   ]
  },
  {
   "cell_type": "code",
   "execution_count": 212,
   "metadata": {},
   "outputs": [
    {
     "data": {
      "image/png": "[encoded data removed]",
      "text/plain": [
       "<Figure size 1440x720 with 1 Axes>"
      ]
     },
     "metadata": {
      "needs_background": "light"
     },
     "output_type": "display_data"
    }
   ],
   "source": [
    "plt.figure(figsize=(20, 10))\n",
    "ax = sns.barplot(x=df.index, y=df.shap_vals, orient='v')\n",
    "z = ax.set_xticklabels(df.events, rotation=90)"
   ]
  },
  {
   "cell_type": "code",
   "execution_count": null,
   "metadata": {},
   "outputs": [],
   "source": []
  },
  {
   "cell_type": "code",
   "execution_count": null,
   "metadata": {},
   "outputs": [],
   "source": []
  }
 ],
 "metadata": {
  "kernelspec": {
   "display_name": "conda_pytorch_p36",
   "language": "python",
   "name": "conda_pytorch_p36"
  },
  "language_info": {
   "codemirror_mode": {
    "name": "ipython",
    "version": 3
   },
   "file_extension": ".py",
   "mimetype": "text/x-python",
   "name": "python",
   "nbconvert_exporter": "python",
   "pygments_lexer": "ipython3",
   "version": "3.6.10"
  }
 },
 "nbformat": 4,
 "nbformat_minor": 4
}
