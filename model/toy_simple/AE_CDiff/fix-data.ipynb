{
 "cells": [
  {
   "cell_type": "markdown",
   "id": "vocal-discount",
   "metadata": {},
   "source": [
    "This script replaces `d_s` or `d_S` with `d_` only"
   ]
  },
  {
   "cell_type": "code",
   "execution_count": null,
   "id": "fitting-schema",
   "metadata": {},
   "outputs": [],
   "source": [
    "import pandas as pd\n",
    "import re"
   ]
  },
  {
   "cell_type": "code",
   "execution_count": null,
   "id": "corresponding-nicholas",
   "metadata": {},
   "outputs": [],
   "source": [
    "FNAME = '20110101' #Enter either month/all\n",
    "DATA_TYPE = 'original' #Enter either downsampled/original\n",
    "\n",
    "SEQ_LEN = 1000\n",
    "\n",
    "ALL_DATA_PATH = f\"../../../data/AE_CDiff_d00845/output/data/1000/{DATA_TYPE}/preprocessed/{FNAME}.csv\"\n",
    "TRAIN_DATA_PATH = f\"../../../data/AE_CDiff_d00845/output/data/1000/{DATA_TYPE}/preprocessed/splits/{FNAME}/train.csv\"\n",
    "VALID_DATA_PATH = f\"../../../data/AE_CDiff_d00845/output/data/1000/{DATA_TYPE}/preprocessed/splits/{FNAME}/val.csv\"\n",
    "TEST_DATA_PATH = f\"../../../data/AE_CDiff_d00845/output/data/1000/{DATA_TYPE}/preprocessed/splits/{FNAME}/test.csv\"\n",
    "\n",
    "OUT_ALL_DATA_PATH = f\"../../../data/AE_CDiff_d00845/output/data/1000/{DATA_TYPE}/preprocessed/{FNAME}_2.csv\"\n",
    "OUT_TRAIN_DATA_PATH = f\"../../../data/AE_CDiff_d00845/output/data/1000/{DATA_TYPE}/preprocessed/splits/{FNAME}/train2.csv\"\n",
    "OUT_VALID_DATA_PATH = f\"../../../data/AE_CDiff_d00845/output/data/1000/{DATA_TYPE}/preprocessed/splits/{FNAME}/val2.csv\"\n",
    "OUT_TEST_DATA_PATH = f\"../../../data/AE_CDiff_d00845/output/data/1000/{DATA_TYPE}/preprocessed/splits/{FNAME}/test2.csv\""
   ]
  },
  {
   "cell_type": "code",
   "execution_count": 1,
   "id": "driven-holder",
   "metadata": {},
   "outputs": [],
   "source": [
    "import torch"
   ]
  },
  {
   "cell_type": "code",
   "execution_count": null,
   "id": "exceptional-exercise",
   "metadata": {},
   "outputs": [],
   "source": [
    "torch.cuda.empty_cache()"
   ]
  },
  {
   "cell_type": "code",
   "execution_count": null,
   "id": "hungarian-baker",
   "metadata": {},
   "outputs": [],
   "source": [
    "def fix_token(row0):\n",
    "    \"\"\"Replace d_s and d_S with d_ only for the given data row.\"\"\"\n",
    "    row = row0.tolist()\n",
    "    row = [re.sub('d_s', 'd_', token, flags=re.IGNORECASE) for token in row]\n",
    "    return row"
   ]
  },
  {
   "cell_type": "code",
   "execution_count": null,
   "id": "appropriate-magazine",
   "metadata": {},
   "outputs": [],
   "source": [
    "columns = [str(i) for i in range(SEQ_LEN-1, -1, -1)]\n",
    "nrows = None\n",
    "\n",
    "#All Data\n",
    "df = pd.read_csv(ALL_DATA_PATH, nrows=nrows)\n",
    "results = df[columns].apply(fix_token, axis=1)\n",
    "df[columns] = results.tolist()\n",
    "df.to_csv(OUT_ALL_DATA_PATH, index=False)\n",
    "print(df.shape)\n",
    "df.head()"
   ]
  },
  {
   "cell_type": "code",
   "execution_count": null,
   "id": "changed-grammar",
   "metadata": {},
   "outputs": [],
   "source": [
    "#Train Data\n",
    "df = pd.read_csv(TRAIN_DATA_PATH, nrows=nrows)\n",
    "results = df[columns].apply(fix_token, axis=1)\n",
    "df[columns] = results.tolist()\n",
    "df.to_csv(OUT_TRAIN_DATA_PATH, index=False)\n",
    "print(df.shape)\n",
    "df.head()"
   ]
  },
  {
   "cell_type": "code",
   "execution_count": null,
   "id": "vertical-school",
   "metadata": {},
   "outputs": [],
   "source": [
    "#Valid Data\n",
    "df = pd.read_csv(VALID_DATA_PATH, nrows=nrows)\n",
    "results = df[columns].apply(fix_token, axis=1)\n",
    "df[columns] = results.tolist()\n",
    "df.to_csv(OUT_VALID_DATA_PATH, index=False)\n",
    "print(df.shape)\n",
    "df.head()"
   ]
  },
  {
   "cell_type": "code",
   "execution_count": null,
   "id": "convenient-dutch",
   "metadata": {},
   "outputs": [],
   "source": [
    "#Test Data\n",
    "df = pd.read_csv(TEST_DATA_PATH, nrows=nrows)\n",
    "results = df[columns].apply(fix_token, axis=1)\n",
    "df[columns] = results.tolist()\n",
    "df.to_csv(OUT_TEST_DATA_PATH, index=False)\n",
    "print(df.shape)\n",
    "df.head()"
   ]
  },
  {
   "cell_type": "code",
   "execution_count": null,
   "id": "obvious-gothic",
   "metadata": {},
   "outputs": [],
   "source": []
  }
 ],
 "metadata": {
  "kernelspec": {
   "display_name": "conda_pytorch_p36",
   "language": "python",
   "name": "conda_pytorch_p36"
  },
  "language_info": {
   "codemirror_mode": {
    "name": "ipython",
    "version": 3
   },
   "file_extension": ".py",
   "mimetype": "text/x-python",
   "name": "python",
   "nbconvert_exporter": "python",
   "pygments_lexer": "ipython3",
   "version": "3.6.10"
  }
 },
 "nbformat": 4,
 "nbformat_minor": 5
}
