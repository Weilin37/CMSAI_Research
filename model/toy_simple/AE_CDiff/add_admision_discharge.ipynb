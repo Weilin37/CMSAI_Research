{
 "cells": [
  {
   "cell_type": "markdown",
   "id": "robust-lawrence",
   "metadata": {},
   "source": [
    "The script inserts admission/discharge events to the corresponding positions and saves as output"
   ]
  },
  {
   "cell_type": "code",
   "execution_count": null,
   "id": "accurate-queen",
   "metadata": {},
   "outputs": [],
   "source": [
    "#!pip install modin[ray]"
   ]
  },
  {
   "cell_type": "code",
   "execution_count": null,
   "id": "dependent-lesbian",
   "metadata": {},
   "outputs": [],
   "source": [
    "#!export MODIN_OUT_OF_CORE=true"
   ]
  },
  {
   "cell_type": "code",
   "execution_count": 2,
   "id": "equal-teaching",
   "metadata": {},
   "outputs": [
    {
     "name": "stderr",
     "output_type": "stream",
     "text": [
      "UserWarning: Modin Ray engine was started with 16 GB free space avaliable, if it is not enough for your application, please set environment variable MODIN_ON_RAY_PLASMA_DIR=/directory/without/space/limiting\n"
     ]
    }
   ],
   "source": [
    "#import ray\n",
    "#ray.init(num_cpus=8)\n",
    "import modin.pandas as pd"
   ]
  },
  {
   "cell_type": "code",
   "execution_count": 3,
   "id": "proud-pillow",
   "metadata": {},
   "outputs": [],
   "source": [
    "#import pandas as pd\n",
    "import re\n",
    "import os\n",
    "import json"
   ]
  },
  {
   "cell_type": "code",
   "execution_count": 4,
   "id": "allied-reach",
   "metadata": {},
   "outputs": [],
   "source": [
    "FNAME = '20110101' #Enter either month/all\n",
    "DATA_TYPE = 'original' #Enter either downsampled/original\n",
    "\n",
    "SEQ_LEN = 1000\n",
    "\n",
    "AD_DIS_PATH = \"../../../data/AE_CDiff_d00845/output/data/1000/admission_discharge/results.json\"\n",
    "\n",
    "ALL_DATA_PATH = f\"../../../data/AE_CDiff_d00845/output/data/1000/{DATA_TYPE}/preprocessed/{FNAME}.csv\"\n",
    "TRAIN_DATA_PATH = f\"../../../data/AE_CDiff_d00845/output/data/1000/{DATA_TYPE}/preprocessed/splits/{FNAME}/train.csv\"\n",
    "VALID_DATA_PATH = f\"../../../data/AE_CDiff_d00845/output/data/1000/{DATA_TYPE}/preprocessed/splits/{FNAME}/val.csv\"\n",
    "TEST_DATA_PATH = f\"../../../data/AE_CDiff_d00845/output/data/1000/{DATA_TYPE}/preprocessed/splits/{FNAME}/test.csv\"\n",
    "\n",
    "OUT_ALL_DATA_PATH = f\"../../../data/AE_CDiff_d00845/output/data/1000/{DATA_TYPE}/preprocessed_v2/{FNAME}.csv\"\n",
    "OUT_TRAIN_DATA_PATH = f\"../../../data/AE_CDiff_d00845/output/data/1000/{DATA_TYPE}/preprocessed_v2/splits/{FNAME}/train.csv\"\n",
    "OUT_VALID_DATA_PATH = f\"../../../data/AE_CDiff_d00845/output/data/1000/{DATA_TYPE}/preprocessed_v2/splits/{FNAME}/val.csv\"\n",
    "OUT_TEST_DATA_PATH = f\"../../../data/AE_CDiff_d00845/output/data/1000/{DATA_TYPE}/preprocessed_v2/splits/{FNAME}/test.csv\"\n",
    "\n",
    "# OUT_VALID_DATA_PATH2 = f\"../../../data/AE_CDiff_d00845/output/data/1000/{DATA_TYPE}/preprocessed_v2/splits/{FNAME}/val_imb.csv\"\n",
    "# OUT_TEST_DATA_PATH2 = f\"../../../data/AE_CDiff_d00845/output/data/1000/{DATA_TYPE}/preprocessed_v2/splits/{FNAME}/test_imb.csv\""
   ]
  },
  {
   "cell_type": "code",
   "execution_count": 5,
   "id": "ignored-young",
   "metadata": {},
   "outputs": [
    {
     "data": {
      "text/plain": [
       "(248654, 1004)"
      ]
     },
     "execution_count": 5,
     "metadata": {},
     "output_type": "execute_result"
    }
   ],
   "source": [
    "df = pd.read_csv(OUT_TEST_DATA_PATH, nrows=None)\n",
    "df.shape"
   ]
  },
  {
   "cell_type": "code",
   "execution_count": 6,
   "id": "reduced-sampling",
   "metadata": {},
   "outputs": [
    {
     "data": {
      "text/html": [
       "<div>\n",
       "<style scoped>\n",
       "    .dataframe tbody tr th:only-of-type {\n",
       "        vertical-align: middle;\n",
       "    }\n",
       "\n",
       "    .dataframe tbody tr th {\n",
       "        vertical-align: top;\n",
       "    }\n",
       "\n",
       "    .dataframe thead th {\n",
       "        text-align: right;\n",
       "    }\n",
       "</style>\n",
       "<table border=\"1\" class=\"dataframe\">\n",
       "  <thead>\n",
       "    <tr style=\"text-align: right;\">\n",
       "      <th></th>\n",
       "      <th>999</th>\n",
       "      <th>998</th>\n",
       "      <th>997</th>\n",
       "      <th>996</th>\n",
       "      <th>995</th>\n",
       "      <th>994</th>\n",
       "      <th>993</th>\n",
       "      <th>992</th>\n",
       "      <th>991</th>\n",
       "      <th>990</th>\n",
       "      <th>...</th>\n",
       "      <th>5</th>\n",
       "      <th>4</th>\n",
       "      <th>3</th>\n",
       "      <th>2</th>\n",
       "      <th>1</th>\n",
       "      <th>0</th>\n",
       "      <th>d_00845</th>\n",
       "      <th>patient_id</th>\n",
       "      <th>num_gt_codes</th>\n",
       "      <th>has_gt_codes</th>\n",
       "    </tr>\n",
       "  </thead>\n",
       "  <tbody>\n",
       "    <tr>\n",
       "      <th>0</th>\n",
       "      <td>&lt;pad&gt;</td>\n",
       "      <td>&lt;pad&gt;</td>\n",
       "      <td>&lt;pad&gt;</td>\n",
       "      <td>&lt;pad&gt;</td>\n",
       "      <td>&lt;pad&gt;</td>\n",
       "      <td>&lt;pad&gt;</td>\n",
       "      <td>&lt;pad&gt;</td>\n",
       "      <td>&lt;pad&gt;</td>\n",
       "      <td>&lt;pad&gt;</td>\n",
       "      <td>&lt;pad&gt;</td>\n",
       "      <td>...</td>\n",
       "      <td>d_5856_rf</td>\n",
       "      <td>h_82310</td>\n",
       "      <td>h_84100</td>\n",
       "      <td>1_days</td>\n",
       "      <td>d_5856_rf</td>\n",
       "      <td>h_90960</td>\n",
       "      <td>0</td>\n",
       "      <td>27NHU5AI9</td>\n",
       "      <td>50</td>\n",
       "      <td>1</td>\n",
       "    </tr>\n",
       "    <tr>\n",
       "      <th>1</th>\n",
       "      <td>&lt;pad&gt;</td>\n",
       "      <td>&lt;pad&gt;</td>\n",
       "      <td>&lt;pad&gt;</td>\n",
       "      <td>&lt;pad&gt;</td>\n",
       "      <td>&lt;pad&gt;</td>\n",
       "      <td>&lt;pad&gt;</td>\n",
       "      <td>&lt;pad&gt;</td>\n",
       "      <td>&lt;pad&gt;</td>\n",
       "      <td>&lt;pad&gt;</td>\n",
       "      <td>&lt;pad&gt;</td>\n",
       "      <td>...</td>\n",
       "      <td>h_Q5001</td>\n",
       "      <td>1_days</td>\n",
       "      <td>h_G0154</td>\n",
       "      <td>h_G0156</td>\n",
       "      <td>30_days</td>\n",
       "      <td>h_Q5001</td>\n",
       "      <td>0</td>\n",
       "      <td>WKDHL74CS</td>\n",
       "      <td>3</td>\n",
       "      <td>1</td>\n",
       "    </tr>\n",
       "    <tr>\n",
       "      <th>2</th>\n",
       "      <td>&lt;pad&gt;</td>\n",
       "      <td>&lt;pad&gt;</td>\n",
       "      <td>&lt;pad&gt;</td>\n",
       "      <td>&lt;pad&gt;</td>\n",
       "      <td>&lt;pad&gt;</td>\n",
       "      <td>&lt;pad&gt;</td>\n",
       "      <td>&lt;pad&gt;</td>\n",
       "      <td>&lt;pad&gt;</td>\n",
       "      <td>&lt;pad&gt;</td>\n",
       "      <td>&lt;pad&gt;</td>\n",
       "      <td>...</td>\n",
       "      <td>14_days</td>\n",
       "      <td>d_4619</td>\n",
       "      <td>h_99213</td>\n",
       "      <td>10_days</td>\n",
       "      <td>d_1534_rf</td>\n",
       "      <td>h_99213</td>\n",
       "      <td>0</td>\n",
       "      <td>Z9L8OZ723</td>\n",
       "      <td>2</td>\n",
       "      <td>1</td>\n",
       "    </tr>\n",
       "    <tr>\n",
       "      <th>3</th>\n",
       "      <td>&lt;pad&gt;</td>\n",
       "      <td>&lt;pad&gt;</td>\n",
       "      <td>&lt;pad&gt;</td>\n",
       "      <td>&lt;pad&gt;</td>\n",
       "      <td>&lt;pad&gt;</td>\n",
       "      <td>&lt;pad&gt;</td>\n",
       "      <td>&lt;pad&gt;</td>\n",
       "      <td>&lt;pad&gt;</td>\n",
       "      <td>&lt;pad&gt;</td>\n",
       "      <td>&lt;pad&gt;</td>\n",
       "      <td>...</td>\n",
       "      <td>2_days</td>\n",
       "      <td>discharge</td>\n",
       "      <td>21_days</td>\n",
       "      <td>d_1991</td>\n",
       "      <td>d_5119</td>\n",
       "      <td>h_71020</td>\n",
       "      <td>0</td>\n",
       "      <td>D0KJ7TJYX</td>\n",
       "      <td>4</td>\n",
       "      <td>1</td>\n",
       "    </tr>\n",
       "    <tr>\n",
       "      <th>4</th>\n",
       "      <td>&lt;pad&gt;</td>\n",
       "      <td>&lt;pad&gt;</td>\n",
       "      <td>&lt;pad&gt;</td>\n",
       "      <td>&lt;pad&gt;</td>\n",
       "      <td>&lt;pad&gt;</td>\n",
       "      <td>&lt;pad&gt;</td>\n",
       "      <td>&lt;pad&gt;</td>\n",
       "      <td>&lt;pad&gt;</td>\n",
       "      <td>&lt;pad&gt;</td>\n",
       "      <td>&lt;pad&gt;</td>\n",
       "      <td>...</td>\n",
       "      <td>4_days</td>\n",
       "      <td>d_72871</td>\n",
       "      <td>d_7397</td>\n",
       "      <td>d_84212</td>\n",
       "      <td>h_98927</td>\n",
       "      <td>h_99213</td>\n",
       "      <td>0</td>\n",
       "      <td>HQSH6B8KE</td>\n",
       "      <td>1</td>\n",
       "      <td>1</td>\n",
       "    </tr>\n",
       "  </tbody>\n",
       "</table>\n",
       "<p>5 rows x 1004 columns</p>\n",
       "</div>"
      ],
      "text/plain": [
       "     999    998    997    996    995    994    993    992    991    990  ...  \\\n",
       "0  <pad>  <pad>  <pad>  <pad>  <pad>  <pad>  <pad>  <pad>  <pad>  <pad>  ...   \n",
       "1  <pad>  <pad>  <pad>  <pad>  <pad>  <pad>  <pad>  <pad>  <pad>  <pad>  ...   \n",
       "2  <pad>  <pad>  <pad>  <pad>  <pad>  <pad>  <pad>  <pad>  <pad>  <pad>  ...   \n",
       "3  <pad>  <pad>  <pad>  <pad>  <pad>  <pad>  <pad>  <pad>  <pad>  <pad>  ...   \n",
       "4  <pad>  <pad>  <pad>  <pad>  <pad>  <pad>  <pad>  <pad>  <pad>  <pad>  ...   \n",
       "\n",
       "           5          4        3        2          1        0 d_00845  \\\n",
       "0  d_5856_rf    h_82310  h_84100   1_days  d_5856_rf  h_90960       0   \n",
       "1    h_Q5001     1_days  h_G0154  h_G0156    30_days  h_Q5001       0   \n",
       "2    14_days     d_4619  h_99213  10_days  d_1534_rf  h_99213       0   \n",
       "3     2_days  discharge  21_days   d_1991     d_5119  h_71020       0   \n",
       "4     4_days    d_72871   d_7397  d_84212    h_98927  h_99213       0   \n",
       "\n",
       "  patient_id  num_gt_codes has_gt_codes  \n",
       "0  27NHU5AI9            50            1  \n",
       "1  WKDHL74CS             3            1  \n",
       "2  Z9L8OZ723             2            1  \n",
       "3  D0KJ7TJYX             4            1  \n",
       "4  HQSH6B8KE             1            1  \n",
       "\n",
       "[5 rows x 1004 columns]"
      ]
     },
     "execution_count": 6,
     "metadata": {},
     "output_type": "execute_result"
    }
   ],
   "source": [
    "df.head()"
   ]
  },
  {
   "cell_type": "code",
   "execution_count": 16,
   "id": "healthy-state",
   "metadata": {},
   "outputs": [
    {
     "name": "stderr",
     "output_type": "stream",
     "text": [
      "UserWarning: `Series.tolist` defaulting to pandas implementation.\n"
     ]
    },
    {
     "name": "stdout",
     "output_type": "stream",
     "text": [
      "['<pad>', '<pad>', '<pad>', '<pad>', '<pad>', '<pad>', '<pad>', '<pad>', '<pad>', '<pad>', '<pad>', '<pad>', '<pad>', '<pad>', '<pad>', '<pad>', '<pad>', '<pad>', '<pad>', '<pad>', '<pad>', '<pad>', '<pad>', '<pad>', '<pad>', '<pad>', '<pad>', '<pad>', '<pad>', '<pad>', '<pad>', '<pad>', '<pad>', '<pad>', '<pad>', '<pad>', '<pad>', '<pad>', '<pad>', '<pad>', '<pad>', '<pad>', '<pad>', '<pad>', '<pad>', '<pad>', '<pad>', '<pad>', '<pad>', '<pad>', '<pad>', '<pad>', '<pad>', '<pad>', '<pad>', '<pad>', '<pad>', '<pad>', '<pad>', '<pad>', '<pad>', '<pad>', '<pad>', '<pad>', '<pad>', '<pad>', '<pad>', '<pad>', '<pad>', '<pad>', '<pad>', '<pad>', '<pad>', '<pad>', '<pad>', '<pad>', '<pad>', '<pad>', '<pad>', '<pad>', '<pad>', '<pad>', '<pad>', '<pad>', '<pad>', '<pad>', '<pad>', '<pad>', '<pad>', '<pad>', '<pad>', '<pad>', '<pad>', '<pad>', '<pad>', '<pad>', '<pad>', '<pad>', '<pad>', '<pad>', '<pad>', '<pad>', '<pad>', '<pad>', '<pad>', '<pad>', '<pad>', '<pad>', '<pad>', '<pad>', '<pad>', '<pad>', '<pad>', '<pad>', '<pad>', '<pad>', '<pad>', '<pad>', '<pad>', '<pad>', '<pad>', '<pad>', '<pad>', '<pad>', '<pad>', '<pad>', '<pad>', '<pad>', '<pad>', '<pad>', '<pad>', '<pad>', '<pad>', '<pad>', '<pad>', '<pad>', '<pad>', '<pad>', '<pad>', '<pad>', '<pad>', '<pad>', '<pad>', '<pad>', '<pad>', '<pad>', '<pad>', '<pad>', '<pad>', '<pad>', '<pad>', '<pad>', '<pad>', '<pad>', '<pad>', '<pad>', '<pad>', '<pad>', '<pad>', '<pad>', '<pad>', '<pad>', '<pad>', '<pad>', '<pad>', '<pad>', '<pad>', '<pad>', '<pad>', '<pad>', '<pad>', '<pad>', '<pad>', '<pad>', '<pad>', '<pad>', '<pad>', '<pad>', '<pad>', '<pad>', '<pad>', '<pad>', '<pad>', '<pad>', '<pad>', '<pad>', '<pad>', '<pad>', '<pad>', '<pad>', '<pad>', '<pad>', '<pad>', '<pad>', '<pad>', '<pad>', '<pad>', '<pad>', '<pad>', '<pad>', '<pad>', '<pad>', '<pad>', '<pad>', '<pad>', '<pad>', '<pad>', '<pad>', '<pad>', '<pad>', '<pad>', '<pad>', '<pad>', '<pad>', '<pad>', '<pad>', '<pad>', '<pad>', '<pad>', '<pad>', '<pad>', '<pad>', '<pad>', '<pad>', '<pad>', '<pad>', '<pad>', '<pad>', '<pad>', '<pad>', '<pad>', '<pad>', '<pad>', '<pad>', '<pad>', '<pad>', '<pad>', '<pad>', '<pad>', '<pad>', '<pad>', '<pad>', '<pad>', '<pad>', '<pad>', '<pad>', '<pad>', '<pad>', '<pad>', '<pad>', '<pad>', '<pad>', '<pad>', '<pad>', '<pad>', '<pad>', '<pad>', '<pad>', '<pad>', '<pad>', '<pad>', '<pad>', '<pad>', '<pad>', '<pad>', '<pad>', '<pad>', '<pad>', '<pad>', '<pad>', '<pad>', '<pad>', '<pad>', '<pad>', '<pad>', '<pad>', '<pad>', '<pad>', '<pad>', '<pad>', '<pad>', '<pad>', '<pad>', '<pad>', '<pad>', '<pad>', '<pad>', '<pad>', '<pad>', '<pad>', '<pad>', '<pad>', '<pad>', '<pad>', '<pad>', '<pad>', '<pad>', '<pad>', '<pad>', '<pad>', '<pad>', '<pad>', '<pad>', '<pad>', '<pad>', '<pad>', '<pad>', '<pad>', '<pad>', '<pad>', '<pad>', '<pad>', '<pad>', '<pad>', '<pad>', '<pad>', '<pad>', '<pad>', '<pad>', '<pad>', '<pad>', '<pad>', '<pad>', '<pad>', '<pad>', '<pad>', '<pad>', '<pad>', '<pad>', '<pad>', '<pad>', '<pad>', '<pad>', '<pad>', '<pad>', '<pad>', '<pad>', '<pad>', '<pad>', '<pad>', '<pad>', '<pad>', '<pad>', '<pad>', '<pad>', '<pad>', '<pad>', '<pad>', '<pad>', '<pad>', '<pad>', '<pad>', '<pad>', '<pad>', '<pad>', '<pad>', '<pad>', '<pad>', '<pad>', '<pad>', '<pad>', '<pad>', '<pad>', '<pad>', '<pad>', '<pad>', '<pad>', '<pad>', '<pad>', '<pad>', '<pad>', '<pad>', '<pad>', '<pad>', '<pad>', '<pad>', '<pad>', '<pad>', '<pad>', '<pad>', '<pad>', '<pad>', '<pad>', '<pad>', '<pad>', '<pad>', '<pad>', '<pad>', '<pad>', '<pad>', '<pad>', '<pad>', '<pad>', '<pad>', '<pad>', '<pad>', '<pad>', '<pad>', '<pad>', '<pad>', '<pad>', '<pad>', '<pad>', '<pad>', '<pad>', '<pad>', '<pad>', '<pad>', '<pad>', '<pad>', '<pad>', '<pad>', '<pad>', '<pad>', '<pad>', '<pad>', '<pad>', '<pad>', '<pad>', '<pad>', '<pad>', '<pad>', '<pad>', '<pad>', '<pad>', '<pad>', '<pad>', '<pad>', '<pad>', '<pad>', '<pad>', '<pad>', '<pad>', '<pad>', '<pad>', '<pad>', '<pad>', '<pad>', '<pad>', '<pad>', '<pad>', '<pad>', '<pad>', '<pad>', '<pad>', '<pad>', '<pad>', '<pad>', '<pad>', '<pad>', '<pad>', '<pad>', '<pad>', '<pad>', '<pad>', '<pad>', '<pad>', '<pad>', '<pad>', '<pad>', '<pad>', '<pad>', '<pad>', '<pad>', '<pad>', '<pad>', '<pad>', '<pad>', '<pad>', '<pad>', '<pad>', '<pad>', '<pad>', '<pad>', '<pad>', '<pad>', '<pad>', '<pad>', '<pad>', '<pad>', '<pad>', '<pad>', '<pad>', '<pad>', '<pad>', '<pad>', '<pad>', '<pad>', '<pad>', '<pad>', '<pad>', '<pad>', '<pad>', '<pad>', '<pad>', '<pad>', '<pad>', '<pad>', '<pad>', '<pad>', '<pad>', '<pad>', '<pad>', '<pad>', '<pad>', '<pad>', '<pad>', '<pad>', '<pad>', '<pad>', '<pad>', '<pad>', '<pad>', '<pad>', '<pad>', '<pad>', '<pad>', '<pad>', '<pad>', '<pad>', '<pad>', '<pad>', '<pad>', '<pad>', '<pad>', '<pad>', '<pad>', '<pad>', '<pad>', '<pad>', '<pad>', '<pad>', '<pad>', '<pad>', '<pad>', '<pad>', '<pad>', '<pad>', '<pad>', '<pad>', '<pad>', '<pad>', '<pad>', '<pad>', '<pad>', '<pad>', '<pad>', '<pad>', '<pad>', '<pad>', '<pad>', '<pad>', '<pad>', '<pad>', '<pad>', '<pad>', '<pad>', '<pad>', '<pad>', '<pad>', '<pad>', '<pad>', '<pad>', '<pad>', '<pad>', '<pad>', '<pad>', '<pad>', '<pad>', '<pad>', '<pad>', '<pad>', '<pad>', '<pad>', '<pad>', '<pad>', '<pad>', '<pad>', '<pad>', '<pad>', '<pad>', '<pad>', '<pad>', '<pad>', '<pad>', '<pad>', '<pad>', '<pad>', '<pad>', '<pad>', '<pad>', '<pad>', '<pad>', '<pad>', '<pad>', '<pad>', '<pad>', '<pad>', '<pad>', '<pad>', '<pad>', '<pad>', '<pad>', '<pad>', '<pad>', '<pad>', '<pad>', '<pad>', '<pad>', '<pad>', '<pad>', '<pad>', '<pad>', '<pad>', '<pad>', '<pad>', '<pad>', '<pad>', '<pad>', '<pad>', '<pad>', '<pad>', '<pad>', '<pad>', '<pad>', '<pad>', '<pad>', '<pad>', '<pad>', '<pad>', '<pad>', '<pad>', '<pad>', '<pad>', '<pad>', '<pad>', '<pad>', '<pad>', '<pad>', '<pad>', '<pad>', '<pad>', '<pad>', '<pad>', '<pad>', '<pad>', '<pad>', '<pad>', '<pad>', '<pad>', '<pad>', '<pad>', '<pad>', '<pad>', '<pad>', '<pad>', '<pad>', '<pad>', '<pad>', '<pad>', '<pad>', '<pad>', '<pad>', '<pad>', '<pad>', '<pad>', '<pad>', '<pad>', '<pad>', '<pad>', '<pad>', '<pad>', '<pad>', '<pad>', '<pad>', '<pad>', '<pad>', '<pad>', '<pad>', '<pad>', '<pad>', '<pad>', '<pad>', '<pad>', '<pad>', '<pad>', '<pad>', '<pad>', '<pad>', '<pad>', '<pad>', '<pad>', '<pad>', '<pad>', '<pad>', '<pad>', '<pad>', '<pad>', '<pad>', '<pad>', '<pad>', '<pad>', '<pad>', '<pad>', '<pad>', '<pad>', '<pad>', '<pad>', '<pad>', '<pad>', '<pad>', 'd_5856_rf', 'h_90970', '1_days', 'd_7265', 'h_97110', 'h_97140', '1_days', 'd_5856_rf', 'd_V5869', 'h_82728', 'h_83036', 'h_83540', 'h_90970', '1_days', 'd_25200', 'd_7842', 'h_31575', 'h_99204', '4_days', 'd_5856_rf', 'h_90970', '2_days', 'd_5856_rf', 'h_90970', '7_days', 'd_99673', 'h_93990', 'h_99214', '7_days', 'd_27542', 'd_5856_rf', 'h_82310', 'h_84100', '5_days', 'd_5856_rf', 'h_90961', '2_days', 'd_5856_rf', 'h_83970', '26_days', 'd_5856_rf', 'h_90960', '2_days', 'd_5856_rf', 'h_83970', '14_days', 'd_27542', 'd_5856_rf', 'h_82310', 'h_84100', '15_days', 'd_5856_rf', 'h_90960', '6_days', 'd_5856_rf', 'd_V5869', 'h_82728', 'h_83036', 'h_83540', '7_days', 'd_5856_rf', 'd_99673', 'h_83970', 'h_99214', '8_days', 'd_44032', 'd_4592', 'd_99673', 'h_35476', 'h_36147', 'h_75791', '5_days', 'd_99673', 'h_99214', '4_days', 'd_5856_rf', 'h_90960', '4_days', 'd_5856_rf', 'h_83970', '27_days', 'd_5856_rf', 'h_90961', '1_days', 'd_27542', 'd_5856_rf', 'h_83970', 'h_86803', '1_days', 'd_44032', 'd_4471', 'd_4592', 'h_35475', 'h_36147', 'h_75791', '5_days', 'd_99673', 'h_99214', '3_days', 'd_5856_rf', 'h_82306', '20_days', 'd_5856_rf', 'h_90960', '6_days', 'd_5856_rf', 'd_V5869', 'h_82306', 'h_82728', 'h_83036', 'h_86706', '7_days', 'd_27542', 'd_5856_rf', 'h_82310', 'h_84100', '7_days', 'd_27542', 'h_82310', 'h_84100', '7_days', 'd_27542', 'd_5856_rf', 'h_82310', 'h_84100', '2_days', 'd_2809', '2_days', 'd_5856_rf', 'h_90960', '3_days', 'd_5856_rf', 'h_83970', '7_days', 'd_27542', 'd_5856_rf', 'h_82310', 'h_84100', '7_days', 'd_27542', 'd_5856_rf', 'h_82310', 'h_84100', '7_days', 'd_27542', 'd_5856_rf', 'h_82310', 'h_84100', '5_days', 'd_2809', '2_days', 'd_5856_rf', 'h_83970', 'h_90960', '7_days', 'd_27542', 'd_5856_rf', 'h_82310', 'h_84100', '7_days', 'd_27542', 'd_5856_rf', 'd_99673', 'h_82310', 'h_84100', 'h_93990', 'h_99214', '8_days', 'd_44032', 'd_4471', 'd_4592', 'h_35476', 'h_36147', 'h_75791', '1_days', 'd_2441', 'd_27542', 'h_82310', 'h_84100', '4_days', 'd_99673', 'h_99214', '1_days', 'd_27542', 'd_2809', 'd_5856_rf', 'h_82310', 'h_84100', '2_days', 'd_5856_rf', 'h_90960', '3_days', 'd_40391', 'd_4280_rf', 'd_7802', 'd_78900', 'h_72192', 'h_74150', 'h_93010', 'h_99285', 'p_8801', 'admission', 'p_9929', '1_days', 'd_4280_rf', 'd_7802', 'd_7804', 'h_71010', 'h_99236', 'discharge', '1_days', 'd_5856_rf', 'd_V5869', 'h_82306', 'h_82728', 'h_83036', '7_days', 'd_2767', 'd_5856_rf', 'h_82310', 'h_84100', '2_days', 'd_2809', '5_days', 'd_27542', 'd_5856_rf', 'h_82310', 'h_84100', '7_days', 'd_27542', 'd_5856_rf', 'h_82310', 'h_84100', '5_days', 'd_5856_rf', 'h_90961', '2_days', 'd_5856_rf', 'h_83970', '7_days', 'd_27542', 'd_5856_rf', 'h_82310', 'h_84100', '7_days', 'd_2767', 'd_5856_rf', 'h_82310', 'h_84100', '6_days', 'd_27542', 'd_5856_rf', 'h_82310', 'h_84100', '6_days', 'd_2809', '2_days', 'd_27542', 'd_5856_rf', 'h_83970', 'h_86803', 'h_90960', '7_days', 'd_5856_rf', 'h_84100', '7_days', 'd_5856_rf', 'd_99673', 'h_93990', 'h_99214', '2_days', 'd_2441', 'd_5856_rf', 'h_82310', 'h_84100', '5_days', 'd_2441', 'd_5856_rf', 'h_82310', 'h_84100', '9_days', 'd_2441', 'd_2809', 'd_5856_rf', 'h_82310', 'h_84100', '1_days', 'd_5856_rf', 'h_90960', 0, '27NHU5AI9', 50, 1]\n"
     ]
    }
   ],
   "source": [
    "print(df.iloc[0].tolist())"
   ]
  },
  {
   "cell_type": "code",
   "execution_count": null,
   "id": "disturbed-outdoors",
   "metadata": {},
   "outputs": [],
   "source": [
    "#### Make Data Imbalanced (Val & Test)"
   ]
  },
  {
   "cell_type": "code",
   "execution_count": null,
   "id": "purple-hayes",
   "metadata": {},
   "outputs": [],
   "source": [
    "# df_val = pd.read_csv(OUT_VALID_DATA_PATH)\n",
    "# df_test = pd.read_csv(OUT_TEST_DATA_PATH)"
   ]
  },
  {
   "cell_type": "code",
   "execution_count": null,
   "id": "average-wisdom",
   "metadata": {},
   "outputs": [],
   "source": [
    "# df_val.head()"
   ]
  },
  {
   "cell_type": "code",
   "execution_count": null,
   "id": "growing-phase",
   "metadata": {},
   "outputs": [],
   "source": [
    "def imbalance(df, output_path, label='d_00845'):\n",
    "    \"\"\"Imbalance dataset 99/1 ratio.\"\"\"\n",
    "    class_0 = df[label].value_counts(normalize=False)[0]\n",
    "    class_1 = int(class_0/99.0)\n",
    "    df0 = df[df[label]==0]\n",
    "    df1 = df[df[label]==1]\n",
    "    df1 = df.sample(n=class_1)\n",
    "    df_out = pd.concat([df0, df1], axis=0)\n",
    "    #import pdb; pdb.set_trace()\n",
    "    df_out = df_out.sort_values(by=['num_gt_codes'], ascending=False)\n",
    "    #df_out = df_out.sample(frac=1)\n",
    "    \n",
    "    output_dir = os.path.dirname(output_path)\n",
    "    os.makedirs(output_dir, exist_ok=True)\n",
    "    \n",
    "    df_out.to_csv(output_path, index=False)\n",
    "    return df_out"
   ]
  },
  {
   "cell_type": "code",
   "execution_count": null,
   "id": "rational-stake",
   "metadata": {},
   "outputs": [],
   "source": []
  },
  {
   "cell_type": "code",
   "execution_count": null,
   "id": "endless-investment",
   "metadata": {},
   "outputs": [],
   "source": [
    "# df_val2 = imbalance(df_val, OUT_VALID_DATA_PATH2)"
   ]
  },
  {
   "cell_type": "code",
   "execution_count": null,
   "id": "grand-manufacturer",
   "metadata": {},
   "outputs": [],
   "source": [
    "# df_val2.head()"
   ]
  },
  {
   "cell_type": "code",
   "execution_count": null,
   "id": "technological-venue",
   "metadata": {},
   "outputs": [],
   "source": [
    "# df_test2 = imbalance(df_test, OUT_TEST_DATA_PATH2)"
   ]
  },
  {
   "cell_type": "code",
   "execution_count": null,
   "id": "introductory-compression",
   "metadata": {},
   "outputs": [],
   "source": [
    "# df_test2.head(10)"
   ]
  },
  {
   "cell_type": "code",
   "execution_count": null,
   "id": "happy-nature",
   "metadata": {},
   "outputs": [],
   "source": [
    "# df_test2[label].value_counts()"
   ]
  },
  {
   "cell_type": "code",
   "execution_count": null,
   "id": "headed-indiana",
   "metadata": {},
   "outputs": [],
   "source": [
    "#End..."
   ]
  },
  {
   "cell_type": "code",
   "execution_count": null,
   "id": "acting-island",
   "metadata": {},
   "outputs": [],
   "source": [
    "nrows = None\n",
    "label = 'd_00845'"
   ]
  },
  {
   "cell_type": "code",
   "execution_count": null,
   "id": "changed-navigation",
   "metadata": {},
   "outputs": [],
   "source": [
    "df_train = pd.read_csv(TRAIN_DATA_PATH, nrows=None)"
   ]
  },
  {
   "cell_type": "code",
   "execution_count": null,
   "id": "bizarre-netherlands",
   "metadata": {},
   "outputs": [],
   "source": [
    "df_val = pd.read_csv(VALID_DATA_PATH, nrows=None)"
   ]
  },
  {
   "cell_type": "code",
   "execution_count": null,
   "id": "advised-halifax",
   "metadata": {},
   "outputs": [],
   "source": [
    "df_test = pd.read_csv(TEST_DATA_PATH, nrows=None)"
   ]
  },
  {
   "cell_type": "code",
   "execution_count": null,
   "id": "seven-treat",
   "metadata": {},
   "outputs": [],
   "source": [
    "df_train[label].value_counts(normalize=False), df_train[label].value_counts(normalize=True)"
   ]
  },
  {
   "cell_type": "code",
   "execution_count": null,
   "id": "surprised-campbell",
   "metadata": {},
   "outputs": [],
   "source": [
    "df_val[label].value_counts(normalize=False), df_val[label].value_counts(normalize=True)"
   ]
  },
  {
   "cell_type": "code",
   "execution_count": null,
   "id": "attractive-purple",
   "metadata": {},
   "outputs": [],
   "source": [
    "df_test[label].value_counts(normalize=False), df_test[label].value_counts(normalize=True)"
   ]
  },
  {
   "cell_type": "code",
   "execution_count": null,
   "id": "vietnamese-assurance",
   "metadata": {},
   "outputs": [],
   "source": [
    "# print(df_all.shape)\n",
    "# df_all['d_00845'].value_counts(normalize=False)"
   ]
  },
  {
   "cell_type": "code",
   "execution_count": null,
   "id": "infrared-phenomenon",
   "metadata": {},
   "outputs": [],
   "source": [
    "# df_train = pd.read_csv(TRAIN_DATA_PATH, nrows=None)\n",
    "# df_val = pd.read_csv(VALID_DATA_PATH, nrows=None)\n",
    "# df_test = pd.read_csv(TEST_DATA_PATH, nrows=None)"
   ]
  },
  {
   "cell_type": "code",
   "execution_count": 11,
   "id": "victorian-precipitation",
   "metadata": {},
   "outputs": [],
   "source": [
    "with open(AD_DIS_PATH, \"r\") as fp:\n",
    "    dict_ad_dis = json.load(fp)"
   ]
  },
  {
   "cell_type": "code",
   "execution_count": 12,
   "id": "continuous-model",
   "metadata": {},
   "outputs": [
    {
     "data": {
      "text/plain": [
       "20050947"
      ]
     },
     "execution_count": 12,
     "metadata": {},
     "output_type": "execute_result"
    }
   ],
   "source": [
    "len(dict_ad_dis)"
   ]
  },
  {
   "cell_type": "code",
   "execution_count": 14,
   "id": "eight-picnic",
   "metadata": {},
   "outputs": [
    {
     "data": {
      "text/plain": [
       "'27NHU5AI9_20110101'"
      ]
     },
     "execution_count": 14,
     "metadata": {},
     "output_type": "execute_result"
    }
   ],
   "source": [
    "patient_id = df['patient_id'].iloc[0]\n",
    "patient_id += '_' + '20110101'\n",
    "patient_id"
   ]
  },
  {
   "cell_type": "code",
   "execution_count": 15,
   "id": "systematic-prerequisite",
   "metadata": {},
   "outputs": [
    {
     "data": {
      "text/plain": [
       "{'admission': [86], 'discharge': [79]}"
      ]
     },
     "execution_count": 15,
     "metadata": {},
     "output_type": "execute_result"
    }
   ],
   "source": [
    "dict_ad_dis[patient_id]"
   ]
  },
  {
   "cell_type": "code",
   "execution_count": null,
   "id": "swiss-bernard",
   "metadata": {},
   "outputs": [],
   "source": []
  },
  {
   "cell_type": "code",
   "execution_count": null,
   "id": "graphic-seller",
   "metadata": {},
   "outputs": [],
   "source": [
    "\n",
    "df_all.shape, df_train.shape, df_val.shape, df_test.shape"
   ]
  },
  {
   "cell_type": "code",
   "execution_count": null,
   "id": "described-stopping",
   "metadata": {},
   "outputs": [],
   "source": [
    "df_all.value_counts(normalize=True), df_all.value_counts(normalize=False)"
   ]
  },
  {
   "cell_type": "code",
   "execution_count": null,
   "id": "basic-offering",
   "metadata": {},
   "outputs": [],
   "source": []
  },
  {
   "cell_type": "code",
   "execution_count": null,
   "id": "quarterly-poker",
   "metadata": {},
   "outputs": [],
   "source": []
  },
  {
   "cell_type": "code",
   "execution_count": null,
   "id": "oriental-killer",
   "metadata": {},
   "outputs": [],
   "source": []
  },
  {
   "cell_type": "code",
   "execution_count": null,
   "id": "literary-victory",
   "metadata": {},
   "outputs": [],
   "source": [
    "def add_ad_dis(row0, dict_ad_dis, n_events=1000):\n",
    "    \"\"\"Add admission and discharge to the row if available.\"\"\"\n",
    "    patient_id = row0['patient_id']\n",
    "    ad_dis = dict_ad_dis[patient_id]\n",
    "    ad = ad_dis['admission']\n",
    "    dis = ad_dis['discharge']\n",
    "    cols = [str(i) for i in range(n_events-1, -1, -1)]\n",
    "    all_cols = list(row0.index)\n",
    "    if ad or dis:\n",
    "        row = row0[cols].tolist()\n",
    "        row.reverse()\n",
    "        for indx in ad:\n",
    "            row.insert(indx, 'admission')\n",
    "        for indx in dis:\n",
    "            row.insert(indx, 'discharge')\n",
    "        row = row[:n_events]\n",
    "        row.reverse()\n",
    "        row0[cols] = row[:]\n",
    "    return row0    "
   ]
  },
  {
   "cell_type": "code",
   "execution_count": null,
   "id": "cooked-acceptance",
   "metadata": {},
   "outputs": [],
   "source": [
    "df_all2 = df_all.apply(add_ad_dis, args=(dict_ad_dis, SEQ_LEN), axis=1)\n",
    "df_train2 = df_train.apply(add_ad_dis, args=(dict_ad_dis, SEQ_LEN), axis=1)\n",
    "df_val2 = df_val.apply(add_ad_dis, args=(dict_ad_dis, SEQ_LEN), axis=1)\n",
    "df_test2 = df_test.apply(add_ad_dis, args=(dict_ad_dis, SEQ_LEN), axis=1)"
   ]
  },
  {
   "cell_type": "code",
   "execution_count": null,
   "id": "statistical-nickel",
   "metadata": {},
   "outputs": [],
   "source": [
    "df_all2.shape, df_train2.shape, df_val2.shape, df_test2.shape"
   ]
  },
  {
   "cell_type": "code",
   "execution_count": null,
   "id": "experienced-liabilities",
   "metadata": {},
   "outputs": [],
   "source": [
    "output_dir1 = os.path.dirname(OUT_ALL_DATA_PATH)\n",
    "output_dir2 = os.path.dirname(OUT_TRAIN_DATA_PATH)\n",
    "\n",
    "os.makedirs(output_dir1, exist_ok=True)\n",
    "os.makedirs(output_dir2, exist_ok=True)"
   ]
  },
  {
   "cell_type": "code",
   "execution_count": null,
   "id": "absent-violence",
   "metadata": {},
   "outputs": [],
   "source": [
    "df_all2.to_csv(OUT_ALL_DATA_PATH, index=False)\n",
    "df_train2.to_csv(OUT_TRAIN_DATA_PATH, index=False)\n",
    "df_val2.to_csv(OUT_VALID_DATA_PATH, index=False)\n",
    "df_test2.to_csv(OUT_TEST_DATA_PATH, index=False)"
   ]
  },
  {
   "cell_type": "code",
   "execution_count": null,
   "id": "speaking-mississippi",
   "metadata": {},
   "outputs": [],
   "source": []
  }
 ],
 "metadata": {
  "kernelspec": {
   "display_name": "conda_pytorch_p36",
   "language": "python",
   "name": "conda_pytorch_p36"
  },
  "language_info": {
   "codemirror_mode": {
    "name": "ipython",
    "version": 3
   },
   "file_extension": ".py",
   "mimetype": "text/x-python",
   "name": "python",
   "nbconvert_exporter": "python",
   "pygments_lexer": "ipython3",
   "version": "3.6.10"
  }
 },
 "nbformat": 4,
 "nbformat_minor": 5
}
