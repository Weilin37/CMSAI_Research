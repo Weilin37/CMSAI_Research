{
 "cells": [
  {
   "cell_type": "markdown",
   "id": "balanced-japan",
   "metadata": {},
   "source": [
    "This script adds `_RF` suffix for each available risk factor in the dataset"
   ]
  },
  {
   "cell_type": "code",
   "execution_count": 1,
   "id": "innocent-mounting",
   "metadata": {},
   "outputs": [],
   "source": [
    "import pandas as pd\n",
    "import re\n",
    "import torch"
   ]
  },
  {
   "cell_type": "code",
   "execution_count": 6,
   "id": "hybrid-politics",
   "metadata": {},
   "outputs": [],
   "source": [
    "FNAME = '20110101' #Enter either month/all\n",
    "DATA_TYPE = 'original' #Enter either downsampled/original\n",
    "\n",
    "SEQ_LEN = 1000\n",
    "\n",
    "ALL_DATA_PATH = f\"../../../data/AE_CDiff_d00845/output/data/1000/{DATA_TYPE}/preprocessed/{FNAME}.csv\"\n",
    "TRAIN_DATA_PATH = f\"../../../data/AE_CDiff_d00845/output/data/1000/{DATA_TYPE}/preprocessed/splits/{FNAME}/train.csv\"\n",
    "VALID_DATA_PATH = f\"../../../data/AE_CDiff_d00845/output/data/1000/{DATA_TYPE}/preprocessed/splits/{FNAME}/val.csv\"\n",
    "TEST_DATA_PATH = f\"../../../data/AE_CDiff_d00845/output/data/1000/{DATA_TYPE}/preprocessed/splits/{FNAME}/test.csv\"\n",
    "\n",
    "OUT_ALL_DATA_PATH = f\"../../../data/AE_CDiff_d00845/output/data/1000/{DATA_TYPE}/preprocessed/{FNAME}_2.csv\"\n",
    "OUT_TRAIN_DATA_PATH = f\"../../../data/AE_CDiff_d00845/output/data/1000/{DATA_TYPE}/preprocessed/splits/{FNAME}/train2.csv\"\n",
    "OUT_VALID_DATA_PATH = f\"../../../data/AE_CDiff_d00845/output/data/1000/{DATA_TYPE}/preprocessed/splits/{FNAME}/val2.csv\"\n",
    "OUT_TEST_DATA_PATH = f\"../../../data/AE_CDiff_d00845/output/data/1000/{DATA_TYPE}/preprocessed/splits/{FNAME}/test2.csv\"\n",
    "\n",
    "#Ground Truth Risk Factors File Path\n",
    "GT_CODES_PATH = \"../../../data/AE_CDiff_d00845/cdiff_risk_factors_codes.csv\"\n",
    "OUT_GT_CODES_PATH = \"../../../data/AE_CDiff_d00845/cdiff_risk_factors_codes.csv\""
   ]
  },
  {
   "cell_type": "code",
   "execution_count": 3,
   "id": "north-concentrate",
   "metadata": {},
   "outputs": [
    {
     "name": "stdout",
     "output_type": "stream",
     "text": [
      "(135, 5)\n"
     ]
    },
    {
     "data": {
      "text/html": [
       "<div>\n",
       "<style scoped>\n",
       "    .dataframe tbody tr th:only-of-type {\n",
       "        vertical-align: middle;\n",
       "    }\n",
       "\n",
       "    .dataframe tbody tr th {\n",
       "        vertical-align: top;\n",
       "    }\n",
       "\n",
       "    .dataframe thead th {\n",
       "        text-align: right;\n",
       "    }\n",
       "</style>\n",
       "<table border=\"1\" class=\"dataframe\">\n",
       "  <thead>\n",
       "    <tr style=\"text-align: right;\">\n",
       "      <th></th>\n",
       "      <th>Code</th>\n",
       "      <th>Code_System</th>\n",
       "      <th>Internal_Code</th>\n",
       "      <th>Group</th>\n",
       "      <th>Description</th>\n",
       "    </tr>\n",
       "  </thead>\n",
       "  <tbody>\n",
       "    <tr>\n",
       "      <th>0</th>\n",
       "      <td>555.0</td>\n",
       "      <td>ICD-9 Diagnosis</td>\n",
       "      <td>d_5550</td>\n",
       "      <td>Inflammatory Bowel Disease</td>\n",
       "      <td>Crohn’s disease of small intestine, including ...</td>\n",
       "    </tr>\n",
       "    <tr>\n",
       "      <th>1</th>\n",
       "      <td>555.1</td>\n",
       "      <td>ICD-9 Diagnosis</td>\n",
       "      <td>d_5551</td>\n",
       "      <td>Inflammatory Bowel Disease</td>\n",
       "      <td>Crohn’s disease of large intestine (regional c...</td>\n",
       "    </tr>\n",
       "    <tr>\n",
       "      <th>2</th>\n",
       "      <td>555.2</td>\n",
       "      <td>ICD-9 Diagnosis</td>\n",
       "      <td>d_5552</td>\n",
       "      <td>Inflammatory Bowel Disease</td>\n",
       "      <td>Crohn’s disease of small intestine with large ...</td>\n",
       "    </tr>\n",
       "    <tr>\n",
       "      <th>3</th>\n",
       "      <td>555.9</td>\n",
       "      <td>ICD-9 Diagnosis</td>\n",
       "      <td>d_5559</td>\n",
       "      <td>Inflammatory Bowel Disease</td>\n",
       "      <td>Crohn’s disease of unspecified site (regional ...</td>\n",
       "    </tr>\n",
       "    <tr>\n",
       "      <th>4</th>\n",
       "      <td>713.1</td>\n",
       "      <td>ICD-9 Diagnosis</td>\n",
       "      <td>d_7131</td>\n",
       "      <td>Inflammatory Bowel Disease</td>\n",
       "      <td>Arthropathy associated with gastrointestinal c...</td>\n",
       "    </tr>\n",
       "  </tbody>\n",
       "</table>\n",
       "</div>"
      ],
      "text/plain": [
       "    Code      Code_System Internal_Code                       Group  \\\n",
       "0  555.0  ICD-9 Diagnosis        d_5550  Inflammatory Bowel Disease   \n",
       "1  555.1  ICD-9 Diagnosis        d_5551  Inflammatory Bowel Disease   \n",
       "2  555.2  ICD-9 Diagnosis        d_5552  Inflammatory Bowel Disease   \n",
       "3  555.9  ICD-9 Diagnosis        d_5559  Inflammatory Bowel Disease   \n",
       "4  713.1  ICD-9 Diagnosis        d_7131  Inflammatory Bowel Disease   \n",
       "\n",
       "                                         Description  \n",
       "0  Crohn’s disease of small intestine, including ...  \n",
       "1  Crohn’s disease of large intestine (regional c...  \n",
       "2  Crohn’s disease of small intestine with large ...  \n",
       "3  Crohn’s disease of unspecified site (regional ...  \n",
       "4  Arthropathy associated with gastrointestinal c...  "
      ]
     },
     "execution_count": 3,
     "metadata": {},
     "output_type": "execute_result"
    }
   ],
   "source": [
    "df_codes = pd.read_csv(GT_CODES_PATH)\n",
    "print(df_codes.shape)\n",
    "df_codes.head()"
   ]
  },
  {
   "cell_type": "code",
   "execution_count": 4,
   "id": "furnished-return",
   "metadata": {},
   "outputs": [
    {
     "data": {
      "text/html": [
       "<div>\n",
       "<style scoped>\n",
       "    .dataframe tbody tr th:only-of-type {\n",
       "        vertical-align: middle;\n",
       "    }\n",
       "\n",
       "    .dataframe tbody tr th {\n",
       "        vertical-align: top;\n",
       "    }\n",
       "\n",
       "    .dataframe thead th {\n",
       "        text-align: right;\n",
       "    }\n",
       "</style>\n",
       "<table border=\"1\" class=\"dataframe\">\n",
       "  <thead>\n",
       "    <tr style=\"text-align: right;\">\n",
       "      <th></th>\n",
       "      <th>Code</th>\n",
       "      <th>Code_System</th>\n",
       "      <th>Internal_Code</th>\n",
       "      <th>Group</th>\n",
       "      <th>Description</th>\n",
       "    </tr>\n",
       "  </thead>\n",
       "  <tbody>\n",
       "    <tr>\n",
       "      <th>130</th>\n",
       "      <td>50.*</td>\n",
       "      <td>ICD-9 Procedure</td>\n",
       "      <td>p_50*</td>\n",
       "      <td>Surgery</td>\n",
       "      <td>Operations On Liver</td>\n",
       "    </tr>\n",
       "    <tr>\n",
       "      <th>131</th>\n",
       "      <td>51.*</td>\n",
       "      <td>ICD-9 Procedure</td>\n",
       "      <td>p_51*</td>\n",
       "      <td>Surgery</td>\n",
       "      <td>Operations On Gallbladder And Biliary Tract</td>\n",
       "    </tr>\n",
       "    <tr>\n",
       "      <th>132</th>\n",
       "      <td>52.*</td>\n",
       "      <td>ICD-9 Procedure</td>\n",
       "      <td>p_52*</td>\n",
       "      <td>Surgery</td>\n",
       "      <td>Operations On Pancreas</td>\n",
       "    </tr>\n",
       "    <tr>\n",
       "      <th>133</th>\n",
       "      <td>53.*</td>\n",
       "      <td>ICD-9 Procedure</td>\n",
       "      <td>p_53*</td>\n",
       "      <td>Surgery</td>\n",
       "      <td>Repair Of Hernia</td>\n",
       "    </tr>\n",
       "    <tr>\n",
       "      <th>134</th>\n",
       "      <td>54.*</td>\n",
       "      <td>ICD-9 Procedure</td>\n",
       "      <td>p_54*</td>\n",
       "      <td>Surgery</td>\n",
       "      <td>Other Operations On Abdominal Region</td>\n",
       "    </tr>\n",
       "  </tbody>\n",
       "</table>\n",
       "</div>"
      ],
      "text/plain": [
       "     Code      Code_System Internal_Code    Group  \\\n",
       "130  50.*  ICD-9 Procedure         p_50*  Surgery   \n",
       "131  51.*  ICD-9 Procedure         p_51*  Surgery   \n",
       "132  52.*  ICD-9 Procedure         p_52*  Surgery   \n",
       "133  53.*  ICD-9 Procedure         p_53*  Surgery   \n",
       "134  54.*  ICD-9 Procedure         p_54*  Surgery   \n",
       "\n",
       "                                     Description  \n",
       "130                          Operations On Liver  \n",
       "131  Operations On Gallbladder And Biliary Tract  \n",
       "132                       Operations On Pancreas  \n",
       "133                             Repair Of Hernia  \n",
       "134         Other Operations On Abdominal Region  "
      ]
     },
     "execution_count": 4,
     "metadata": {},
     "output_type": "execute_result"
    }
   ],
   "source": [
    "df_codes.tail()"
   ]
  },
  {
   "cell_type": "code",
   "execution_count": 7,
   "id": "specialized-truth",
   "metadata": {},
   "outputs": [],
   "source": [
    "def add_rf_suffix0(row):\n",
    "    \"\"\"Adds _rf suffix to ground truth codes.\"\"\"\n",
    "    code = row['Internal_Code']\n",
    "    return code+'_rf'\n",
    "df_codes['Internal_Code2'] = df_codes.apply(add_rf_suffix0, axis=1)\n",
    "\n",
    "df_codes.to_csv(OUT_GT_CODES_PATH, index=False)"
   ]
  },
  {
   "cell_type": "code",
   "execution_count": 8,
   "id": "technological-sessions",
   "metadata": {},
   "outputs": [
    {
     "data": {
      "text/html": [
       "<div>\n",
       "<style scoped>\n",
       "    .dataframe tbody tr th:only-of-type {\n",
       "        vertical-align: middle;\n",
       "    }\n",
       "\n",
       "    .dataframe tbody tr th {\n",
       "        vertical-align: top;\n",
       "    }\n",
       "\n",
       "    .dataframe thead th {\n",
       "        text-align: right;\n",
       "    }\n",
       "</style>\n",
       "<table border=\"1\" class=\"dataframe\">\n",
       "  <thead>\n",
       "    <tr style=\"text-align: right;\">\n",
       "      <th></th>\n",
       "      <th>Code</th>\n",
       "      <th>Code_System</th>\n",
       "      <th>Internal_Code</th>\n",
       "      <th>Group</th>\n",
       "      <th>Description</th>\n",
       "      <th>Internal_Code2</th>\n",
       "    </tr>\n",
       "  </thead>\n",
       "  <tbody>\n",
       "    <tr>\n",
       "      <th>0</th>\n",
       "      <td>555.0</td>\n",
       "      <td>ICD-9 Diagnosis</td>\n",
       "      <td>d_5550</td>\n",
       "      <td>Inflammatory Bowel Disease</td>\n",
       "      <td>Crohn’s disease of small intestine, including ...</td>\n",
       "      <td>d_5550_rf</td>\n",
       "    </tr>\n",
       "    <tr>\n",
       "      <th>1</th>\n",
       "      <td>555.1</td>\n",
       "      <td>ICD-9 Diagnosis</td>\n",
       "      <td>d_5551</td>\n",
       "      <td>Inflammatory Bowel Disease</td>\n",
       "      <td>Crohn’s disease of large intestine (regional c...</td>\n",
       "      <td>d_5551_rf</td>\n",
       "    </tr>\n",
       "    <tr>\n",
       "      <th>2</th>\n",
       "      <td>555.2</td>\n",
       "      <td>ICD-9 Diagnosis</td>\n",
       "      <td>d_5552</td>\n",
       "      <td>Inflammatory Bowel Disease</td>\n",
       "      <td>Crohn’s disease of small intestine with large ...</td>\n",
       "      <td>d_5552_rf</td>\n",
       "    </tr>\n",
       "    <tr>\n",
       "      <th>3</th>\n",
       "      <td>555.9</td>\n",
       "      <td>ICD-9 Diagnosis</td>\n",
       "      <td>d_5559</td>\n",
       "      <td>Inflammatory Bowel Disease</td>\n",
       "      <td>Crohn’s disease of unspecified site (regional ...</td>\n",
       "      <td>d_5559_rf</td>\n",
       "    </tr>\n",
       "    <tr>\n",
       "      <th>4</th>\n",
       "      <td>713.1</td>\n",
       "      <td>ICD-9 Diagnosis</td>\n",
       "      <td>d_7131</td>\n",
       "      <td>Inflammatory Bowel Disease</td>\n",
       "      <td>Arthropathy associated with gastrointestinal c...</td>\n",
       "      <td>d_7131_rf</td>\n",
       "    </tr>\n",
       "  </tbody>\n",
       "</table>\n",
       "</div>"
      ],
      "text/plain": [
       "    Code      Code_System Internal_Code                       Group  \\\n",
       "0  555.0  ICD-9 Diagnosis        d_5550  Inflammatory Bowel Disease   \n",
       "1  555.1  ICD-9 Diagnosis        d_5551  Inflammatory Bowel Disease   \n",
       "2  555.2  ICD-9 Diagnosis        d_5552  Inflammatory Bowel Disease   \n",
       "3  555.9  ICD-9 Diagnosis        d_5559  Inflammatory Bowel Disease   \n",
       "4  713.1  ICD-9 Diagnosis        d_7131  Inflammatory Bowel Disease   \n",
       "\n",
       "                                         Description Internal_Code2  \n",
       "0  Crohn’s disease of small intestine, including ...      d_5550_rf  \n",
       "1  Crohn’s disease of large intestine (regional c...      d_5551_rf  \n",
       "2  Crohn’s disease of small intestine with large ...      d_5552_rf  \n",
       "3  Crohn’s disease of unspecified site (regional ...      d_5559_rf  \n",
       "4  Arthropathy associated with gastrointestinal c...      d_7131_rf  "
      ]
     },
     "execution_count": 8,
     "metadata": {},
     "output_type": "execute_result"
    }
   ],
   "source": [
    "df_codes.head()"
   ]
  },
  {
   "cell_type": "code",
   "execution_count": null,
   "id": "amateur-establishment",
   "metadata": {},
   "outputs": [],
   "source": [
    "def add_rf_suffix_gt(row0):\n",
    "    \"\"\"Add _rf suffix to ground truth codes in the given row of the dataset.\"\"\"\n",
    "    row = row0.tolist()\n",
    "    return row['Internal_Code'] + '_rf'\n"
   ]
  },
  {
   "cell_type": "code",
   "execution_count": 55,
   "id": "fuzzy-belief",
   "metadata": {},
   "outputs": [],
   "source": [
    "def add_rf_suffix(row0, gt_codes_no_star, gt_codes_star):\n",
    "    \"\"\"Add _rf suffix to ground truth codes in the given row of the dataset.\"\"\"\n",
    "    row = row0.tolist()\n",
    "    row = [token+'_rf' if token in gt_codes_no_star or list(filter(token.startswith, gt_codes_star)) != [] else token for token in row]\n",
    "    num_gt_codes = len([token for token in row if token.endswith('_rf')])\n",
    "    has_gt_codes = 0\n",
    "    if num_gt_codes > 0:\n",
    "        has_gt_codes = 1\n",
    "    row.append(num_gt_codes)\n",
    "    row.append(has_gt_codes)\n",
    "    return row"
   ]
  },
  {
   "cell_type": "code",
   "execution_count": 56,
   "id": "northern-naples",
   "metadata": {},
   "outputs": [
    {
     "data": {
      "text/plain": [
       "(135, 13, 122, 135)"
      ]
     },
     "execution_count": 56,
     "metadata": {},
     "output_type": "execute_result"
    }
   ],
   "source": [
    "gt_codes = df_codes.Internal_Code.tolist()\n",
    "gt_no_stars = [code for code in gt_codes if not code.endswith('*')]\n",
    "gt_with_stars = [code.replace('*', '') for code in gt_codes if code.endswith('*')]\n",
    "\n",
    "len(gt_codes), len(gt_with_stars), len(gt_no_stars), len(gt_with_stars) + len(gt_no_stars)"
   ]
  },
  {
   "cell_type": "code",
   "execution_count": 57,
   "id": "experienced-canal",
   "metadata": {},
   "outputs": [
    {
     "name": "stdout",
     "output_type": "stream",
     "text": [
      "['p_42', 'p_43', 'p_44', 'p_45', 'p_46', 'p_47', 'p_48', 'p_49', 'p_50', 'p_51', 'p_52', 'p_53', 'p_54']\n"
     ]
    }
   ],
   "source": [
    "print(gt_with_stars)"
   ]
  },
  {
   "cell_type": "code",
   "execution_count": 58,
   "id": "disciplinary-texture",
   "metadata": {},
   "outputs": [
    {
     "name": "stdout",
     "output_type": "stream",
     "text": [
      "['d_5550', 'd_5551', 'd_5552', 'd_5559', 'd_7131', 'd_566', 'd_56981', 'd_56089', 'd_556', 'd_5561', 'd_5562', 'd_5563', 'd_5564', 'd_5565', 'd_5566', 'd_5568', 'd_5569', 'd_5589', 'd_5641', 'd_56210', 'd_56112', 'd_56211', 'd_56213', 'd_1530', 'd_1531', 'd_1532', 'd_1533', 'd_1534', 'd_1535', 'd_1536', 'd_1537', 'd_1538', 'd_1539', 'd_1540', 'd_1541', 'd_1542', 'd_1543', 'd_1548', 'd_1975', 'd_2303', 'd_2304', 'p_4523', 'p_4525', 'p_4542', 'p_4592', 'p_4593', 'p_4594', 'p_485', 'p_4862', 'p_V42', 'p_V420', 'p_V421', 'p_V422', 'p_V423', 'p_V424', 'p_V425', 'p_V426', 'p_V427', 'p_V428', 'p_V4281', 'p_V4282', 'p_V4283', 'p_V4284', 'p_V4289', 'p_V429', 'h_45378', 'h_G0104', 'h_G0105', 'h_G0121', 'h_58558', 'h_44620', 'h_44625', 'h_44626', 'h_44139', 'h_44140', 'h_44141', 'h_44143', 'h_44144', 'h_44145', 'h_44146', 'h_44147', 'h_44150', 'h_44151', 'h_44155', 'h_44156', 'h_44157', 'h_44158', 'h_44160', 'h_44320', 'h_44322', 'h_44799', 'h_45110', 'h_45111', 'h_45112', 'h_45113', 'h_45114', 'h_45119', 'h_45120', 'h_45121', 'h_45123', 'h_45399', 'd_042', 'd_585', 'd_5851', 'd_5852', 'd_5853', 'd_5854', 'd_5855', 'd_5856', 'd_5859', 'd_496', 'd_49122', 'd_49121', 'd_428', 'd_4280', 'd_4281', 'd_4282', 'd_4283', 'd_4284', 'd_4289', 'd_00845', 'p_V1529']\n"
     ]
    }
   ],
   "source": [
    "print(gt_no_stars)"
   ]
  },
  {
   "cell_type": "code",
   "execution_count": 59,
   "id": "internal-musician",
   "metadata": {},
   "outputs": [
    {
     "ename": "KeyboardInterrupt",
     "evalue": "",
     "output_type": "error",
     "traceback": [
      "\u001b[0;31m---------------------------------------------------------------------------\u001b[0m",
      "\u001b[0;31mKeyboardInterrupt\u001b[0m                         Traceback (most recent call last)",
      "\u001b[0;32m<ipython-input-59-8aee23c56932>\u001b[0m in \u001b[0;36m<module>\u001b[0;34m\u001b[0m\n\u001b[1;32m      4\u001b[0m \u001b[0;34m\u001b[0m\u001b[0m\n\u001b[1;32m      5\u001b[0m \u001b[0;31m#All Data\u001b[0m\u001b[0;34m\u001b[0m\u001b[0;34m\u001b[0m\u001b[0;34m\u001b[0m\u001b[0m\n\u001b[0;32m----> 6\u001b[0;31m \u001b[0mdf\u001b[0m \u001b[0;34m=\u001b[0m \u001b[0mpd\u001b[0m\u001b[0;34m.\u001b[0m\u001b[0mread_csv\u001b[0m\u001b[0;34m(\u001b[0m\u001b[0mALL_DATA_PATH\u001b[0m\u001b[0;34m,\u001b[0m \u001b[0mnrows\u001b[0m\u001b[0;34m=\u001b[0m\u001b[0mnrows\u001b[0m\u001b[0;34m)\u001b[0m\u001b[0;34m\u001b[0m\u001b[0;34m\u001b[0m\u001b[0m\n\u001b[0m\u001b[1;32m      7\u001b[0m \u001b[0mresults\u001b[0m \u001b[0;34m=\u001b[0m \u001b[0mdf\u001b[0m\u001b[0;34m[\u001b[0m\u001b[0mcolumns\u001b[0m\u001b[0;34m]\u001b[0m\u001b[0;34m.\u001b[0m\u001b[0mapply\u001b[0m\u001b[0;34m(\u001b[0m\u001b[0madd_rf_suffix\u001b[0m\u001b[0;34m,\u001b[0m \u001b[0margs\u001b[0m\u001b[0;34m=\u001b[0m\u001b[0;34m(\u001b[0m\u001b[0mgt_no_stars\u001b[0m\u001b[0;34m,\u001b[0m \u001b[0mgt_with_stars\u001b[0m\u001b[0;34m)\u001b[0m\u001b[0;34m,\u001b[0m \u001b[0maxis\u001b[0m\u001b[0;34m=\u001b[0m\u001b[0;36m1\u001b[0m\u001b[0;34m)\u001b[0m\u001b[0;34m\u001b[0m\u001b[0;34m\u001b[0m\u001b[0m\n\u001b[1;32m      8\u001b[0m \u001b[0;32mif\u001b[0m \u001b[0;34m'has_gt_codes'\u001b[0m \u001b[0;32mnot\u001b[0m \u001b[0;32min\u001b[0m \u001b[0mdf\u001b[0m\u001b[0;34m.\u001b[0m\u001b[0mcolumns\u001b[0m\u001b[0;34m:\u001b[0m\u001b[0;34m\u001b[0m\u001b[0;34m\u001b[0m\u001b[0m\n",
      "\u001b[0;32m~/anaconda3/envs/pytorch_p36/lib/python3.6/site-packages/pandas/io/parsers.py\u001b[0m in \u001b[0;36mparser_f\u001b[0;34m(filepath_or_buffer, sep, delimiter, header, names, index_col, usecols, squeeze, prefix, mangle_dupe_cols, dtype, engine, converters, true_values, false_values, skipinitialspace, skiprows, skipfooter, nrows, na_values, keep_default_na, na_filter, verbose, skip_blank_lines, parse_dates, infer_datetime_format, keep_date_col, date_parser, dayfirst, cache_dates, iterator, chunksize, compression, thousands, decimal, lineterminator, quotechar, quoting, doublequote, escapechar, comment, encoding, dialect, error_bad_lines, warn_bad_lines, delim_whitespace, low_memory, memory_map, float_precision)\u001b[0m\n\u001b[1;32m    674\u001b[0m         )\n\u001b[1;32m    675\u001b[0m \u001b[0;34m\u001b[0m\u001b[0m\n\u001b[0;32m--> 676\u001b[0;31m         \u001b[0;32mreturn\u001b[0m \u001b[0m_read\u001b[0m\u001b[0;34m(\u001b[0m\u001b[0mfilepath_or_buffer\u001b[0m\u001b[0;34m,\u001b[0m \u001b[0mkwds\u001b[0m\u001b[0;34m)\u001b[0m\u001b[0;34m\u001b[0m\u001b[0;34m\u001b[0m\u001b[0m\n\u001b[0m\u001b[1;32m    677\u001b[0m \u001b[0;34m\u001b[0m\u001b[0m\n\u001b[1;32m    678\u001b[0m     \u001b[0mparser_f\u001b[0m\u001b[0;34m.\u001b[0m\u001b[0m__name__\u001b[0m \u001b[0;34m=\u001b[0m \u001b[0mname\u001b[0m\u001b[0;34m\u001b[0m\u001b[0;34m\u001b[0m\u001b[0m\n",
      "\u001b[0;32m~/anaconda3/envs/pytorch_p36/lib/python3.6/site-packages/pandas/io/parsers.py\u001b[0m in \u001b[0;36m_read\u001b[0;34m(filepath_or_buffer, kwds)\u001b[0m\n\u001b[1;32m    452\u001b[0m \u001b[0;34m\u001b[0m\u001b[0m\n\u001b[1;32m    453\u001b[0m     \u001b[0;32mtry\u001b[0m\u001b[0;34m:\u001b[0m\u001b[0;34m\u001b[0m\u001b[0;34m\u001b[0m\u001b[0m\n\u001b[0;32m--> 454\u001b[0;31m         \u001b[0mdata\u001b[0m \u001b[0;34m=\u001b[0m \u001b[0mparser\u001b[0m\u001b[0;34m.\u001b[0m\u001b[0mread\u001b[0m\u001b[0;34m(\u001b[0m\u001b[0mnrows\u001b[0m\u001b[0;34m)\u001b[0m\u001b[0;34m\u001b[0m\u001b[0;34m\u001b[0m\u001b[0m\n\u001b[0m\u001b[1;32m    455\u001b[0m     \u001b[0;32mfinally\u001b[0m\u001b[0;34m:\u001b[0m\u001b[0;34m\u001b[0m\u001b[0;34m\u001b[0m\u001b[0m\n\u001b[1;32m    456\u001b[0m         \u001b[0mparser\u001b[0m\u001b[0;34m.\u001b[0m\u001b[0mclose\u001b[0m\u001b[0;34m(\u001b[0m\u001b[0;34m)\u001b[0m\u001b[0;34m\u001b[0m\u001b[0;34m\u001b[0m\u001b[0m\n",
      "\u001b[0;32m~/anaconda3/envs/pytorch_p36/lib/python3.6/site-packages/pandas/io/parsers.py\u001b[0m in \u001b[0;36mread\u001b[0;34m(self, nrows)\u001b[0m\n\u001b[1;32m   1131\u001b[0m     \u001b[0;32mdef\u001b[0m \u001b[0mread\u001b[0m\u001b[0;34m(\u001b[0m\u001b[0mself\u001b[0m\u001b[0;34m,\u001b[0m \u001b[0mnrows\u001b[0m\u001b[0;34m=\u001b[0m\u001b[0;32mNone\u001b[0m\u001b[0;34m)\u001b[0m\u001b[0;34m:\u001b[0m\u001b[0;34m\u001b[0m\u001b[0;34m\u001b[0m\u001b[0m\n\u001b[1;32m   1132\u001b[0m         \u001b[0mnrows\u001b[0m \u001b[0;34m=\u001b[0m \u001b[0m_validate_integer\u001b[0m\u001b[0;34m(\u001b[0m\u001b[0;34m\"nrows\"\u001b[0m\u001b[0;34m,\u001b[0m \u001b[0mnrows\u001b[0m\u001b[0;34m)\u001b[0m\u001b[0;34m\u001b[0m\u001b[0;34m\u001b[0m\u001b[0m\n\u001b[0;32m-> 1133\u001b[0;31m         \u001b[0mret\u001b[0m \u001b[0;34m=\u001b[0m \u001b[0mself\u001b[0m\u001b[0;34m.\u001b[0m\u001b[0m_engine\u001b[0m\u001b[0;34m.\u001b[0m\u001b[0mread\u001b[0m\u001b[0;34m(\u001b[0m\u001b[0mnrows\u001b[0m\u001b[0;34m)\u001b[0m\u001b[0;34m\u001b[0m\u001b[0;34m\u001b[0m\u001b[0m\n\u001b[0m\u001b[1;32m   1134\u001b[0m \u001b[0;34m\u001b[0m\u001b[0m\n\u001b[1;32m   1135\u001b[0m         \u001b[0;31m# May alter columns / col_dict\u001b[0m\u001b[0;34m\u001b[0m\u001b[0;34m\u001b[0m\u001b[0;34m\u001b[0m\u001b[0m\n",
      "\u001b[0;32m~/anaconda3/envs/pytorch_p36/lib/python3.6/site-packages/pandas/io/parsers.py\u001b[0m in \u001b[0;36mread\u001b[0;34m(self, nrows)\u001b[0m\n\u001b[1;32m   2035\u001b[0m     \u001b[0;32mdef\u001b[0m \u001b[0mread\u001b[0m\u001b[0;34m(\u001b[0m\u001b[0mself\u001b[0m\u001b[0;34m,\u001b[0m \u001b[0mnrows\u001b[0m\u001b[0;34m=\u001b[0m\u001b[0;32mNone\u001b[0m\u001b[0;34m)\u001b[0m\u001b[0;34m:\u001b[0m\u001b[0;34m\u001b[0m\u001b[0;34m\u001b[0m\u001b[0m\n\u001b[1;32m   2036\u001b[0m         \u001b[0;32mtry\u001b[0m\u001b[0;34m:\u001b[0m\u001b[0;34m\u001b[0m\u001b[0;34m\u001b[0m\u001b[0m\n\u001b[0;32m-> 2037\u001b[0;31m             \u001b[0mdata\u001b[0m \u001b[0;34m=\u001b[0m \u001b[0mself\u001b[0m\u001b[0;34m.\u001b[0m\u001b[0m_reader\u001b[0m\u001b[0;34m.\u001b[0m\u001b[0mread\u001b[0m\u001b[0;34m(\u001b[0m\u001b[0mnrows\u001b[0m\u001b[0;34m)\u001b[0m\u001b[0;34m\u001b[0m\u001b[0;34m\u001b[0m\u001b[0m\n\u001b[0m\u001b[1;32m   2038\u001b[0m         \u001b[0;32mexcept\u001b[0m \u001b[0mStopIteration\u001b[0m\u001b[0;34m:\u001b[0m\u001b[0;34m\u001b[0m\u001b[0;34m\u001b[0m\u001b[0m\n\u001b[1;32m   2039\u001b[0m             \u001b[0;32mif\u001b[0m \u001b[0mself\u001b[0m\u001b[0;34m.\u001b[0m\u001b[0m_first_chunk\u001b[0m\u001b[0;34m:\u001b[0m\u001b[0;34m\u001b[0m\u001b[0;34m\u001b[0m\u001b[0m\n",
      "\u001b[0;32mpandas/_libs/parsers.pyx\u001b[0m in \u001b[0;36mpandas._libs.parsers.TextReader.read\u001b[0;34m()\u001b[0m\n",
      "\u001b[0;32mpandas/_libs/parsers.pyx\u001b[0m in \u001b[0;36mpandas._libs.parsers.TextReader._read_low_memory\u001b[0;34m()\u001b[0m\n",
      "\u001b[0;32mpandas/_libs/parsers.pyx\u001b[0m in \u001b[0;36mpandas._libs.parsers.TextReader._read_rows\u001b[0;34m()\u001b[0m\n",
      "\u001b[0;32mpandas/_libs/parsers.pyx\u001b[0m in \u001b[0;36mpandas._libs.parsers.TextReader._convert_column_data\u001b[0;34m()\u001b[0m\n",
      "\u001b[0;32mpandas/_libs/parsers.pyx\u001b[0m in \u001b[0;36mpandas._libs.parsers.TextReader._convert_tokens\u001b[0;34m()\u001b[0m\n",
      "\u001b[0;32mpandas/_libs/parsers.pyx\u001b[0m in \u001b[0;36mpandas._libs.parsers.TextReader._convert_with_dtype\u001b[0;34m()\u001b[0m\n",
      "\u001b[0;32m~/anaconda3/envs/pytorch_p36/lib/python3.6/site-packages/pandas/core/dtypes/common.py\u001b[0m in \u001b[0;36mis_categorical_dtype\u001b[0;34m(arr_or_dtype)\u001b[0m\n\u001b[1;32m    540\u001b[0m \u001b[0;34m\u001b[0m\u001b[0m\n\u001b[1;32m    541\u001b[0m \u001b[0;34m\u001b[0m\u001b[0m\n\u001b[0;32m--> 542\u001b[0;31m \u001b[0;32mdef\u001b[0m \u001b[0mis_categorical_dtype\u001b[0m\u001b[0;34m(\u001b[0m\u001b[0marr_or_dtype\u001b[0m\u001b[0;34m)\u001b[0m \u001b[0;34m->\u001b[0m \u001b[0mbool\u001b[0m\u001b[0;34m:\u001b[0m\u001b[0;34m\u001b[0m\u001b[0;34m\u001b[0m\u001b[0m\n\u001b[0m\u001b[1;32m    543\u001b[0m     \"\"\"\n\u001b[1;32m    544\u001b[0m     \u001b[0mCheck\u001b[0m \u001b[0mwhether\u001b[0m \u001b[0man\u001b[0m \u001b[0marray\u001b[0m\u001b[0;34m-\u001b[0m\u001b[0mlike\u001b[0m \u001b[0;32mor\u001b[0m \u001b[0mdtype\u001b[0m \u001b[0;32mis\u001b[0m \u001b[0mof\u001b[0m \u001b[0mthe\u001b[0m \u001b[0mCategorical\u001b[0m \u001b[0mdtype\u001b[0m\u001b[0;34m.\u001b[0m\u001b[0;34m\u001b[0m\u001b[0;34m\u001b[0m\u001b[0m\n",
      "\u001b[0;31mKeyboardInterrupt\u001b[0m: "
     ]
    }
   ],
   "source": [
    "columns = [str(i) for i in range(SEQ_LEN-1, -1, -1)]\n",
    "columns2 = columns + ['num_gt_codes', 'has_gt_codes']\n",
    "nrows = None\n",
    "\n",
    "#All Data\n",
    "df = pd.read_csv(ALL_DATA_PATH, nrows=nrows)\n",
    "results = df[columns].apply(add_rf_suffix, args=(gt_no_stars, gt_with_stars), axis=1)\n",
    "if 'has_gt_codes' not in df.columns:\n",
    "    df['has_gt_codes'] = 0\n",
    "df[columns2] = results.tolist()\n",
    "df.to_csv(OUT_ALL_DATA_PATH, index=False)\n",
    "print(df.shape)\n",
    "df.head()"
   ]
  },
  {
   "cell_type": "code",
   "execution_count": null,
   "id": "israeli-happening",
   "metadata": {},
   "outputs": [],
   "source": [
    "#Train Data\n",
    "df = pd.read_csv(TRAIN_DATA_PATH, nrows=nrows)\n",
    "results = df[columns].apply(add_rf_suffix, args=(gt_no_stars, gt_with_stars), axis=1)\n",
    "df[columns2] = results.tolist()\n",
    "df.to_csv(OUT_TRAIN_DATA_PATH, index=False)\n",
    "print(df.shape)\n",
    "df.head()"
   ]
  },
  {
   "cell_type": "code",
   "execution_count": null,
   "id": "north-grave",
   "metadata": {},
   "outputs": [],
   "source": [
    "#Valid Data\n",
    "df = pd.read_csv(VALID_DATA_PATH, nrows=nrows)\n",
    "results = df[columns].apply(add_rf_suffix, args=(gt_no_stars, gt_with_stars), axis=1)\n",
    "df[columns2] = results.tolist()\n",
    "df.to_csv(OUT_VALID_DATA_PATH, index=False)\n",
    "print(df.shape)\n",
    "df.head()"
   ]
  },
  {
   "cell_type": "code",
   "execution_count": null,
   "id": "behavioral-nickel",
   "metadata": {},
   "outputs": [],
   "source": [
    "#Test Data\n",
    "df = pd.read_csv(TEST_DATA_PATH, nrows=nrows)\n",
    "results = df[columns].apply(add_rf_suffix, args=(gt_no_stars, gt_with_stars), axis=1)\n",
    "df[columns2] = results.tolist()\n",
    "df.to_csv(OUT_TEST_DATA_PATH, index=False)\n",
    "print(df.shape)\n",
    "df.head()"
   ]
  },
  {
   "cell_type": "code",
   "execution_count": null,
   "id": "sealed-convert",
   "metadata": {},
   "outputs": [],
   "source": []
  }
 ],
 "metadata": {
  "kernelspec": {
   "display_name": "conda_pytorch_p36",
   "language": "python",
   "name": "conda_pytorch_p36"
  },
  "language_info": {
   "codemirror_mode": {
    "name": "ipython",
    "version": 3
   },
   "file_extension": ".py",
   "mimetype": "text/x-python",
   "name": "python",
   "nbconvert_exporter": "python",
   "pygments_lexer": "ipython3",
   "version": "3.6.10"
  }
 },
 "nbformat": 4,
 "nbformat_minor": 5
}
