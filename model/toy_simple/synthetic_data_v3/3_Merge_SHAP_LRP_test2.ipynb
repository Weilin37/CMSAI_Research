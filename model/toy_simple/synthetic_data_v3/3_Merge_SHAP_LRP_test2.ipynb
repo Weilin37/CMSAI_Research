{
 "cells": [
  {
   "cell_type": "markdown",
   "metadata": {},
   "source": [
    "## Merge results from SHAP and LRP in test/val"
   ]
  },
  {
   "cell_type": "code",
   "execution_count": 26,
   "metadata": {},
   "outputs": [],
   "source": [
    "import pickle"
   ]
  },
  {
   "cell_type": "code",
   "execution_count": 27,
   "metadata": {},
   "outputs": [],
   "source": [
    "SEQ_LEN = 30\n",
    "MODEL_NAME = \"lstm-att-lrp\"\n",
    "DATA_TYPE='seq_based'\n",
    "BEST_EPOCH = 8\n",
    "DATA_SPLIT = 'test'"
   ]
  },
  {
   "cell_type": "code",
   "execution_count": 28,
   "metadata": {},
   "outputs": [],
   "source": [
    "shap_results_path = f\"./output/final_final/{DATA_TYPE}/{SEQ_LEN}/{MODEL_NAME}/shap/{DATA_SPLIT}_results_shap_{BEST_EPOCH}.pkl\"\n",
    "lrp_results_path = f\"./output/final_final/{DATA_TYPE}/{SEQ_LEN}/{MODEL_NAME}/shap/{DATA_SPLIT}_results_lrp_{BEST_EPOCH}.pkl\"\n",
    "output_path = f\"./output/final_final/{DATA_TYPE}/{SEQ_LEN}/{MODEL_NAME}/shap/{DATA_SPLIT}_results_all_{BEST_EPOCH}.pkl\""
   ]
  },
  {
   "cell_type": "code",
   "execution_count": 29,
   "metadata": {},
   "outputs": [],
   "source": [
    "with open(shap_results_path, 'rb') as fp:\n",
    "    shap_results = pickle.load(fp)\n",
    "    \n",
    "with open(lrp_results_path, 'rb') as fp:\n",
    "    lrp_results = pickle.load(fp)"
   ]
  },
  {
   "cell_type": "code",
   "execution_count": 30,
   "metadata": {},
   "outputs": [],
   "source": [
    "#lrp_results[BEST_EPOCH]"
   ]
  },
  {
   "cell_type": "code",
   "execution_count": 31,
   "metadata": {},
   "outputs": [
    {
     "name": "stdout",
     "output_type": "stream",
     "text": [
      "LRP: 7000\n",
      "SHAP: 7000\n"
     ]
    }
   ],
   "source": [
    "print(f\"LRP: {len(lrp_results[BEST_EPOCH])}\")\n",
    "print(f\"SHAP: {len(shap_results[BEST_EPOCH])}\")\n",
    "assert len(lrp_results[BEST_EPOCH]) == len(shap_results[BEST_EPOCH])"
   ]
  },
  {
   "cell_type": "markdown",
   "metadata": {},
   "source": [
    "## Merge LRP and SHAP scores"
   ]
  },
  {
   "cell_type": "code",
   "execution_count": 32,
   "metadata": {},
   "outputs": [],
   "source": [
    "for pid in lrp_results[BEST_EPOCH].keys():\n",
    "    orig_len = lrp_results[BEST_EPOCH][pid][\"imp\"].shape[0]\n",
    "    lrp_results[BEST_EPOCH][pid][\"imp\"] = lrp_results[BEST_EPOCH][pid][\"imp\"].merge(\n",
    "        shap_results[BEST_EPOCH][pid][\"imp\"], on=[\"seq_idx\", \"token\"]\n",
    "    )\n",
    "    assert orig_len == lrp_results[BEST_EPOCH][pid][\"imp\"].shape[0]\n",
    "    lrp_results[BEST_EPOCH][pid][\"imp\"] = lrp_results[BEST_EPOCH][pid][\"imp\"][\n",
    "        [\"idx\", \"seq_idx\", \"token\", \"att_weights\", \"lrp_scores\", \"shap_scores\"]\n",
    "    ]"
   ]
  },
  {
   "cell_type": "code",
   "execution_count": 33,
   "metadata": {},
   "outputs": [],
   "source": [
    "results = lrp_results"
   ]
  },
  {
   "cell_type": "markdown",
   "metadata": {},
   "source": [
    "## Calculate similarity scores"
   ]
  },
  {
   "cell_type": "code",
   "execution_count": 34,
   "metadata": {},
   "outputs": [],
   "source": [
    "import sys\n",
    "import rbo\n",
    "from scipy import stats\n",
    "import numpy as np\n",
    "\n",
    "def get_wtau(x, y):\n",
    "    return stats.weightedtau(x, y, rank=None)[0]\n",
    "\n",
    "\n",
    "def get_rbo(x, y, uid, p=0.7):\n",
    "    x_idx = np.argsort(x)[::-1]\n",
    "    y_idx = np.argsort(y)[::-1]\n",
    "\n",
    "    return rbo.RankingSimilarity(\n",
    "        [uid[idx] for idx in x_idx], [uid[idx] for idx in y_idx]\n",
    "    ).rbo(p=p)\n",
    "\n",
    "\n",
    "# calculate ground truth scores\n",
    "def is_value(x):\n",
    "    if \"_N\" in x:\n",
    "        return False\n",
    "    return True"
   ]
  },
  {
   "cell_type": "code",
   "execution_count": 35,
   "metadata": {},
   "outputs": [],
   "source": [
    "# calculate similarity indexes\n",
    "epoch_lrp_shap_t_corr = []\n",
    "epoch_lrp_shap_rbo = []\n",
    "epoch_lrp_sim = []\n",
    "epoch_shap_sim = []\n",
    "\n",
    "rbo_p = 0.95"
   ]
  },
  {
   "cell_type": "code",
   "execution_count": 36,
   "metadata": {},
   "outputs": [],
   "source": [
    "for pid in results[BEST_EPOCH].keys():\n",
    "    imp_df = results[BEST_EPOCH][pid][\"imp\"]\n",
    "    imp_df[\"u_token\"] = [\n",
    "        str(seq) + \"_\" + str(token)\n",
    "        for seq, token in zip(imp_df[\"seq_idx\"], imp_df[\"token\"])\n",
    "    ]\n",
    "    results[BEST_EPOCH][pid][\"lrp_shap_t_corr\"] = get_wtau(\n",
    "        imp_df[\"lrp_scores\"], imp_df[\"shap_scores\"]\n",
    "    )\n",
    "\n",
    "    results[BEST_EPOCH][pid][\"lrp_shap_rbo\"] = get_rbo(\n",
    "        imp_df[\"lrp_scores\"],\n",
    "        imp_df[\"shap_scores\"],\n",
    "        imp_df[\"u_token\"].tolist(),\n",
    "        p=rbo_p,\n",
    "    )\n",
    "\n",
    "    # gt similarity\n",
    "    gt_idx = [x for x, tok in enumerate(imp_df.u_token) if is_value(tok)]\n",
    "    n_gt = len(gt_idx)\n",
    "    if n_gt > 0:\n",
    "        lrp_idx = np.argsort(np.abs(imp_df.lrp_scores.values))[::-1][:n_gt]\n",
    "        shap_idx = np.argsort(np.abs(imp_df.shap_scores.values))[::-1][:n_gt]\n",
    "        att_idx = np.argsort(np.abs(imp_df.att_weights.values))[::-1][:n_gt]\n",
    "        lrp_sim = len(set(lrp_idx).intersection(gt_idx)) / n_gt\n",
    "        shap_sim = len(set(shap_idx).intersection(gt_idx)) / n_gt\n",
    "        att_sim = len(set(att_idx).intersection(gt_idx)) / n_gt\n",
    "    else:\n",
    "        print(f\"-1 is the output for {pid}\")\n",
    "        lrp_sim = -1\n",
    "        shap_sim = -1\n",
    "    results[BEST_EPOCH][pid][\"lrp_sim\"] = lrp_sim\n",
    "    results[BEST_EPOCH][pid][\"shap_sim\"] = shap_sim\n",
    "    results[BEST_EPOCH][pid][\"att_sim\"] = att_sim"
   ]
  },
  {
   "cell_type": "code",
   "execution_count": 37,
   "metadata": {},
   "outputs": [
    {
     "data": {
      "text/html": [
       "<div>\n",
       "<style scoped>\n",
       "    .dataframe tbody tr th:only-of-type {\n",
       "        vertical-align: middle;\n",
       "    }\n",
       "\n",
       "    .dataframe tbody tr th {\n",
       "        vertical-align: top;\n",
       "    }\n",
       "\n",
       "    .dataframe thead th {\n",
       "        text-align: right;\n",
       "    }\n",
       "</style>\n",
       "<table border=\"1\" class=\"dataframe\">\n",
       "  <thead>\n",
       "    <tr style=\"text-align: right;\">\n",
       "      <th></th>\n",
       "      <th>idx</th>\n",
       "      <th>seq_idx</th>\n",
       "      <th>token</th>\n",
       "      <th>att_weights</th>\n",
       "      <th>lrp_scores</th>\n",
       "      <th>shap_scores</th>\n",
       "      <th>u_token</th>\n",
       "    </tr>\n",
       "  </thead>\n",
       "  <tbody>\n",
       "    <tr>\n",
       "      <th>0</th>\n",
       "      <td>3</td>\n",
       "      <td>0</td>\n",
       "      <td>ankle_sprain_N</td>\n",
       "      <td>0.002363</td>\n",
       "      <td>-0.570503</td>\n",
       "      <td>-0.019583</td>\n",
       "      <td>0_ankle_sprain_N</td>\n",
       "    </tr>\n",
       "    <tr>\n",
       "      <th>1</th>\n",
       "      <td>4</td>\n",
       "      <td>1</td>\n",
       "      <td>headache_N</td>\n",
       "      <td>0.003156</td>\n",
       "      <td>-0.833891</td>\n",
       "      <td>-0.012810</td>\n",
       "      <td>1_headache_N</td>\n",
       "    </tr>\n",
       "    <tr>\n",
       "      <th>2</th>\n",
       "      <td>2</td>\n",
       "      <td>2</td>\n",
       "      <td>backache_N</td>\n",
       "      <td>0.006852</td>\n",
       "      <td>-1.070633</td>\n",
       "      <td>-0.016969</td>\n",
       "      <td>2_backache_N</td>\n",
       "    </tr>\n",
       "    <tr>\n",
       "      <th>3</th>\n",
       "      <td>18</td>\n",
       "      <td>3</td>\n",
       "      <td>peanut_allergy_N</td>\n",
       "      <td>0.022434</td>\n",
       "      <td>-1.016982</td>\n",
       "      <td>-0.020836</td>\n",
       "      <td>3_peanut_allergy_N</td>\n",
       "    </tr>\n",
       "    <tr>\n",
       "      <th>4</th>\n",
       "      <td>20</td>\n",
       "      <td>4</td>\n",
       "      <td>metabolic_disorder_H</td>\n",
       "      <td>0.059690</td>\n",
       "      <td>7.179713</td>\n",
       "      <td>0.118016</td>\n",
       "      <td>4_metabolic_disorder_H</td>\n",
       "    </tr>\n",
       "  </tbody>\n",
       "</table>\n",
       "</div>"
      ],
      "text/plain": [
       "   idx  seq_idx                 token  att_weights  lrp_scores  shap_scores  \\\n",
       "0    3        0        ankle_sprain_N     0.002363   -0.570503    -0.019583   \n",
       "1    4        1            headache_N     0.003156   -0.833891    -0.012810   \n",
       "2    2        2            backache_N     0.006852   -1.070633    -0.016969   \n",
       "3   18        3      peanut_allergy_N     0.022434   -1.016982    -0.020836   \n",
       "4   20        4  metabolic_disorder_H     0.059690    7.179713     0.118016   \n",
       "\n",
       "                  u_token  \n",
       "0        0_ankle_sprain_N  \n",
       "1            1_headache_N  \n",
       "2            2_backache_N  \n",
       "3      3_peanut_allergy_N  \n",
       "4  4_metabolic_disorder_H  "
      ]
     },
     "execution_count": 37,
     "metadata": {},
     "output_type": "execute_result"
    }
   ],
   "source": [
    "results[BEST_EPOCH][pid]['imp'].head()"
   ]
  },
  {
   "cell_type": "markdown",
   "metadata": {},
   "source": [
    "## Save all combined results"
   ]
  },
  {
   "cell_type": "code",
   "execution_count": 38,
   "metadata": {},
   "outputs": [
    {
     "data": {
      "text/plain": [
       "'./output/final_final/seq_based/30/lstm-att-lrp/shap/test_results_all_8.pkl'"
      ]
     },
     "execution_count": 38,
     "metadata": {},
     "output_type": "execute_result"
    }
   ],
   "source": [
    "output_path"
   ]
  },
  {
   "cell_type": "code",
   "execution_count": 39,
   "metadata": {},
   "outputs": [],
   "source": [
    "with open(output_path, 'wb') as fpath:\n",
    "    pickle.dump(results, fpath)"
   ]
  },
  {
   "cell_type": "code",
   "execution_count": 40,
   "metadata": {},
   "outputs": [
    {
     "name": "stdout",
     "output_type": "stream",
     "text": [
      "test_results_all_8.pkl\t test_shap_6.pkl\t val_shap_2.pkl\n",
      "test_results_lrp_8.pkl\t test_shap_7.pkl\t val_shap_3.pkl\n",
      "test_results_shap_8.pkl  test_shap_8.pkl\t val_shap_4.pkl\n",
      "test_shap_0.pkl\t\t test_shap_9.pkl\t val_shap_5.pkl\n",
      "test_shap_1.pkl\t\t val_results_all_8.pkl\t val_shap_6.pkl\n",
      "test_shap_2.pkl\t\t val_results_lrp_8.pkl\t val_shap_7.pkl\n",
      "test_shap_3.pkl\t\t val_results_shap_8.pkl  val_shap_8.pkl\n",
      "test_shap_4.pkl\t\t val_shap_0.pkl\t\t val_shap_9.pkl\n",
      "test_shap_5.pkl\t\t val_shap_1.pkl\n"
     ]
    }
   ],
   "source": [
    "import os\n",
    "output_dir = os.path.dirname(output_path)\n",
    "! ls {output_dir}"
   ]
  },
  {
   "cell_type": "code",
   "execution_count": null,
   "metadata": {},
   "outputs": [],
   "source": []
  }
 ],
 "metadata": {
  "kernelspec": {
   "display_name": "conda_pytorch_p36",
   "language": "python",
   "name": "conda_pytorch_p36"
  },
  "language_info": {
   "codemirror_mode": {
    "name": "ipython",
    "version": 3
   },
   "file_extension": ".py",
   "mimetype": "text/x-python",
   "name": "python",
   "nbconvert_exporter": "python",
   "pygments_lexer": "ipython3",
   "version": "3.6.10"
  }
 },
 "nbformat": 4,
 "nbformat_minor": 4
}
