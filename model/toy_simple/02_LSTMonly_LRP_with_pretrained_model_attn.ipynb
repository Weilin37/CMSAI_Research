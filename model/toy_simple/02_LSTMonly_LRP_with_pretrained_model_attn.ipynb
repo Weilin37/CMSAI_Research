{
 "cells": [
  {
   "cell_type": "markdown",
   "metadata": {},
   "source": [
    "## LRP with simple (single layer, with attention) LSTM\n",
    "Author: Lin Lee Cheong\n",
    "Date: 1/5/2020\n",
    "\n",
    "Try to make sure I can run LRP correctly. Adapt Arras code to our use case.\n",
    "1. Read in a pre-trained simple LSTM model\n",
    "2. Define a LRP enabled model\n",
    "3. Run relevances through the model\n",
    "4. Add functionality to the LSTM model descriptor"
   ]
  },
  {
   "cell_type": "code",
   "execution_count": 1,
   "metadata": {},
   "outputs": [],
   "source": [
    "import os\n",
    "import time\n",
    "import torch\n",
    "import pandas as pd\n",
    "import numpy as np\n",
    "import time\n",
    "import matplotlib.pyplot as plt\n",
    "import seaborn as sns\n",
    "\n",
    "from collections import Counter\n",
    "\n",
    "import torch\n",
    "import torch.nn as nn\n",
    "from torch.utils.data import DataLoader\n",
    "from urllib.parse import urlparse\n",
    "import tarfile\n",
    "import pickle\n",
    "import shutil\n",
    "\n",
    "import shap\n",
    "import xgboost as xgb\n",
    "\n",
    "import sagemaker\n",
    "import boto3\n",
    "from sagemaker.tuner import IntegerParameter, CategoricalParameter, ContinuousParameter, HyperparameterTuner\n",
    "from sagemaker.image_uris import retrieve\n",
    "\n",
    "import deep_id_pytorch\n",
    "\n",
    "from lstm_models import *\n",
    "from att_lstm_models import *\n",
    "from lstm_utils import *\n",
    "from xgboost_utils import *"
   ]
  },
  {
   "cell_type": "markdown",
   "metadata": {},
   "source": [
    "All parameters"
   ]
  },
  {
   "cell_type": "code",
   "execution_count": 2,
   "metadata": {},
   "outputs": [],
   "source": [
    "nrows = 1e9\n",
    "min_freq = 1\n",
    "\n",
    "seq_len = 30\n",
    "train_data_path = \"../../data/toy_dataset/data/{}/train.csv\".format(seq_len)\n",
    "valid_data_path = \"../../data/toy_dataset/data/{}/val.csv\".format(seq_len)\n",
    "test_data_path = \"../../data/toy_dataset/data/{}/test.csv\".format(seq_len)\n",
    "lstm_model_save_path = './output/{}/lstm/models/model'.format(seq_len)\n",
    "batch_size = 64\n",
    "\n",
    "n_epochs = 1\n",
    "stop_num = 2\n",
    "\n",
    "embedding_dim = 8\n",
    "hidden_dim = 16\n",
    "nlayers = 1\n",
    "bidirectional = True\n",
    "dropout = 0.3\n",
    "\n",
    "target_colname = 'label'\n",
    "uid_colname = 'patient_id'\n",
    "x_inputs = [str(x) for x in range(29, -1, -1)]\n",
    "target_value = '1'\n",
    "\n",
    "rev = False"
   ]
  },
  {
   "cell_type": "code",
   "execution_count": 3,
   "metadata": {},
   "outputs": [
    {
     "name": "stdout",
     "output_type": "stream",
     "text": [
      "Cuda available: True\n"
     ]
    }
   ],
   "source": [
    "print(f\"Cuda available: {torch.cuda.is_available()}\")\n",
    "model_device = torch.device('cuda' if torch.cuda.is_available() else 'cpu')"
   ]
  },
  {
   "cell_type": "code",
   "execution_count": 4,
   "metadata": {},
   "outputs": [
    {
     "name": "stdout",
     "output_type": "stream",
     "text": [
      "Building dataset from ../../data/toy_dataset/data/30/train.csv..\n",
      "Success!\n",
      "Building dataset from ../../data/toy_dataset/data/30/val.csv..\n",
      "Success!\n",
      "Building dataset from ../../data/toy_dataset/data/30/test.csv..\n",
      "Success!\n"
     ]
    }
   ],
   "source": [
    "train_dataset, vocab = build_lstm_dataset(\n",
    "                                train_data_path,\n",
    "                                min_freq=min_freq,\n",
    "                                uid_colname=\"patient_id\",\n",
    "                                target_colname=\"label\",\n",
    "                                max_len=seq_len,\n",
    "                                target_value=target_value,\n",
    "                                vocab=None,\n",
    "                                nrows=nrows,\n",
    "                                rev=rev\n",
    "                            )\n",
    "valid_dataset, _ = build_lstm_dataset(\n",
    "                                valid_data_path,\n",
    "                                min_freq=min_freq,\n",
    "                                uid_colname=\"patient_id\",\n",
    "                                target_colname=\"label\",\n",
    "                                max_len=seq_len,\n",
    "                                target_value=target_value,\n",
    "                                vocab=vocab,\n",
    "                                nrows=nrows,\n",
    "                                rev=rev\n",
    "                            )\n",
    "\n",
    "test_dataset, _ = build_lstm_dataset(\n",
    "                                test_data_path,\n",
    "                                min_freq=min_freq,\n",
    "                                uid_colname=\"patient_id\",\n",
    "                                target_colname=\"label\",\n",
    "                                max_len=seq_len,\n",
    "                                target_value=target_value,\n",
    "                                vocab=vocab,\n",
    "                                nrows=nrows,\n",
    "                                rev=rev\n",
    "                            )"
   ]
  },
  {
   "cell_type": "code",
   "execution_count": 5,
   "metadata": {},
   "outputs": [],
   "source": [
    "train_dataloader = DataLoader(\n",
    "    train_dataset,\n",
    "    batch_size=batch_size,\n",
    "    shuffle=True,\n",
    "    num_workers=2\n",
    ")\n",
    "\n",
    "valid_dataloader = DataLoader(\n",
    "    valid_dataset,\n",
    "    batch_size=batch_size,\n",
    "    shuffle=False,\n",
    "    num_workers=2\n",
    ")\n",
    "\n",
    "test_dataloader = DataLoader(\n",
    "    test_dataset,\n",
    "    batch_size=batch_size,\n",
    "    shuffle=False,\n",
    "    num_workers=2\n",
    ")"
   ]
  },
  {
   "cell_type": "code",
   "execution_count": 6,
   "metadata": {},
   "outputs": [],
   "source": [
    "lstm_model = AttLSTM(\n",
    "    embedding_dim, hidden_dim, vocab, \n",
    "    model_device, nlayers=nlayers, dropout=dropout,\n",
    "    linear_bias=False)\n",
    "lstm_model = lstm_model.cuda()"
   ]
  },
  {
   "cell_type": "markdown",
   "metadata": {},
   "source": [
    "## Train LSTM model"
   ]
  },
  {
   "cell_type": "code",
   "execution_count": 7,
   "metadata": {},
   "outputs": [],
   "source": [
    "#loss_function = nn.CrossEntropyLoss()\n",
    "loss_function = nn.BCEWithLogitsLoss()\n",
    "optimizer = torch.optim.Adam(lstm_model.parameters(), lr=0.05)\n",
    "\n",
    "scheduler = torch.optim.lr_scheduler.StepLR(optimizer, 4, gamma=0.9)"
   ]
  },
  {
   "cell_type": "code",
   "execution_count": 8,
   "metadata": {},
   "outputs": [
    {
     "name": "stdout",
     "output_type": "stream",
     "text": [
      "Epoch: 01 | Epoch Time: 0m 5s\n",
      "Saved Model, epoch 0\n",
      "Train Loss: 0.390 | Train AUC: 0.89 \t Val. Loss: 0.310 |  Val. AUC: 0.9110\n"
     ]
    }
   ],
   "source": [
    "best_valid_loss = float(\"inf\")\n",
    "valid_worse_loss = 0  # enable early stopping\n",
    "\n",
    "\n",
    "for epoch in range(n_epochs):\n",
    "\n",
    "    start_time = time.time()\n",
    "\n",
    "    train_loss, train_auc = epoch_train_lstm(\n",
    "        lstm_model, train_dataloader, optimizer, loss_function\n",
    "    )\n",
    "\n",
    "    valid_loss, valid_auc = epoch_val_lstm(\n",
    "       lstm_model, valid_dataloader, loss_function)#, return_preds=False\n",
    "    #)\n",
    "    end_time = time.time()\n",
    "\n",
    "    epoch_mins, epoch_secs = epoch_time(start_time, end_time)\n",
    "    \n",
    "    print(f\"Epoch: {epoch+1:02} | Epoch Time: {epoch_mins}m {epoch_secs}s\")\n",
    "\n",
    "    if valid_loss < best_valid_loss:\n",
    "        best_valid_loss = valid_loss\n",
    "        torch.save(lstm_model.state_dict(), lstm_model_save_path)\n",
    "        print(\"Saved Model, epoch {}\".format(epoch))\n",
    "        valid_worse_loss = 0\n",
    "\n",
    "    else:\n",
    "        valid_worse_loss += 1\n",
    "        if valid_worse_loss == stop_num:\n",
    "            print(\"EARLY STOP ------\")\n",
    "            break\n",
    "\n",
    "    scheduler.step()\n",
    "    print(\n",
    "        f\"Train Loss: {train_loss:.3f} | Train AUC: {train_auc:.2f} \\t Val. Loss: {valid_loss:.3f} |  Val. AUC: {valid_auc:.4f}\"\n",
    "    )"
   ]
  },
  {
   "cell_type": "code",
   "execution_count": 9,
   "metadata": {},
   "outputs": [
    {
     "data": {
      "text/plain": [
       "<All keys matched successfully>"
      ]
     },
     "execution_count": 9,
     "metadata": {},
     "output_type": "execute_result"
    }
   ],
   "source": [
    "lstm_model.load_state_dict(torch.load(lstm_model_save_path))"
   ]
  },
  {
   "cell_type": "code",
   "execution_count": 10,
   "metadata": {},
   "outputs": [
    {
     "data": {
      "text/plain": [
       "AttLSTM(\n",
       "  (emb_layer): Embedding(32, 8, padding_idx=0)\n",
       "  (lstm): LSTM(8, 16, batch_first=True, dropout=0.3, bidirectional=True)\n",
       "  (pred_layer): Linear(in_features=64, out_features=1, bias=False)\n",
       "  (dpt): Dropout(p=0.3, inplace=False)\n",
       ")"
      ]
     },
     "execution_count": 10,
     "metadata": {},
     "output_type": "execute_result"
    }
   ],
   "source": [
    "lstm_model"
   ]
  },
  {
   "cell_type": "markdown",
   "metadata": {},
   "source": [
    "## Define LRP LSTM model"
   ]
  },
  {
   "cell_type": "code",
   "execution_count": 12,
   "metadata": {},
   "outputs": [],
   "source": [
    "lstm_model = lstm_model.cpu()"
   ]
  },
  {
   "cell_type": "code",
   "execution_count": 13,
   "metadata": {},
   "outputs": [],
   "source": [
    "import numpy as np\n",
    "from numpy import newaxis as na\n",
    "\n",
    "\n",
    "def lrp_linear(hin, w, b, hout, Rout, bias_nb_units, eps, bias_factor=0.0, debug=False):\n",
    "    \"\"\"\n",
    "    LRP for a linear layer with input dim D and output dim M.\n",
    "    Args:\n",
    "    - hin:            forward pass input, of shape (D,)\n",
    "    - w:              connection weights, of shape (D, M)\n",
    "    - b:              biases, of shape (M,)\n",
    "    - hout:           forward pass output, of shape (M,) (unequal to np.dot(w.T,hin)+b if more than one incoming layer!)\n",
    "    - Rout:           relevance at layer output, of shape (M,)\n",
    "    - bias_nb_units:  total number of connected lower-layer units (onto which the bias/stabilizer contribution is redistributed for sanity check)\n",
    "    - eps:            stabilizer (small positive number)\n",
    "    - bias_factor:    set to 1.0 to check global relevance conservation, otherwise use 0.0 to ignore bias/stabilizer redistribution (recommended)\n",
    "    Returns:\n",
    "    - Rin:            relevance at layer input, of shape (D,)\n",
    "    \"\"\"\n",
    "    sign_out = np.where(hout[na,:]>=0, 1., -1.) # shape (1, M)\n",
    "    \n",
    "    numer    = (w * hin[:,na]) + ( bias_factor * (b[na,:]*1. + eps*sign_out*1.) / bias_nb_units ) # shape (D, M)\n",
    "    # Note: here we multiply the bias_factor with both the bias b and the stabilizer eps since in fact\n",
    "    # using the term (b[na,:]*1. + eps*sign_out*1.) / bias_nb_units in the numerator is only useful for sanity check\n",
    "    # (in the initial paper version we were using (bias_factor*b[na,:]*1. + eps*sign_out*1.) / bias_nb_units instead)\n",
    "    \n",
    "    denom    = hout[na,:] + (eps*sign_out*1.)   # shape (1, M)\n",
    "    \n",
    "    message  = (numer/denom) * Rout[na,:]       # shape (D, M)\n",
    "    \n",
    "    Rin      = message.sum(axis=1)              # shape (D,)\n",
    "    \n",
    "    if debug:\n",
    "        print(\"local diff: \", Rout.sum() - Rin.sum())\n",
    "    # Note: \n",
    "    # - local  layer   relevance conservation if bias_factor==1.0 and bias_nb_units==D (i.e. when only one incoming layer)\n",
    "    # - global network relevance conservation if bias_factor==1.0 and bias_nb_units set accordingly to the total number of lower-layer connections \n",
    "    # -> can be used for sanity check\n",
    "    \n",
    "    return Rin"
   ]
  },
  {
   "cell_type": "code",
   "execution_count": 744,
   "metadata": {},
   "outputs": [
    {
     "name": "stdout",
     "output_type": "stream",
     "text": [
      "emb_layer.weight >>> torch.Size([32, 8])\n",
      "lstm.weight_ih_l0 >>> torch.Size([64, 8])\n",
      "lstm.weight_hh_l0 >>> torch.Size([64, 16])\n",
      "lstm.bias_ih_l0 >>> torch.Size([64])\n",
      "lstm.bias_hh_l0 >>> torch.Size([64])\n",
      "lstm.weight_ih_l0_reverse >>> torch.Size([64, 8])\n",
      "lstm.weight_hh_l0_reverse >>> torch.Size([64, 16])\n",
      "lstm.bias_ih_l0_reverse >>> torch.Size([64])\n",
      "lstm.bias_hh_l0_reverse >>> torch.Size([64])\n",
      "pred_layer.weight >>> torch.Size([1, 64])\n"
     ]
    }
   ],
   "source": [
    "for param, _ in lstm_model.named_parameters():\n",
    "    print(f\"{param} >>> {_.shape}\")"
   ]
  },
  {
   "cell_type": "code",
   "execution_count": null,
   "metadata": {},
   "outputs": [],
   "source": []
  },
  {
   "cell_type": "code",
   "execution_count": 679,
   "metadata": {},
   "outputs": [],
   "source": [
    "class LSTM_ARP:\n",
    "    def __init__(self, pymodel):\n",
    "        super(LSTM_ARP, self).__init__()\n",
    "        \n",
    "        self.bidi = True\n",
    "        self.nlayers = 1 #only supports 1 right now\n",
    "        \n",
    "        self.init_model(pymodel)\n",
    "    \n",
    "    def init_model(self, pymodel):\n",
    "        \n",
    "        self.device = pymodel.device\n",
    "        self.use_gpu = pymodel.use_gpu\n",
    "        \n",
    "        self.emb_dim = pymodel.emb_dim\n",
    "        self.vocab = pymodel.vocab\n",
    "        self.input_dim = len(self.vocab)\n",
    "        self.pad_idx = pymodel.pad_idx        \n",
    "        self.hidden_dim = pymodel.hidden_dim\n",
    "        \n",
    "        self.emb = pymodel.emb_layer.weight.detach().numpy()\n",
    "        \n",
    "        param_list = list(pymodel.lstm.named_parameters())\n",
    "        param_dict = {}\n",
    "        for param_tuple in param_list:\n",
    "            param_dict[param_tuple[0]] = param_tuple[-1].detach().numpy()\n",
    "        \n",
    "        # rearrange, pytorch uses ifgo format, need to move to icfo/igfo format\n",
    "        idx_list = (\n",
    "            list(range(0, self.hidden_dim)) + \n",
    "            list(range(self.hidden_dim*2, self.hidden_dim*3)) +\n",
    "            list(range(self.hidden_dim, self.hidden_dim*2)) +\n",
    "            list(range(self.hidden_dim*3, self.hidden_dim*4))\n",
    "        )\n",
    "        \n",
    "        # i (input), g (candidate), f (forget), o (output) order\n",
    "        # (4 * hidden_dim, emb_dim)\n",
    "        self.Wxh_Left = param_dict['weight_ih_l0'][idx_list]\n",
    "        self.bxh_Left  = param_dict[\"bias_ih_l0\"][idx_list]  # shape 4d \n",
    "        self.Whh_Left  = param_dict[\"weight_hh_l0\"][idx_list]  # shape 4d*d\n",
    "        self.bhh_Left  = param_dict[\"bias_hh_l0\"][idx_list]  # shape 4d  \n",
    "        # LSTM right encoder\n",
    "        self.Wxh_Right = param_dict[\"weight_ih_l0_reverse\"][idx_list]\n",
    "        self.bxh_Right = param_dict[\"bias_ih_l0_reverse\"][idx_list]\n",
    "        self.Whh_Right = param_dict[\"weight_hh_l0_reverse\"][idx_list]\n",
    "        self.bhh_Right = param_dict[\"bias_hh_l0_reverse\"][idx_list] \n",
    "        \n",
    "        # START ADDED: CONTEXT LAYER INIT\n",
    "        # linear output layer: shape C * 4d\n",
    "        # 0-d: fwd & context\n",
    "        # d-2d: rev & context\n",
    "        # 2d-3d: fwd & final hidden\n",
    "        # 3d-4d: rev & final hidden\n",
    "        Why = pymodel.pred_layer.weight.detach().numpy()\n",
    "        \n",
    "        self.Why_Left  = Why[:, 2 * self.hidden_dim: 3 * self.hidden_dim] # shape C*d\n",
    "        self.Why_Right = Why[:, 3 * self.hidden_dim:] # shape C*d\n",
    "        \n",
    "        self.Wcy_Left = Why[:, :self.hidden_dim]\n",
    "        self.Wcy_Right = Why[:, self.hidden_dim: 2 * self.hidden_dim]\n",
    "        \n",
    "        #Wcc = pymodel.attn_layer.weight.detach().numpy()\n",
    "        #self.Wcc_Left = Wcc[:, :self.hidden_dim]\n",
    "        #self.Wcc_Right = Wcc[:, self.hidden_dim:]\n",
    "        # END ADDED: CONTEXT LAYER INIT\n",
    "        \n",
    "    def set_input(self, tokens):\n",
    "        T      = len(tokens)                         # sequence length\n",
    "        d      = int(self.Wxh_Left.shape[0]/4)  # hidden layer dimension\n",
    "        e      = self.emb.shape[1]                # word embedding dimension\n",
    "        \n",
    "        x      = np.zeros((T, e))\n",
    "        x[:,:] = self.emb[tokens,:]\n",
    "        \n",
    "        self.w              = tokens\n",
    "        self.x              = x\n",
    "        self.x_rev          = x[::-1,:].copy()\n",
    "        \n",
    "        self.h_Left         = np.zeros((T+1, d))\n",
    "        self.c_Left         = np.zeros((T+1, d))\n",
    "        self.h_Right        = np.zeros((T+1, d))\n",
    "        self.c_Right        = np.zeros((T+1, d))        \n",
    "        \n",
    "    def forward_lrp(self):\n",
    "        \"\"\"\n",
    "        Standard forward pass.\n",
    "        Compute the hidden layer values (assuming input x/x_rev was previously set)\n",
    "        \"\"\"\n",
    "        T      = len(self.w)                         \n",
    "        d      = int(self.Wxh_Left.shape[0]/4) \n",
    "        \n",
    "        # gate indices (assuming the gate ordering in the LSTM weights is i,g,f,o):     \n",
    "        idx    = np.hstack((np.arange(0,d), np.arange(2*d,4*d))).astype(int) # indices of gates i,f,o together\n",
    "        idx_i, idx_g, idx_f, idx_o = np.arange(0,d), np.arange(d,2*d), np.arange(2*d,3*d), np.arange(3*d,4*d) # indices of gates i,g,f,o separately\n",
    "          \n",
    "        # initialize\n",
    "        self.gates_xh_Left  = np.zeros((T, 4*d))  \n",
    "        self.gates_hh_Left  = np.zeros((T, 4*d)) \n",
    "        self.gates_pre_Left = np.zeros((T, 4*d))  # gates pre-activation\n",
    "        self.gates_Left     = np.zeros((T, 4*d))  # gates activation\n",
    "        \n",
    "        self.gates_xh_Right = np.zeros((T, 4*d))  \n",
    "        self.gates_hh_Right = np.zeros((T, 4*d)) \n",
    "        self.gates_pre_Right= np.zeros((T, 4*d))\n",
    "        self.gates_Right    = np.zeros((T, 4*d)) \n",
    "             \n",
    "        # START ADDED: INITIALIZE CONTEXT LAYERS\n",
    "        self.ctxt_Left      = np.zeros((1, d))\n",
    "        self.ctxt_Right     = np.zeros((1, d))\n",
    "        self.att_wgt_Left   = np.zeros((T, 1))\n",
    "        self.att_wgt_Right  = np.zeros((T, 1))\n",
    "        self.att_score      = np.zeros((T, 1))\n",
    "        \n",
    "        # END ADDED: INITIALIZE CONTEXT LAYERS\n",
    "        for t in range(T): \n",
    "            self.gates_xh_Left[t]     = np.dot(self.Wxh_Left, self.x[t])        \n",
    "            self.gates_hh_Left[t]     = np.dot(self.Whh_Left, self.h_Left[t-1]) \n",
    "            self.gates_pre_Left[t]    = self.gates_xh_Left[t] + self.gates_hh_Left[t] + self.bxh_Left + self.bhh_Left\n",
    "            self.gates_Left[t,idx]    = 1.0/(1.0 + np.exp(- self.gates_pre_Left[t,idx]))\n",
    "            self.gates_Left[t,idx_g]  = np.tanh(self.gates_pre_Left[t,idx_g]) \n",
    "            self.c_Left[t]            = self.gates_Left[t,idx_f]*self.c_Left[t-1] + self.gates_Left[t,idx_i]*self.gates_Left[t,idx_g]\n",
    "            self.h_Left[t]            = self.gates_Left[t,idx_o]*np.tanh(self.c_Left[t])\n",
    "            \n",
    "            self.gates_xh_Right[t]    = np.dot(self.Wxh_Right, self.x_rev[t])     \n",
    "            self.gates_hh_Right[t]    = np.dot(self.Whh_Right, self.h_Right[t-1])\n",
    "            self.gates_pre_Right[t]   = self.gates_xh_Right[t] + self.gates_hh_Right[t] + self.bxh_Right + self.bhh_Right\n",
    "            self.gates_Right[t,idx]   = 1.0/(1.0 + np.exp(- self.gates_pre_Right[t,idx]))\n",
    "            self.gates_Right[t,idx_g] = np.tanh(self.gates_pre_Right[t,idx_g])                 \n",
    "            self.c_Right[t]           = self.gates_Right[t,idx_f]*self.c_Right[t-1] + self.gates_Right[t,idx_i]*self.gates_Right[t,idx_g]\n",
    "            self.h_Right[t]           = self.gates_Right[t,idx_o]*np.tanh(self.c_Right[t])\n",
    "            \n",
    "        # START ADDED: CALCULATE ATTENTION LAYER\n",
    "        self.att_wgt_Left    = np.dot(self.h_Left[:T, :], self.h_Left[T-1])\n",
    "        self.att_wgt_Right   = np.dot(self.h_Right[:T, :], self.h_Right[T-1])\n",
    "        \n",
    "        self.att_score_int = (self.att_wgt_Left + self.att_wgt_Right) / (T ** 0.5) \n",
    "        self.att_score = np.exp(self.att_score_int) / np.sum(np.exp(self.att_score_int))\n",
    "        # END ADDED: CALCULATE ATTENTION LAYER\n",
    "        \n",
    "        # START ADDED: CONTEXT LAYER CALCULATIONS\n",
    "        #self.ctxt_Left  = np.dot(self.att_score[:, na].T, self.h_Left[:T])\n",
    "        self.ctxt_Left  = (self.att_score[:, na] * self.h_Left[:T]).sum(axis=0)\n",
    "        self.ctxt_Right = (self.att_score[:, na] * self.h_Right[:T]).sum(axis=0)\n",
    "        #self.ctxt_Right = np.dot(self.att_score[:, na].T, self.h_Right[:T])        \n",
    "        # END ADDED: CONTEXT LAYER CALCULATIONS\n",
    "        \n",
    "        # START MODIFIED: CALCULATE WITH CONTEXT & OUT, NOT JUST HIDDEN\n",
    "        self.y_Left  = np.dot(self.Why_Left, self.h_Left[T-1]) \n",
    "        #self.y_Left += np.dot(self.Wcy_Left, self.ctxt_Left.squeeze(0))\n",
    "        self.y_Left += np.dot(self.Wcy_Left, self.ctxt_Left)\n",
    "        \n",
    "        self.y_Right = np.dot(self.Why_Right, self.h_Right[T-1])\n",
    "        #self.y_Right+= np.dot(self.Wcy_Right, self.ctxt_Right.squeeze(0))\n",
    "        self.y_Right+= np.dot(self.Wcy_Right, self.ctxt_Right)\n",
    "        \n",
    "        self.s       = self.y_Left + self.y_Right\n",
    "        \n",
    "        return self.s.copy() # prediction scores  \n",
    "    \n",
    "    def lrp(self, w, LRP_class, eps=0.001, bias_factor=0.0):\n",
    "        \"\"\"\n",
    "        Layer-wise Relevance Propagation (LRP) backward pass.\n",
    "        Compute the hidden layer relevances by performing LRP for the target class LRP_class\n",
    "        (according to the papers:\n",
    "            - https://doi.org/10.1371/journal.pone.0130140\n",
    "            - https://doi.org/10.18653/v1/W17-5221 )\n",
    "        \"\"\"\n",
    "        # forward pass\n",
    "        self.set_input(w)\n",
    "        self.forward_lrp() \n",
    "        \n",
    "        T      = len(self.w)\n",
    "        d      = int(self.Wxh_Left.shape[0]/4)\n",
    "        e      = self.emb.shape[1] \n",
    "        C      = self.Why_Left.shape[0]  # number of classes\n",
    "        idx    = np.hstack((np.arange(0,d), np.arange(2*d,4*d))).astype(int) # indices of gates i,f,o together\n",
    "        idx_i, idx_g, idx_f, idx_o = np.arange(0,d), np.arange(d,2*d), np.arange(2*d,3*d), np.arange(3*d,4*d) # indices of gates i,g,f,o separately\n",
    "        \n",
    "        # initialize\n",
    "        Rx       = np.zeros(self.x.shape)\n",
    "        Rx_rev   = np.zeros(self.x.shape)\n",
    "        \n",
    "        Rh_Left  = np.zeros((T+1, d))\n",
    "        Rc_Left  = np.zeros((T+1, d))\n",
    "        Rg_Left  = np.zeros((T,   d)) # gate g only\n",
    "        Rh_Right = np.zeros((T+1, d))\n",
    "        Rc_Right = np.zeros((T+1, d))\n",
    "        Rg_Right = np.zeros((T,   d)) # gate g only\n",
    "        \n",
    "        Rctxt_Left = np.zeros((1, d))\n",
    "        Rctxt_Right = np.zeros((1, d))\n",
    "        \n",
    "        Rout_mask            = np.zeros((C))\n",
    "        Rout_mask[LRP_class] = 1.0  \n",
    "        \n",
    "        \n",
    "        # format reminder: lrp_linear(hin, w, b, hout, Rout, bias_nb_units, eps, bias_factor)\n",
    "        Rh_Left[T-1]  = lrp_linear(\n",
    "            self.h_Left[T-1],  self.Why_Left.T, \n",
    "            np.zeros((C)), self.s, self.s*Rout_mask, 8*d, eps, bias_factor, debug=False\n",
    "        )\n",
    "        Rh_Right[T-1] = lrp_linear(\n",
    "            self.h_Right[T-1], self.Why_Right.T, \n",
    "            np.zeros((C)), self.s, self.s*Rout_mask, 8*d, eps, bias_factor, debug=False\n",
    "        )\n",
    "        \n",
    "        # ADD CONTEXT CALCULATIONS TO CONTEXT LAYER\n",
    "        Rctxt_Left = lrp_linear(\n",
    "            self.ctxt_Left, self.Wcy_Left.T,\n",
    "            np.zeros((C)), self.s, self.s*Rout_mask, 8*d, eps, bias_factor, debug=False\n",
    "        )\n",
    "        \n",
    "        Rctxt_Right = lrp_linear(\n",
    "            self.ctxt_Right, self.Wcy_Right.T,\n",
    "            np.zeros((C)), self.s, self.s*Rout_mask, 8*d, eps, bias_factor, debug=False\n",
    "        )\n",
    "                \n",
    "        # ADD R TO Rh_Left and Rh_Right\n",
    "        #Rh_Left[T-1]  += self.att_score[T-1] * Rctxt_Left / d\n",
    "        #Rh_Right[T-1] += self.att_score[T-1] * Rctxt_Right / d\n",
    "        \n",
    "        Rh_Left[T-1] += lrp_linear(\n",
    "            self.h_Left[T-1], np.identity((d)) , \n",
    "            np.zeros((d)), self.ctxt_Left, self.att_score[T-1] * Rctxt_Left, \n",
    "            d, eps, bias_factor, debug=False) \n",
    "        Rh_Right[T-1] += lrp_linear(\n",
    "            self.h_Right[T-1], np.identity((d)) , \n",
    "            np.zeros((d)), self.ctxt_Right, self.att_score[T-1] *Rctxt_Right, \n",
    "            d, eps, bias_factor, debug=False)         \n",
    "        \n",
    "        # CORRECT FOR NUMBER OF NODES\n",
    "        for t in reversed(range(T)):\n",
    "            Rc_Left[t]   += Rh_Left[t]\n",
    "            Rc_Left[t-1] += lrp_linear(\n",
    "                self.gates_Left[t,idx_f]*self.c_Left[t-1], np.identity(d),\n",
    "                np.zeros((d)), self.c_Left[t], Rc_Left[t], \n",
    "                2*d, eps, bias_factor, debug=False)\n",
    "            \n",
    "            Rg_Left[t]   += lrp_linear(\n",
    "                self.gates_Left[t,idx_i]*self.gates_Left[t,idx_g], np.identity(d), \n",
    "                np.zeros((d)), self.c_Left[t], Rc_Left[t], \n",
    "                2*d, eps, bias_factor, debug=False)\n",
    "            \n",
    "            Rx[t]        += lrp_linear(\n",
    "                self.x[t], self.Wxh_Left[idx_g].T, \n",
    "                self.bxh_Left[idx_g]+self.bhh_Left[idx_g], self.gates_pre_Left[t,idx_g], Rg_Left[t], \n",
    "                d+e, eps, bias_factor, debug=False)\n",
    "\n",
    "            Rh_Left[t-1] += lrp_linear(\n",
    "                self.h_Left[t-1], self.Whh_Left[idx_g].T, \n",
    "                self.bxh_Left[idx_g]+self.bhh_Left[idx_g], self.gates_pre_Left[t,idx_g], \n",
    "                Rg_Left[t], d+e, eps, bias_factor, debug=False)\n",
    "            #Rh_Left[t-1] += self.att_score[t-1] * Rctxt_Left / d\n",
    "            Rh_Left[t-1] += lrp_linear(\n",
    "                self.h_Left[t-1] , np.identity((d)), \n",
    "                np.zeros((d)), self.ctxt_Left, self.att_score[t-1] *Rctxt_Left, \n",
    "                d, eps, bias_factor, debug=False)\n",
    "            \n",
    "\n",
    "            Rc_Right[t]  += Rh_Right[t]\n",
    "            Rc_Right[t-1]+= lrp_linear(\n",
    "                self.gates_Right[t,idx_f]*self.c_Right[t-1], np.identity(d),\n",
    "                np.zeros((d)), self.c_Right[t], Rc_Right[t], \n",
    "                2*d, eps, bias_factor, debug=False)\n",
    "            Rg_Right[t]  += lrp_linear(\n",
    "                self.gates_Right[t,idx_i]*self.gates_Right[t,idx_g], np.identity(d),\n",
    "                np.zeros((d)), self.c_Right[t], Rc_Right[t], \n",
    "                2*d, eps, bias_factor, debug=False)\n",
    "            \n",
    "            Rx_rev[t]    += lrp_linear(\n",
    "                self.x_rev[t], self.Wxh_Right[idx_g].T, \n",
    "                self.bxh_Right[idx_g]+self.bhh_Right[idx_g], self.gates_pre_Right[t,idx_g], Rg_Right[t], \n",
    "                d+e, eps, bias_factor, debug=False)\n",
    "            \n",
    "            Rh_Right[t-1]+= lrp_linear(\n",
    "                self.h_Right[t-1], self.Whh_Right[idx_g].T, \n",
    "                self.bxh_Right[idx_g]+self.bhh_Right[idx_g], self.gates_pre_Right[t,idx_g], Rg_Right[t], \n",
    "                d+e, eps, bias_factor, debug=False)\n",
    "            \n",
    "            #Rh_Right[t-1]+= self.att_score[t-1] * Rctxt_Right / d\n",
    "            Rh_Right[t-1] += lrp_linear(\n",
    "                self.h_Right[t-1], np.identity((d)) , \n",
    "                np.zeros((d)), self.ctxt_Right, self.att_score[t-1] * Rctxt_Right, \n",
    "                d, eps, bias_factor, debug=False)\n",
    "            \n",
    "        return Rx, Rx_rev[::-1,:], Rh_Left[-1].sum()+Rc_Left[-1].sum()+Rh_Right[-1].sum()+Rc_Right[-1].sum()\n",
    "\n"
   ]
  },
  {
   "cell_type": "code",
   "execution_count": 680,
   "metadata": {},
   "outputs": [],
   "source": [
    "lrp_model = LSTM_ARP(lstm_model.cpu())"
   ]
  },
  {
   "cell_type": "code",
   "execution_count": 745,
   "metadata": {},
   "outputs": [
    {
     "data": {
      "text/plain": [
       "(10, 16)"
      ]
     },
     "execution_count": 745,
     "metadata": {},
     "output_type": "execute_result"
    }
   ],
   "source": []
  },
  {
   "cell_type": "code",
   "execution_count": 681,
   "metadata": {},
   "outputs": [],
   "source": [
    "(ids, labels, idxed_text) = next(iter(test_dataloader))"
   ]
  },
  {
   "cell_type": "code",
   "execution_count": 714,
   "metadata": {},
   "outputs": [
    {
     "name": "stdout",
     "output_type": "stream",
     "text": [
      "[20, 20, 14, 16, 4, 17, 2, 7, 31]\n",
      "tensor([[20, 20, 14, 16,  4, 17,  2,  7, 31]], device='cuda:0')\n",
      "9\n"
     ]
    }
   ],
   "source": [
    "sel_idx = 12\n",
    "one_text = [int(token.numpy()) for token in idxed_text[sel_idx]]\n",
    "one_text = [x for x in one_text if x != 0]\n",
    "one_text_tensor = torch.Tensor(one_text)\n",
    "one_text_tensor = one_text_tensor.type(torch.long)\n",
    "one_text_tensor = one_text_tensor.unsqueeze(0).cuda()\n",
    "print(one_text)\n",
    "print(one_text_tensor)\n",
    "print(len(one_text))"
   ]
  },
  {
   "cell_type": "code",
   "execution_count": 738,
   "metadata": {},
   "outputs": [
    {
     "data": {
      "text/plain": [
       "2.158937685656268"
      ]
     },
     "execution_count": 738,
     "metadata": {},
     "output_type": "execute_result"
    }
   ],
   "source": [
    "lrp_model.set_input(one_text)\n",
    "Rx, Rx_rev, R_rest  = lrp_model.lrp(one_text, 0, eps= 0.00001, bias_factor=.0)\n",
    "lrp_model.s[0]"
   ]
  },
  {
   "cell_type": "code",
   "execution_count": 739,
   "metadata": {},
   "outputs": [
    {
     "data": {
      "text/plain": [
       "0.7482019308232489"
      ]
     },
     "execution_count": 739,
     "metadata": {},
     "output_type": "execute_result"
    }
   ],
   "source": [
    "Rtot = Rx.sum() + Rx_rev.sum() + R_rest.sum()  \n",
    "Rtot"
   ]
  },
  {
   "cell_type": "code",
   "execution_count": 740,
   "metadata": {},
   "outputs": [
    {
     "data": {
      "text/plain": [
       "-1.410735754833019"
      ]
     },
     "execution_count": 740,
     "metadata": {},
     "output_type": "execute_result"
    }
   ],
   "source": [
    "Rtot - lrp_model.s[0]"
   ]
  },
  {
   "cell_type": "code",
   "execution_count": 741,
   "metadata": {},
   "outputs": [
    {
     "data": {
      "text/plain": [
       "False"
      ]
     },
     "execution_count": 741,
     "metadata": {},
     "output_type": "execute_result"
    }
   ],
   "source": [
    "np.allclose(Rtot, lrp_model.s)"
   ]
  },
  {
   "cell_type": "code",
   "execution_count": 742,
   "metadata": {},
   "outputs": [
    {
     "data": {
      "text/html": [
       "<div>\n",
       "<style scoped>\n",
       "    .dataframe tbody tr th:only-of-type {\n",
       "        vertical-align: middle;\n",
       "    }\n",
       "\n",
       "    .dataframe tbody tr th {\n",
       "        vertical-align: top;\n",
       "    }\n",
       "\n",
       "    .dataframe thead th {\n",
       "        text-align: right;\n",
       "    }\n",
       "</style>\n",
       "<table border=\"1\" class=\"dataframe\">\n",
       "  <thead>\n",
       "    <tr style=\"text-align: right;\">\n",
       "      <th></th>\n",
       "      <th>R</th>\n",
       "      <th>idx</th>\n",
       "      <th>token</th>\n",
       "    </tr>\n",
       "  </thead>\n",
       "  <tbody>\n",
       "    <tr>\n",
       "      <th>0</th>\n",
       "      <td>0.139398</td>\n",
       "      <td>20</td>\n",
       "      <td>foot_pain</td>\n",
       "    </tr>\n",
       "    <tr>\n",
       "      <th>1</th>\n",
       "      <td>0.090283</td>\n",
       "      <td>20</td>\n",
       "      <td>foot_pain</td>\n",
       "    </tr>\n",
       "    <tr>\n",
       "      <th>2</th>\n",
       "      <td>0.116918</td>\n",
       "      <td>14</td>\n",
       "      <td>annual_physical</td>\n",
       "    </tr>\n",
       "    <tr>\n",
       "      <th>3</th>\n",
       "      <td>0.013603</td>\n",
       "      <td>16</td>\n",
       "      <td>myopia</td>\n",
       "    </tr>\n",
       "    <tr>\n",
       "      <th>4</th>\n",
       "      <td>-0.021470</td>\n",
       "      <td>4</td>\n",
       "      <td>hay_fever</td>\n",
       "    </tr>\n",
       "  </tbody>\n",
       "</table>\n",
       "</div>"
      ],
      "text/plain": [
       "          R  idx            token\n",
       "0  0.139398   20        foot_pain\n",
       "1  0.090283   20        foot_pain\n",
       "2  0.116918   14  annual_physical\n",
       "3  0.013603   16           myopia\n",
       "4 -0.021470    4        hay_fever"
      ]
     },
     "execution_count": 742,
     "metadata": {},
     "output_type": "execute_result"
    }
   ],
   "source": [
    "R_words             = np.sum(Rx + Rx_rev, axis=1) \n",
    "df = pd.DataFrame()\n",
    "df['R'] = R_words\n",
    "df['idx'] = one_text\n",
    "df['token'] = [lstm_model.vocab.itos(x) for x in one_text]\n",
    "df.head()"
   ]
  },
  {
   "cell_type": "code",
   "execution_count": 743,
   "metadata": {},
   "outputs": [
    {
     "data": {
      "text/plain": [
       "([0, 1, 2, 3, 4, 5, 6, 7], <a list of 8 Text xticklabel objects>)"
      ]
     },
     "execution_count": 743,
     "metadata": {},
     "output_type": "execute_result"
    },
    {
     "data": {
      "image/png": "[encoded data removed]",
      "text/plain": [
       "<Figure size 720x360 with 1 Axes>"
      ]
     },
     "metadata": {
      "needs_background": "light"
     },
     "output_type": "display_data"
    }
   ],
   "source": [
    "plt.figure(figsize=(10, 5))\n",
    "plt.bar(df.token, df.R)\n",
    "plt.xticks(rotation=90)"
   ]
  },
  {
   "cell_type": "code",
   "execution_count": 132,
   "metadata": {},
   "outputs": [
    {
     "data": {
      "text/plain": [
       "([0, 1, 2, 3, 4, 5, 6, 7, 8, 9, 10, 11, 12, 13, 14, 15],\n",
       " <a list of 16 Text xticklabel objects>)"
      ]
     },
     "execution_count": 132,
     "metadata": {},
     "output_type": "execute_result"
    },
    {
     "data": {
      "image/png": "[encoded data removed]",
      "text/plain": [
       "<Figure size 720x360 with 1 Axes>"
      ]
     },
     "metadata": {
      "needs_background": "light"
     },
     "output_type": "display_data"
    }
   ],
   "source": [
    "plt.figure(figsize=(10, 5))\n",
    "plt.bar(df.token, df.R)\n",
    "plt.xticks(rotation=90)"
   ]
  },
  {
   "cell_type": "code",
   "execution_count": null,
   "metadata": {},
   "outputs": [],
   "source": []
  },
  {
   "cell_type": "code",
   "execution_count": null,
   "metadata": {},
   "outputs": [],
   "source": []
  },
  {
   "cell_type": "code",
   "execution_count": null,
   "metadata": {},
   "outputs": [],
   "source": []
  },
  {
   "cell_type": "code",
   "execution_count": null,
   "metadata": {},
   "outputs": [],
   "source": []
  },
  {
   "cell_type": "code",
   "execution_count": 25,
   "metadata": {},
   "outputs": [
    {
     "data": {
      "text/plain": [
       "array([[2.156011]], dtype=float32)"
      ]
     },
     "execution_count": 25,
     "metadata": {},
     "output_type": "execute_result"
    }
   ],
   "source": [
    "lstm_model_cuda = lstm_model.cuda()\n",
    "lstm_model_cuda.eval()\n",
    "model_pred, attn, ctxt, attn_int, out, output = lstm_model_cuda(one_text_tensor, True)\n",
    "model_pred"
   ]
  },
  {
   "cell_type": "code",
   "execution_count": null,
   "metadata": {},
   "outputs": [],
   "source": []
  },
  {
   "cell_type": "code",
   "execution_count": 748,
   "metadata": {},
   "outputs": [
    {
     "name": "stdout",
     "output_type": "stream",
     "text": [
      "\n",
      "Results for 0\n",
      "layer: 0 --> Rtot = 2.2437809665575403, Score = 2.243784352791791\n",
      "\n",
      "Results for 1\n",
      "layer: 0 --> Rtot = 2.2034118591056266, Score = 2.203406574265427\n",
      "\n",
      "Results for 2\n",
      "layer: 0 --> Rtot = 2.656337724625678, Score = 2.6563395236438776\n",
      "\n",
      "Results for 3\n",
      "layer: 0 --> Rtot = 2.093585277491205, Score = 2.0935874782396184\n",
      "\n",
      "Results for 4\n",
      "layer: 0 --> Rtot = 2.1534109296027557, Score = 2.1534096390216098\n",
      "\n",
      "Results for 5\n",
      "layer: 0 --> Rtot = 2.456349909866009, Score = 2.4563526138268665\n",
      "\n",
      "Results for 6\n",
      "layer: 0 --> Rtot = 3.4197476923476615, Score = 3.419742585516341\n",
      "\n",
      "Results for 7\n",
      "layer: 0 --> Rtot = 3.720195771681171, Score = 3.720185018618414\n",
      "\n",
      "Results for 8\n",
      "layer: 0 --> Rtot = 3.358242242010739, Score = 3.358237492520032\n",
      "\n",
      "Results for 9\n",
      "layer: 0 --> Rtot = 2.083760373736082, Score = 2.083757996718185\n",
      "\n",
      "Summary\n",
      "[0.0, 1e-05, 0.0, -0.0, 0.0, 0.0, -1e-05, -1e-05, -0.0, 0.0]\n",
      "-1.0000000000000002e-06\n"
     ]
    }
   ],
   "source": [
    "(ids, labels, idxed_text) = next(iter(test_dataloader))\n",
    "sel_idxes = [x for x in range(10)]\n",
    "errors = []\n",
    "for sel_idx in sel_idxes:\n",
    "    one_text = [int(token.numpy()) for token in idxed_text[sel_idx]]\n",
    "    one_text = [x for x in one_text if x != 0]\n",
    "    one_text_tensor = torch.Tensor(one_text)\n",
    "    one_text_tensor = one_text_tensor.type(torch.long)\n",
    "    one_text_tensor = one_text_tensor.unsqueeze(0).cuda()\n",
    "    ##print(one_text)\n",
    "    #print(one_text_tensor)\n",
    "    #print(len(one_text))\n",
    "\n",
    "    lrp_model.set_input(one_text)\n",
    "    lrp_model.forward_lrp()\n",
    "    \n",
    "    Rx, Rx_rev, R_rest  = lrp_model.lrp(one_text, 0, eps= 0.00001, bias_factor=1)\n",
    "    Rtot = Rx.sum() + Rx_rev.sum() + R_rest.sum()  \n",
    "\n",
    "    errors.append(np.round(Rtot - lrp_model.s[0], 5))\n",
    "    print(f\"\\nResults for {sel_idx}\")\n",
    "    #for layer in reversed(range(3)):\n",
    "    #    \n",
    "    #    Rtot =  lrp_model.Rx[layer].sum() + lrp_model.Rx_rev[layer][::-1,:].sum() + \\\n",
    "    #            (lrp_model.Rh_Left[layer][-1].sum()+lrp_model.Rc_Left[layer ][-1].sum()+ \\\n",
    "    #            lrp_model.Rh_Right[layer][-1].sum()+lrp_model.Rc_Right[layer][-1].sum()).sum()\n",
    "    #    \n",
    "    print(f\"layer: {0} --> Rtot = {np.abs(Rtot)}, Score = {np.abs(lrp_model.s[0])}\")\n",
    "    \n",
    "print('\\nSummary')\n",
    "print(errors)\n",
    "print(np.mean(errors))"
   ]
  },
  {
   "cell_type": "code",
   "execution_count": null,
   "metadata": {},
   "outputs": [],
   "source": []
  },
  {
   "cell_type": "code",
   "execution_count": null,
   "metadata": {},
   "outputs": [],
   "source": []
  },
  {
   "cell_type": "code",
   "execution_count": null,
   "metadata": {},
   "outputs": [],
   "source": []
  },
  {
   "cell_type": "code",
   "execution_count": null,
   "metadata": {},
   "outputs": [],
   "source": []
  },
  {
   "cell_type": "code",
   "execution_count": null,
   "metadata": {},
   "outputs": [],
   "source": []
  },
  {
   "cell_type": "code",
   "execution_count": null,
   "metadata": {},
   "outputs": [],
   "source": []
  },
  {
   "cell_type": "code",
   "execution_count": null,
   "metadata": {},
   "outputs": [],
   "source": []
  },
  {
   "cell_type": "code",
   "execution_count": null,
   "metadata": {},
   "outputs": [],
   "source": []
  },
  {
   "cell_type": "code",
   "execution_count": null,
   "metadata": {},
   "outputs": [],
   "source": []
  },
  {
   "cell_type": "code",
   "execution_count": null,
   "metadata": {},
   "outputs": [],
   "source": []
  },
  {
   "cell_type": "code",
   "execution_count": null,
   "metadata": {},
   "outputs": [],
   "source": []
  },
  {
   "cell_type": "code",
   "execution_count": null,
   "metadata": {},
   "outputs": [],
   "source": []
  },
  {
   "cell_type": "markdown",
   "metadata": {},
   "source": [
    "**debug attn**"
   ]
  },
  {
   "cell_type": "markdown",
   "metadata": {},
   "source": [
    "Final attention scores"
   ]
  },
  {
   "cell_type": "code",
   "execution_count": 24,
   "metadata": {},
   "outputs": [
    {
     "data": {
      "text/plain": [
       "array([[0.08149937, 0.09841573, 0.09362625, 0.08023169, 0.09917062,\n",
       "        0.07985616, 0.09651111, 0.08856925, 0.09492204, 0.04941759,\n",
       "        0.01490518, 0.01438902, 0.01433434, 0.01585263, 0.01470559,\n",
       "        0.01427218, 0.01510236, 0.01579659, 0.01842225]], dtype=float32)"
      ]
     },
     "execution_count": 24,
     "metadata": {},
     "output_type": "execute_result"
    }
   ],
   "source": [
    "attn"
   ]
  },
  {
   "cell_type": "code",
   "execution_count": 25,
   "metadata": {},
   "outputs": [
    {
     "data": {
      "text/plain": [
       "array([0.01753611, 0.01754035, 0.0159816 , 0.01412296, 0.01859244,\n",
       "       0.01822432, 0.01926234, 0.01926778, 0.02183105, 0.05254295,\n",
       "       0.07326478, 0.07477356, 0.08119175, 0.07852792, 0.08867372,\n",
       "       0.09165921, 0.10002027, 0.1001971 , 0.09678981])"
      ]
     },
     "execution_count": 25,
     "metadata": {},
     "output_type": "execute_result"
    }
   ],
   "source": [
    "lrp_model.att_score"
   ]
  },
  {
   "cell_type": "markdown",
   "metadata": {},
   "source": [
    "Before normalization"
   ]
  },
  {
   "cell_type": "code",
   "execution_count": 26,
   "metadata": {},
   "outputs": [
    {
     "data": {
      "text/plain": [
       "array([-0.19836924, -0.19812712, -0.29119319, -0.41482927, -0.13987634,\n",
       "       -0.15987395, -0.10447949, -0.10419691,  0.02070205,  0.89899985,\n",
       "        1.23144878,  1.25183313,  1.33418243,  1.30082306,  1.42233237,\n",
       "        1.45544636,  1.54274171,  1.54450808,  1.50991058])"
      ]
     },
     "execution_count": 26,
     "metadata": {},
     "output_type": "execute_result"
    }
   ],
   "source": [
    "lrp_model.att_score_int"
   ]
  },
  {
   "cell_type": "code",
   "execution_count": 27,
   "metadata": {},
   "outputs": [
    {
     "data": {
      "text/plain": [
       "array([[ 1.3992885 ,  1.587894  ,  1.538004  ,  1.3836118 ,  1.595535  ,\n",
       "         1.3789202 ,  1.5683514 ,  1.4824779 ,  1.5517491 ,  0.89899975,\n",
       "        -0.29959828, -0.33484167, -0.33864853, -0.23797123, -0.31307918,\n",
       "        -0.34299457, -0.28645557, -0.24151303, -0.08774745]],\n",
       "      dtype=float32)"
      ]
     },
     "execution_count": 27,
     "metadata": {},
     "output_type": "execute_result"
    }
   ],
   "source": [
    "attn_int"
   ]
  },
  {
   "cell_type": "markdown",
   "metadata": {},
   "source": [
    "Query- OK, the same"
   ]
  },
  {
   "cell_type": "code",
   "execution_count": 29,
   "metadata": {},
   "outputs": [
    {
     "data": {
      "text/plain": [
       "array([-4.56225493e-03, -5.88411946e-05,  3.38443218e-02, -7.45028679e-03,\n",
       "        2.33660989e-05, -6.35983403e-01,  1.75865722e-01,  4.46616500e-01,\n",
       "        3.25537945e-03,  2.23170496e-01, -5.26650655e-02,  8.26347271e-02,\n",
       "       -3.00173144e-02, -3.19712192e-01, -1.04870946e-02,  1.54069476e-03])"
      ]
     },
     "execution_count": 29,
     "metadata": {},
     "output_type": "execute_result"
    }
   ],
   "source": [
    "lrp_model.h_Left[len(one_text)-1]"
   ]
  },
  {
   "cell_type": "code",
   "execution_count": 30,
   "metadata": {},
   "outputs": [
    {
     "data": {
      "text/plain": [
       "array([ 9.86988855e-01,  1.56019730e-04, -9.70274949e-01, -5.10828600e-04,\n",
       "        1.36936581e-02, -9.88427582e-01,  7.26517466e-01, -9.99589538e-01,\n",
       "       -3.84301741e-05, -1.84636200e-01,  3.02444066e-01,  7.51164132e-01,\n",
       "        3.07978058e-01, -2.64226348e-03, -7.60510172e-01, -9.75990615e-04])"
      ]
     },
     "execution_count": 30,
     "metadata": {},
     "output_type": "execute_result"
    }
   ],
   "source": [
    "lrp_model.h_Right[len(one_text)-1]"
   ]
  },
  {
   "cell_type": "code",
   "execution_count": 31,
   "metadata": {},
   "outputs": [
    {
     "data": {
      "text/plain": [
       "array([[-4.5622555e-03, -5.8841215e-05,  3.3844326e-02, -7.4502863e-03,\n",
       "         2.3366092e-05, -6.3598347e-01,  1.7586571e-01,  4.4661650e-01,\n",
       "         3.2553808e-03,  2.2317050e-01, -5.2665066e-02,  8.2634732e-02,\n",
       "        -3.0017309e-02, -3.1971222e-01, -1.0487095e-02,  1.5406949e-03,\n",
       "         9.8698884e-01,  1.5601973e-04, -9.7027487e-01, -5.1082874e-04,\n",
       "         1.3693659e-02, -9.8842758e-01,  7.2651744e-01, -9.9958944e-01,\n",
       "        -3.8430193e-05, -1.8463618e-01,  3.0244407e-01,  7.5116402e-01,\n",
       "         3.0797806e-01, -2.6422644e-03, -7.6051033e-01, -9.7599073e-04]],\n",
       "      dtype=float32)"
      ]
     },
     "execution_count": 31,
     "metadata": {},
     "output_type": "execute_result"
    }
   ],
   "source": [
    "out"
   ]
  },
  {
   "cell_type": "code",
   "execution_count": 59,
   "metadata": {},
   "outputs": [
    {
     "data": {
      "text/plain": [
       "(1, 32)"
      ]
     },
     "execution_count": 59,
     "metadata": {},
     "output_type": "execute_result"
    }
   ],
   "source": [
    "out.shape"
   ]
  },
  {
   "cell_type": "markdown",
   "metadata": {},
   "source": [
    "Key - OK, same"
   ]
  },
  {
   "cell_type": "code",
   "execution_count": 34,
   "metadata": {},
   "outputs": [
    {
     "data": {
      "text/plain": [
       "array([-0.00440368, -0.00077483,  0.01025761, -0.01648366,  0.00042234,\n",
       "       -0.11363921,  0.04486908,  0.25828355,  0.01791407,  0.10618368,\n",
       "       -0.31055342,  0.17926648, -0.0116319 , -0.19949458, -0.14052975,\n",
       "        0.00904198])"
      ]
     },
     "execution_count": 34,
     "metadata": {},
     "output_type": "execute_result"
    }
   ],
   "source": [
    "lrp_model.h_Left[0]"
   ]
  },
  {
   "cell_type": "code",
   "execution_count": 38,
   "metadata": {},
   "outputs": [
    {
     "data": {
      "text/plain": [
       "array([-0.00440368, -0.00077483,  0.01025761, -0.01648366,  0.00042234,\n",
       "       -0.11363921,  0.04486908,  0.25828356,  0.01791408,  0.10618369,\n",
       "       -0.31055343,  0.1792665 , -0.0116319 , -0.1994946 , -0.14052972,\n",
       "        0.00904198], dtype=float32)"
      ]
     },
     "execution_count": 38,
     "metadata": {},
     "output_type": "execute_result"
    }
   ],
   "source": [
    "output[0][0, :16]"
   ]
  },
  {
   "cell_type": "code",
   "execution_count": 48,
   "metadata": {},
   "outputs": [
    {
     "data": {
      "text/plain": [
       "(1, 19, 32)"
      ]
     },
     "execution_count": 48,
     "metadata": {},
     "output_type": "execute_result"
    }
   ],
   "source": [
    "output.shape"
   ]
  },
  {
   "cell_type": "code",
   "execution_count": 81,
   "metadata": {},
   "outputs": [
    {
     "data": {
      "text/plain": [
       "True"
      ]
     },
     "execution_count": 81,
     "metadata": {},
     "output_type": "execute_result"
    }
   ],
   "source": [
    "np.allclose(output[0][:, :16], lrp_model.h_Left[:len(one_text)])"
   ]
  },
  {
   "cell_type": "code",
   "execution_count": null,
   "metadata": {},
   "outputs": [],
   "source": []
  },
  {
   "cell_type": "code",
   "execution_count": null,
   "metadata": {},
   "outputs": [],
   "source": []
  },
  {
   "cell_type": "code",
   "execution_count": null,
   "metadata": {},
   "outputs": [],
   "source": []
  },
  {
   "cell_type": "markdown",
   "metadata": {},
   "source": [
    "Multiplication of key and query"
   ]
  },
  {
   "cell_type": "code",
   "execution_count": 51,
   "metadata": {},
   "outputs": [
    {
     "data": {
      "text/plain": [
       "array([[ 1.3992885 ,  1.587894  ,  1.538004  ,  1.3836118 ,  1.595535  ,\n",
       "         1.3789202 ,  1.5683514 ,  1.4824779 ,  1.5517491 ,  0.89899975,\n",
       "        -0.29959828, -0.33484167, -0.33864853, -0.23797123, -0.31307918,\n",
       "        -0.34299457, -0.28645557, -0.24151303, -0.08774745]],\n",
       "      dtype=float32)"
      ]
     },
     "execution_count": 51,
     "metadata": {},
     "output_type": "execute_result"
    }
   ],
   "source": [
    "attn_int"
   ]
  },
  {
   "cell_type": "code",
   "execution_count": 58,
   "metadata": {},
   "outputs": [
    {
     "data": {
      "text/plain": [
       "tensor([[ 1.3993,  1.5879,  1.5380,  1.3836,  1.5955,  1.3789,  1.5684,  1.4825,\n",
       "          1.5517,  0.8990, -0.2996, -0.3348, -0.3386, -0.2380, -0.3131, -0.3430,\n",
       "         -0.2865, -0.2415, -0.0877]])"
      ]
     },
     "execution_count": 58,
     "metadata": {},
     "output_type": "execute_result"
    }
   ],
   "source": [
    "torch.bmm(torch.tensor(output), torch.tensor(out).unsqueeze(2)).squeeze(2) / ((len(one_text)) ** 0.5)"
   ]
  },
  {
   "cell_type": "markdown",
   "metadata": {},
   "source": [
    "LEFT"
   ]
  },
  {
   "cell_type": "code",
   "execution_count": 97,
   "metadata": {},
   "outputs": [
    {
     "data": {
      "text/plain": [
       "tensor([[ 0.3165,  0.9793,  0.7821,  0.3520,  0.9874,  0.4492,  0.9839,  0.8038,\n",
       "          0.9782, -0.6185, -0.4180, -0.2015, -0.0368,  0.1088,  0.2324,  0.6652,\n",
       "          0.8028,  0.7901,  0.7987]])"
      ]
     },
     "execution_count": 97,
     "metadata": {},
     "output_type": "execute_result"
    }
   ],
   "source": [
    "left = torch.bmm(\n",
    "    torch.tensor(output[:, :, :16]),\n",
    "    torch.tensor(out[:, :16]).unsqueeze(2)).squeeze(2)# / ((len(one_text)) ** 0.5)\n",
    "left"
   ]
  },
  {
   "cell_type": "code",
   "execution_count": 95,
   "metadata": {},
   "outputs": [
    {
     "data": {
      "text/plain": [
       "torch.Size([1, 16, 1])"
      ]
     },
     "execution_count": 95,
     "metadata": {},
     "output_type": "execute_result"
    }
   ],
   "source": [
    "torch.tensor(out[:, :16]).unsqueeze(2).shape"
   ]
  },
  {
   "cell_type": "code",
   "execution_count": 87,
   "metadata": {},
   "outputs": [
    {
     "data": {
      "text/plain": [
       "torch.Size([1, 19])"
      ]
     },
     "execution_count": 87,
     "metadata": {},
     "output_type": "execute_result"
    }
   ],
   "source": [
    "left.shape"
   ]
  },
  {
   "cell_type": "markdown",
   "metadata": {},
   "source": [
    "RIGHT"
   ]
  },
  {
   "cell_type": "code",
   "execution_count": 99,
   "metadata": {},
   "outputs": [
    {
     "data": {
      "text/plain": [
       "tensor([[ 5.7828,  5.9422,  5.9219,  5.6790,  5.9674,  5.5614,  5.8524,  5.6581,\n",
       "          5.7857,  4.5372, -0.8879, -1.2580, -1.4393, -1.1460, -1.5971, -2.1602,\n",
       "         -2.0514, -1.8429, -1.1812]])"
      ]
     },
     "execution_count": 99,
     "metadata": {},
     "output_type": "execute_result"
    }
   ],
   "source": [
    "right = torch.bmm(\n",
    "    torch.tensor(output[:, :, 16:]),\n",
    "    torch.tensor(out[:, 16:]).unsqueeze(2)).squeeze(2) \n",
    "right"
   ]
  },
  {
   "cell_type": "code",
   "execution_count": 66,
   "metadata": {},
   "outputs": [
    {
     "data": {
      "text/plain": [
       "tensor([[ 1.3993,  1.5879,  1.5380,  1.3836,  1.5955,  1.3789,  1.5684,  1.4825,\n",
       "          1.5517,  0.8990, -0.2996, -0.3348, -0.3386, -0.2380, -0.3131, -0.3430,\n",
       "         -0.2865, -0.2415, -0.0877]])"
      ]
     },
     "execution_count": 66,
     "metadata": {},
     "output_type": "execute_result"
    }
   ],
   "source": [
    "left + right"
   ]
  },
  {
   "cell_type": "markdown",
   "metadata": {},
   "source": [
    "Left should match lrp left"
   ]
  },
  {
   "cell_type": "code",
   "execution_count": 83,
   "metadata": {},
   "outputs": [
    {
     "data": {
      "text/plain": [
       "(19, 16)"
      ]
     },
     "execution_count": 83,
     "metadata": {},
     "output_type": "execute_result"
    }
   ],
   "source": [
    "lrp_model.h_Left[:len(one_text)].shape"
   ]
  },
  {
   "cell_type": "code",
   "execution_count": 85,
   "metadata": {},
   "outputs": [
    {
     "data": {
      "text/plain": [
       "(16,)"
      ]
     },
     "execution_count": 85,
     "metadata": {},
     "output_type": "execute_result"
    }
   ],
   "source": [
    "lrp_model.h_Left[len(one_text)-1].shape"
   ]
  },
  {
   "cell_type": "code",
   "execution_count": 92,
   "metadata": {},
   "outputs": [
    {
     "data": {
      "text/plain": [
       "array([ 0.31654942,  0.97925445,  0.78214506,  0.35203534,  0.98742115,\n",
       "        0.44917446,  0.98388902,  0.8038423 ,  0.97818387, -0.61853069,\n",
       "       -0.41797293, -0.20151502, -0.03683031,  0.10875611,  0.23244751,\n",
       "        0.66515558,  0.8027958 ,  0.79013921,  0.79873875])"
      ]
     },
     "execution_count": 92,
     "metadata": {},
     "output_type": "execute_result"
    }
   ],
   "source": [
    "np.dot(lrp_model.h_Left[:len(one_text)], lrp_model.h_Left[len(one_text)-1])"
   ]
  },
  {
   "cell_type": "code",
   "execution_count": 98,
   "metadata": {},
   "outputs": [
    {
     "data": {
      "text/plain": [
       "array([-1.18122091, -1.84287054, -2.05142676, -2.16023422, -1.59712796,\n",
       "       -1.14604887, -1.43930458, -1.2580261 , -0.88794573,  4.53718016,\n",
       "        5.78573373,  5.65812912,  5.85239671,  5.56140014,  5.96735554,\n",
       "        5.678988  ,  5.92185941,  5.94221543,  5.78280887])"
      ]
     },
     "execution_count": 98,
     "metadata": {},
     "output_type": "execute_result"
    }
   ],
   "source": [
    "np.dot(lrp_model.h_Right[:len(one_text)], lrp_model.h_Right[len(one_text)-1])"
   ]
  },
  {
   "cell_type": "code",
   "execution_count": null,
   "metadata": {},
   "outputs": [],
   "source": []
  },
  {
   "cell_type": "code",
   "execution_count": null,
   "metadata": {},
   "outputs": [],
   "source": []
  },
  {
   "cell_type": "code",
   "execution_count": null,
   "metadata": {},
   "outputs": [],
   "source": []
  },
  {
   "cell_type": "code",
   "execution_count": null,
   "metadata": {},
   "outputs": [],
   "source": []
  },
  {
   "cell_type": "code",
   "execution_count": 47,
   "metadata": {},
   "outputs": [
    {
     "data": {
      "text/plain": [
       "array([-0.86467149, -0.86361608, -1.2692817 , -1.80819888, -0.60970682,\n",
       "       -0.69687441, -0.45541555, -0.4541838 ,  0.09023814,  3.91864948,\n",
       "        5.3677608 ,  5.4566141 ,  5.81556641,  5.67015625,  6.19980305,\n",
       "        6.34414359,  6.72465522,  6.73235464,  6.58154763])"
      ]
     },
     "execution_count": 47,
     "metadata": {},
     "output_type": "execute_result"
    }
   ],
   "source": [
    "(np.matmul(lrp_model.h_Left[:len(one_text), :], lrp_model.h_Left[len(one_text)-1]) +\n",
    " np.matmul(lrp_model.h_Right[:len(one_text), :], lrp_model.h_Right[len(one_text)-1]))"
   ]
  },
  {
   "cell_type": "code",
   "execution_count": 44,
   "metadata": {},
   "outputs": [
    {
     "data": {
      "text/plain": [
       "(16,)"
      ]
     },
     "execution_count": 44,
     "metadata": {},
     "output_type": "execute_result"
    }
   ],
   "source": [
    "lrp_model.h_Left[len(one_text)-1].shape"
   ]
  },
  {
   "cell_type": "code",
   "execution_count": null,
   "metadata": {},
   "outputs": [],
   "source": []
  },
  {
   "cell_type": "markdown",
   "metadata": {},
   "source": [
    "**debug ctxt**"
   ]
  },
  {
   "cell_type": "code",
   "execution_count": 26,
   "metadata": {},
   "outputs": [
    {
     "data": {
      "text/plain": [
       "array([-0.75175912, -0.22730606,  0.07156486,  0.07396148, -0.04116775,\n",
       "       -0.71445155, -0.78800423,  0.10803136, -0.1190088 ,  0.01892237,\n",
       "       -0.21002502,  0.04333301,  0.08290456, -0.00852125,  0.20073836,\n",
       "        0.60271534])"
      ]
     },
     "execution_count": 26,
     "metadata": {},
     "output_type": "execute_result"
    }
   ],
   "source": [
    "lrp_model.ctxt_Left + lrp_model.ctxt_Right"
   ]
  },
  {
   "cell_type": "code",
   "execution_count": 27,
   "metadata": {},
   "outputs": [
    {
     "data": {
      "text/plain": [
       "array([[-2.84175336e-01, -4.38186899e-02,  3.77291726e-04,\n",
       "         5.38268089e-02, -1.51431382e-01,  7.09627271e-02,\n",
       "        -2.15149652e-02, -2.02006251e-01, -1.28047355e-02,\n",
       "         5.87341143e-03, -1.04134284e-01, -1.61383096e-02,\n",
       "         4.89300601e-02, -3.07334140e-02, -3.16762067e-02,\n",
       "         2.89033055e-01, -2.89291516e-03, -4.57919165e-02,\n",
       "         7.35101253e-02, -5.01201674e-02,  2.72683412e-01,\n",
       "        -2.71461427e-01, -4.09775704e-01,  3.68046999e-01,\n",
       "        -5.83853945e-02,  6.36376953e-03,  3.26851718e-02,\n",
       "         5.70958629e-02,  5.62404357e-02, -4.56434265e-02,\n",
       "         8.26789588e-02, -5.07154986e-02]], dtype=float32)"
      ]
     },
     "execution_count": 27,
     "metadata": {},
     "output_type": "execute_result"
    }
   ],
   "source": [
    "ctxt"
   ]
  },
  {
   "cell_type": "code",
   "execution_count": null,
   "metadata": {},
   "outputs": [],
   "source": []
  },
  {
   "cell_type": "code",
   "execution_count": null,
   "metadata": {},
   "outputs": [],
   "source": []
  },
  {
   "cell_type": "code",
   "execution_count": 133,
   "metadata": {},
   "outputs": [
    {
     "data": {
      "text/plain": [
       "array([-0.31218773, -0.39379643, -0.67169792, -0.37530512, -0.5557664 ,\n",
       "       -0.53200644, -0.48169229, -0.69452818, -0.43692519,  3.49979837,\n",
       "        3.80953519,  3.99241767,  4.03306182,  3.94953208,  4.01828531,\n",
       "        3.98317122,  3.97800063,  3.92579031,  3.92395222])"
      ]
     },
     "execution_count": 133,
     "metadata": {},
     "output_type": "execute_result"
    }
   ],
   "source": [
    "lrp_model.att_wgt_Left"
   ]
  },
  {
   "cell_type": "code",
   "execution_count": 134,
   "metadata": {},
   "outputs": [
    {
     "data": {
      "text/plain": [
       "array([-0.25089944, -0.30539514, -0.42103811, -0.37277385, -0.38318346,\n",
       "       -0.31277025, -0.3360959 , -0.40667137, -0.35669475,  1.36670953,\n",
       "        1.51176272,  1.52928085,  1.56859521,  1.54885829,  1.57262714,\n",
       "        1.53593461,  1.5601841 ,  1.55118622,  1.52509087])"
      ]
     },
     "execution_count": 134,
     "metadata": {},
     "output_type": "execute_result"
    }
   ],
   "source": [
    "lrp_model.att_score_int"
   ]
  },
  {
   "cell_type": "code",
   "execution_count": 117,
   "metadata": {},
   "outputs": [
    {
     "data": {
      "text/plain": [
       "array([0.01482975, 0.01404322, 0.0125096 , 0.01312818, 0.01299223,\n",
       "       0.01394003, 0.01361863, 0.01269062, 0.01334097, 0.0747571 ,\n",
       "       0.08642677, 0.08795414, 0.09148087, 0.08969302, 0.09185046,\n",
       "       0.08854132, 0.09071464, 0.08990207, 0.08758638])"
      ]
     },
     "execution_count": 117,
     "metadata": {},
     "output_type": "execute_result"
    }
   ],
   "source": [
    "lrp_model.att_score"
   ]
  },
  {
   "cell_type": "code",
   "execution_count": 89,
   "metadata": {},
   "outputs": [],
   "source": [
    "import torch.nn as nn"
   ]
  },
  {
   "cell_type": "code",
   "execution_count": 91,
   "metadata": {},
   "outputs": [
    {
     "data": {
      "text/plain": [
       "tensor([0.0148, 0.0140, 0.0125, 0.0131, 0.0130, 0.0139, 0.0136, 0.0127, 0.0133,\n",
       "        0.0748, 0.0864, 0.0880, 0.0915, 0.0897, 0.0919, 0.0885, 0.0907, 0.0899,\n",
       "        0.0876], dtype=torch.float64)"
      ]
     },
     "execution_count": 91,
     "metadata": {},
     "output_type": "execute_result"
    }
   ],
   "source": [
    "nn.functional.softmax(torch.tensor(lrp_model.att_score_int))"
   ]
  },
  {
   "cell_type": "code",
   "execution_count": null,
   "metadata": {},
   "outputs": [],
   "source": []
  },
  {
   "cell_type": "code",
   "execution_count": null,
   "metadata": {},
   "outputs": [],
   "source": []
  },
  {
   "cell_type": "code",
   "execution_count": null,
   "metadata": {},
   "outputs": [],
   "source": []
  },
  {
   "cell_type": "code",
   "execution_count": null,
   "metadata": {},
   "outputs": [],
   "source": []
  },
  {
   "cell_type": "code",
   "execution_count": 75,
   "metadata": {},
   "outputs": [
    {
     "data": {
      "text/plain": [
       "array([[1.17925553]])"
      ]
     },
     "execution_count": 75,
     "metadata": {},
     "output_type": "execute_result"
    }
   ],
   "source": [
    "np.abs(lrp_pred - model_pred.cpu().detach().numpy())"
   ]
  },
  {
   "cell_type": "code",
   "execution_count": null,
   "metadata": {},
   "outputs": [],
   "source": []
  },
  {
   "cell_type": "code",
   "execution_count": null,
   "metadata": {},
   "outputs": [],
   "source": []
  },
  {
   "cell_type": "code",
   "execution_count": null,
   "metadata": {},
   "outputs": [],
   "source": []
  },
  {
   "cell_type": "code",
   "execution_count": null,
   "metadata": {},
   "outputs": [],
   "source": []
  },
  {
   "cell_type": "code",
   "execution_count": 21,
   "metadata": {},
   "outputs": [],
   "source": [
    "Rx, Rx_rev, R_rest  = lrp_model.lrp(one_text, 0)"
   ]
  },
  {
   "cell_type": "code",
   "execution_count": 22,
   "metadata": {},
   "outputs": [],
   "source": [
    "R_words             = np.sum(Rx + Rx_rev, axis=1) "
   ]
  },
  {
   "cell_type": "code",
   "execution_count": 23,
   "metadata": {},
   "outputs": [],
   "source": [
    "import pandas as pd"
   ]
  },
  {
   "cell_type": "code",
   "execution_count": 24,
   "metadata": {},
   "outputs": [],
   "source": [
    "df = pd.DataFrame()\n",
    "df['R'] = R_words\n",
    "df['idx'] = one_text\n",
    "df['token'] = [lstm_model.vocab.itos(x) for x in one_text]"
   ]
  },
  {
   "cell_type": "code",
   "execution_count": 25,
   "metadata": {},
   "outputs": [
    {
     "data": {
      "text/html": [
       "<div>\n",
       "<style scoped>\n",
       "    .dataframe tbody tr th:only-of-type {\n",
       "        vertical-align: middle;\n",
       "    }\n",
       "\n",
       "    .dataframe tbody tr th {\n",
       "        vertical-align: top;\n",
       "    }\n",
       "\n",
       "    .dataframe thead th {\n",
       "        text-align: right;\n",
       "    }\n",
       "</style>\n",
       "<table border=\"1\" class=\"dataframe\">\n",
       "  <thead>\n",
       "    <tr style=\"text-align: right;\">\n",
       "      <th></th>\n",
       "      <th>R</th>\n",
       "      <th>idx</th>\n",
       "      <th>token</th>\n",
       "    </tr>\n",
       "  </thead>\n",
       "  <tbody>\n",
       "    <tr>\n",
       "      <th>0</th>\n",
       "      <td>0.133912</td>\n",
       "      <td>12</td>\n",
       "      <td>ankle_sprain</td>\n",
       "    </tr>\n",
       "    <tr>\n",
       "      <th>1</th>\n",
       "      <td>0.002906</td>\n",
       "      <td>5</td>\n",
       "      <td>PH</td>\n",
       "    </tr>\n",
       "    <tr>\n",
       "      <th>2</th>\n",
       "      <td>0.073714</td>\n",
       "      <td>12</td>\n",
       "      <td>ankle_sprain</td>\n",
       "    </tr>\n",
       "    <tr>\n",
       "      <th>3</th>\n",
       "      <td>0.046349</td>\n",
       "      <td>11</td>\n",
       "      <td>peanut_allergy</td>\n",
       "    </tr>\n",
       "    <tr>\n",
       "      <th>4</th>\n",
       "      <td>-0.060053</td>\n",
       "      <td>20</td>\n",
       "      <td>foot_pain</td>\n",
       "    </tr>\n",
       "  </tbody>\n",
       "</table>\n",
       "</div>"
      ],
      "text/plain": [
       "          R  idx           token\n",
       "0  0.133912   12    ankle_sprain\n",
       "1  0.002906    5              PH\n",
       "2  0.073714   12    ankle_sprain\n",
       "3  0.046349   11  peanut_allergy\n",
       "4 -0.060053   20       foot_pain"
      ]
     },
     "execution_count": 25,
     "metadata": {},
     "output_type": "execute_result"
    }
   ],
   "source": [
    "df.head()"
   ]
  },
  {
   "cell_type": "code",
   "execution_count": 26,
   "metadata": {},
   "outputs": [
    {
     "data": {
      "text/plain": [
       "([0, 1, 2, 3, 4, 5, 6], <a list of 7 Text xticklabel objects>)"
      ]
     },
     "execution_count": 26,
     "metadata": {},
     "output_type": "execute_result"
    },
    {
     "data": {
      "image/png": "[encoded data removed]",
      "text/plain": [
       "<Figure size 432x288 with 1 Axes>"
      ]
     },
     "metadata": {
      "needs_background": "light"
     },
     "output_type": "display_data"
    }
   ],
   "source": [
    "plt.figure()\n",
    "plt.bar(df.token, df.R)\n",
    "plt.xticks(rotation=90)"
   ]
  },
  {
   "cell_type": "code",
   "execution_count": 190,
   "metadata": {},
   "outputs": [
    {
     "data": {
      "text/plain": [
       "([0, 1, 2, 3, 4, 5, 6], <a list of 7 Text xticklabel objects>)"
      ]
     },
     "execution_count": 190,
     "metadata": {},
     "output_type": "execute_result"
    },
    {
     "data": {
      "image/png": "[encoded data removed]",
      "text/plain": [
       "<Figure size 432x288 with 1 Axes>"
      ]
     },
     "metadata": {
      "needs_background": "light"
     },
     "output_type": "display_data"
    }
   ],
   "source": [
    "plt.figure()\n",
    "plt.bar(df.token, df.R)\n",
    "plt.xticks(rotation=90)"
   ]
  },
  {
   "cell_type": "code",
   "execution_count": null,
   "metadata": {},
   "outputs": [],
   "source": []
  }
 ],
 "metadata": {
  "kernelspec": {
   "display_name": "conda_pytorch_p36",
   "language": "python",
   "name": "conda_pytorch_p36"
  },
  "language_info": {
   "codemirror_mode": {
    "name": "ipython",
    "version": 3
   },
   "file_extension": ".py",
   "mimetype": "text/x-python",
   "name": "python",
   "nbconvert_exporter": "python",
   "pygments_lexer": "ipython3",
   "version": "3.6.10"
  }
 },
 "nbformat": 4,
 "nbformat_minor": 4
}
