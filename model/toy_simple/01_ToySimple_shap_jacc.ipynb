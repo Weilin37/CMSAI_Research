{
 "cells": [
  {
   "cell_type": "markdown",
   "metadata": {},
   "source": [
    "# Computing SHAP values and Jaccard Index Similarities"
   ]
  },
  {
   "cell_type": "code",
   "execution_count": 145,
   "metadata": {},
   "outputs": [],
   "source": [
    "#! jupyter nbextension enable jupyter-black-master/jupyter-black\n",
    "\n",
    "#! pip install botocore==1.12.201\n",
    "\n",
    "#! pip install shap\n",
    "#! pip install xgboost"
   ]
  },
  {
   "cell_type": "code",
   "execution_count": 191,
   "metadata": {},
   "outputs": [],
   "source": [
    "import os\n",
    "import time\n",
    "import torch\n",
    "import pandas as pd\n",
    "import numpy as np\n",
    "import time\n",
    "import matplotlib.pyplot as plt\n",
    "import seaborn as sns\n",
    "\n",
    "from collections import Counter\n",
    "\n",
    "import torch\n",
    "import torch.nn as nn\n",
    "from torch.utils.data import DataLoader\n",
    "from urllib.parse import urlparse\n",
    "import tarfile\n",
    "import pickle\n",
    "import shutil\n",
    "\n",
    "import shap\n",
    "import xgboost as xgb\n",
    "\n",
    "import sagemaker\n",
    "import boto3\n",
    "from sagemaker.tuner import IntegerParameter, CategoricalParameter, ContinuousParameter, HyperparameterTuner\n",
    "from sagemaker.image_uris import retrieve\n",
    "\n",
    "import deep_id_pytorch\n",
    "\n",
    "from lstm_models import *\n",
    "from att_lstm_models import *\n",
    "from lstm_utils import *\n",
    "from xgboost_utils import *\n",
    "from shap_jacc_utils import *"
   ]
  },
  {
   "cell_type": "code",
   "execution_count": 192,
   "metadata": {},
   "outputs": [
    {
     "name": "stdout",
     "output_type": "stream",
     "text": [
      "The autoreload extension is already loaded. To reload it, use:\n",
      "  %reload_ext autoreload\n"
     ]
    }
   ],
   "source": [
    "%load_ext autoreload\n",
    "\n",
    "%autoreload 2"
   ]
  },
  {
   "cell_type": "markdown",
   "metadata": {},
   "source": [
    "## 1. LSTM Dataset and Model Loading"
   ]
  },
  {
   "cell_type": "markdown",
   "metadata": {},
   "source": [
    "## Constants"
   ]
  },
  {
   "cell_type": "code",
   "execution_count": 193,
   "metadata": {},
   "outputs": [],
   "source": [
    "nrows = 1e9\n",
    "min_freq = 1\n",
    "\n",
    "seq_len = 30\n",
    "\n",
    "train_data_path = \"../../data/toy_dataset/data/{}/train.csv\".format(seq_len)\n",
    "valid_data_path = \"../../data/toy_dataset/data/{}/val.csv\".format(seq_len)\n",
    "test_data_path = \"../../data/toy_dataset/data/{}/test.csv\".format(seq_len)\n",
    "\n",
    "lstm_shap_features_path = './output/{}/shap/features/lstm_features.pkl'.format(seq_len)\n",
    "lstm_shap_scores_path = './output/{}/shap/feature-importance/lstm_scores.pkl'.format(seq_len)\n",
    "lstm_shap_patients_path = './output/{}/shap/feature-importance/lstm_patients.pkl'.format(seq_len)\n",
    "\n",
    "lstm_att_shap_features_path = './output/{}/shap/features/lstm_att_features.pkl'.format(seq_len)\n",
    "lstm_att_shap_scores_path = './output/{}/shap/feature-importance/lstm_att_scores.pkl'.format(seq_len)\n",
    "lstm_att_shap_patients_path = './output/{}/shap/feature-importance/lstm_att_patients.pkl'.format(seq_len)\n",
    "\n",
    "lstm_model_save_path = './output/{}/lstm/models/model'.format(seq_len)\n",
    "lstm_results_save_path = \"./output/{}/lstm/results/\".format(seq_len)\n",
    "\n",
    "lstm_att_model_save_path = './output/{}/lstm-att/models/model'.format(seq_len)\n",
    "lstm_att_results_save_path = \"./output/{}/lstm-att/results/\".format(seq_len)\n",
    "\n",
    "batch_size = 64\n",
    "\n",
    "embedding_dim = 8\n",
    "hidden_dim = 16\n",
    "nlayers = 1\n",
    "bidirectional = True\n",
    "dropout = 0.3\n",
    "\n",
    "target_colname = 'label'\n",
    "uid_colname = 'patient_id'\n",
    "x_inputs = [str(x) for x in range(29, -1, -1)]\n",
    "target_value = '1'\n",
    "\n",
    "rev = False"
   ]
  },
  {
   "cell_type": "code",
   "execution_count": 194,
   "metadata": {},
   "outputs": [
    {
     "name": "stdout",
     "output_type": "stream",
     "text": [
      "Cuda available: True\n"
     ]
    }
   ],
   "source": [
    "for fp in [lstm_model_save_path, lstm_results_save_path]:\n",
    "    if not os.path.isdir(os.path.split(fp)[0]):\n",
    "        print(f'New directory created: {fp}')\n",
    "        os.makedirs(os.path.split(fp)[0])\n",
    "        \n",
    "for fp in [lstm_att_model_save_path, lstm_att_results_save_path]:\n",
    "    if not os.path.isdir(os.path.split(fp)[0]):\n",
    "        print(f'New directory created: {fp}')\n",
    "        os.makedirs(os.path.split(fp)[0])\n",
    "\n",
    "print(f\"Cuda available: {torch.cuda.is_available()}\")\n",
    "model_device = torch.device('cuda' if torch.cuda.is_available() else 'cpu')"
   ]
  },
  {
   "cell_type": "markdown",
   "metadata": {},
   "source": [
    "### Create Vocab and Build Dataset"
   ]
  },
  {
   "cell_type": "code",
   "execution_count": 195,
   "metadata": {},
   "outputs": [
    {
     "name": "stdout",
     "output_type": "stream",
     "text": [
      "Building dataset from ../../data/toy_dataset/data/900/train.csv..\n",
      "Success!\n",
      "Building dataset from ../../data/toy_dataset/data/900/val.csv..\n",
      "Success!\n",
      "Building dataset from ../../data/toy_dataset/data/900/test.csv..\n",
      "Success!\n"
     ]
    }
   ],
   "source": [
    "train_dataset, vocab = build_lstm_dataset(\n",
    "                                train_data_path,\n",
    "                                min_freq=min_freq,\n",
    "                                uid_colname=\"patient_id\",\n",
    "                                target_colname=\"label\",\n",
    "                                max_len=seq_len,\n",
    "                                target_value=target_value,\n",
    "                                vocab=None,\n",
    "                                nrows=nrows,\n",
    "                                rev=rev\n",
    "                            )\n",
    "valid_dataset, _ = build_lstm_dataset(\n",
    "                                valid_data_path,\n",
    "                                min_freq=min_freq,\n",
    "                                uid_colname=\"patient_id\",\n",
    "                                target_colname=\"label\",\n",
    "                                max_len=seq_len,\n",
    "                                target_value=target_value,\n",
    "                                vocab=vocab,\n",
    "                                nrows=nrows,\n",
    "                                rev=rev\n",
    "                            )\n",
    "\n",
    "test_dataset, _ = build_lstm_dataset(\n",
    "                                test_data_path,\n",
    "                                min_freq=min_freq,\n",
    "                                uid_colname=\"patient_id\",\n",
    "                                target_colname=\"label\",\n",
    "                                max_len=seq_len,\n",
    "                                target_value=target_value,\n",
    "                                vocab=vocab,\n",
    "                                nrows=nrows,\n",
    "                                rev=rev\n",
    "                            )"
   ]
  },
  {
   "cell_type": "code",
   "execution_count": 196,
   "metadata": {},
   "outputs": [],
   "source": [
    "train_dataloader = DataLoader(\n",
    "    train_dataset,\n",
    "    batch_size=batch_size,\n",
    "    shuffle=True,\n",
    "    num_workers=2\n",
    ")\n",
    "\n",
    "valid_dataloader = DataLoader(\n",
    "    valid_dataset,\n",
    "    batch_size=batch_size,\n",
    "    shuffle=False,\n",
    "    num_workers=2\n",
    ")\n",
    "\n",
    "test_dataloader = DataLoader(\n",
    "    test_dataset,\n",
    "    batch_size=batch_size,\n",
    "    shuffle=False,\n",
    "    num_workers=2\n",
    ")"
   ]
  },
  {
   "cell_type": "markdown",
   "metadata": {},
   "source": [
    "### LSTM Model Loading and Evaluation"
   ]
  },
  {
   "cell_type": "code",
   "execution_count": 197,
   "metadata": {},
   "outputs": [],
   "source": [
    "lstm_model = SimpleLSTM(embedding_dim, hidden_dim, vocab, model_device, nlayers=nlayers, dropout=dropout)\n",
    "lstm_model = lstm_model.cuda()"
   ]
  },
  {
   "cell_type": "code",
   "execution_count": 198,
   "metadata": {},
   "outputs": [
    {
     "data": {
      "text/plain": [
       "SimpleLSTM(\n",
       "  (emb_layer): Embedding(32, 8, padding_idx=0)\n",
       "  (lstm): LSTM(8, 16, batch_first=True, dropout=0.3, bidirectional=True)\n",
       "  (pred_layer): Linear(in_features=32, out_features=1, bias=True)\n",
       "  (dpt): Dropout(p=0.3, inplace=False)\n",
       ")"
      ]
     },
     "execution_count": 198,
     "metadata": {},
     "output_type": "execute_result"
    }
   ],
   "source": [
    "lstm_model"
   ]
  },
  {
   "cell_type": "code",
   "execution_count": 199,
   "metadata": {},
   "outputs": [],
   "source": [
    "#loss_function = nn.CrossEntropyLoss()\n",
    "loss_function = nn.BCEWithLogitsLoss()"
   ]
  },
  {
   "cell_type": "code",
   "execution_count": 200,
   "metadata": {},
   "outputs": [
    {
     "name": "stdout",
     "output_type": "stream",
     "text": [
      "Test Loss: 0.693 | Test AUC: 0.48\n"
     ]
    }
   ],
   "source": [
    "lstm_model.load_state_dict(torch.load(lstm_model_save_path))\n",
    "test_loss, test_auc = epoch_val_lstm(\n",
    "   lstm_model, test_dataloader, loss_function)#, return_preds=False\n",
    "\n",
    "print(f\"Test Loss: {test_loss:.3f} | Test AUC: {test_auc:.2f}\")"
   ]
  },
  {
   "cell_type": "markdown",
   "metadata": {},
   "source": [
    "## 3. LSTM with Attention Model Loading and Evaluation"
   ]
  },
  {
   "cell_type": "code",
   "execution_count": 201,
   "metadata": {},
   "outputs": [],
   "source": [
    "lstm_att_model = AttLSTM(embedding_dim, hidden_dim, vocab, model_device, nlayers=nlayers, dropout=dropout)\n",
    "lstm_att_model = lstm_att_model.cuda()"
   ]
  },
  {
   "cell_type": "code",
   "execution_count": 202,
   "metadata": {},
   "outputs": [
    {
     "data": {
      "text/plain": [
       "AttLSTM(\n",
       "  (emb_layer): Embedding(32, 8, padding_idx=0)\n",
       "  (lstm): LSTM(8, 16, batch_first=True, dropout=0.3, bidirectional=True)\n",
       "  (pred_layer): Linear(in_features=64, out_features=1, bias=True)\n",
       "  (attn_layer): Linear(in_features=32, out_features=1, bias=True)\n",
       "  (dpt): Dropout(p=0.3, inplace=False)\n",
       "  (context_layer): Linear(in_features=32, out_features=1, bias=True)\n",
       ")"
      ]
     },
     "execution_count": 202,
     "metadata": {},
     "output_type": "execute_result"
    }
   ],
   "source": [
    "lstm_att_model"
   ]
  },
  {
   "cell_type": "code",
   "execution_count": 203,
   "metadata": {},
   "outputs": [],
   "source": [
    "#loss_function = nn.CrossEntropyLoss()\n",
    "loss_function = nn.BCEWithLogitsLoss()"
   ]
  },
  {
   "cell_type": "code",
   "execution_count": 204,
   "metadata": {},
   "outputs": [
    {
     "name": "stdout",
     "output_type": "stream",
     "text": [
      "Test Loss: 0.334 | Test AUC: 0.90\n"
     ]
    }
   ],
   "source": [
    "lstm_att_model.load_state_dict(torch.load(lstm_att_model_save_path))\n",
    "test_loss, test_auc = epoch_val_lstm(\n",
    "   lstm_att_model, test_dataloader, loss_function)#, return_preds=False\n",
    "\n",
    "print(f\"Test Loss: {test_loss:.3f} | Test AUC: {test_auc:.2f}\")"
   ]
  },
  {
   "cell_type": "markdown",
   "metadata": {},
   "source": [
    "## 2. XGBoost Dataset and Model Loading"
   ]
  },
  {
   "cell_type": "markdown",
   "metadata": {},
   "source": [
    "### Data Preprocessing"
   ]
  },
  {
   "cell_type": "code",
   "execution_count": 205,
   "metadata": {},
   "outputs": [],
   "source": [
    "x_train_one_hot_path = 'output/{}/xgboost/data/train_one_hot.csv'.format(seq_len)\n",
    "x_valid_one_hot_path = 'output/{}/xgboost/data/val_one_hot.csv'.format(seq_len)\n",
    "x_test_one_hot_path = 'output/{}/xgboost/data/test_one_hot.csv'.format(seq_len)\n",
    "\n",
    "x_train_data_path = 'output/{}/xgboost/data/train.csv'.format(seq_len)\n",
    "x_valid_data_path = 'output/{}/xgboost/data/val.csv'.format(seq_len)\n",
    "x_test_data_path = 'output/{}/xgboost/data/test.csv'.format(seq_len)\n",
    "\n",
    "s3_output_data_dir = 's3://merck-paper-bucket/{}/data'.format(seq_len)\n",
    "\n",
    "xgb_shap_features_path = './output/{}/shap/features/xgb_features.pkl'.format(seq_len)\n",
    "xgb_shap_scores_path = './output/{}/shap/feature-importance/xgb_scores.pkl'.format(seq_len)\n",
    "xgb_shap_patients_path = './output/{}/shap/feature-importance/xgb_patients.pkl'.format(seq_len)\n",
    "\n",
    "BUCKET = 'merck-paper-bucket'\n",
    "DATA_PREFIX = '{}/data'.format(seq_len)\n",
    "MODEL_PREFIX = '{}/xgboost/model'.format(seq_len)\n",
    "label = 'label'\n",
    "\n",
    "output_results_path = 'output/{}/xgboost/train/train_results.csv'.format(seq_len)\n",
    "local_model_dir = 'output/{}/xgboost/models/'\n",
    "s3_output_path = 's3://{}/{}/output'.format(BUCKET, MODEL_PREFIX)"
   ]
  },
  {
   "cell_type": "code",
   "execution_count": 206,
   "metadata": {},
   "outputs": [
    {
     "name": "stdout",
     "output_type": "stream",
     "text": [
      "(18000, 903)\n"
     ]
    },
    {
     "data": {
      "text/html": [
       "<div>\n",
       "<style scoped>\n",
       "    .dataframe tbody tr th:only-of-type {\n",
       "        vertical-align: middle;\n",
       "    }\n",
       "\n",
       "    .dataframe tbody tr th {\n",
       "        vertical-align: top;\n",
       "    }\n",
       "\n",
       "    .dataframe thead th {\n",
       "        text-align: right;\n",
       "    }\n",
       "</style>\n",
       "<table border=\"1\" class=\"dataframe\">\n",
       "  <thead>\n",
       "    <tr style=\"text-align: right;\">\n",
       "      <th></th>\n",
       "      <th>index</th>\n",
       "      <th>899</th>\n",
       "      <th>898</th>\n",
       "      <th>897</th>\n",
       "      <th>896</th>\n",
       "      <th>895</th>\n",
       "      <th>894</th>\n",
       "      <th>893</th>\n",
       "      <th>892</th>\n",
       "      <th>891</th>\n",
       "      <th>...</th>\n",
       "      <th>7</th>\n",
       "      <th>6</th>\n",
       "      <th>5</th>\n",
       "      <th>4</th>\n",
       "      <th>3</th>\n",
       "      <th>2</th>\n",
       "      <th>1</th>\n",
       "      <th>0</th>\n",
       "      <th>label</th>\n",
       "      <th>patient_id</th>\n",
       "    </tr>\n",
       "  </thead>\n",
       "  <tbody>\n",
       "    <tr>\n",
       "      <th>0</th>\n",
       "      <td>58</td>\n",
       "      <td>&lt;pad&gt;</td>\n",
       "      <td>&lt;pad&gt;</td>\n",
       "      <td>&lt;pad&gt;</td>\n",
       "      <td>&lt;pad&gt;</td>\n",
       "      <td>&lt;pad&gt;</td>\n",
       "      <td>&lt;pad&gt;</td>\n",
       "      <td>&lt;pad&gt;</td>\n",
       "      <td>&lt;pad&gt;</td>\n",
       "      <td>&lt;pad&gt;</td>\n",
       "      <td>...</td>\n",
       "      <td>hay_fever_N</td>\n",
       "      <td>backache_N</td>\n",
       "      <td>quad_injury_N</td>\n",
       "      <td>quad_injury_N</td>\n",
       "      <td>ACL_tear_N</td>\n",
       "      <td>pneumonia_H</td>\n",
       "      <td>pneumonia_H</td>\n",
       "      <td>cardiac_rehab_U</td>\n",
       "      <td>0</td>\n",
       "      <td>W522K3U1NM</td>\n",
       "    </tr>\n",
       "    <tr>\n",
       "      <th>1</th>\n",
       "      <td>583</td>\n",
       "      <td>&lt;pad&gt;</td>\n",
       "      <td>&lt;pad&gt;</td>\n",
       "      <td>&lt;pad&gt;</td>\n",
       "      <td>&lt;pad&gt;</td>\n",
       "      <td>&lt;pad&gt;</td>\n",
       "      <td>&lt;pad&gt;</td>\n",
       "      <td>&lt;pad&gt;</td>\n",
       "      <td>&lt;pad&gt;</td>\n",
       "      <td>&lt;pad&gt;</td>\n",
       "      <td>...</td>\n",
       "      <td>myopia_N</td>\n",
       "      <td>dental_exam_N</td>\n",
       "      <td>peanut_allergy_N</td>\n",
       "      <td>quad_injury_N</td>\n",
       "      <td>ingrown_nail_N</td>\n",
       "      <td>myopia_N</td>\n",
       "      <td>hay_fever_N</td>\n",
       "      <td>tachycardia_H</td>\n",
       "      <td>0</td>\n",
       "      <td>4PY82TXWUI</td>\n",
       "    </tr>\n",
       "    <tr>\n",
       "      <th>2</th>\n",
       "      <td>2882</td>\n",
       "      <td>&lt;pad&gt;</td>\n",
       "      <td>&lt;pad&gt;</td>\n",
       "      <td>&lt;pad&gt;</td>\n",
       "      <td>&lt;pad&gt;</td>\n",
       "      <td>&lt;pad&gt;</td>\n",
       "      <td>&lt;pad&gt;</td>\n",
       "      <td>&lt;pad&gt;</td>\n",
       "      <td>&lt;pad&gt;</td>\n",
       "      <td>&lt;pad&gt;</td>\n",
       "      <td>...</td>\n",
       "      <td>eye_exam_N</td>\n",
       "      <td>ACL_tear_N</td>\n",
       "      <td>annual_physical_N</td>\n",
       "      <td>ACL_tear_N</td>\n",
       "      <td>myopia_N</td>\n",
       "      <td>headache_N</td>\n",
       "      <td>foot_pain_N</td>\n",
       "      <td>apnea_H</td>\n",
       "      <td>1</td>\n",
       "      <td>HD8EMMXS9G</td>\n",
       "    </tr>\n",
       "    <tr>\n",
       "      <th>3</th>\n",
       "      <td>2159</td>\n",
       "      <td>&lt;pad&gt;</td>\n",
       "      <td>&lt;pad&gt;</td>\n",
       "      <td>&lt;pad&gt;</td>\n",
       "      <td>&lt;pad&gt;</td>\n",
       "      <td>&lt;pad&gt;</td>\n",
       "      <td>&lt;pad&gt;</td>\n",
       "      <td>&lt;pad&gt;</td>\n",
       "      <td>&lt;pad&gt;</td>\n",
       "      <td>&lt;pad&gt;</td>\n",
       "      <td>...</td>\n",
       "      <td>quad_injury_N</td>\n",
       "      <td>ingrown_nail_N</td>\n",
       "      <td>foot_pain_N</td>\n",
       "      <td>eye_exam_N</td>\n",
       "      <td>ACL_tear_N</td>\n",
       "      <td>peanut_allergy_N</td>\n",
       "      <td>hay_fever_N</td>\n",
       "      <td>myopia_N</td>\n",
       "      <td>1</td>\n",
       "      <td>A07ZWN6OWW</td>\n",
       "    </tr>\n",
       "    <tr>\n",
       "      <th>4</th>\n",
       "      <td>2317</td>\n",
       "      <td>&lt;pad&gt;</td>\n",
       "      <td>&lt;pad&gt;</td>\n",
       "      <td>&lt;pad&gt;</td>\n",
       "      <td>&lt;pad&gt;</td>\n",
       "      <td>&lt;pad&gt;</td>\n",
       "      <td>&lt;pad&gt;</td>\n",
       "      <td>&lt;pad&gt;</td>\n",
       "      <td>&lt;pad&gt;</td>\n",
       "      <td>&lt;pad&gt;</td>\n",
       "      <td>...</td>\n",
       "      <td>ingrown_nail_N</td>\n",
       "      <td>quad_injury_N</td>\n",
       "      <td>annual_physical_N</td>\n",
       "      <td>peanut_allergy_N</td>\n",
       "      <td>eye_exam_N</td>\n",
       "      <td>eye_exam_N</td>\n",
       "      <td>foot_pain_N</td>\n",
       "      <td>annual_physical_N</td>\n",
       "      <td>1</td>\n",
       "      <td>I37X5VLIV1</td>\n",
       "    </tr>\n",
       "  </tbody>\n",
       "</table>\n",
       "<p>5 rows × 903 columns</p>\n",
       "</div>"
      ],
      "text/plain": [
       "   index    899    898    897    896    895    894    893    892    891  ...  \\\n",
       "0     58  <pad>  <pad>  <pad>  <pad>  <pad>  <pad>  <pad>  <pad>  <pad>  ...   \n",
       "1    583  <pad>  <pad>  <pad>  <pad>  <pad>  <pad>  <pad>  <pad>  <pad>  ...   \n",
       "2   2882  <pad>  <pad>  <pad>  <pad>  <pad>  <pad>  <pad>  <pad>  <pad>  ...   \n",
       "3   2159  <pad>  <pad>  <pad>  <pad>  <pad>  <pad>  <pad>  <pad>  <pad>  ...   \n",
       "4   2317  <pad>  <pad>  <pad>  <pad>  <pad>  <pad>  <pad>  <pad>  <pad>  ...   \n",
       "\n",
       "                7               6                  5                 4  \\\n",
       "0     hay_fever_N      backache_N      quad_injury_N     quad_injury_N   \n",
       "1        myopia_N   dental_exam_N   peanut_allergy_N     quad_injury_N   \n",
       "2      eye_exam_N      ACL_tear_N  annual_physical_N        ACL_tear_N   \n",
       "3   quad_injury_N  ingrown_nail_N        foot_pain_N        eye_exam_N   \n",
       "4  ingrown_nail_N   quad_injury_N  annual_physical_N  peanut_allergy_N   \n",
       "\n",
       "                3                 2            1                  0 label  \\\n",
       "0      ACL_tear_N       pneumonia_H  pneumonia_H    cardiac_rehab_U     0   \n",
       "1  ingrown_nail_N          myopia_N  hay_fever_N      tachycardia_H     0   \n",
       "2        myopia_N        headache_N  foot_pain_N            apnea_H     1   \n",
       "3      ACL_tear_N  peanut_allergy_N  hay_fever_N           myopia_N     1   \n",
       "4      eye_exam_N        eye_exam_N  foot_pain_N  annual_physical_N     1   \n",
       "\n",
       "   patient_id  \n",
       "0  W522K3U1NM  \n",
       "1  4PY82TXWUI  \n",
       "2  HD8EMMXS9G  \n",
       "3  A07ZWN6OWW  \n",
       "4  I37X5VLIV1  \n",
       "\n",
       "[5 rows x 903 columns]"
      ]
     },
     "execution_count": 206,
     "metadata": {},
     "output_type": "execute_result"
    }
   ],
   "source": [
    "df = pd.read_csv(train_data_path)\n",
    "print(df.shape)\n",
    "df.head()"
   ]
  },
  {
   "cell_type": "code",
   "execution_count": 207,
   "metadata": {},
   "outputs": [],
   "source": [
    "tokens = lstm_model.vocab._vocab\n",
    "my_tokens = get_valid_tokens(tokens)"
   ]
  },
  {
   "cell_type": "code",
   "execution_count": 208,
   "metadata": {},
   "outputs": [
    {
     "data": {
      "text/html": [
       "<div>\n",
       "<style scoped>\n",
       "    .dataframe tbody tr th:only-of-type {\n",
       "        vertical-align: middle;\n",
       "    }\n",
       "\n",
       "    .dataframe tbody tr th {\n",
       "        vertical-align: top;\n",
       "    }\n",
       "\n",
       "    .dataframe thead th {\n",
       "        text-align: right;\n",
       "    }\n",
       "</style>\n",
       "<table border=\"1\" class=\"dataframe\">\n",
       "  <thead>\n",
       "    <tr style=\"text-align: right;\">\n",
       "      <th></th>\n",
       "      <th>index</th>\n",
       "      <th>899</th>\n",
       "      <th>898</th>\n",
       "      <th>897</th>\n",
       "      <th>896</th>\n",
       "      <th>895</th>\n",
       "      <th>894</th>\n",
       "      <th>893</th>\n",
       "      <th>892</th>\n",
       "      <th>891</th>\n",
       "      <th>...</th>\n",
       "      <th>7</th>\n",
       "      <th>6</th>\n",
       "      <th>5</th>\n",
       "      <th>4</th>\n",
       "      <th>3</th>\n",
       "      <th>2</th>\n",
       "      <th>1</th>\n",
       "      <th>0</th>\n",
       "      <th>label</th>\n",
       "      <th>patient_id</th>\n",
       "    </tr>\n",
       "  </thead>\n",
       "  <tbody>\n",
       "    <tr>\n",
       "      <th>0</th>\n",
       "      <td>58</td>\n",
       "      <td>&lt;pad&gt;</td>\n",
       "      <td>&lt;pad&gt;</td>\n",
       "      <td>&lt;pad&gt;</td>\n",
       "      <td>&lt;pad&gt;</td>\n",
       "      <td>&lt;pad&gt;</td>\n",
       "      <td>&lt;pad&gt;</td>\n",
       "      <td>&lt;pad&gt;</td>\n",
       "      <td>&lt;pad&gt;</td>\n",
       "      <td>&lt;pad&gt;</td>\n",
       "      <td>...</td>\n",
       "      <td>hay_fever_N</td>\n",
       "      <td>backache_N</td>\n",
       "      <td>quad_injury_N</td>\n",
       "      <td>quad_injury_N</td>\n",
       "      <td>ACL_tear_N</td>\n",
       "      <td>pneumonia_H</td>\n",
       "      <td>pneumonia_H</td>\n",
       "      <td>cardiac_rehab_U</td>\n",
       "      <td>0</td>\n",
       "      <td>W522K3U1NM</td>\n",
       "    </tr>\n",
       "    <tr>\n",
       "      <th>1</th>\n",
       "      <td>583</td>\n",
       "      <td>&lt;pad&gt;</td>\n",
       "      <td>&lt;pad&gt;</td>\n",
       "      <td>&lt;pad&gt;</td>\n",
       "      <td>&lt;pad&gt;</td>\n",
       "      <td>&lt;pad&gt;</td>\n",
       "      <td>&lt;pad&gt;</td>\n",
       "      <td>&lt;pad&gt;</td>\n",
       "      <td>&lt;pad&gt;</td>\n",
       "      <td>&lt;pad&gt;</td>\n",
       "      <td>...</td>\n",
       "      <td>myopia_N</td>\n",
       "      <td>dental_exam_N</td>\n",
       "      <td>peanut_allergy_N</td>\n",
       "      <td>quad_injury_N</td>\n",
       "      <td>ingrown_nail_N</td>\n",
       "      <td>myopia_N</td>\n",
       "      <td>hay_fever_N</td>\n",
       "      <td>tachycardia_H</td>\n",
       "      <td>0</td>\n",
       "      <td>4PY82TXWUI</td>\n",
       "    </tr>\n",
       "    <tr>\n",
       "      <th>2</th>\n",
       "      <td>2882</td>\n",
       "      <td>&lt;pad&gt;</td>\n",
       "      <td>&lt;pad&gt;</td>\n",
       "      <td>&lt;pad&gt;</td>\n",
       "      <td>&lt;pad&gt;</td>\n",
       "      <td>&lt;pad&gt;</td>\n",
       "      <td>&lt;pad&gt;</td>\n",
       "      <td>&lt;pad&gt;</td>\n",
       "      <td>&lt;pad&gt;</td>\n",
       "      <td>&lt;pad&gt;</td>\n",
       "      <td>...</td>\n",
       "      <td>eye_exam_N</td>\n",
       "      <td>ACL_tear_N</td>\n",
       "      <td>annual_physical_N</td>\n",
       "      <td>ACL_tear_N</td>\n",
       "      <td>myopia_N</td>\n",
       "      <td>headache_N</td>\n",
       "      <td>foot_pain_N</td>\n",
       "      <td>apnea_H</td>\n",
       "      <td>1</td>\n",
       "      <td>HD8EMMXS9G</td>\n",
       "    </tr>\n",
       "    <tr>\n",
       "      <th>3</th>\n",
       "      <td>2159</td>\n",
       "      <td>&lt;pad&gt;</td>\n",
       "      <td>&lt;pad&gt;</td>\n",
       "      <td>&lt;pad&gt;</td>\n",
       "      <td>&lt;pad&gt;</td>\n",
       "      <td>&lt;pad&gt;</td>\n",
       "      <td>&lt;pad&gt;</td>\n",
       "      <td>&lt;pad&gt;</td>\n",
       "      <td>&lt;pad&gt;</td>\n",
       "      <td>&lt;pad&gt;</td>\n",
       "      <td>...</td>\n",
       "      <td>quad_injury_N</td>\n",
       "      <td>ingrown_nail_N</td>\n",
       "      <td>foot_pain_N</td>\n",
       "      <td>eye_exam_N</td>\n",
       "      <td>ACL_tear_N</td>\n",
       "      <td>peanut_allergy_N</td>\n",
       "      <td>hay_fever_N</td>\n",
       "      <td>myopia_N</td>\n",
       "      <td>1</td>\n",
       "      <td>A07ZWN6OWW</td>\n",
       "    </tr>\n",
       "    <tr>\n",
       "      <th>4</th>\n",
       "      <td>2317</td>\n",
       "      <td>&lt;pad&gt;</td>\n",
       "      <td>&lt;pad&gt;</td>\n",
       "      <td>&lt;pad&gt;</td>\n",
       "      <td>&lt;pad&gt;</td>\n",
       "      <td>&lt;pad&gt;</td>\n",
       "      <td>&lt;pad&gt;</td>\n",
       "      <td>&lt;pad&gt;</td>\n",
       "      <td>&lt;pad&gt;</td>\n",
       "      <td>&lt;pad&gt;</td>\n",
       "      <td>...</td>\n",
       "      <td>ingrown_nail_N</td>\n",
       "      <td>quad_injury_N</td>\n",
       "      <td>annual_physical_N</td>\n",
       "      <td>peanut_allergy_N</td>\n",
       "      <td>eye_exam_N</td>\n",
       "      <td>eye_exam_N</td>\n",
       "      <td>foot_pain_N</td>\n",
       "      <td>annual_physical_N</td>\n",
       "      <td>1</td>\n",
       "      <td>I37X5VLIV1</td>\n",
       "    </tr>\n",
       "  </tbody>\n",
       "</table>\n",
       "<p>5 rows × 903 columns</p>\n",
       "</div>"
      ],
      "text/plain": [
       "   index    899    898    897    896    895    894    893    892    891  ...  \\\n",
       "0     58  <pad>  <pad>  <pad>  <pad>  <pad>  <pad>  <pad>  <pad>  <pad>  ...   \n",
       "1    583  <pad>  <pad>  <pad>  <pad>  <pad>  <pad>  <pad>  <pad>  <pad>  ...   \n",
       "2   2882  <pad>  <pad>  <pad>  <pad>  <pad>  <pad>  <pad>  <pad>  <pad>  ...   \n",
       "3   2159  <pad>  <pad>  <pad>  <pad>  <pad>  <pad>  <pad>  <pad>  <pad>  ...   \n",
       "4   2317  <pad>  <pad>  <pad>  <pad>  <pad>  <pad>  <pad>  <pad>  <pad>  ...   \n",
       "\n",
       "                7               6                  5                 4  \\\n",
       "0     hay_fever_N      backache_N      quad_injury_N     quad_injury_N   \n",
       "1        myopia_N   dental_exam_N   peanut_allergy_N     quad_injury_N   \n",
       "2      eye_exam_N      ACL_tear_N  annual_physical_N        ACL_tear_N   \n",
       "3   quad_injury_N  ingrown_nail_N        foot_pain_N        eye_exam_N   \n",
       "4  ingrown_nail_N   quad_injury_N  annual_physical_N  peanut_allergy_N   \n",
       "\n",
       "                3                 2            1                  0 label  \\\n",
       "0      ACL_tear_N       pneumonia_H  pneumonia_H    cardiac_rehab_U     0   \n",
       "1  ingrown_nail_N          myopia_N  hay_fever_N      tachycardia_H     0   \n",
       "2        myopia_N        headache_N  foot_pain_N            apnea_H     1   \n",
       "3      ACL_tear_N  peanut_allergy_N  hay_fever_N           myopia_N     1   \n",
       "4      eye_exam_N        eye_exam_N  foot_pain_N  annual_physical_N     1   \n",
       "\n",
       "   patient_id  \n",
       "0  W522K3U1NM  \n",
       "1  4PY82TXWUI  \n",
       "2  HD8EMMXS9G  \n",
       "3  A07ZWN6OWW  \n",
       "4  I37X5VLIV1  \n",
       "\n",
       "[5 rows x 903 columns]"
      ]
     },
     "execution_count": 208,
     "metadata": {},
     "output_type": "execute_result"
    }
   ],
   "source": [
    "df.head()"
   ]
  },
  {
   "cell_type": "code",
   "execution_count": 209,
   "metadata": {},
   "outputs": [
    {
     "name": "stdout",
     "output_type": "stream",
     "text": [
      "Sucess!\n",
      "Sucess!\n",
      "Sucess!\n"
     ]
    }
   ],
   "source": [
    "prepare_data(train_data_path, x_train_one_hot_path, x_train_data_path, seq_len, target_colname, my_tokens, s3_output_data_dir)\n",
    "prepare_data(valid_data_path, x_valid_one_hot_path, x_valid_data_path, seq_len, target_colname, my_tokens, s3_output_data_dir)\n",
    "prepare_data(test_data_path, x_test_one_hot_path, x_test_data_path, seq_len, target_colname, my_tokens, s3_output_data_dir)"
   ]
  },
  {
   "cell_type": "markdown",
   "metadata": {},
   "source": [
    "### Model Loading and Evaluation"
   ]
  },
  {
   "cell_type": "code",
   "execution_count": 210,
   "metadata": {},
   "outputs": [],
   "source": [
    "df_train = pd.read_csv(x_train_one_hot_path)\n",
    "df_test = pd.read_csv(x_test_one_hot_path)"
   ]
  },
  {
   "cell_type": "code",
   "execution_count": 211,
   "metadata": {},
   "outputs": [
    {
     "name": "stdout",
     "output_type": "stream",
     "text": [
      "(18000, 32)\n"
     ]
    },
    {
     "data": {
      "text/html": [
       "<div>\n",
       "<style scoped>\n",
       "    .dataframe tbody tr th:only-of-type {\n",
       "        vertical-align: middle;\n",
       "    }\n",
       "\n",
       "    .dataframe tbody tr th {\n",
       "        vertical-align: top;\n",
       "    }\n",
       "\n",
       "    .dataframe thead th {\n",
       "        text-align: right;\n",
       "    }\n",
       "</style>\n",
       "<table border=\"1\" class=\"dataframe\">\n",
       "  <thead>\n",
       "    <tr style=\"text-align: right;\">\n",
       "      <th></th>\n",
       "      <th>patient_id</th>\n",
       "      <th>peanut_allergy_N</th>\n",
       "      <th>annual_physical_N</th>\n",
       "      <th>ingrown_nail_N</th>\n",
       "      <th>quad_injury_N</th>\n",
       "      <th>hay_fever_N</th>\n",
       "      <th>eye_exam_N</th>\n",
       "      <th>backache_N</th>\n",
       "      <th>cold_sore_N</th>\n",
       "      <th>headache_N</th>\n",
       "      <th>...</th>\n",
       "      <th>high_creatinine_H</th>\n",
       "      <th>apnea_H</th>\n",
       "      <th>ARR_A</th>\n",
       "      <th>AMI_A</th>\n",
       "      <th>PCI_U</th>\n",
       "      <th>furosemide_H</th>\n",
       "      <th>ACE_inhibitors_U</th>\n",
       "      <th>CHF_A</th>\n",
       "      <th>PH_A</th>\n",
       "      <th>label</th>\n",
       "    </tr>\n",
       "  </thead>\n",
       "  <tbody>\n",
       "    <tr>\n",
       "      <th>0</th>\n",
       "      <td>W522K3U1NM</td>\n",
       "      <td>1</td>\n",
       "      <td>1</td>\n",
       "      <td>1</td>\n",
       "      <td>1</td>\n",
       "      <td>1</td>\n",
       "      <td>1</td>\n",
       "      <td>1</td>\n",
       "      <td>1</td>\n",
       "      <td>1</td>\n",
       "      <td>...</td>\n",
       "      <td>0</td>\n",
       "      <td>0</td>\n",
       "      <td>0</td>\n",
       "      <td>0</td>\n",
       "      <td>0</td>\n",
       "      <td>0</td>\n",
       "      <td>0</td>\n",
       "      <td>0</td>\n",
       "      <td>0</td>\n",
       "      <td>0</td>\n",
       "    </tr>\n",
       "    <tr>\n",
       "      <th>1</th>\n",
       "      <td>4PY82TXWUI</td>\n",
       "      <td>1</td>\n",
       "      <td>1</td>\n",
       "      <td>1</td>\n",
       "      <td>1</td>\n",
       "      <td>1</td>\n",
       "      <td>1</td>\n",
       "      <td>1</td>\n",
       "      <td>1</td>\n",
       "      <td>1</td>\n",
       "      <td>...</td>\n",
       "      <td>0</td>\n",
       "      <td>0</td>\n",
       "      <td>0</td>\n",
       "      <td>0</td>\n",
       "      <td>0</td>\n",
       "      <td>0</td>\n",
       "      <td>0</td>\n",
       "      <td>0</td>\n",
       "      <td>0</td>\n",
       "      <td>0</td>\n",
       "    </tr>\n",
       "    <tr>\n",
       "      <th>2</th>\n",
       "      <td>HD8EMMXS9G</td>\n",
       "      <td>1</td>\n",
       "      <td>1</td>\n",
       "      <td>1</td>\n",
       "      <td>1</td>\n",
       "      <td>1</td>\n",
       "      <td>1</td>\n",
       "      <td>1</td>\n",
       "      <td>1</td>\n",
       "      <td>1</td>\n",
       "      <td>...</td>\n",
       "      <td>1</td>\n",
       "      <td>1</td>\n",
       "      <td>0</td>\n",
       "      <td>0</td>\n",
       "      <td>0</td>\n",
       "      <td>0</td>\n",
       "      <td>0</td>\n",
       "      <td>0</td>\n",
       "      <td>0</td>\n",
       "      <td>1</td>\n",
       "    </tr>\n",
       "    <tr>\n",
       "      <th>3</th>\n",
       "      <td>A07ZWN6OWW</td>\n",
       "      <td>1</td>\n",
       "      <td>1</td>\n",
       "      <td>1</td>\n",
       "      <td>1</td>\n",
       "      <td>1</td>\n",
       "      <td>1</td>\n",
       "      <td>1</td>\n",
       "      <td>1</td>\n",
       "      <td>1</td>\n",
       "      <td>...</td>\n",
       "      <td>0</td>\n",
       "      <td>0</td>\n",
       "      <td>1</td>\n",
       "      <td>0</td>\n",
       "      <td>0</td>\n",
       "      <td>0</td>\n",
       "      <td>0</td>\n",
       "      <td>0</td>\n",
       "      <td>0</td>\n",
       "      <td>1</td>\n",
       "    </tr>\n",
       "    <tr>\n",
       "      <th>4</th>\n",
       "      <td>I37X5VLIV1</td>\n",
       "      <td>1</td>\n",
       "      <td>1</td>\n",
       "      <td>1</td>\n",
       "      <td>1</td>\n",
       "      <td>1</td>\n",
       "      <td>1</td>\n",
       "      <td>1</td>\n",
       "      <td>1</td>\n",
       "      <td>1</td>\n",
       "      <td>...</td>\n",
       "      <td>1</td>\n",
       "      <td>0</td>\n",
       "      <td>1</td>\n",
       "      <td>0</td>\n",
       "      <td>0</td>\n",
       "      <td>0</td>\n",
       "      <td>0</td>\n",
       "      <td>0</td>\n",
       "      <td>0</td>\n",
       "      <td>1</td>\n",
       "    </tr>\n",
       "  </tbody>\n",
       "</table>\n",
       "<p>5 rows × 32 columns</p>\n",
       "</div>"
      ],
      "text/plain": [
       "   patient_id  peanut_allergy_N  annual_physical_N  ingrown_nail_N  \\\n",
       "0  W522K3U1NM                 1                  1               1   \n",
       "1  4PY82TXWUI                 1                  1               1   \n",
       "2  HD8EMMXS9G                 1                  1               1   \n",
       "3  A07ZWN6OWW                 1                  1               1   \n",
       "4  I37X5VLIV1                 1                  1               1   \n",
       "\n",
       "   quad_injury_N  hay_fever_N  eye_exam_N  backache_N  cold_sore_N  \\\n",
       "0              1            1           1           1            1   \n",
       "1              1            1           1           1            1   \n",
       "2              1            1           1           1            1   \n",
       "3              1            1           1           1            1   \n",
       "4              1            1           1           1            1   \n",
       "\n",
       "   headache_N  ...  high_creatinine_H  apnea_H  ARR_A  AMI_A  PCI_U  \\\n",
       "0           1  ...                  0        0      0      0      0   \n",
       "1           1  ...                  0        0      0      0      0   \n",
       "2           1  ...                  1        1      0      0      0   \n",
       "3           1  ...                  0        0      1      0      0   \n",
       "4           1  ...                  1        0      1      0      0   \n",
       "\n",
       "   furosemide_H  ACE_inhibitors_U  CHF_A  PH_A  label  \n",
       "0             0                 0      0     0      0  \n",
       "1             0                 0      0     0      0  \n",
       "2             0                 0      0     0      1  \n",
       "3             0                 0      0     0      1  \n",
       "4             0                 0      0     0      1  \n",
       "\n",
       "[5 rows x 32 columns]"
      ]
     },
     "execution_count": 211,
     "metadata": {},
     "output_type": "execute_result"
    }
   ],
   "source": [
    "print(df_train.shape)\n",
    "df_train.head()"
   ]
  },
  {
   "cell_type": "code",
   "execution_count": 212,
   "metadata": {},
   "outputs": [
    {
     "name": "stdout",
     "output_type": "stream",
     "text": [
      "(6000, 32)\n"
     ]
    },
    {
     "data": {
      "text/html": [
       "<div>\n",
       "<style scoped>\n",
       "    .dataframe tbody tr th:only-of-type {\n",
       "        vertical-align: middle;\n",
       "    }\n",
       "\n",
       "    .dataframe tbody tr th {\n",
       "        vertical-align: top;\n",
       "    }\n",
       "\n",
       "    .dataframe thead th {\n",
       "        text-align: right;\n",
       "    }\n",
       "</style>\n",
       "<table border=\"1\" class=\"dataframe\">\n",
       "  <thead>\n",
       "    <tr style=\"text-align: right;\">\n",
       "      <th></th>\n",
       "      <th>patient_id</th>\n",
       "      <th>peanut_allergy_N</th>\n",
       "      <th>annual_physical_N</th>\n",
       "      <th>ingrown_nail_N</th>\n",
       "      <th>quad_injury_N</th>\n",
       "      <th>hay_fever_N</th>\n",
       "      <th>eye_exam_N</th>\n",
       "      <th>backache_N</th>\n",
       "      <th>cold_sore_N</th>\n",
       "      <th>headache_N</th>\n",
       "      <th>...</th>\n",
       "      <th>high_creatinine_H</th>\n",
       "      <th>apnea_H</th>\n",
       "      <th>ARR_A</th>\n",
       "      <th>AMI_A</th>\n",
       "      <th>PCI_U</th>\n",
       "      <th>furosemide_H</th>\n",
       "      <th>ACE_inhibitors_U</th>\n",
       "      <th>CHF_A</th>\n",
       "      <th>PH_A</th>\n",
       "      <th>label</th>\n",
       "    </tr>\n",
       "  </thead>\n",
       "  <tbody>\n",
       "    <tr>\n",
       "      <th>0</th>\n",
       "      <td>R71VMMSCUX</td>\n",
       "      <td>1</td>\n",
       "      <td>1</td>\n",
       "      <td>1</td>\n",
       "      <td>1</td>\n",
       "      <td>1</td>\n",
       "      <td>1</td>\n",
       "      <td>1</td>\n",
       "      <td>1</td>\n",
       "      <td>1</td>\n",
       "      <td>...</td>\n",
       "      <td>0</td>\n",
       "      <td>0</td>\n",
       "      <td>1</td>\n",
       "      <td>0</td>\n",
       "      <td>0</td>\n",
       "      <td>0</td>\n",
       "      <td>0</td>\n",
       "      <td>0</td>\n",
       "      <td>0</td>\n",
       "      <td>1</td>\n",
       "    </tr>\n",
       "    <tr>\n",
       "      <th>1</th>\n",
       "      <td>KLCWD0TMDA</td>\n",
       "      <td>1</td>\n",
       "      <td>1</td>\n",
       "      <td>1</td>\n",
       "      <td>1</td>\n",
       "      <td>1</td>\n",
       "      <td>1</td>\n",
       "      <td>1</td>\n",
       "      <td>1</td>\n",
       "      <td>1</td>\n",
       "      <td>...</td>\n",
       "      <td>0</td>\n",
       "      <td>0</td>\n",
       "      <td>0</td>\n",
       "      <td>0</td>\n",
       "      <td>0</td>\n",
       "      <td>1</td>\n",
       "      <td>0</td>\n",
       "      <td>0</td>\n",
       "      <td>0</td>\n",
       "      <td>1</td>\n",
       "    </tr>\n",
       "    <tr>\n",
       "      <th>2</th>\n",
       "      <td>DNX5D4PT8V</td>\n",
       "      <td>1</td>\n",
       "      <td>1</td>\n",
       "      <td>1</td>\n",
       "      <td>1</td>\n",
       "      <td>1</td>\n",
       "      <td>1</td>\n",
       "      <td>1</td>\n",
       "      <td>1</td>\n",
       "      <td>1</td>\n",
       "      <td>...</td>\n",
       "      <td>0</td>\n",
       "      <td>0</td>\n",
       "      <td>1</td>\n",
       "      <td>0</td>\n",
       "      <td>0</td>\n",
       "      <td>0</td>\n",
       "      <td>0</td>\n",
       "      <td>0</td>\n",
       "      <td>0</td>\n",
       "      <td>1</td>\n",
       "    </tr>\n",
       "    <tr>\n",
       "      <th>3</th>\n",
       "      <td>FKA8RFX3CF</td>\n",
       "      <td>1</td>\n",
       "      <td>1</td>\n",
       "      <td>1</td>\n",
       "      <td>1</td>\n",
       "      <td>1</td>\n",
       "      <td>1</td>\n",
       "      <td>1</td>\n",
       "      <td>1</td>\n",
       "      <td>1</td>\n",
       "      <td>...</td>\n",
       "      <td>0</td>\n",
       "      <td>0</td>\n",
       "      <td>0</td>\n",
       "      <td>0</td>\n",
       "      <td>0</td>\n",
       "      <td>0</td>\n",
       "      <td>1</td>\n",
       "      <td>0</td>\n",
       "      <td>0</td>\n",
       "      <td>0</td>\n",
       "    </tr>\n",
       "    <tr>\n",
       "      <th>4</th>\n",
       "      <td>YWB1YCU8KN</td>\n",
       "      <td>1</td>\n",
       "      <td>1</td>\n",
       "      <td>1</td>\n",
       "      <td>1</td>\n",
       "      <td>1</td>\n",
       "      <td>1</td>\n",
       "      <td>1</td>\n",
       "      <td>1</td>\n",
       "      <td>1</td>\n",
       "      <td>...</td>\n",
       "      <td>0</td>\n",
       "      <td>0</td>\n",
       "      <td>0</td>\n",
       "      <td>0</td>\n",
       "      <td>1</td>\n",
       "      <td>0</td>\n",
       "      <td>0</td>\n",
       "      <td>0</td>\n",
       "      <td>0</td>\n",
       "      <td>0</td>\n",
       "    </tr>\n",
       "  </tbody>\n",
       "</table>\n",
       "<p>5 rows × 32 columns</p>\n",
       "</div>"
      ],
      "text/plain": [
       "   patient_id  peanut_allergy_N  annual_physical_N  ingrown_nail_N  \\\n",
       "0  R71VMMSCUX                 1                  1               1   \n",
       "1  KLCWD0TMDA                 1                  1               1   \n",
       "2  DNX5D4PT8V                 1                  1               1   \n",
       "3  FKA8RFX3CF                 1                  1               1   \n",
       "4  YWB1YCU8KN                 1                  1               1   \n",
       "\n",
       "   quad_injury_N  hay_fever_N  eye_exam_N  backache_N  cold_sore_N  \\\n",
       "0              1            1           1           1            1   \n",
       "1              1            1           1           1            1   \n",
       "2              1            1           1           1            1   \n",
       "3              1            1           1           1            1   \n",
       "4              1            1           1           1            1   \n",
       "\n",
       "   headache_N  ...  high_creatinine_H  apnea_H  ARR_A  AMI_A  PCI_U  \\\n",
       "0           1  ...                  0        0      1      0      0   \n",
       "1           1  ...                  0        0      0      0      0   \n",
       "2           1  ...                  0        0      1      0      0   \n",
       "3           1  ...                  0        0      0      0      0   \n",
       "4           1  ...                  0        0      0      0      1   \n",
       "\n",
       "   furosemide_H  ACE_inhibitors_U  CHF_A  PH_A  label  \n",
       "0             0                 0      0     0      1  \n",
       "1             1                 0      0     0      1  \n",
       "2             0                 0      0     0      1  \n",
       "3             0                 1      0     0      0  \n",
       "4             0                 0      0     0      0  \n",
       "\n",
       "[5 rows x 32 columns]"
      ]
     },
     "execution_count": 212,
     "metadata": {},
     "output_type": "execute_result"
    }
   ],
   "source": [
    "print(df_test.shape)\n",
    "df_test.head()"
   ]
  },
  {
   "cell_type": "code",
   "execution_count": 213,
   "metadata": {},
   "outputs": [],
   "source": [
    "X_train = df_train.iloc[:, 1:-1]\n",
    "X_test = df_test.iloc[:, 1:-1]"
   ]
  },
  {
   "cell_type": "code",
   "execution_count": 214,
   "metadata": {},
   "outputs": [
    {
     "data": {
      "text/html": [
       "<div>\n",
       "<style scoped>\n",
       "    .dataframe tbody tr th:only-of-type {\n",
       "        vertical-align: middle;\n",
       "    }\n",
       "\n",
       "    .dataframe tbody tr th {\n",
       "        vertical-align: top;\n",
       "    }\n",
       "\n",
       "    .dataframe thead th {\n",
       "        text-align: right;\n",
       "    }\n",
       "</style>\n",
       "<table border=\"1\" class=\"dataframe\">\n",
       "  <thead>\n",
       "    <tr style=\"text-align: right;\">\n",
       "      <th></th>\n",
       "      <th>class</th>\n",
       "      <th>seq_len</th>\n",
       "      <th>val_auc</th>\n",
       "      <th>best_model_path</th>\n",
       "    </tr>\n",
       "  </thead>\n",
       "  <tbody>\n",
       "    <tr>\n",
       "      <th>0</th>\n",
       "      <td>label</td>\n",
       "      <td>900</td>\n",
       "      <td>0.8989</td>\n",
       "      <td>s3://merck-paper-bucket/900/xgboost/model/outp...</td>\n",
       "    </tr>\n",
       "  </tbody>\n",
       "</table>\n",
       "</div>"
      ],
      "text/plain": [
       "   class  seq_len  val_auc                                    best_model_path\n",
       "0  label      900   0.8989  s3://merck-paper-bucket/900/xgboost/model/outp..."
      ]
     },
     "execution_count": 214,
     "metadata": {},
     "output_type": "execute_result"
    }
   ],
   "source": [
    "df_best = pd.read_csv(output_results_path)\n",
    "df_best"
   ]
  },
  {
   "cell_type": "code",
   "execution_count": 215,
   "metadata": {},
   "outputs": [
    {
     "data": {
      "text/plain": [
       "'s3://merck-paper-bucket/900/xgboost/model/output/sagemaker-xgboost-210105-0304-001-e8ad1545/output/model.tar.gz'"
      ]
     },
     "execution_count": 215,
     "metadata": {},
     "output_type": "execute_result"
    }
   ],
   "source": [
    "s3_best_model_path = df_best.iloc[0]['best_model_path']\n",
    "s3_best_model_path"
   ]
  },
  {
   "cell_type": "code",
   "execution_count": 216,
   "metadata": {},
   "outputs": [],
   "source": [
    "#Copy the best model from s3 to local\n",
    "output_path = copy_model_from_s3(s3_best_model_path, local_model_dir)\n",
    "#Load the copied model\n",
    "xgb_model = load_model(output_path)"
   ]
  },
  {
   "cell_type": "code",
   "execution_count": 217,
   "metadata": {},
   "outputs": [
    {
     "data": {
      "text/plain": [
       "'[0]\\teval-auc:0.898684'"
      ]
     },
     "execution_count": 217,
     "metadata": {},
     "output_type": "execute_result"
    }
   ],
   "source": [
    "test_auc = xgb_model.eval(xgb.DMatrix(X_test.values, df_test[target_colname].values))\n",
    "test_auc"
   ]
  },
  {
   "cell_type": "markdown",
   "metadata": {},
   "source": [
    "## 3. Compute SHAP values"
   ]
  },
  {
   "cell_type": "code",
   "execution_count": 218,
   "metadata": {},
   "outputs": [],
   "source": [
    "#Constants for LSTM\n",
    "LSTM_N_BACKGROUND = 500 #Number of background examples\n",
    "LSTM_NEGATIVE_ONLY = True #Whether to use negative examples as background\n",
    "LSTM_N_TEST = 64 # Number of examples to compute shap values from\n",
    "\n",
    "XGB_N_BACKGROUND = 500\n",
    "XGB_NEGATIVE_ONLY = True\n",
    "XGB_N_TEST = 64"
   ]
  },
  {
   "cell_type": "code",
   "execution_count": 219,
   "metadata": {},
   "outputs": [
    {
     "name": "stdout",
     "output_type": "stream",
     "text": [
      "Computing SHAP values for LSTM model...\n"
     ]
    },
    {
     "name": "stderr",
     "output_type": "stream",
     "text": [
      "500it [00:10, 45.57it/s]\n",
      "1000it [00:42, 23.37it/s]\n",
      "1000it [00:42, 23.47it/s]\n",
      "1000it [00:42, 23.49it/s]\n",
      "1000it [00:42, 23.52it/s]\n",
      "1000it [00:42, 23.41it/s]\n",
      "1000it [00:42, 23.43it/s]\n",
      "1000it [00:42, 23.39it/s]\n",
      "1000it [00:42, 23.50it/s]\n",
      "1000it [00:42, 23.51it/s]\n",
      "1000it [00:42, 23.57it/s]\n",
      "1000it [00:42, 23.44it/s]\n",
      "1000it [00:42, 23.41it/s]\n",
      "1000it [00:42, 23.51it/s]\n",
      "1000it [00:42, 23.43it/s]\n",
      "1000it [00:42, 23.28it/s]\n",
      "1000it [00:42, 23.52it/s]\n",
      "1000it [00:42, 23.33it/s]\n",
      "1000it [00:42, 23.48it/s]\n",
      "1000it [00:42, 23.53it/s]\n",
      "1000it [00:42, 23.38it/s]\n",
      "1000it [00:42, 23.41it/s]\n",
      "1000it [00:42, 23.41it/s]\n",
      "1000it [00:42, 23.55it/s]\n",
      "1000it [00:42, 23.32it/s]\n",
      "1000it [00:42, 23.35it/s]\n",
      "1000it [00:42, 23.32it/s]\n",
      "1000it [00:42, 23.40it/s]\n",
      "1000it [00:42, 23.47it/s]\n",
      "1000it [00:42, 23.50it/s]\n",
      "1000it [00:42, 23.32it/s]\n",
      "1000it [00:42, 23.45it/s]\n",
      "1000it [00:42, 23.47it/s]\n",
      "1000it [00:42, 23.29it/s]\n",
      "1000it [00:42, 23.27it/s]\n",
      "1000it [00:42, 23.43it/s]\n",
      "1000it [00:42, 23.48it/s]\n",
      "1000it [00:42, 23.35it/s]\n",
      "1000it [00:42, 23.44it/s]\n",
      "1000it [00:42, 23.32it/s]\n",
      "1000it [00:42, 23.27it/s]\n",
      "1000it [00:42, 23.47it/s]\n",
      "1000it [00:42, 23.41it/s]\n",
      "1000it [00:42, 23.45it/s]\n",
      "1000it [00:42, 23.47it/s]\n",
      "1000it [00:42, 23.37it/s]\n",
      "1000it [00:42, 23.28it/s]\n",
      "1000it [00:42, 23.38it/s]\n",
      "1000it [00:42, 23.55it/s]\n",
      "1000it [00:42, 23.51it/s]\n",
      "1000it [00:42, 23.48it/s]\n",
      "1000it [00:42, 23.26it/s]\n",
      "1000it [00:42, 23.40it/s]\n",
      "1000it [00:42, 23.30it/s]\n",
      "1000it [00:42, 23.40it/s]\n",
      "1000it [00:42, 23.47it/s]\n",
      "1000it [00:42, 23.47it/s]\n",
      "1000it [00:42, 23.32it/s]\n",
      "1000it [00:42, 23.34it/s]\n",
      "1000it [00:42, 23.56it/s]\n",
      "1000it [00:42, 23.40it/s]\n",
      "1000it [00:42, 23.53it/s]\n",
      "1000it [00:42, 23.39it/s]\n",
      "1000it [00:42, 23.47it/s]\n",
      "1000it [00:42, 23.45it/s]\n"
     ]
    },
    {
     "name": "stdout",
     "output_type": "stream",
     "text": [
      "saved ./output/900/shap/features/lstm_features.pkl pickle..\n",
      "saved ./output/900/shap/feature-importance/lstm_scores.pkl pickle..\n",
      "saved ./output/900/shap/feature-importance/lstm_patients.pkl pickle..\n",
      "Computing SHAP values for LSTM with Attention model...\n"
     ]
    },
    {
     "name": "stderr",
     "output_type": "stream",
     "text": [
      "500it [00:06, 80.48it/s]\n",
      "1000it [00:30, 32.58it/s]\n",
      "1000it [00:27, 35.91it/s]\n",
      "1000it [00:20, 49.20it/s]\n",
      "1000it [00:27, 36.44it/s]\n",
      "1000it [00:17, 55.56it/s]\n",
      "1000it [00:17, 56.63it/s]\n",
      "1000it [00:32, 30.36it/s]\n",
      "1000it [00:19, 52.63it/s]\n",
      "1000it [00:15, 66.15it/s]\n",
      "1000it [00:26, 37.58it/s]\n",
      "1000it [00:33, 30.25it/s]\n",
      "1000it [00:28, 35.08it/s]\n",
      "1000it [00:32, 30.75it/s]\n",
      "1000it [00:25, 38.81it/s]\n",
      "1000it [00:24, 41.54it/s]\n",
      "136it [00:01, 120.15it/s]\n"
     ]
    },
    {
     "ename": "RuntimeError",
     "evalue": "CUDA out of memory. Tried to allocate 2.00 MiB (GPU 0; 15.78 GiB total capacity; 13.56 GiB already allocated; 3.00 MiB free; 13.73 GiB reserved in total by PyTorch)",
     "output_type": "error",
     "traceback": [
      "\u001b[0;31m---------------------------------------------------------------------------\u001b[0m",
      "\u001b[0;31mRuntimeError\u001b[0m                              Traceback (most recent call last)",
      "\u001b[0;32m<ipython-input-219-de30b96fde94>\u001b[0m in \u001b[0;36m<module>\u001b[0;34m\u001b[0m\n\u001b[1;32m     23\u001b[0m                                               \u001b[0mn_test\u001b[0m\u001b[0;34m=\u001b[0m\u001b[0mLSTM_N_TEST\u001b[0m\u001b[0;34m,\u001b[0m\u001b[0;34m\u001b[0m\u001b[0;34m\u001b[0m\u001b[0m\n\u001b[1;32m     24\u001b[0m                                               \u001b[0mn_background\u001b[0m\u001b[0;34m=\u001b[0m\u001b[0mLSTM_N_BACKGROUND\u001b[0m\u001b[0;34m,\u001b[0m\u001b[0;34m\u001b[0m\u001b[0;34m\u001b[0m\u001b[0m\n\u001b[0;32m---> 25\u001b[0;31m                                               negative_only=LSTM_NEGATIVE_ONLY)\n\u001b[0m\u001b[1;32m     26\u001b[0m \u001b[0;34m\u001b[0m\u001b[0m\n\u001b[1;32m     27\u001b[0m \u001b[0mprint\u001b[0m\u001b[0;34m(\u001b[0m\u001b[0;34m'Computing SHAP values for XGB model...'\u001b[0m\u001b[0;34m)\u001b[0m\u001b[0;34m\u001b[0m\u001b[0;34m\u001b[0m\u001b[0m\n",
      "\u001b[0;32m~/SageMaker/CMSAI_Research/model/toy_simple/shap_jacc_utils.py\u001b[0m in \u001b[0;36mget_lstm_features_and_shap_scores\u001b[0;34m(model, tr_dataloader, te_dataloader, seq_len, features_path, scores_path, patients_path, n_test, n_background, negative_only)\u001b[0m\n\u001b[1;32m    121\u001b[0m     \u001b[0mtest_ids\u001b[0m\u001b[0;34m,\u001b[0m \u001b[0mtest_labels\u001b[0m\u001b[0;34m,\u001b[0m \u001b[0mtest_idxes\u001b[0m \u001b[0;34m=\u001b[0m \u001b[0mtest\u001b[0m\u001b[0;34m\u001b[0m\u001b[0;34m\u001b[0m\u001b[0m\n\u001b[1;32m    122\u001b[0m     \u001b[0mtest_data\u001b[0m\u001b[0;34m,\u001b[0m \u001b[0mtest_masks\u001b[0m \u001b[0;34m=\u001b[0m \u001b[0mmodel\u001b[0m\u001b[0;34m.\u001b[0m\u001b[0mget_all_ids_masks\u001b[0m\u001b[0;34m(\u001b[0m\u001b[0mtest_idxes\u001b[0m\u001b[0;34m,\u001b[0m \u001b[0mseq_len\u001b[0m\u001b[0;34m)\u001b[0m\u001b[0;34m\u001b[0m\u001b[0;34m\u001b[0m\u001b[0m\n\u001b[0;32m--> 123\u001b[0;31m     \u001b[0mlstm_shap_values\u001b[0m \u001b[0;34m=\u001b[0m \u001b[0mexplainer\u001b[0m\u001b[0;34m.\u001b[0m\u001b[0mshap_values\u001b[0m\u001b[0;34m(\u001b[0m\u001b[0mtest_data\u001b[0m\u001b[0;34m,\u001b[0m \u001b[0mtest_masks\u001b[0m\u001b[0;34m)\u001b[0m\u001b[0;34m\u001b[0m\u001b[0;34m\u001b[0m\u001b[0m\n\u001b[0m\u001b[1;32m    124\u001b[0m \u001b[0;34m\u001b[0m\u001b[0m\n\u001b[1;32m    125\u001b[0m     \u001b[0mfeatures\u001b[0m \u001b[0;34m=\u001b[0m \u001b[0;34m[\u001b[0m\u001b[0;34m]\u001b[0m\u001b[0;34m\u001b[0m\u001b[0;34m\u001b[0m\u001b[0m\n",
      "\u001b[0;32m~/SageMaker/CMSAI_Research/model/toy_simple/deep_id_pytorch.py\u001b[0m in \u001b[0;36mshap_values\u001b[0;34m(self, X, masks, ranked_outputs, output_rank_order)\u001b[0m\n\u001b[1;32m    192\u001b[0m                 \u001b[0;31m# run attribution computation graph\u001b[0m\u001b[0;34m\u001b[0m\u001b[0;34m\u001b[0m\u001b[0;34m\u001b[0m\u001b[0m\n\u001b[1;32m    193\u001b[0m                 \u001b[0mfeature_ind\u001b[0m \u001b[0;34m=\u001b[0m \u001b[0mmodel_output_ranks\u001b[0m\u001b[0;34m[\u001b[0m\u001b[0mj\u001b[0m\u001b[0;34m,\u001b[0m \u001b[0mi\u001b[0m\u001b[0;34m]\u001b[0m\u001b[0;34m\u001b[0m\u001b[0;34m\u001b[0m\u001b[0m\n\u001b[0;32m--> 194\u001b[0;31m                 \u001b[0msample_phis\u001b[0m \u001b[0;34m=\u001b[0m \u001b[0mself\u001b[0m\u001b[0;34m.\u001b[0m\u001b[0mgradient\u001b[0m\u001b[0;34m(\u001b[0m\u001b[0mfeature_ind\u001b[0m\u001b[0;34m,\u001b[0m \u001b[0mjoint_x\u001b[0m\u001b[0;34m,\u001b[0m \u001b[0mjoint_masks\u001b[0m\u001b[0;34m)\u001b[0m\u001b[0;34m\u001b[0m\u001b[0;34m\u001b[0m\u001b[0m\n\u001b[0m\u001b[1;32m    195\u001b[0m                 \u001b[0;31m# assign the attributions to the right part of the output arrays\u001b[0m\u001b[0;34m\u001b[0m\u001b[0;34m\u001b[0m\u001b[0;34m\u001b[0m\u001b[0m\n\u001b[1;32m    196\u001b[0m                 \u001b[0;32mif\u001b[0m \u001b[0mself\u001b[0m\u001b[0;34m.\u001b[0m\u001b[0minterim\u001b[0m\u001b[0;34m:\u001b[0m\u001b[0;34m\u001b[0m\u001b[0;34m\u001b[0m\u001b[0m\n",
      "\u001b[0;32m~/SageMaker/CMSAI_Research/model/toy_simple/deep_id_pytorch.py\u001b[0m in \u001b[0;36mgradient\u001b[0;34m(self, idx, inputs, masks)\u001b[0m\n\u001b[1;32m    116\u001b[0m                 \u001b[0mval\u001b[0m \u001b[0;34m=\u001b[0m \u001b[0mself\u001b[0m\u001b[0;34m.\u001b[0m\u001b[0mmodel\u001b[0m\u001b[0;34m.\u001b[0m\u001b[0mforward_shap\u001b[0m\u001b[0;34m(\u001b[0m\u001b[0mx_gpu\u001b[0m\u001b[0;34m,\u001b[0m \u001b[0mm\u001b[0m\u001b[0;34m,\u001b[0m \u001b[0mfull_id_matrix\u001b[0m\u001b[0;34m=\u001b[0m\u001b[0;32mTrue\u001b[0m\u001b[0;34m)\u001b[0m\u001b[0;34m\u001b[0m\u001b[0;34m\u001b[0m\u001b[0m\n\u001b[1;32m    117\u001b[0m                 \u001b[0mselected\u001b[0m \u001b[0;34m=\u001b[0m \u001b[0;34m[\u001b[0m\u001b[0mval\u001b[0m\u001b[0;34m[\u001b[0m\u001b[0;36m0\u001b[0m\u001b[0;34m,\u001b[0m \u001b[0midx\u001b[0m\u001b[0;34m]\u001b[0m\u001b[0;34m]\u001b[0m\u001b[0;34m\u001b[0m\u001b[0;34m\u001b[0m\u001b[0m\n\u001b[0;32m--> 118\u001b[0;31m                 \u001b[0mgrads\u001b[0m\u001b[0;34m.\u001b[0m\u001b[0mappend\u001b[0m\u001b[0;34m(\u001b[0m\u001b[0mtorch\u001b[0m\u001b[0;34m.\u001b[0m\u001b[0mautograd\u001b[0m\u001b[0;34m.\u001b[0m\u001b[0mgrad\u001b[0m\u001b[0;34m(\u001b[0m\u001b[0mselected\u001b[0m\u001b[0;34m,\u001b[0m \u001b[0mx_gpu\u001b[0m\u001b[0;34m)\u001b[0m\u001b[0;34m[\u001b[0m\u001b[0;36m0\u001b[0m\u001b[0;34m]\u001b[0m\u001b[0;34m.\u001b[0m\u001b[0mcpu\u001b[0m\u001b[0;34m(\u001b[0m\u001b[0;34m)\u001b[0m\u001b[0;34m.\u001b[0m\u001b[0mnumpy\u001b[0m\u001b[0;34m(\u001b[0m\u001b[0;34m)\u001b[0m\u001b[0;34m)\u001b[0m\u001b[0;34m\u001b[0m\u001b[0;34m\u001b[0m\u001b[0m\n\u001b[0m\u001b[1;32m    119\u001b[0m             \u001b[0;32mreturn\u001b[0m \u001b[0;34m[\u001b[0m\u001b[0mnp\u001b[0m\u001b[0;34m.\u001b[0m\u001b[0mstack\u001b[0m\u001b[0;34m(\u001b[0m\u001b[0mgrads\u001b[0m\u001b[0;34m)\u001b[0m\u001b[0;34m]\u001b[0m\u001b[0;34m\u001b[0m\u001b[0;34m\u001b[0m\u001b[0m\n\u001b[1;32m    120\u001b[0m         \u001b[0;32melse\u001b[0m\u001b[0;34m:\u001b[0m\u001b[0;34m\u001b[0m\u001b[0;34m\u001b[0m\u001b[0m\n",
      "\u001b[0;32m~/anaconda3/envs/pytorch_p36/lib/python3.6/site-packages/torch/autograd/__init__.py\u001b[0m in \u001b[0;36mgrad\u001b[0;34m(outputs, inputs, grad_outputs, retain_graph, create_graph, only_inputs, allow_unused)\u001b[0m\n\u001b[1;32m    155\u001b[0m     return Variable._execution_engine.run_backward(\n\u001b[1;32m    156\u001b[0m         \u001b[0moutputs\u001b[0m\u001b[0;34m,\u001b[0m \u001b[0mgrad_outputs\u001b[0m\u001b[0;34m,\u001b[0m \u001b[0mretain_graph\u001b[0m\u001b[0;34m,\u001b[0m \u001b[0mcreate_graph\u001b[0m\u001b[0;34m,\u001b[0m\u001b[0;34m\u001b[0m\u001b[0;34m\u001b[0m\u001b[0m\n\u001b[0;32m--> 157\u001b[0;31m         inputs, allow_unused)\n\u001b[0m\u001b[1;32m    158\u001b[0m \u001b[0;34m\u001b[0m\u001b[0m\n\u001b[1;32m    159\u001b[0m \u001b[0;34m\u001b[0m\u001b[0m\n",
      "\u001b[0;31mRuntimeError\u001b[0m: CUDA out of memory. Tried to allocate 2.00 MiB (GPU 0; 15.78 GiB total capacity; 13.56 GiB already allocated; 3.00 MiB free; 13.73 GiB reserved in total by PyTorch)"
     ]
    }
   ],
   "source": [
    "print('Computing SHAP values for LSTM model...')\n",
    "lstm_features, lstm_scores, lstm_patient_ids = get_lstm_features_and_shap_scores(\n",
    "                                              lstm_model, \n",
    "                                              train_dataloader, \n",
    "                                              test_dataloader, \n",
    "                                              seq_len,\n",
    "                                              lstm_shap_features_path,\n",
    "                                              lstm_shap_scores_path,\n",
    "                                              lstm_shap_patients_path,\n",
    "                                              n_test=LSTM_N_TEST,\n",
    "                                              n_background=LSTM_N_BACKGROUND,\n",
    "                                              negative_only=LSTM_NEGATIVE_ONLY)\n",
    "\n",
    "print('Computing SHAP values for LSTM with Attention model...')\n",
    "lstm_att_features, lstm_att_scores, lstm_att_patient_ids = get_lstm_features_and_shap_scores(\n",
    "                                              lstm_att_model, \n",
    "                                              train_dataloader, \n",
    "                                              test_dataloader, \n",
    "                                              seq_len,\n",
    "                                              lstm_att_shap_features_path,\n",
    "                                              lstm_att_shap_scores_path,\n",
    "                                              lstm_att_shap_patients_path,\n",
    "                                              n_test=LSTM_N_TEST,\n",
    "                                              n_background=LSTM_N_BACKGROUND,\n",
    "                                              negative_only=LSTM_NEGATIVE_ONLY)\n",
    "\n",
    "print('Computing SHAP values for XGB model...')\n",
    "xgb_features, xgb_scores, xgb_patient_ids = get_xgboost_features_and_shap_scores(\n",
    "                                                 xgb_model, \n",
    "                                                 df_train, \n",
    "                                                 df_test,\n",
    "                                                 xgb_shap_features_path,\n",
    "                                                 xgb_shap_scores_path,\n",
    "                                                 xgb_shap_patients_path,\n",
    "                                                 n_test=XGB_N_TEST,\n",
    "                                                 n_background=XGB_N_BACKGROUND,\n",
    "                                                 negative_only=XGB_NEGATIVE_ONLY)\n",
    "print('Successfully Completed!')"
   ]
  },
  {
   "cell_type": "markdown",
   "metadata": {},
   "source": [
    "### Visualize SHAP values for a single example"
   ]
  },
  {
   "cell_type": "code",
   "execution_count": null,
   "metadata": {},
   "outputs": [],
   "source": [
    "#Load features, scores & patient ids if necessary\n",
    "# lstm_features = load_pickle(lstm_shap_features_path)\n",
    "# lstm_scores = load_pickle(lstm_shap_scores_path)\n",
    "# lstm_patients = load_pickle(lstm_shap_patients_path)\n",
    "\n",
    "# lstm_att_features = load_pickle(lstm_att_shap_features_path)\n",
    "# lstm_att_scores = load_pickle(lstm_att_shap_scores_path)\n",
    "# lstm_att_patients = load_pickle(lstm_att_shap_patients_path)\n",
    "\n",
    "# xgb_features = load_pickle(lstm_shap_features_path)\n",
    "# xgb_scores = load_pickle(lstm_shap_scores_path)\n",
    "# xgb_patients = load_pickle(xgb_shap_patients_path)"
   ]
  },
  {
   "cell_type": "code",
   "execution_count": null,
   "metadata": {},
   "outputs": [],
   "source": [
    "#index of the patient where you get compute shap\n",
    "idx = 4"
   ]
  },
  {
   "cell_type": "code",
   "execution_count": null,
   "metadata": {},
   "outputs": [],
   "source": [
    "#For LSTM Model\n",
    "lstm_features1 = lstm_features[idx]\n",
    "lstm_scores1 = lstm_scores[idx]\n",
    "lstm_patient_id = lstm_patient_ids[idx]\n",
    "len(lstm_features1), len(lstm_scores1)\n",
    "\n",
    "df_lstm_shap = pd.DataFrame(np.array([lstm_features1, lstm_scores1]).T, columns=['events', 'shap_vals'])\n",
    "df_lstm_shap[\"shap_vals\"] = pd.to_numeric(df_lstm_shap[\"shap_vals\"])\n",
    "print(df_lstm_shap.shape)\n",
    "df_lstm_shap.head()"
   ]
  },
  {
   "cell_type": "code",
   "execution_count": null,
   "metadata": {},
   "outputs": [],
   "source": [
    "plot_shap_values(df_lstm_shap, lstm_patient_id, sort=True)"
   ]
  },
  {
   "cell_type": "code",
   "execution_count": null,
   "metadata": {},
   "outputs": [],
   "source": [
    "#For LSTM+Attention Model\n",
    "lstm_att_features1 = lstm_att_features[idx]\n",
    "lstm_att_scores1 = lstm_att_scores[idx]\n",
    "lstm_att_patient_id = lstm_att_patient_ids[idx]\n",
    "len(lstm_att_features1), len(lstm_att_scores1)\n",
    "\n",
    "df_lstm_att_shap = pd.DataFrame(np.array([lstm_att_features1, lstm_att_scores1]).T, columns=['events', 'shap_vals'])\n",
    "df_lstm_att_shap[\"shap_vals\"] = pd.to_numeric(df_lstm_att_shap[\"shap_vals\"])\n",
    "print(df_lstm_att_shap.shape)\n",
    "df_lstm_att_shap.head()"
   ]
  },
  {
   "cell_type": "code",
   "execution_count": null,
   "metadata": {},
   "outputs": [],
   "source": [
    "plot_shap_values(df_lstm_att_shap, lstm_att_patient_id, sort=True)"
   ]
  },
  {
   "cell_type": "code",
   "execution_count": null,
   "metadata": {},
   "outputs": [],
   "source": [
    "#For XGB Model\n",
    "xgb_features1 = xgb_features[idx]\n",
    "xgb_scores1 = xgb_scores[idx]\n",
    "xgb_patient_id = xgb_patient_ids[idx]\n",
    "len(xgb_features1), len(xgb_scores1)\n",
    "\n",
    "df_xgb_shap = pd.DataFrame(np.array([xgb_features1, xgb_scores1]).T, columns=['events', 'shap_vals'])\n",
    "df_xgb_shap[\"shap_vals\"] = pd.to_numeric(df_xgb_shap[\"shap_vals\"])\n",
    "print(df_xgb_shap.shape)\n",
    "df_xgb_shap.head()"
   ]
  },
  {
   "cell_type": "code",
   "execution_count": null,
   "metadata": {},
   "outputs": [],
   "source": [
    "plot_shap_values(df_xgb_shap, xgb_patient_id, sort=True)"
   ]
  },
  {
   "cell_type": "markdown",
   "metadata": {},
   "source": [
    "## Computing Jaccard Index Similarity b/n Models SHAP Values"
   ]
  },
  {
   "cell_type": "code",
   "execution_count": null,
   "metadata": {},
   "outputs": [],
   "source": [
    "k = 5 #Number of top k features\n",
    "k_list = range(1, 11)\n",
    "models = ['lstm', 'lstm-att', 'xgb']"
   ]
  },
  {
   "cell_type": "code",
   "execution_count": null,
   "metadata": {},
   "outputs": [],
   "source": [
    "lstm_features = load_pickle(lstm_shap_features_path)\n",
    "lstm_scores = load_pickle(lstm_shap_scores_path)\n",
    "lstm_features_scores = (lstm_features, lstm_scores)\n",
    "\n",
    "lstm_att_features = load_pickle(lstm_att_shap_features_path)\n",
    "lstm_att_scores = load_pickle(lstm_att_shap_scores_path)\n",
    "lstm_att_features_scores = (lstm_att_features, lstm_att_scores)\n",
    "\n",
    "xgb_features = load_pickle(xgb_shap_features_path)\n",
    "xgb_scores = load_pickle(xgb_shap_scores_path)\n",
    "xgb_features_scores = (xgb_features, xgb_scores)\n",
    "\n",
    "all_features_scores = [lstm_features_scores, \n",
    "                       lstm_att_features_scores, \n",
    "                       xgb_features_scores]"
   ]
  },
  {
   "cell_type": "code",
   "execution_count": null,
   "metadata": {},
   "outputs": [],
   "source": [
    "len(lstm_features), len(lstm_att_features), len(xgb_features)"
   ]
  },
  {
   "cell_type": "code",
   "execution_count": null,
   "metadata": {},
   "outputs": [],
   "source": [
    "generate_heatmap(all_features_scores, models, k)"
   ]
  },
  {
   "cell_type": "code",
   "execution_count": null,
   "metadata": {},
   "outputs": [],
   "source": [
    "generate_k_heatmaps(all_features_scores, models, k_list)"
   ]
  },
  {
   "cell_type": "markdown",
   "metadata": {},
   "source": [
    "## Intersection Similarity Score\n",
    "\n",
    "This score computes the fraction of the intersection of the Ground Truth of Helpers+Adverse Events and Predicted Helpers+Adverse Events by Total Number of Helping Events."
   ]
  },
  {
   "cell_type": "code",
   "execution_count": null,
   "metadata": {},
   "outputs": [],
   "source": [
    "#For LSTM\n",
    "avg_sim = get_model_intersection_similarity(lstm_features_scores)\n",
    "print('Average Intersection Similarity(LSTM): {}'.format(avg_sim))\n",
    "\n",
    "#For LSTM+Attention\n",
    "avg_sim = get_model_intersection_similarity(lstm_att_features_scores)\n",
    "print('Average Intersection Similarity(LSTM+Attention): {}'.format(avg_sim))\n",
    "\n",
    "#For XGB\n",
    "avg_sim = get_model_intersection_similarity(xgb_features_scores)\n",
    "print('Average Intersection Similarity(XGB): {}'.format(avg_sim))"
   ]
  },
  {
   "cell_type": "markdown",
   "metadata": {},
   "source": [
    "```\n",
    "For seq_len=30 (test batch_size=64), results are as follows:\n",
    "    Average Intersection Similarity(LSTM): 0.14062499999999997\n",
    "    Average Intersection Similarity(LSTM+Attention): 0.15625\n",
    "    Average Intersection Similarity(XGB): 0.10781249999999994\n",
    "For seq_len=300 (test batch_size=64), results are as follows:\n",
    "    Average Intersection Similarity(LSTM): 0.24739583333333334\n",
    "    Average Intersection Similarity(LSTM+Attention): 0.1953125\n",
    "    Average Intersection Similarity(XGB): 0.4703124999999999\n",
    "```"
   ]
  },
  {
   "cell_type": "code",
   "execution_count": null,
   "metadata": {},
   "outputs": [],
   "source": []
  }
 ],
 "metadata": {
  "kernelspec": {
   "display_name": "conda_pytorch_p36",
   "language": "python",
   "name": "conda_pytorch_p36"
  },
  "language_info": {
   "codemirror_mode": {
    "name": "ipython",
    "version": 3
   },
   "file_extension": ".py",
   "mimetype": "text/x-python",
   "name": "python",
   "nbconvert_exporter": "python",
   "pygments_lexer": "ipython3",
   "version": "3.6.10"
  }
 },
 "nbformat": 4,
 "nbformat_minor": 4
}
