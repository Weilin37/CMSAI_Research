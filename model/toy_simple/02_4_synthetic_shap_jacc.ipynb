{
 "cells": [
  {
   "cell_type": "markdown",
   "metadata": {},
   "source": [
    "# Computing SHAP values and Jaccard Index Similarities\n",
    "\n",
    "Author: Tesfagabir Meharizghi<br>\n",
    "Last Updated: 01/05/2021\n",
    "\n",
    "This notebook implements the following actions:\n",
    "- Computes and saves SHAP values using different trained models (Simple LSTM, LSTM+Attention and XGB).\n",
    "    * The number of background examples are configured. E.g., 500\n",
    "    * Whether to use only negative examples as background\n",
    "    * Since the SHAP value computation is slow, it also specifies the number of examples for test (N_TEST)\n",
    "- It also computes the Jaccard similarity index between each model's shap values and visualizes it in HEATMAPS\n",
    "    * It visualizes for different number of top k features\n",
    "- It also computes the intersection similarity value between the ground truth helping events (helpers with suffix `_H` and Adverse with suffix `_A`) and the predicted helping events for each model.\n",
    "\n",
    "Requirements:\n",
    "- Please make sure that all the models are already trained and saved. You can use the [02_ToySimple_lstm-attn-training-shap-jacc.ipynb](02_ToySimple_lstm-attn-training-shap-jacc.ipynb) notebook to train and save the models\n",
    "\n",
    "Data Used:\n",
    "- It uses the toy_simple dataset with different sequence lengths (30, 300, 900)\n",
    "- Sequence Lengths: 30, 300, 900\n",
    "- Train Size: 18K, Val Size: 6K, Test Size: 6K\n",
    "\n",
    "Observations of experiments\n",
    "- The performances of the different models looks similar\n",
    "- The intersection similarities results for the different sequence lengths were not consistent \n",
    "\n",
    "Any actions/next steps/thoughts/discussion\n",
    "- As we couldn't get clear conclusions from these results, we will deep dive into the model training, parameter tuning, etc. as the next action item.\n",
    "- For each model architecture, we will explore more on every step from model training, tuning, overtraining, shap values, intersection similarities, etc.\n",
    "- Separate ipynbs are created for each model. E.g., go to [02_ToySimple_lstm-attn-training-shap-jacc.ipynb](02_ToySimple_lstm-attn-training-shap-jacc.ipynb) to check the results for LSTM+Attention model analysis\n",
    "\n"
   ]
  },
  {
   "cell_type": "code",
   "execution_count": 36,
   "metadata": {},
   "outputs": [],
   "source": [
    "# pip install nb-black"
   ]
  },
  {
   "cell_type": "code",
   "execution_count": 37,
   "metadata": {},
   "outputs": [],
   "source": [
    "#! jupyter nbextension enable jupyter-black-master/jupyter-black\n",
    "\n",
    "#! pip install botocore==1.12.201\n",
    "\n",
    "#! pip install shap\n",
    "#! pip install xgboost"
   ]
  },
  {
   "cell_type": "code",
   "execution_count": 38,
   "metadata": {},
   "outputs": [
    {
     "name": "stdout",
     "output_type": "stream",
     "text": [
      "The lab_black extension is already loaded. To reload it, use:\n",
      "  %reload_ext lab_black\n",
      "The autoreload extension is already loaded. To reload it, use:\n",
      "  %reload_ext autoreload\n"
     ]
    }
   ],
   "source": [
    "%load_ext lab_black\n",
    "\n",
    "%load_ext autoreload\n",
    "\n",
    "%autoreload 2"
   ]
  },
  {
   "cell_type": "code",
   "execution_count": 39,
   "metadata": {},
   "outputs": [],
   "source": [
    "import os\n",
    "import time\n",
    "import torch\n",
    "import pandas as pd\n",
    "import numpy as np\n",
    "import time\n",
    "import matplotlib.pyplot as plt\n",
    "import seaborn as sns\n",
    "\n",
    "from collections import Counter\n",
    "\n",
    "import torch\n",
    "import torch.nn as nn\n",
    "from torch.utils.data import DataLoader\n",
    "from urllib.parse import urlparse\n",
    "import tarfile\n",
    "import pickle\n",
    "import shutil\n",
    "\n",
    "import shap\n",
    "import xgboost as xgb\n",
    "\n",
    "import sagemaker\n",
    "import boto3\n",
    "from sagemaker.tuner import (\n",
    "    IntegerParameter,\n",
    "    CategoricalParameter,\n",
    "    ContinuousParameter,\n",
    "    HyperparameterTuner,\n",
    ")\n",
    "from sagemaker.image_uris import retrieve\n",
    "\n",
    "import deep_id_pytorch\n",
    "\n",
    "from lstm_models import *\n",
    "from att_lstm_models import *\n",
    "from lstm_utils import *\n",
    "from xgboost_utils import *\n",
    "from shap_jacc_utils import *"
   ]
  },
  {
   "cell_type": "markdown",
   "metadata": {},
   "source": [
    "## 1. LSTM Dataset and Model Loading"
   ]
  },
  {
   "cell_type": "markdown",
   "metadata": {},
   "source": [
    "## Constants"
   ]
  },
  {
   "cell_type": "code",
   "execution_count": 40,
   "metadata": {},
   "outputs": [],
   "source": [
    "nrows = 1e9\n",
    "min_freq = 1\n",
    "\n",
    "seq_len = 30\n",
    "\n",
    "train_data_path = \"../../data/toy_dataset/data/{}/train.csv\".format(seq_len)\n",
    "valid_data_path = \"../../data/toy_dataset/data/{}/val.csv\".format(seq_len)\n",
    "test_data_path = \"../../data/toy_dataset/data/{}/test.csv\".format(seq_len)\n",
    "\n",
    "lstm_shap_features_path = \"./output/{}/shap/features/lstm_features.pkl\".format(seq_len)\n",
    "lstm_shap_scores_path = \"./output/{}/shap/feature-importance/lstm_scores.pkl\".format(\n",
    "    seq_len\n",
    ")\n",
    "lstm_shap_patients_path = (\n",
    "    \"./output/{}/shap/feature-importance/lstm_patients.pkl\".format(seq_len)\n",
    ")\n",
    "\n",
    "lstm_att_shap_features_path = \"./output/{}/shap/features/lstm_att_features.pkl\".format(\n",
    "    seq_len\n",
    ")\n",
    "lstm_att_shap_scores_path = (\n",
    "    \"./output/{}/shap/feature-importance/lstm_att_scores.pkl\".format(seq_len)\n",
    ")\n",
    "lstm_att_shap_patients_path = (\n",
    "    \"./output/{}/shap/feature-importance/lstm_att_patients.pkl\".format(seq_len)\n",
    ")\n",
    "\n",
    "lstm_model_save_path = \"./output/{}/lstm/models/model\".format(seq_len)\n",
    "lstm_results_save_path = \"./output/{}/lstm/results/\".format(seq_len)\n",
    "\n",
    "lstm_att_model_save_path = \"./output/{}/lstm-att/models/model\".format(seq_len)\n",
    "lstm_att_results_save_path = \"./output/{}/lstm-att/results/\".format(seq_len)\n",
    "\n",
    "batch_size = 64\n",
    "\n",
    "embedding_dim = 8\n",
    "hidden_dim = 16\n",
    "nlayers = 1\n",
    "bidirectional = True\n",
    "dropout = 0.3\n",
    "\n",
    "target_colname = \"label\"\n",
    "uid_colname = \"patient_id\"\n",
    "x_inputs = [str(x) for x in range(seq_len - 1, -1, -1)]\n",
    "target_value = \"1\"\n",
    "\n",
    "rev = False"
   ]
  },
  {
   "cell_type": "code",
   "execution_count": 41,
   "metadata": {},
   "outputs": [
    {
     "name": "stdout",
     "output_type": "stream",
     "text": [
      "Cuda available: True\n"
     ]
    }
   ],
   "source": [
    "for fp in [lstm_model_save_path, lstm_results_save_path]:\n",
    "    if not os.path.isdir(os.path.split(fp)[0]):\n",
    "        print(f\"New directory created: {fp}\")\n",
    "        os.makedirs(os.path.split(fp)[0])\n",
    "\n",
    "for fp in [lstm_att_model_save_path, lstm_att_results_save_path]:\n",
    "    if not os.path.isdir(os.path.split(fp)[0]):\n",
    "        print(f\"New directory created: {fp}\")\n",
    "        os.makedirs(os.path.split(fp)[0])\n",
    "\n",
    "print(f\"Cuda available: {torch.cuda.is_available()}\")\n",
    "model_device = torch.device(\"cuda\" if torch.cuda.is_available() else \"cpu\")"
   ]
  },
  {
   "cell_type": "markdown",
   "metadata": {},
   "source": [
    "### Create Vocab and Build Dataset"
   ]
  },
  {
   "cell_type": "code",
   "execution_count": 42,
   "metadata": {},
   "outputs": [
    {
     "name": "stdout",
     "output_type": "stream",
     "text": [
      "Building dataset from ../../data/toy_dataset/data/30/train.csv..\n",
      "Success!\n",
      "Building dataset from ../../data/toy_dataset/data/30/val.csv..\n",
      "Success!\n",
      "Building dataset from ../../data/toy_dataset/data/30/test.csv..\n",
      "Success!\n"
     ]
    }
   ],
   "source": [
    "train_dataset, vocab = build_lstm_dataset(\n",
    "    train_data_path,\n",
    "    min_freq=min_freq,\n",
    "    uid_colname=\"patient_id\",\n",
    "    target_colname=\"label\",\n",
    "    max_len=seq_len,\n",
    "    target_value=target_value,\n",
    "    vocab=None,\n",
    "    nrows=nrows,\n",
    "    rev=rev,\n",
    ")\n",
    "valid_dataset, _ = build_lstm_dataset(\n",
    "    valid_data_path,\n",
    "    min_freq=min_freq,\n",
    "    uid_colname=\"patient_id\",\n",
    "    target_colname=\"label\",\n",
    "    max_len=seq_len,\n",
    "    target_value=target_value,\n",
    "    vocab=vocab,\n",
    "    nrows=nrows,\n",
    "    rev=rev,\n",
    ")\n",
    "\n",
    "test_dataset, _ = build_lstm_dataset(\n",
    "    test_data_path,\n",
    "    min_freq=min_freq,\n",
    "    uid_colname=\"patient_id\",\n",
    "    target_colname=\"label\",\n",
    "    max_len=seq_len,\n",
    "    target_value=target_value,\n",
    "    vocab=vocab,\n",
    "    nrows=nrows,\n",
    "    rev=rev,\n",
    ")"
   ]
  },
  {
   "cell_type": "code",
   "execution_count": 43,
   "metadata": {},
   "outputs": [],
   "source": [
    "train_dataloader = DataLoader(\n",
    "    train_dataset, batch_size=batch_size, shuffle=True, num_workers=2\n",
    ")\n",
    "\n",
    "valid_dataloader = DataLoader(\n",
    "    valid_dataset, batch_size=batch_size, shuffle=False, num_workers=2\n",
    ")\n",
    "\n",
    "test_dataloader = DataLoader(\n",
    "    test_dataset, batch_size=batch_size, shuffle=False, num_workers=2\n",
    ")"
   ]
  },
  {
   "cell_type": "markdown",
   "metadata": {},
   "source": [
    "### LSTM Model Loading and Evaluation"
   ]
  },
  {
   "cell_type": "code",
   "execution_count": 44,
   "metadata": {},
   "outputs": [],
   "source": [
    "lstm_model = SimpleLSTM(\n",
    "    embedding_dim, hidden_dim, vocab, model_device, nlayers=nlayers, dropout=dropout\n",
    ")\n",
    "lstm_model = lstm_model.cuda()"
   ]
  },
  {
   "cell_type": "code",
   "execution_count": 45,
   "metadata": {},
   "outputs": [
    {
     "data": {
      "text/plain": [
       "SimpleLSTM(\n",
       "  (emb_layer): Embedding(32, 8, padding_idx=0)\n",
       "  (lstm): LSTM(8, 16, batch_first=True, dropout=0.3, bidirectional=True)\n",
       "  (pred_layer): Linear(in_features=32, out_features=1, bias=True)\n",
       "  (dpt): Dropout(p=0.3, inplace=False)\n",
       ")"
      ]
     },
     "execution_count": 45,
     "metadata": {},
     "output_type": "execute_result"
    }
   ],
   "source": [
    "lstm_model"
   ]
  },
  {
   "cell_type": "code",
   "execution_count": 46,
   "metadata": {},
   "outputs": [],
   "source": [
    "# loss_function = nn.CrossEntropyLoss()\n",
    "loss_function = nn.BCEWithLogitsLoss()"
   ]
  },
  {
   "cell_type": "code",
   "execution_count": 47,
   "metadata": {},
   "outputs": [
    {
     "name": "stdout",
     "output_type": "stream",
     "text": [
      "Test Loss: 0.320 | Test AUC: 0.91\n"
     ]
    }
   ],
   "source": [
    "lstm_model.load_state_dict(torch.load(lstm_model_save_path))\n",
    "test_loss, test_auc = epoch_val_lstm(\n",
    "    lstm_model, test_dataloader, loss_function\n",
    ")  # , return_preds=False\n",
    "\n",
    "print(f\"Test Loss: {test_loss:.3f} | Test AUC: {test_auc:.2f}\")"
   ]
  },
  {
   "cell_type": "markdown",
   "metadata": {},
   "source": [
    "## 3. LSTM with Attention Model Loading and Evaluation"
   ]
  },
  {
   "cell_type": "code",
   "execution_count": 48,
   "metadata": {},
   "outputs": [],
   "source": [
    "lstm_att_model = AttLSTM(\n",
    "    embedding_dim, hidden_dim, vocab, model_device, nlayers=nlayers, dropout=dropout\n",
    ")\n",
    "lstm_att_model = lstm_att_model.cuda()"
   ]
  },
  {
   "cell_type": "code",
   "execution_count": 49,
   "metadata": {},
   "outputs": [
    {
     "data": {
      "text/plain": [
       "AttLSTM(\n",
       "  (emb_layer): Embedding(32, 8, padding_idx=0)\n",
       "  (lstm): LSTM(8, 16, batch_first=True, dropout=0.3, bidirectional=True)\n",
       "  (pred_layer): Linear(in_features=64, out_features=1, bias=True)\n",
       "  (attn_layer): Linear(in_features=32, out_features=1, bias=True)\n",
       "  (dpt): Dropout(p=0.3, inplace=False)\n",
       "  (context_layer): Linear(in_features=32, out_features=1, bias=True)\n",
       ")"
      ]
     },
     "execution_count": 49,
     "metadata": {},
     "output_type": "execute_result"
    }
   ],
   "source": [
    "lstm_att_model"
   ]
  },
  {
   "cell_type": "code",
   "execution_count": 50,
   "metadata": {},
   "outputs": [],
   "source": [
    "# loss_function = nn.CrossEntropyLoss()\n",
    "loss_function = nn.BCEWithLogitsLoss()"
   ]
  },
  {
   "cell_type": "code",
   "execution_count": 51,
   "metadata": {},
   "outputs": [
    {
     "name": "stdout",
     "output_type": "stream",
     "text": [
      "Test Loss: 0.329 | Test AUC: 0.90\n"
     ]
    }
   ],
   "source": [
    "lstm_att_model.load_state_dict(torch.load(lstm_att_model_save_path))\n",
    "test_loss, test_auc = epoch_val_lstm(\n",
    "    lstm_att_model, test_dataloader, loss_function\n",
    ")  # , return_preds=False\n",
    "\n",
    "print(f\"Test Loss: {test_loss:.3f} | Test AUC: {test_auc:.2f}\")"
   ]
  },
  {
   "cell_type": "markdown",
   "metadata": {},
   "source": [
    "## 2. XGBoost Dataset and Model Loading"
   ]
  },
  {
   "cell_type": "markdown",
   "metadata": {},
   "source": [
    "### Data Preprocessing"
   ]
  },
  {
   "cell_type": "code",
   "execution_count": 52,
   "metadata": {},
   "outputs": [],
   "source": [
    "x_train_one_hot_path = \"output/{}/xgboost/data/train_one_hot.csv\".format(seq_len)\n",
    "x_valid_one_hot_path = \"output/{}/xgboost/data/val_one_hot.csv\".format(seq_len)\n",
    "x_test_one_hot_path = \"output/{}/xgboost/data/test_one_hot.csv\".format(seq_len)\n",
    "\n",
    "x_train_data_path = \"output/{}/xgboost/data/train.csv\".format(seq_len)\n",
    "x_valid_data_path = \"output/{}/xgboost/data/val.csv\".format(seq_len)\n",
    "x_test_data_path = \"output/{}/xgboost/data/test.csv\".format(seq_len)\n",
    "\n",
    "s3_output_data_dir = \"s3://merck-paper-bucket/{}/data\".format(seq_len)\n",
    "\n",
    "xgb_shap_features_path = \"./output/{}/shap/features/xgb_features.pkl\".format(seq_len)\n",
    "xgb_shap_scores_path = \"./output/{}/shap/feature-importance/xgb_scores.pkl\".format(\n",
    "    seq_len\n",
    ")\n",
    "xgb_shap_patients_path = \"./output/{}/shap/feature-importance/xgb_patients.pkl\".format(\n",
    "    seq_len\n",
    ")\n",
    "\n",
    "BUCKET = \"merck-paper-bucket\"\n",
    "DATA_PREFIX = \"{}/data\".format(seq_len)\n",
    "MODEL_PREFIX = \"{}/xgboost/model\".format(seq_len)\n",
    "label = \"label\"\n",
    "\n",
    "output_results_path = \"output/{}/xgboost/train/train_results.csv\".format(seq_len)\n",
    "local_model_dir = \"output/{}/xgboost/models/\"\n",
    "s3_output_path = \"s3://{}/{}/output\".format(BUCKET, MODEL_PREFIX)"
   ]
  },
  {
   "cell_type": "code",
   "execution_count": 53,
   "metadata": {},
   "outputs": [
    {
     "name": "stdout",
     "output_type": "stream",
     "text": [
      "(18000, 33)\n"
     ]
    },
    {
     "data": {
      "text/html": [
       "<div>\n",
       "<style scoped>\n",
       "    .dataframe tbody tr th:only-of-type {\n",
       "        vertical-align: middle;\n",
       "    }\n",
       "\n",
       "    .dataframe tbody tr th {\n",
       "        vertical-align: top;\n",
       "    }\n",
       "\n",
       "    .dataframe thead th {\n",
       "        text-align: right;\n",
       "    }\n",
       "</style>\n",
       "<table border=\"1\" class=\"dataframe\">\n",
       "  <thead>\n",
       "    <tr style=\"text-align: right;\">\n",
       "      <th></th>\n",
       "      <th>index</th>\n",
       "      <th>29</th>\n",
       "      <th>28</th>\n",
       "      <th>27</th>\n",
       "      <th>26</th>\n",
       "      <th>25</th>\n",
       "      <th>24</th>\n",
       "      <th>23</th>\n",
       "      <th>22</th>\n",
       "      <th>21</th>\n",
       "      <th>...</th>\n",
       "      <th>7</th>\n",
       "      <th>6</th>\n",
       "      <th>5</th>\n",
       "      <th>4</th>\n",
       "      <th>3</th>\n",
       "      <th>2</th>\n",
       "      <th>1</th>\n",
       "      <th>0</th>\n",
       "      <th>label</th>\n",
       "      <th>patient_id</th>\n",
       "    </tr>\n",
       "  </thead>\n",
       "  <tbody>\n",
       "    <tr>\n",
       "      <th>0</th>\n",
       "      <td>2060</td>\n",
       "      <td>&lt;pad&gt;</td>\n",
       "      <td>&lt;pad&gt;</td>\n",
       "      <td>&lt;pad&gt;</td>\n",
       "      <td>&lt;pad&gt;</td>\n",
       "      <td>&lt;pad&gt;</td>\n",
       "      <td>&lt;pad&gt;</td>\n",
       "      <td>&lt;pad&gt;</td>\n",
       "      <td>&lt;pad&gt;</td>\n",
       "      <td>&lt;pad&gt;</td>\n",
       "      <td>...</td>\n",
       "      <td>normal_bmi_U</td>\n",
       "      <td>foot_pain_N</td>\n",
       "      <td>ACL_tear_N</td>\n",
       "      <td>cut_finger_N</td>\n",
       "      <td>headache_N</td>\n",
       "      <td>ACL_tear_N</td>\n",
       "      <td>cold_sore_N</td>\n",
       "      <td>low_salt_diet_U</td>\n",
       "      <td>0</td>\n",
       "      <td>WQT192TZIU</td>\n",
       "    </tr>\n",
       "    <tr>\n",
       "      <th>1</th>\n",
       "      <td>1873</td>\n",
       "      <td>&lt;pad&gt;</td>\n",
       "      <td>&lt;pad&gt;</td>\n",
       "      <td>&lt;pad&gt;</td>\n",
       "      <td>&lt;pad&gt;</td>\n",
       "      <td>&lt;pad&gt;</td>\n",
       "      <td>&lt;pad&gt;</td>\n",
       "      <td>&lt;pad&gt;</td>\n",
       "      <td>&lt;pad&gt;</td>\n",
       "      <td>&lt;pad&gt;</td>\n",
       "      <td>...</td>\n",
       "      <td>hay_fever_N</td>\n",
       "      <td>dental_exam_N</td>\n",
       "      <td>cut_finger_N</td>\n",
       "      <td>normal_bmi_U</td>\n",
       "      <td>ACL_tear_N</td>\n",
       "      <td>headache_N</td>\n",
       "      <td>PCI_U</td>\n",
       "      <td>ACE_inhibitors_U</td>\n",
       "      <td>0</td>\n",
       "      <td>EHO31C693C</td>\n",
       "    </tr>\n",
       "    <tr>\n",
       "      <th>2</th>\n",
       "      <td>1402</td>\n",
       "      <td>&lt;pad&gt;</td>\n",
       "      <td>&lt;pad&gt;</td>\n",
       "      <td>&lt;pad&gt;</td>\n",
       "      <td>&lt;pad&gt;</td>\n",
       "      <td>&lt;pad&gt;</td>\n",
       "      <td>&lt;pad&gt;</td>\n",
       "      <td>&lt;pad&gt;</td>\n",
       "      <td>&lt;pad&gt;</td>\n",
       "      <td>&lt;pad&gt;</td>\n",
       "      <td>...</td>\n",
       "      <td>ankle_sprain_N</td>\n",
       "      <td>ingrown_nail_N</td>\n",
       "      <td>cut_finger_N</td>\n",
       "      <td>ingrown_nail_N</td>\n",
       "      <td>foot_pain_N</td>\n",
       "      <td>cold_sore_N</td>\n",
       "      <td>ARR_A</td>\n",
       "      <td>furosemide_H</td>\n",
       "      <td>1</td>\n",
       "      <td>TREAOF36OI</td>\n",
       "    </tr>\n",
       "    <tr>\n",
       "      <th>3</th>\n",
       "      <td>2781</td>\n",
       "      <td>&lt;pad&gt;</td>\n",
       "      <td>&lt;pad&gt;</td>\n",
       "      <td>&lt;pad&gt;</td>\n",
       "      <td>&lt;pad&gt;</td>\n",
       "      <td>myopia_N</td>\n",
       "      <td>dental_exam_N</td>\n",
       "      <td>peanut_allergy_N</td>\n",
       "      <td>ankle_sprain_N</td>\n",
       "      <td>cold_sore_N</td>\n",
       "      <td>...</td>\n",
       "      <td>quad_injury_N</td>\n",
       "      <td>ACL_tear_N</td>\n",
       "      <td>foot_pain_N</td>\n",
       "      <td>quad_injury_N</td>\n",
       "      <td>annual_physical_N</td>\n",
       "      <td>ankle_sprain_N</td>\n",
       "      <td>cold_sore_N</td>\n",
       "      <td>low_salt_diet_U</td>\n",
       "      <td>0</td>\n",
       "      <td>TAF54R2M8X</td>\n",
       "    </tr>\n",
       "    <tr>\n",
       "      <th>4</th>\n",
       "      <td>812</td>\n",
       "      <td>&lt;pad&gt;</td>\n",
       "      <td>&lt;pad&gt;</td>\n",
       "      <td>&lt;pad&gt;</td>\n",
       "      <td>&lt;pad&gt;</td>\n",
       "      <td>headache_N</td>\n",
       "      <td>hay_fever_N</td>\n",
       "      <td>cardiac_rehab_U</td>\n",
       "      <td>hay_fever_N</td>\n",
       "      <td>dental_exam_N</td>\n",
       "      <td>...</td>\n",
       "      <td>dental_exam_N</td>\n",
       "      <td>quad_injury_N</td>\n",
       "      <td>ACL_tear_N</td>\n",
       "      <td>cut_finger_N</td>\n",
       "      <td>dental_exam_N</td>\n",
       "      <td>cold_sore_N</td>\n",
       "      <td>foot_pain_N</td>\n",
       "      <td>PCI_U</td>\n",
       "      <td>0</td>\n",
       "      <td>4F38DQWGDM</td>\n",
       "    </tr>\n",
       "  </tbody>\n",
       "</table>\n",
       "<p>5 rows × 33 columns</p>\n",
       "</div>"
      ],
      "text/plain": [
       "   index     29     28     27     26          25             24  \\\n",
       "0   2060  <pad>  <pad>  <pad>  <pad>       <pad>          <pad>   \n",
       "1   1873  <pad>  <pad>  <pad>  <pad>       <pad>          <pad>   \n",
       "2   1402  <pad>  <pad>  <pad>  <pad>       <pad>          <pad>   \n",
       "3   2781  <pad>  <pad>  <pad>  <pad>    myopia_N  dental_exam_N   \n",
       "4    812  <pad>  <pad>  <pad>  <pad>  headache_N    hay_fever_N   \n",
       "\n",
       "                 23              22             21  ...               7  \\\n",
       "0             <pad>           <pad>          <pad>  ...    normal_bmi_U   \n",
       "1             <pad>           <pad>          <pad>  ...     hay_fever_N   \n",
       "2             <pad>           <pad>          <pad>  ...  ankle_sprain_N   \n",
       "3  peanut_allergy_N  ankle_sprain_N    cold_sore_N  ...   quad_injury_N   \n",
       "4   cardiac_rehab_U     hay_fever_N  dental_exam_N  ...   dental_exam_N   \n",
       "\n",
       "                6             5               4                  3  \\\n",
       "0     foot_pain_N    ACL_tear_N    cut_finger_N         headache_N   \n",
       "1   dental_exam_N  cut_finger_N    normal_bmi_U         ACL_tear_N   \n",
       "2  ingrown_nail_N  cut_finger_N  ingrown_nail_N        foot_pain_N   \n",
       "3      ACL_tear_N   foot_pain_N   quad_injury_N  annual_physical_N   \n",
       "4   quad_injury_N    ACL_tear_N    cut_finger_N      dental_exam_N   \n",
       "\n",
       "                2            1                 0 label  patient_id  \n",
       "0      ACL_tear_N  cold_sore_N   low_salt_diet_U     0  WQT192TZIU  \n",
       "1      headache_N        PCI_U  ACE_inhibitors_U     0  EHO31C693C  \n",
       "2     cold_sore_N        ARR_A      furosemide_H     1  TREAOF36OI  \n",
       "3  ankle_sprain_N  cold_sore_N   low_salt_diet_U     0  TAF54R2M8X  \n",
       "4     cold_sore_N  foot_pain_N             PCI_U     0  4F38DQWGDM  \n",
       "\n",
       "[5 rows x 33 columns]"
      ]
     },
     "execution_count": 53,
     "metadata": {},
     "output_type": "execute_result"
    }
   ],
   "source": [
    "df = pd.read_csv(train_data_path)\n",
    "print(df.shape)\n",
    "df.head()"
   ]
  },
  {
   "cell_type": "code",
   "execution_count": 54,
   "metadata": {},
   "outputs": [],
   "source": [
    "tokens = lstm_model.vocab._vocab\n",
    "my_tokens = get_valid_tokens(tokens)"
   ]
  },
  {
   "cell_type": "code",
   "execution_count": 55,
   "metadata": {},
   "outputs": [
    {
     "data": {
      "text/html": [
       "<div>\n",
       "<style scoped>\n",
       "    .dataframe tbody tr th:only-of-type {\n",
       "        vertical-align: middle;\n",
       "    }\n",
       "\n",
       "    .dataframe tbody tr th {\n",
       "        vertical-align: top;\n",
       "    }\n",
       "\n",
       "    .dataframe thead th {\n",
       "        text-align: right;\n",
       "    }\n",
       "</style>\n",
       "<table border=\"1\" class=\"dataframe\">\n",
       "  <thead>\n",
       "    <tr style=\"text-align: right;\">\n",
       "      <th></th>\n",
       "      <th>index</th>\n",
       "      <th>29</th>\n",
       "      <th>28</th>\n",
       "      <th>27</th>\n",
       "      <th>26</th>\n",
       "      <th>25</th>\n",
       "      <th>24</th>\n",
       "      <th>23</th>\n",
       "      <th>22</th>\n",
       "      <th>21</th>\n",
       "      <th>...</th>\n",
       "      <th>7</th>\n",
       "      <th>6</th>\n",
       "      <th>5</th>\n",
       "      <th>4</th>\n",
       "      <th>3</th>\n",
       "      <th>2</th>\n",
       "      <th>1</th>\n",
       "      <th>0</th>\n",
       "      <th>label</th>\n",
       "      <th>patient_id</th>\n",
       "    </tr>\n",
       "  </thead>\n",
       "  <tbody>\n",
       "    <tr>\n",
       "      <th>0</th>\n",
       "      <td>2060</td>\n",
       "      <td>&lt;pad&gt;</td>\n",
       "      <td>&lt;pad&gt;</td>\n",
       "      <td>&lt;pad&gt;</td>\n",
       "      <td>&lt;pad&gt;</td>\n",
       "      <td>&lt;pad&gt;</td>\n",
       "      <td>&lt;pad&gt;</td>\n",
       "      <td>&lt;pad&gt;</td>\n",
       "      <td>&lt;pad&gt;</td>\n",
       "      <td>&lt;pad&gt;</td>\n",
       "      <td>...</td>\n",
       "      <td>normal_bmi_U</td>\n",
       "      <td>foot_pain_N</td>\n",
       "      <td>ACL_tear_N</td>\n",
       "      <td>cut_finger_N</td>\n",
       "      <td>headache_N</td>\n",
       "      <td>ACL_tear_N</td>\n",
       "      <td>cold_sore_N</td>\n",
       "      <td>low_salt_diet_U</td>\n",
       "      <td>0</td>\n",
       "      <td>WQT192TZIU</td>\n",
       "    </tr>\n",
       "    <tr>\n",
       "      <th>1</th>\n",
       "      <td>1873</td>\n",
       "      <td>&lt;pad&gt;</td>\n",
       "      <td>&lt;pad&gt;</td>\n",
       "      <td>&lt;pad&gt;</td>\n",
       "      <td>&lt;pad&gt;</td>\n",
       "      <td>&lt;pad&gt;</td>\n",
       "      <td>&lt;pad&gt;</td>\n",
       "      <td>&lt;pad&gt;</td>\n",
       "      <td>&lt;pad&gt;</td>\n",
       "      <td>&lt;pad&gt;</td>\n",
       "      <td>...</td>\n",
       "      <td>hay_fever_N</td>\n",
       "      <td>dental_exam_N</td>\n",
       "      <td>cut_finger_N</td>\n",
       "      <td>normal_bmi_U</td>\n",
       "      <td>ACL_tear_N</td>\n",
       "      <td>headache_N</td>\n",
       "      <td>PCI_U</td>\n",
       "      <td>ACE_inhibitors_U</td>\n",
       "      <td>0</td>\n",
       "      <td>EHO31C693C</td>\n",
       "    </tr>\n",
       "    <tr>\n",
       "      <th>2</th>\n",
       "      <td>1402</td>\n",
       "      <td>&lt;pad&gt;</td>\n",
       "      <td>&lt;pad&gt;</td>\n",
       "      <td>&lt;pad&gt;</td>\n",
       "      <td>&lt;pad&gt;</td>\n",
       "      <td>&lt;pad&gt;</td>\n",
       "      <td>&lt;pad&gt;</td>\n",
       "      <td>&lt;pad&gt;</td>\n",
       "      <td>&lt;pad&gt;</td>\n",
       "      <td>&lt;pad&gt;</td>\n",
       "      <td>...</td>\n",
       "      <td>ankle_sprain_N</td>\n",
       "      <td>ingrown_nail_N</td>\n",
       "      <td>cut_finger_N</td>\n",
       "      <td>ingrown_nail_N</td>\n",
       "      <td>foot_pain_N</td>\n",
       "      <td>cold_sore_N</td>\n",
       "      <td>ARR_A</td>\n",
       "      <td>furosemide_H</td>\n",
       "      <td>1</td>\n",
       "      <td>TREAOF36OI</td>\n",
       "    </tr>\n",
       "    <tr>\n",
       "      <th>3</th>\n",
       "      <td>2781</td>\n",
       "      <td>&lt;pad&gt;</td>\n",
       "      <td>&lt;pad&gt;</td>\n",
       "      <td>&lt;pad&gt;</td>\n",
       "      <td>&lt;pad&gt;</td>\n",
       "      <td>myopia_N</td>\n",
       "      <td>dental_exam_N</td>\n",
       "      <td>peanut_allergy_N</td>\n",
       "      <td>ankle_sprain_N</td>\n",
       "      <td>cold_sore_N</td>\n",
       "      <td>...</td>\n",
       "      <td>quad_injury_N</td>\n",
       "      <td>ACL_tear_N</td>\n",
       "      <td>foot_pain_N</td>\n",
       "      <td>quad_injury_N</td>\n",
       "      <td>annual_physical_N</td>\n",
       "      <td>ankle_sprain_N</td>\n",
       "      <td>cold_sore_N</td>\n",
       "      <td>low_salt_diet_U</td>\n",
       "      <td>0</td>\n",
       "      <td>TAF54R2M8X</td>\n",
       "    </tr>\n",
       "    <tr>\n",
       "      <th>4</th>\n",
       "      <td>812</td>\n",
       "      <td>&lt;pad&gt;</td>\n",
       "      <td>&lt;pad&gt;</td>\n",
       "      <td>&lt;pad&gt;</td>\n",
       "      <td>&lt;pad&gt;</td>\n",
       "      <td>headache_N</td>\n",
       "      <td>hay_fever_N</td>\n",
       "      <td>cardiac_rehab_U</td>\n",
       "      <td>hay_fever_N</td>\n",
       "      <td>dental_exam_N</td>\n",
       "      <td>...</td>\n",
       "      <td>dental_exam_N</td>\n",
       "      <td>quad_injury_N</td>\n",
       "      <td>ACL_tear_N</td>\n",
       "      <td>cut_finger_N</td>\n",
       "      <td>dental_exam_N</td>\n",
       "      <td>cold_sore_N</td>\n",
       "      <td>foot_pain_N</td>\n",
       "      <td>PCI_U</td>\n",
       "      <td>0</td>\n",
       "      <td>4F38DQWGDM</td>\n",
       "    </tr>\n",
       "  </tbody>\n",
       "</table>\n",
       "<p>5 rows × 33 columns</p>\n",
       "</div>"
      ],
      "text/plain": [
       "   index     29     28     27     26          25             24  \\\n",
       "0   2060  <pad>  <pad>  <pad>  <pad>       <pad>          <pad>   \n",
       "1   1873  <pad>  <pad>  <pad>  <pad>       <pad>          <pad>   \n",
       "2   1402  <pad>  <pad>  <pad>  <pad>       <pad>          <pad>   \n",
       "3   2781  <pad>  <pad>  <pad>  <pad>    myopia_N  dental_exam_N   \n",
       "4    812  <pad>  <pad>  <pad>  <pad>  headache_N    hay_fever_N   \n",
       "\n",
       "                 23              22             21  ...               7  \\\n",
       "0             <pad>           <pad>          <pad>  ...    normal_bmi_U   \n",
       "1             <pad>           <pad>          <pad>  ...     hay_fever_N   \n",
       "2             <pad>           <pad>          <pad>  ...  ankle_sprain_N   \n",
       "3  peanut_allergy_N  ankle_sprain_N    cold_sore_N  ...   quad_injury_N   \n",
       "4   cardiac_rehab_U     hay_fever_N  dental_exam_N  ...   dental_exam_N   \n",
       "\n",
       "                6             5               4                  3  \\\n",
       "0     foot_pain_N    ACL_tear_N    cut_finger_N         headache_N   \n",
       "1   dental_exam_N  cut_finger_N    normal_bmi_U         ACL_tear_N   \n",
       "2  ingrown_nail_N  cut_finger_N  ingrown_nail_N        foot_pain_N   \n",
       "3      ACL_tear_N   foot_pain_N   quad_injury_N  annual_physical_N   \n",
       "4   quad_injury_N    ACL_tear_N    cut_finger_N      dental_exam_N   \n",
       "\n",
       "                2            1                 0 label  patient_id  \n",
       "0      ACL_tear_N  cold_sore_N   low_salt_diet_U     0  WQT192TZIU  \n",
       "1      headache_N        PCI_U  ACE_inhibitors_U     0  EHO31C693C  \n",
       "2     cold_sore_N        ARR_A      furosemide_H     1  TREAOF36OI  \n",
       "3  ankle_sprain_N  cold_sore_N   low_salt_diet_U     0  TAF54R2M8X  \n",
       "4     cold_sore_N  foot_pain_N             PCI_U     0  4F38DQWGDM  \n",
       "\n",
       "[5 rows x 33 columns]"
      ]
     },
     "execution_count": 55,
     "metadata": {},
     "output_type": "execute_result"
    }
   ],
   "source": [
    "df.head()"
   ]
  },
  {
   "cell_type": "code",
   "execution_count": 56,
   "metadata": {},
   "outputs": [
    {
     "name": "stdout",
     "output_type": "stream",
     "text": [
      "Sucess!\n",
      "Sucess!\n",
      "Sucess!\n"
     ]
    }
   ],
   "source": [
    "prepare_data(\n",
    "    train_data_path,\n",
    "    x_train_one_hot_path,\n",
    "    x_train_data_path,\n",
    "    seq_len,\n",
    "    target_colname,\n",
    "    my_tokens,\n",
    "    s3_output_data_dir,\n",
    ")\n",
    "prepare_data(\n",
    "    valid_data_path,\n",
    "    x_valid_one_hot_path,\n",
    "    x_valid_data_path,\n",
    "    seq_len,\n",
    "    target_colname,\n",
    "    my_tokens,\n",
    "    s3_output_data_dir,\n",
    ")\n",
    "prepare_data(\n",
    "    test_data_path,\n",
    "    x_test_one_hot_path,\n",
    "    x_test_data_path,\n",
    "    seq_len,\n",
    "    target_colname,\n",
    "    my_tokens,\n",
    "    s3_output_data_dir,\n",
    ")"
   ]
  },
  {
   "cell_type": "markdown",
   "metadata": {},
   "source": [
    "### Model Loading and Evaluation"
   ]
  },
  {
   "cell_type": "code",
   "execution_count": 57,
   "metadata": {},
   "outputs": [],
   "source": [
    "df_train = pd.read_csv(x_train_one_hot_path)\n",
    "df_test = pd.read_csv(x_test_one_hot_path)"
   ]
  },
  {
   "cell_type": "code",
   "execution_count": 58,
   "metadata": {},
   "outputs": [
    {
     "name": "stdout",
     "output_type": "stream",
     "text": [
      "(18000, 32)\n"
     ]
    },
    {
     "data": {
      "text/html": [
       "<div>\n",
       "<style scoped>\n",
       "    .dataframe tbody tr th:only-of-type {\n",
       "        vertical-align: middle;\n",
       "    }\n",
       "\n",
       "    .dataframe tbody tr th {\n",
       "        vertical-align: top;\n",
       "    }\n",
       "\n",
       "    .dataframe thead th {\n",
       "        text-align: right;\n",
       "    }\n",
       "</style>\n",
       "<table border=\"1\" class=\"dataframe\">\n",
       "  <thead>\n",
       "    <tr style=\"text-align: right;\">\n",
       "      <th></th>\n",
       "      <th>patient_id</th>\n",
       "      <th>backache_N</th>\n",
       "      <th>cold_sore_N</th>\n",
       "      <th>ankle_sprain_N</th>\n",
       "      <th>cut_finger_N</th>\n",
       "      <th>low_salt_diet_U</th>\n",
       "      <th>normal_bmi_U</th>\n",
       "      <th>foot_pain_N</th>\n",
       "      <th>ACL_tear_N</th>\n",
       "      <th>headache_N</th>\n",
       "      <th>...</th>\n",
       "      <th>cardiac_rehab_U</th>\n",
       "      <th>high_creatinine_H</th>\n",
       "      <th>AMI_A</th>\n",
       "      <th>PH_A</th>\n",
       "      <th>CHF_A</th>\n",
       "      <th>pneumonia_H</th>\n",
       "      <th>resistent_hyp_H</th>\n",
       "      <th>apnea_H</th>\n",
       "      <th>tachycardia_H</th>\n",
       "      <th>label</th>\n",
       "    </tr>\n",
       "  </thead>\n",
       "  <tbody>\n",
       "    <tr>\n",
       "      <th>0</th>\n",
       "      <td>WQT192TZIU</td>\n",
       "      <td>1</td>\n",
       "      <td>1</td>\n",
       "      <td>1</td>\n",
       "      <td>1</td>\n",
       "      <td>1</td>\n",
       "      <td>1</td>\n",
       "      <td>1</td>\n",
       "      <td>1</td>\n",
       "      <td>1</td>\n",
       "      <td>...</td>\n",
       "      <td>0</td>\n",
       "      <td>0</td>\n",
       "      <td>0</td>\n",
       "      <td>0</td>\n",
       "      <td>0</td>\n",
       "      <td>0</td>\n",
       "      <td>0</td>\n",
       "      <td>0</td>\n",
       "      <td>0</td>\n",
       "      <td>0</td>\n",
       "    </tr>\n",
       "    <tr>\n",
       "      <th>1</th>\n",
       "      <td>EHO31C693C</td>\n",
       "      <td>0</td>\n",
       "      <td>0</td>\n",
       "      <td>0</td>\n",
       "      <td>1</td>\n",
       "      <td>0</td>\n",
       "      <td>1</td>\n",
       "      <td>1</td>\n",
       "      <td>1</td>\n",
       "      <td>1</td>\n",
       "      <td>...</td>\n",
       "      <td>0</td>\n",
       "      <td>0</td>\n",
       "      <td>0</td>\n",
       "      <td>0</td>\n",
       "      <td>0</td>\n",
       "      <td>0</td>\n",
       "      <td>0</td>\n",
       "      <td>0</td>\n",
       "      <td>0</td>\n",
       "      <td>0</td>\n",
       "    </tr>\n",
       "    <tr>\n",
       "      <th>2</th>\n",
       "      <td>TREAOF36OI</td>\n",
       "      <td>1</td>\n",
       "      <td>1</td>\n",
       "      <td>1</td>\n",
       "      <td>1</td>\n",
       "      <td>0</td>\n",
       "      <td>0</td>\n",
       "      <td>1</td>\n",
       "      <td>1</td>\n",
       "      <td>0</td>\n",
       "      <td>...</td>\n",
       "      <td>0</td>\n",
       "      <td>0</td>\n",
       "      <td>0</td>\n",
       "      <td>0</td>\n",
       "      <td>0</td>\n",
       "      <td>0</td>\n",
       "      <td>0</td>\n",
       "      <td>0</td>\n",
       "      <td>0</td>\n",
       "      <td>1</td>\n",
       "    </tr>\n",
       "    <tr>\n",
       "      <th>3</th>\n",
       "      <td>TAF54R2M8X</td>\n",
       "      <td>0</td>\n",
       "      <td>1</td>\n",
       "      <td>1</td>\n",
       "      <td>1</td>\n",
       "      <td>1</td>\n",
       "      <td>1</td>\n",
       "      <td>1</td>\n",
       "      <td>1</td>\n",
       "      <td>0</td>\n",
       "      <td>...</td>\n",
       "      <td>0</td>\n",
       "      <td>0</td>\n",
       "      <td>0</td>\n",
       "      <td>0</td>\n",
       "      <td>0</td>\n",
       "      <td>0</td>\n",
       "      <td>0</td>\n",
       "      <td>0</td>\n",
       "      <td>0</td>\n",
       "      <td>0</td>\n",
       "    </tr>\n",
       "    <tr>\n",
       "      <th>4</th>\n",
       "      <td>4F38DQWGDM</td>\n",
       "      <td>1</td>\n",
       "      <td>1</td>\n",
       "      <td>0</td>\n",
       "      <td>1</td>\n",
       "      <td>0</td>\n",
       "      <td>0</td>\n",
       "      <td>1</td>\n",
       "      <td>1</td>\n",
       "      <td>1</td>\n",
       "      <td>...</td>\n",
       "      <td>1</td>\n",
       "      <td>0</td>\n",
       "      <td>0</td>\n",
       "      <td>0</td>\n",
       "      <td>0</td>\n",
       "      <td>0</td>\n",
       "      <td>0</td>\n",
       "      <td>0</td>\n",
       "      <td>0</td>\n",
       "      <td>0</td>\n",
       "    </tr>\n",
       "  </tbody>\n",
       "</table>\n",
       "<p>5 rows × 32 columns</p>\n",
       "</div>"
      ],
      "text/plain": [
       "   patient_id  backache_N  cold_sore_N  ankle_sprain_N  cut_finger_N  \\\n",
       "0  WQT192TZIU           1            1               1             1   \n",
       "1  EHO31C693C           0            0               0             1   \n",
       "2  TREAOF36OI           1            1               1             1   \n",
       "3  TAF54R2M8X           0            1               1             1   \n",
       "4  4F38DQWGDM           1            1               0             1   \n",
       "\n",
       "   low_salt_diet_U  normal_bmi_U  foot_pain_N  ACL_tear_N  headache_N  ...  \\\n",
       "0                1             1            1           1           1  ...   \n",
       "1                0             1            1           1           1  ...   \n",
       "2                0             0            1           1           0  ...   \n",
       "3                1             1            1           1           0  ...   \n",
       "4                0             0            1           1           1  ...   \n",
       "\n",
       "   cardiac_rehab_U  high_creatinine_H  AMI_A  PH_A  CHF_A  pneumonia_H  \\\n",
       "0                0                  0      0     0      0            0   \n",
       "1                0                  0      0     0      0            0   \n",
       "2                0                  0      0     0      0            0   \n",
       "3                0                  0      0     0      0            0   \n",
       "4                1                  0      0     0      0            0   \n",
       "\n",
       "   resistent_hyp_H  apnea_H  tachycardia_H  label  \n",
       "0                0        0              0      0  \n",
       "1                0        0              0      0  \n",
       "2                0        0              0      1  \n",
       "3                0        0              0      0  \n",
       "4                0        0              0      0  \n",
       "\n",
       "[5 rows x 32 columns]"
      ]
     },
     "execution_count": 58,
     "metadata": {},
     "output_type": "execute_result"
    }
   ],
   "source": [
    "print(df_train.shape)\n",
    "df_train.head()"
   ]
  },
  {
   "cell_type": "code",
   "execution_count": 59,
   "metadata": {},
   "outputs": [
    {
     "name": "stdout",
     "output_type": "stream",
     "text": [
      "(6000, 32)\n"
     ]
    },
    {
     "data": {
      "text/html": [
       "<div>\n",
       "<style scoped>\n",
       "    .dataframe tbody tr th:only-of-type {\n",
       "        vertical-align: middle;\n",
       "    }\n",
       "\n",
       "    .dataframe tbody tr th {\n",
       "        vertical-align: top;\n",
       "    }\n",
       "\n",
       "    .dataframe thead th {\n",
       "        text-align: right;\n",
       "    }\n",
       "</style>\n",
       "<table border=\"1\" class=\"dataframe\">\n",
       "  <thead>\n",
       "    <tr style=\"text-align: right;\">\n",
       "      <th></th>\n",
       "      <th>patient_id</th>\n",
       "      <th>backache_N</th>\n",
       "      <th>cold_sore_N</th>\n",
       "      <th>ankle_sprain_N</th>\n",
       "      <th>cut_finger_N</th>\n",
       "      <th>low_salt_diet_U</th>\n",
       "      <th>normal_bmi_U</th>\n",
       "      <th>foot_pain_N</th>\n",
       "      <th>ACL_tear_N</th>\n",
       "      <th>headache_N</th>\n",
       "      <th>...</th>\n",
       "      <th>cardiac_rehab_U</th>\n",
       "      <th>high_creatinine_H</th>\n",
       "      <th>AMI_A</th>\n",
       "      <th>PH_A</th>\n",
       "      <th>CHF_A</th>\n",
       "      <th>pneumonia_H</th>\n",
       "      <th>resistent_hyp_H</th>\n",
       "      <th>apnea_H</th>\n",
       "      <th>tachycardia_H</th>\n",
       "      <th>label</th>\n",
       "    </tr>\n",
       "  </thead>\n",
       "  <tbody>\n",
       "    <tr>\n",
       "      <th>0</th>\n",
       "      <td>CYJGX2RI08</td>\n",
       "      <td>0</td>\n",
       "      <td>1</td>\n",
       "      <td>0</td>\n",
       "      <td>0</td>\n",
       "      <td>0</td>\n",
       "      <td>0</td>\n",
       "      <td>0</td>\n",
       "      <td>0</td>\n",
       "      <td>0</td>\n",
       "      <td>...</td>\n",
       "      <td>0</td>\n",
       "      <td>0</td>\n",
       "      <td>0</td>\n",
       "      <td>0</td>\n",
       "      <td>1</td>\n",
       "      <td>0</td>\n",
       "      <td>0</td>\n",
       "      <td>0</td>\n",
       "      <td>0</td>\n",
       "      <td>0</td>\n",
       "    </tr>\n",
       "    <tr>\n",
       "      <th>1</th>\n",
       "      <td>9GNM0PF7IQ</td>\n",
       "      <td>1</td>\n",
       "      <td>0</td>\n",
       "      <td>0</td>\n",
       "      <td>1</td>\n",
       "      <td>0</td>\n",
       "      <td>0</td>\n",
       "      <td>0</td>\n",
       "      <td>0</td>\n",
       "      <td>0</td>\n",
       "      <td>...</td>\n",
       "      <td>0</td>\n",
       "      <td>0</td>\n",
       "      <td>1</td>\n",
       "      <td>0</td>\n",
       "      <td>0</td>\n",
       "      <td>0</td>\n",
       "      <td>0</td>\n",
       "      <td>0</td>\n",
       "      <td>0</td>\n",
       "      <td>1</td>\n",
       "    </tr>\n",
       "    <tr>\n",
       "      <th>2</th>\n",
       "      <td>Y0I7UN86BT</td>\n",
       "      <td>1</td>\n",
       "      <td>1</td>\n",
       "      <td>1</td>\n",
       "      <td>1</td>\n",
       "      <td>0</td>\n",
       "      <td>1</td>\n",
       "      <td>1</td>\n",
       "      <td>1</td>\n",
       "      <td>1</td>\n",
       "      <td>...</td>\n",
       "      <td>1</td>\n",
       "      <td>0</td>\n",
       "      <td>0</td>\n",
       "      <td>0</td>\n",
       "      <td>0</td>\n",
       "      <td>0</td>\n",
       "      <td>0</td>\n",
       "      <td>0</td>\n",
       "      <td>1</td>\n",
       "      <td>1</td>\n",
       "    </tr>\n",
       "    <tr>\n",
       "      <th>3</th>\n",
       "      <td>9QPHAVVA7O</td>\n",
       "      <td>0</td>\n",
       "      <td>1</td>\n",
       "      <td>1</td>\n",
       "      <td>1</td>\n",
       "      <td>0</td>\n",
       "      <td>0</td>\n",
       "      <td>1</td>\n",
       "      <td>1</td>\n",
       "      <td>1</td>\n",
       "      <td>...</td>\n",
       "      <td>0</td>\n",
       "      <td>0</td>\n",
       "      <td>0</td>\n",
       "      <td>0</td>\n",
       "      <td>0</td>\n",
       "      <td>1</td>\n",
       "      <td>0</td>\n",
       "      <td>1</td>\n",
       "      <td>0</td>\n",
       "      <td>1</td>\n",
       "    </tr>\n",
       "    <tr>\n",
       "      <th>4</th>\n",
       "      <td>QYG71XZNIE</td>\n",
       "      <td>0</td>\n",
       "      <td>1</td>\n",
       "      <td>1</td>\n",
       "      <td>1</td>\n",
       "      <td>0</td>\n",
       "      <td>0</td>\n",
       "      <td>1</td>\n",
       "      <td>1</td>\n",
       "      <td>1</td>\n",
       "      <td>...</td>\n",
       "      <td>0</td>\n",
       "      <td>0</td>\n",
       "      <td>0</td>\n",
       "      <td>0</td>\n",
       "      <td>0</td>\n",
       "      <td>0</td>\n",
       "      <td>1</td>\n",
       "      <td>0</td>\n",
       "      <td>1</td>\n",
       "      <td>1</td>\n",
       "    </tr>\n",
       "  </tbody>\n",
       "</table>\n",
       "<p>5 rows × 32 columns</p>\n",
       "</div>"
      ],
      "text/plain": [
       "   patient_id  backache_N  cold_sore_N  ankle_sprain_N  cut_finger_N  \\\n",
       "0  CYJGX2RI08           0            1               0             0   \n",
       "1  9GNM0PF7IQ           1            0               0             1   \n",
       "2  Y0I7UN86BT           1            1               1             1   \n",
       "3  9QPHAVVA7O           0            1               1             1   \n",
       "4  QYG71XZNIE           0            1               1             1   \n",
       "\n",
       "   low_salt_diet_U  normal_bmi_U  foot_pain_N  ACL_tear_N  headache_N  ...  \\\n",
       "0                0             0            0           0           0  ...   \n",
       "1                0             0            0           0           0  ...   \n",
       "2                0             1            1           1           1  ...   \n",
       "3                0             0            1           1           1  ...   \n",
       "4                0             0            1           1           1  ...   \n",
       "\n",
       "   cardiac_rehab_U  high_creatinine_H  AMI_A  PH_A  CHF_A  pneumonia_H  \\\n",
       "0                0                  0      0     0      1            0   \n",
       "1                0                  0      1     0      0            0   \n",
       "2                1                  0      0     0      0            0   \n",
       "3                0                  0      0     0      0            1   \n",
       "4                0                  0      0     0      0            0   \n",
       "\n",
       "   resistent_hyp_H  apnea_H  tachycardia_H  label  \n",
       "0                0        0              0      0  \n",
       "1                0        0              0      1  \n",
       "2                0        0              1      1  \n",
       "3                0        1              0      1  \n",
       "4                1        0              1      1  \n",
       "\n",
       "[5 rows x 32 columns]"
      ]
     },
     "execution_count": 59,
     "metadata": {},
     "output_type": "execute_result"
    }
   ],
   "source": [
    "print(df_test.shape)\n",
    "df_test.head()"
   ]
  },
  {
   "cell_type": "code",
   "execution_count": 60,
   "metadata": {},
   "outputs": [],
   "source": [
    "X_train = df_train.iloc[:, 1:-1]\n",
    "X_test = df_test.iloc[:, 1:-1]"
   ]
  },
  {
   "cell_type": "code",
   "execution_count": 61,
   "metadata": {},
   "outputs": [
    {
     "data": {
      "text/html": [
       "<div>\n",
       "<style scoped>\n",
       "    .dataframe tbody tr th:only-of-type {\n",
       "        vertical-align: middle;\n",
       "    }\n",
       "\n",
       "    .dataframe tbody tr th {\n",
       "        vertical-align: top;\n",
       "    }\n",
       "\n",
       "    .dataframe thead th {\n",
       "        text-align: right;\n",
       "    }\n",
       "</style>\n",
       "<table border=\"1\" class=\"dataframe\">\n",
       "  <thead>\n",
       "    <tr style=\"text-align: right;\">\n",
       "      <th></th>\n",
       "      <th>class</th>\n",
       "      <th>seq_len</th>\n",
       "      <th>val_auc</th>\n",
       "      <th>best_model_path</th>\n",
       "    </tr>\n",
       "  </thead>\n",
       "  <tbody>\n",
       "    <tr>\n",
       "      <th>0</th>\n",
       "      <td>label</td>\n",
       "      <td>30</td>\n",
       "      <td>0.9027</td>\n",
       "      <td>s3://merck-paper-bucket/30/xgboost/model/outpu...</td>\n",
       "    </tr>\n",
       "  </tbody>\n",
       "</table>\n",
       "</div>"
      ],
      "text/plain": [
       "   class  seq_len  val_auc                                    best_model_path\n",
       "0  label       30   0.9027  s3://merck-paper-bucket/30/xgboost/model/outpu..."
      ]
     },
     "execution_count": 61,
     "metadata": {},
     "output_type": "execute_result"
    }
   ],
   "source": [
    "df_best = pd.read_csv(output_results_path)\n",
    "df_best"
   ]
  },
  {
   "cell_type": "code",
   "execution_count": 62,
   "metadata": {},
   "outputs": [
    {
     "data": {
      "text/plain": [
       "'s3://merck-paper-bucket/30/xgboost/model/output/sagemaker-xgboost-210103-1517-001-e562bbb5/output/model.tar.gz'"
      ]
     },
     "execution_count": 62,
     "metadata": {},
     "output_type": "execute_result"
    }
   ],
   "source": [
    "s3_best_model_path = df_best.iloc[0][\"best_model_path\"]\n",
    "s3_best_model_path"
   ]
  },
  {
   "cell_type": "code",
   "execution_count": 63,
   "metadata": {},
   "outputs": [],
   "source": [
    "# Copy the best model from s3 to local\n",
    "output_path = copy_model_from_s3(s3_best_model_path, local_model_dir)\n",
    "# Load the copied model\n",
    "xgb_model = load_model(output_path)"
   ]
  },
  {
   "cell_type": "code",
   "execution_count": 64,
   "metadata": {},
   "outputs": [
    {
     "data": {
      "text/plain": [
       "'[0]\\teval-auc:0.898667'"
      ]
     },
     "execution_count": 64,
     "metadata": {},
     "output_type": "execute_result"
    }
   ],
   "source": [
    "test_auc = xgb_model.eval(xgb.DMatrix(X_test.values, df_test[target_colname].values))\n",
    "test_auc"
   ]
  },
  {
   "cell_type": "markdown",
   "metadata": {},
   "source": [
    "## 3. Compute SHAP values"
   ]
  },
  {
   "cell_type": "code",
   "execution_count": 80,
   "metadata": {},
   "outputs": [],
   "source": [
    "# Constants for LSTM\n",
    "LSTM_N_BACKGROUND = 500  # Number of background examples\n",
    "LSTM_NEGATIVE_ONLY = True  # Whether to use negative examples as background\n",
    "LSTM_N_TEST = 1  # Number of examples to compute shap values from\n",
    "\n",
    "XGB_N_BACKGROUND = 500\n",
    "XGB_NEGATIVE_ONLY = True\n",
    "XGB_N_TEST = 1"
   ]
  },
  {
   "cell_type": "code",
   "execution_count": 81,
   "metadata": {},
   "outputs": [
    {
     "name": "stdout",
     "output_type": "stream",
     "text": [
      "Computing SHAP values for LSTM model...\n"
     ]
    },
    {
     "name": "stderr",
     "output_type": "stream",
     "text": [
      "500it [00:00, 706.40it/s]\n",
      "1000it [00:03, 273.94it/s]"
     ]
    },
    {
     "name": "stdout",
     "output_type": "stream",
     "text": [
      "saved ./output/30/shap/features/lstm_features.pkl pickle..\n",
      "saved ./output/30/shap/feature-importance/lstm_scores.pkl pickle..\n",
      "saved ./output/30/shap/feature-importance/lstm_patients.pkl pickle..\n",
      "Computing SHAP values for LSTM with Attention model...\n"
     ]
    },
    {
     "name": "stderr",
     "output_type": "stream",
     "text": [
      "\n",
      "500it [00:00, 762.10it/s]\n",
      "1000it [00:03, 281.28it/s]\n"
     ]
    },
    {
     "name": "stdout",
     "output_type": "stream",
     "text": [
      "saved ./output/30/shap/features/lstm_att_features.pkl pickle..\n",
      "saved ./output/30/shap/feature-importance/lstm_att_scores.pkl pickle..\n",
      "saved ./output/30/shap/feature-importance/lstm_att_patients.pkl pickle..\n",
      "Computing SHAP values for XGB model...\n",
      "saved ./output/30/shap/features/xgb_features.pkl pickle..\n",
      "saved ./output/30/shap/feature-importance/xgb_scores.pkl pickle..\n",
      "saved ./output/30/shap/feature-importance/xgb_patients.pkl pickle..\n",
      "Successfully Completed!\n"
     ]
    }
   ],
   "source": [
    "print(\"Computing SHAP values for LSTM model...\")\n",
    "lstm_features, lstm_scores, lstm_patients = get_lstm_features_and_shap_scores(\n",
    "    lstm_model,\n",
    "    train_dataloader,\n",
    "    test_dataloader,\n",
    "    seq_len,\n",
    "    lstm_shap_features_path,\n",
    "    lstm_shap_scores_path,\n",
    "    lstm_shap_patients_path,\n",
    "    n_test=LSTM_N_TEST,\n",
    "    n_background=LSTM_N_BACKGROUND,\n",
    "    background_negative_only=LSTM_NEGATIVE_ONLY,\n",
    ")\n",
    "\n",
    "print(\"Computing SHAP values for LSTM with Attention model...\")\n",
    "(\n",
    "    lstm_att_features,\n",
    "    lstm_att_scores,\n",
    "    lstm_att_patients,\n",
    ") = get_lstm_features_and_shap_scores(\n",
    "    lstm_att_model,\n",
    "    train_dataloader,\n",
    "    test_dataloader,\n",
    "    seq_len,\n",
    "    lstm_att_shap_features_path,\n",
    "    lstm_att_shap_scores_path,\n",
    "    lstm_att_shap_patients_path,\n",
    "    n_test=LSTM_N_TEST,\n",
    "    n_background=LSTM_N_BACKGROUND,\n",
    "    background_negative_only=LSTM_NEGATIVE_ONLY,\n",
    ")\n",
    "\n",
    "print(\"Computing SHAP values for XGB model...\")\n",
    "xgb_features, xgb_scores, xgb_patients = get_xgboost_features_and_shap_scores(\n",
    "    xgb_model,\n",
    "    df_train,\n",
    "    df_test,\n",
    "    xgb_shap_features_path,\n",
    "    xgb_shap_scores_path,\n",
    "    xgb_shap_patients_path,\n",
    "    n_test=XGB_N_TEST,\n",
    "    n_background=XGB_N_BACKGROUND,\n",
    "    background_negative_only=XGB_NEGATIVE_ONLY,\n",
    ")\n",
    "print(\"Successfully Completed!\")"
   ]
  },
  {
   "cell_type": "markdown",
   "metadata": {},
   "source": [
    "### Visualize SHAP values for a single example"
   ]
  },
  {
   "cell_type": "code",
   "execution_count": 82,
   "metadata": {},
   "outputs": [],
   "source": [
    "# Load features, scores & patient ids if necessary\n",
    "lstm_features = load_pickle(lstm_shap_features_path)\n",
    "lstm_scores = load_pickle(lstm_shap_scores_path)\n",
    "lstm_patients = load_pickle(lstm_shap_patients_path)\n",
    "\n",
    "lstm_att_features = load_pickle(lstm_att_shap_features_path)\n",
    "lstm_att_scores = load_pickle(lstm_att_shap_scores_path)\n",
    "lstm_att_patients = load_pickle(lstm_att_shap_patients_path)\n",
    "\n",
    "xgb_features = load_pickle(lstm_shap_features_path)\n",
    "xgb_scores = load_pickle(lstm_shap_scores_path)\n",
    "xgb_patients = load_pickle(xgb_shap_patients_path)"
   ]
  },
  {
   "cell_type": "code",
   "execution_count": 83,
   "metadata": {},
   "outputs": [],
   "source": [
    "# index of the patient where you get compute shap\n",
    "idx = 0"
   ]
  },
  {
   "cell_type": "code",
   "execution_count": 84,
   "metadata": {},
   "outputs": [
    {
     "name": "stdout",
     "output_type": "stream",
     "text": [
      "(8, 2)\n"
     ]
    },
    {
     "data": {
      "text/html": [
       "<div>\n",
       "<style scoped>\n",
       "    .dataframe tbody tr th:only-of-type {\n",
       "        vertical-align: middle;\n",
       "    }\n",
       "\n",
       "    .dataframe tbody tr th {\n",
       "        vertical-align: top;\n",
       "    }\n",
       "\n",
       "    .dataframe thead th {\n",
       "        text-align: right;\n",
       "    }\n",
       "</style>\n",
       "<table border=\"1\" class=\"dataframe\">\n",
       "  <thead>\n",
       "    <tr style=\"text-align: right;\">\n",
       "      <th></th>\n",
       "      <th>events</th>\n",
       "      <th>shap_vals</th>\n",
       "    </tr>\n",
       "  </thead>\n",
       "  <tbody>\n",
       "    <tr>\n",
       "      <th>0</th>\n",
       "      <td>myopia_N</td>\n",
       "      <td>0.011266</td>\n",
       "    </tr>\n",
       "    <tr>\n",
       "      <th>1</th>\n",
       "      <td>annual_physical_N</td>\n",
       "      <td>0.003036</td>\n",
       "    </tr>\n",
       "    <tr>\n",
       "      <th>2</th>\n",
       "      <td>annual_physical_N</td>\n",
       "      <td>-0.004109</td>\n",
       "    </tr>\n",
       "    <tr>\n",
       "      <th>3</th>\n",
       "      <td>myopia_N</td>\n",
       "      <td>-0.003271</td>\n",
       "    </tr>\n",
       "    <tr>\n",
       "      <th>4</th>\n",
       "      <td>annual_physical_N</td>\n",
       "      <td>-0.002977</td>\n",
       "    </tr>\n",
       "  </tbody>\n",
       "</table>\n",
       "</div>"
      ],
      "text/plain": [
       "              events  shap_vals\n",
       "0           myopia_N   0.011266\n",
       "1  annual_physical_N   0.003036\n",
       "2  annual_physical_N  -0.004109\n",
       "3           myopia_N  -0.003271\n",
       "4  annual_physical_N  -0.002977"
      ]
     },
     "execution_count": 84,
     "metadata": {},
     "output_type": "execute_result"
    }
   ],
   "source": [
    "# For LSTM Model\n",
    "lstm_features1 = lstm_features[idx]\n",
    "lstm_scores1 = lstm_scores[idx]\n",
    "lstm_patient_id = lstm_patients[idx]\n",
    "len(lstm_features1), len(lstm_scores1)\n",
    "\n",
    "df_lstm_shap = pd.DataFrame(\n",
    "    np.array([lstm_features1, lstm_scores1]).T, columns=[\"events\", \"shap_vals\"]\n",
    ")\n",
    "df_lstm_shap[\"shap_vals\"] = pd.to_numeric(df_lstm_shap[\"shap_vals\"])\n",
    "print(df_lstm_shap.shape)\n",
    "df_lstm_shap.head()"
   ]
  },
  {
   "cell_type": "code",
   "execution_count": 85,
   "metadata": {},
   "outputs": [
    {
     "data": {
      "image/png": "[encoded data removed]",
      "text/plain": [
       "<Figure size 1440x720 with 1 Axes>"
      ]
     },
     "metadata": {
      "needs_background": "light"
     },
     "output_type": "display_data"
    }
   ],
   "source": [
    "plot_shap_values(df_lstm_shap, lstm_patient_id, sort=True)"
   ]
  },
  {
   "cell_type": "code",
   "execution_count": 86,
   "metadata": {},
   "outputs": [
    {
     "name": "stdout",
     "output_type": "stream",
     "text": [
      "(8, 2)\n"
     ]
    },
    {
     "data": {
      "text/html": [
       "<div>\n",
       "<style scoped>\n",
       "    .dataframe tbody tr th:only-of-type {\n",
       "        vertical-align: middle;\n",
       "    }\n",
       "\n",
       "    .dataframe tbody tr th {\n",
       "        vertical-align: top;\n",
       "    }\n",
       "\n",
       "    .dataframe thead th {\n",
       "        text-align: right;\n",
       "    }\n",
       "</style>\n",
       "<table border=\"1\" class=\"dataframe\">\n",
       "  <thead>\n",
       "    <tr style=\"text-align: right;\">\n",
       "      <th></th>\n",
       "      <th>events</th>\n",
       "      <th>shap_vals</th>\n",
       "    </tr>\n",
       "  </thead>\n",
       "  <tbody>\n",
       "    <tr>\n",
       "      <th>0</th>\n",
       "      <td>myopia_N</td>\n",
       "      <td>0.013018</td>\n",
       "    </tr>\n",
       "    <tr>\n",
       "      <th>1</th>\n",
       "      <td>annual_physical_N</td>\n",
       "      <td>0.008476</td>\n",
       "    </tr>\n",
       "    <tr>\n",
       "      <th>2</th>\n",
       "      <td>annual_physical_N</td>\n",
       "      <td>0.003060</td>\n",
       "    </tr>\n",
       "    <tr>\n",
       "      <th>3</th>\n",
       "      <td>myopia_N</td>\n",
       "      <td>-0.002326</td>\n",
       "    </tr>\n",
       "    <tr>\n",
       "      <th>4</th>\n",
       "      <td>annual_physical_N</td>\n",
       "      <td>0.002022</td>\n",
       "    </tr>\n",
       "  </tbody>\n",
       "</table>\n",
       "</div>"
      ],
      "text/plain": [
       "              events  shap_vals\n",
       "0           myopia_N   0.013018\n",
       "1  annual_physical_N   0.008476\n",
       "2  annual_physical_N   0.003060\n",
       "3           myopia_N  -0.002326\n",
       "4  annual_physical_N   0.002022"
      ]
     },
     "execution_count": 86,
     "metadata": {},
     "output_type": "execute_result"
    }
   ],
   "source": [
    "# For LSTM+Attention Model\n",
    "lstm_att_features1 = lstm_att_features[idx]\n",
    "lstm_att_scores1 = lstm_att_scores[idx]\n",
    "lstm_att_patient_id = lstm_att_patients[idx]\n",
    "len(lstm_att_features1), len(lstm_att_scores1)\n",
    "\n",
    "df_lstm_att_shap = pd.DataFrame(\n",
    "    np.array([lstm_att_features1, lstm_att_scores1]).T, columns=[\"events\", \"shap_vals\"]\n",
    ")\n",
    "df_lstm_att_shap[\"shap_vals\"] = pd.to_numeric(df_lstm_att_shap[\"shap_vals\"])\n",
    "print(df_lstm_att_shap.shape)\n",
    "df_lstm_att_shap.head()"
   ]
  },
  {
   "cell_type": "code",
   "execution_count": 87,
   "metadata": {},
   "outputs": [
    {
     "data": {
      "image/png": "[encoded data removed]",
      "text/plain": [
       "<Figure size 1440x720 with 1 Axes>"
      ]
     },
     "metadata": {
      "needs_background": "light"
     },
     "output_type": "display_data"
    }
   ],
   "source": [
    "plot_shap_values(df_lstm_att_shap, lstm_att_patient_id, sort=True)"
   ]
  },
  {
   "cell_type": "code",
   "execution_count": 88,
   "metadata": {},
   "outputs": [
    {
     "name": "stdout",
     "output_type": "stream",
     "text": [
      "(8, 2)\n"
     ]
    },
    {
     "data": {
      "text/html": [
       "<div>\n",
       "<style scoped>\n",
       "    .dataframe tbody tr th:only-of-type {\n",
       "        vertical-align: middle;\n",
       "    }\n",
       "\n",
       "    .dataframe tbody tr th {\n",
       "        vertical-align: top;\n",
       "    }\n",
       "\n",
       "    .dataframe thead th {\n",
       "        text-align: right;\n",
       "    }\n",
       "</style>\n",
       "<table border=\"1\" class=\"dataframe\">\n",
       "  <thead>\n",
       "    <tr style=\"text-align: right;\">\n",
       "      <th></th>\n",
       "      <th>events</th>\n",
       "      <th>shap_vals</th>\n",
       "    </tr>\n",
       "  </thead>\n",
       "  <tbody>\n",
       "    <tr>\n",
       "      <th>0</th>\n",
       "      <td>myopia_N</td>\n",
       "      <td>0.011266</td>\n",
       "    </tr>\n",
       "    <tr>\n",
       "      <th>1</th>\n",
       "      <td>annual_physical_N</td>\n",
       "      <td>0.003036</td>\n",
       "    </tr>\n",
       "    <tr>\n",
       "      <th>2</th>\n",
       "      <td>annual_physical_N</td>\n",
       "      <td>-0.004109</td>\n",
       "    </tr>\n",
       "    <tr>\n",
       "      <th>3</th>\n",
       "      <td>myopia_N</td>\n",
       "      <td>-0.003271</td>\n",
       "    </tr>\n",
       "    <tr>\n",
       "      <th>4</th>\n",
       "      <td>annual_physical_N</td>\n",
       "      <td>-0.002977</td>\n",
       "    </tr>\n",
       "  </tbody>\n",
       "</table>\n",
       "</div>"
      ],
      "text/plain": [
       "              events  shap_vals\n",
       "0           myopia_N   0.011266\n",
       "1  annual_physical_N   0.003036\n",
       "2  annual_physical_N  -0.004109\n",
       "3           myopia_N  -0.003271\n",
       "4  annual_physical_N  -0.002977"
      ]
     },
     "execution_count": 88,
     "metadata": {},
     "output_type": "execute_result"
    }
   ],
   "source": [
    "# For XGB Model\n",
    "xgb_features1 = xgb_features[idx]\n",
    "xgb_scores1 = xgb_scores[idx]\n",
    "xgb_patient_id = xgb_patients[idx]\n",
    "len(xgb_features1), len(xgb_scores1)\n",
    "\n",
    "df_xgb_shap = pd.DataFrame(\n",
    "    np.array([xgb_features1, xgb_scores1]).T, columns=[\"events\", \"shap_vals\"]\n",
    ")\n",
    "df_xgb_shap[\"shap_vals\"] = pd.to_numeric(df_xgb_shap[\"shap_vals\"])\n",
    "print(df_xgb_shap.shape)\n",
    "df_xgb_shap.head()"
   ]
  },
  {
   "cell_type": "code",
   "execution_count": 89,
   "metadata": {},
   "outputs": [
    {
     "data": {
      "image/png": "[encoded data removed]",
      "text/plain": [
       "<Figure size 1440x720 with 1 Axes>"
      ]
     },
     "metadata": {
      "needs_background": "light"
     },
     "output_type": "display_data"
    }
   ],
   "source": [
    "plot_shap_values(df_xgb_shap, xgb_patient_id, sort=True)"
   ]
  },
  {
   "cell_type": "markdown",
   "metadata": {},
   "source": [
    "## Computing Jaccard Index Similarity b/n Models SHAP Values"
   ]
  },
  {
   "cell_type": "code",
   "execution_count": 90,
   "metadata": {},
   "outputs": [],
   "source": [
    "k = 5  # Number of top k features\n",
    "k_list = range(1, 11)\n",
    "models = [\"lstm\", \"lstm-att\", \"xgb\"]"
   ]
  },
  {
   "cell_type": "code",
   "execution_count": 91,
   "metadata": {},
   "outputs": [],
   "source": [
    "lstm_features = load_pickle(lstm_shap_features_path)\n",
    "lstm_scores = load_pickle(lstm_shap_scores_path)\n",
    "lstm_features_scores = (lstm_features, lstm_scores)\n",
    "\n",
    "lstm_att_features = load_pickle(lstm_att_shap_features_path)\n",
    "lstm_att_scores = load_pickle(lstm_att_shap_scores_path)\n",
    "lstm_att_features_scores = (lstm_att_features, lstm_att_scores)\n",
    "\n",
    "xgb_features = load_pickle(xgb_shap_features_path)\n",
    "xgb_scores = load_pickle(xgb_shap_scores_path)\n",
    "xgb_features_scores = (xgb_features, xgb_scores)\n",
    "\n",
    "all_features_scores = [\n",
    "    lstm_features_scores,\n",
    "    lstm_att_features_scores,\n",
    "    xgb_features_scores,\n",
    "]"
   ]
  },
  {
   "cell_type": "code",
   "execution_count": 92,
   "metadata": {},
   "outputs": [
    {
     "data": {
      "text/plain": [
       "(1, 1, 1)"
      ]
     },
     "execution_count": 92,
     "metadata": {},
     "output_type": "execute_result"
    }
   ],
   "source": [
    "len(lstm_features), len(lstm_att_features), len(xgb_features)"
   ]
  },
  {
   "cell_type": "code",
   "execution_count": 93,
   "metadata": {},
   "outputs": [
    {
     "data": {
      "image/png": "[encoded data removed]",
      "text/plain": [
       "<Figure size 1080x720 with 2 Axes>"
      ]
     },
     "metadata": {
      "needs_background": "light"
     },
     "output_type": "display_data"
    }
   ],
   "source": [
    "generate_heatmap(all_features_scores, models, k)"
   ]
  },
  {
   "cell_type": "code",
   "execution_count": 94,
   "metadata": {},
   "outputs": [
    {
     "data": {
      "image/png": "[encoded data removed]",
      "text/plain": [
       "<Figure size 1080x720 with 2 Axes>"
      ]
     },
     "metadata": {
      "needs_background": "light"
     },
     "output_type": "display_data"
    },
    {
     "data": {
      "image/png": "[encoded data removed]",
      "text/plain": [
       "<Figure size 1080x720 with 2 Axes>"
      ]
     },
     "metadata": {
      "needs_background": "light"
     },
     "output_type": "display_data"
    },
    {
     "data": {
      "image/png": "[encoded data removed]",
      "text/plain": [
       "<Figure size 1080x720 with 2 Axes>"
      ]
     },
     "metadata": {
      "needs_background": "light"
     },
     "output_type": "display_data"
    },
    {
     "data": {
      "image/png": "[encoded data removed]",
      "text/plain": [
       "<Figure size 1080x720 with 2 Axes>"
      ]
     },
     "metadata": {
      "needs_background": "light"
     },
     "output_type": "display_data"
    },
    {
     "data": {
      "image/png": "[encoded data removed]",
      "text/plain": [
       "<Figure size 1080x720 with 2 Axes>"
      ]
     },
     "metadata": {
      "needs_background": "light"
     },
     "output_type": "display_data"
    },
    {
     "data": {
      "image/png": "[encoded data removed]",
      "text/plain": [
       "<Figure size 1080x720 with 2 Axes>"
      ]
     },
     "metadata": {
      "needs_background": "light"
     },
     "output_type": "display_data"
    },
    {
     "data": {
      "image/png": "[encoded data removed]",
      "text/plain": [
       "<Figure size 1080x720 with 2 Axes>"
      ]
     },
     "metadata": {
      "needs_background": "light"
     },
     "output_type": "display_data"
    },
    {
     "data": {
      "image/png": "[encoded data removed]",
      "text/plain": [
       "<Figure size 1080x720 with 2 Axes>"
      ]
     },
     "metadata": {
      "needs_background": "light"
     },
     "output_type": "display_data"
    },
    {
     "data": {
      "image/png": "[encoded data removed]",
      "text/plain": [
       "<Figure size 1080x720 with 2 Axes>"
      ]
     },
     "metadata": {
      "needs_background": "light"
     },
     "output_type": "display_data"
    },
    {
     "data": {
      "image/png": "[encoded data removed]",
      "text/plain": [
       "<Figure size 1080x720 with 2 Axes>"
      ]
     },
     "metadata": {
      "needs_background": "light"
     },
     "output_type": "display_data"
    }
   ],
   "source": [
    "generate_k_heatmaps(all_features_scores, models, k_list)"
   ]
  },
  {
   "cell_type": "markdown",
   "metadata": {},
   "source": [
    "## Intersection Similarity Score\n",
    "\n",
    "This score computes the fraction of the intersection of the Ground Truth of Helpers+Adverse Events and Predicted Helpers+Adverse Events by Total Number of Helping Events."
   ]
  },
  {
   "cell_type": "code",
   "execution_count": 95,
   "metadata": {},
   "outputs": [
    {
     "name": "stdout",
     "output_type": "stream",
     "text": [
      "Average Intersection Similarity(LSTM): 1.0\n",
      "Average Intersection Similarity(LSTM+Attention): 1.0\n",
      "Average Intersection Similarity(XGB): 0.1\n"
     ]
    }
   ],
   "source": [
    "# For LSTM\n",
    "avg_sim, lstm_sim = get_model_intersection_similarity(lstm_features_scores)\n",
    "print(\"Average Intersection Similarity(LSTM): {}\".format(avg_sim))\n",
    "\n",
    "# For LSTM+Attention\n",
    "avg_sim, lstm_att_sim = get_model_intersection_similarity(lstm_att_features_scores)\n",
    "print(\"Average Intersection Similarity(LSTM+Attention): {}\".format(avg_sim))\n",
    "\n",
    "# For XGB\n",
    "avg_sim, xgb_sim = get_model_intersection_similarity(xgb_features_scores)\n",
    "print(\"Average Intersection Similarity(XGB): {}\".format(avg_sim))"
   ]
  },
  {
   "cell_type": "markdown",
   "metadata": {},
   "source": [
    "```\n",
    "For seq_len=30 (test batch_size=64), results are as follows:\n",
    "    Average Intersection Similarity(LSTM): 0.14062499999999997\n",
    "    Average Intersection Similarity(LSTM+Attention): 0.15625\n",
    "    Average Intersection Similarity(XGB): 0.10781249999999994\n",
    "For seq_len=300 (test batch_size=64), results are as follows:\n",
    "    Average Intersection Similarity(LSTM): 0.24739583333333334\n",
    "    Average Intersection Similarity(LSTM+Attention): 0.1953125\n",
    "    Average Intersection Similarity(XGB): 0.4703124999999999\n",
    "```"
   ]
  },
  {
   "cell_type": "code",
   "execution_count": 96,
   "metadata": {},
   "outputs": [
    {
     "data": {
      "text/plain": [
       "(array([0., 0., 0., 0., 0., 1., 0., 0., 0., 0.]),\n",
       " array([0.5, 0.6, 0.7, 0.8, 0.9, 1. , 1.1, 1.2, 1.3, 1.4, 1.5]),\n",
       " <a list of 10 Patch objects>)"
      ]
     },
     "execution_count": 96,
     "metadata": {},
     "output_type": "execute_result"
    },
    {
     "data": {
      "image/png": "[encoded data removed]",
      "text/plain": [
       "<Figure size 432x288 with 1 Axes>"
      ]
     },
     "metadata": {
      "needs_background": "light"
     },
     "output_type": "display_data"
    }
   ],
   "source": [
    "plt.hist(lstm_sim)"
   ]
  },
  {
   "cell_type": "code",
   "execution_count": 97,
   "metadata": {},
   "outputs": [
    {
     "data": {
      "text/plain": [
       "(array([0., 0., 0., 0., 0., 1., 0., 0., 0., 0.]),\n",
       " array([0.5, 0.6, 0.7, 0.8, 0.9, 1. , 1.1, 1.2, 1.3, 1.4, 1.5]),\n",
       " <a list of 10 Patch objects>)"
      ]
     },
     "execution_count": 97,
     "metadata": {},
     "output_type": "execute_result"
    },
    {
     "data": {
      "image/png": "[encoded data removed]",
      "text/plain": [
       "<Figure size 432x288 with 1 Axes>"
      ]
     },
     "metadata": {
      "needs_background": "light"
     },
     "output_type": "display_data"
    }
   ],
   "source": [
    "plt.hist(lstm_att_sim)"
   ]
  },
  {
   "cell_type": "code",
   "execution_count": 98,
   "metadata": {},
   "outputs": [
    {
     "data": {
      "text/plain": [
       "(array([0., 0., 0., 0., 0., 1., 0., 0., 0., 0.]),\n",
       " array([-0.4, -0.3, -0.2, -0.1,  0. ,  0.1,  0.2,  0.3,  0.4,  0.5,  0.6]),\n",
       " <a list of 10 Patch objects>)"
      ]
     },
     "execution_count": 98,
     "metadata": {},
     "output_type": "execute_result"
    },
    {
     "data": {
      "image/png": "[encoded data removed]",
      "text/plain": [
       "<Figure size 432x288 with 1 Axes>"
      ]
     },
     "metadata": {
      "needs_background": "light"
     },
     "output_type": "display_data"
    }
   ],
   "source": [
    "plt.hist(xgb_sim)"
   ]
  },
  {
   "cell_type": "code",
   "execution_count": null,
   "metadata": {},
   "outputs": [],
   "source": []
  }
 ],
 "metadata": {
  "kernelspec": {
   "display_name": "conda_pytorch_p36",
   "language": "python",
   "name": "conda_pytorch_p36"
  },
  "language_info": {
   "codemirror_mode": {
    "name": "ipython",
    "version": 3
   },
   "file_extension": ".py",
   "mimetype": "text/x-python",
   "name": "python",
   "nbconvert_exporter": "python",
   "pygments_lexer": "ipython3",
   "version": "3.6.10"
  }
 },
 "nbformat": 4,
 "nbformat_minor": 4
}
