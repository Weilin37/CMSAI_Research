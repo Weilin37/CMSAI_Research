{
 "cells": [
  {
   "cell_type": "code",
   "execution_count": 1,
   "metadata": {},
   "outputs": [],
   "source": [
    "import os\n",
    "\n",
    "import torch\n",
    "import pandas as pd\n",
    "import numpy as np\n",
    "\n",
    "from collections import Counter"
   ]
  },
  {
   "cell_type": "markdown",
   "metadata": {},
   "source": [
    "## OPTIONS"
   ]
  },
  {
   "cell_type": "code",
   "execution_count": 2,
   "metadata": {},
   "outputs": [],
   "source": [
    "nrows = 1000\n",
    "min_freq = 1\n",
    "\n",
    "train_data_path = \"../../data/toy_dataset/train.csv\"\n",
    "valid_data_path = \"../../data/toy_dataset/test.csv\"\n",
    "\n",
    "model_save_path = './sample_model/simple_lstm_201215'\n",
    "results_save_path = \"./sample_results/simple_results_201215\"\n",
    "batch_size = 64\n",
    "n_epochs = 5\n",
    "\n",
    "embedding_dim = 8\n",
    "hidden_dim = 16\n",
    "bidirectional = True\n",
    "dropout = 0.3\n",
    "\n",
    "target_colname = 'label'\n",
    "uid_colname = 'patient_id'\n",
    "x_inputs = [str(x) for x in range(29, -1, -1)]\n",
    "target_value = '1'"
   ]
  },
  {
   "cell_type": "code",
   "execution_count": 3,
   "metadata": {},
   "outputs": [
    {
     "name": "stdout",
     "output_type": "stream",
     "text": [
      "Cuda available: True\n"
     ]
    }
   ],
   "source": [
    "for fp in [model_save_path, results_save_path]:\n",
    "    if not os.path.isdir(os.path.split(fp)[0]):\n",
    "        print(f'New directory created: {fp}')\n",
    "        os.makedirs(os.path.split(fp)[0])\n",
    "\n",
    "print(f\"Cuda available: {torch.cuda.is_available()}\")\n",
    "model_device = torch.device('cuda' if torch.cuda.is_available() else 'cpu')"
   ]
  },
  {
   "cell_type": "markdown",
   "metadata": {},
   "source": [
    "## Create Vocab\n",
    "\n",
    "equivalent to model.create_word_id_dict"
   ]
  },
  {
   "cell_type": "code",
   "execution_count": 4,
   "metadata": {},
   "outputs": [],
   "source": [
    "datapath = train_data_path\n",
    "rev = False"
   ]
  },
  {
   "cell_type": "code",
   "execution_count": 5,
   "metadata": {},
   "outputs": [],
   "source": [
    "def valid_token(t):\n",
    "    if len(t) == 0 or t.lower() == \"<pad>\":\n",
    "        return False\n",
    "    return True"
   ]
  },
  {
   "cell_type": "code",
   "execution_count": 6,
   "metadata": {},
   "outputs": [],
   "source": [
    "token_list = []\n",
    "with open(datapath, \"r\") as f:\n",
    "    # determine column mapping\n",
    "    header = f.readline()\n",
    "    header = [h.replace(\" \", \"\").replace(\"\\n\", \"\") for h in header.split(\",\")]\n",
    "\n",
    "    target_index = header.index(target_colname)\n",
    "\n",
    "    uid_index = header.index(uid_colname)\n",
    "\n",
    "    x_idxes = []\n",
    "    for colname in x_inputs:\n",
    "        x_idxes.append(header.index(colname))\n",
    "\n",
    "    # start processing \n",
    "    line = f.readline()\n",
    "    invalid_uid = 0\n",
    "    deaths = 0\n",
    "    while line:\n",
    "        if 'death' in line:\n",
    "            deaths += 1\n",
    "            pass\n",
    "\n",
    "        tokens = line.split(\",\")\n",
    "\n",
    "        if len(tokens[uid_index]) == 0:\n",
    "            invalid_uid += 1 # some UIDS are missing\n",
    "            pass\n",
    "        else:\n",
    "            uid = tokens[uid_index].replace('\\n', '')\n",
    "\n",
    "        ## CHANGE: integer\n",
    "        if isinstance(tokens[target_index], str):\n",
    "            label = 1 if tokens[target_index].startswith(target_value) else 0\n",
    "        \n",
    "        if isinstance(tokens[target_index], int):\n",
    "            label = tokens[target_index]\n",
    "\n",
    "        tokens = [tokens[idx] for idx in x_idxes]\n",
    "        tokens = [t.strip().replace('\\n', '') for t in tokens if valid_token(t)]\n",
    "\n",
    "        if rev:\n",
    "            tokens = tokens[::-1]\n",
    "\n",
    "        token_list.append((uid, label, tokens))\n",
    "\n",
    "        line = f.readline()\n",
    "\n",
    "        if len(token_list) == nrows:\n",
    "            break"
   ]
  },
  {
   "cell_type": "markdown",
   "metadata": {},
   "source": [
    "Define vocabulary without torchtext"
   ]
  },
  {
   "cell_type": "code",
   "execution_count": 7,
   "metadata": {},
   "outputs": [],
   "source": [
    "vocab = {}\n",
    "vocab['<pad>'] = 0\n",
    "vocab['<unk>'] = 1\n",
    "\n",
    "rev_vocab = {}\n",
    "rev_vocab[0] = '<pad>'\n",
    "rev_vocab[1] = '<unk>'\n",
    "\n",
    "counter = Counter()\n",
    "for uid, label, tokens in token_list:\n",
    "    for token in tokens:\n",
    "        counter[token] += 1\n",
    "\n",
    "for token in counter:\n",
    "    if counter[token] < min_freq:\n",
    "        continue\n",
    "        \n",
    "    idx = len(vocab)\n",
    "    vocab[token] = idx\n",
    "    rev_vocab[idx] = token\n",
    "    \n",
    "class Vocab:\n",
    "    def __init__(self, vocab, rev_vocab):\n",
    "        self._vocab = vocab\n",
    "        self._rev_vocab = rev_vocab\n",
    "        self._unk_idx = vocab['<unk>']\n",
    "        self._pad_idx = vocab['<pad>']\n",
    "    \n",
    "    def __len__(self):\n",
    "        return len(self._vocab)\n",
    "    \n",
    "    def stoi(self, token):\n",
    "        if token in self._vocab:\n",
    "            return self._vocab[token]\n",
    "        return self._vocab['<unk>']\n",
    "    \n",
    "    def itos(self, idx):\n",
    "        if idx in self._rev_vocab:\n",
    "            return self._rev_vocab[idx]\n",
    "        return self._unk_idx\n",
    "    "
   ]
  },
  {
   "cell_type": "code",
   "execution_count": 8,
   "metadata": {},
   "outputs": [],
   "source": [
    "vocab_class = Vocab(vocab, rev_vocab)"
   ]
  },
  {
   "cell_type": "markdown",
   "metadata": {},
   "source": [
    "**Create dataset and dataloader**"
   ]
  },
  {
   "cell_type": "code",
   "execution_count": 9,
   "metadata": {},
   "outputs": [],
   "source": [
    "data = [\n",
    "    (pid, [label], [vocab_class.stoi(t) for t in tokens])\n",
    "    for pid, label, tokens in token_list\n",
    "]"
   ]
  },
  {
   "cell_type": "code",
   "execution_count": 10,
   "metadata": {},
   "outputs": [],
   "source": [
    "from torch.utils.data import Dataset, DataLoader"
   ]
  },
  {
   "cell_type": "code",
   "execution_count": 11,
   "metadata": {},
   "outputs": [],
   "source": [
    "class ToyDataset(Dataset):\n",
    "    '''\n",
    "    Similar to transformer's, adapted to this dataset with Marc's line by line reading output\n",
    "    '''\n",
    "    \n",
    "    def __init__(self, data, max_len=35, pad_idx=0):\n",
    "        self.data = data\n",
    "        self.max_len = max_len\n",
    "        self.pad_idx = pad_idx\n",
    "        \n",
    "    def __len__(self):\n",
    "        return len(self.data)\n",
    "    \n",
    "    def __getitem__(self, idx):\n",
    "        if torch.is_tensor(idx):\n",
    "            idx = idx.tolist()\n",
    "            \n",
    "        idx_lst = data[idx][2]\n",
    "        if len(idx_lst) > self.max_len:\n",
    "            idx_lst = idx_lst[:self.max_len]\n",
    "        idx_lst = idx_lst + [self.pad_idx] * (self.max_len - len(idx_lst))\n",
    "            \n",
    "        return (\n",
    "            data[idx][0],\n",
    "            torch.tensor(data[idx][1]),\n",
    "            torch.tensor(idx_lst) \n",
    "        )\n",
    "    \n",
    "    "
   ]
  },
  {
   "cell_type": "code",
   "execution_count": 12,
   "metadata": {},
   "outputs": [],
   "source": [
    "toy_dataset = ToyDataset(data, max_len=30)"
   ]
  },
  {
   "cell_type": "code",
   "execution_count": 13,
   "metadata": {},
   "outputs": [],
   "source": [
    "train_dataloader = DataLoader(\n",
    "    toy_dataset,\n",
    "    batch_size=batch_size,\n",
    "    shuffle=False,\n",
    "    num_workers=2\n",
    ")"
   ]
  },
  {
   "cell_type": "markdown",
   "metadata": {},
   "source": [
    "## Model definition"
   ]
  },
  {
   "cell_type": "code",
   "execution_count": 14,
   "metadata": {},
   "outputs": [],
   "source": [
    "import torch\n",
    "import torch.nn as nn"
   ]
  },
  {
   "cell_type": "code",
   "execution_count": 15,
   "metadata": {},
   "outputs": [],
   "source": [
    "class SimpleLSTM(nn.Module):\n",
    "    def __init__(self, emb_dim, hidden_dim, vocab, device, nlayers=1, bidi=True, use_gpu=True,\n",
    "                 pad_idx=0):\n",
    "        super(SimpleLSTM, self).__init__()\n",
    "        \n",
    "        self.device = device\n",
    "        self.use_gpu = use_gpu\n",
    "        \n",
    "        self.emb_dim = emb_dim\n",
    "        self.input_dim = len(vocab)\n",
    "        self.vocab = vocab\n",
    "        self.pad_idx = pad_idx\n",
    "        self.emb_layer = nn.Embedding(self.input_dim, emb_dim, padding_idx=pad_idx)\n",
    "        \n",
    "        self.hidden_dim = hidden_dim\n",
    "        self.bidi = bidi\n",
    "        self.nlayers = nlayers\n",
    "        self.lstm = nn.LSTM(input_size=emb_dim,\n",
    "                            hidden_size=hidden_dim,\n",
    "                            num_layers=nlayers,\n",
    "                            bidirectional=bidi,\n",
    "                            batch_first=True)\n",
    "        \n",
    "        self.pred_layer = nn.Linear(hidden_dim * 2, 2) if bidi else nn.Linear(hidden_dim, 2)\n",
    "        \n",
    "        self.init_weights()\n",
    "        \n",
    "    def init_weights(self):\n",
    "        initrange = 0.3\n",
    "        self.emb_layer.weight.data.uniform_(-initrange, initrange) \n",
    "        \n",
    "        self.pred_layer.weight.data.uniform_(-initrange, initrange)\n",
    "        self.pred_layer.bias.data.zero_()   \n",
    "        \n",
    "    def init_hidden(self, batch_size):\n",
    "        count = self.nlayers * 2 if self.bidi else self.nlayers\n",
    "        \n",
    "        weight = next(self.parameters())\n",
    "        \n",
    "        directionality = 2 if self.bidi else 1\n",
    "        weights = (\n",
    "            weight.new_zeros(count * directionality, batch_size, self.hidden_dim),\n",
    "            weight.new_zeros(count * directionality, batch_size, self.hidden_dim)\n",
    "        )\n",
    "        \n",
    "        if self.use_gpu:\n",
    "            return (weights[0].cuda(), weights[1].cuda())\n",
    "        \n",
    "        return weights\n",
    "        \n",
    "    def repackage_hidden(h):\n",
    "        \"\"\"\n",
    "        Wraps hidden states in new Tensors, to detach them from their history.\n",
    "        Needed to prevent RNN+Attention backpropagating between batches.\n",
    "        \"\"\"\n",
    "        if isinstance(h, torch.Tensor):\n",
    "            return h.detach()\n",
    "        \n",
    "        if isinstance(h, tuple):\n",
    "            return (v.detach() for v in h)\n",
    "    \n",
    "        \n",
    "    def forward(self, tokens):\n",
    "        embedded = self.emb_layer(tokens)\n",
    "        \n",
    "        hidden = self.init_hidden(tokens.shape[0])\n",
    "        hidden = self.repackage_hidden()\n",
    "        \n",
    "        text_lengths = torch.sum(tokens != self.pad_idx, dim=1)\n",
    "        \n",
    "        packed_embedded = nn.utils.rnn.pack_padded_sequence(\n",
    "            embedded, text_lengths, enforce_sorted=False, batch_first=True)\n",
    "        \n",
    "        packed_output, (hidden, cell) = self.lstm(packed_embedded, hidden)\n",
    "        \n",
    "        output, output_lengths = nn.utils.rnn.pad_packed_sequence(packed_output)\n",
    "        output = output.permute(1, 0, 2) # [batch, text_length, hidden_dim]\n",
    "        \n",
    "        if self.bidi:\n",
    "            out = torch.cat([output[:, -1, :self.hidden_dim], output[:, 0, self.hidden_dim:]],\n",
    "                           dim=1)\n",
    "        else:\n",
    "            out = output[:, -1, :]\n",
    "        \n",
    "        pred = self.pred_layer(out)\n",
    "        \n",
    "        return pred\n",
    "    \n",
    "    def save_model(self, filepath):\n",
    "        if not os.path.isdir(os.path.split(filepath)[0]):\n",
    "            os.makedirs(os.path.split(filepath)[0])\n",
    "        torch.save({self.state_dict()}, filepath)\n",
    "                   \n",
    "    def load_model(self, filename):\n",
    "        self.load_state_dict(torch.load(filename))\n",
    "        \n",
    "    def get_ids_masks(self, token_list, padding_length):\n",
    "        '''Only enabled for one example at a time'''\n",
    "        ids, masks = np.zeros((padding_length, len(self.vocab))), [0] * padding_length\n",
    "        \n",
    "        for (i, idx_token) in enumerate(token_list):\n",
    "            if i >= padding_length or idx_token == self.pad_idx:\n",
    "                break\n",
    "            ids[i, idx_token] = 1\n",
    "            masks[i] = 1\n",
    "\n",
    "        return torch.FloatTensor(ids), masks\n",
    "    \n",
    "    def get_all_ids_masks(self, data, padding_length):\n",
    "        ids,  masks = [], []\n",
    "        for obs in data:\n",
    "            id_vals, mask_vals = self.get_ids_masks(obs, padding_length)\n",
    "            ids.append(id_vals)\n",
    "            masks.append(mask_vals)\n",
    "            \n",
    "        return torch.stack(ids), masks\n",
    "    \n",
    "    def forward_shap(self, token_ids, mask, full_id_matrix=False):\n",
    "        '''Only enabled for one example at a time'''\n",
    "        token_ids = token_ids if token_ids.is_cuda else token_ids.cuda()\n",
    "        \n",
    "        hidden = self.init_hidden(1)\n",
    "        hidden = self.repackage_hidden()\n",
    "        \n",
    "        emb = torch.matmul(token_ids, self.emb_layer.weight).unsqueeze(0)\n",
    "        \n",
    "        out, _ = self.lstm(emb, hidden)\n",
    "        \n",
    "        return self.pred_layer(out).squeeze(0)\n",
    "\n",
    "    \n"
   ]
  },
  {
   "cell_type": "code",
   "execution_count": 16,
   "metadata": {},
   "outputs": [],
   "source": [
    "model = SimpleLSTM(embedding_dim, hidden_dim, vocab_class, model_device)\n",
    "model = model.cuda()"
   ]
  },
  {
   "cell_type": "code",
   "execution_count": 17,
   "metadata": {},
   "outputs": [
    {
     "data": {
      "text/plain": [
       "SimpleLSTM(\n",
       "  (emb_layer): Embedding(32, 8, padding_idx=0)\n",
       "  (lstm): LSTM(8, 16, batch_first=True, bidirectional=True)\n",
       "  (pred_layer): Linear(in_features=32, out_features=2, bias=True)\n",
       ")"
      ]
     },
     "execution_count": 17,
     "metadata": {},
     "output_type": "execute_result"
    }
   ],
   "source": [
    "model"
   ]
  },
  {
   "cell_type": "markdown",
   "metadata": {},
   "source": [
    "## Training loop"
   ]
  },
  {
   "cell_type": "code",
   "execution_count": 18,
   "metadata": {},
   "outputs": [],
   "source": [
    "def epoch_train_lstm(\n",
    "    model,\n",
    "    dataloader,\n",
    "    optimizer,\n",
    "    criterion,\n",
    "    test=0\n",
    "):\n",
    "    \"\"\"\n",
    "    Train model for an epoch, called by ModelProcess function\n",
    "    detach_hidden is used to detach hidden state between batches,\n",
    "    and will add a new hidden state to model. Model must have .init_hidden function defined\n",
    "    \n",
    "    Args:\n",
    "    -----\n",
    "        model (nn.Module): lstm general attention model\n",
    "        dataloader : iterator for dataset, yields (ids, sequence, seq length, labels)\n",
    "        criterion : loss function\n",
    "        batch_size : int default 0\n",
    "                     used when detach_hidden is enabled\n",
    "                     to create the correct hidden sizes during initialization\n",
    "        \n",
    "    Returns:\n",
    "    ----------\n",
    "        tuple containing:\n",
    "            average loss for whole epoch,\n",
    "            average AUC for whole epoch\n",
    "    \"\"\"\n",
    "    import copy\n",
    "    from sklearn.metrics import roc_auc_score\n",
    "           \n",
    "    epoch_loss = 0\n",
    "    epoch_metric = 0\n",
    "\n",
    "    model.train()\n",
    "\n",
    "    # initialize lists to compare predictions & ground truth labels for metric calculation\n",
    "    order_labels = []\n",
    "    prediction_scores = []\n",
    "    if test: # test function on small number of batches\n",
    "        counter = 0\n",
    "        \n",
    "    for idx, (ids, labels, idxed_text) in enumerate(dataloader):\n",
    "        \n",
    "        optimizer.zero_grad()\n",
    "          \n",
    "        labels = labels.type(torch.long)\n",
    "        idxed_text, labels = idxed_text.cuda(), labels.cuda()\n",
    "\n",
    "        predictions = model(idxed_text)        \n",
    "        #predictions = model(text, text_lengths).squeeze(1)\n",
    "        \n",
    "        \n",
    "        loss = criterion(predictions, labels.squeeze(1))\n",
    "        loss.backward()\n",
    "        optimizer.step()\n",
    "\n",
    "        # prevent internal pytorch timeout due to too many file opens by multiprocessing\n",
    "        copied_labels = copy.deepcopy(labels.detach().cpu().numpy())\n",
    "        del labels\n",
    "        order_labels.extend(copied_labels)\n",
    "        \n",
    "        copied_preds = copy.deepcopy(predictions.detach().cpu().numpy())\n",
    "        del predictions\n",
    "        prediction_scores.extend(copied_preds)\n",
    "        \n",
    "        epoch_loss += loss.item()        \n",
    "    \n",
    "        if test:\n",
    "            if counter >= test:\n",
    "                break\n",
    "            counter += 1\n",
    "    \n",
    "    epoch_metric = roc_auc_score(order_labels, torch.sigmoid(torch.Tensor(prediction_scores)[:, 1]))\n",
    "        \n",
    "    return epoch_loss / len(dataloader), epoch_metric"
   ]
  },
  {
   "cell_type": "code",
   "execution_count": 19,
   "metadata": {},
   "outputs": [],
   "source": [
    "loss_function = nn.CrossEntropyLoss()\n",
    "optimizer = torch.optim.Adam(model.parameters(), lr=0.05)"
   ]
  },
  {
   "cell_type": "code",
   "execution_count": 20,
   "metadata": {},
   "outputs": [],
   "source": [
    "import time"
   ]
  },
  {
   "cell_type": "code",
   "execution_count": 21,
   "metadata": {},
   "outputs": [
    {
     "name": "stdout",
     "output_type": "stream",
     "text": [
      "Train Loss: 0.701 | Train AUC: 0.49\n",
      "Train Loss: 0.651 | Train AUC: 0.66\n",
      "Train Loss: 0.417 | Train AUC: 0.88\n",
      "Train Loss: 0.347 | Train AUC: 0.91\n",
      "Train Loss: 0.340 | Train AUC: 0.91\n"
     ]
    }
   ],
   "source": [
    "#best_valid_loss = float(\"inf\")\n",
    "#valid_worse_loss = 0  # enable early stopping\n",
    "#stop_num = 6\n",
    "\n",
    "for epoch in range(n_epochs):\n",
    "\n",
    "    start_time = time.time()\n",
    "\n",
    "    train_loss, train_auc = epoch_train_lstm(\n",
    "        model, train_dataloader, optimizer, loss_function\n",
    "    )\n",
    "\n",
    "    #valid_loss, valid_auc = epoch_val_lstm(\n",
    "    #    model, valid_dataloader, criterion, return_preds=False\n",
    "    #)\n",
    "\n",
    "    end_time = time.time()\n",
    "\n",
    "    #epoch_mins, epoch_secs = epoch_time(start_time, end_time)\n",
    "    \n",
    "    #print(f\"Epoch: {epoch+1:02} | Epoch Time: {epoch_mins}m {epoch_secs}s\")\n",
    "\n",
    "    '''\n",
    "    if valid_loss < best_valid_loss:\n",
    "        best_valid_loss = valid_loss\n",
    "        torch.save(model.state_dict(), model_save_path)\n",
    "        print(\"Saved Model, epoch {}\".format(epoch))\n",
    "        valid_worse_loss = 0\n",
    "\n",
    "    else:\n",
    "        valid_worse_loss += 1\n",
    "        if valid_worse_loss == stop_num:\n",
    "            print(\"EARLY STOP ------\")\n",
    "            break\n",
    "\n",
    "    scheduler.step()\n",
    "    log(\n",
    "        f\"Train Loss: {train_loss:.3f} | Train AUC: {train_auc:.2f} \\t Val. Loss: {valid_loss:.3f} |  Val. AUC: {valid_auc:.4f}\"\n",
    "    )'''\n",
    "    \n",
    "    print(\n",
    "        f\"Train Loss: {train_loss:.3f} | Train AUC: {train_auc:.2f}\"\n",
    "    )"
   ]
  },
  {
   "cell_type": "markdown",
   "metadata": {},
   "source": [
    "## GEt SHAP values"
   ]
  },
  {
   "cell_type": "code",
   "execution_count": 22,
   "metadata": {},
   "outputs": [],
   "source": [
    "import deep_id_pytorch"
   ]
  },
  {
   "cell_type": "code",
   "execution_count": 23,
   "metadata": {},
   "outputs": [],
   "source": [
    "background = next(iter(train_dataloader))\n",
    "background_ids, background_labels, background_idxes = background"
   ]
  },
  {
   "cell_type": "code",
   "execution_count": 24,
   "metadata": {},
   "outputs": [
    {
     "data": {
      "text/plain": [
       "torch.Size([64, 30])"
      ]
     },
     "execution_count": 24,
     "metadata": {},
     "output_type": "execute_result"
    }
   ],
   "source": [
    "background_idxes.shape"
   ]
  },
  {
   "cell_type": "code",
   "execution_count": 25,
   "metadata": {},
   "outputs": [],
   "source": [
    "bg_data, bg_masks = model.get_all_ids_masks(background_idxes, 20)"
   ]
  },
  {
   "cell_type": "code",
   "execution_count": 26,
   "metadata": {},
   "outputs": [
    {
     "data": {
      "text/plain": [
       "torch.Size([64, 20, 32])"
      ]
     },
     "execution_count": 26,
     "metadata": {},
     "output_type": "execute_result"
    }
   ],
   "source": [
    "bg_data.shape"
   ]
  },
  {
   "cell_type": "code",
   "execution_count": 27,
   "metadata": {},
   "outputs": [
    {
     "name": "stderr",
     "output_type": "stream",
     "text": [
      "64it [00:00, 906.19it/s]\n"
     ]
    }
   ],
   "source": [
    "explainer = deep_id_pytorch.CustomPyTorchDeepIDExplainer(model, bg_data, bg_masks,\n",
    "                                                         gpu_memory_efficient=True)"
   ]
  },
  {
   "cell_type": "code",
   "execution_count": 28,
   "metadata": {},
   "outputs": [],
   "source": [
    "    model.train() # in case that shap complains that autograd cannot be called\n",
    "    lstm_values = []\n",
    "    features = []\n",
    "    start = 0"
   ]
  },
  {
   "cell_type": "code",
   "execution_count": 29,
   "metadata": {},
   "outputs": [],
   "source": [
    "test = list(train_dataloader)[3]\n",
    "test_ids, test_labels, test_idxes = test"
   ]
  },
  {
   "cell_type": "code",
   "execution_count": 47,
   "metadata": {},
   "outputs": [
    {
     "data": {
      "text/plain": [
       "tensor([13, 16,  3, 13, 10,  5,  3, 31,  8,  2,  7,  4,  7, 16, 10, 15, 15, 21,\n",
       "         0,  0,  0,  0,  0,  0,  0,  0,  0,  0,  0,  0])"
      ]
     },
     "execution_count": 47,
     "metadata": {},
     "output_type": "execute_result"
    }
   ],
   "source": [
    "test_idxes[0]"
   ]
  },
  {
   "cell_type": "code",
   "execution_count": 30,
   "metadata": {},
   "outputs": [],
   "source": [
    "test_data, test_masks = model.get_all_ids_masks(test_idxes, 20)"
   ]
  },
  {
   "cell_type": "code",
   "execution_count": 31,
   "metadata": {},
   "outputs": [
    {
     "data": {
      "text/plain": [
       "torch.Size([20, 32])"
      ]
     },
     "execution_count": 31,
     "metadata": {},
     "output_type": "execute_result"
    }
   ],
   "source": [
    "test_data[0].shape"
   ]
  },
  {
   "cell_type": "code",
   "execution_count": 32,
   "metadata": {},
   "outputs": [
    {
     "data": {
      "text/plain": [
       "20"
      ]
     },
     "execution_count": 32,
     "metadata": {},
     "output_type": "execute_result"
    }
   ],
   "source": [
    "len(test_masks[0])"
   ]
  },
  {
   "cell_type": "code",
   "execution_count": 33,
   "metadata": {},
   "outputs": [
    {
     "name": "stderr",
     "output_type": "stream",
     "text": [
      "128it [00:00, 342.19it/s]\n",
      "128it [00:00, 330.73it/s]\n"
     ]
    }
   ],
   "source": [
    "lstm_shap_values = explainer.shap_values(test_data[0].unsqueeze(0), test_masks[0])"
   ]
  },
  {
   "cell_type": "code",
   "execution_count": 34,
   "metadata": {},
   "outputs": [],
   "source": [
    "class_token_values = [[] for _ in lstm_shap_values]"
   ]
  },
  {
   "cell_type": "code",
   "execution_count": 35,
   "metadata": {},
   "outputs": [],
   "source": [
    "for (i, w) in enumerate(test_idxes[0, :20]):\n",
    "    for c in range(len(lstm_shap_values)):\n",
    "        class_token_values[c].append(lstm_shap_values[c][0, i, w])\n",
    "lstm_values.append(class_token_values)\n",
    "features.append(tokens)"
   ]
  },
  {
   "cell_type": "code",
   "execution_count": 36,
   "metadata": {},
   "outputs": [
    {
     "data": {
      "text/plain": [
       "[[[0.3632405698299408,\n",
       "   0.003712159814313054,\n",
       "   -0.058763112872838974,\n",
       "   -0.018188657239079475,\n",
       "   -0.0004721668956335634,\n",
       "   -0.006075453013181686,\n",
       "   -0.011011743918061256,\n",
       "   -0.006128672510385513,\n",
       "   -0.0009957003640010953,\n",
       "   0.00024435087107121944,\n",
       "   0.0004354778793640435,\n",
       "   -0.0010247325990349054,\n",
       "   0.0002675318974070251,\n",
       "   0.0001244780869456008,\n",
       "   -8.887716830940917e-06,\n",
       "   8.744544902583584e-05,\n",
       "   5.8896046539302915e-05,\n",
       "   -0.00019752135267481208,\n",
       "   0.0,\n",
       "   0.0],\n",
       "  [-0.440900593996048,\n",
       "   -0.012614735402166843,\n",
       "   0.05846104398369789,\n",
       "   0.018948152661323547,\n",
       "   9.692272578831762e-05,\n",
       "   0.007189593743532896,\n",
       "   0.013029138557612896,\n",
       "   0.007171905133873224,\n",
       "   0.0008328473195433617,\n",
       "   -0.0003208062844350934,\n",
       "   -0.0007449374534189701,\n",
       "   0.0013849677052348852,\n",
       "   -0.00043466160423122346,\n",
       "   -0.00018580316100269556,\n",
       "   9.957202564692125e-06,\n",
       "   -0.00012581044575199485,\n",
       "   -8.261740003945306e-05,\n",
       "   0.00028351126820780337,\n",
       "   0.0,\n",
       "   0.0]]]"
      ]
     },
     "execution_count": 36,
     "metadata": {},
     "output_type": "execute_result"
    }
   ],
   "source": [
    "lstm_values"
   ]
  },
  {
   "cell_type": "code",
   "execution_count": 37,
   "metadata": {},
   "outputs": [],
   "source": [
    "import matplotlib.pyplot as plt"
   ]
  },
  {
   "cell_type": "code",
   "execution_count": 38,
   "metadata": {},
   "outputs": [
    {
     "data": {
      "text/plain": [
       "<matplotlib.collections.PathCollection at 0x7f25dcc79a90>"
      ]
     },
     "execution_count": 38,
     "metadata": {},
     "output_type": "execute_result"
    },
    {
     "data": {
      "image/png": "[encoded data removed]",
      "text/plain": [
       "<Figure size 432x288 with 1 Axes>"
      ]
     },
     "metadata": {
      "needs_background": "light"
     },
     "output_type": "display_data"
    }
   ],
   "source": [
    "plt.scatter(lstm_values[0][0], lstm_values[0][1])"
   ]
  },
  {
   "cell_type": "code",
   "execution_count": 76,
   "metadata": {},
   "outputs": [
    {
     "data": {
      "text/plain": [
       "tensor([13, 16,  3, 13, 10,  5,  3, 31,  8,  2,  7,  4,  7, 16, 10, 15, 15, 21,\n",
       "         0,  0])"
      ]
     },
     "execution_count": 76,
     "metadata": {},
     "output_type": "execute_result"
    }
   ],
   "source": [
    "idx_seq = test_idxes[0, :20]\n",
    "idx_seq"
   ]
  },
  {
   "cell_type": "code",
   "execution_count": 82,
   "metadata": {},
   "outputs": [
    {
     "name": "stdout",
     "output_type": "stream",
     "text": [
      "['hay_fever', 'ACL_tear', 'cut_finger', 'hay_fever', 'myopia', 'peanut_allergy', 'cut_finger', 'AMI', 'headache', 'quad_injury', 'annual_physical', 'foot_pain', 'annual_physical', 'ACL_tear', 'myopia', 'dental_exam', 'dental_exam', 'backache', '<pad>', '<pad>']\n"
     ]
    }
   ],
   "source": [
    "events = [model.vocab.itos(x) for x in idx_seq.numpy()]\n",
    "print(events)"
   ]
  },
  {
   "cell_type": "code",
   "execution_count": 79,
   "metadata": {},
   "outputs": [
    {
     "data": {
      "text/plain": [
       "{'<pad>': 0,\n",
       " '<unk>': 1,\n",
       " 'quad_injury': 2,\n",
       " 'cut_finger': 3,\n",
       " 'foot_pain': 4,\n",
       " 'peanut_allergy': 5,\n",
       " 'cardiac_rehab': 6,\n",
       " 'annual_physical': 7,\n",
       " 'headache': 8,\n",
       " 'eye_exam': 9,\n",
       " 'myopia': 10,\n",
       " 'ingrown_nail': 11,\n",
       " 'PCI': 12,\n",
       " 'hay_fever': 13,\n",
       " 'ankle_sprain': 14,\n",
       " 'dental_exam': 15,\n",
       " 'ACL_tear': 16,\n",
       " 'ACE_inhibitors': 17,\n",
       " 'apnea': 18,\n",
       " 'high_creatinine': 19,\n",
       " 'cold_sore': 20,\n",
       " 'backache': 21,\n",
       " 'tachycardia': 22,\n",
       " 'furosemide': 23,\n",
       " 'CHF': 24,\n",
       " 'normal_bmi': 25,\n",
       " 'ARR': 26,\n",
       " 'pneumonia': 27,\n",
       " 'low_salt_diet': 28,\n",
       " 'resistent_hyp': 29,\n",
       " 'PH': 30,\n",
       " 'AMI': 31}"
      ]
     },
     "execution_count": 79,
     "metadata": {},
     "output_type": "execute_result"
    }
   ],
   "source": [
    "model.vocab._vocab"
   ]
  },
  {
   "cell_type": "code",
   "execution_count": 92,
   "metadata": {},
   "outputs": [
    {
     "data": {
      "text/plain": [
       "[0.3632405698299408,\n",
       " 0.003712159814313054,\n",
       " -0.058763112872838974,\n",
       " -0.018188657239079475,\n",
       " -0.0004721668956335634,\n",
       " -0.006075453013181686,\n",
       " -0.011011743918061256,\n",
       " -0.006128672510385513,\n",
       " -0.0009957003640010953,\n",
       " 0.00024435087107121944,\n",
       " 0.0004354778793640435,\n",
       " -0.0010247325990349054,\n",
       " 0.0002675318974070251,\n",
       " 0.0001244780869456008,\n",
       " -8.887716830940917e-06,\n",
       " 8.744544902583584e-05,\n",
       " 5.8896046539302915e-05,\n",
       " -0.00019752135267481208,\n",
       " 0.0,\n",
       " 0.0]"
      ]
     },
     "execution_count": 92,
     "metadata": {},
     "output_type": "execute_result"
    }
   ],
   "source": [
    "lstm_values[0][0]"
   ]
  },
  {
   "cell_type": "code",
   "execution_count": 94,
   "metadata": {},
   "outputs": [
    {
     "data": {
      "text/plain": [
       "20"
      ]
     },
     "execution_count": 94,
     "metadata": {},
     "output_type": "execute_result"
    }
   ],
   "source": [
    "len(lstm_values[0][0])"
   ]
  },
  {
   "cell_type": "code",
   "execution_count": 95,
   "metadata": {},
   "outputs": [],
   "source": [
    "df = pd.DataFrame()\n",
    "df['events'] = events\n",
    "df['shap_vals'] = lstm_values[0][0]"
   ]
  },
  {
   "cell_type": "code",
   "execution_count": 104,
   "metadata": {},
   "outputs": [
    {
     "data": {
      "text/html": [
       "<div>\n",
       "<style scoped>\n",
       "    .dataframe tbody tr th:only-of-type {\n",
       "        vertical-align: middle;\n",
       "    }\n",
       "\n",
       "    .dataframe tbody tr th {\n",
       "        vertical-align: top;\n",
       "    }\n",
       "\n",
       "    .dataframe thead th {\n",
       "        text-align: right;\n",
       "    }\n",
       "</style>\n",
       "<table border=\"1\" class=\"dataframe\">\n",
       "  <thead>\n",
       "    <tr style=\"text-align: right;\">\n",
       "      <th></th>\n",
       "      <th>events</th>\n",
       "      <th>shap_vals</th>\n",
       "    </tr>\n",
       "  </thead>\n",
       "  <tbody>\n",
       "    <tr>\n",
       "      <th>0</th>\n",
       "      <td>hay_fever</td>\n",
       "      <td>0.363241</td>\n",
       "    </tr>\n",
       "    <tr>\n",
       "      <th>1</th>\n",
       "      <td>ACL_tear</td>\n",
       "      <td>0.003712</td>\n",
       "    </tr>\n",
       "    <tr>\n",
       "      <th>2</th>\n",
       "      <td>cut_finger</td>\n",
       "      <td>-0.058763</td>\n",
       "    </tr>\n",
       "    <tr>\n",
       "      <th>3</th>\n",
       "      <td>hay_fever</td>\n",
       "      <td>-0.018189</td>\n",
       "    </tr>\n",
       "    <tr>\n",
       "      <th>4</th>\n",
       "      <td>myopia</td>\n",
       "      <td>-0.000472</td>\n",
       "    </tr>\n",
       "    <tr>\n",
       "      <th>5</th>\n",
       "      <td>peanut_allergy</td>\n",
       "      <td>-0.006075</td>\n",
       "    </tr>\n",
       "    <tr>\n",
       "      <th>6</th>\n",
       "      <td>cut_finger</td>\n",
       "      <td>-0.011012</td>\n",
       "    </tr>\n",
       "    <tr>\n",
       "      <th>7</th>\n",
       "      <td>AMI</td>\n",
       "      <td>-0.006129</td>\n",
       "    </tr>\n",
       "    <tr>\n",
       "      <th>8</th>\n",
       "      <td>headache</td>\n",
       "      <td>-0.000996</td>\n",
       "    </tr>\n",
       "    <tr>\n",
       "      <th>9</th>\n",
       "      <td>quad_injury</td>\n",
       "      <td>0.000244</td>\n",
       "    </tr>\n",
       "    <tr>\n",
       "      <th>10</th>\n",
       "      <td>annual_physical</td>\n",
       "      <td>0.000435</td>\n",
       "    </tr>\n",
       "    <tr>\n",
       "      <th>11</th>\n",
       "      <td>foot_pain</td>\n",
       "      <td>-0.001025</td>\n",
       "    </tr>\n",
       "    <tr>\n",
       "      <th>12</th>\n",
       "      <td>annual_physical</td>\n",
       "      <td>0.000268</td>\n",
       "    </tr>\n",
       "    <tr>\n",
       "      <th>13</th>\n",
       "      <td>ACL_tear</td>\n",
       "      <td>0.000124</td>\n",
       "    </tr>\n",
       "    <tr>\n",
       "      <th>14</th>\n",
       "      <td>myopia</td>\n",
       "      <td>-0.000009</td>\n",
       "    </tr>\n",
       "    <tr>\n",
       "      <th>15</th>\n",
       "      <td>dental_exam</td>\n",
       "      <td>0.000087</td>\n",
       "    </tr>\n",
       "    <tr>\n",
       "      <th>16</th>\n",
       "      <td>dental_exam</td>\n",
       "      <td>0.000059</td>\n",
       "    </tr>\n",
       "    <tr>\n",
       "      <th>17</th>\n",
       "      <td>backache</td>\n",
       "      <td>-0.000198</td>\n",
       "    </tr>\n",
       "    <tr>\n",
       "      <th>18</th>\n",
       "      <td>&lt;pad&gt;</td>\n",
       "      <td>0.000000</td>\n",
       "    </tr>\n",
       "    <tr>\n",
       "      <th>19</th>\n",
       "      <td>&lt;pad&gt;</td>\n",
       "      <td>0.000000</td>\n",
       "    </tr>\n",
       "  </tbody>\n",
       "</table>\n",
       "</div>"
      ],
      "text/plain": [
       "             events  shap_vals\n",
       "0         hay_fever   0.363241\n",
       "1          ACL_tear   0.003712\n",
       "2        cut_finger  -0.058763\n",
       "3         hay_fever  -0.018189\n",
       "4            myopia  -0.000472\n",
       "5    peanut_allergy  -0.006075\n",
       "6        cut_finger  -0.011012\n",
       "7               AMI  -0.006129\n",
       "8          headache  -0.000996\n",
       "9       quad_injury   0.000244\n",
       "10  annual_physical   0.000435\n",
       "11        foot_pain  -0.001025\n",
       "12  annual_physical   0.000268\n",
       "13         ACL_tear   0.000124\n",
       "14           myopia  -0.000009\n",
       "15      dental_exam   0.000087\n",
       "16      dental_exam   0.000059\n",
       "17         backache  -0.000198\n",
       "18            <pad>   0.000000\n",
       "19            <pad>   0.000000"
      ]
     },
     "execution_count": 104,
     "metadata": {},
     "output_type": "execute_result"
    }
   ],
   "source": [
    "df"
   ]
  },
  {
   "cell_type": "code",
   "execution_count": null,
   "metadata": {},
   "outputs": [],
   "source": []
  },
  {
   "cell_type": "code",
   "execution_count": 97,
   "metadata": {},
   "outputs": [],
   "source": [
    "import seaborn as sns"
   ]
  },
  {
   "cell_type": "code",
   "execution_count": 115,
   "metadata": {},
   "outputs": [
    {
     "data": {
      "image/png": "[encoded data removed]",
      "text/plain": [
       "<Figure size 1440x720 with 1 Axes>"
      ]
     },
     "metadata": {
      "needs_background": "light"
     },
     "output_type": "display_data"
    }
   ],
   "source": [
    "plt.figure(figsize=(20, 10))\n",
    "ax = sns.barplot(x=df.index, y=df.shap_vals, orient='v')\n",
    "z = ax.set_xticklabels(df.events, rotation=90)"
   ]
  },
  {
   "cell_type": "code",
   "execution_count": null,
   "metadata": {},
   "outputs": [],
   "source": []
  },
  {
   "cell_type": "code",
   "execution_count": null,
   "metadata": {},
   "outputs": [],
   "source": []
  },
  {
   "cell_type": "code",
   "execution_count": null,
   "metadata": {},
   "outputs": [],
   "source": []
  },
  {
   "cell_type": "markdown",
   "metadata": {},
   "source": [
    "Scratchpad"
   ]
  },
  {
   "cell_type": "code",
   "execution_count": 53,
   "metadata": {},
   "outputs": [],
   "source": [
    "from collections import defaultdict, OrderedDict, Counter"
   ]
  },
  {
   "cell_type": "code",
   "execution_count": 73,
   "metadata": {},
   "outputs": [],
   "source": [
    "def create_word_score_ds(features_l, scores_l, model_name, explainer, labels=None):\n",
    "    ds = []\n",
    "    for review_idx, review in enumerate(features_l):    \n",
    "        if labels != None: # if combination is lstm x shap\n",
    "            d = defaultdict(lambda:[])\n",
    "            actual_label = labels[review_idx]\n",
    "            if actual_label == 0:\n",
    "                tmp = scores_l[review_idx][0]\n",
    "            else:\n",
    "                tmp = scores_l[review_idx][1]\n",
    "            for token_idx, token in enumerate(review):\n",
    "                try:\n",
    "                    d[token].append(abs(tmp[token_idx])) # append and take average\n",
    "                except:\n",
    "                    print(len(tmp))\n",
    "            d = get_average_shap(d) # take average\n",
    "            ds.append(d)\n",
    "        else:\n",
    "            d = {}\n",
    "            tmp = scores_l[review_idx]\n",
    "            for token_idx, token in enumerate(review):\n",
    "                d[str(token)] = abs(tmp[str(token_idx)]) # take absolute numbers\n",
    "            ds.append(d)\n",
    "    return ds"
   ]
  },
  {
   "cell_type": "code",
   "execution_count": null,
   "metadata": {},
   "outputs": [],
   "source": []
  },
  {
   "cell_type": "code",
   "execution_count": 74,
   "metadata": {},
   "outputs": [
    {
     "name": "stdout",
     "output_type": "stream",
     "text": [
      "20\n",
      "20\n",
      "20\n",
      "20\n",
      "20\n",
      "20\n",
      "20\n",
      "20\n",
      "20\n",
      "20\n",
      "20\n",
      "20\n"
     ]
    },
    {
     "ename": "NameError",
     "evalue": "name 'get_average_shap' is not defined",
     "output_type": "error",
     "traceback": [
      "\u001b[0;31m---------------------------------------------------------------------------\u001b[0m",
      "\u001b[0;31mNameError\u001b[0m                                 Traceback (most recent call last)",
      "\u001b[0;32m<ipython-input-74-988b423c33b9>\u001b[0m in \u001b[0;36m<module>\u001b[0;34m\u001b[0m\n\u001b[0;32m----> 1\u001b[0;31m \u001b[0mds\u001b[0m \u001b[0;34m=\u001b[0m \u001b[0mcreate_word_score_ds\u001b[0m\u001b[0;34m(\u001b[0m\u001b[0mtest_data\u001b[0m\u001b[0;34m[\u001b[0m\u001b[0;36m0\u001b[0m\u001b[0;34m,\u001b[0m \u001b[0;34m:\u001b[0m\u001b[0;36m20\u001b[0m\u001b[0;34m]\u001b[0m\u001b[0;34m,\u001b[0m \u001b[0mlstm_values\u001b[0m\u001b[0;34m,\u001b[0m \u001b[0;34m'lstm-shap'\u001b[0m\u001b[0;34m,\u001b[0m \u001b[0mexplainer\u001b[0m\u001b[0;34m,\u001b[0m \u001b[0mlabels\u001b[0m\u001b[0;34m=\u001b[0m\u001b[0;34m[\u001b[0m\u001b[0;36m0\u001b[0m\u001b[0;34m]\u001b[0m\u001b[0;34m)\u001b[0m\u001b[0;34m\u001b[0m\u001b[0;34m\u001b[0m\u001b[0m\n\u001b[0m",
      "\u001b[0;32m<ipython-input-73-3ad1844c1d62>\u001b[0m in \u001b[0;36mcreate_word_score_ds\u001b[0;34m(features_l, scores_l, model_name, explainer, labels)\u001b[0m\n\u001b[1;32m     14\u001b[0m                 \u001b[0;32mexcept\u001b[0m\u001b[0;34m:\u001b[0m\u001b[0;34m\u001b[0m\u001b[0;34m\u001b[0m\u001b[0m\n\u001b[1;32m     15\u001b[0m                     \u001b[0mprint\u001b[0m\u001b[0;34m(\u001b[0m\u001b[0mlen\u001b[0m\u001b[0;34m(\u001b[0m\u001b[0mtmp\u001b[0m\u001b[0;34m)\u001b[0m\u001b[0;34m)\u001b[0m\u001b[0;34m\u001b[0m\u001b[0;34m\u001b[0m\u001b[0m\n\u001b[0;32m---> 16\u001b[0;31m             \u001b[0md\u001b[0m \u001b[0;34m=\u001b[0m \u001b[0mget_average_shap\u001b[0m\u001b[0;34m(\u001b[0m\u001b[0md\u001b[0m\u001b[0;34m)\u001b[0m \u001b[0;31m# take average\u001b[0m\u001b[0;34m\u001b[0m\u001b[0;34m\u001b[0m\u001b[0m\n\u001b[0m\u001b[1;32m     17\u001b[0m             \u001b[0mds\u001b[0m\u001b[0;34m.\u001b[0m\u001b[0mappend\u001b[0m\u001b[0;34m(\u001b[0m\u001b[0md\u001b[0m\u001b[0;34m)\u001b[0m\u001b[0;34m\u001b[0m\u001b[0;34m\u001b[0m\u001b[0m\n\u001b[1;32m     18\u001b[0m         \u001b[0;32melse\u001b[0m\u001b[0;34m:\u001b[0m\u001b[0;34m\u001b[0m\u001b[0;34m\u001b[0m\u001b[0m\n",
      "\u001b[0;31mNameError\u001b[0m: name 'get_average_shap' is not defined"
     ]
    }
   ],
   "source": [
    "ds = create_word_score_ds(test_data[0, :20], lstm_values, 'lstm-shap', explainer, labels=[0])"
   ]
  },
  {
   "cell_type": "code",
   "execution_count": null,
   "metadata": {},
   "outputs": [],
   "source": []
  },
  {
   "cell_type": "code",
   "execution_count": null,
   "metadata": {},
   "outputs": [],
   "source": []
  },
  {
   "cell_type": "code",
   "execution_count": null,
   "metadata": {},
   "outputs": [],
   "source": []
  },
  {
   "cell_type": "code",
   "execution_count": 41,
   "metadata": {},
   "outputs": [
    {
     "data": {
      "text/plain": [
       "tensor([0])"
      ]
     },
     "execution_count": 41,
     "metadata": {},
     "output_type": "execute_result"
    }
   ],
   "source": [
    "test_labels[0]"
   ]
  },
  {
   "cell_type": "code",
   "execution_count": null,
   "metadata": {},
   "outputs": [],
   "source": []
  }
 ],
 "metadata": {
  "kernelspec": {
   "display_name": "conda_pytorch_p36",
   "language": "python",
   "name": "conda_pytorch_p36"
  },
  "language_info": {
   "codemirror_mode": {
    "name": "ipython",
    "version": 3
   },
   "file_extension": ".py",
   "mimetype": "text/x-python",
   "name": "python",
   "nbconvert_exporter": "python",
   "pygments_lexer": "ipython3",
   "version": "3.6.10"
  }
 },
 "nbformat": 4,
 "nbformat_minor": 4
}
