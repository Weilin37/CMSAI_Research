{
 "cells": [
  {
   "cell_type": "code",
   "execution_count": 1,
   "metadata": {},
   "outputs": [],
   "source": [
    "import os\n",
    "\n",
    "import torch\n",
    "import pandas as pd\n",
    "import numpy as np\n",
    "\n",
    "from collections import Counter"
   ]
  },
  {
   "cell_type": "markdown",
   "metadata": {},
   "source": [
    "## OPTIONS"
   ]
  },
  {
   "cell_type": "code",
   "execution_count": 2,
   "metadata": {},
   "outputs": [],
   "source": [
    "nrows = 1000\n",
    "min_freq = 1\n",
    "\n",
    "train_data_path = \"../../data/toy_dataset/data/train.csv\"\n",
    "valid_data_path = \"../../data/toy_dataset/data/test.csv\"\n",
    "\n",
    "model_save_path = './sample_model/simple_lstm_201215'\n",
    "results_save_path = \"./sample_results/simple_results_201215\"\n",
    "batch_size = 64\n",
    "n_epochs = 5\n",
    "\n",
    "embedding_dim = 8\n",
    "hidden_dim = 16\n",
    "bidirectional = True\n",
    "dropout = 0.3\n",
    "\n",
    "target_colname = 'label'\n",
    "uid_colname = 'patient_id'\n",
    "x_inputs = [str(x) for x in range(29, -1, -1)]\n",
    "target_value = '1'"
   ]
  },
  {
   "cell_type": "code",
   "execution_count": 3,
   "metadata": {},
   "outputs": [
    {
     "name": "stdout",
     "output_type": "stream",
     "text": [
      "Cuda available: True\n"
     ]
    }
   ],
   "source": [
    "for fp in [model_save_path, results_save_path]:\n",
    "    if not os.path.isdir(os.path.split(fp)[0]):\n",
    "        print(f'New directory created: {fp}')\n",
    "        os.makedirs(os.path.split(fp)[0])\n",
    "\n",
    "print(f\"Cuda available: {torch.cuda.is_available()}\")\n",
    "model_device = torch.device('cuda' if torch.cuda.is_available() else 'cpu')"
   ]
  },
  {
   "cell_type": "markdown",
   "metadata": {},
   "source": [
    "## Create Vocab\n",
    "\n",
    "equivalent to model.create_word_id_dict"
   ]
  },
  {
   "cell_type": "code",
   "execution_count": 4,
   "metadata": {},
   "outputs": [],
   "source": [
    "datapath = train_data_path\n",
    "rev = False"
   ]
  },
  {
   "cell_type": "code",
   "execution_count": 5,
   "metadata": {},
   "outputs": [],
   "source": [
    "def valid_token(t):\n",
    "    if len(t) == 0 or t.lower() == \"<pad>\":\n",
    "        return False\n",
    "    return True"
   ]
  },
  {
   "cell_type": "code",
   "execution_count": 6,
   "metadata": {},
   "outputs": [],
   "source": [
    "token_list = []\n",
    "with open(datapath, \"r\") as f:\n",
    "    # determine column mapping\n",
    "    header = f.readline()\n",
    "    header = [h.replace(\" \", \"\").replace(\"\\n\", \"\") for h in header.split(\",\")]\n",
    "\n",
    "    target_index = header.index(target_colname)\n",
    "\n",
    "    uid_index = header.index(uid_colname)\n",
    "\n",
    "    x_idxes = []\n",
    "    for colname in x_inputs:\n",
    "        x_idxes.append(header.index(colname))\n",
    "\n",
    "    # start processing \n",
    "    line = f.readline()\n",
    "    invalid_uid = 0\n",
    "    deaths = 0\n",
    "    while line:\n",
    "        if 'death' in line:\n",
    "            deaths += 1\n",
    "            pass\n",
    "\n",
    "        tokens = line.split(\",\")\n",
    "\n",
    "        if len(tokens[uid_index]) == 0:\n",
    "            invalid_uid += 1 # some UIDS are missing\n",
    "            pass\n",
    "        else:\n",
    "            uid = tokens[uid_index].replace('\\n', '')\n",
    "\n",
    "        ## CHANGE: integer\n",
    "        if isinstance(tokens[target_index], str):\n",
    "            label = 1 if tokens[target_index].startswith(target_value) else 0\n",
    "        \n",
    "        if isinstance(tokens[target_index], int):\n",
    "            label = tokens[target_index]\n",
    "\n",
    "        tokens = [tokens[idx] for idx in x_idxes]\n",
    "        tokens = [t.strip().replace('\\n', '') for t in tokens if valid_token(t)]\n",
    "\n",
    "        if rev:\n",
    "            tokens = tokens[::-1]\n",
    "\n",
    "        token_list.append((uid, label, tokens))\n",
    "\n",
    "        line = f.readline()\n",
    "\n",
    "        if len(token_list) == nrows:\n",
    "            break"
   ]
  },
  {
   "cell_type": "markdown",
   "metadata": {},
   "source": [
    "Define vocabulary without torchtext"
   ]
  },
  {
   "cell_type": "code",
   "execution_count": 53,
   "metadata": {},
   "outputs": [],
   "source": [
    "vocab = {}\n",
    "vocab['<pad>'] = 0\n",
    "vocab['<unk>'] = 1\n",
    "\n",
    "rev_vocab = {}\n",
    "rev_vocab[0] = '<pad>'\n",
    "rev_vocab[1] = '<unk>'\n",
    "\n",
    "counter = Counter()\n",
    "for uid, label, tokens in token_list:\n",
    "    for token in tokens:\n",
    "        counter[token] += 1\n",
    "\n",
    "for token in counter:\n",
    "    if counter[token] < min_freq:\n",
    "        continue\n",
    "        \n",
    "    idx = len(vocab)\n",
    "    vocab[token] = idx\n",
    "    rev_vocab[idx] = token\n",
    "    \n",
    "class Vocab:\n",
    "    def __init__(self, vocab, rev_vocab):\n",
    "        self._vocab = vocab\n",
    "        self._rev_vocab = rev_vocab\n",
    "        self._unk_idx = vocab['<unk>']\n",
    "        self._pad_idx = vocab['<pad>']\n",
    "    \n",
    "    def __len__(self):\n",
    "        return len(self._vocab)\n",
    "    \n",
    "    def stoi(self, token):\n",
    "        if token in self._vocab:\n",
    "            return self._vocab[token]\n",
    "        return self._vocab['<unk>']\n",
    "    \n",
    "    def itos(self, idx):\n",
    "        import pdb; pdb.set_trace()\n",
    "        if idx in self._rev_vocab:\n",
    "            return self._rev_vocab[idx]\n",
    "        return self._unk_idx\n",
    "    "
   ]
  },
  {
   "cell_type": "code",
   "execution_count": 54,
   "metadata": {},
   "outputs": [],
   "source": [
    "vocab_class = Vocab(vocab, rev_vocab)"
   ]
  },
  {
   "cell_type": "markdown",
   "metadata": {},
   "source": [
    "**Create dataset and dataloader**"
   ]
  },
  {
   "cell_type": "code",
   "execution_count": 55,
   "metadata": {},
   "outputs": [],
   "source": [
    "data = [\n",
    "    (pid, [label], [vocab_class.stoi(t) for t in tokens])\n",
    "    for pid, label, tokens in token_list\n",
    "]"
   ]
  },
  {
   "cell_type": "code",
   "execution_count": 56,
   "metadata": {},
   "outputs": [],
   "source": [
    "from torch.utils.data import Dataset, DataLoader"
   ]
  },
  {
   "cell_type": "code",
   "execution_count": 57,
   "metadata": {},
   "outputs": [],
   "source": [
    "class ToyDataset(Dataset):\n",
    "    '''\n",
    "    Similar to transformer's, adapted to this dataset with Marc's line by line reading output\n",
    "    '''\n",
    "    \n",
    "    def __init__(self, data, max_len=35, pad_idx=0):\n",
    "        self.data = data\n",
    "        self.max_len = max_len\n",
    "        self.pad_idx = pad_idx\n",
    "        \n",
    "    def __len__(self):\n",
    "        return len(self.data)\n",
    "    \n",
    "    def __getitem__(self, idx):\n",
    "        if torch.is_tensor(idx):\n",
    "            idx = idx.tolist()\n",
    "            \n",
    "        idx_lst = data[idx][2]\n",
    "        if len(idx_lst) > self.max_len:\n",
    "            idx_lst = idx_lst[:self.max_len]\n",
    "        idx_lst = idx_lst + [self.pad_idx] * (self.max_len - len(idx_lst))\n",
    "            \n",
    "        return (\n",
    "            data[idx][0],\n",
    "            torch.tensor(data[idx][1]),\n",
    "            torch.tensor(idx_lst) \n",
    "        )\n",
    "    \n",
    "    "
   ]
  },
  {
   "cell_type": "code",
   "execution_count": 58,
   "metadata": {},
   "outputs": [],
   "source": [
    "toy_dataset = ToyDataset(data, max_len=30)"
   ]
  },
  {
   "cell_type": "code",
   "execution_count": 59,
   "metadata": {},
   "outputs": [],
   "source": [
    "train_dataloader = DataLoader(\n",
    "    toy_dataset,\n",
    "    batch_size=batch_size,\n",
    "    shuffle=False,\n",
    "    num_workers=2\n",
    ")"
   ]
  },
  {
   "cell_type": "markdown",
   "metadata": {},
   "source": [
    "## Model definition"
   ]
  },
  {
   "cell_type": "code",
   "execution_count": 60,
   "metadata": {},
   "outputs": [],
   "source": [
    "import torch\n",
    "import torch.nn as nn"
   ]
  },
  {
   "cell_type": "code",
   "execution_count": 61,
   "metadata": {},
   "outputs": [],
   "source": [
    "class SimpleLSTM(nn.Module):\n",
    "    def __init__(self, emb_dim, hidden_dim, vocab, device, nlayers=1, bidi=True, use_gpu=True,\n",
    "                 pad_idx=0):\n",
    "        super(SimpleLSTM, self).__init__()\n",
    "        \n",
    "        self.device = device\n",
    "        self.use_gpu = use_gpu\n",
    "        \n",
    "        self.emb_dim = emb_dim\n",
    "        self.input_dim = len(vocab)\n",
    "        self.vocab = vocab\n",
    "        self.pad_idx = pad_idx\n",
    "        self.emb_layer = nn.Embedding(self.input_dim, emb_dim, padding_idx=pad_idx)\n",
    "        \n",
    "        self.hidden_dim = hidden_dim\n",
    "        self.bidi = bidi\n",
    "        self.nlayers = nlayers\n",
    "        self.lstm = nn.LSTM(input_size=emb_dim,\n",
    "                            hidden_size=hidden_dim,\n",
    "                            num_layers=nlayers,\n",
    "                            bidirectional=bidi,\n",
    "                            batch_first=True)\n",
    "        \n",
    "        self.pred_layer = nn.Linear(hidden_dim * 2, 2) if bidi else nn.Linear(hidden_dim, 2)\n",
    "        \n",
    "        self.init_weights()\n",
    "        \n",
    "    def init_weights(self):\n",
    "        initrange = 0.3\n",
    "        self.emb_layer.weight.data.uniform_(-initrange, initrange) \n",
    "        \n",
    "        self.pred_layer.weight.data.uniform_(-initrange, initrange)\n",
    "        self.pred_layer.bias.data.zero_()   \n",
    "        \n",
    "    def init_hidden(self, batch_size):\n",
    "        count = self.nlayers * 2 if self.bidi else self.nlayers\n",
    "        \n",
    "        weight = next(self.parameters())\n",
    "        \n",
    "        directionality = 2 if self.bidi else 1\n",
    "        weights = (\n",
    "            weight.new_zeros(count * directionality, batch_size, self.hidden_dim),\n",
    "            weight.new_zeros(count * directionality, batch_size, self.hidden_dim)\n",
    "        )\n",
    "        \n",
    "        if self.use_gpu:\n",
    "            return (weights[0].cuda(), weights[1].cuda())\n",
    "        \n",
    "        return weights\n",
    "        \n",
    "    def repackage_hidden(h):\n",
    "        \"\"\"\n",
    "        Wraps hidden states in new Tensors, to detach them from their history.\n",
    "        Needed to prevent RNN+Attention backpropagating between batches.\n",
    "        \"\"\"\n",
    "        if isinstance(h, torch.Tensor):\n",
    "            return h.detach()\n",
    "        \n",
    "        if isinstance(h, tuple):\n",
    "            return (v.detach() for v in h)\n",
    "    \n",
    "        \n",
    "    def forward(self, tokens):\n",
    "        embedded = self.emb_layer(tokens)\n",
    "        \n",
    "        hidden = self.init_hidden(tokens.shape[0])\n",
    "        hidden = self.repackage_hidden()\n",
    "        \n",
    "        text_lengths = torch.sum(tokens != self.pad_idx, dim=1)\n",
    "        \n",
    "        packed_embedded = nn.utils.rnn.pack_padded_sequence(\n",
    "            embedded, text_lengths, enforce_sorted=False, batch_first=True)\n",
    "        \n",
    "        packed_output, (hidden, cell) = self.lstm(packed_embedded, hidden)\n",
    "        \n",
    "        output, output_lengths = nn.utils.rnn.pad_packed_sequence(packed_output)\n",
    "        output = output.permute(1, 0, 2) # [batch, text_length, hidden_dim]\n",
    "        \n",
    "        if self.bidi:\n",
    "            out = torch.cat([output[:, -1, :self.hidden_dim], output[:, 0, self.hidden_dim:]],\n",
    "                           dim=1)\n",
    "        else:\n",
    "            out = output[:, -1, :]\n",
    "        \n",
    "        pred = self.pred_layer(out)\n",
    "        \n",
    "        return pred\n",
    "    \n",
    "    def save_model(self, filepath):\n",
    "        if not os.path.isdir(os.path.split(filepath)[0]):\n",
    "            os.makedirs(os.path.split(filepath)[0])\n",
    "        torch.save({self.state_dict()}, filepath)\n",
    "                   \n",
    "    def load_model(self, filename):\n",
    "        self.load_state_dict(torch.load(filename))\n",
    "        \n",
    "    def get_ids_masks(self, token_list, padding_length):\n",
    "        '''Only enabled for one example at a time'''\n",
    "        ids, masks = np.zeros((padding_length, len(self.vocab))), [0] * padding_length\n",
    "        \n",
    "        for (i, idx_token) in enumerate(token_list):\n",
    "            if i >= padding_length or idx_token == self.pad_idx:\n",
    "                break\n",
    "            ids[i, idx_token] = 1\n",
    "            masks[i] = 1\n",
    "\n",
    "        return torch.FloatTensor(ids), masks\n",
    "    \n",
    "    def get_all_ids_masks(self, data, padding_length):\n",
    "        ids,  masks = [], []\n",
    "        for obs in data:\n",
    "            id_vals, mask_vals = self.get_ids_masks(obs, padding_length)\n",
    "            ids.append(id_vals)\n",
    "            masks.append(mask_vals)\n",
    "            \n",
    "        return torch.stack(ids), masks\n",
    "    \n",
    "    def forward_shap(self, token_ids, mask, full_id_matrix=False):\n",
    "        '''Only enabled for one example at a time'''\n",
    "        token_ids = token_ids if token_ids.is_cuda else token_ids.cuda()\n",
    "        \n",
    "        hidden = self.init_hidden(1)\n",
    "        hidden = self.repackage_hidden()\n",
    "        \n",
    "        emb = torch.matmul(token_ids, self.emb_layer.weight).unsqueeze(0)\n",
    "        \n",
    "        out, _ = self.lstm(emb, hidden)\n",
    "        \n",
    "        return self.pred_layer(out).squeeze(0)\n",
    "\n",
    "    \n"
   ]
  },
  {
   "cell_type": "code",
   "execution_count": 62,
   "metadata": {},
   "outputs": [],
   "source": [
    "model = SimpleLSTM(embedding_dim, hidden_dim, vocab_class, model_device)\n",
    "model = model.cuda()"
   ]
  },
  {
   "cell_type": "code",
   "execution_count": 63,
   "metadata": {},
   "outputs": [
    {
     "data": {
      "text/plain": [
       "SimpleLSTM(\n",
       "  (emb_layer): Embedding(32, 8, padding_idx=0)\n",
       "  (lstm): LSTM(8, 16, batch_first=True, bidirectional=True)\n",
       "  (pred_layer): Linear(in_features=32, out_features=2, bias=True)\n",
       ")"
      ]
     },
     "execution_count": 63,
     "metadata": {},
     "output_type": "execute_result"
    }
   ],
   "source": [
    "model"
   ]
  },
  {
   "cell_type": "markdown",
   "metadata": {},
   "source": [
    "## Training loop"
   ]
  },
  {
   "cell_type": "code",
   "execution_count": 64,
   "metadata": {},
   "outputs": [],
   "source": [
    "def epoch_train_lstm(\n",
    "    model,\n",
    "    dataloader,\n",
    "    optimizer,\n",
    "    criterion,\n",
    "    test=0\n",
    "):\n",
    "    \"\"\"\n",
    "    Train model for an epoch, called by ModelProcess function\n",
    "    detach_hidden is used to detach hidden state between batches,\n",
    "    and will add a new hidden state to model. Model must have .init_hidden function defined\n",
    "    \n",
    "    Args:\n",
    "    -----\n",
    "        model (nn.Module): lstm general attention model\n",
    "        dataloader : iterator for dataset, yields (ids, sequence, seq length, labels)\n",
    "        criterion : loss function\n",
    "        batch_size : int default 0\n",
    "                     used when detach_hidden is enabled\n",
    "                     to create the correct hidden sizes during initialization\n",
    "        \n",
    "    Returns:\n",
    "    ----------\n",
    "        tuple containing:\n",
    "            average loss for whole epoch,\n",
    "            average AUC for whole epoch\n",
    "    \"\"\"\n",
    "    import copy\n",
    "    from sklearn.metrics import roc_auc_score\n",
    "           \n",
    "    epoch_loss = 0\n",
    "    epoch_metric = 0\n",
    "\n",
    "    model.train()\n",
    "\n",
    "    # initialize lists to compare predictions & ground truth labels for metric calculation\n",
    "    order_labels = []\n",
    "    prediction_scores = []\n",
    "    if test: # test function on small number of batches\n",
    "        counter = 0\n",
    "        \n",
    "    for idx, (ids, labels, idxed_text) in enumerate(dataloader):\n",
    "        \n",
    "        optimizer.zero_grad()\n",
    "          \n",
    "        labels = labels.type(torch.long)\n",
    "        idxed_text, labels = idxed_text.cuda(), labels.cuda()\n",
    "\n",
    "        predictions = model(idxed_text)        \n",
    "        #predictions = model(text, text_lengths).squeeze(1)\n",
    "        \n",
    "        \n",
    "        loss = criterion(predictions, labels.squeeze(1))\n",
    "        loss.backward()\n",
    "        optimizer.step()\n",
    "\n",
    "        # prevent internal pytorch timeout due to too many file opens by multiprocessing\n",
    "        copied_labels = copy.deepcopy(labels.detach().cpu().numpy())\n",
    "        del labels\n",
    "        order_labels.extend(copied_labels)\n",
    "        \n",
    "        copied_preds = copy.deepcopy(predictions.detach().cpu().numpy())\n",
    "        del predictions\n",
    "        prediction_scores.extend(copied_preds)\n",
    "        \n",
    "        epoch_loss += loss.item()        \n",
    "    \n",
    "        if test:\n",
    "            if counter >= test:\n",
    "                break\n",
    "            counter += 1\n",
    "    \n",
    "    epoch_metric = roc_auc_score(order_labels, torch.sigmoid(torch.Tensor(prediction_scores)[:, 1]))\n",
    "        \n",
    "    return epoch_loss / len(dataloader), epoch_metric"
   ]
  },
  {
   "cell_type": "code",
   "execution_count": 65,
   "metadata": {},
   "outputs": [],
   "source": [
    "loss_function = nn.CrossEntropyLoss()\n",
    "optimizer = torch.optim.Adam(model.parameters(), lr=0.05)"
   ]
  },
  {
   "cell_type": "code",
   "execution_count": 66,
   "metadata": {},
   "outputs": [],
   "source": [
    "import time"
   ]
  },
  {
   "cell_type": "code",
   "execution_count": 67,
   "metadata": {},
   "outputs": [
    {
     "name": "stdout",
     "output_type": "stream",
     "text": [
      "Train Loss: 0.697 | Train AUC: 0.53\n",
      "Train Loss: 0.590 | Train AUC: 0.75\n",
      "Train Loss: 0.385 | Train AUC: 0.88\n",
      "Train Loss: 0.348 | Train AUC: 0.89\n",
      "Train Loss: 0.331 | Train AUC: 0.90\n"
     ]
    }
   ],
   "source": [
    "#best_valid_loss = float(\"inf\")\n",
    "#valid_worse_loss = 0  # enable early stopping\n",
    "#stop_num = 6\n",
    "\n",
    "for epoch in range(n_epochs):\n",
    "\n",
    "    start_time = time.time()\n",
    "\n",
    "    train_loss, train_auc = epoch_train_lstm(\n",
    "        model, train_dataloader, optimizer, loss_function\n",
    "    )\n",
    "\n",
    "    #valid_loss, valid_auc = epoch_val_lstm(\n",
    "    #    model, valid_dataloader, criterion, return_preds=False\n",
    "    #)\n",
    "\n",
    "    end_time = time.time()\n",
    "\n",
    "    #epoch_mins, epoch_secs = epoch_time(start_time, end_time)\n",
    "    \n",
    "    #print(f\"Epoch: {epoch+1:02} | Epoch Time: {epoch_mins}m {epoch_secs}s\")\n",
    "\n",
    "    '''\n",
    "    if valid_loss < best_valid_loss:\n",
    "        best_valid_loss = valid_loss\n",
    "        torch.save(model.state_dict(), model_save_path)\n",
    "        print(\"Saved Model, epoch {}\".format(epoch))\n",
    "        valid_worse_loss = 0\n",
    "\n",
    "    else:\n",
    "        valid_worse_loss += 1\n",
    "        if valid_worse_loss == stop_num:\n",
    "            print(\"EARLY STOP ------\")\n",
    "            break\n",
    "\n",
    "    scheduler.step()\n",
    "    log(\n",
    "        f\"Train Loss: {train_loss:.3f} | Train AUC: {train_auc:.2f} \\t Val. Loss: {valid_loss:.3f} |  Val. AUC: {valid_auc:.4f}\"\n",
    "    )'''\n",
    "    \n",
    "    print(\n",
    "        f\"Train Loss: {train_loss:.3f} | Train AUC: {train_auc:.2f}\"\n",
    "    )"
   ]
  },
  {
   "cell_type": "markdown",
   "metadata": {},
   "source": [
    "## GEt SHAP values"
   ]
  },
  {
   "cell_type": "code",
   "execution_count": 68,
   "metadata": {},
   "outputs": [],
   "source": [
    "import deep_id_pytorch"
   ]
  },
  {
   "cell_type": "code",
   "execution_count": 69,
   "metadata": {},
   "outputs": [],
   "source": [
    "background = next(iter(train_dataloader))\n",
    "background_ids, background_labels, background_idxes = background"
   ]
  },
  {
   "cell_type": "code",
   "execution_count": 70,
   "metadata": {},
   "outputs": [
    {
     "data": {
      "text/plain": [
       "torch.Size([64, 30])"
      ]
     },
     "execution_count": 70,
     "metadata": {},
     "output_type": "execute_result"
    }
   ],
   "source": [
    "background_idxes.shape"
   ]
  },
  {
   "cell_type": "code",
   "execution_count": 71,
   "metadata": {},
   "outputs": [],
   "source": [
    "bg_data, bg_masks = model.get_all_ids_masks(background_idxes, 20)"
   ]
  },
  {
   "cell_type": "code",
   "execution_count": 72,
   "metadata": {},
   "outputs": [
    {
     "data": {
      "text/plain": [
       "torch.Size([64, 20, 32])"
      ]
     },
     "execution_count": 72,
     "metadata": {},
     "output_type": "execute_result"
    }
   ],
   "source": [
    "bg_data.shape"
   ]
  },
  {
   "cell_type": "code",
   "execution_count": 73,
   "metadata": {},
   "outputs": [
    {
     "name": "stderr",
     "output_type": "stream",
     "text": [
      "64it [00:00, 898.08it/s]\n"
     ]
    }
   ],
   "source": [
    "explainer = deep_id_pytorch.CustomPyTorchDeepIDExplainer(model, bg_data, bg_masks,\n",
    "                                                         gpu_memory_efficient=True)"
   ]
  },
  {
   "cell_type": "code",
   "execution_count": 74,
   "metadata": {},
   "outputs": [],
   "source": [
    "model.train() # in case that shap complains that autograd cannot be called\n",
    "lstm_values = []\n",
    "features = []\n",
    "start = 0"
   ]
  },
  {
   "cell_type": "code",
   "execution_count": 75,
   "metadata": {},
   "outputs": [],
   "source": [
    "test = list(train_dataloader)[3]\n",
    "test_ids, test_labels, test_idxes = test"
   ]
  },
  {
   "cell_type": "code",
   "execution_count": 76,
   "metadata": {},
   "outputs": [
    {
     "data": {
      "text/plain": [
       "tensor([ 7, 13,  2, 14,  7,  9,  9,  8, 23,  2,  5,  2,  4,  8, 11,  6,  0,  0,\n",
       "         0,  0,  0,  0,  0,  0,  0,  0,  0,  0,  0,  0])"
      ]
     },
     "execution_count": 76,
     "metadata": {},
     "output_type": "execute_result"
    }
   ],
   "source": [
    "test_idxes[0]"
   ]
  },
  {
   "cell_type": "code",
   "execution_count": 77,
   "metadata": {},
   "outputs": [],
   "source": [
    "test_data, test_masks = model.get_all_ids_masks(test_idxes, 20)"
   ]
  },
  {
   "cell_type": "code",
   "execution_count": 78,
   "metadata": {},
   "outputs": [
    {
     "data": {
      "text/plain": [
       "torch.Size([20, 32])"
      ]
     },
     "execution_count": 78,
     "metadata": {},
     "output_type": "execute_result"
    }
   ],
   "source": [
    "test_data[0].shape"
   ]
  },
  {
   "cell_type": "code",
   "execution_count": 79,
   "metadata": {},
   "outputs": [
    {
     "data": {
      "text/plain": [
       "20"
      ]
     },
     "execution_count": 79,
     "metadata": {},
     "output_type": "execute_result"
    }
   ],
   "source": [
    "len(test_masks[0])"
   ]
  },
  {
   "cell_type": "code",
   "execution_count": 80,
   "metadata": {},
   "outputs": [
    {
     "name": "stderr",
     "output_type": "stream",
     "text": [
      "128it [00:00, 340.06it/s]\n",
      "128it [00:00, 341.56it/s]\n"
     ]
    }
   ],
   "source": [
    "lstm_shap_values = explainer.shap_values(test_data[0].unsqueeze(0), test_masks[0])"
   ]
  },
  {
   "cell_type": "code",
   "execution_count": 81,
   "metadata": {},
   "outputs": [],
   "source": [
    "class_token_values = [[] for _ in lstm_shap_values]"
   ]
  },
  {
   "cell_type": "code",
   "execution_count": 82,
   "metadata": {},
   "outputs": [
    {
     "data": {
      "text/plain": [
       "[]"
      ]
     },
     "execution_count": 82,
     "metadata": {},
     "output_type": "execute_result"
    }
   ],
   "source": [
    "features"
   ]
  },
  {
   "cell_type": "code",
   "execution_count": 83,
   "metadata": {},
   "outputs": [],
   "source": [
    "for (i, w) in enumerate(test_idxes[0, :20]):\n",
    "    for c in range(len(lstm_shap_values)):\n",
    "        class_token_values[c].append(lstm_shap_values[c][0, i, w])\n",
    "lstm_values.append(class_token_values)\n",
    "features.append(tokens)"
   ]
  },
  {
   "cell_type": "code",
   "execution_count": 84,
   "metadata": {},
   "outputs": [
    {
     "data": {
      "text/plain": [
       "['ACL_tear',\n",
       " 'annual_physical',\n",
       " 'dental_exam',\n",
       " 'pneumonia',\n",
       " 'cut_finger',\n",
       " 'quad_injury',\n",
       " 'pneumonia',\n",
       " 'tachycardia']"
      ]
     },
     "execution_count": 84,
     "metadata": {},
     "output_type": "execute_result"
    }
   ],
   "source": [
    "tokens"
   ]
  },
  {
   "cell_type": "code",
   "execution_count": 85,
   "metadata": {},
   "outputs": [
    {
     "data": {
      "text/plain": [
       "[[[-0.07225546985864639,\n",
       "   -0.048870597034692764,\n",
       "   -0.018099406734108925,\n",
       "   0.004076776094734669,\n",
       "   -0.0012096622958779335,\n",
       "   -0.00021519153960980475,\n",
       "   -0.00014574764645658433,\n",
       "   0.0010153509210795164,\n",
       "   -0.0004522656090557575,\n",
       "   -0.00018869903578888625,\n",
       "   -2.4506034606019966e-05,\n",
       "   -0.00021267430565785617,\n",
       "   -5.0548424042062834e-05,\n",
       "   3.373828803887591e-05,\n",
       "   5.5373009672621265e-05,\n",
       "   3.691090387292206e-05,\n",
       "   0.0,\n",
       "   0.0,\n",
       "   0.0,\n",
       "   0.0],\n",
       "  [0.08759714663028717,\n",
       "   0.038494281470775604,\n",
       "   0.0037081821355968714,\n",
       "   -0.002081891754642129,\n",
       "   0.0006226807599887252,\n",
       "   0.0003460315056145191,\n",
       "   0.00019495688320603222,\n",
       "   -0.0007523530512116849,\n",
       "   0.0002464171848259866,\n",
       "   8.289067773148417e-05,\n",
       "   0.00012281890667509288,\n",
       "   0.00011009346781065688,\n",
       "   9.581582708051428e-05,\n",
       "   -1.842790334194433e-05,\n",
       "   -0.00026292994152754545,\n",
       "   -9.101643627218436e-06,\n",
       "   0.0,\n",
       "   0.0,\n",
       "   0.0,\n",
       "   0.0]]]"
      ]
     },
     "execution_count": 85,
     "metadata": {},
     "output_type": "execute_result"
    }
   ],
   "source": [
    "lstm_values"
   ]
  },
  {
   "cell_type": "code",
   "execution_count": 86,
   "metadata": {},
   "outputs": [
    {
     "data": {
      "text/plain": [
       "(1, 2, 20)"
      ]
     },
     "execution_count": 86,
     "metadata": {},
     "output_type": "execute_result"
    }
   ],
   "source": [
    "np.array(lstm_values).shape"
   ]
  },
  {
   "cell_type": "code",
   "execution_count": 87,
   "metadata": {},
   "outputs": [],
   "source": [
    "import matplotlib.pyplot as plt"
   ]
  },
  {
   "cell_type": "code",
   "execution_count": 88,
   "metadata": {},
   "outputs": [
    {
     "data": {
      "text/plain": [
       "<matplotlib.collections.PathCollection at 0x7f6b409270b8>"
      ]
     },
     "execution_count": 88,
     "metadata": {},
     "output_type": "execute_result"
    },
    {
     "data": {
      "image/png": "[encoded data removed]",
      "text/plain": [
       "<Figure size 432x288 with 1 Axes>"
      ]
     },
     "metadata": {
      "needs_background": "light"
     },
     "output_type": "display_data"
    }
   ],
   "source": [
    "plt.scatter(lstm_values[0][0], lstm_values[0][1])"
   ]
  },
  {
   "cell_type": "code",
   "execution_count": 89,
   "metadata": {},
   "outputs": [
    {
     "data": {
      "text/plain": [
       "tensor([ 7, 13,  2, 14,  7,  9,  9,  8, 23,  2,  5,  2,  4,  8, 11,  6,  0,  0,\n",
       "         0,  0])"
      ]
     },
     "execution_count": 89,
     "metadata": {},
     "output_type": "execute_result"
    }
   ],
   "source": [
    "idx_seq = test_idxes[0, :20]\n",
    "idx_seq"
   ]
  },
  {
   "cell_type": "code",
   "execution_count": 90,
   "metadata": {},
   "outputs": [
    {
     "name": "stdout",
     "output_type": "stream",
     "text": [
      "> <ipython-input-53-fe720af16fff>(39)itos()\n",
      "-> if idx in self._rev_vocab:\n"
     ]
    },
    {
     "name": "stdin",
     "output_type": "stream",
     "text": [
      "(Pdb)  idx\n"
     ]
    },
    {
     "name": "stdout",
     "output_type": "stream",
     "text": [
      "7\n"
     ]
    },
    {
     "name": "stdin",
     "output_type": "stream",
     "text": [
      "(Pdb)  type(idx)\n"
     ]
    },
    {
     "name": "stdout",
     "output_type": "stream",
     "text": [
      "<class 'numpy.int64'>\n"
     ]
    },
    {
     "name": "stdin",
     "output_type": "stream",
     "text": [
      "(Pdb)  n\n"
     ]
    },
    {
     "name": "stdout",
     "output_type": "stream",
     "text": [
      "> <ipython-input-53-fe720af16fff>(40)itos()\n",
      "-> return self._rev_vocab[idx]\n"
     ]
    },
    {
     "name": "stdin",
     "output_type": "stream",
     "text": [
      "(Pdb)  self._rev_vocab[idx]\n"
     ]
    },
    {
     "name": "stdout",
     "output_type": "stream",
     "text": [
      "'ingrown_nail'\n"
     ]
    },
    {
     "name": "stdin",
     "output_type": "stream",
     "text": [
      "(Pdb)  q\n"
     ]
    },
    {
     "ename": "BdbQuit",
     "evalue": "",
     "output_type": "error",
     "traceback": [
      "\u001b[0;31m---------------------------------------------------------------------------\u001b[0m",
      "\u001b[0;31mBdbQuit\u001b[0m                                   Traceback (most recent call last)",
      "\u001b[0;32m<ipython-input-90-2cef65960510>\u001b[0m in \u001b[0;36m<module>\u001b[0;34m\u001b[0m\n\u001b[0;32m----> 1\u001b[0;31m \u001b[0mevents\u001b[0m \u001b[0;34m=\u001b[0m \u001b[0;34m[\u001b[0m\u001b[0mmodel\u001b[0m\u001b[0;34m.\u001b[0m\u001b[0mvocab\u001b[0m\u001b[0;34m.\u001b[0m\u001b[0mitos\u001b[0m\u001b[0;34m(\u001b[0m\u001b[0mx\u001b[0m\u001b[0;34m)\u001b[0m \u001b[0;32mfor\u001b[0m \u001b[0mx\u001b[0m \u001b[0;32min\u001b[0m \u001b[0midx_seq\u001b[0m\u001b[0;34m.\u001b[0m\u001b[0mnumpy\u001b[0m\u001b[0;34m(\u001b[0m\u001b[0;34m)\u001b[0m\u001b[0;34m]\u001b[0m\u001b[0;34m\u001b[0m\u001b[0;34m\u001b[0m\u001b[0m\n\u001b[0m\u001b[1;32m      2\u001b[0m \u001b[0mprint\u001b[0m\u001b[0;34m(\u001b[0m\u001b[0mevents\u001b[0m\u001b[0;34m)\u001b[0m\u001b[0;34m\u001b[0m\u001b[0;34m\u001b[0m\u001b[0m\n",
      "\u001b[0;32m<ipython-input-90-2cef65960510>\u001b[0m in \u001b[0;36m<listcomp>\u001b[0;34m(.0)\u001b[0m\n\u001b[0;32m----> 1\u001b[0;31m \u001b[0mevents\u001b[0m \u001b[0;34m=\u001b[0m \u001b[0;34m[\u001b[0m\u001b[0mmodel\u001b[0m\u001b[0;34m.\u001b[0m\u001b[0mvocab\u001b[0m\u001b[0;34m.\u001b[0m\u001b[0mitos\u001b[0m\u001b[0;34m(\u001b[0m\u001b[0mx\u001b[0m\u001b[0;34m)\u001b[0m \u001b[0;32mfor\u001b[0m \u001b[0mx\u001b[0m \u001b[0;32min\u001b[0m \u001b[0midx_seq\u001b[0m\u001b[0;34m.\u001b[0m\u001b[0mnumpy\u001b[0m\u001b[0;34m(\u001b[0m\u001b[0;34m)\u001b[0m\u001b[0;34m]\u001b[0m\u001b[0;34m\u001b[0m\u001b[0;34m\u001b[0m\u001b[0m\n\u001b[0m\u001b[1;32m      2\u001b[0m \u001b[0mprint\u001b[0m\u001b[0;34m(\u001b[0m\u001b[0mevents\u001b[0m\u001b[0;34m)\u001b[0m\u001b[0;34m\u001b[0m\u001b[0;34m\u001b[0m\u001b[0m\n",
      "\u001b[0;32m<ipython-input-53-fe720af16fff>\u001b[0m in \u001b[0;36mitos\u001b[0;34m(self, idx)\u001b[0m\n\u001b[1;32m     38\u001b[0m         \u001b[0;32mimport\u001b[0m \u001b[0mpdb\u001b[0m\u001b[0;34m;\u001b[0m \u001b[0mpdb\u001b[0m\u001b[0;34m.\u001b[0m\u001b[0mset_trace\u001b[0m\u001b[0;34m(\u001b[0m\u001b[0;34m)\u001b[0m\u001b[0;34m\u001b[0m\u001b[0;34m\u001b[0m\u001b[0m\n\u001b[1;32m     39\u001b[0m         \u001b[0;32mif\u001b[0m \u001b[0midx\u001b[0m \u001b[0;32min\u001b[0m \u001b[0mself\u001b[0m\u001b[0;34m.\u001b[0m\u001b[0m_rev_vocab\u001b[0m\u001b[0;34m:\u001b[0m\u001b[0;34m\u001b[0m\u001b[0;34m\u001b[0m\u001b[0m\n\u001b[0;32m---> 40\u001b[0;31m             \u001b[0;32mreturn\u001b[0m \u001b[0mself\u001b[0m\u001b[0;34m.\u001b[0m\u001b[0m_rev_vocab\u001b[0m\u001b[0;34m[\u001b[0m\u001b[0midx\u001b[0m\u001b[0;34m]\u001b[0m\u001b[0;34m\u001b[0m\u001b[0;34m\u001b[0m\u001b[0m\n\u001b[0m\u001b[1;32m     41\u001b[0m         \u001b[0;32mreturn\u001b[0m \u001b[0mself\u001b[0m\u001b[0;34m.\u001b[0m\u001b[0m_unk_idx\u001b[0m\u001b[0;34m\u001b[0m\u001b[0;34m\u001b[0m\u001b[0m\n\u001b[1;32m     42\u001b[0m \u001b[0;34m\u001b[0m\u001b[0m\n",
      "\u001b[0;32m<ipython-input-53-fe720af16fff>\u001b[0m in \u001b[0;36mitos\u001b[0;34m(self, idx)\u001b[0m\n\u001b[1;32m     38\u001b[0m         \u001b[0;32mimport\u001b[0m \u001b[0mpdb\u001b[0m\u001b[0;34m;\u001b[0m \u001b[0mpdb\u001b[0m\u001b[0;34m.\u001b[0m\u001b[0mset_trace\u001b[0m\u001b[0;34m(\u001b[0m\u001b[0;34m)\u001b[0m\u001b[0;34m\u001b[0m\u001b[0;34m\u001b[0m\u001b[0m\n\u001b[1;32m     39\u001b[0m         \u001b[0;32mif\u001b[0m \u001b[0midx\u001b[0m \u001b[0;32min\u001b[0m \u001b[0mself\u001b[0m\u001b[0;34m.\u001b[0m\u001b[0m_rev_vocab\u001b[0m\u001b[0;34m:\u001b[0m\u001b[0;34m\u001b[0m\u001b[0;34m\u001b[0m\u001b[0m\n\u001b[0;32m---> 40\u001b[0;31m             \u001b[0;32mreturn\u001b[0m \u001b[0mself\u001b[0m\u001b[0;34m.\u001b[0m\u001b[0m_rev_vocab\u001b[0m\u001b[0;34m[\u001b[0m\u001b[0midx\u001b[0m\u001b[0;34m]\u001b[0m\u001b[0;34m\u001b[0m\u001b[0;34m\u001b[0m\u001b[0m\n\u001b[0m\u001b[1;32m     41\u001b[0m         \u001b[0;32mreturn\u001b[0m \u001b[0mself\u001b[0m\u001b[0;34m.\u001b[0m\u001b[0m_unk_idx\u001b[0m\u001b[0;34m\u001b[0m\u001b[0;34m\u001b[0m\u001b[0m\n\u001b[1;32m     42\u001b[0m \u001b[0;34m\u001b[0m\u001b[0m\n",
      "\u001b[0;32m~/anaconda3/envs/pytorch_p36/lib/python3.6/bdb.py\u001b[0m in \u001b[0;36mtrace_dispatch\u001b[0;34m(self, frame, event, arg)\u001b[0m\n\u001b[1;32m     49\u001b[0m             \u001b[0;32mreturn\u001b[0m \u001b[0;31m# None\u001b[0m\u001b[0;34m\u001b[0m\u001b[0;34m\u001b[0m\u001b[0m\n\u001b[1;32m     50\u001b[0m         \u001b[0;32mif\u001b[0m \u001b[0mevent\u001b[0m \u001b[0;34m==\u001b[0m \u001b[0;34m'line'\u001b[0m\u001b[0;34m:\u001b[0m\u001b[0;34m\u001b[0m\u001b[0;34m\u001b[0m\u001b[0m\n\u001b[0;32m---> 51\u001b[0;31m             \u001b[0;32mreturn\u001b[0m \u001b[0mself\u001b[0m\u001b[0;34m.\u001b[0m\u001b[0mdispatch_line\u001b[0m\u001b[0;34m(\u001b[0m\u001b[0mframe\u001b[0m\u001b[0;34m)\u001b[0m\u001b[0;34m\u001b[0m\u001b[0;34m\u001b[0m\u001b[0m\n\u001b[0m\u001b[1;32m     52\u001b[0m         \u001b[0;32mif\u001b[0m \u001b[0mevent\u001b[0m \u001b[0;34m==\u001b[0m \u001b[0;34m'call'\u001b[0m\u001b[0;34m:\u001b[0m\u001b[0;34m\u001b[0m\u001b[0;34m\u001b[0m\u001b[0m\n\u001b[1;32m     53\u001b[0m             \u001b[0;32mreturn\u001b[0m \u001b[0mself\u001b[0m\u001b[0;34m.\u001b[0m\u001b[0mdispatch_call\u001b[0m\u001b[0;34m(\u001b[0m\u001b[0mframe\u001b[0m\u001b[0;34m,\u001b[0m \u001b[0marg\u001b[0m\u001b[0;34m)\u001b[0m\u001b[0;34m\u001b[0m\u001b[0;34m\u001b[0m\u001b[0m\n",
      "\u001b[0;32m~/anaconda3/envs/pytorch_p36/lib/python3.6/bdb.py\u001b[0m in \u001b[0;36mdispatch_line\u001b[0;34m(self, frame)\u001b[0m\n\u001b[1;32m     68\u001b[0m         \u001b[0;32mif\u001b[0m \u001b[0mself\u001b[0m\u001b[0;34m.\u001b[0m\u001b[0mstop_here\u001b[0m\u001b[0;34m(\u001b[0m\u001b[0mframe\u001b[0m\u001b[0;34m)\u001b[0m \u001b[0;32mor\u001b[0m \u001b[0mself\u001b[0m\u001b[0;34m.\u001b[0m\u001b[0mbreak_here\u001b[0m\u001b[0;34m(\u001b[0m\u001b[0mframe\u001b[0m\u001b[0;34m)\u001b[0m\u001b[0;34m:\u001b[0m\u001b[0;34m\u001b[0m\u001b[0;34m\u001b[0m\u001b[0m\n\u001b[1;32m     69\u001b[0m             \u001b[0mself\u001b[0m\u001b[0;34m.\u001b[0m\u001b[0muser_line\u001b[0m\u001b[0;34m(\u001b[0m\u001b[0mframe\u001b[0m\u001b[0;34m)\u001b[0m\u001b[0;34m\u001b[0m\u001b[0;34m\u001b[0m\u001b[0m\n\u001b[0;32m---> 70\u001b[0;31m             \u001b[0;32mif\u001b[0m \u001b[0mself\u001b[0m\u001b[0;34m.\u001b[0m\u001b[0mquitting\u001b[0m\u001b[0;34m:\u001b[0m \u001b[0;32mraise\u001b[0m \u001b[0mBdbQuit\u001b[0m\u001b[0;34m\u001b[0m\u001b[0;34m\u001b[0m\u001b[0m\n\u001b[0m\u001b[1;32m     71\u001b[0m         \u001b[0;32mreturn\u001b[0m \u001b[0mself\u001b[0m\u001b[0;34m.\u001b[0m\u001b[0mtrace_dispatch\u001b[0m\u001b[0;34m\u001b[0m\u001b[0;34m\u001b[0m\u001b[0m\n\u001b[1;32m     72\u001b[0m \u001b[0;34m\u001b[0m\u001b[0m\n",
      "\u001b[0;31mBdbQuit\u001b[0m: "
     ]
    }
   ],
   "source": [
    "events = [model.vocab.itos(x) for x in idx_seq.numpy()]\n",
    "print(events)"
   ]
  },
  {
   "cell_type": "code",
   "execution_count": 52,
   "metadata": {},
   "outputs": [
    {
     "data": {
      "text/plain": [
       "{'<pad>': 0,\n",
       " '<unk>': 1,\n",
       " 'annual_physical': 2,\n",
       " 'foot_pain': 3,\n",
       " 'eye_exam': 4,\n",
       " 'hay_fever': 5,\n",
       " 'ACE_inhibitors': 6,\n",
       " 'ingrown_nail': 7,\n",
       " 'cold_sore': 8,\n",
       " 'dental_exam': 9,\n",
       " 'apnea': 10,\n",
       " 'PCI': 11,\n",
       " 'backache': 12,\n",
       " 'cut_finger': 13,\n",
       " 'ankle_sprain': 14,\n",
       " 'quad_injury': 15,\n",
       " 'high_creatinine': 16,\n",
       " 'resistent_hyp': 17,\n",
       " 'tachycardia': 18,\n",
       " 'myopia': 19,\n",
       " 'CHF': 20,\n",
       " 'headache': 21,\n",
       " 'normal_bmi': 22,\n",
       " 'cardiac_rehab': 23,\n",
       " 'low_salt_diet': 24,\n",
       " 'ACL_tear': 25,\n",
       " 'peanut_allergy': 26,\n",
       " 'pneumonia': 27,\n",
       " 'AMI': 28,\n",
       " 'PH': 29,\n",
       " 'furosemide': 30,\n",
       " 'ARR': 31}"
      ]
     },
     "execution_count": 52,
     "metadata": {},
     "output_type": "execute_result"
    }
   ],
   "source": [
    "model.vocab._vocab"
   ]
  },
  {
   "cell_type": "code",
   "execution_count": 44,
   "metadata": {},
   "outputs": [
    {
     "data": {
      "text/plain": [
       "[0.11294358968734741,\n",
       " 0.0312277190387249,\n",
       " -0.024547478184103966,\n",
       " -0.0033740245271474123,\n",
       " -0.001518900040537119,\n",
       " -0.0035624345764517784,\n",
       " -0.00207443255931139,\n",
       " -0.00013361229503061622,\n",
       " 0.0003544994106050581,\n",
       " -0.002220567548647523,\n",
       " 0.00105949304997921,\n",
       " -7.015465962467715e-05,\n",
       " 0.00045359053183346987,\n",
       " 0.001753794145770371,\n",
       " -0.006946766283363104,\n",
       " -0.01690535619854927,\n",
       " 0.0,\n",
       " 0.0,\n",
       " 0.0,\n",
       " 0.0]"
      ]
     },
     "execution_count": 44,
     "metadata": {},
     "output_type": "execute_result"
    }
   ],
   "source": [
    "lstm_values[0][0]"
   ]
  },
  {
   "cell_type": "code",
   "execution_count": 45,
   "metadata": {},
   "outputs": [
    {
     "data": {
      "text/plain": [
       "20"
      ]
     },
     "execution_count": 45,
     "metadata": {},
     "output_type": "execute_result"
    }
   ],
   "source": [
    "len(lstm_values[0][0])"
   ]
  },
  {
   "cell_type": "code",
   "execution_count": 46,
   "metadata": {},
   "outputs": [
    {
     "data": {
      "text/plain": [
       "['ingrown_nail',\n",
       " 'cut_finger',\n",
       " 'annual_physical',\n",
       " 'ankle_sprain',\n",
       " 'ingrown_nail',\n",
       " 'dental_exam',\n",
       " 'dental_exam',\n",
       " 'cold_sore',\n",
       " 'cardiac_rehab',\n",
       " 'annual_physical',\n",
       " 'hay_fever',\n",
       " 'annual_physical',\n",
       " 'eye_exam',\n",
       " 'cold_sore',\n",
       " 'PCI',\n",
       " 'ACE_inhibitors',\n",
       " '<pad>',\n",
       " '<pad>',\n",
       " '<pad>',\n",
       " '<pad>']"
      ]
     },
     "execution_count": 46,
     "metadata": {},
     "output_type": "execute_result"
    }
   ],
   "source": [
    "events"
   ]
  },
  {
   "cell_type": "code",
   "execution_count": 47,
   "metadata": {},
   "outputs": [],
   "source": [
    "df = pd.DataFrame()\n",
    "df['events'] = events\n",
    "df['shap_vals'] = lstm_values[0][0]"
   ]
  },
  {
   "cell_type": "code",
   "execution_count": 48,
   "metadata": {},
   "outputs": [
    {
     "data": {
      "text/html": [
       "<div>\n",
       "<style scoped>\n",
       "    .dataframe tbody tr th:only-of-type {\n",
       "        vertical-align: middle;\n",
       "    }\n",
       "\n",
       "    .dataframe tbody tr th {\n",
       "        vertical-align: top;\n",
       "    }\n",
       "\n",
       "    .dataframe thead th {\n",
       "        text-align: right;\n",
       "    }\n",
       "</style>\n",
       "<table border=\"1\" class=\"dataframe\">\n",
       "  <thead>\n",
       "    <tr style=\"text-align: right;\">\n",
       "      <th></th>\n",
       "      <th>events</th>\n",
       "      <th>shap_vals</th>\n",
       "    </tr>\n",
       "  </thead>\n",
       "  <tbody>\n",
       "    <tr>\n",
       "      <th>0</th>\n",
       "      <td>ingrown_nail</td>\n",
       "      <td>0.112944</td>\n",
       "    </tr>\n",
       "    <tr>\n",
       "      <th>1</th>\n",
       "      <td>cut_finger</td>\n",
       "      <td>0.031228</td>\n",
       "    </tr>\n",
       "    <tr>\n",
       "      <th>2</th>\n",
       "      <td>annual_physical</td>\n",
       "      <td>-0.024547</td>\n",
       "    </tr>\n",
       "    <tr>\n",
       "      <th>3</th>\n",
       "      <td>ankle_sprain</td>\n",
       "      <td>-0.003374</td>\n",
       "    </tr>\n",
       "    <tr>\n",
       "      <th>4</th>\n",
       "      <td>ingrown_nail</td>\n",
       "      <td>-0.001519</td>\n",
       "    </tr>\n",
       "    <tr>\n",
       "      <th>5</th>\n",
       "      <td>dental_exam</td>\n",
       "      <td>-0.003562</td>\n",
       "    </tr>\n",
       "    <tr>\n",
       "      <th>6</th>\n",
       "      <td>dental_exam</td>\n",
       "      <td>-0.002074</td>\n",
       "    </tr>\n",
       "    <tr>\n",
       "      <th>7</th>\n",
       "      <td>cold_sore</td>\n",
       "      <td>-0.000134</td>\n",
       "    </tr>\n",
       "    <tr>\n",
       "      <th>8</th>\n",
       "      <td>cardiac_rehab</td>\n",
       "      <td>0.000354</td>\n",
       "    </tr>\n",
       "    <tr>\n",
       "      <th>9</th>\n",
       "      <td>annual_physical</td>\n",
       "      <td>-0.002221</td>\n",
       "    </tr>\n",
       "    <tr>\n",
       "      <th>10</th>\n",
       "      <td>hay_fever</td>\n",
       "      <td>0.001059</td>\n",
       "    </tr>\n",
       "    <tr>\n",
       "      <th>11</th>\n",
       "      <td>annual_physical</td>\n",
       "      <td>-0.000070</td>\n",
       "    </tr>\n",
       "    <tr>\n",
       "      <th>12</th>\n",
       "      <td>eye_exam</td>\n",
       "      <td>0.000454</td>\n",
       "    </tr>\n",
       "    <tr>\n",
       "      <th>13</th>\n",
       "      <td>cold_sore</td>\n",
       "      <td>0.001754</td>\n",
       "    </tr>\n",
       "    <tr>\n",
       "      <th>14</th>\n",
       "      <td>PCI</td>\n",
       "      <td>-0.006947</td>\n",
       "    </tr>\n",
       "    <tr>\n",
       "      <th>15</th>\n",
       "      <td>ACE_inhibitors</td>\n",
       "      <td>-0.016905</td>\n",
       "    </tr>\n",
       "    <tr>\n",
       "      <th>16</th>\n",
       "      <td>&lt;pad&gt;</td>\n",
       "      <td>0.000000</td>\n",
       "    </tr>\n",
       "    <tr>\n",
       "      <th>17</th>\n",
       "      <td>&lt;pad&gt;</td>\n",
       "      <td>0.000000</td>\n",
       "    </tr>\n",
       "    <tr>\n",
       "      <th>18</th>\n",
       "      <td>&lt;pad&gt;</td>\n",
       "      <td>0.000000</td>\n",
       "    </tr>\n",
       "    <tr>\n",
       "      <th>19</th>\n",
       "      <td>&lt;pad&gt;</td>\n",
       "      <td>0.000000</td>\n",
       "    </tr>\n",
       "  </tbody>\n",
       "</table>\n",
       "</div>"
      ],
      "text/plain": [
       "             events  shap_vals\n",
       "0      ingrown_nail   0.112944\n",
       "1        cut_finger   0.031228\n",
       "2   annual_physical  -0.024547\n",
       "3      ankle_sprain  -0.003374\n",
       "4      ingrown_nail  -0.001519\n",
       "5       dental_exam  -0.003562\n",
       "6       dental_exam  -0.002074\n",
       "7         cold_sore  -0.000134\n",
       "8     cardiac_rehab   0.000354\n",
       "9   annual_physical  -0.002221\n",
       "10        hay_fever   0.001059\n",
       "11  annual_physical  -0.000070\n",
       "12         eye_exam   0.000454\n",
       "13        cold_sore   0.001754\n",
       "14              PCI  -0.006947\n",
       "15   ACE_inhibitors  -0.016905\n",
       "16            <pad>   0.000000\n",
       "17            <pad>   0.000000\n",
       "18            <pad>   0.000000\n",
       "19            <pad>   0.000000"
      ]
     },
     "execution_count": 48,
     "metadata": {},
     "output_type": "execute_result"
    }
   ],
   "source": [
    "df"
   ]
  },
  {
   "cell_type": "code",
   "execution_count": 49,
   "metadata": {},
   "outputs": [],
   "source": [
    "import seaborn as sns"
   ]
  },
  {
   "cell_type": "code",
   "execution_count": 50,
   "metadata": {},
   "outputs": [
    {
     "data": {
      "image/png": "[encoded data removed]",
      "text/plain": [
       "<Figure size 1440x720 with 1 Axes>"
      ]
     },
     "metadata": {
      "needs_background": "light"
     },
     "output_type": "display_data"
    }
   ],
   "source": [
    "plt.figure(figsize=(20, 10))\n",
    "ax = sns.barplot(x=df.index, y=df.shap_vals, orient='v')\n",
    "z = ax.set_xticklabels(df.events, rotation=90)"
   ]
  },
  {
   "cell_type": "code",
   "execution_count": null,
   "metadata": {},
   "outputs": [],
   "source": []
  },
  {
   "cell_type": "code",
   "execution_count": null,
   "metadata": {},
   "outputs": [],
   "source": []
  },
  {
   "cell_type": "code",
   "execution_count": null,
   "metadata": {},
   "outputs": [],
   "source": []
  },
  {
   "cell_type": "markdown",
   "metadata": {},
   "source": [
    "Scratchpad"
   ]
  },
  {
   "cell_type": "code",
   "execution_count": 42,
   "metadata": {},
   "outputs": [],
   "source": [
    "from collections import defaultdict, OrderedDict, Counter"
   ]
  },
  {
   "cell_type": "code",
   "execution_count": 43,
   "metadata": {},
   "outputs": [],
   "source": [
    "def create_word_score_ds(features_l, scores_l, model_name, explainer, labels=None):\n",
    "    ds = []\n",
    "    for review_idx, review in enumerate(features_l):    \n",
    "        if labels != None: # if combination is lstm x shap\n",
    "            d = defaultdict(lambda:[])\n",
    "            actual_label = labels[review_idx]\n",
    "            if actual_label == 0:\n",
    "                tmp = scores_l[review_idx][0]\n",
    "            else:\n",
    "                tmp = scores_l[review_idx][1]\n",
    "            for token_idx, token in enumerate(review):\n",
    "                try:\n",
    "                    d[token].append(abs(tmp[token_idx])) # append and take average\n",
    "                except:\n",
    "                    print(len(tmp))\n",
    "            d = get_average_shap(d) # take average\n",
    "            ds.append(d)\n",
    "        else:\n",
    "            d = {}\n",
    "            tmp = scores_l[review_idx]\n",
    "            for token_idx, token in enumerate(review):\n",
    "                d[str(token)] = abs(tmp[str(token_idx)]) # take absolute numbers\n",
    "            ds.append(d)\n",
    "    return ds"
   ]
  },
  {
   "cell_type": "code",
   "execution_count": null,
   "metadata": {},
   "outputs": [],
   "source": []
  },
  {
   "cell_type": "code",
   "execution_count": 44,
   "metadata": {},
   "outputs": [
    {
     "name": "stdout",
     "output_type": "stream",
     "text": [
      "20\n",
      "20\n",
      "20\n",
      "20\n",
      "20\n",
      "20\n",
      "20\n",
      "20\n",
      "20\n",
      "20\n",
      "20\n",
      "20\n"
     ]
    },
    {
     "ename": "NameError",
     "evalue": "name 'get_average_shap' is not defined",
     "output_type": "error",
     "traceback": [
      "\u001b[0;31m---------------------------------------------------------------------------\u001b[0m",
      "\u001b[0;31mNameError\u001b[0m                                 Traceback (most recent call last)",
      "\u001b[0;32m<ipython-input-44-988b423c33b9>\u001b[0m in \u001b[0;36m<module>\u001b[0;34m\u001b[0m\n\u001b[0;32m----> 1\u001b[0;31m \u001b[0mds\u001b[0m \u001b[0;34m=\u001b[0m \u001b[0mcreate_word_score_ds\u001b[0m\u001b[0;34m(\u001b[0m\u001b[0mtest_data\u001b[0m\u001b[0;34m[\u001b[0m\u001b[0;36m0\u001b[0m\u001b[0;34m,\u001b[0m \u001b[0;34m:\u001b[0m\u001b[0;36m20\u001b[0m\u001b[0;34m]\u001b[0m\u001b[0;34m,\u001b[0m \u001b[0mlstm_values\u001b[0m\u001b[0;34m,\u001b[0m \u001b[0;34m'lstm-shap'\u001b[0m\u001b[0;34m,\u001b[0m \u001b[0mexplainer\u001b[0m\u001b[0;34m,\u001b[0m \u001b[0mlabels\u001b[0m\u001b[0;34m=\u001b[0m\u001b[0;34m[\u001b[0m\u001b[0;36m0\u001b[0m\u001b[0;34m]\u001b[0m\u001b[0;34m)\u001b[0m\u001b[0;34m\u001b[0m\u001b[0;34m\u001b[0m\u001b[0m\n\u001b[0m",
      "\u001b[0;32m<ipython-input-43-3ad1844c1d62>\u001b[0m in \u001b[0;36mcreate_word_score_ds\u001b[0;34m(features_l, scores_l, model_name, explainer, labels)\u001b[0m\n\u001b[1;32m     14\u001b[0m                 \u001b[0;32mexcept\u001b[0m\u001b[0;34m:\u001b[0m\u001b[0;34m\u001b[0m\u001b[0;34m\u001b[0m\u001b[0m\n\u001b[1;32m     15\u001b[0m                     \u001b[0mprint\u001b[0m\u001b[0;34m(\u001b[0m\u001b[0mlen\u001b[0m\u001b[0;34m(\u001b[0m\u001b[0mtmp\u001b[0m\u001b[0;34m)\u001b[0m\u001b[0;34m)\u001b[0m\u001b[0;34m\u001b[0m\u001b[0;34m\u001b[0m\u001b[0m\n\u001b[0;32m---> 16\u001b[0;31m             \u001b[0md\u001b[0m \u001b[0;34m=\u001b[0m \u001b[0mget_average_shap\u001b[0m\u001b[0;34m(\u001b[0m\u001b[0md\u001b[0m\u001b[0;34m)\u001b[0m \u001b[0;31m# take average\u001b[0m\u001b[0;34m\u001b[0m\u001b[0;34m\u001b[0m\u001b[0m\n\u001b[0m\u001b[1;32m     17\u001b[0m             \u001b[0mds\u001b[0m\u001b[0;34m.\u001b[0m\u001b[0mappend\u001b[0m\u001b[0;34m(\u001b[0m\u001b[0md\u001b[0m\u001b[0;34m)\u001b[0m\u001b[0;34m\u001b[0m\u001b[0;34m\u001b[0m\u001b[0m\n\u001b[1;32m     18\u001b[0m         \u001b[0;32melse\u001b[0m\u001b[0;34m:\u001b[0m\u001b[0;34m\u001b[0m\u001b[0;34m\u001b[0m\u001b[0m\n",
      "\u001b[0;31mNameError\u001b[0m: name 'get_average_shap' is not defined"
     ]
    }
   ],
   "source": [
    "ds = create_word_score_ds(test_data[0, :20], lstm_values, 'lstm-shap', explainer, labels=[0])"
   ]
  },
  {
   "cell_type": "code",
   "execution_count": null,
   "metadata": {},
   "outputs": [],
   "source": []
  },
  {
   "cell_type": "code",
   "execution_count": null,
   "metadata": {},
   "outputs": [],
   "source": []
  },
  {
   "cell_type": "code",
   "execution_count": null,
   "metadata": {},
   "outputs": [],
   "source": []
  },
  {
   "cell_type": "code",
   "execution_count": null,
   "metadata": {},
   "outputs": [],
   "source": [
    "test_labels[0]"
   ]
  },
  {
   "cell_type": "code",
   "execution_count": null,
   "metadata": {},
   "outputs": [],
   "source": []
  }
 ],
 "metadata": {
  "kernelspec": {
   "display_name": "conda_pytorch_p36",
   "language": "python",
   "name": "conda_pytorch_p36"
  },
  "language_info": {
   "codemirror_mode": {
    "name": "ipython",
    "version": 3
   },
   "file_extension": ".py",
   "mimetype": "text/x-python",
   "name": "python",
   "nbconvert_exporter": "python",
   "pygments_lexer": "ipython3",
   "version": "3.6.10"
  }
 },
 "nbformat": 4,
 "nbformat_minor": 4
}
