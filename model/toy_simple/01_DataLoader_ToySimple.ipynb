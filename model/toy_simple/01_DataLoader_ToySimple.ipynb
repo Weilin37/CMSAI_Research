{
 "cells": [
  {
   "cell_type": "code",
   "execution_count": 1,
   "metadata": {},
   "outputs": [],
   "source": [
    "import os\n",
    "\n",
    "import torch\n",
    "import pandas as pd\n",
    "import numpy as np\n",
    "\n",
    "from collections import Counter"
   ]
  },
  {
   "cell_type": "markdown",
   "metadata": {},
   "source": [
    "## OPTIONS"
   ]
  },
  {
   "cell_type": "code",
   "execution_count": 2,
   "metadata": {},
   "outputs": [],
   "source": [
    "nrows = 1000\n",
    "min_freq = 1\n",
    "\n",
    "train_data_path = \"../../data/toy_dataset/data/train.csv\"\n",
    "valid_data_path = \"../../data/toy_dataset/data/val.csv\"\n",
    "\n",
    "model_save_path = './sample_model/simple_lstm_201215'\n",
    "results_save_path = \"./sample_results/simple_results_201215\"\n",
    "batch_size = 64\n",
    "n_epochs = 5\n",
    "\n",
    "embedding_dim = 8\n",
    "hidden_dim = 16\n",
    "bidirectional = True\n",
    "dropout = 0.3\n",
    "\n",
    "target_colname = 'label'\n",
    "uid_colname = 'patient_id'\n",
    "x_inputs = [str(x) for x in range(29, -1, -1)]\n",
    "target_value = '1'"
   ]
  },
  {
   "cell_type": "code",
   "execution_count": 3,
   "metadata": {},
   "outputs": [
    {
     "name": "stdout",
     "output_type": "stream",
     "text": [
      "Cuda available: True\n"
     ]
    }
   ],
   "source": [
    "for fp in [model_save_path, results_save_path]:\n",
    "    if not os.path.isdir(os.path.split(fp)[0]):\n",
    "        print(f'New directory created: {fp}')\n",
    "        os.makedirs(os.path.split(fp)[0])\n",
    "\n",
    "print(f\"Cuda available: {torch.cuda.is_available()}\")\n",
    "model_device = torch.device('cuda' if torch.cuda.is_available() else 'cpu')"
   ]
  },
  {
   "cell_type": "markdown",
   "metadata": {},
   "source": [
    "## Create Vocab\n",
    "\n",
    "equivalent to model.create_word_id_dict"
   ]
  },
  {
   "cell_type": "code",
   "execution_count": 4,
   "metadata": {},
   "outputs": [],
   "source": [
    "datapath = train_data_path\n",
    "rev = False"
   ]
  },
  {
   "cell_type": "code",
   "execution_count": 5,
   "metadata": {},
   "outputs": [],
   "source": [
    "def valid_token(t):\n",
    "    if len(t) == 0 or t.lower() == \"<pad>\":\n",
    "        return False\n",
    "    return True"
   ]
  },
  {
   "cell_type": "code",
   "execution_count": 8,
   "metadata": {},
   "outputs": [],
   "source": [
    "token_list = []\n",
    "with open(datapath, \"r\") as f:\n",
    "    # determine column mapping\n",
    "    header = f.readline()\n",
    "    header = [h.replace(\" \", \"\").replace(\"\\n\", \"\") for h in header.split(\",\")]\n",
    "\n",
    "    target_index = header.index(target_colname)\n",
    "\n",
    "    uid_index = header.index(uid_colname)\n",
    "\n",
    "    x_idxes = []\n",
    "    for colname in x_inputs:\n",
    "        x_idxes.append(header.index(colname))\n",
    "\n",
    "    # start processing \n",
    "    line = f.readline()\n",
    "    invalid_uid = 0\n",
    "    deaths = 0\n",
    "    while line:\n",
    "        if 'death' in line:\n",
    "            deaths += 1\n",
    "            pass\n",
    "\n",
    "        tokens = line.split(\",\")\n",
    "\n",
    "        if len(tokens[uid_index]) == 0:\n",
    "            invalid_uid += 1 # some UIDS are missing\n",
    "            pass\n",
    "        else:\n",
    "            uid = tokens[uid_index].replace('\\n', '')\n",
    "\n",
    "        ## CHANGE: integer\n",
    "        if isinstance(tokens[target_index], str):\n",
    "            label = 1 if tokens[target_index].startswith(target_value) else 0\n",
    "        \n",
    "        if isinstance(tokens[target_index], int):\n",
    "            label = tokens[target_index]\n",
    "\n",
    "        tokens = [tokens[idx] for idx in x_idxes]\n",
    "        tokens = [t.strip().replace('\\n', '') for t in tokens if valid_token(t)]\n",
    "\n",
    "        if rev:\n",
    "            tokens = tokens[::-1]\n",
    "\n",
    "        token_list.append((uid, label, tokens))\n",
    "\n",
    "        line = f.readline()\n",
    "\n",
    "        if len(token_list) == nrows:\n",
    "            break"
   ]
  },
  {
   "cell_type": "markdown",
   "metadata": {},
   "source": [
    "Define vocabulary without torchtext"
   ]
  },
  {
   "cell_type": "code",
   "execution_count": 14,
   "metadata": {},
   "outputs": [],
   "source": [
    "vocab = {}\n",
    "vocab['<pad>'] = 0\n",
    "vocab['<unk>'] = 1\n",
    "\n",
    "rev_vocab = {}\n",
    "rev_vocab[0] = '<pad>'\n",
    "rev_vocab[1] = '<unk>'\n",
    "\n",
    "counter = Counter()\n",
    "for uid, label, tokens in token_list:\n",
    "    for token in tokens:\n",
    "        counter[token] += 1\n",
    "\n",
    "for token in counter:\n",
    "    if counter[token] < min_freq:\n",
    "        continue\n",
    "        \n",
    "    idx = len(vocab)\n",
    "    vocab[token] = idx\n",
    "    rev_vocab[idx] = token\n",
    "\n",
    "class Vocab:\n",
    "    def __init__(self, vocab, rev_vocab):\n",
    "        self._vocab = vocab\n",
    "        self._rev_vocab = rev_vocab\n",
    "        self._unk_idx = vocab['<unk>']\n",
    "        self._pad_idx = vocab['<pad>']\n",
    "    \n",
    "    def __len__(self):\n",
    "        return len(self._vocab)\n",
    "    \n",
    "    def stoi(self, token):\n",
    "        if token in self._vocab:\n",
    "            return self._vocab[token]\n",
    "        return self._vocab['<unk>']\n",
    "    \n",
    "    def itos(self, idx):\n",
    "        if idx in self._rev_vocab:\n",
    "            return self._rev_vocab[idx]\n",
    "        return self._unk_idx\n",
    "    "
   ]
  },
  {
   "cell_type": "code",
   "execution_count": 15,
   "metadata": {},
   "outputs": [
    {
     "data": {
      "text/plain": [
       "32"
      ]
     },
     "execution_count": 15,
     "metadata": {},
     "output_type": "execute_result"
    }
   ],
   "source": [
    "len(vocab)"
   ]
  },
  {
   "cell_type": "code",
   "execution_count": 16,
   "metadata": {},
   "outputs": [
    {
     "data": {
      "text/plain": [
       "{'<pad>': 0,\n",
       " '<unk>': 1,\n",
       " 'annual_physical': 2,\n",
       " 'foot_pain': 3,\n",
       " 'eye_exam': 4,\n",
       " 'hay_fever': 5,\n",
       " 'ACE_inhibitors': 6,\n",
       " 'ingrown_nail': 7,\n",
       " 'cold_sore': 8,\n",
       " 'dental_exam': 9,\n",
       " 'apnea': 10,\n",
       " 'PCI': 11,\n",
       " 'backache': 12,\n",
       " 'cut_finger': 13,\n",
       " 'ankle_sprain': 14,\n",
       " 'quad_injury': 15,\n",
       " 'high_creatinine': 16,\n",
       " 'resistent_hyp': 17,\n",
       " 'tachycardia': 18,\n",
       " 'myopia': 19,\n",
       " 'CHF': 20,\n",
       " 'headache': 21,\n",
       " 'normal_bmi': 22,\n",
       " 'cardiac_rehab': 23,\n",
       " 'low_salt_diet': 24,\n",
       " 'ACL_tear': 25,\n",
       " 'peanut_allergy': 26,\n",
       " 'pneumonia': 27,\n",
       " 'AMI': 28,\n",
       " 'PH': 29,\n",
       " 'furosemide': 30,\n",
       " 'ARR': 31}"
      ]
     },
     "execution_count": 16,
     "metadata": {},
     "output_type": "execute_result"
    }
   ],
   "source": [
    "vocab"
   ]
  },
  {
   "cell_type": "code",
   "execution_count": 18,
   "metadata": {},
   "outputs": [],
   "source": [
    "vocab_class = Vocab(vocab, rev_vocab)"
   ]
  },
  {
   "cell_type": "markdown",
   "metadata": {},
   "source": [
    "**Create dataset and dataloader**"
   ]
  },
  {
   "cell_type": "code",
   "execution_count": 19,
   "metadata": {},
   "outputs": [],
   "source": [
    "data = [\n",
    "    (pid, [label], [vocab_class.stoi(t) for t in tokens])\n",
    "    for pid, label, tokens in token_list\n",
    "]"
   ]
  },
  {
   "cell_type": "code",
   "execution_count": 20,
   "metadata": {},
   "outputs": [
    {
     "data": {
      "text/plain": [
       "('DU5LE6OJSR', [0], [21, 22, 23, 24])"
      ]
     },
     "execution_count": 20,
     "metadata": {},
     "output_type": "execute_result"
    }
   ],
   "source": [
    "data[3]"
   ]
  },
  {
   "cell_type": "code",
   "execution_count": 21,
   "metadata": {},
   "outputs": [],
   "source": [
    "from torch.utils.data import Dataset, DataLoader"
   ]
  },
  {
   "cell_type": "code",
   "execution_count": 23,
   "metadata": {},
   "outputs": [],
   "source": [
    "class ToyDataset(Dataset):\n",
    "    '''\n",
    "    Similar to transformer's, adapted to this dataset with Marc's line by line reading output\n",
    "    '''\n",
    "    \n",
    "    def __init__(self, data, max_len=35, pad_idx=0):\n",
    "        self.data = data\n",
    "        self.max_len = max_len\n",
    "        self.pad_idx = pad_idx\n",
    "        \n",
    "    def __len__(self):\n",
    "        return len(self.data)\n",
    "    \n",
    "    def __getitem__(self, idx):\n",
    "        if torch.is_tensor(idx):\n",
    "            idx = idx.tolist()\n",
    "            \n",
    "        idx_lst = data[idx][2]\n",
    "        if len(idx_lst) > self.max_len:\n",
    "            idx_lst = idx_lst[:self.max_len]\n",
    "        idx_lst = idx_lst + [self.pad_idx] * (self.max_len - len(idx_lst))\n",
    "            \n",
    "        return (\n",
    "            data[idx][0],\n",
    "            torch.tensor(data[idx][1]),\n",
    "            torch.tensor(idx_lst) \n",
    "        )"
   ]
  },
  {
   "cell_type": "code",
   "execution_count": 24,
   "metadata": {},
   "outputs": [],
   "source": [
    "toy_dataset = ToyDataset(data, max_len=30)"
   ]
  },
  {
   "cell_type": "code",
   "execution_count": 26,
   "metadata": {},
   "outputs": [],
   "source": [
    "train_dataloader = DataLoader(\n",
    "    toy_dataset,\n",
    "    batch_size=batch_size,\n",
    "    shuffle=False,\n",
    "    num_workers=2\n",
    ")"
   ]
  },
  {
   "cell_type": "code",
   "execution_count": 27,
   "metadata": {
    "scrolled": true
   },
   "outputs": [
    {
     "data": {
      "text/plain": [
       "[('KWPSWXBCOO',\n",
       "  'OAB32HBRGF',\n",
       "  'GVKVDO2JQP',\n",
       "  'DU5LE6OJSR',\n",
       "  'EYL9OAO7UU',\n",
       "  'EA3Y23B5G4',\n",
       "  'HA9XRJBP80',\n",
       "  'GSD914SV90',\n",
       "  'AI58JP94TT',\n",
       "  '1BFRROCHC9',\n",
       "  '7XFPYN3G6K',\n",
       "  'AIRXLC21GS',\n",
       "  'BKD87ZKI6X',\n",
       "  'P4QJBL4D9U',\n",
       "  'UPOO9PS06M',\n",
       "  'RNW0E98SKN',\n",
       "  'CQ4UYADG1U',\n",
       "  'AIXRRUPL62',\n",
       "  'F2UBVPAOL2',\n",
       "  'OXL8BE7K0X',\n",
       "  '94NSP0QGZL',\n",
       "  'L7VFUQT4AP',\n",
       "  '3LMWS2U7KE',\n",
       "  'NGOXR1IT77',\n",
       "  'WGIIXYGPEQ',\n",
       "  'VH5QT1BR9C',\n",
       "  '1R4IP7CEUB',\n",
       "  '7A1OQ4W91A',\n",
       "  '4TMHC604U5',\n",
       "  'O2XPIZBL96',\n",
       "  '9UX6ZVXL1Q',\n",
       "  '7L1IZ18Z74',\n",
       "  '9SJY4TSXJR',\n",
       "  '302YJ2ZEMT',\n",
       "  'BMKYCDP4LN',\n",
       "  'W842GUPG7Q',\n",
       "  '21AW4N8JKC',\n",
       "  'ZGWVOTQVQZ',\n",
       "  '4I1RJPR5A7',\n",
       "  'DQ6SIIE0I8',\n",
       "  '4ERS8UHLXC',\n",
       "  'E6R21HM4YQ',\n",
       "  'LQSUVM7RPK',\n",
       "  'E67ZJ93TOR',\n",
       "  'D46MWQ6RSJ',\n",
       "  'SDUUKOGA8R',\n",
       "  '62YBG3WVFS',\n",
       "  '0B2MCYWFG7',\n",
       "  'FLKD8Y953C',\n",
       "  '6YZJHL5S9J',\n",
       "  'YL3NRAWKGK',\n",
       "  'KBMKJ9XHFW',\n",
       "  'ZZT9Y30HP2',\n",
       "  'B2HSUU7ALJ',\n",
       "  'GQCSIL3P1O',\n",
       "  'U2OKF5O8IE',\n",
       "  '2IEBXML89S',\n",
       "  'R1RB6W9KL7',\n",
       "  'OUEY62N32C',\n",
       "  'YU03WA1QGR',\n",
       "  '4Q428PHYFQ',\n",
       "  'H468KCYCTX',\n",
       "  'GF60340DPQ',\n",
       "  '4FE4FQGL7M'),\n",
       " tensor([[0],\n",
       "         [1],\n",
       "         [0],\n",
       "         [0],\n",
       "         [0],\n",
       "         [0],\n",
       "         [1],\n",
       "         [1],\n",
       "         [1],\n",
       "         [0],\n",
       "         [0],\n",
       "         [1],\n",
       "         [0],\n",
       "         [0],\n",
       "         [0],\n",
       "         [0],\n",
       "         [1],\n",
       "         [1],\n",
       "         [1],\n",
       "         [1],\n",
       "         [0],\n",
       "         [0],\n",
       "         [1],\n",
       "         [1],\n",
       "         [0],\n",
       "         [1],\n",
       "         [0],\n",
       "         [1],\n",
       "         [1],\n",
       "         [1],\n",
       "         [1],\n",
       "         [0],\n",
       "         [0],\n",
       "         [1],\n",
       "         [0],\n",
       "         [1],\n",
       "         [1],\n",
       "         [0],\n",
       "         [0],\n",
       "         [1],\n",
       "         [0],\n",
       "         [0],\n",
       "         [1],\n",
       "         [1],\n",
       "         [1],\n",
       "         [1],\n",
       "         [1],\n",
       "         [1],\n",
       "         [0],\n",
       "         [1],\n",
       "         [1],\n",
       "         [1],\n",
       "         [1],\n",
       "         [1],\n",
       "         [0],\n",
       "         [1],\n",
       "         [0],\n",
       "         [1],\n",
       "         [1],\n",
       "         [0],\n",
       "         [0],\n",
       "         [1],\n",
       "         [0],\n",
       "         [0]]),\n",
       " tensor([[ 2,  3,  4,  ...,  0,  0,  0],\n",
       "         [ 3, 12, 13,  ...,  0,  0,  0],\n",
       "         [18,  7,  9,  ...,  0,  0,  0],\n",
       "         ...,\n",
       "         [14,  4,  9,  ...,  0,  0,  0],\n",
       "         [ 8, 19, 12,  ...,  0,  0,  0],\n",
       "         [19, 28, 26,  ...,  0,  0,  0]])]"
      ]
     },
     "execution_count": 27,
     "metadata": {},
     "output_type": "execute_result"
    }
   ],
   "source": [
    "next(iter(train_dataloader))"
   ]
  },
  {
   "cell_type": "markdown",
   "metadata": {},
   "source": [
    "## Model definition"
   ]
  },
  {
   "cell_type": "code",
   "execution_count": 28,
   "metadata": {},
   "outputs": [
    {
     "data": {
      "text/plain": [
       "device(type='cuda')"
      ]
     },
     "execution_count": 28,
     "metadata": {},
     "output_type": "execute_result"
    }
   ],
   "source": [
    "model_device"
   ]
  },
  {
   "cell_type": "code",
   "execution_count": 29,
   "metadata": {},
   "outputs": [],
   "source": [
    "import torch\n",
    "import torch.nn as nn"
   ]
  },
  {
   "cell_type": "code",
   "execution_count": 31,
   "metadata": {},
   "outputs": [],
   "source": [
    "class SimpleLSTM(nn.Module):\n",
    "    def __init__(self, emb_dim, hidden_dim, vocab, device, nlayers=1, bidi=True, use_gpu=True,\n",
    "                 pad_idx=0):\n",
    "        super(SimpleLSTM, self).__init__()\n",
    "        \n",
    "        self.device = device\n",
    "        self.use_gpu = use_gpu\n",
    "        \n",
    "        self.emb_dim = emb_dim\n",
    "        self.input_dim = len(vocab)\n",
    "        self.vocab = vocab\n",
    "        self.pad_idx = pad_idx\n",
    "        self.emb_layer = nn.Embedding(self.input_dim, emb_dim, padding_idx=pad_idx)\n",
    "        \n",
    "        self.hidden_dim = hidden_dim\n",
    "        self.bidi = bidi\n",
    "        self.nlayers = nlayers\n",
    "        self.lstm = nn.LSTM(input_size=emb_dim,\n",
    "                            hidden_size=hidden_dim,\n",
    "                            num_layers=nlayers,\n",
    "                            bidirectional=bidi,\n",
    "                            batch_first=True)\n",
    "        \n",
    "        self.pred_layer = nn.Linear(hidden_dim * 2, 2) if bidi else nn.Linear(hidden_dim, 2)\n",
    "        \n",
    "        self.init_weights()\n",
    "        \n",
    "    def init_weights(self):\n",
    "        initrange = 0.3\n",
    "        self.emb_layer.weight.data.uniform_(-initrange, initrange) \n",
    "        \n",
    "        self.pred_layer.weight.data.uniform_(-initrange, initrange)\n",
    "        self.pred_layer.bias.data.zero_()   \n",
    "        \n",
    "    def init_hidden(self, batch_size):\n",
    "        count = self.nlayers * 2 if self.bidi else self.nlayers\n",
    "        \n",
    "        weight = next(self.parameters())\n",
    "        \n",
    "        directionality = 2 if self.bidi else 1\n",
    "        weights = (\n",
    "            weight.new_zeros(count * directionality, batch_size, self.hidden_dim),\n",
    "            weight.new_zeros(count * directionality, batch_size, self.hidden_dim)\n",
    "        )\n",
    "        \n",
    "        if self.use_gpu:\n",
    "            return (weights[0].cuda(), weights[1].cuda())\n",
    "        \n",
    "        return weights\n",
    "        \n",
    "    def repackage_hidden(h):\n",
    "        \"\"\"\n",
    "        Wraps hidden states in new Tensors, to detach them from their history.\n",
    "        Needed to prevent RNN+Attention backpropagating between batches.\n",
    "        \"\"\"\n",
    "        if isinstance(h, torch.Tensor):\n",
    "            return h.detach()\n",
    "        \n",
    "        if isinstance(h, tuple):\n",
    "            return (v.detach() for v in h)\n",
    "    \n",
    "        \n",
    "    def forward(self, tokens):\n",
    "        embedded = self.emb_layer(tokens)\n",
    "        \n",
    "        hidden = self.init_hidden(tokens.shape[0])\n",
    "        hidden = self.repackage_hidden()\n",
    "        \n",
    "        text_lengths = torch.sum(tokens != self.pad_idx, dim=1)\n",
    "        \n",
    "        packed_embedded = nn.utils.rnn.pack_padded_sequence(\n",
    "            embedded, text_lengths, enforce_sorted=False, batch_first=True)\n",
    "        \n",
    "        packed_output, (hidden, cell) = self.lstm(packed_embedded, hidden)\n",
    "        \n",
    "        output, output_lengths = nn.utils.rnn.pad_packed_sequence(packed_output)\n",
    "        output = output.permute(1, 0, 2) # [batch, text_length, hidden_dim]\n",
    "        \n",
    "        if self.bidi:\n",
    "            out = torch.cat([output[:, -1, :self.hidden_dim], output[:, 0, self.hidden_dim:]],\n",
    "                           dim=1)\n",
    "        else:\n",
    "            out = output[:, -1, :]\n",
    "        \n",
    "        pred = self.pred_layer(out)\n",
    "        \n",
    "        return pred\n",
    "    \n",
    "    def save_model(self, filepath):\n",
    "        if not os.path.isdir(os.path.split(filepath)[0]):\n",
    "            os.makedirs(os.path.split(filepath)[0])\n",
    "        torch.save({self.state_dict()}, filepath)\n",
    "                   \n",
    "    def load_model(self, filename):\n",
    "        self.load_state_dict(torch.load(filename))\n",
    "        \n",
    "    def get_ids_masks(self, token_list, padding_length):\n",
    "        '''Only enabled for one example at a time'''\n",
    "        ids, masks = np.zeros((padding_length, len(self.vocab))), [0] * padding_length\n",
    "        \n",
    "        for (i, idx_token) in enumerate(token_list):\n",
    "            if i >= padding_length or idx_token == self.pad_idx:\n",
    "                break\n",
    "            ids[i, idx_token] = 1\n",
    "            masks[i] = 1\n",
    "\n",
    "        return torch.FloatTensor(ids), masks\n",
    "    \n",
    "    def get_all_ids_masks(self, data, padding_length):\n",
    "        ids,  masks = [], []\n",
    "        for obs in data:\n",
    "            id_vals, mask_vals = self.get_ids_masks(obs, padding_length)\n",
    "            ids.append(id_vals)\n",
    "            masks.append(mask_vals)\n",
    "            \n",
    "        return torch.stack(ids), masks\n",
    "    \n",
    "    def forward_shap(self, token_ids, mask, full_id_matrix=False):\n",
    "        '''Only enabled for one example at a time'''\n",
    "        token_ids = token_ids if token_ids.is_cuda else token_ids.cuda()\n",
    "        \n",
    "        hidden = self.init_hidden(1)\n",
    "        hidden = self.repackage_hidden()\n",
    "        \n",
    "        emb = torch.matmul(token_ids, self.emb_layer.weight).unsqueeze(0)\n",
    "        \n",
    "        out, _ = self.lstm(emb, hidden)\n",
    "        \n",
    "        return self.pred_layer(out).squeeze(0)"
   ]
  },
  {
   "cell_type": "code",
   "execution_count": 32,
   "metadata": {},
   "outputs": [],
   "source": [
    "single = next(iter(train_dataloader))"
   ]
  },
  {
   "cell_type": "code",
   "execution_count": 39,
   "metadata": {},
   "outputs": [
    {
     "data": {
      "text/plain": [
       "tensor([[ 2,  3,  4,  ...,  0,  0,  0],\n",
       "        [ 3, 12, 13,  ...,  0,  0,  0],\n",
       "        [18,  7,  9,  ...,  0,  0,  0],\n",
       "        ...,\n",
       "        [14,  4,  9,  ...,  0,  0,  0],\n",
       "        [ 8, 19, 12,  ...,  0,  0,  0],\n",
       "        [19, 28, 26,  ...,  0,  0,  0]])"
      ]
     },
     "execution_count": 39,
     "metadata": {},
     "output_type": "execute_result"
    }
   ],
   "source": [
    "single[2]"
   ]
  },
  {
   "cell_type": "code",
   "execution_count": 40,
   "metadata": {},
   "outputs": [
    {
     "data": {
      "text/plain": [
       "tensor([14, 12, 10,  4, 18, 24, 28,  6, 14, 24, 18,  9, 10, 26, 15,  4, 26, 26,\n",
       "        25, 20,  9, 26, 21,  3,  7,  9, 12,  6, 28, 11, 28, 23, 27,  7,  6, 19,\n",
       "        27, 17, 21,  4,  4, 25, 26, 10,  5, 16, 14,  4, 29, 15, 27, 26, 27,  8,\n",
       "        25, 27, 14, 11, 12, 22,  5, 19, 12, 18])"
      ]
     },
     "execution_count": 40,
     "metadata": {},
     "output_type": "execute_result"
    }
   ],
   "source": [
    "torch.sum(single[2] != 0, dim=1)"
   ]
  },
  {
   "cell_type": "code",
   "execution_count": 41,
   "metadata": {},
   "outputs": [
    {
     "data": {
      "text/plain": [
       "tensor([18,  7,  9,  9, 19,  7,  2, 12,  5, 20,  0,  0,  0,  0,  0,  0,  0,  0,\n",
       "         0,  0,  0,  0,  0,  0,  0,  0,  0,  0,  0,  0])"
      ]
     },
     "execution_count": 41,
     "metadata": {},
     "output_type": "execute_result"
    }
   ],
   "source": [
    "single[2][2]"
   ]
  },
  {
   "cell_type": "code",
   "execution_count": 42,
   "metadata": {},
   "outputs": [
    {
     "data": {
      "text/plain": [
       "torch.Tensor"
      ]
     },
     "execution_count": 42,
     "metadata": {},
     "output_type": "execute_result"
    }
   ],
   "source": [
    "type(single[1])"
   ]
  },
  {
   "cell_type": "code",
   "execution_count": 43,
   "metadata": {
    "scrolled": true
   },
   "outputs": [
    {
     "data": {
      "text/plain": [
       "tensor([[0],\n",
       "        [1],\n",
       "        [0],\n",
       "        [0],\n",
       "        [0],\n",
       "        [0],\n",
       "        [1],\n",
       "        [1],\n",
       "        [1],\n",
       "        [0],\n",
       "        [0],\n",
       "        [1],\n",
       "        [0],\n",
       "        [0],\n",
       "        [0],\n",
       "        [0],\n",
       "        [1],\n",
       "        [1],\n",
       "        [1],\n",
       "        [1],\n",
       "        [0],\n",
       "        [0],\n",
       "        [1],\n",
       "        [1],\n",
       "        [0],\n",
       "        [1],\n",
       "        [0],\n",
       "        [1],\n",
       "        [1],\n",
       "        [1],\n",
       "        [1],\n",
       "        [0],\n",
       "        [0],\n",
       "        [1],\n",
       "        [0],\n",
       "        [1],\n",
       "        [1],\n",
       "        [0],\n",
       "        [0],\n",
       "        [1],\n",
       "        [0],\n",
       "        [0],\n",
       "        [1],\n",
       "        [1],\n",
       "        [1],\n",
       "        [1],\n",
       "        [1],\n",
       "        [1],\n",
       "        [0],\n",
       "        [1],\n",
       "        [1],\n",
       "        [1],\n",
       "        [1],\n",
       "        [1],\n",
       "        [0],\n",
       "        [1],\n",
       "        [0],\n",
       "        [1],\n",
       "        [1],\n",
       "        [0],\n",
       "        [0],\n",
       "        [1],\n",
       "        [0],\n",
       "        [0]])"
      ]
     },
     "execution_count": 43,
     "metadata": {},
     "output_type": "execute_result"
    }
   ],
   "source": [
    "single[1]"
   ]
  },
  {
   "cell_type": "code",
   "execution_count": 44,
   "metadata": {},
   "outputs": [
    {
     "data": {
      "text/plain": [
       "False"
      ]
     },
     "execution_count": 44,
     "metadata": {},
     "output_type": "execute_result"
    }
   ],
   "source": [
    "single[2].is_cuda"
   ]
  },
  {
   "cell_type": "code",
   "execution_count": null,
   "metadata": {},
   "outputs": [],
   "source": []
  },
  {
   "cell_type": "code",
   "execution_count": 45,
   "metadata": {},
   "outputs": [],
   "source": [
    "model = SimpleLSTM(embedding_dim, hidden_dim, vocab_class, model_device)\n",
    "model = model.cuda()"
   ]
  },
  {
   "cell_type": "code",
   "execution_count": 46,
   "metadata": {},
   "outputs": [
    {
     "data": {
      "text/plain": [
       "SimpleLSTM(\n",
       "  (emb_layer): Embedding(32, 8, padding_idx=0)\n",
       "  (lstm): LSTM(8, 16, batch_first=True, bidirectional=True)\n",
       "  (pred_layer): Linear(in_features=32, out_features=2, bias=True)\n",
       ")"
      ]
     },
     "execution_count": 46,
     "metadata": {},
     "output_type": "execute_result"
    }
   ],
   "source": [
    "model"
   ]
  },
  {
   "cell_type": "code",
   "execution_count": 47,
   "metadata": {},
   "outputs": [
    {
     "data": {
      "text/plain": [
       "device(type='cuda')"
      ]
     },
     "execution_count": 47,
     "metadata": {},
     "output_type": "execute_result"
    }
   ],
   "source": [
    "model_device"
   ]
  },
  {
   "cell_type": "code",
   "execution_count": 48,
   "metadata": {},
   "outputs": [
    {
     "data": {
      "text/plain": [
       "device(type='cuda')"
      ]
     },
     "execution_count": 48,
     "metadata": {},
     "output_type": "execute_result"
    }
   ],
   "source": [
    "model.device"
   ]
  },
  {
   "cell_type": "code",
   "execution_count": 49,
   "metadata": {},
   "outputs": [
    {
     "data": {
      "text/plain": [
       "torch.Size([32, 8])"
      ]
     },
     "execution_count": 49,
     "metadata": {},
     "output_type": "execute_result"
    }
   ],
   "source": [
    "model.emb_layer.weight.shape"
   ]
  },
  {
   "cell_type": "code",
   "execution_count": 50,
   "metadata": {},
   "outputs": [
    {
     "ename": "RuntimeError",
     "evalue": "'lengths' argument should be a 1D CPU int64 tensor, but got 1D cuda:0 Long tensor",
     "output_type": "error",
     "traceback": [
      "\u001b[0;31m---------------------------------------------------------------------------\u001b[0m",
      "\u001b[0;31mRuntimeError\u001b[0m                              Traceback (most recent call last)",
      "\u001b[0;32m<ipython-input-50-aa8380a92dc8>\u001b[0m in \u001b[0;36m<module>\u001b[0;34m\u001b[0m\n\u001b[0;32m----> 1\u001b[0;31m \u001b[0mpreds\u001b[0m \u001b[0;34m=\u001b[0m \u001b[0mmodel\u001b[0m\u001b[0;34m(\u001b[0m\u001b[0msingle\u001b[0m\u001b[0;34m[\u001b[0m\u001b[0;36m2\u001b[0m\u001b[0;34m]\u001b[0m\u001b[0;34m.\u001b[0m\u001b[0mcuda\u001b[0m\u001b[0;34m(\u001b[0m\u001b[0;34m)\u001b[0m\u001b[0;34m)\u001b[0m\u001b[0;34m\u001b[0m\u001b[0;34m\u001b[0m\u001b[0m\n\u001b[0m",
      "\u001b[0;32m~/anaconda3/envs/pytorch_latest_p36/lib/python3.6/site-packages/torch/nn/modules/module.py\u001b[0m in \u001b[0;36m_call_impl\u001b[0;34m(self, *input, **kwargs)\u001b[0m\n\u001b[1;32m    725\u001b[0m             \u001b[0mresult\u001b[0m \u001b[0;34m=\u001b[0m \u001b[0mself\u001b[0m\u001b[0;34m.\u001b[0m\u001b[0m_slow_forward\u001b[0m\u001b[0;34m(\u001b[0m\u001b[0;34m*\u001b[0m\u001b[0minput\u001b[0m\u001b[0;34m,\u001b[0m \u001b[0;34m**\u001b[0m\u001b[0mkwargs\u001b[0m\u001b[0;34m)\u001b[0m\u001b[0;34m\u001b[0m\u001b[0;34m\u001b[0m\u001b[0m\n\u001b[1;32m    726\u001b[0m         \u001b[0;32melse\u001b[0m\u001b[0;34m:\u001b[0m\u001b[0;34m\u001b[0m\u001b[0;34m\u001b[0m\u001b[0m\n\u001b[0;32m--> 727\u001b[0;31m             \u001b[0mresult\u001b[0m \u001b[0;34m=\u001b[0m \u001b[0mself\u001b[0m\u001b[0;34m.\u001b[0m\u001b[0mforward\u001b[0m\u001b[0;34m(\u001b[0m\u001b[0;34m*\u001b[0m\u001b[0minput\u001b[0m\u001b[0;34m,\u001b[0m \u001b[0;34m**\u001b[0m\u001b[0mkwargs\u001b[0m\u001b[0;34m)\u001b[0m\u001b[0;34m\u001b[0m\u001b[0;34m\u001b[0m\u001b[0m\n\u001b[0m\u001b[1;32m    728\u001b[0m         for hook in itertools.chain(\n\u001b[1;32m    729\u001b[0m                 \u001b[0m_global_forward_hooks\u001b[0m\u001b[0;34m.\u001b[0m\u001b[0mvalues\u001b[0m\u001b[0;34m(\u001b[0m\u001b[0;34m)\u001b[0m\u001b[0;34m,\u001b[0m\u001b[0;34m\u001b[0m\u001b[0;34m\u001b[0m\u001b[0m\n",
      "\u001b[0;32m<ipython-input-31-29f9517f87c1>\u001b[0m in \u001b[0;36mforward\u001b[0;34m(self, tokens)\u001b[0m\n\u001b[1;32m     70\u001b[0m \u001b[0;34m\u001b[0m\u001b[0m\n\u001b[1;32m     71\u001b[0m         packed_embedded = nn.utils.rnn.pack_padded_sequence(\n\u001b[0;32m---> 72\u001b[0;31m             embedded, text_lengths, enforce_sorted=False, batch_first=True)\n\u001b[0m\u001b[1;32m     73\u001b[0m \u001b[0;34m\u001b[0m\u001b[0m\n\u001b[1;32m     74\u001b[0m         \u001b[0mpacked_output\u001b[0m\u001b[0;34m,\u001b[0m \u001b[0;34m(\u001b[0m\u001b[0mhidden\u001b[0m\u001b[0;34m,\u001b[0m \u001b[0mcell\u001b[0m\u001b[0;34m)\u001b[0m \u001b[0;34m=\u001b[0m \u001b[0mself\u001b[0m\u001b[0;34m.\u001b[0m\u001b[0mlstm\u001b[0m\u001b[0;34m(\u001b[0m\u001b[0mpacked_embedded\u001b[0m\u001b[0;34m,\u001b[0m \u001b[0mhidden\u001b[0m\u001b[0;34m)\u001b[0m\u001b[0;34m\u001b[0m\u001b[0;34m\u001b[0m\u001b[0m\n",
      "\u001b[0;32m~/anaconda3/envs/pytorch_latest_p36/lib/python3.6/site-packages/torch/nn/utils/rnn.py\u001b[0m in \u001b[0;36mpack_padded_sequence\u001b[0;34m(input, lengths, batch_first, enforce_sorted)\u001b[0m\n\u001b[1;32m    242\u001b[0m \u001b[0;34m\u001b[0m\u001b[0m\n\u001b[1;32m    243\u001b[0m     \u001b[0mdata\u001b[0m\u001b[0;34m,\u001b[0m \u001b[0mbatch_sizes\u001b[0m \u001b[0;34m=\u001b[0m\u001b[0;31m \u001b[0m\u001b[0;31m\\\u001b[0m\u001b[0;34m\u001b[0m\u001b[0;34m\u001b[0m\u001b[0m\n\u001b[0;32m--> 244\u001b[0;31m         \u001b[0m_VF\u001b[0m\u001b[0;34m.\u001b[0m\u001b[0m_pack_padded_sequence\u001b[0m\u001b[0;34m(\u001b[0m\u001b[0minput\u001b[0m\u001b[0;34m,\u001b[0m \u001b[0mlengths\u001b[0m\u001b[0;34m,\u001b[0m \u001b[0mbatch_first\u001b[0m\u001b[0;34m)\u001b[0m\u001b[0;34m\u001b[0m\u001b[0;34m\u001b[0m\u001b[0m\n\u001b[0m\u001b[1;32m    245\u001b[0m     \u001b[0;32mreturn\u001b[0m \u001b[0m_packed_sequence_init\u001b[0m\u001b[0;34m(\u001b[0m\u001b[0mdata\u001b[0m\u001b[0;34m,\u001b[0m \u001b[0mbatch_sizes\u001b[0m\u001b[0;34m,\u001b[0m \u001b[0msorted_indices\u001b[0m\u001b[0;34m,\u001b[0m \u001b[0;32mNone\u001b[0m\u001b[0;34m)\u001b[0m\u001b[0;34m\u001b[0m\u001b[0;34m\u001b[0m\u001b[0m\n\u001b[1;32m    246\u001b[0m \u001b[0;34m\u001b[0m\u001b[0m\n",
      "\u001b[0;31mRuntimeError\u001b[0m: 'lengths' argument should be a 1D CPU int64 tensor, but got 1D cuda:0 Long tensor"
     ]
    }
   ],
   "source": [
    "preds = model(single[2].cuda())"
   ]
  },
  {
   "cell_type": "code",
   "execution_count": 222,
   "metadata": {},
   "outputs": [
    {
     "data": {
      "text/plain": [
       "('YY7IC1FOD3',\n",
       " tensor([0]),\n",
       " tensor([ 2,  3,  4,  5,  6,  7,  8,  4,  2,  2,  9,  8,  4, 10, 11,  8,  4,  7,\n",
       "         12,  7, 13, 14,  2, 15,  9,  7, 16, 17,  0,  0]))"
      ]
     },
     "execution_count": 222,
     "metadata": {},
     "output_type": "execute_result"
    }
   ],
   "source": [
    "toy_dataset[0]"
   ]
  },
  {
   "cell_type": "code",
   "execution_count": 223,
   "metadata": {},
   "outputs": [
    {
     "data": {
      "text/plain": [
       "('YXRO57K7EL',\n",
       " 1,\n",
       " ['annual_physical',\n",
       "  'myopia',\n",
       "  'backache',\n",
       "  'annual_physical',\n",
       "  'cut_finger',\n",
       "  'ingrown_nail',\n",
       "  'hay_fever',\n",
       "  'peanut_allergy',\n",
       "  'CHF'])"
      ]
     },
     "execution_count": 223,
     "metadata": {},
     "output_type": "execute_result"
    }
   ],
   "source": [
    "token_list[3]"
   ]
  },
  {
   "cell_type": "code",
   "execution_count": 224,
   "metadata": {},
   "outputs": [
    {
     "data": {
      "text/plain": [
       "(tensor([[0., 0., 0., 0., 0., 0., 0., 1., 0., 0., 0., 0., 0., 0., 0., 0., 0., 0.,\n",
       "          0., 0., 0., 0., 0., 0., 0., 0., 0., 0., 0., 0., 0., 0.],\n",
       "         [0., 0., 0., 0., 0., 0., 0., 0., 0., 0., 1., 0., 0., 0., 0., 0., 0., 0.,\n",
       "          0., 0., 0., 0., 0., 0., 0., 0., 0., 0., 0., 0., 0., 0.],\n",
       "         [0., 0., 0., 0., 0., 0., 0., 0., 0., 0., 0., 0., 0., 0., 0., 0., 0., 0.,\n",
       "          0., 0., 0., 1., 0., 0., 0., 0., 0., 0., 0., 0., 0., 0.],\n",
       "         [0., 0., 0., 0., 0., 0., 0., 1., 0., 0., 0., 0., 0., 0., 0., 0., 0., 0.,\n",
       "          0., 0., 0., 0., 0., 0., 0., 0., 0., 0., 0., 0., 0., 0.],\n",
       "         [0., 0., 0., 1., 0., 0., 0., 0., 0., 0., 0., 0., 0., 0., 0., 0., 0., 0.,\n",
       "          0., 0., 0., 0., 0., 0., 0., 0., 0., 0., 0., 0., 0., 0.],\n",
       "         [0., 0., 0., 0., 0., 0., 0., 0., 0., 0., 0., 1., 0., 0., 0., 0., 0., 0.,\n",
       "          0., 0., 0., 0., 0., 0., 0., 0., 0., 0., 0., 0., 0., 0.],\n",
       "         [0., 0., 0., 0., 0., 0., 0., 0., 0., 0., 0., 0., 0., 1., 0., 0., 0., 0.,\n",
       "          0., 0., 0., 0., 0., 0., 0., 0., 0., 0., 0., 0., 0., 0.],\n",
       "         [0., 0., 0., 0., 0., 1., 0., 0., 0., 0., 0., 0., 0., 0., 0., 0., 0., 0.,\n",
       "          0., 0., 0., 0., 0., 0., 0., 0., 0., 0., 0., 0., 0., 0.],\n",
       "         [0., 0., 0., 0., 0., 0., 0., 0., 0., 0., 0., 0., 0., 0., 0., 0., 0., 0.,\n",
       "          0., 0., 0., 0., 0., 0., 1., 0., 0., 0., 0., 0., 0., 0.],\n",
       "         [0., 0., 0., 0., 0., 0., 0., 0., 0., 0., 0., 0., 0., 0., 0., 0., 0., 0.,\n",
       "          0., 0., 0., 0., 0., 0., 0., 0., 0., 0., 0., 0., 0., 0.],\n",
       "         [0., 0., 0., 0., 0., 0., 0., 0., 0., 0., 0., 0., 0., 0., 0., 0., 0., 0.,\n",
       "          0., 0., 0., 0., 0., 0., 0., 0., 0., 0., 0., 0., 0., 0.],\n",
       "         [0., 0., 0., 0., 0., 0., 0., 0., 0., 0., 0., 0., 0., 0., 0., 0., 0., 0.,\n",
       "          0., 0., 0., 0., 0., 0., 0., 0., 0., 0., 0., 0., 0., 0.],\n",
       "         [0., 0., 0., 0., 0., 0., 0., 0., 0., 0., 0., 0., 0., 0., 0., 0., 0., 0.,\n",
       "          0., 0., 0., 0., 0., 0., 0., 0., 0., 0., 0., 0., 0., 0.],\n",
       "         [0., 0., 0., 0., 0., 0., 0., 0., 0., 0., 0., 0., 0., 0., 0., 0., 0., 0.,\n",
       "          0., 0., 0., 0., 0., 0., 0., 0., 0., 0., 0., 0., 0., 0.],\n",
       "         [0., 0., 0., 0., 0., 0., 0., 0., 0., 0., 0., 0., 0., 0., 0., 0., 0., 0.,\n",
       "          0., 0., 0., 0., 0., 0., 0., 0., 0., 0., 0., 0., 0., 0.]]),\n",
       " [1, 1, 1, 1, 1, 1, 1, 1, 1, 0, 0, 0, 0, 0, 0])"
      ]
     },
     "execution_count": 224,
     "metadata": {},
     "output_type": "execute_result"
    }
   ],
   "source": [
    "model.get_ids_masks(toy_dataset[3][2], 15)"
   ]
  },
  {
   "cell_type": "code",
   "execution_count": 225,
   "metadata": {},
   "outputs": [],
   "source": [
    "ids, mask = model.get_ids_masks(toy_dataset[3][2], 15)"
   ]
  },
  {
   "cell_type": "code",
   "execution_count": 226,
   "metadata": {},
   "outputs": [
    {
     "data": {
      "text/plain": [
       "torch.Size([15, 2])"
      ]
     },
     "execution_count": 226,
     "metadata": {},
     "output_type": "execute_result"
    }
   ],
   "source": [
    "model.forward_shap(ids, mask).shape"
   ]
  },
  {
   "cell_type": "code",
   "execution_count": 126,
   "metadata": {},
   "outputs": [],
   "source": [
    "import seaborn\n",
    "import matplotlib.pyplot as plt"
   ]
  },
  {
   "cell_type": "code",
   "execution_count": 193,
   "metadata": {},
   "outputs": [
    {
     "data": {
      "text/plain": [
       "<matplotlib.axes._subplots.AxesSubplot at 0x7fd83e4f0860>"
      ]
     },
     "execution_count": 193,
     "metadata": {},
     "output_type": "execute_result"
    },
    {
     "data": {
      "image/png": "[encoded data removed]",
      "text/plain": [
       "<Figure size 1440x1440 with 2 Axes>"
      ]
     },
     "metadata": {
      "needs_background": "light"
     },
     "output_type": "display_data"
    }
   ],
   "source": [
    "plt.figure(figsize=(20, 20))\n",
    "seaborn.heatmap(model.get_ids_masks(toy_dataset[3][2], 15)[0],\n",
    "                linewidths=0.4, cmap=\"YlGnBu\", linecolor='gray', \n",
    "                vmin=0, vmax=1)"
   ]
  },
  {
   "cell_type": "code",
   "execution_count": null,
   "metadata": {},
   "outputs": [],
   "source": []
  },
  {
   "cell_type": "code",
   "execution_count": null,
   "metadata": {},
   "outputs": [],
   "source": []
  },
  {
   "cell_type": "code",
   "execution_count": null,
   "metadata": {},
   "outputs": [],
   "source": []
  },
  {
   "cell_type": "code",
   "execution_count": null,
   "metadata": {},
   "outputs": [],
   "source": []
  },
  {
   "cell_type": "code",
   "execution_count": null,
   "metadata": {},
   "outputs": [],
   "source": []
  },
  {
   "cell_type": "code",
   "execution_count": null,
   "metadata": {},
   "outputs": [],
   "source": []
  },
  {
   "cell_type": "code",
   "execution_count": null,
   "metadata": {},
   "outputs": [],
   "source": []
  },
  {
   "cell_type": "code",
   "execution_count": null,
   "metadata": {},
   "outputs": [],
   "source": []
  },
  {
   "cell_type": "code",
   "execution_count": null,
   "metadata": {},
   "outputs": [],
   "source": []
  },
  {
   "cell_type": "code",
   "execution_count": null,
   "metadata": {},
   "outputs": [],
   "source": []
  },
  {
   "cell_type": "code",
   "execution_count": null,
   "metadata": {},
   "outputs": [],
   "source": []
  },
  {
   "cell_type": "markdown",
   "metadata": {},
   "source": [
    "## Training loop"
   ]
  },
  {
   "cell_type": "code",
   "execution_count": 59,
   "metadata": {},
   "outputs": [],
   "source": [
    "def epoch_train_lstm(\n",
    "    model,\n",
    "    dataloader,\n",
    "    optimizer,\n",
    "    criterion,\n",
    "    test=0\n",
    "):\n",
    "    \"\"\"\n",
    "    Train model for an epoch, called by ModelProcess function\n",
    "    detach_hidden is used to detach hidden state between batches,\n",
    "    and will add a new hidden state to model. Model must have .init_hidden function defined\n",
    "    \n",
    "    Args:\n",
    "    -----\n",
    "        model (nn.Module): lstm general attention model\n",
    "        dataloader : iterator for dataset, yields (ids, sequence, seq length, labels)\n",
    "        criterion : loss function\n",
    "        batch_size : int default 0\n",
    "                     used when detach_hidden is enabled\n",
    "                     to create the correct hidden sizes during initialization\n",
    "        \n",
    "    Returns:\n",
    "    ----------\n",
    "        tuple containing:\n",
    "            average loss for whole epoch,\n",
    "            average AUC for whole epoch\n",
    "    \"\"\"\n",
    "    import copy\n",
    "    from sklearn.metrics import roc_auc_score\n",
    "           \n",
    "    epoch_loss = 0\n",
    "    epoch_metric = 0\n",
    "\n",
    "    model.train()\n",
    "\n",
    "    # initialize lists to compare predictions & ground truth labels for metric calculation\n",
    "    order_labels = []\n",
    "    prediction_scores = []\n",
    "    if test: # test function on small number of batches\n",
    "        counter = 0\n",
    "        \n",
    "    for idx, (ids, labels, idxed_text) in enumerate(dataloader):\n",
    "        \n",
    "        optimizer.zero_grad()\n",
    "          \n",
    "        labels = labels.type(torch.long)\n",
    "        idxed_text, labels = idxed_text.cuda(), labels.cuda()\n",
    "\n",
    "        predictions = model(idxed_text)        \n",
    "        #predictions = model(text, text_lengths).squeeze(1)\n",
    "        \n",
    "        \n",
    "        loss = criterion(predictions, labels.squeeze(1))\n",
    "        loss.backward()\n",
    "        optimizer.step()\n",
    "\n",
    "        # prevent internal pytorch timeout due to too many file opens by multiprocessing\n",
    "        copied_labels = copy.deepcopy(labels.detach().cpu().numpy())\n",
    "        del labels\n",
    "        order_labels.extend(copied_labels)\n",
    "        \n",
    "        copied_preds = copy.deepcopy(predictions.detach().cpu().numpy())\n",
    "        del predictions\n",
    "        prediction_scores.extend(copied_preds)\n",
    "        \n",
    "        epoch_loss += loss.item()        \n",
    "    \n",
    "        if test:\n",
    "            if counter >= test:\n",
    "                break\n",
    "            counter += 1\n",
    "    \n",
    "    epoch_metric = roc_auc_score(order_labels, torch.sigmoid(torch.Tensor(prediction_scores)[:, 1]))\n",
    "        \n",
    "    return epoch_loss / len(dataloader), epoch_metric"
   ]
  },
  {
   "cell_type": "code",
   "execution_count": 60,
   "metadata": {},
   "outputs": [],
   "source": [
    "loss_function = nn.CrossEntropyLoss()\n",
    "optimizer = torch.optim.Adam(model.parameters(), lr=0.05)"
   ]
  },
  {
   "cell_type": "code",
   "execution_count": 62,
   "metadata": {},
   "outputs": [
    {
     "data": {
      "text/plain": [
       "(0.4665308780968189, 0.8722856091277145)"
      ]
     },
     "execution_count": 62,
     "metadata": {},
     "output_type": "execute_result"
    }
   ],
   "source": [
    "epoch_train_lstm(\n",
    "    model=model,\n",
    "    dataloader=train_dataloader,\n",
    "    optimizer=optimizer,\n",
    "    criterion=loss_function,\n",
    "    test=0    \n",
    ")"
   ]
  },
  {
   "cell_type": "code",
   "execution_count": 63,
   "metadata": {},
   "outputs": [
    {
     "data": {
      "text/plain": [
       "(0.3564494103193283, 0.9007537085340289)"
      ]
     },
     "execution_count": 63,
     "metadata": {},
     "output_type": "execute_result"
    }
   ],
   "source": [
    "epoch_train_lstm(\n",
    "    model=model,\n",
    "    dataloader=train_dataloader,\n",
    "    optimizer=optimizer,\n",
    "    criterion=loss_function,\n",
    "    test=0    \n",
    ")"
   ]
  },
  {
   "cell_type": "code",
   "execution_count": 64,
   "metadata": {},
   "outputs": [],
   "source": [
    "import time"
   ]
  },
  {
   "cell_type": "code",
   "execution_count": 67,
   "metadata": {},
   "outputs": [
    {
     "name": "stdout",
     "output_type": "stream",
     "text": [
      "Train Loss: 0.333 | Train AUC: 0.92\n",
      "Train Loss: 0.326 | Train AUC: 0.93\n",
      "Train Loss: 0.315 | Train AUC: 0.93\n",
      "Train Loss: 0.306 | Train AUC: 0.94\n",
      "Train Loss: 0.288 | Train AUC: 0.95\n"
     ]
    }
   ],
   "source": [
    "#best_valid_loss = float(\"inf\")\n",
    "#valid_worse_loss = 0  # enable early stopping\n",
    "#stop_num = 6\n",
    "\n",
    "for epoch in range(n_epochs):\n",
    "\n",
    "    start_time = time.time()\n",
    "\n",
    "    train_loss, train_auc = epoch_train_lstm(\n",
    "        model, train_dataloader, optimizer, loss_function\n",
    "    )\n",
    "\n",
    "    #valid_loss, valid_auc = epoch_val_lstm(\n",
    "    #    model, valid_dataloader, criterion, return_preds=False\n",
    "    #)\n",
    "\n",
    "    end_time = time.time()\n",
    "\n",
    "    #epoch_mins, epoch_secs = epoch_time(start_time, end_time)\n",
    "    \n",
    "    #print(f\"Epoch: {epoch+1:02} | Epoch Time: {epoch_mins}m {epoch_secs}s\")\n",
    "\n",
    "    '''\n",
    "    if valid_loss < best_valid_loss:\n",
    "        best_valid_loss = valid_loss\n",
    "        torch.save(model.state_dict(), model_save_path)\n",
    "        print(\"Saved Model, epoch {}\".format(epoch))\n",
    "        valid_worse_loss = 0\n",
    "\n",
    "    else:\n",
    "        valid_worse_loss += 1\n",
    "        if valid_worse_loss == stop_num:\n",
    "            print(\"EARLY STOP ------\")\n",
    "            break\n",
    "\n",
    "    scheduler.step()\n",
    "    log(\n",
    "        f\"Train Loss: {train_loss:.3f} | Train AUC: {train_auc:.2f} \\t Val. Loss: {valid_loss:.3f} |  Val. AUC: {valid_auc:.4f}\"\n",
    "    )'''\n",
    "    \n",
    "    print(\n",
    "        f\"Train Loss: {train_loss:.3f} | Train AUC: {train_auc:.2f}\"\n",
    "    )"
   ]
  },
  {
   "cell_type": "markdown",
   "metadata": {},
   "source": [
    "## GEt SHAP values"
   ]
  },
  {
   "cell_type": "code",
   "execution_count": 237,
   "metadata": {},
   "outputs": [],
   "source": [
    "import deep_id_pytorch"
   ]
  },
  {
   "cell_type": "code",
   "execution_count": 238,
   "metadata": {},
   "outputs": [],
   "source": [
    "background = next(iter(train_dataloader))\n",
    "background_ids, background_labels, background_idxes = background"
   ]
  },
  {
   "cell_type": "code",
   "execution_count": 239,
   "metadata": {},
   "outputs": [
    {
     "data": {
      "text/plain": [
       "torch.Size([64, 30])"
      ]
     },
     "execution_count": 239,
     "metadata": {},
     "output_type": "execute_result"
    }
   ],
   "source": [
    "background_idxes.shape"
   ]
  },
  {
   "cell_type": "code",
   "execution_count": 240,
   "metadata": {},
   "outputs": [],
   "source": [
    "bg_data, bg_masks = model.get_all_ids_masks(background_idxes, 20)"
   ]
  },
  {
   "cell_type": "code",
   "execution_count": 241,
   "metadata": {},
   "outputs": [
    {
     "data": {
      "text/plain": [
       "torch.Size([64, 20, 32])"
      ]
     },
     "execution_count": 241,
     "metadata": {},
     "output_type": "execute_result"
    }
   ],
   "source": [
    "bg_data.shape"
   ]
  },
  {
   "cell_type": "code",
   "execution_count": 242,
   "metadata": {},
   "outputs": [
    {
     "name": "stderr",
     "output_type": "stream",
     "text": [
      "64it [00:00, 919.04it/s]\n"
     ]
    }
   ],
   "source": [
    "explainer = deep_id_pytorch.CustomPyTorchDeepIDExplainer(model, bg_data, bg_masks,\n",
    "                                                         gpu_memory_efficient=True)"
   ]
  },
  {
   "cell_type": "code",
   "execution_count": 243,
   "metadata": {},
   "outputs": [],
   "source": [
    "model.train() # in case that shap complains that autograd cannot be called\n",
    "lstm_values = []\n",
    "features = []\n",
    "start = 0"
   ]
  },
  {
   "cell_type": "code",
   "execution_count": 244,
   "metadata": {},
   "outputs": [],
   "source": [
    "test = list(train_dataloader)[3]\n",
    "test_ids, test_labels, test_idxes = test"
   ]
  },
  {
   "cell_type": "code",
   "execution_count": 245,
   "metadata": {},
   "outputs": [],
   "source": [
    "test_data, test_masks = model.get_all_ids_masks(test_idxes, 20)"
   ]
  },
  {
   "cell_type": "code",
   "execution_count": 246,
   "metadata": {},
   "outputs": [
    {
     "data": {
      "text/plain": [
       "torch.Size([20, 32])"
      ]
     },
     "execution_count": 246,
     "metadata": {},
     "output_type": "execute_result"
    }
   ],
   "source": [
    "test_data[0].shape"
   ]
  },
  {
   "cell_type": "code",
   "execution_count": 247,
   "metadata": {},
   "outputs": [
    {
     "data": {
      "text/plain": [
       "20"
      ]
     },
     "execution_count": 247,
     "metadata": {},
     "output_type": "execute_result"
    }
   ],
   "source": [
    "len(test_masks[0])"
   ]
  },
  {
   "cell_type": "code",
   "execution_count": 249,
   "metadata": {},
   "outputs": [
    {
     "name": "stderr",
     "output_type": "stream",
     "text": [
      "128it [00:00, 339.40it/s]\n",
      "128it [00:00, 321.75it/s]\n"
     ]
    }
   ],
   "source": [
    "lstm_shap_values = explainer.shap_values(test_data[0].unsqueeze(0), test_masks[0])"
   ]
  },
  {
   "cell_type": "code",
   "execution_count": null,
   "metadata": {},
   "outputs": [],
   "source": []
  }
 ],
 "metadata": {
  "kernelspec": {
   "display_name": "conda_pytorch_p36",
   "language": "python",
   "name": "conda_pytorch_p36"
  },
  "language_info": {
   "codemirror_mode": {
    "name": "ipython",
    "version": 3
   },
   "file_extension": ".py",
   "mimetype": "text/x-python",
   "name": "python",
   "nbconvert_exporter": "python",
   "pygments_lexer": "ipython3",
   "version": "3.6.10"
  }
 },
 "nbformat": 4,
 "nbformat_minor": 4
}
