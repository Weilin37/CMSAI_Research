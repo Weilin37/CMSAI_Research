{
 "cells": [
  {
   "cell_type": "markdown",
   "metadata": {},
   "source": [
    "# Computing SHAP values and Jaccard Index Similarities\n",
    "\n",
    "<font color='purple'>\n",
    "    \n",
    "Comments:\n",
    "    \n",
    "- Add author, date\n",
    "    \n",
    "- Describe purpose:     \n",
    "    - sequential notebook to the previous one, \n",
    "    - what experiments you are running here\n",
    "    - what metrics you are using to run those experiments\n",
    "    \n",
    "- Outputs and requirements (other files etc)\n",
    "    \n",
    "- Steps\n",
    "    \n",
    "- Data used for this notebook (type, volume, length, etc)\n",
    "\n",
    "- Observations of experiments\n",
    "- Any actions/next steps/thoughts/discussion\n",
    "- You need to black the notebook for readibility\n",
    "</font>"
   ]
  },
  {
   "cell_type": "code",
   "execution_count": 25,
   "metadata": {},
   "outputs": [],
   "source": [
    "#! jupyter nbextension enable jupyter-black-master/jupyter-black\n",
    "\n",
    "#! pip install botocore==1.12.201\n",
    "\n",
    "#! pip install shap\n",
    "#! pip install xgboost"
   ]
  },
  {
   "cell_type": "code",
   "execution_count": 1,
   "metadata": {},
   "outputs": [],
   "source": [
    "import os\n",
    "import time\n",
    "import torch\n",
    "import pandas as pd\n",
    "import numpy as np\n",
    "import time\n",
    "import matplotlib.pyplot as plt\n",
    "import seaborn as sns\n",
    "\n",
    "from collections import Counter\n",
    "\n",
    "import torch\n",
    "import torch.nn as nn\n",
    "from torch.utils.data import DataLoader\n",
    "from urllib.parse import urlparse\n",
    "import tarfile\n",
    "import pickle\n",
    "import shutil\n",
    "\n",
    "import shap\n",
    "import xgboost as xgb\n",
    "\n",
    "import sagemaker\n",
    "import boto3\n",
    "from sagemaker.tuner import IntegerParameter, CategoricalParameter, ContinuousParameter, HyperparameterTuner\n",
    "from sagemaker.image_uris import retrieve\n",
    "\n",
    "import deep_id_pytorch\n",
    "\n",
    "from lstm_models import *\n",
    "from att_lstm_models import *\n",
    "from lstm_utils import *\n",
    "from xgboost_utils import *\n",
    "from shap_jacc_utils import *"
   ]
  },
  {
   "cell_type": "markdown",
   "metadata": {},
   "source": [
    "## 1. LSTM Dataset and Model Loading"
   ]
  },
  {
   "cell_type": "markdown",
   "metadata": {},
   "source": [
    "## Constants"
   ]
  },
  {
   "cell_type": "code",
   "execution_count": 2,
   "metadata": {},
   "outputs": [],
   "source": [
    "nrows = 1e9\n",
    "min_freq = 1\n",
    "\n",
    "seq_len = 30\n",
    "\n",
    "train_data_path = \"../../data/toy_dataset/data/{}/train.csv\".format(seq_len)\n",
    "valid_data_path = \"../../data/toy_dataset/data/{}/val.csv\".format(seq_len)\n",
    "test_data_path = \"../../data/toy_dataset/data/{}/test.csv\".format(seq_len)\n",
    "\n",
    "lstm_shap_features_path = \"./output/{}/shap/features/lstm_features.pkl\".format(seq_len)\n",
    "lstm_shap_scores_path = \"./output/{}/shap/feature-importance/lstm_scores.pkl\".format(\n",
    "    seq_len\n",
    ")\n",
    "lstm_shap_patients_path = (\n",
    "    \"./output/{}/shap/feature-importance/lstm_patients.pkl\".format(seq_len)\n",
    ")\n",
    "\n",
    "lstm_att_shap_features_path = \"./output/{}/shap/features/lstm_att_features.pkl\".format(\n",
    "    seq_len\n",
    ")\n",
    "lstm_att_shap_scores_path = (\n",
    "    \"./output/{}/shap/feature-importance/lstm_att_scores.pkl\".format(seq_len)\n",
    ")\n",
    "lstm_att_shap_patients_path = (\n",
    "    \"./output/{}/shap/feature-importance/lstm_att_patients.pkl\".format(seq_len)\n",
    ")\n",
    "\n",
    "lstm_model_save_path = \"./output/{}/lstm/models/model\".format(seq_len)\n",
    "lstm_results_save_path = \"./output/{}/lstm/results/\".format(seq_len)\n",
    "\n",
    "lstm_att_model_save_path = \"./output/{}/lstm-att/models/model\".format(seq_len)\n",
    "lstm_att_results_save_path = \"./output/{}/lstm-att/results/\".format(seq_len)\n",
    "\n",
    "batch_size = 64\n",
    "\n",
    "embedding_dim = 8\n",
    "hidden_dim = 16\n",
    "nlayers = 1\n",
    "bidirectional = True\n",
    "dropout = 0.3\n",
    "\n",
    "target_colname = \"label\"\n",
    "uid_colname = \"patient_id\"\n",
    "x_inputs = [str(x) for x in range(29, -1, -1)]\n",
    "target_value = \"1\"\n",
    "\n",
    "rev = False"
   ]
  },
  {
   "cell_type": "code",
   "execution_count": 3,
   "metadata": {},
   "outputs": [
    {
     "name": "stdout",
     "output_type": "stream",
     "text": [
      "Cuda available: True\n"
     ]
    }
   ],
   "source": [
    "for fp in [lstm_model_save_path, lstm_results_save_path]:\n",
    "    if not os.path.isdir(os.path.split(fp)[0]):\n",
    "        print(f\"New directory created: {fp}\")\n",
    "        os.makedirs(os.path.split(fp)[0])\n",
    "\n",
    "for fp in [lstm_att_model_save_path, lstm_att_results_save_path]:\n",
    "    if not os.path.isdir(os.path.split(fp)[0]):\n",
    "        print(f\"New directory created: {fp}\")\n",
    "        os.makedirs(os.path.split(fp)[0])\n",
    "\n",
    "print(f\"Cuda available: {torch.cuda.is_available()}\")\n",
    "model_device = torch.device(\"cuda\" if torch.cuda.is_available() else \"cpu\")"
   ]
  },
  {
   "cell_type": "markdown",
   "metadata": {},
   "source": [
    "### Create Vocab and Build Dataset"
   ]
  },
  {
   "cell_type": "code",
   "execution_count": 4,
   "metadata": {},
   "outputs": [
    {
     "name": "stdout",
     "output_type": "stream",
     "text": [
      "Building dataset from ../../data/toy_dataset/data/30/train.csv..\n",
      "Success!\n",
      "Building dataset from ../../data/toy_dataset/data/30/val.csv..\n",
      "Success!\n",
      "Building dataset from ../../data/toy_dataset/data/30/test.csv..\n",
      "Success!\n"
     ]
    }
   ],
   "source": [
    "train_dataset, vocab = build_lstm_dataset(\n",
    "    train_data_path,\n",
    "    min_freq=min_freq,\n",
    "    uid_colname=\"patient_id\",\n",
    "    target_colname=\"label\",\n",
    "    max_len=seq_len,\n",
    "    target_value=target_value,\n",
    "    vocab=None,\n",
    "    nrows=nrows,\n",
    "    rev=rev,\n",
    ")\n",
    "\n",
    "valid_dataset, _ = build_lstm_dataset(\n",
    "    valid_data_path,\n",
    "    min_freq=min_freq,\n",
    "    uid_colname=\"patient_id\",\n",
    "    target_colname=\"label\",\n",
    "    max_len=seq_len,\n",
    "    target_value=target_value,\n",
    "    vocab=vocab,\n",
    "    nrows=nrows,\n",
    "    rev=rev,\n",
    ")\n",
    "\n",
    "test_dataset, _ = build_lstm_dataset(\n",
    "    test_data_path,\n",
    "    min_freq=min_freq,\n",
    "    uid_colname=\"patient_id\",\n",
    "    target_colname=\"label\",\n",
    "    max_len=seq_len,\n",
    "    target_value=target_value,\n",
    "    vocab=vocab,\n",
    "    nrows=nrows,\n",
    "    rev=rev,\n",
    ")"
   ]
  },
  {
   "cell_type": "code",
   "execution_count": 5,
   "metadata": {},
   "outputs": [],
   "source": [
    "train_dataloader = DataLoader(\n",
    "    train_dataset,\n",
    "    batch_size=batch_size,\n",
    "    shuffle=True,\n",
    "    num_workers=2\n",
    ")\n",
    "\n",
    "valid_dataloader = DataLoader(\n",
    "    valid_dataset,\n",
    "    batch_size=batch_size,\n",
    "    shuffle=False,\n",
    "    num_workers=2\n",
    ")\n",
    "\n",
    "test_dataloader = DataLoader(\n",
    "    test_dataset,\n",
    "    batch_size=batch_size,\n",
    "    shuffle=False,\n",
    "    num_workers=2\n",
    ")"
   ]
  },
  {
   "cell_type": "markdown",
   "metadata": {},
   "source": [
    "### LSTM Model Loading and Evaluation"
   ]
  },
  {
   "cell_type": "code",
   "execution_count": 6,
   "metadata": {},
   "outputs": [],
   "source": [
    "lstm_model = SimpleLSTM(\n",
    "    embedding_dim, hidden_dim, vocab, model_device, nlayers=nlayers, dropout=dropout\n",
    ")\n",
    "lstm_model = lstm_model.cuda()"
   ]
  },
  {
   "cell_type": "code",
   "execution_count": 7,
   "metadata": {},
   "outputs": [
    {
     "data": {
      "text/plain": [
       "SimpleLSTM(\n",
       "  (emb_layer): Embedding(32, 8, padding_idx=0)\n",
       "  (lstm): LSTM(8, 16, batch_first=True, dropout=0.3, bidirectional=True)\n",
       "  (pred_layer): Linear(in_features=32, out_features=1, bias=True)\n",
       "  (dpt): Dropout(p=0.3, inplace=False)\n",
       ")"
      ]
     },
     "execution_count": 7,
     "metadata": {},
     "output_type": "execute_result"
    }
   ],
   "source": [
    "lstm_model"
   ]
  },
  {
   "cell_type": "code",
   "execution_count": 8,
   "metadata": {},
   "outputs": [],
   "source": [
    "#loss_function = nn.CrossEntropyLoss()\n",
    "loss_function = nn.BCEWithLogitsLoss()"
   ]
  },
  {
   "cell_type": "code",
   "execution_count": 9,
   "metadata": {},
   "outputs": [
    {
     "name": "stdout",
     "output_type": "stream",
     "text": [
      "Test Loss: 0.325 | Test AUC: 0.91\n"
     ]
    }
   ],
   "source": [
    "lstm_model.load_state_dict(torch.load(lstm_model_save_path))\n",
    "\n",
    "test_loss, test_auc = epoch_val_lstm(\n",
    "    lstm_model, test_dataloader, loss_function\n",
    ")  # , return_preds=False\n",
    "\n",
    "print(f\"Test Loss: {test_loss:.3f} | Test AUC: {test_auc:.2f}\")"
   ]
  },
  {
   "cell_type": "markdown",
   "metadata": {},
   "source": [
    "## 3. LSTM with Attention Model Loading and Evaluation"
   ]
  },
  {
   "cell_type": "code",
   "execution_count": 10,
   "metadata": {},
   "outputs": [],
   "source": [
    "lstm_att_model = AttLSTM(embedding_dim, hidden_dim, vocab, model_device, nlayers=nlayers, dropout=dropout)\n",
    "lstm_att_model = lstm_att_model.cuda()"
   ]
  },
  {
   "cell_type": "code",
   "execution_count": 11,
   "metadata": {},
   "outputs": [
    {
     "data": {
      "text/plain": [
       "AttLSTM(\n",
       "  (emb_layer): Embedding(32, 8, padding_idx=0)\n",
       "  (lstm): LSTM(8, 16, batch_first=True, dropout=0.3, bidirectional=True)\n",
       "  (pred_layer): Linear(in_features=64, out_features=1, bias=True)\n",
       "  (attn_layer): Linear(in_features=32, out_features=1, bias=True)\n",
       "  (dpt): Dropout(p=0.3, inplace=False)\n",
       "  (context_layer): Linear(in_features=32, out_features=1, bias=True)\n",
       ")"
      ]
     },
     "execution_count": 11,
     "metadata": {},
     "output_type": "execute_result"
    }
   ],
   "source": [
    "lstm_att_model"
   ]
  },
  {
   "cell_type": "code",
   "execution_count": 12,
   "metadata": {},
   "outputs": [],
   "source": [
    "#loss_function = nn.CrossEntropyLoss()\n",
    "loss_function = nn.BCEWithLogitsLoss()"
   ]
  },
  {
   "cell_type": "code",
   "execution_count": 13,
   "metadata": {},
   "outputs": [
    {
     "name": "stdout",
     "output_type": "stream",
     "text": [
      "Test Loss: 0.321 | Test AUC: 0.91\n"
     ]
    }
   ],
   "source": [
    "lstm_att_model.load_state_dict(torch.load(lstm_att_model_save_path))\n",
    "test_loss, test_auc = epoch_val_lstm(\n",
    "   lstm_att_model, test_dataloader, loss_function)#, return_preds=False\n",
    "\n",
    "print(f\"Test Loss: {test_loss:.3f} | Test AUC: {test_auc:.2f}\")"
   ]
  },
  {
   "cell_type": "markdown",
   "metadata": {},
   "source": [
    "## 2. XGBoost Dataset and Model Loading"
   ]
  },
  {
   "cell_type": "markdown",
   "metadata": {},
   "source": [
    "### Data Preprocessing"
   ]
  },
  {
   "cell_type": "code",
   "execution_count": 14,
   "metadata": {},
   "outputs": [],
   "source": [
    "x_train_one_hot_path = 'output/{}/xgboost/data/train_one_hot.csv'.format(seq_len)\n",
    "x_valid_one_hot_path = 'output/{}/xgboost/data/val_one_hot.csv'.format(seq_len)\n",
    "x_test_one_hot_path = 'output/{}/xgboost/data/test_one_hot.csv'.format(seq_len)\n",
    "\n",
    "x_train_data_path = 'output/{}/xgboost/data/train.csv'.format(seq_len)\n",
    "x_valid_data_path = 'output/{}/xgboost/data/val.csv'.format(seq_len)\n",
    "x_test_data_path = 'output/{}/xgboost/data/test.csv'.format(seq_len)\n",
    "\n",
    "s3_output_data_dir = 's3://merck-paper-bucket/{}/data'.format(seq_len)\n",
    "\n",
    "xgb_shap_features_path = './output/{}/shap/features/xgb_features.pkl'.format(seq_len)\n",
    "xgb_shap_scores_path = './output/{}/shap/feature-importance/xgb_scores.pkl'.format(seq_len)\n",
    "xgb_shap_patients_path = './output/{}/shap/feature-importance/xgb_patients.pkl'.format(seq_len)\n",
    "\n",
    "BUCKET = 'merck-paper-bucket'\n",
    "DATA_PREFIX = '{}/data'.format(seq_len)\n",
    "MODEL_PREFIX = '{}/xgboost/model'.format(seq_len)\n",
    "label = 'label'\n",
    "\n",
    "output_results_path = 'output/{}/xgboost/train/train_results.csv'.format(seq_len)\n",
    "local_model_dir = 'output/{}/xgboost/models/'\n",
    "s3_output_path = 's3://{}/{}/output'.format(BUCKET, MODEL_PREFIX)"
   ]
  },
  {
   "cell_type": "code",
   "execution_count": 15,
   "metadata": {},
   "outputs": [
    {
     "name": "stdout",
     "output_type": "stream",
     "text": [
      "(18000, 33)\n"
     ]
    },
    {
     "data": {
      "text/html": [
       "<div>\n",
       "<style scoped>\n",
       "    .dataframe tbody tr th:only-of-type {\n",
       "        vertical-align: middle;\n",
       "    }\n",
       "\n",
       "    .dataframe tbody tr th {\n",
       "        vertical-align: top;\n",
       "    }\n",
       "\n",
       "    .dataframe thead th {\n",
       "        text-align: right;\n",
       "    }\n",
       "</style>\n",
       "<table border=\"1\" class=\"dataframe\">\n",
       "  <thead>\n",
       "    <tr style=\"text-align: right;\">\n",
       "      <th></th>\n",
       "      <th>index</th>\n",
       "      <th>29</th>\n",
       "      <th>28</th>\n",
       "      <th>27</th>\n",
       "      <th>26</th>\n",
       "      <th>25</th>\n",
       "      <th>24</th>\n",
       "      <th>23</th>\n",
       "      <th>22</th>\n",
       "      <th>21</th>\n",
       "      <th>...</th>\n",
       "      <th>7</th>\n",
       "      <th>6</th>\n",
       "      <th>5</th>\n",
       "      <th>4</th>\n",
       "      <th>3</th>\n",
       "      <th>2</th>\n",
       "      <th>1</th>\n",
       "      <th>0</th>\n",
       "      <th>label</th>\n",
       "      <th>patient_id</th>\n",
       "    </tr>\n",
       "  </thead>\n",
       "  <tbody>\n",
       "    <tr>\n",
       "      <th>0</th>\n",
       "      <td>1279</td>\n",
       "      <td>&lt;pad&gt;</td>\n",
       "      <td>&lt;pad&gt;</td>\n",
       "      <td>&lt;pad&gt;</td>\n",
       "      <td>&lt;pad&gt;</td>\n",
       "      <td>&lt;pad&gt;</td>\n",
       "      <td>&lt;pad&gt;</td>\n",
       "      <td>&lt;pad&gt;</td>\n",
       "      <td>&lt;pad&gt;</td>\n",
       "      <td>&lt;pad&gt;</td>\n",
       "      <td>...</td>\n",
       "      <td>&lt;pad&gt;</td>\n",
       "      <td>&lt;pad&gt;</td>\n",
       "      <td>&lt;pad&gt;</td>\n",
       "      <td>cold_sore</td>\n",
       "      <td>cut_finger</td>\n",
       "      <td>hay_fever</td>\n",
       "      <td>PH</td>\n",
       "      <td>apnea</td>\n",
       "      <td>1</td>\n",
       "      <td>T8MY5WMELF</td>\n",
       "    </tr>\n",
       "    <tr>\n",
       "      <th>1</th>\n",
       "      <td>2634</td>\n",
       "      <td>&lt;pad&gt;</td>\n",
       "      <td>&lt;pad&gt;</td>\n",
       "      <td>hay_fever</td>\n",
       "      <td>ingrown_nail</td>\n",
       "      <td>cut_finger</td>\n",
       "      <td>low_salt_diet</td>\n",
       "      <td>ingrown_nail</td>\n",
       "      <td>cold_sore</td>\n",
       "      <td>headache</td>\n",
       "      <td>...</td>\n",
       "      <td>quad_injury</td>\n",
       "      <td>backache</td>\n",
       "      <td>backache</td>\n",
       "      <td>cold_sore</td>\n",
       "      <td>cut_finger</td>\n",
       "      <td>myopia</td>\n",
       "      <td>myopia</td>\n",
       "      <td>eye_exam</td>\n",
       "      <td>0</td>\n",
       "      <td>NTE5E431A7</td>\n",
       "    </tr>\n",
       "    <tr>\n",
       "      <th>2</th>\n",
       "      <td>1653</td>\n",
       "      <td>&lt;pad&gt;</td>\n",
       "      <td>&lt;pad&gt;</td>\n",
       "      <td>headache</td>\n",
       "      <td>cut_finger</td>\n",
       "      <td>peanut_allergy</td>\n",
       "      <td>ingrown_nail</td>\n",
       "      <td>myopia</td>\n",
       "      <td>pneumonia</td>\n",
       "      <td>quad_injury</td>\n",
       "      <td>...</td>\n",
       "      <td>foot_pain</td>\n",
       "      <td>eye_exam</td>\n",
       "      <td>ankle_sprain</td>\n",
       "      <td>dental_exam</td>\n",
       "      <td>apnea</td>\n",
       "      <td>foot_pain</td>\n",
       "      <td>cold_sore</td>\n",
       "      <td>ACL_tear</td>\n",
       "      <td>1</td>\n",
       "      <td>VWT8TZSHU8</td>\n",
       "    </tr>\n",
       "    <tr>\n",
       "      <th>3</th>\n",
       "      <td>1135</td>\n",
       "      <td>&lt;pad&gt;</td>\n",
       "      <td>&lt;pad&gt;</td>\n",
       "      <td>&lt;pad&gt;</td>\n",
       "      <td>&lt;pad&gt;</td>\n",
       "      <td>&lt;pad&gt;</td>\n",
       "      <td>&lt;pad&gt;</td>\n",
       "      <td>&lt;pad&gt;</td>\n",
       "      <td>&lt;pad&gt;</td>\n",
       "      <td>&lt;pad&gt;</td>\n",
       "      <td>...</td>\n",
       "      <td>cold_sore</td>\n",
       "      <td>dental_exam</td>\n",
       "      <td>eye_exam</td>\n",
       "      <td>myopia</td>\n",
       "      <td>peanut_allergy</td>\n",
       "      <td>backache</td>\n",
       "      <td>cold_sore</td>\n",
       "      <td>dental_exam</td>\n",
       "      <td>1</td>\n",
       "      <td>FUWNH10AHI</td>\n",
       "    </tr>\n",
       "    <tr>\n",
       "      <th>4</th>\n",
       "      <td>2886</td>\n",
       "      <td>&lt;pad&gt;</td>\n",
       "      <td>&lt;pad&gt;</td>\n",
       "      <td>&lt;pad&gt;</td>\n",
       "      <td>&lt;pad&gt;</td>\n",
       "      <td>&lt;pad&gt;</td>\n",
       "      <td>&lt;pad&gt;</td>\n",
       "      <td>&lt;pad&gt;</td>\n",
       "      <td>&lt;pad&gt;</td>\n",
       "      <td>&lt;pad&gt;</td>\n",
       "      <td>...</td>\n",
       "      <td>ankle_sprain</td>\n",
       "      <td>eye_exam</td>\n",
       "      <td>ankle_sprain</td>\n",
       "      <td>eye_exam</td>\n",
       "      <td>annual_physical</td>\n",
       "      <td>foot_pain</td>\n",
       "      <td>cold_sore</td>\n",
       "      <td>backache</td>\n",
       "      <td>1</td>\n",
       "      <td>YRWCVEYKWW</td>\n",
       "    </tr>\n",
       "  </tbody>\n",
       "</table>\n",
       "<p>5 rows × 33 columns</p>\n",
       "</div>"
      ],
      "text/plain": [
       "   index     29     28         27            26              25  \\\n",
       "0   1279  <pad>  <pad>      <pad>         <pad>           <pad>   \n",
       "1   2634  <pad>  <pad>  hay_fever  ingrown_nail      cut_finger   \n",
       "2   1653  <pad>  <pad>   headache    cut_finger  peanut_allergy   \n",
       "3   1135  <pad>  <pad>      <pad>         <pad>           <pad>   \n",
       "4   2886  <pad>  <pad>      <pad>         <pad>           <pad>   \n",
       "\n",
       "              24            23         22           21  ...             7  \\\n",
       "0          <pad>         <pad>      <pad>        <pad>  ...         <pad>   \n",
       "1  low_salt_diet  ingrown_nail  cold_sore     headache  ...   quad_injury   \n",
       "2   ingrown_nail        myopia  pneumonia  quad_injury  ...     foot_pain   \n",
       "3          <pad>         <pad>      <pad>        <pad>  ...     cold_sore   \n",
       "4          <pad>         <pad>      <pad>        <pad>  ...  ankle_sprain   \n",
       "\n",
       "             6             5            4                3          2  \\\n",
       "0        <pad>         <pad>    cold_sore       cut_finger  hay_fever   \n",
       "1     backache      backache    cold_sore       cut_finger     myopia   \n",
       "2     eye_exam  ankle_sprain  dental_exam            apnea  foot_pain   \n",
       "3  dental_exam      eye_exam       myopia   peanut_allergy   backache   \n",
       "4     eye_exam  ankle_sprain     eye_exam  annual_physical  foot_pain   \n",
       "\n",
       "           1            0 label  patient_id  \n",
       "0         PH        apnea     1  T8MY5WMELF  \n",
       "1     myopia     eye_exam     0  NTE5E431A7  \n",
       "2  cold_sore     ACL_tear     1  VWT8TZSHU8  \n",
       "3  cold_sore  dental_exam     1  FUWNH10AHI  \n",
       "4  cold_sore     backache     1  YRWCVEYKWW  \n",
       "\n",
       "[5 rows x 33 columns]"
      ]
     },
     "execution_count": 15,
     "metadata": {},
     "output_type": "execute_result"
    }
   ],
   "source": [
    "df = pd.read_csv(train_data_path)\n",
    "print(df.shape)\n",
    "df.head()"
   ]
  },
  {
   "cell_type": "code",
   "execution_count": 16,
   "metadata": {},
   "outputs": [],
   "source": [
    "tokens = lstm_model.vocab._vocab\n",
    "my_tokens = get_valid_tokens(tokens)"
   ]
  },
  {
   "cell_type": "code",
   "execution_count": 17,
   "metadata": {},
   "outputs": [
    {
     "data": {
      "text/html": [
       "<div>\n",
       "<style scoped>\n",
       "    .dataframe tbody tr th:only-of-type {\n",
       "        vertical-align: middle;\n",
       "    }\n",
       "\n",
       "    .dataframe tbody tr th {\n",
       "        vertical-align: top;\n",
       "    }\n",
       "\n",
       "    .dataframe thead th {\n",
       "        text-align: right;\n",
       "    }\n",
       "</style>\n",
       "<table border=\"1\" class=\"dataframe\">\n",
       "  <thead>\n",
       "    <tr style=\"text-align: right;\">\n",
       "      <th></th>\n",
       "      <th>index</th>\n",
       "      <th>29</th>\n",
       "      <th>28</th>\n",
       "      <th>27</th>\n",
       "      <th>26</th>\n",
       "      <th>25</th>\n",
       "      <th>24</th>\n",
       "      <th>23</th>\n",
       "      <th>22</th>\n",
       "      <th>21</th>\n",
       "      <th>...</th>\n",
       "      <th>7</th>\n",
       "      <th>6</th>\n",
       "      <th>5</th>\n",
       "      <th>4</th>\n",
       "      <th>3</th>\n",
       "      <th>2</th>\n",
       "      <th>1</th>\n",
       "      <th>0</th>\n",
       "      <th>label</th>\n",
       "      <th>patient_id</th>\n",
       "    </tr>\n",
       "  </thead>\n",
       "  <tbody>\n",
       "    <tr>\n",
       "      <th>0</th>\n",
       "      <td>1279</td>\n",
       "      <td>&lt;pad&gt;</td>\n",
       "      <td>&lt;pad&gt;</td>\n",
       "      <td>&lt;pad&gt;</td>\n",
       "      <td>&lt;pad&gt;</td>\n",
       "      <td>&lt;pad&gt;</td>\n",
       "      <td>&lt;pad&gt;</td>\n",
       "      <td>&lt;pad&gt;</td>\n",
       "      <td>&lt;pad&gt;</td>\n",
       "      <td>&lt;pad&gt;</td>\n",
       "      <td>...</td>\n",
       "      <td>&lt;pad&gt;</td>\n",
       "      <td>&lt;pad&gt;</td>\n",
       "      <td>&lt;pad&gt;</td>\n",
       "      <td>cold_sore</td>\n",
       "      <td>cut_finger</td>\n",
       "      <td>hay_fever</td>\n",
       "      <td>PH</td>\n",
       "      <td>apnea</td>\n",
       "      <td>1</td>\n",
       "      <td>T8MY5WMELF</td>\n",
       "    </tr>\n",
       "    <tr>\n",
       "      <th>1</th>\n",
       "      <td>2634</td>\n",
       "      <td>&lt;pad&gt;</td>\n",
       "      <td>&lt;pad&gt;</td>\n",
       "      <td>hay_fever</td>\n",
       "      <td>ingrown_nail</td>\n",
       "      <td>cut_finger</td>\n",
       "      <td>low_salt_diet</td>\n",
       "      <td>ingrown_nail</td>\n",
       "      <td>cold_sore</td>\n",
       "      <td>headache</td>\n",
       "      <td>...</td>\n",
       "      <td>quad_injury</td>\n",
       "      <td>backache</td>\n",
       "      <td>backache</td>\n",
       "      <td>cold_sore</td>\n",
       "      <td>cut_finger</td>\n",
       "      <td>myopia</td>\n",
       "      <td>myopia</td>\n",
       "      <td>eye_exam</td>\n",
       "      <td>0</td>\n",
       "      <td>NTE5E431A7</td>\n",
       "    </tr>\n",
       "    <tr>\n",
       "      <th>2</th>\n",
       "      <td>1653</td>\n",
       "      <td>&lt;pad&gt;</td>\n",
       "      <td>&lt;pad&gt;</td>\n",
       "      <td>headache</td>\n",
       "      <td>cut_finger</td>\n",
       "      <td>peanut_allergy</td>\n",
       "      <td>ingrown_nail</td>\n",
       "      <td>myopia</td>\n",
       "      <td>pneumonia</td>\n",
       "      <td>quad_injury</td>\n",
       "      <td>...</td>\n",
       "      <td>foot_pain</td>\n",
       "      <td>eye_exam</td>\n",
       "      <td>ankle_sprain</td>\n",
       "      <td>dental_exam</td>\n",
       "      <td>apnea</td>\n",
       "      <td>foot_pain</td>\n",
       "      <td>cold_sore</td>\n",
       "      <td>ACL_tear</td>\n",
       "      <td>1</td>\n",
       "      <td>VWT8TZSHU8</td>\n",
       "    </tr>\n",
       "    <tr>\n",
       "      <th>3</th>\n",
       "      <td>1135</td>\n",
       "      <td>&lt;pad&gt;</td>\n",
       "      <td>&lt;pad&gt;</td>\n",
       "      <td>&lt;pad&gt;</td>\n",
       "      <td>&lt;pad&gt;</td>\n",
       "      <td>&lt;pad&gt;</td>\n",
       "      <td>&lt;pad&gt;</td>\n",
       "      <td>&lt;pad&gt;</td>\n",
       "      <td>&lt;pad&gt;</td>\n",
       "      <td>&lt;pad&gt;</td>\n",
       "      <td>...</td>\n",
       "      <td>cold_sore</td>\n",
       "      <td>dental_exam</td>\n",
       "      <td>eye_exam</td>\n",
       "      <td>myopia</td>\n",
       "      <td>peanut_allergy</td>\n",
       "      <td>backache</td>\n",
       "      <td>cold_sore</td>\n",
       "      <td>dental_exam</td>\n",
       "      <td>1</td>\n",
       "      <td>FUWNH10AHI</td>\n",
       "    </tr>\n",
       "    <tr>\n",
       "      <th>4</th>\n",
       "      <td>2886</td>\n",
       "      <td>&lt;pad&gt;</td>\n",
       "      <td>&lt;pad&gt;</td>\n",
       "      <td>&lt;pad&gt;</td>\n",
       "      <td>&lt;pad&gt;</td>\n",
       "      <td>&lt;pad&gt;</td>\n",
       "      <td>&lt;pad&gt;</td>\n",
       "      <td>&lt;pad&gt;</td>\n",
       "      <td>&lt;pad&gt;</td>\n",
       "      <td>&lt;pad&gt;</td>\n",
       "      <td>...</td>\n",
       "      <td>ankle_sprain</td>\n",
       "      <td>eye_exam</td>\n",
       "      <td>ankle_sprain</td>\n",
       "      <td>eye_exam</td>\n",
       "      <td>annual_physical</td>\n",
       "      <td>foot_pain</td>\n",
       "      <td>cold_sore</td>\n",
       "      <td>backache</td>\n",
       "      <td>1</td>\n",
       "      <td>YRWCVEYKWW</td>\n",
       "    </tr>\n",
       "  </tbody>\n",
       "</table>\n",
       "<p>5 rows × 33 columns</p>\n",
       "</div>"
      ],
      "text/plain": [
       "   index     29     28         27            26              25  \\\n",
       "0   1279  <pad>  <pad>      <pad>         <pad>           <pad>   \n",
       "1   2634  <pad>  <pad>  hay_fever  ingrown_nail      cut_finger   \n",
       "2   1653  <pad>  <pad>   headache    cut_finger  peanut_allergy   \n",
       "3   1135  <pad>  <pad>      <pad>         <pad>           <pad>   \n",
       "4   2886  <pad>  <pad>      <pad>         <pad>           <pad>   \n",
       "\n",
       "              24            23         22           21  ...             7  \\\n",
       "0          <pad>         <pad>      <pad>        <pad>  ...         <pad>   \n",
       "1  low_salt_diet  ingrown_nail  cold_sore     headache  ...   quad_injury   \n",
       "2   ingrown_nail        myopia  pneumonia  quad_injury  ...     foot_pain   \n",
       "3          <pad>         <pad>      <pad>        <pad>  ...     cold_sore   \n",
       "4          <pad>         <pad>      <pad>        <pad>  ...  ankle_sprain   \n",
       "\n",
       "             6             5            4                3          2  \\\n",
       "0        <pad>         <pad>    cold_sore       cut_finger  hay_fever   \n",
       "1     backache      backache    cold_sore       cut_finger     myopia   \n",
       "2     eye_exam  ankle_sprain  dental_exam            apnea  foot_pain   \n",
       "3  dental_exam      eye_exam       myopia   peanut_allergy   backache   \n",
       "4     eye_exam  ankle_sprain     eye_exam  annual_physical  foot_pain   \n",
       "\n",
       "           1            0 label  patient_id  \n",
       "0         PH        apnea     1  T8MY5WMELF  \n",
       "1     myopia     eye_exam     0  NTE5E431A7  \n",
       "2  cold_sore     ACL_tear     1  VWT8TZSHU8  \n",
       "3  cold_sore  dental_exam     1  FUWNH10AHI  \n",
       "4  cold_sore     backache     1  YRWCVEYKWW  \n",
       "\n",
       "[5 rows x 33 columns]"
      ]
     },
     "execution_count": 17,
     "metadata": {},
     "output_type": "execute_result"
    }
   ],
   "source": [
    "df.head()"
   ]
  },
  {
   "cell_type": "code",
   "execution_count": 18,
   "metadata": {},
   "outputs": [
    {
     "name": "stdout",
     "output_type": "stream",
     "text": [
      "Sucess!\n",
      "Sucess!\n",
      "Sucess!\n"
     ]
    }
   ],
   "source": [
    "prepare_data(train_data_path, x_train_one_hot_path, x_train_data_path, seq_len, target_colname, my_tokens, s3_output_data_dir)\n",
    "prepare_data(valid_data_path, x_valid_one_hot_path, x_valid_data_path, seq_len, target_colname, my_tokens, s3_output_data_dir)\n",
    "prepare_data(test_data_path, x_test_one_hot_path, x_test_data_path, seq_len, target_colname, my_tokens, s3_output_data_dir)"
   ]
  },
  {
   "cell_type": "markdown",
   "metadata": {},
   "source": [
    "### Model Loading and Evaluation"
   ]
  },
  {
   "cell_type": "code",
   "execution_count": 19,
   "metadata": {},
   "outputs": [],
   "source": [
    "df_train = pd.read_csv(x_train_one_hot_path)\n",
    "df_test = pd.read_csv(x_test_one_hot_path)"
   ]
  },
  {
   "cell_type": "code",
   "execution_count": 20,
   "metadata": {},
   "outputs": [
    {
     "name": "stdout",
     "output_type": "stream",
     "text": [
      "(18000, 32)\n"
     ]
    },
    {
     "data": {
      "text/html": [
       "<div>\n",
       "<style scoped>\n",
       "    .dataframe tbody tr th:only-of-type {\n",
       "        vertical-align: middle;\n",
       "    }\n",
       "\n",
       "    .dataframe tbody tr th {\n",
       "        vertical-align: top;\n",
       "    }\n",
       "\n",
       "    .dataframe thead th {\n",
       "        text-align: right;\n",
       "    }\n",
       "</style>\n",
       "<table border=\"1\" class=\"dataframe\">\n",
       "  <thead>\n",
       "    <tr style=\"text-align: right;\">\n",
       "      <th></th>\n",
       "      <th>patient_id</th>\n",
       "      <th>cold_sore</th>\n",
       "      <th>cut_finger</th>\n",
       "      <th>hay_fever</th>\n",
       "      <th>PH</th>\n",
       "      <th>apnea</th>\n",
       "      <th>ingrown_nail</th>\n",
       "      <th>low_salt_diet</th>\n",
       "      <th>headache</th>\n",
       "      <th>dental_exam</th>\n",
       "      <th>...</th>\n",
       "      <th>tachycardia</th>\n",
       "      <th>ARR</th>\n",
       "      <th>high_creatinine</th>\n",
       "      <th>resistent_hyp</th>\n",
       "      <th>PCI</th>\n",
       "      <th>normal_bmi</th>\n",
       "      <th>cardiac_rehab</th>\n",
       "      <th>ACE_inhibitors</th>\n",
       "      <th>AMI</th>\n",
       "      <th>label</th>\n",
       "    </tr>\n",
       "  </thead>\n",
       "  <tbody>\n",
       "    <tr>\n",
       "      <th>0</th>\n",
       "      <td>T8MY5WMELF</td>\n",
       "      <td>1</td>\n",
       "      <td>1</td>\n",
       "      <td>1</td>\n",
       "      <td>1</td>\n",
       "      <td>1</td>\n",
       "      <td>0</td>\n",
       "      <td>0</td>\n",
       "      <td>0</td>\n",
       "      <td>0</td>\n",
       "      <td>...</td>\n",
       "      <td>0</td>\n",
       "      <td>0</td>\n",
       "      <td>0</td>\n",
       "      <td>0</td>\n",
       "      <td>0</td>\n",
       "      <td>0</td>\n",
       "      <td>0</td>\n",
       "      <td>0</td>\n",
       "      <td>0</td>\n",
       "      <td>1</td>\n",
       "    </tr>\n",
       "    <tr>\n",
       "      <th>1</th>\n",
       "      <td>NTE5E431A7</td>\n",
       "      <td>1</td>\n",
       "      <td>1</td>\n",
       "      <td>1</td>\n",
       "      <td>0</td>\n",
       "      <td>0</td>\n",
       "      <td>1</td>\n",
       "      <td>1</td>\n",
       "      <td>1</td>\n",
       "      <td>1</td>\n",
       "      <td>...</td>\n",
       "      <td>0</td>\n",
       "      <td>0</td>\n",
       "      <td>0</td>\n",
       "      <td>0</td>\n",
       "      <td>0</td>\n",
       "      <td>0</td>\n",
       "      <td>0</td>\n",
       "      <td>0</td>\n",
       "      <td>0</td>\n",
       "      <td>0</td>\n",
       "    </tr>\n",
       "    <tr>\n",
       "      <th>2</th>\n",
       "      <td>VWT8TZSHU8</td>\n",
       "      <td>1</td>\n",
       "      <td>1</td>\n",
       "      <td>1</td>\n",
       "      <td>0</td>\n",
       "      <td>1</td>\n",
       "      <td>1</td>\n",
       "      <td>0</td>\n",
       "      <td>1</td>\n",
       "      <td>1</td>\n",
       "      <td>...</td>\n",
       "      <td>0</td>\n",
       "      <td>0</td>\n",
       "      <td>0</td>\n",
       "      <td>0</td>\n",
       "      <td>0</td>\n",
       "      <td>0</td>\n",
       "      <td>0</td>\n",
       "      <td>0</td>\n",
       "      <td>0</td>\n",
       "      <td>1</td>\n",
       "    </tr>\n",
       "    <tr>\n",
       "      <th>3</th>\n",
       "      <td>FUWNH10AHI</td>\n",
       "      <td>1</td>\n",
       "      <td>0</td>\n",
       "      <td>1</td>\n",
       "      <td>0</td>\n",
       "      <td>0</td>\n",
       "      <td>1</td>\n",
       "      <td>0</td>\n",
       "      <td>0</td>\n",
       "      <td>1</td>\n",
       "      <td>...</td>\n",
       "      <td>0</td>\n",
       "      <td>0</td>\n",
       "      <td>0</td>\n",
       "      <td>0</td>\n",
       "      <td>0</td>\n",
       "      <td>0</td>\n",
       "      <td>0</td>\n",
       "      <td>0</td>\n",
       "      <td>0</td>\n",
       "      <td>1</td>\n",
       "    </tr>\n",
       "    <tr>\n",
       "      <th>4</th>\n",
       "      <td>YRWCVEYKWW</td>\n",
       "      <td>1</td>\n",
       "      <td>0</td>\n",
       "      <td>0</td>\n",
       "      <td>0</td>\n",
       "      <td>0</td>\n",
       "      <td>0</td>\n",
       "      <td>0</td>\n",
       "      <td>1</td>\n",
       "      <td>0</td>\n",
       "      <td>...</td>\n",
       "      <td>1</td>\n",
       "      <td>0</td>\n",
       "      <td>0</td>\n",
       "      <td>0</td>\n",
       "      <td>0</td>\n",
       "      <td>0</td>\n",
       "      <td>0</td>\n",
       "      <td>0</td>\n",
       "      <td>0</td>\n",
       "      <td>1</td>\n",
       "    </tr>\n",
       "  </tbody>\n",
       "</table>\n",
       "<p>5 rows × 32 columns</p>\n",
       "</div>"
      ],
      "text/plain": [
       "   patient_id  cold_sore  cut_finger  hay_fever  PH  apnea  ingrown_nail  \\\n",
       "0  T8MY5WMELF          1           1          1   1      1             0   \n",
       "1  NTE5E431A7          1           1          1   0      0             1   \n",
       "2  VWT8TZSHU8          1           1          1   0      1             1   \n",
       "3  FUWNH10AHI          1           0          1   0      0             1   \n",
       "4  YRWCVEYKWW          1           0          0   0      0             0   \n",
       "\n",
       "   low_salt_diet  headache  dental_exam  ...  tachycardia  ARR  \\\n",
       "0              0         0            0  ...            0    0   \n",
       "1              1         1            1  ...            0    0   \n",
       "2              0         1            1  ...            0    0   \n",
       "3              0         0            1  ...            0    0   \n",
       "4              0         1            0  ...            1    0   \n",
       "\n",
       "   high_creatinine  resistent_hyp  PCI  normal_bmi  cardiac_rehab  \\\n",
       "0                0              0    0           0              0   \n",
       "1                0              0    0           0              0   \n",
       "2                0              0    0           0              0   \n",
       "3                0              0    0           0              0   \n",
       "4                0              0    0           0              0   \n",
       "\n",
       "   ACE_inhibitors  AMI  label  \n",
       "0               0    0      1  \n",
       "1               0    0      0  \n",
       "2               0    0      1  \n",
       "3               0    0      1  \n",
       "4               0    0      1  \n",
       "\n",
       "[5 rows x 32 columns]"
      ]
     },
     "execution_count": 20,
     "metadata": {},
     "output_type": "execute_result"
    }
   ],
   "source": [
    "print(df_train.shape)\n",
    "df_train.head()"
   ]
  },
  {
   "cell_type": "code",
   "execution_count": 21,
   "metadata": {},
   "outputs": [
    {
     "name": "stdout",
     "output_type": "stream",
     "text": [
      "(6000, 32)\n"
     ]
    },
    {
     "data": {
      "text/html": [
       "<div>\n",
       "<style scoped>\n",
       "    .dataframe tbody tr th:only-of-type {\n",
       "        vertical-align: middle;\n",
       "    }\n",
       "\n",
       "    .dataframe tbody tr th {\n",
       "        vertical-align: top;\n",
       "    }\n",
       "\n",
       "    .dataframe thead th {\n",
       "        text-align: right;\n",
       "    }\n",
       "</style>\n",
       "<table border=\"1\" class=\"dataframe\">\n",
       "  <thead>\n",
       "    <tr style=\"text-align: right;\">\n",
       "      <th></th>\n",
       "      <th>patient_id</th>\n",
       "      <th>cold_sore</th>\n",
       "      <th>cut_finger</th>\n",
       "      <th>hay_fever</th>\n",
       "      <th>PH</th>\n",
       "      <th>apnea</th>\n",
       "      <th>ingrown_nail</th>\n",
       "      <th>low_salt_diet</th>\n",
       "      <th>headache</th>\n",
       "      <th>dental_exam</th>\n",
       "      <th>...</th>\n",
       "      <th>tachycardia</th>\n",
       "      <th>ARR</th>\n",
       "      <th>high_creatinine</th>\n",
       "      <th>resistent_hyp</th>\n",
       "      <th>PCI</th>\n",
       "      <th>normal_bmi</th>\n",
       "      <th>cardiac_rehab</th>\n",
       "      <th>ACE_inhibitors</th>\n",
       "      <th>AMI</th>\n",
       "      <th>label</th>\n",
       "    </tr>\n",
       "  </thead>\n",
       "  <tbody>\n",
       "    <tr>\n",
       "      <th>0</th>\n",
       "      <td>7HFEMJNNUE</td>\n",
       "      <td>0</td>\n",
       "      <td>0</td>\n",
       "      <td>1</td>\n",
       "      <td>0</td>\n",
       "      <td>0</td>\n",
       "      <td>1</td>\n",
       "      <td>0</td>\n",
       "      <td>1</td>\n",
       "      <td>0</td>\n",
       "      <td>...</td>\n",
       "      <td>0</td>\n",
       "      <td>0</td>\n",
       "      <td>0</td>\n",
       "      <td>0</td>\n",
       "      <td>1</td>\n",
       "      <td>1</td>\n",
       "      <td>0</td>\n",
       "      <td>1</td>\n",
       "      <td>0</td>\n",
       "      <td>0</td>\n",
       "    </tr>\n",
       "    <tr>\n",
       "      <th>1</th>\n",
       "      <td>6RIF373HSI</td>\n",
       "      <td>1</td>\n",
       "      <td>0</td>\n",
       "      <td>0</td>\n",
       "      <td>0</td>\n",
       "      <td>1</td>\n",
       "      <td>0</td>\n",
       "      <td>0</td>\n",
       "      <td>1</td>\n",
       "      <td>0</td>\n",
       "      <td>...</td>\n",
       "      <td>0</td>\n",
       "      <td>0</td>\n",
       "      <td>1</td>\n",
       "      <td>0</td>\n",
       "      <td>0</td>\n",
       "      <td>0</td>\n",
       "      <td>0</td>\n",
       "      <td>0</td>\n",
       "      <td>0</td>\n",
       "      <td>1</td>\n",
       "    </tr>\n",
       "    <tr>\n",
       "      <th>2</th>\n",
       "      <td>N1OAXV36FG</td>\n",
       "      <td>1</td>\n",
       "      <td>0</td>\n",
       "      <td>1</td>\n",
       "      <td>0</td>\n",
       "      <td>0</td>\n",
       "      <td>1</td>\n",
       "      <td>0</td>\n",
       "      <td>1</td>\n",
       "      <td>1</td>\n",
       "      <td>...</td>\n",
       "      <td>0</td>\n",
       "      <td>0</td>\n",
       "      <td>0</td>\n",
       "      <td>0</td>\n",
       "      <td>1</td>\n",
       "      <td>0</td>\n",
       "      <td>1</td>\n",
       "      <td>0</td>\n",
       "      <td>0</td>\n",
       "      <td>0</td>\n",
       "    </tr>\n",
       "    <tr>\n",
       "      <th>3</th>\n",
       "      <td>T01DT9FDOO</td>\n",
       "      <td>1</td>\n",
       "      <td>1</td>\n",
       "      <td>0</td>\n",
       "      <td>0</td>\n",
       "      <td>0</td>\n",
       "      <td>0</td>\n",
       "      <td>0</td>\n",
       "      <td>0</td>\n",
       "      <td>1</td>\n",
       "      <td>...</td>\n",
       "      <td>0</td>\n",
       "      <td>1</td>\n",
       "      <td>0</td>\n",
       "      <td>0</td>\n",
       "      <td>0</td>\n",
       "      <td>0</td>\n",
       "      <td>0</td>\n",
       "      <td>0</td>\n",
       "      <td>0</td>\n",
       "      <td>1</td>\n",
       "    </tr>\n",
       "    <tr>\n",
       "      <th>4</th>\n",
       "      <td>4AU0JTWU1U</td>\n",
       "      <td>1</td>\n",
       "      <td>0</td>\n",
       "      <td>0</td>\n",
       "      <td>1</td>\n",
       "      <td>0</td>\n",
       "      <td>0</td>\n",
       "      <td>0</td>\n",
       "      <td>0</td>\n",
       "      <td>0</td>\n",
       "      <td>...</td>\n",
       "      <td>0</td>\n",
       "      <td>0</td>\n",
       "      <td>0</td>\n",
       "      <td>0</td>\n",
       "      <td>0</td>\n",
       "      <td>0</td>\n",
       "      <td>0</td>\n",
       "      <td>0</td>\n",
       "      <td>0</td>\n",
       "      <td>1</td>\n",
       "    </tr>\n",
       "  </tbody>\n",
       "</table>\n",
       "<p>5 rows × 32 columns</p>\n",
       "</div>"
      ],
      "text/plain": [
       "   patient_id  cold_sore  cut_finger  hay_fever  PH  apnea  ingrown_nail  \\\n",
       "0  7HFEMJNNUE          0           0          1   0      0             1   \n",
       "1  6RIF373HSI          1           0          0   0      1             0   \n",
       "2  N1OAXV36FG          1           0          1   0      0             1   \n",
       "3  T01DT9FDOO          1           1          0   0      0             0   \n",
       "4  4AU0JTWU1U          1           0          0   1      0             0   \n",
       "\n",
       "   low_salt_diet  headache  dental_exam  ...  tachycardia  ARR  \\\n",
       "0              0         1            0  ...            0    0   \n",
       "1              0         1            0  ...            0    0   \n",
       "2              0         1            1  ...            0    0   \n",
       "3              0         0            1  ...            0    1   \n",
       "4              0         0            0  ...            0    0   \n",
       "\n",
       "   high_creatinine  resistent_hyp  PCI  normal_bmi  cardiac_rehab  \\\n",
       "0                0              0    1           1              0   \n",
       "1                1              0    0           0              0   \n",
       "2                0              0    1           0              1   \n",
       "3                0              0    0           0              0   \n",
       "4                0              0    0           0              0   \n",
       "\n",
       "   ACE_inhibitors  AMI  label  \n",
       "0               1    0      0  \n",
       "1               0    0      1  \n",
       "2               0    0      0  \n",
       "3               0    0      1  \n",
       "4               0    0      1  \n",
       "\n",
       "[5 rows x 32 columns]"
      ]
     },
     "execution_count": 21,
     "metadata": {},
     "output_type": "execute_result"
    }
   ],
   "source": [
    "print(df_test.shape)\n",
    "df_test.head()"
   ]
  },
  {
   "cell_type": "code",
   "execution_count": 22,
   "metadata": {},
   "outputs": [],
   "source": [
    "X_train = df_train.iloc[:, 1:-1]\n",
    "X_test = df_test.iloc[:, 1:-1]"
   ]
  },
  {
   "cell_type": "code",
   "execution_count": 23,
   "metadata": {},
   "outputs": [
    {
     "data": {
      "text/html": [
       "<div>\n",
       "<style scoped>\n",
       "    .dataframe tbody tr th:only-of-type {\n",
       "        vertical-align: middle;\n",
       "    }\n",
       "\n",
       "    .dataframe tbody tr th {\n",
       "        vertical-align: top;\n",
       "    }\n",
       "\n",
       "    .dataframe thead th {\n",
       "        text-align: right;\n",
       "    }\n",
       "</style>\n",
       "<table border=\"1\" class=\"dataframe\">\n",
       "  <thead>\n",
       "    <tr style=\"text-align: right;\">\n",
       "      <th></th>\n",
       "      <th>class</th>\n",
       "      <th>seq_len</th>\n",
       "      <th>val_auc</th>\n",
       "      <th>best_model_path</th>\n",
       "    </tr>\n",
       "  </thead>\n",
       "  <tbody>\n",
       "    <tr>\n",
       "      <th>0</th>\n",
       "      <td>label</td>\n",
       "      <td>30</td>\n",
       "      <td>0.9125</td>\n",
       "      <td>s3://merck-paper-bucket/30/xgboost/model/outpu...</td>\n",
       "    </tr>\n",
       "  </tbody>\n",
       "</table>\n",
       "</div>"
      ],
      "text/plain": [
       "   class  seq_len  val_auc                                    best_model_path\n",
       "0  label       30   0.9125  s3://merck-paper-bucket/30/xgboost/model/outpu..."
      ]
     },
     "execution_count": 23,
     "metadata": {},
     "output_type": "execute_result"
    }
   ],
   "source": [
    "df_best = pd.read_csv(output_results_path)\n",
    "df_best"
   ]
  },
  {
   "cell_type": "code",
   "execution_count": 24,
   "metadata": {},
   "outputs": [
    {
     "data": {
      "text/plain": [
       "'s3://merck-paper-bucket/30/xgboost/model/output/sagemaker-xgboost-210105-1911-001-cb8d27fb/output/model.tar.gz'"
      ]
     },
     "execution_count": 24,
     "metadata": {},
     "output_type": "execute_result"
    }
   ],
   "source": [
    "s3_best_model_path = df_best.iloc[0]['best_model_path']\n",
    "s3_best_model_path"
   ]
  },
  {
   "cell_type": "code",
   "execution_count": 25,
   "metadata": {},
   "outputs": [],
   "source": [
    "#Copy the best model from s3 to local\n",
    "output_path = copy_model_from_s3(s3_best_model_path, local_model_dir)\n",
    "#Load the copied model\n",
    "xgb_model = load_model(output_path)"
   ]
  },
  {
   "cell_type": "code",
   "execution_count": 26,
   "metadata": {},
   "outputs": [
    {
     "data": {
      "text/plain": [
       "'[0]\\teval-auc:0.898030'"
      ]
     },
     "execution_count": 26,
     "metadata": {},
     "output_type": "execute_result"
    }
   ],
   "source": [
    "test_auc = xgb_model.eval(xgb.DMatrix(X_test.values, df_test[target_colname].values))\n",
    "test_auc"
   ]
  },
  {
   "cell_type": "markdown",
   "metadata": {},
   "source": [
    "## 3. Compute SHAP values\n",
    "\n",
    "<font color='purple'>\n",
    "\n",
    "Add description of the nuances, why did you choose negative, what values usually make\n",
    "sense etc\n",
    "</font>"
   ]
  },
  {
   "cell_type": "code",
   "execution_count": 27,
   "metadata": {},
   "outputs": [],
   "source": [
    "#Constants for LSTM\n",
    "LSTM_N_BACKGROUND = 500 #Number of background examples\n",
    "LSTM_NEGATIVE_ONLY = True #Whether to use negative examples as background\n",
    "LSTM_N_TEST = 64 # Number of examples to compute shap values from\n",
    "\n",
    "XGB_N_BACKGROUND = 500\n",
    "XGB_NEGATIVE_ONLY = True\n",
    "XGB_N_TEST = 64"
   ]
  },
  {
   "cell_type": "code",
   "execution_count": 28,
   "metadata": {},
   "outputs": [
    {
     "name": "stdout",
     "output_type": "stream",
     "text": [
      "Computing SHAP values for LSTM model...\n"
     ]
    },
    {
     "name": "stderr",
     "output_type": "stream",
     "text": [
      "500it [00:00, 723.19it/s]\n",
      "1000it [00:03, 272.10it/s]\n",
      "1000it [00:03, 270.71it/s]\n",
      "1000it [00:03, 269.96it/s]\n",
      "1000it [00:03, 269.51it/s]\n",
      "1000it [00:03, 271.22it/s]\n",
      "1000it [00:03, 271.93it/s]\n",
      "1000it [00:03, 270.31it/s]\n",
      "1000it [00:03, 269.34it/s]\n",
      "1000it [00:03, 269.49it/s]\n",
      "1000it [00:03, 270.64it/s]\n",
      "1000it [00:03, 269.57it/s]\n",
      "1000it [00:03, 269.54it/s]\n",
      "1000it [00:03, 270.17it/s]\n",
      "1000it [00:03, 270.58it/s]\n",
      "1000it [00:03, 269.25it/s]\n",
      "1000it [00:03, 269.58it/s]\n",
      "1000it [00:03, 270.08it/s]\n",
      "1000it [00:03, 271.16it/s]\n",
      "1000it [00:03, 270.05it/s]\n",
      "1000it [00:03, 271.43it/s]\n",
      "1000it [00:03, 265.80it/s]\n",
      "1000it [00:03, 270.28it/s]\n",
      "1000it [00:03, 269.58it/s]\n",
      "1000it [00:03, 269.21it/s]\n",
      "1000it [00:03, 269.94it/s]\n",
      "1000it [00:03, 269.92it/s]\n",
      "1000it [00:03, 269.80it/s]\n",
      "1000it [00:03, 268.11it/s]\n",
      "1000it [00:03, 267.19it/s]\n",
      "1000it [00:03, 269.96it/s]\n",
      "1000it [00:03, 266.73it/s]\n",
      "1000it [00:03, 269.06it/s]\n",
      "1000it [00:03, 271.17it/s]\n",
      "1000it [00:03, 268.55it/s]\n",
      "1000it [00:03, 266.95it/s]\n",
      "1000it [00:03, 269.73it/s]\n",
      "1000it [00:03, 269.45it/s]\n",
      "1000it [00:03, 268.01it/s]\n",
      "1000it [00:03, 266.13it/s]\n",
      "1000it [00:03, 268.33it/s]\n",
      "1000it [00:03, 268.97it/s]\n",
      "1000it [00:03, 269.38it/s]\n",
      "1000it [00:03, 269.73it/s]\n",
      "1000it [00:03, 269.16it/s]\n",
      "1000it [00:03, 270.31it/s]\n",
      "1000it [00:03, 264.81it/s]\n",
      "1000it [00:03, 271.37it/s]\n",
      "1000it [00:03, 271.50it/s]\n",
      "1000it [00:03, 271.39it/s]\n",
      "1000it [00:03, 271.89it/s]\n",
      "1000it [00:03, 269.63it/s]\n",
      "1000it [00:03, 269.00it/s]\n",
      "1000it [00:03, 268.25it/s]\n",
      "1000it [00:03, 268.48it/s]\n",
      "1000it [00:03, 267.92it/s]\n",
      "1000it [00:03, 268.92it/s]\n",
      "1000it [00:03, 268.39it/s]\n",
      "1000it [00:03, 269.45it/s]\n",
      "1000it [00:03, 267.37it/s]\n",
      "1000it [00:03, 269.93it/s]\n",
      "1000it [00:03, 267.88it/s]\n",
      "1000it [00:03, 269.73it/s]\n",
      "1000it [00:03, 266.67it/s]\n",
      "1000it [00:03, 268.41it/s]\n"
     ]
    },
    {
     "name": "stdout",
     "output_type": "stream",
     "text": [
      "saved ./output/30/shap/features/lstm_features.pkl pickle..\n",
      "saved ./output/30/shap/feature-importance/lstm_scores.pkl pickle..\n",
      "saved ./output/30/shap/feature-importance/lstm_patients.pkl pickle..\n",
      "Computing SHAP values for LSTM with Attention model...\n"
     ]
    },
    {
     "name": "stderr",
     "output_type": "stream",
     "text": [
      "500it [00:00, 762.83it/s]\n",
      "1000it [00:04, 245.19it/s]\n",
      "1000it [00:03, 283.43it/s]\n",
      "1000it [00:03, 254.54it/s]\n",
      "1000it [00:03, 257.34it/s]\n",
      "1000it [00:03, 271.21it/s]\n",
      "1000it [00:03, 251.44it/s]\n",
      "1000it [00:03, 276.38it/s]\n",
      "1000it [00:03, 277.66it/s]\n",
      "1000it [00:03, 274.86it/s]\n",
      "1000it [00:03, 273.53it/s]\n",
      "1000it [00:03, 257.25it/s]\n",
      "1000it [00:03, 253.74it/s]\n",
      "1000it [00:03, 272.14it/s]\n",
      "1000it [00:04, 243.01it/s]\n",
      "1000it [00:03, 253.91it/s]\n",
      "1000it [00:04, 243.70it/s]\n",
      "1000it [00:03, 250.48it/s]\n",
      "1000it [00:04, 242.10it/s]\n",
      "1000it [00:03, 253.82it/s]\n",
      "1000it [00:03, 276.46it/s]\n",
      "1000it [00:04, 245.17it/s]\n",
      "1000it [00:04, 245.22it/s]\n",
      "1000it [00:04, 247.68it/s]\n",
      "1000it [00:04, 247.69it/s]\n",
      "1000it [00:03, 253.84it/s]\n",
      "1000it [00:04, 245.85it/s]\n",
      "1000it [00:04, 249.34it/s]\n",
      "1000it [00:03, 256.50it/s]\n",
      "1000it [00:03, 272.87it/s]\n",
      "1000it [00:03, 254.11it/s]\n",
      "1000it [00:03, 268.62it/s]\n",
      "1000it [00:03, 280.58it/s]\n",
      "1000it [00:03, 279.59it/s]\n",
      "1000it [00:03, 256.13it/s]\n",
      "1000it [00:03, 250.21it/s]\n",
      "1000it [00:04, 241.86it/s]\n",
      "1000it [00:03, 271.30it/s]\n",
      "1000it [00:03, 260.20it/s]\n",
      "1000it [00:03, 252.75it/s]\n",
      "1000it [00:03, 267.61it/s]\n",
      "1000it [00:04, 247.08it/s]\n",
      "1000it [00:03, 280.31it/s]\n",
      "1000it [00:03, 269.62it/s]\n",
      "1000it [00:03, 267.40it/s]\n",
      "1000it [00:03, 265.76it/s]\n",
      "1000it [00:04, 249.73it/s]\n",
      "1000it [00:03, 262.98it/s]\n",
      "1000it [00:04, 247.33it/s]\n",
      "1000it [00:03, 259.94it/s]\n",
      "1000it [00:03, 270.01it/s]\n",
      "1000it [00:04, 242.59it/s]\n",
      "1000it [00:03, 281.32it/s]\n",
      "1000it [00:03, 276.23it/s]\n",
      "1000it [00:03, 281.31it/s]\n",
      "1000it [00:03, 271.46it/s]\n",
      "1000it [00:03, 272.29it/s]\n",
      "1000it [00:03, 287.67it/s]\n",
      "1000it [00:03, 272.09it/s]\n",
      "1000it [00:04, 247.36it/s]\n",
      "1000it [00:03, 280.47it/s]\n",
      "1000it [00:03, 257.91it/s]\n",
      "1000it [00:03, 254.22it/s]\n",
      "1000it [00:03, 258.09it/s]\n",
      "1000it [00:03, 273.26it/s]\n"
     ]
    },
    {
     "name": "stdout",
     "output_type": "stream",
     "text": [
      "saved ./output/30/shap/features/lstm_att_features.pkl pickle..\n",
      "saved ./output/30/shap/feature-importance/lstm_att_scores.pkl pickle..\n",
      "saved ./output/30/shap/feature-importance/lstm_att_patients.pkl pickle..\n",
      "Computing SHAP values for XGB model...\n",
      "saved ./output/30/shap/features/xgb_features.pkl pickle..\n",
      "saved ./output/30/shap/feature-importance/xgb_scores.pkl pickle..\n",
      "saved ./output/30/shap/feature-importance/xgb_patients.pkl pickle..\n",
      "Successfully Completed!\n"
     ]
    }
   ],
   "source": [
    "print('Computing SHAP values for LSTM model...')\n",
    "lstm_features, lstm_scores, lstm_patient_ids = get_lstm_features_and_shap_scores(\n",
    "                                              lstm_model, \n",
    "                                              train_dataloader, \n",
    "                                              test_dataloader, \n",
    "                                              seq_len,\n",
    "                                              lstm_shap_features_path,\n",
    "                                              lstm_shap_scores_path,\n",
    "                                              lstm_shap_patients_path,\n",
    "                                              n_test=LSTM_N_TEST,\n",
    "                                              n_background=LSTM_N_BACKGROUND,\n",
    "                                              negative_only=LSTM_NEGATIVE_ONLY)\n",
    "\n",
    "print('Computing SHAP values for LSTM with Attention model...')\n",
    "lstm_att_features, lstm_att_scores, lstm_att_patient_ids = get_lstm_features_and_shap_scores(\n",
    "                                              lstm_att_model, \n",
    "                                              train_dataloader, \n",
    "                                              test_dataloader, \n",
    "                                              seq_len,\n",
    "                                              lstm_att_shap_features_path,\n",
    "                                              lstm_att_shap_scores_path,\n",
    "                                              lstm_att_shap_patients_path,\n",
    "                                              n_test=LSTM_N_TEST,\n",
    "                                              n_background=LSTM_N_BACKGROUND,\n",
    "                                              negative_only=LSTM_NEGATIVE_ONLY)\n",
    "\n",
    "print('Computing SHAP values for XGB model...')\n",
    "xgb_features, xgb_scores, xgb_patient_ids = get_xgboost_features_and_shap_scores(\n",
    "                                                 xgb_model, \n",
    "                                                 df_train, \n",
    "                                                 df_test,\n",
    "                                                 xgb_shap_features_path,\n",
    "                                                 xgb_shap_scores_path,\n",
    "                                                 xgb_shap_patients_path,\n",
    "                                                 n_test=XGB_N_TEST,\n",
    "                                                 n_background=XGB_N_BACKGROUND,\n",
    "                                                 negative_only=XGB_NEGATIVE_ONLY)\n",
    "print('Successfully Completed!')"
   ]
  },
  {
   "cell_type": "markdown",
   "metadata": {},
   "source": [
    "### Visualize SHAP values for a single example"
   ]
  },
  {
   "cell_type": "code",
   "execution_count": 59,
   "metadata": {},
   "outputs": [],
   "source": [
    "#Load features, scores & patient ids if necessary\n",
    "# lstm_features = load_pickle(lstm_shap_features_path)\n",
    "# lstm_scores = load_pickle(lstm_shap_scores_path)\n",
    "# lstm_patients = load_pickle(lstm_shap_patients_path)\n",
    "\n",
    "# lstm_att_features = load_pickle(lstm_att_shap_features_path)\n",
    "# lstm_att_scores = load_pickle(lstm_att_shap_scores_path)\n",
    "# lstm_att_patients = load_pickle(lstm_att_shap_patients_path)\n",
    "\n",
    "# xgb_features = load_pickle(lstm_shap_features_path)\n",
    "# xgb_scores = load_pickle(lstm_shap_scores_path)\n",
    "# xgb_patients = load_pickle(xgb_shap_patients_path)"
   ]
  },
  {
   "cell_type": "markdown",
   "metadata": {},
   "source": [
    "<font color='purple'>\n",
    "Index list of positive examples? We mainly want to compare that, right?\n",
    "</font>"
   ]
  },
  {
   "cell_type": "code",
   "execution_count": 30,
   "metadata": {},
   "outputs": [],
   "source": [
    "#index of the patient where you get compute shap\n",
    "idx = 4"
   ]
  },
  {
   "cell_type": "code",
   "execution_count": 31,
   "metadata": {},
   "outputs": [
    {
     "name": "stdout",
     "output_type": "stream",
     "text": [
      "(9, 2)\n"
     ]
    },
    {
     "data": {
      "text/html": [
       "<div>\n",
       "<style scoped>\n",
       "    .dataframe tbody tr th:only-of-type {\n",
       "        vertical-align: middle;\n",
       "    }\n",
       "\n",
       "    .dataframe tbody tr th {\n",
       "        vertical-align: top;\n",
       "    }\n",
       "\n",
       "    .dataframe thead th {\n",
       "        text-align: right;\n",
       "    }\n",
       "</style>\n",
       "<table border=\"1\" class=\"dataframe\">\n",
       "  <thead>\n",
       "    <tr style=\"text-align: right;\">\n",
       "      <th></th>\n",
       "      <th>events</th>\n",
       "      <th>shap_vals</th>\n",
       "    </tr>\n",
       "  </thead>\n",
       "  <tbody>\n",
       "    <tr>\n",
       "      <th>0</th>\n",
       "      <td>ankle_sprain</td>\n",
       "      <td>-0.044615</td>\n",
       "    </tr>\n",
       "    <tr>\n",
       "      <th>1</th>\n",
       "      <td>PH</td>\n",
       "      <td>0.035810</td>\n",
       "    </tr>\n",
       "    <tr>\n",
       "      <th>2</th>\n",
       "      <td>ankle_sprain</td>\n",
       "      <td>0.001225</td>\n",
       "    </tr>\n",
       "    <tr>\n",
       "      <th>3</th>\n",
       "      <td>peanut_allergy</td>\n",
       "      <td>0.001108</td>\n",
       "    </tr>\n",
       "    <tr>\n",
       "      <th>4</th>\n",
       "      <td>foot_pain</td>\n",
       "      <td>0.000005</td>\n",
       "    </tr>\n",
       "  </tbody>\n",
       "</table>\n",
       "</div>"
      ],
      "text/plain": [
       "           events  shap_vals\n",
       "0    ankle_sprain  -0.044615\n",
       "1              PH   0.035810\n",
       "2    ankle_sprain   0.001225\n",
       "3  peanut_allergy   0.001108\n",
       "4       foot_pain   0.000005"
      ]
     },
     "execution_count": 31,
     "metadata": {},
     "output_type": "execute_result"
    }
   ],
   "source": [
    "#For LSTM Model\n",
    "lstm_features1 = lstm_features[idx]\n",
    "lstm_scores1 = lstm_scores[idx]\n",
    "lstm_patient_id = lstm_patient_ids[idx]\n",
    "len(lstm_features1), len(lstm_scores1)\n",
    "\n",
    "df_lstm_shap = pd.DataFrame(np.array([lstm_features1, lstm_scores1]).T, columns=['events', 'shap_vals'])\n",
    "df_lstm_shap[\"shap_vals\"] = pd.to_numeric(df_lstm_shap[\"shap_vals\"])\n",
    "print(df_lstm_shap.shape)\n",
    "df_lstm_shap.head()"
   ]
  },
  {
   "cell_type": "code",
   "execution_count": 32,
   "metadata": {},
   "outputs": [
    {
     "data": {
      "image/png": "[encoded data removed]",
      "text/plain": [
       "<Figure size 1440x720 with 1 Axes>"
      ]
     },
     "metadata": {
      "needs_background": "light"
     },
     "output_type": "display_data"
    }
   ],
   "source": [
    "plot_shap_values(df_lstm_shap, lstm_patient_id, sort=True)"
   ]
  },
  {
   "cell_type": "code",
   "execution_count": 33,
   "metadata": {},
   "outputs": [
    {
     "name": "stdout",
     "output_type": "stream",
     "text": [
      "(9, 2)\n"
     ]
    },
    {
     "data": {
      "text/html": [
       "<div>\n",
       "<style scoped>\n",
       "    .dataframe tbody tr th:only-of-type {\n",
       "        vertical-align: middle;\n",
       "    }\n",
       "\n",
       "    .dataframe tbody tr th {\n",
       "        vertical-align: top;\n",
       "    }\n",
       "\n",
       "    .dataframe thead th {\n",
       "        text-align: right;\n",
       "    }\n",
       "</style>\n",
       "<table border=\"1\" class=\"dataframe\">\n",
       "  <thead>\n",
       "    <tr style=\"text-align: right;\">\n",
       "      <th></th>\n",
       "      <th>events</th>\n",
       "      <th>shap_vals</th>\n",
       "    </tr>\n",
       "  </thead>\n",
       "  <tbody>\n",
       "    <tr>\n",
       "      <th>0</th>\n",
       "      <td>ankle_sprain</td>\n",
       "      <td>0.009965</td>\n",
       "    </tr>\n",
       "    <tr>\n",
       "      <th>1</th>\n",
       "      <td>PH</td>\n",
       "      <td>0.049028</td>\n",
       "    </tr>\n",
       "    <tr>\n",
       "      <th>2</th>\n",
       "      <td>ankle_sprain</td>\n",
       "      <td>0.003428</td>\n",
       "    </tr>\n",
       "    <tr>\n",
       "      <th>3</th>\n",
       "      <td>peanut_allergy</td>\n",
       "      <td>0.005715</td>\n",
       "    </tr>\n",
       "    <tr>\n",
       "      <th>4</th>\n",
       "      <td>foot_pain</td>\n",
       "      <td>0.002826</td>\n",
       "    </tr>\n",
       "  </tbody>\n",
       "</table>\n",
       "</div>"
      ],
      "text/plain": [
       "           events  shap_vals\n",
       "0    ankle_sprain   0.009965\n",
       "1              PH   0.049028\n",
       "2    ankle_sprain   0.003428\n",
       "3  peanut_allergy   0.005715\n",
       "4       foot_pain   0.002826"
      ]
     },
     "execution_count": 33,
     "metadata": {},
     "output_type": "execute_result"
    }
   ],
   "source": [
    "#For LSTM+Attention Model\n",
    "lstm_att_features1 = lstm_att_features[idx]\n",
    "lstm_att_scores1 = lstm_att_scores[idx]\n",
    "lstm_att_patient_id = lstm_att_patient_ids[idx]\n",
    "len(lstm_att_features1), len(lstm_att_scores1)\n",
    "\n",
    "df_lstm_att_shap = pd.DataFrame(np.array([lstm_att_features1, lstm_att_scores1]).T, columns=['events', 'shap_vals'])\n",
    "df_lstm_att_shap[\"shap_vals\"] = pd.to_numeric(df_lstm_att_shap[\"shap_vals\"])\n",
    "print(df_lstm_att_shap.shape)\n",
    "df_lstm_att_shap.head()"
   ]
  },
  {
   "cell_type": "code",
   "execution_count": 34,
   "metadata": {},
   "outputs": [
    {
     "data": {
      "image/png": "[encoded data removed]",
      "text/plain": [
       "<Figure size 1440x720 with 1 Axes>"
      ]
     },
     "metadata": {
      "needs_background": "light"
     },
     "output_type": "display_data"
    }
   ],
   "source": [
    "plot_shap_values(df_lstm_att_shap, lstm_att_patient_id, sort=True)"
   ]
  },
  {
   "cell_type": "code",
   "execution_count": 35,
   "metadata": {},
   "outputs": [
    {
     "name": "stdout",
     "output_type": "stream",
     "text": [
      "(30, 2)\n"
     ]
    },
    {
     "data": {
      "text/html": [
       "<div>\n",
       "<style scoped>\n",
       "    .dataframe tbody tr th:only-of-type {\n",
       "        vertical-align: middle;\n",
       "    }\n",
       "\n",
       "    .dataframe tbody tr th {\n",
       "        vertical-align: top;\n",
       "    }\n",
       "\n",
       "    .dataframe thead th {\n",
       "        text-align: right;\n",
       "    }\n",
       "</style>\n",
       "<table border=\"1\" class=\"dataframe\">\n",
       "  <thead>\n",
       "    <tr style=\"text-align: right;\">\n",
       "      <th></th>\n",
       "      <th>events</th>\n",
       "      <th>shap_vals</th>\n",
       "    </tr>\n",
       "  </thead>\n",
       "  <tbody>\n",
       "    <tr>\n",
       "      <th>0</th>\n",
       "      <td>cold_sore</td>\n",
       "      <td>0.001128</td>\n",
       "    </tr>\n",
       "    <tr>\n",
       "      <th>1</th>\n",
       "      <td>cut_finger</td>\n",
       "      <td>-0.010979</td>\n",
       "    </tr>\n",
       "    <tr>\n",
       "      <th>2</th>\n",
       "      <td>hay_fever</td>\n",
       "      <td>0.015647</td>\n",
       "    </tr>\n",
       "    <tr>\n",
       "      <th>3</th>\n",
       "      <td>PH</td>\n",
       "      <td>0.945734</td>\n",
       "    </tr>\n",
       "    <tr>\n",
       "      <th>4</th>\n",
       "      <td>apnea</td>\n",
       "      <td>-0.002716</td>\n",
       "    </tr>\n",
       "  </tbody>\n",
       "</table>\n",
       "</div>"
      ],
      "text/plain": [
       "       events  shap_vals\n",
       "0   cold_sore   0.001128\n",
       "1  cut_finger  -0.010979\n",
       "2   hay_fever   0.015647\n",
       "3          PH   0.945734\n",
       "4       apnea  -0.002716"
      ]
     },
     "execution_count": 35,
     "metadata": {},
     "output_type": "execute_result"
    }
   ],
   "source": [
    "#For XGB Model\n",
    "xgb_features1 = xgb_features[idx]\n",
    "xgb_scores1 = xgb_scores[idx]\n",
    "xgb_patient_id = xgb_patient_ids[idx]\n",
    "len(xgb_features1), len(xgb_scores1)\n",
    "\n",
    "df_xgb_shap = pd.DataFrame(np.array([xgb_features1, xgb_scores1]).T, columns=['events', 'shap_vals'])\n",
    "df_xgb_shap[\"shap_vals\"] = pd.to_numeric(df_xgb_shap[\"shap_vals\"])\n",
    "print(df_xgb_shap.shape)\n",
    "df_xgb_shap.head()"
   ]
  },
  {
   "cell_type": "markdown",
   "metadata": {},
   "source": [
    "<font color='purple'>\n",
    "\n",
    "Suggest you extract the vals to the same sequence as well and plot that too \n",
    "so that we can compare the same events to the LSTM-type sequence\n",
    "</font>"
   ]
  },
  {
   "cell_type": "code",
   "execution_count": 36,
   "metadata": {},
   "outputs": [
    {
     "data": {
      "image/png": "[encoded data removed]",
      "text/plain": [
       "<Figure size 1440x720 with 1 Axes>"
      ]
     },
     "metadata": {
      "needs_background": "light"
     },
     "output_type": "display_data"
    }
   ],
   "source": [
    "plot_shap_values(df_xgb_shap, xgb_patient_id, sort=True)"
   ]
  },
  {
   "cell_type": "markdown",
   "metadata": {},
   "source": [
    "## Computing Jaccard Index Similarity b/n Models SHAP Values\n",
    "\n",
    "<font color='purple'>\n",
    "Add quick descriptor of Jaccard\n",
    "    \n",
    "Conclusions upfront of the results\n",
    "\n",
    "It will be easier if you add a condensed line plot of the three (later four) models results\n",
    "against k\n",
    "\n",
    "</font>"
   ]
  },
  {
   "cell_type": "code",
   "execution_count": 91,
   "metadata": {},
   "outputs": [],
   "source": [
    "k = 5 #Number of top k features\n",
    "k_list = range(1, 11)\n",
    "models = ['lstm', 'lstm-att', 'xgb']"
   ]
  },
  {
   "cell_type": "code",
   "execution_count": 92,
   "metadata": {},
   "outputs": [],
   "source": [
    "lstm_features = load_pickle(lstm_shap_features_path)\n",
    "lstm_scores = load_pickle(lstm_shap_scores_path)\n",
    "lstm_features_scores = (lstm_features, lstm_scores)\n",
    "\n",
    "lstm_att_features = load_pickle(lstm_att_shap_features_path)\n",
    "lstm_att_scores = load_pickle(lstm_att_shap_scores_path)\n",
    "lstm_att_features_scores = (lstm_att_features, lstm_att_scores)\n",
    "\n",
    "xgb_features = load_pickle(xgb_shap_features_path)\n",
    "xgb_scores = load_pickle(xgb_shap_scores_path)\n",
    "xgb_features_scores = (xgb_features, xgb_scores)\n",
    "\n",
    "all_features_scores = [lstm_features_scores, \n",
    "                       lstm_att_features_scores, \n",
    "                       xgb_features_scores]"
   ]
  },
  {
   "cell_type": "code",
   "execution_count": 93,
   "metadata": {},
   "outputs": [
    {
     "data": {
      "text/plain": [
       "(64, 64, 64)"
      ]
     },
     "execution_count": 93,
     "metadata": {},
     "output_type": "execute_result"
    }
   ],
   "source": [
    "len(lstm_features), len(lstm_att_features), len(xgb_features)"
   ]
  },
  {
   "cell_type": "code",
   "execution_count": 94,
   "metadata": {},
   "outputs": [
    {
     "data": {
      "image/png": "[encoded data removed]",
      "text/plain": [
       "<Figure size 1080x720 with 2 Axes>"
      ]
     },
     "metadata": {
      "needs_background": "light"
     },
     "output_type": "display_data"
    }
   ],
   "source": [
    "generate_heatmap(all_features_scores, models, k)"
   ]
  },
  {
   "cell_type": "code",
   "execution_count": 95,
   "metadata": {},
   "outputs": [
    {
     "data": {
      "image/png": "[encoded data removed]",
      "text/plain": [
       "<Figure size 1080x720 with 2 Axes>"
      ]
     },
     "metadata": {
      "needs_background": "light"
     },
     "output_type": "display_data"
    },
    {
     "data": {
      "image/png": "[encoded data removed]",
      "text/plain": [
       "<Figure size 1080x720 with 2 Axes>"
      ]
     },
     "metadata": {
      "needs_background": "light"
     },
     "output_type": "display_data"
    },
    {
     "data": {
      "image/png": "[encoded data removed]",
      "text/plain": [
       "<Figure size 1080x720 with 2 Axes>"
      ]
     },
     "metadata": {
      "needs_background": "light"
     },
     "output_type": "display_data"
    },
    {
     "data": {
      "image/png": "[encoded data removed]",
      "text/plain": [
       "<Figure size 1080x720 with 2 Axes>"
      ]
     },
     "metadata": {
      "needs_background": "light"
     },
     "output_type": "display_data"
    },
    {
     "data": {
      "image/png": "[encoded data removed]",
      "text/plain": [
       "<Figure size 1080x720 with 2 Axes>"
      ]
     },
     "metadata": {
      "needs_background": "light"
     },
     "output_type": "display_data"
    },
    {
     "data": {
      "image/png": "[encoded data removed]",
      "text/plain": [
       "<Figure size 1080x720 with 2 Axes>"
      ]
     },
     "metadata": {
      "needs_background": "light"
     },
     "output_type": "display_data"
    },
    {
     "data": {
      "image/png": "[encoded data removed]",
      "text/plain": [
       "<Figure size 1080x720 with 2 Axes>"
      ]
     },
     "metadata": {
      "needs_background": "light"
     },
     "output_type": "display_data"
    },
    {
     "data": {
      "image/png": "[encoded data removed]",
      "text/plain": [
       "<Figure size 1080x720 with 2 Axes>"
      ]
     },
     "metadata": {
      "needs_background": "light"
     },
     "output_type": "display_data"
    },
    {
     "data": {
      "image/png": "[encoded data removed]",
      "text/plain": [
       "<Figure size 1080x720 with 2 Axes>"
      ]
     },
     "metadata": {
      "needs_background": "light"
     },
     "output_type": "display_data"
    },
    {
     "data": {
      "image/png": "[encoded data removed]",
      "text/plain": [
       "<Figure size 1080x720 with 2 Axes>"
      ]
     },
     "metadata": {
      "needs_background": "light"
     },
     "output_type": "display_data"
    }
   ],
   "source": [
    "generate_k_heatmaps(all_features_scores, models, k_list)"
   ]
  },
  {
   "cell_type": "code",
   "execution_count": null,
   "metadata": {},
   "outputs": [],
   "source": []
  }
 ],
 "metadata": {
  "kernelspec": {
   "display_name": "conda_pytorch_p36",
   "language": "python",
   "name": "conda_pytorch_p36"
  },
  "language_info": {
   "codemirror_mode": {
    "name": "ipython",
    "version": 3
   },
   "file_extension": ".py",
   "mimetype": "text/x-python",
   "name": "python",
   "nbconvert_exporter": "python",
   "pygments_lexer": "ipython3",
   "version": "3.6.10"
  }
 },
 "nbformat": 4,
 "nbformat_minor": 4
}
