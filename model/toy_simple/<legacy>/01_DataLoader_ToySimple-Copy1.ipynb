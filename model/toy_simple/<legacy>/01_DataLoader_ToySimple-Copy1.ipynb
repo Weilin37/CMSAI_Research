{
 "cells": [
  {
   "cell_type": "code",
   "execution_count": 170,
   "metadata": {},
   "outputs": [],
   "source": [
    "import os\n",
    "\n",
    "import torch\n",
    "import pandas as pd\n",
    "import numpy as np\n",
    "\n",
    "from collections import Counter"
   ]
  },
  {
   "cell_type": "markdown",
   "metadata": {},
   "source": [
    "## OPTIONS"
   ]
  },
  {
   "cell_type": "code",
   "execution_count": 171,
   "metadata": {},
   "outputs": [],
   "source": [
    "nrows = 1000\n",
    "min_freq = 1\n",
    "\n",
    "train_data_path = \"../../data/toy_dataset/data/train_seq30.csv\"\n",
    "valid_data_path = \"../../data/toy_dataset/data/test_seq30.csv\"\n",
    "\n",
    "model_save_path = './sample_model/simple_lstm_201215'\n",
    "results_save_path = \"./sample_results/simple_results_201215\"\n",
    "batch_size = 64\n",
    "n_epochs = 5\n",
    "\n",
    "embedding_dim = 8\n",
    "hidden_dim = 16\n",
    "bidirectional = True\n",
    "dropout = 0.3\n",
    "\n",
    "target_colname = 'label'\n",
    "uid_colname = 'patient_id'\n",
    "x_inputs = [str(x) for x in range(29, -1, -1)]\n",
    "target_value = '1'"
   ]
  },
  {
   "cell_type": "code",
   "execution_count": 172,
   "metadata": {},
   "outputs": [
    {
     "name": "stdout",
     "output_type": "stream",
     "text": [
      "New directory created: ./sample_model/simple_lstm_201215\n",
      "New directory created: ./sample_results/simple_results_201215\n",
      "Cuda available: True\n"
     ]
    }
   ],
   "source": [
    "for fp in [model_save_path, results_save_path]:\n",
    "    if not os.path.isdir(os.path.split(fp)[0]):\n",
    "        print(f'New directory created: {fp}')\n",
    "        os.makedirs(os.path.split(fp)[0])\n",
    "\n",
    "print(f\"Cuda available: {torch.cuda.is_available()}\")\n",
    "model_device = torch.device('cuda' if torch.cuda.is_available() else 'cpu')"
   ]
  },
  {
   "cell_type": "markdown",
   "metadata": {},
   "source": [
    "## Create Vocab\n",
    "\n",
    "equivalent to model.create_word_id_dict"
   ]
  },
  {
   "cell_type": "code",
   "execution_count": 173,
   "metadata": {},
   "outputs": [],
   "source": [
    "datapath = train_data_path\n",
    "rev = False"
   ]
  },
  {
   "cell_type": "code",
   "execution_count": 174,
   "metadata": {},
   "outputs": [],
   "source": [
    "def valid_token(t):\n",
    "    if len(t) == 0 or t.lower() == \"<pad>\":\n",
    "        return False\n",
    "    return True"
   ]
  },
  {
   "cell_type": "code",
   "execution_count": 175,
   "metadata": {},
   "outputs": [],
   "source": [
    "token_list = []\n",
    "with open(datapath, \"r\") as f:\n",
    "    # determine column mapping\n",
    "    header = f.readline()\n",
    "    header = [h.replace(\" \", \"\").replace(\"\\n\", \"\") for h in header.split(\",\")]\n",
    "\n",
    "    target_index = header.index(target_colname)\n",
    "\n",
    "    uid_index = header.index(uid_colname)\n",
    "\n",
    "    x_idxes = []\n",
    "    for colname in x_inputs:\n",
    "        x_idxes.append(header.index(colname))\n",
    "\n",
    "    # start processing \n",
    "    line = f.readline()\n",
    "    invalid_uid = 0\n",
    "    deaths = 0\n",
    "    while line:\n",
    "        if 'death' in line:\n",
    "            deaths += 1\n",
    "            pass\n",
    "\n",
    "        tokens = line.split(\",\")\n",
    "\n",
    "        if len(tokens[uid_index]) == 0:\n",
    "            invalid_uid += 1 # some UIDS are missing\n",
    "            pass\n",
    "        else:\n",
    "            uid = tokens[uid_index].replace('\\n', '')\n",
    "\n",
    "        ## CHANGE: integer\n",
    "        if isinstance(tokens[target_index], str):\n",
    "            label = 1 if tokens[target_index].startswith(target_value) else 0\n",
    "        \n",
    "        if isinstance(tokens[target_index], int):\n",
    "            label = tokens[target_index]\n",
    "\n",
    "        tokens = [tokens[idx] for idx in x_idxes]\n",
    "        tokens = [t.strip().replace('\\n', '') for t in tokens if valid_token(t)]\n",
    "\n",
    "        if rev:\n",
    "            tokens = tokens[::-1]\n",
    "\n",
    "        token_list.append((uid, label, tokens))\n",
    "\n",
    "        line = f.readline()\n",
    "\n",
    "        if len(token_list) == nrows:\n",
    "            break"
   ]
  },
  {
   "cell_type": "markdown",
   "metadata": {},
   "source": [
    "Define vocabulary without torchtext"
   ]
  },
  {
   "cell_type": "code",
   "execution_count": 221,
   "metadata": {},
   "outputs": [],
   "source": [
    "vocab = {}\n",
    "vocab['<pad>'] = 0\n",
    "vocab['<unk>'] = 1\n",
    "\n",
    "rev_vocab = {}\n",
    "rev_vocab[0] = '<pad>'\n",
    "rev_vocab[1] = '<unk>'\n",
    "\n",
    "counter = Counter()\n",
    "for uid, label, tokens in token_list:\n",
    "    for token in tokens:\n",
    "        counter[token] += 1\n",
    "\n",
    "for token in counter:\n",
    "    if counter[token] < min_freq:\n",
    "        continue\n",
    "        \n",
    "    idx = len(vocab)\n",
    "    vocab[token] = idx\n",
    "    rev_vocab[idx] = token\n",
    "    \n",
    "class Vocab:\n",
    "    def __init__(self, vocab, rev_vocab):\n",
    "        self._vocab = vocab\n",
    "        self._rev_vocab = rev_vocab\n",
    "        self._unk_idx = vocab['<unk>']\n",
    "        self._pad_idx = vocab['<pad>']\n",
    "    \n",
    "    def __len__(self):\n",
    "        return len(self._vocab)\n",
    "    \n",
    "    def stoi(self, token):\n",
    "        if token in self._vocab:\n",
    "            return self._vocab[token]\n",
    "        return self._vocab['<unk>']\n",
    "    \n",
    "    def itos(self, idx):\n",
    "        if idx in self._rev_vocab:\n",
    "            return self._rev_vocab[idx]\n",
    "        return self._unk_idx\n",
    "    "
   ]
  },
  {
   "cell_type": "code",
   "execution_count": 222,
   "metadata": {},
   "outputs": [],
   "source": [
    "vocab_class = Vocab(vocab, rev_vocab)"
   ]
  },
  {
   "cell_type": "markdown",
   "metadata": {},
   "source": [
    "**Create dataset and dataloader**"
   ]
  },
  {
   "cell_type": "code",
   "execution_count": 223,
   "metadata": {},
   "outputs": [],
   "source": [
    "data = [\n",
    "    (pid, [label], [vocab_class.stoi(t) for t in tokens])\n",
    "    for pid, label, tokens in token_list\n",
    "]"
   ]
  },
  {
   "cell_type": "code",
   "execution_count": 224,
   "metadata": {},
   "outputs": [],
   "source": [
    "from torch.utils.data import Dataset, DataLoader"
   ]
  },
  {
   "cell_type": "code",
   "execution_count": 225,
   "metadata": {},
   "outputs": [],
   "source": [
    "class ToyDataset(Dataset):\n",
    "    '''\n",
    "    Similar to transformer's, adapted to this dataset with Marc's line by line reading output\n",
    "    '''\n",
    "    \n",
    "    def __init__(self, data, max_len=35, pad_idx=0):\n",
    "        self.data = data\n",
    "        self.max_len = max_len\n",
    "        self.pad_idx = pad_idx\n",
    "        \n",
    "    def __len__(self):\n",
    "        return len(self.data)\n",
    "    \n",
    "    def __getitem__(self, idx):\n",
    "        if torch.is_tensor(idx):\n",
    "            idx = idx.tolist()\n",
    "            \n",
    "        idx_lst = data[idx][2]\n",
    "        if len(idx_lst) > self.max_len:\n",
    "            idx_lst = idx_lst[:self.max_len]\n",
    "        idx_lst = idx_lst + [self.pad_idx] * (self.max_len - len(idx_lst))\n",
    "            \n",
    "        return (\n",
    "            data[idx][0],\n",
    "            torch.tensor(data[idx][1]),\n",
    "            torch.tensor(idx_lst) \n",
    "        )\n",
    "    \n",
    "    "
   ]
  },
  {
   "cell_type": "code",
   "execution_count": 226,
   "metadata": {},
   "outputs": [],
   "source": [
    "toy_dataset = ToyDataset(data, max_len=30)"
   ]
  },
  {
   "cell_type": "code",
   "execution_count": 227,
   "metadata": {},
   "outputs": [],
   "source": [
    "train_dataloader = DataLoader(\n",
    "    toy_dataset,\n",
    "    batch_size=batch_size,\n",
    "    shuffle=False,\n",
    "    num_workers=2\n",
    ")"
   ]
  },
  {
   "cell_type": "markdown",
   "metadata": {},
   "source": [
    "## Model definition"
   ]
  },
  {
   "cell_type": "code",
   "execution_count": 228,
   "metadata": {},
   "outputs": [],
   "source": [
    "import torch\n",
    "import torch.nn as nn"
   ]
  },
  {
   "cell_type": "code",
   "execution_count": 229,
   "metadata": {},
   "outputs": [],
   "source": [
    "class SimpleLSTM(nn.Module):\n",
    "    def __init__(self, emb_dim, hidden_dim, vocab, device, nlayers=1, bidi=True, use_gpu=True,\n",
    "                 pad_idx=0):\n",
    "        super(SimpleLSTM, self).__init__()\n",
    "        \n",
    "        self.device = device\n",
    "        self.use_gpu = use_gpu\n",
    "        \n",
    "        self.emb_dim = emb_dim\n",
    "        self.input_dim = len(vocab)\n",
    "        self.vocab = vocab\n",
    "        self.pad_idx = pad_idx\n",
    "        self.emb_layer = nn.Embedding(self.input_dim, emb_dim, padding_idx=pad_idx)\n",
    "        \n",
    "        self.hidden_dim = hidden_dim\n",
    "        self.bidi = bidi\n",
    "        self.nlayers = nlayers\n",
    "        self.lstm = nn.LSTM(input_size=emb_dim,\n",
    "                            hidden_size=hidden_dim,\n",
    "                            num_layers=nlayers,\n",
    "                            bidirectional=bidi,\n",
    "                            batch_first=True)\n",
    "        \n",
    "        self.pred_layer = nn.Linear(hidden_dim * 2, 2) if bidi else nn.Linear(hidden_dim, 2)\n",
    "        \n",
    "        self.init_weights()\n",
    "        \n",
    "    def init_weights(self):\n",
    "        initrange = 0.3\n",
    "        self.emb_layer.weight.data.uniform_(-initrange, initrange) \n",
    "        \n",
    "        self.pred_layer.weight.data.uniform_(-initrange, initrange)\n",
    "        self.pred_layer.bias.data.zero_()   \n",
    "        \n",
    "    def init_hidden(self, batch_size):\n",
    "        count = self.nlayers * 2 if self.bidi else self.nlayers\n",
    "        \n",
    "        weight = next(self.parameters())\n",
    "        \n",
    "        directionality = 2 if self.bidi else 1\n",
    "        weights = (\n",
    "            weight.new_zeros(count * directionality, batch_size, self.hidden_dim),\n",
    "            weight.new_zeros(count * directionality, batch_size, self.hidden_dim)\n",
    "        )\n",
    "        \n",
    "        if self.use_gpu:\n",
    "            return (weights[0].cuda(), weights[1].cuda())\n",
    "        \n",
    "        return weights\n",
    "        \n",
    "    def repackage_hidden(h):\n",
    "        \"\"\"\n",
    "        Wraps hidden states in new Tensors, to detach them from their history.\n",
    "        Needed to prevent RNN+Attention backpropagating between batches.\n",
    "        \"\"\"\n",
    "        if isinstance(h, torch.Tensor):\n",
    "            return h.detach()\n",
    "        \n",
    "        if isinstance(h, tuple):\n",
    "            return (v.detach() for v in h)\n",
    "    \n",
    "        \n",
    "    def forward(self, tokens):\n",
    "        embedded = self.emb_layer(tokens)\n",
    "        \n",
    "        hidden = self.init_hidden(tokens.shape[0])\n",
    "        hidden = self.repackage_hidden()\n",
    "        \n",
    "        text_lengths = torch.sum(tokens != self.pad_idx, dim=1)\n",
    "        \n",
    "        packed_embedded = nn.utils.rnn.pack_padded_sequence(\n",
    "            embedded, text_lengths, enforce_sorted=False, batch_first=True)\n",
    "        \n",
    "        packed_output, (hidden, cell) = self.lstm(packed_embedded, hidden)\n",
    "        \n",
    "        output, output_lengths = nn.utils.rnn.pad_packed_sequence(packed_output)\n",
    "        output = output.permute(1, 0, 2) # [batch, text_length, hidden_dim]\n",
    "        \n",
    "        if self.bidi:\n",
    "            out = torch.cat([output[:, -1, :self.hidden_dim], output[:, 0, self.hidden_dim:]],\n",
    "                           dim=1)\n",
    "        else:\n",
    "            out = output[:, -1, :]\n",
    "        \n",
    "        pred = self.pred_layer(out)\n",
    "        \n",
    "        return pred\n",
    "    \n",
    "    def save_model(self, filepath):\n",
    "        if not os.path.isdir(os.path.split(filepath)[0]):\n",
    "            os.makedirs(os.path.split(filepath)[0])\n",
    "        torch.save({self.state_dict()}, filepath)\n",
    "                   \n",
    "    def load_model(self, filename):\n",
    "        self.load_state_dict(torch.load(filename))\n",
    "        \n",
    "    def get_ids_masks(self, token_list, padding_length):\n",
    "        '''Only enabled for one example at a time'''\n",
    "        ids, masks = np.zeros((padding_length, len(self.vocab))), [0] * padding_length\n",
    "        \n",
    "        for (i, idx_token) in enumerate(token_list):\n",
    "            if i >= padding_length or idx_token == self.pad_idx:\n",
    "                break\n",
    "            ids[i, idx_token] = 1\n",
    "            masks[i] = 1\n",
    "\n",
    "        return torch.FloatTensor(ids), masks\n",
    "    \n",
    "    def get_all_ids_masks(self, data, padding_length):\n",
    "        ids,  masks = [], []\n",
    "        for obs in data:\n",
    "            id_vals, mask_vals = self.get_ids_masks(obs, padding_length)\n",
    "            ids.append(id_vals)\n",
    "            masks.append(mask_vals)\n",
    "            \n",
    "        return torch.stack(ids), masks\n",
    "    \n",
    "    def forward_shap(self, token_ids, mask, full_id_matrix=False):\n",
    "        '''Only enabled for one example at a time'''\n",
    "        token_ids = token_ids if token_ids.is_cuda else token_ids.cuda()\n",
    "        \n",
    "        hidden = self.init_hidden(1)\n",
    "        hidden = self.repackage_hidden()\n",
    "        \n",
    "        emb = torch.matmul(token_ids, self.emb_layer.weight).unsqueeze(0)\n",
    "        \n",
    "        out, _ = self.lstm(emb, hidden)\n",
    "        \n",
    "        return self.pred_layer(out).squeeze(0)\n",
    "\n",
    "    \n"
   ]
  },
  {
   "cell_type": "code",
   "execution_count": 230,
   "metadata": {},
   "outputs": [],
   "source": [
    "model = SimpleLSTM(embedding_dim, hidden_dim, vocab_class, model_device)\n",
    "model = model.cuda()"
   ]
  },
  {
   "cell_type": "code",
   "execution_count": 231,
   "metadata": {},
   "outputs": [
    {
     "data": {
      "text/plain": [
       "SimpleLSTM(\n",
       "  (emb_layer): Embedding(32, 8, padding_idx=0)\n",
       "  (lstm): LSTM(8, 16, batch_first=True, bidirectional=True)\n",
       "  (pred_layer): Linear(in_features=32, out_features=2, bias=True)\n",
       ")"
      ]
     },
     "execution_count": 231,
     "metadata": {},
     "output_type": "execute_result"
    }
   ],
   "source": [
    "model"
   ]
  },
  {
   "cell_type": "markdown",
   "metadata": {},
   "source": [
    "## Training loop"
   ]
  },
  {
   "cell_type": "code",
   "execution_count": 232,
   "metadata": {},
   "outputs": [],
   "source": [
    "def epoch_train_lstm(\n",
    "    model,\n",
    "    dataloader,\n",
    "    optimizer,\n",
    "    criterion,\n",
    "    test=0\n",
    "):\n",
    "    \"\"\"\n",
    "    Train model for an epoch, called by ModelProcess function\n",
    "    detach_hidden is used to detach hidden state between batches,\n",
    "    and will add a new hidden state to model. Model must have .init_hidden function defined\n",
    "    \n",
    "    Args:\n",
    "    -----\n",
    "        model (nn.Module): lstm general attention model\n",
    "        dataloader : iterator for dataset, yields (ids, sequence, seq length, labels)\n",
    "        criterion : loss function\n",
    "        batch_size : int default 0\n",
    "                     used when detach_hidden is enabled\n",
    "                     to create the correct hidden sizes during initialization\n",
    "        \n",
    "    Returns:\n",
    "    ----------\n",
    "        tuple containing:\n",
    "            average loss for whole epoch,\n",
    "            average AUC for whole epoch\n",
    "    \"\"\"\n",
    "    import copy\n",
    "    from sklearn.metrics import roc_auc_score\n",
    "           \n",
    "    epoch_loss = 0\n",
    "    epoch_metric = 0\n",
    "\n",
    "    model.train()\n",
    "\n",
    "    # initialize lists to compare predictions & ground truth labels for metric calculation\n",
    "    order_labels = []\n",
    "    prediction_scores = []\n",
    "    if test: # test function on small number of batches\n",
    "        counter = 0\n",
    "        \n",
    "    for idx, (ids, labels, idxed_text) in enumerate(dataloader):\n",
    "        \n",
    "        optimizer.zero_grad()\n",
    "          \n",
    "        labels = labels.type(torch.long)\n",
    "        idxed_text, labels = idxed_text.cuda(), labels.cuda()\n",
    "\n",
    "        predictions = model(idxed_text)        \n",
    "        #predictions = model(text, text_lengths).squeeze(1)\n",
    "        \n",
    "        \n",
    "        loss = criterion(predictions, labels.squeeze(1))\n",
    "        loss.backward()\n",
    "        optimizer.step()\n",
    "\n",
    "        # prevent internal pytorch timeout due to too many file opens by multiprocessing\n",
    "        copied_labels = copy.deepcopy(labels.detach().cpu().numpy())\n",
    "        del labels\n",
    "        order_labels.extend(copied_labels)\n",
    "        \n",
    "        copied_preds = copy.deepcopy(predictions.detach().cpu().numpy())\n",
    "        del predictions\n",
    "        prediction_scores.extend(copied_preds)\n",
    "        \n",
    "        epoch_loss += loss.item()        \n",
    "    \n",
    "        if test:\n",
    "            if counter >= test:\n",
    "                break\n",
    "            counter += 1\n",
    "    \n",
    "    epoch_metric = roc_auc_score(order_labels, torch.sigmoid(torch.Tensor(prediction_scores)[:, 1]))\n",
    "        \n",
    "    return epoch_loss / len(dataloader), epoch_metric"
   ]
  },
  {
   "cell_type": "code",
   "execution_count": 233,
   "metadata": {},
   "outputs": [],
   "source": [
    "loss_function = nn.CrossEntropyLoss()\n",
    "optimizer = torch.optim.Adam(model.parameters(), lr=0.05)"
   ]
  },
  {
   "cell_type": "code",
   "execution_count": 234,
   "metadata": {},
   "outputs": [],
   "source": [
    "import time"
   ]
  },
  {
   "cell_type": "code",
   "execution_count": 235,
   "metadata": {},
   "outputs": [
    {
     "name": "stdout",
     "output_type": "stream",
     "text": [
      "Train Loss: 0.699 | Train AUC: 0.53\n",
      "Train Loss: 0.573 | Train AUC: 0.80\n",
      "Train Loss: 0.434 | Train AUC: 0.87\n",
      "Train Loss: 0.352 | Train AUC: 0.90\n",
      "Train Loss: 0.343 | Train AUC: 0.91\n"
     ]
    }
   ],
   "source": [
    "#best_valid_loss = float(\"inf\")\n",
    "#valid_worse_loss = 0  # enable early stopping\n",
    "#stop_num = 6\n",
    "\n",
    "for epoch in range(n_epochs):\n",
    "\n",
    "    start_time = time.time()\n",
    "\n",
    "    train_loss, train_auc = epoch_train_lstm(\n",
    "        model, train_dataloader, optimizer, loss_function\n",
    "    )\n",
    "\n",
    "    #valid_loss, valid_auc = epoch_val_lstm(\n",
    "    #    model, valid_dataloader, criterion, return_preds=False\n",
    "    #)\n",
    "\n",
    "    end_time = time.time()\n",
    "\n",
    "    #epoch_mins, epoch_secs = epoch_time(start_time, end_time)\n",
    "    \n",
    "    #print(f\"Epoch: {epoch+1:02} | Epoch Time: {epoch_mins}m {epoch_secs}s\")\n",
    "\n",
    "    '''\n",
    "    if valid_loss < best_valid_loss:\n",
    "        best_valid_loss = valid_loss\n",
    "        torch.save(model.state_dict(), model_save_path)\n",
    "        print(\"Saved Model, epoch {}\".format(epoch))\n",
    "        valid_worse_loss = 0\n",
    "\n",
    "    else:\n",
    "        valid_worse_loss += 1\n",
    "        if valid_worse_loss == stop_num:\n",
    "            print(\"EARLY STOP ------\")\n",
    "            break\n",
    "\n",
    "    scheduler.step()\n",
    "    log(\n",
    "        f\"Train Loss: {train_loss:.3f} | Train AUC: {train_auc:.2f} \\t Val. Loss: {valid_loss:.3f} |  Val. AUC: {valid_auc:.4f}\"\n",
    "    )'''\n",
    "    \n",
    "    print(\n",
    "        f\"Train Loss: {train_loss:.3f} | Train AUC: {train_auc:.2f}\"\n",
    "    )"
   ]
  },
  {
   "cell_type": "markdown",
   "metadata": {},
   "source": [
    "## GEt SHAP values"
   ]
  },
  {
   "cell_type": "code",
   "execution_count": 236,
   "metadata": {},
   "outputs": [],
   "source": [
    "import deep_id_pytorch"
   ]
  },
  {
   "cell_type": "code",
   "execution_count": 284,
   "metadata": {},
   "outputs": [],
   "source": [
    "background = next(iter(train_dataloader))\n",
    "background_ids, background_labels, background_idxes = background"
   ]
  },
  {
   "cell_type": "code",
   "execution_count": 285,
   "metadata": {},
   "outputs": [
    {
     "data": {
      "text/plain": [
       "torch.Size([64, 30])"
      ]
     },
     "execution_count": 285,
     "metadata": {},
     "output_type": "execute_result"
    }
   ],
   "source": [
    "background_idxes.shape"
   ]
  },
  {
   "cell_type": "code",
   "execution_count": 286,
   "metadata": {},
   "outputs": [],
   "source": [
    "bg_data, bg_masks = model.get_all_ids_masks(background_idxes, 30)"
   ]
  },
  {
   "cell_type": "code",
   "execution_count": 287,
   "metadata": {},
   "outputs": [
    {
     "data": {
      "text/plain": [
       "torch.Size([64, 30, 32])"
      ]
     },
     "execution_count": 287,
     "metadata": {},
     "output_type": "execute_result"
    }
   ],
   "source": [
    "bg_data.shape"
   ]
  },
  {
   "cell_type": "code",
   "execution_count": 288,
   "metadata": {},
   "outputs": [
    {
     "name": "stderr",
     "output_type": "stream",
     "text": [
      "64it [00:00, 722.04it/s]\n"
     ]
    }
   ],
   "source": [
    "explainer = deep_id_pytorch.CustomPyTorchDeepIDExplainer(model, bg_data, bg_masks,\n",
    "                                                         gpu_memory_efficient=True)"
   ]
  },
  {
   "cell_type": "code",
   "execution_count": 289,
   "metadata": {},
   "outputs": [],
   "source": [
    "model.train() # in case that shap complains that autograd cannot be called\n",
    "lstm_values = []\n",
    "features = []\n",
    "start = 0"
   ]
  },
  {
   "cell_type": "code",
   "execution_count": 290,
   "metadata": {},
   "outputs": [],
   "source": [
    "test = list(train_dataloader)[3]\n",
    "test_ids, test_labels, test_idxes = test"
   ]
  },
  {
   "cell_type": "code",
   "execution_count": 291,
   "metadata": {},
   "outputs": [
    {
     "data": {
      "text/plain": [
       "torch.Size([64, 30])"
      ]
     },
     "execution_count": 291,
     "metadata": {},
     "output_type": "execute_result"
    }
   ],
   "source": [
    "test_idxes.shape"
   ]
  },
  {
   "cell_type": "code",
   "execution_count": 292,
   "metadata": {},
   "outputs": [
    {
     "data": {
      "text/plain": [
       "tensor([ 7, 16, 21, 19,  4, 14, 16, 20, 10, 19, 10, 17, 11, 11, 19,  4,  3, 10,\n",
       "         4,  7, 13, 22, 15, 19, 16, 17,  2, 12,  0,  0])"
      ]
     },
     "execution_count": 292,
     "metadata": {},
     "output_type": "execute_result"
    }
   ],
   "source": [
    "test_idxes[0]"
   ]
  },
  {
   "cell_type": "code",
   "execution_count": 293,
   "metadata": {},
   "outputs": [],
   "source": [
    "test_data, test_masks = model.get_all_ids_masks(test_idxes, 30)"
   ]
  },
  {
   "cell_type": "code",
   "execution_count": 294,
   "metadata": {},
   "outputs": [
    {
     "data": {
      "text/plain": [
       "torch.Size([30, 32])"
      ]
     },
     "execution_count": 294,
     "metadata": {},
     "output_type": "execute_result"
    }
   ],
   "source": [
    "test_data[0].shape"
   ]
  },
  {
   "cell_type": "code",
   "execution_count": 295,
   "metadata": {},
   "outputs": [
    {
     "data": {
      "text/plain": [
       "30"
      ]
     },
     "execution_count": 295,
     "metadata": {},
     "output_type": "execute_result"
    }
   ],
   "source": [
    "len(test_masks[0])"
   ]
  },
  {
   "cell_type": "code",
   "execution_count": 296,
   "metadata": {},
   "outputs": [
    {
     "name": "stderr",
     "output_type": "stream",
     "text": [
      "128it [00:00, 289.32it/s]\n",
      "128it [00:00, 280.10it/s]\n"
     ]
    }
   ],
   "source": [
    "lstm_shap_values = explainer.shap_values(test_data[0].unsqueeze(0), test_masks[0])"
   ]
  },
  {
   "cell_type": "code",
   "execution_count": 297,
   "metadata": {},
   "outputs": [
    {
     "data": {
      "text/plain": [
       "(1, 30, 32)"
      ]
     },
     "execution_count": 297,
     "metadata": {},
     "output_type": "execute_result"
    }
   ],
   "source": [
    "lstm_shap_values[0].shape"
   ]
  },
  {
   "cell_type": "code",
   "execution_count": 298,
   "metadata": {},
   "outputs": [
    {
     "data": {
      "text/plain": [
       "(30, 32)"
      ]
     },
     "execution_count": 298,
     "metadata": {},
     "output_type": "execute_result"
    }
   ],
   "source": [
    "lstm_shap_values[0][0, :, :].shape"
   ]
  },
  {
   "cell_type": "code",
   "execution_count": 299,
   "metadata": {},
   "outputs": [
    {
     "data": {
      "text/plain": [
       "(2, 30, 32)"
      ]
     },
     "execution_count": 299,
     "metadata": {},
     "output_type": "execute_result"
    }
   ],
   "source": [
    "np.vstack(lstm_shap_values).shape"
   ]
  },
  {
   "cell_type": "code",
   "execution_count": 300,
   "metadata": {},
   "outputs": [],
   "source": [
    "class_token_values = [[] for _ in lstm_shap_values]"
   ]
  },
  {
   "cell_type": "code",
   "execution_count": 301,
   "metadata": {},
   "outputs": [
    {
     "data": {
      "text/plain": [
       "[]"
      ]
     },
     "execution_count": 301,
     "metadata": {},
     "output_type": "execute_result"
    }
   ],
   "source": [
    "features"
   ]
  },
  {
   "cell_type": "code",
   "execution_count": 302,
   "metadata": {},
   "outputs": [
    {
     "data": {
      "text/plain": [
       "(0,)"
      ]
     },
     "execution_count": 302,
     "metadata": {},
     "output_type": "execute_result"
    }
   ],
   "source": [
    "np.array(lstm_values).shape"
   ]
  },
  {
   "cell_type": "code",
   "execution_count": 275,
   "metadata": {},
   "outputs": [
    {
     "data": {
      "text/plain": [
       "torch.Size([30])"
      ]
     },
     "execution_count": 275,
     "metadata": {},
     "output_type": "execute_result"
    }
   ],
   "source": [
    "test_idxes[0].shape"
   ]
  },
  {
   "cell_type": "code",
   "execution_count": 303,
   "metadata": {},
   "outputs": [
    {
     "data": {
      "text/plain": [
       "0.0046462262980639935"
      ]
     },
     "execution_count": 303,
     "metadata": {},
     "output_type": "execute_result"
    }
   ],
   "source": [
    "lstm_shap_values[0][0, 0, 20]"
   ]
  },
  {
   "cell_type": "code",
   "execution_count": 305,
   "metadata": {},
   "outputs": [
    {
     "data": {
      "text/plain": [
       "(1, 30, 32)"
      ]
     },
     "execution_count": 305,
     "metadata": {},
     "output_type": "execute_result"
    }
   ],
   "source": [
    "lstm_shap_values[0].shape"
   ]
  },
  {
   "cell_type": "code",
   "execution_count": 278,
   "metadata": {},
   "outputs": [
    {
     "ename": "IndexError",
     "evalue": "index 20 is out of bounds for axis 1 with size 20",
     "output_type": "error",
     "traceback": [
      "\u001b[0;31m---------------------------------------------------------------------------\u001b[0m",
      "\u001b[0;31mIndexError\u001b[0m                                Traceback (most recent call last)",
      "\u001b[0;32m<ipython-input-278-10a12dcdd6ab>\u001b[0m in \u001b[0;36m<module>\u001b[0;34m\u001b[0m\n\u001b[1;32m      1\u001b[0m \u001b[0;32mfor\u001b[0m \u001b[0;34m(\u001b[0m\u001b[0mi\u001b[0m\u001b[0;34m,\u001b[0m \u001b[0mw\u001b[0m\u001b[0;34m)\u001b[0m \u001b[0;32min\u001b[0m \u001b[0menumerate\u001b[0m\u001b[0;34m(\u001b[0m\u001b[0mtest_idxes\u001b[0m\u001b[0;34m[\u001b[0m\u001b[0;36m0\u001b[0m\u001b[0;34m,\u001b[0m \u001b[0;34m:\u001b[0m\u001b[0;34m]\u001b[0m\u001b[0;34m)\u001b[0m\u001b[0;34m:\u001b[0m\u001b[0;34m\u001b[0m\u001b[0;34m\u001b[0m\u001b[0m\n\u001b[1;32m      2\u001b[0m     \u001b[0;32mfor\u001b[0m \u001b[0mc\u001b[0m \u001b[0;32min\u001b[0m \u001b[0mrange\u001b[0m\u001b[0;34m(\u001b[0m\u001b[0mlen\u001b[0m\u001b[0;34m(\u001b[0m\u001b[0mlstm_shap_values\u001b[0m\u001b[0;34m)\u001b[0m\u001b[0;34m)\u001b[0m\u001b[0;34m:\u001b[0m\u001b[0;34m\u001b[0m\u001b[0;34m\u001b[0m\u001b[0m\n\u001b[0;32m----> 3\u001b[0;31m         \u001b[0mclass_token_values\u001b[0m\u001b[0;34m[\u001b[0m\u001b[0mc\u001b[0m\u001b[0;34m]\u001b[0m\u001b[0;34m.\u001b[0m\u001b[0mappend\u001b[0m\u001b[0;34m(\u001b[0m\u001b[0mlstm_shap_values\u001b[0m\u001b[0;34m[\u001b[0m\u001b[0mc\u001b[0m\u001b[0;34m]\u001b[0m\u001b[0;34m[\u001b[0m\u001b[0;36m0\u001b[0m\u001b[0;34m,\u001b[0m \u001b[0mi\u001b[0m\u001b[0;34m,\u001b[0m \u001b[0mw\u001b[0m\u001b[0;34m]\u001b[0m\u001b[0;34m)\u001b[0m\u001b[0;34m\u001b[0m\u001b[0;34m\u001b[0m\u001b[0m\n\u001b[0m\u001b[1;32m      4\u001b[0m \u001b[0mlstm_values\u001b[0m\u001b[0;34m.\u001b[0m\u001b[0mappend\u001b[0m\u001b[0;34m(\u001b[0m\u001b[0mclass_token_values\u001b[0m\u001b[0;34m)\u001b[0m\u001b[0;34m\u001b[0m\u001b[0;34m\u001b[0m\u001b[0m\n\u001b[1;32m      5\u001b[0m \u001b[0mfeatures\u001b[0m\u001b[0;34m.\u001b[0m\u001b[0mappend\u001b[0m\u001b[0;34m(\u001b[0m\u001b[0mtokens\u001b[0m\u001b[0;34m)\u001b[0m\u001b[0;34m\u001b[0m\u001b[0;34m\u001b[0m\u001b[0m\n",
      "\u001b[0;31mIndexError\u001b[0m: index 20 is out of bounds for axis 1 with size 20"
     ]
    }
   ],
   "source": [
    "for (i, w) in enumerate(test_idxes[0, :]):\n",
    "    for c in range(len(lstm_shap_values)):\n",
    "        class_token_values[c].append(lstm_shap_values[c][0, i, w])\n",
    "lstm_values.append(class_token_values)\n",
    "features.append(tokens)"
   ]
  },
  {
   "cell_type": "code",
   "execution_count": 277,
   "metadata": {},
   "outputs": [
    {
     "data": {
      "text/plain": [
       "array([-1.03667423e-01, -1.29306167e-01, -1.59644857e-02, -8.94255703e-04,\n",
       "       -4.06744424e-03, -3.68539407e-03, -4.49452596e-03,  5.88633993e-04,\n",
       "       -6.65570959e-04, -4.86599660e-04, -4.71559819e-04, -3.56429582e-03,\n",
       "       -2.85393186e-03, -2.12410255e-03, -1.37228309e-03, -1.28753635e-03,\n",
       "        3.20316467e-05, -2.09186663e-04, -2.43450995e-04, -1.33402093e-04])"
      ]
     },
     "execution_count": 277,
     "metadata": {},
     "output_type": "execute_result"
    }
   ],
   "source": [
    "np.array(lstm_values)[0][0]"
   ]
  },
  {
   "cell_type": "code",
   "execution_count": 255,
   "metadata": {},
   "outputs": [
    {
     "data": {
      "text/plain": [
       "['PCI',\n",
       " 'hay_fever',\n",
       " 'annual_physical',\n",
       " 'hay_fever',\n",
       " 'peanut_allergy',\n",
       " 'foot_pain',\n",
       " 'ACL_tear',\n",
       " 'myopia',\n",
       " 'dental_exam',\n",
       " 'hay_fever',\n",
       " 'ingrown_nail',\n",
       " 'hay_fever',\n",
       " 'tachycardia',\n",
       " 'cut_finger',\n",
       " 'peanut_allergy',\n",
       " 'backache',\n",
       " 'dental_exam',\n",
       " 'cold_sore',\n",
       " 'annual_physical',\n",
       " 'foot_pain',\n",
       " 'myopia',\n",
       " 'peanut_allergy',\n",
       " 'backache',\n",
       " 'eye_exam',\n",
       " 'ACE_inhibitors',\n",
       " 'eye_exam',\n",
       " 'peanut_allergy',\n",
       " 'hay_fever',\n",
       " 'backache']"
      ]
     },
     "execution_count": 255,
     "metadata": {},
     "output_type": "execute_result"
    }
   ],
   "source": [
    "tokens"
   ]
  },
  {
   "cell_type": "code",
   "execution_count": 256,
   "metadata": {},
   "outputs": [
    {
     "data": {
      "text/plain": [
       "[[[-0.10366742312908173,\n",
       "   -0.12930616736412048,\n",
       "   -0.015964485704898834,\n",
       "   -0.0008942557033151388,\n",
       "   -0.004067444242537022,\n",
       "   -0.0036853940691798925,\n",
       "   -0.004494525957852602,\n",
       "   0.0005886339931748807,\n",
       "   -0.0006655709585174918,\n",
       "   -0.0004865996597800404,\n",
       "   -0.0004715598188340664,\n",
       "   -0.0035642958246171474,\n",
       "   -0.0028539318591356277,\n",
       "   -0.0021241025533527136,\n",
       "   -0.0013722830917686224,\n",
       "   -0.0012875363463535905,\n",
       "   3.203164669685066e-05,\n",
       "   -0.0002091866626869887,\n",
       "   -0.00024345099518541247,\n",
       "   -0.00013340209261514246],\n",
       "  [0.08977313339710236,\n",
       "   0.027843765914440155,\n",
       "   0.003877089126035571,\n",
       "   -0.0027474588714540005,\n",
       "   0.002114701783284545,\n",
       "   0.00145527976565063,\n",
       "   0.0021226529497653246,\n",
       "   6.186331302160397e-05,\n",
       "   -0.0002750622807070613,\n",
       "   -0.001061874907463789,\n",
       "   -7.960348739288747e-05,\n",
       "   0.002329355338588357,\n",
       "   0.002077898709103465,\n",
       "   0.0016268205363303423,\n",
       "   0.0010670439805835485,\n",
       "   0.001074254047125578,\n",
       "   -3.331426341901533e-05,\n",
       "   0.00017701978504192084,\n",
       "   0.00021666202519554645,\n",
       "   0.00012180851626908407]]]"
      ]
     },
     "execution_count": 256,
     "metadata": {},
     "output_type": "execute_result"
    }
   ],
   "source": [
    "lstm_values"
   ]
  },
  {
   "cell_type": "code",
   "execution_count": 257,
   "metadata": {},
   "outputs": [
    {
     "data": {
      "text/plain": [
       "(1, 2, 20)"
      ]
     },
     "execution_count": 257,
     "metadata": {},
     "output_type": "execute_result"
    }
   ],
   "source": [
    "np.array(lstm_values).shape"
   ]
  },
  {
   "cell_type": "code",
   "execution_count": 258,
   "metadata": {},
   "outputs": [],
   "source": [
    "import matplotlib.pyplot as plt"
   ]
  },
  {
   "cell_type": "code",
   "execution_count": 259,
   "metadata": {},
   "outputs": [
    {
     "data": {
      "text/plain": [
       "<matplotlib.collections.PathCollection at 0x7f25d5e4f668>"
      ]
     },
     "execution_count": 259,
     "metadata": {},
     "output_type": "execute_result"
    },
    {
     "data": {
      "image/png": "[encoded data removed]",
      "text/plain": [
       "<Figure size 432x288 with 1 Axes>"
      ]
     },
     "metadata": {
      "needs_background": "light"
     },
     "output_type": "display_data"
    }
   ],
   "source": [
    "plt.scatter(lstm_values[0][0], lstm_values[0][1])"
   ]
  },
  {
   "cell_type": "code",
   "execution_count": 260,
   "metadata": {},
   "outputs": [
    {
     "data": {
      "text/plain": [
       "tensor([ 7, 16, 21, 19,  4, 14, 16, 20, 10, 19, 10, 17, 11, 11, 19,  4,  3, 10,\n",
       "         4,  7])"
      ]
     },
     "execution_count": 260,
     "metadata": {},
     "output_type": "execute_result"
    }
   ],
   "source": [
    "idx_seq = test_idxes[0, :20]\n",
    "idx_seq"
   ]
  },
  {
   "cell_type": "code",
   "execution_count": 261,
   "metadata": {},
   "outputs": [
    {
     "name": "stdout",
     "output_type": "stream",
     "text": [
      "['ingrown_nail', 'myopia', 'furosemide', 'ACL_tear', 'hay_fever', 'annual_physical', 'myopia', 'foot_pain', 'dental_exam', 'ACL_tear', 'dental_exam', 'eye_exam', 'peanut_allergy', 'peanut_allergy', 'ACL_tear', 'hay_fever', 'cut_finger', 'dental_exam', 'hay_fever', 'ingrown_nail']\n"
     ]
    }
   ],
   "source": [
    "events = [model.vocab.itos(x) for x in idx_seq.numpy()]\n",
    "print(events)"
   ]
  },
  {
   "cell_type": "code",
   "execution_count": 262,
   "metadata": {},
   "outputs": [
    {
     "data": {
      "text/plain": [
       "{'<pad>': 0,\n",
       " '<unk>': 1,\n",
       " 'cold_sore': 2,\n",
       " 'cut_finger': 3,\n",
       " 'hay_fever': 4,\n",
       " 'PH': 5,\n",
       " 'apnea': 6,\n",
       " 'ingrown_nail': 7,\n",
       " 'low_salt_diet': 8,\n",
       " 'headache': 9,\n",
       " 'dental_exam': 10,\n",
       " 'peanut_allergy': 11,\n",
       " 'ankle_sprain': 12,\n",
       " 'backache': 13,\n",
       " 'annual_physical': 14,\n",
       " 'quad_injury': 15,\n",
       " 'myopia': 16,\n",
       " 'eye_exam': 17,\n",
       " 'pneumonia': 18,\n",
       " 'ACL_tear': 19,\n",
       " 'foot_pain': 20,\n",
       " 'furosemide': 21,\n",
       " 'CHF': 22,\n",
       " 'tachycardia': 23,\n",
       " 'ARR': 24,\n",
       " 'high_creatinine': 25,\n",
       " 'resistent_hyp': 26,\n",
       " 'PCI': 27,\n",
       " 'normal_bmi': 28,\n",
       " 'cardiac_rehab': 29,\n",
       " 'ACE_inhibitors': 30,\n",
       " 'AMI': 31}"
      ]
     },
     "execution_count": 262,
     "metadata": {},
     "output_type": "execute_result"
    }
   ],
   "source": [
    "model.vocab._vocab"
   ]
  },
  {
   "cell_type": "code",
   "execution_count": 44,
   "metadata": {},
   "outputs": [
    {
     "data": {
      "text/plain": [
       "[0.11294358968734741,\n",
       " 0.0312277190387249,\n",
       " -0.024547478184103966,\n",
       " -0.0033740245271474123,\n",
       " -0.001518900040537119,\n",
       " -0.0035624345764517784,\n",
       " -0.00207443255931139,\n",
       " -0.00013361229503061622,\n",
       " 0.0003544994106050581,\n",
       " -0.002220567548647523,\n",
       " 0.00105949304997921,\n",
       " -7.015465962467715e-05,\n",
       " 0.00045359053183346987,\n",
       " 0.001753794145770371,\n",
       " -0.006946766283363104,\n",
       " -0.01690535619854927,\n",
       " 0.0,\n",
       " 0.0,\n",
       " 0.0,\n",
       " 0.0]"
      ]
     },
     "execution_count": 44,
     "metadata": {},
     "output_type": "execute_result"
    }
   ],
   "source": [
    "lstm_values[0][0]"
   ]
  },
  {
   "cell_type": "code",
   "execution_count": 45,
   "metadata": {},
   "outputs": [
    {
     "data": {
      "text/plain": [
       "20"
      ]
     },
     "execution_count": 45,
     "metadata": {},
     "output_type": "execute_result"
    }
   ],
   "source": [
    "len(lstm_values[0][0])"
   ]
  },
  {
   "cell_type": "code",
   "execution_count": 46,
   "metadata": {},
   "outputs": [
    {
     "data": {
      "text/plain": [
       "['ingrown_nail',\n",
       " 'cut_finger',\n",
       " 'annual_physical',\n",
       " 'ankle_sprain',\n",
       " 'ingrown_nail',\n",
       " 'dental_exam',\n",
       " 'dental_exam',\n",
       " 'cold_sore',\n",
       " 'cardiac_rehab',\n",
       " 'annual_physical',\n",
       " 'hay_fever',\n",
       " 'annual_physical',\n",
       " 'eye_exam',\n",
       " 'cold_sore',\n",
       " 'PCI',\n",
       " 'ACE_inhibitors',\n",
       " '<pad>',\n",
       " '<pad>',\n",
       " '<pad>',\n",
       " '<pad>']"
      ]
     },
     "execution_count": 46,
     "metadata": {},
     "output_type": "execute_result"
    }
   ],
   "source": [
    "events"
   ]
  },
  {
   "cell_type": "code",
   "execution_count": 47,
   "metadata": {},
   "outputs": [],
   "source": [
    "df = pd.DataFrame()\n",
    "df['events'] = events\n",
    "df['shap_vals'] = lstm_values[0][0]"
   ]
  },
  {
   "cell_type": "code",
   "execution_count": 311,
   "metadata": {},
   "outputs": [
    {
     "data": {
      "text/html": [
       "<div>\n",
       "<style scoped>\n",
       "    .dataframe tbody tr th:only-of-type {\n",
       "        vertical-align: middle;\n",
       "    }\n",
       "\n",
       "    .dataframe tbody tr th {\n",
       "        vertical-align: top;\n",
       "    }\n",
       "\n",
       "    .dataframe thead th {\n",
       "        text-align: right;\n",
       "    }\n",
       "</style>\n",
       "<table border=\"1\" class=\"dataframe\">\n",
       "  <thead>\n",
       "    <tr style=\"text-align: right;\">\n",
       "      <th></th>\n",
       "      <th>events</th>\n",
       "      <th>shap_vals</th>\n",
       "    </tr>\n",
       "  </thead>\n",
       "  <tbody>\n",
       "    <tr>\n",
       "      <th>0</th>\n",
       "      <td>hay_fever</td>\n",
       "      <td>0.363241</td>\n",
       "    </tr>\n",
       "    <tr>\n",
       "      <th>1</th>\n",
       "      <td>ACL_tear</td>\n",
       "      <td>0.003712</td>\n",
       "    </tr>\n",
       "    <tr>\n",
       "      <th>2</th>\n",
       "      <td>cut_finger</td>\n",
       "      <td>-0.058763</td>\n",
       "    </tr>\n",
       "    <tr>\n",
       "      <th>3</th>\n",
       "      <td>hay_fever</td>\n",
       "      <td>-0.018189</td>\n",
       "    </tr>\n",
       "    <tr>\n",
       "      <th>4</th>\n",
       "      <td>myopia</td>\n",
       "      <td>-0.000472</td>\n",
       "    </tr>\n",
       "    <tr>\n",
       "      <th>5</th>\n",
       "      <td>peanut_allergy</td>\n",
       "      <td>-0.006075</td>\n",
       "    </tr>\n",
       "    <tr>\n",
       "      <th>6</th>\n",
       "      <td>cut_finger</td>\n",
       "      <td>-0.011012</td>\n",
       "    </tr>\n",
       "    <tr>\n",
       "      <th>7</th>\n",
       "      <td>AMI</td>\n",
       "      <td>-0.006129</td>\n",
       "    </tr>\n",
       "    <tr>\n",
       "      <th>8</th>\n",
       "      <td>headache</td>\n",
       "      <td>-0.000996</td>\n",
       "    </tr>\n",
       "    <tr>\n",
       "      <th>9</th>\n",
       "      <td>quad_injury</td>\n",
       "      <td>0.000244</td>\n",
       "    </tr>\n",
       "    <tr>\n",
       "      <th>10</th>\n",
       "      <td>annual_physical</td>\n",
       "      <td>0.000435</td>\n",
       "    </tr>\n",
       "    <tr>\n",
       "      <th>11</th>\n",
       "      <td>foot_pain</td>\n",
       "      <td>-0.001025</td>\n",
       "    </tr>\n",
       "    <tr>\n",
       "      <th>12</th>\n",
       "      <td>annual_physical</td>\n",
       "      <td>0.000268</td>\n",
       "    </tr>\n",
       "    <tr>\n",
       "      <th>13</th>\n",
       "      <td>ACL_tear</td>\n",
       "      <td>0.000124</td>\n",
       "    </tr>\n",
       "    <tr>\n",
       "      <th>14</th>\n",
       "      <td>myopia</td>\n",
       "      <td>-0.000009</td>\n",
       "    </tr>\n",
       "    <tr>\n",
       "      <th>15</th>\n",
       "      <td>dental_exam</td>\n",
       "      <td>0.000087</td>\n",
       "    </tr>\n",
       "    <tr>\n",
       "      <th>16</th>\n",
       "      <td>dental_exam</td>\n",
       "      <td>0.000059</td>\n",
       "    </tr>\n",
       "    <tr>\n",
       "      <th>17</th>\n",
       "      <td>backache</td>\n",
       "      <td>-0.000198</td>\n",
       "    </tr>\n",
       "    <tr>\n",
       "      <th>18</th>\n",
       "      <td>&lt;pad&gt;</td>\n",
       "      <td>0.000000</td>\n",
       "    </tr>\n",
       "    <tr>\n",
       "      <th>19</th>\n",
       "      <td>&lt;pad&gt;</td>\n",
       "      <td>0.000000</td>\n",
       "    </tr>\n",
       "  </tbody>\n",
       "</table>\n",
       "</div>"
      ],
      "text/plain": [
       "             events  shap_vals\n",
       "0         hay_fever   0.363241\n",
       "1          ACL_tear   0.003712\n",
       "2        cut_finger  -0.058763\n",
       "3         hay_fever  -0.018189\n",
       "4            myopia  -0.000472\n",
       "5    peanut_allergy  -0.006075\n",
       "6        cut_finger  -0.011012\n",
       "7               AMI  -0.006129\n",
       "8          headache  -0.000996\n",
       "9       quad_injury   0.000244\n",
       "10  annual_physical   0.000435\n",
       "11        foot_pain  -0.001025\n",
       "12  annual_physical   0.000268\n",
       "13         ACL_tear   0.000124\n",
       "14           myopia  -0.000009\n",
       "15      dental_exam   0.000087\n",
       "16      dental_exam   0.000059\n",
       "17         backache  -0.000198\n",
       "18            <pad>   0.000000\n",
       "19            <pad>   0.000000"
      ]
     },
     "execution_count": 311,
     "metadata": {},
     "output_type": "execute_result"
    }
   ],
   "source": [
    "df"
   ]
  },
  {
   "cell_type": "code",
   "execution_count": 49,
   "metadata": {},
   "outputs": [],
   "source": [
    "import seaborn as sns"
   ]
  },
  {
   "cell_type": "code",
   "execution_count": 50,
   "metadata": {},
   "outputs": [
    {
     "data": {
      "image/png": "[encoded data removed]",
      "text/plain": [
       "<Figure size 1440x720 with 1 Axes>"
      ]
     },
     "metadata": {
      "needs_background": "light"
     },
     "output_type": "display_data"
    }
   ],
   "source": [
    "plt.figure(figsize=(20, 10))\n",
    "ax = sns.barplot(x=df.index, y=df.shap_vals, orient='v')\n",
    "z = ax.set_xticklabels(df.events, rotation=90)"
   ]
  },
  {
   "cell_type": "code",
   "execution_count": null,
   "metadata": {},
   "outputs": [],
   "source": []
  },
  {
   "cell_type": "code",
   "execution_count": null,
   "metadata": {},
   "outputs": [],
   "source": []
  },
  {
   "cell_type": "code",
   "execution_count": null,
   "metadata": {},
   "outputs": [],
   "source": []
  },
  {
   "cell_type": "markdown",
   "metadata": {},
   "source": [
    "Scratchpad"
   ]
  },
  {
   "cell_type": "code",
   "execution_count": 42,
   "metadata": {},
   "outputs": [],
   "source": [
    "from collections import defaultdict, OrderedDict, Counter"
   ]
  },
  {
   "cell_type": "code",
   "execution_count": 43,
   "metadata": {},
   "outputs": [],
   "source": [
    "def create_word_score_ds(features_l, scores_l, model_name, explainer, labels=None):\n",
    "    ds = []\n",
    "    for review_idx, review in enumerate(features_l):    \n",
    "        if labels != None: # if combination is lstm x shap\n",
    "            d = defaultdict(lambda:[])\n",
    "            actual_label = labels[review_idx]\n",
    "            if actual_label == 0:\n",
    "                tmp = scores_l[review_idx][0]\n",
    "            else:\n",
    "                tmp = scores_l[review_idx][1]\n",
    "            for token_idx, token in enumerate(review):\n",
    "                try:\n",
    "                    d[token].append(abs(tmp[token_idx])) # append and take average\n",
    "                except:\n",
    "                    print(len(tmp))\n",
    "            d = get_average_shap(d) # take average\n",
    "            ds.append(d)\n",
    "        else:\n",
    "            d = {}\n",
    "            tmp = scores_l[review_idx]\n",
    "            for token_idx, token in enumerate(review):\n",
    "                d[str(token)] = abs(tmp[str(token_idx)]) # take absolute numbers\n",
    "            ds.append(d)\n",
    "    return ds"
   ]
  },
  {
   "cell_type": "code",
   "execution_count": null,
   "metadata": {},
   "outputs": [],
   "source": []
  },
  {
   "cell_type": "code",
   "execution_count": 44,
   "metadata": {},
   "outputs": [
    {
     "name": "stdout",
     "output_type": "stream",
     "text": [
      "20\n",
      "20\n",
      "20\n",
      "20\n",
      "20\n",
      "20\n",
      "20\n",
      "20\n",
      "20\n",
      "20\n",
      "20\n",
      "20\n"
     ]
    },
    {
     "ename": "NameError",
     "evalue": "name 'get_average_shap' is not defined",
     "output_type": "error",
     "traceback": [
      "\u001b[0;31m---------------------------------------------------------------------------\u001b[0m",
      "\u001b[0;31mNameError\u001b[0m                                 Traceback (most recent call last)",
      "\u001b[0;32m<ipython-input-44-988b423c33b9>\u001b[0m in \u001b[0;36m<module>\u001b[0;34m\u001b[0m\n\u001b[0;32m----> 1\u001b[0;31m \u001b[0mds\u001b[0m \u001b[0;34m=\u001b[0m \u001b[0mcreate_word_score_ds\u001b[0m\u001b[0;34m(\u001b[0m\u001b[0mtest_data\u001b[0m\u001b[0;34m[\u001b[0m\u001b[0;36m0\u001b[0m\u001b[0;34m,\u001b[0m \u001b[0;34m:\u001b[0m\u001b[0;36m20\u001b[0m\u001b[0;34m]\u001b[0m\u001b[0;34m,\u001b[0m \u001b[0mlstm_values\u001b[0m\u001b[0;34m,\u001b[0m \u001b[0;34m'lstm-shap'\u001b[0m\u001b[0;34m,\u001b[0m \u001b[0mexplainer\u001b[0m\u001b[0;34m,\u001b[0m \u001b[0mlabels\u001b[0m\u001b[0;34m=\u001b[0m\u001b[0;34m[\u001b[0m\u001b[0;36m0\u001b[0m\u001b[0;34m]\u001b[0m\u001b[0;34m)\u001b[0m\u001b[0;34m\u001b[0m\u001b[0;34m\u001b[0m\u001b[0m\n\u001b[0m",
      "\u001b[0;32m<ipython-input-43-3ad1844c1d62>\u001b[0m in \u001b[0;36mcreate_word_score_ds\u001b[0;34m(features_l, scores_l, model_name, explainer, labels)\u001b[0m\n\u001b[1;32m     14\u001b[0m                 \u001b[0;32mexcept\u001b[0m\u001b[0;34m:\u001b[0m\u001b[0;34m\u001b[0m\u001b[0;34m\u001b[0m\u001b[0m\n\u001b[1;32m     15\u001b[0m                     \u001b[0mprint\u001b[0m\u001b[0;34m(\u001b[0m\u001b[0mlen\u001b[0m\u001b[0;34m(\u001b[0m\u001b[0mtmp\u001b[0m\u001b[0;34m)\u001b[0m\u001b[0;34m)\u001b[0m\u001b[0;34m\u001b[0m\u001b[0;34m\u001b[0m\u001b[0m\n\u001b[0;32m---> 16\u001b[0;31m             \u001b[0md\u001b[0m \u001b[0;34m=\u001b[0m \u001b[0mget_average_shap\u001b[0m\u001b[0;34m(\u001b[0m\u001b[0md\u001b[0m\u001b[0;34m)\u001b[0m \u001b[0;31m# take average\u001b[0m\u001b[0;34m\u001b[0m\u001b[0;34m\u001b[0m\u001b[0m\n\u001b[0m\u001b[1;32m     17\u001b[0m             \u001b[0mds\u001b[0m\u001b[0;34m.\u001b[0m\u001b[0mappend\u001b[0m\u001b[0;34m(\u001b[0m\u001b[0md\u001b[0m\u001b[0;34m)\u001b[0m\u001b[0;34m\u001b[0m\u001b[0;34m\u001b[0m\u001b[0m\n\u001b[1;32m     18\u001b[0m         \u001b[0;32melse\u001b[0m\u001b[0;34m:\u001b[0m\u001b[0;34m\u001b[0m\u001b[0;34m\u001b[0m\u001b[0m\n",
      "\u001b[0;31mNameError\u001b[0m: name 'get_average_shap' is not defined"
     ]
    }
   ],
   "source": [
    "ds = create_word_score_ds(test_data[0, :20], lstm_values, 'lstm-shap', explainer, labels=[0])"
   ]
  },
  {
   "cell_type": "code",
   "execution_count": null,
   "metadata": {},
   "outputs": [],
   "source": []
  },
  {
   "cell_type": "code",
   "execution_count": null,
   "metadata": {},
   "outputs": [],
   "source": []
  },
  {
   "cell_type": "code",
   "execution_count": null,
   "metadata": {},
   "outputs": [],
   "source": []
  },
  {
   "cell_type": "code",
   "execution_count": null,
   "metadata": {},
   "outputs": [],
   "source": [
    "test_labels[0]"
   ]
  },
  {
   "cell_type": "code",
   "execution_count": null,
   "metadata": {},
   "outputs": [],
   "source": []
  }
 ],
 "metadata": {
  "kernelspec": {
   "display_name": "conda_pytorch_p36",
   "language": "python",
   "name": "conda_pytorch_p36"
  },
  "language_info": {
   "codemirror_mode": {
    "name": "ipython",
    "version": 3
   },
   "file_extension": ".py",
   "mimetype": "text/x-python",
   "name": "python",
   "nbconvert_exporter": "python",
   "pygments_lexer": "ipython3",
   "version": "3.6.10"
  }
 },
 "nbformat": 4,
 "nbformat_minor": 4
}
