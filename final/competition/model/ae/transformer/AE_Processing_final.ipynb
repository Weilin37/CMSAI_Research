{
 "cells": [
  {
   "cell_type": "markdown",
   "metadata": {},
   "source": [
    "#  AE Modeling: Script 1"
   ]
  },
  {
   "cell_type": "code",
   "execution_count": 1,
   "metadata": {},
   "outputs": [],
   "source": [
    "import pandas as pd\n",
    "import numpy as np\n",
    "import os\n",
    "import json\n",
    "import pickle\n",
    "from sklearn.model_selection import train_test_split"
   ]
  },
  {
   "cell_type": "markdown",
   "metadata": {},
   "source": [
    "## Download data from s3 bucket"
   ]
  },
  {
   "cell_type": "code",
   "execution_count": 7,
   "metadata": {},
   "outputs": [
    {
     "name": "stdout",
     "output_type": "stream",
     "text": [
      "download: s3://cmsai-mrk-amzn/CSVModelInputs/miguel/365-wo-death/ae_patients_365_20110301.csv to data/ae_raw/ae_patients_365_20110301.csv\n",
      "download: s3://cmsai-mrk-amzn/CSVModelInputs/miguel/365-wo-death/ae_patients_365_20110201.csv to data/ae_raw/ae_patients_365_20110201.csv\n",
      "download: s3://cmsai-mrk-amzn/CSVModelInputs/miguel/365-wo-death/ae_patients_365_20110501.csv to data/ae_raw/ae_patients_365_20110501.csv\n",
      "download: s3://cmsai-mrk-amzn/CSVModelInputs/miguel/365-wo-death/ae_patients_365_20110101.csv to data/ae_raw/ae_patients_365_20110101.csv\n",
      "download: s3://cmsai-mrk-amzn/CSVModelInputs/miguel/365-wo-death/ae_patients_365_20110401.csv to data/ae_raw/ae_patients_365_20110401.csv\n",
      "download: s3://cmsai-mrk-amzn/CSVModelInputs/miguel/365-wo-death/ae_patients_365_20110601.csv to data/ae_raw/ae_patients_365_20110601.csv\n",
      "download: s3://cmsai-mrk-amzn/CSVModelInputs/miguel/365-wo-death/ae_patients_365_20110701.csv to data/ae_raw/ae_patients_365_20110701.csv\n",
      "download: s3://cmsai-mrk-amzn/CSVModelInputs/miguel/365-wo-death/ae_patients_365_20110801.csv to data/ae_raw/ae_patients_365_20110801.csv\n",
      "download: s3://cmsai-mrk-amzn/CSVModelInputs/miguel/365-wo-death/ae_patients_365_20111001.csv to data/ae_raw/ae_patients_365_20111001.csv\n",
      "download: s3://cmsai-mrk-amzn/CSVModelInputs/miguel/365-wo-death/ae_patients_365_20110901.csv to data/ae_raw/ae_patients_365_20110901.csv\n",
      "download: s3://cmsai-mrk-amzn/CSVModelInputs/miguel/365-wo-death/ae_patients_365_20111101.csv to data/ae_raw/ae_patients_365_20111101.csv\n"
     ]
    }
   ],
   "source": [
    "! aws s3 cp s3://cmsai-mrk-amzn/CSVModelInputs/miguel/365-wo-death/ data/ae_raw/ --exclude \"*\" --include \"ae_patients_365_2011*.csv\" --recursive  # these files are death-removed"
   ]
  },
  {
   "cell_type": "code",
   "execution_count": 10,
   "metadata": {},
   "outputs": [
    {
     "name": "stdout",
     "output_type": "stream",
     "text": [
      "download: s3://cmsai-mrk-amzn/CSVModelInputs/test_ae_patients_365_20111201.csv to data/ae_raw/ae_patients_365_20111201.csv\n"
     ]
    }
   ],
   "source": [
    "!aws s3 cp s3://cmsai-mrk-amzn/CSVModelInputs/test_ae_patients_365_20111201.csv data/ae_raw/ae_patients_365_20111201.csv"
   ]
  },
  {
   "cell_type": "code",
   "execution_count": 2,
   "metadata": {},
   "outputs": [],
   "source": [
    "# Define the columns \n",
    "x_lst = [str(x) for x in range(365,-1,-1)]\n",
    "y_lst = ['d_5990', 'd_78605', 'd_486', 'd_78650', 'd_78079', 'd_78900', 'd_78609', 'd_7862', 'd_1101',\n",
    "         'd_78701', 'd_5789', 'd_78791', 'd_6826', 'd_78659', 'd_78907',\n",
    "         'd_7840', 'd_28860', 'd_4660', 'd_6829', 'd_00845']"
   ]
  },
  {
   "cell_type": "markdown",
   "metadata": {},
   "source": [
    "## Build vocab of events"
   ]
  },
  {
   "cell_type": "code",
   "execution_count": 8,
   "metadata": {},
   "outputs": [],
   "source": [
    "import model_utils\n",
    "from collections import Counter\n",
    "import numbers\n",
    "import time\n",
    "import torch\n",
    "import numbers\n",
    "from collections import Counter\n",
    "import torch\n",
    "import torch.functional as F\n",
    "from torch.nn.utils.rnn import pad_sequence\n",
    "from torchtext.datasets import text_classification\n",
    "from torchtext.vocab import Vocab\n",
    "\n",
    "import metrics\n",
    "import numpy as np\n",
    "\n",
    "def build_vocab(df, feat_colnames, min_freq=1, specials=['<pad>', '<unk>'], specials_first=True):\n",
    "    '''\n",
    "    Create a vocabulary to be used with Script2. This maps all events to an index, including <pad> and <unk> and\n",
    "    nan, which represents padding of sentences, unknown events, and no events respectively\n",
    "    '''\n",
    "    def build_counter(df, feat_colnames):\n",
    "        counter = Counter()\n",
    "        words = df[feat_colnames].values.ravel('K')\n",
    "        print(\"start word number: \", words.shape)\n",
    "        new_words = []\n",
    "        for x in words:\n",
    "            x = str(x).replace('d_s', 'd_')\n",
    "            new_words.extend(x.split(', '))\n",
    "        print(\"exact word number: \" , len(new_words))\n",
    "        counter.update(new_words)\n",
    "        if not isinstance(min_freq, numbers.Number):\n",
    "            raise ValueError(f'Something wrong with {min_freq}')\n",
    "        return counter\n",
    "  \n",
    "    print(\"df shape: \", df.shape)\n",
    "    positive_df = df[(df[y_lst] != 0).any(1)]\n",
    "    print(\"postive shape: \", positive_df.shape)\n",
    "    pos_counter = build_counter(positive_df, feat_colnames)\n",
    "    print(\"nan number: \", pos_counter['nan'])\n",
    "\n",
    "    vocab = Vocab(pos_counter, min_freq=min_freq, specials=specials, specials_first=specials_first)\n",
    "\n",
    "    print('Completed vocabulary')\n",
    "    return vocab"
   ]
  },
  {
   "cell_type": "code",
   "execution_count": 3,
   "metadata": {},
   "outputs": [],
   "source": [
    "import model_utils\n",
    "from collections import Counter\n",
    "import numbers\n",
    "import time\n",
    "import torch\n",
    "import numbers\n",
    "from collections import Counter\n",
    "import torch\n",
    "import torch.functional as F\n",
    "from torch.nn.utils.rnn import pad_sequence\n",
    "from torchtext.datasets import text_classification\n",
    "from torchtext.vocab import Vocab\n",
    "\n",
    "import metrics\n",
    "import numpy as np\n",
    "\n",
    "counter = Counter()\n",
    "\n",
    "def build_list(df, feat_colnames):\n",
    "    words = df[feat_colnames].values.ravel('K')\n",
    "    print(\"start word number: \", words.shape)\n",
    "    new_words = []\n",
    "    for x in words:\n",
    "        x = str(x).replace('d_s', 'd_').replace(' ', '')\n",
    "        new_words.extend(x.split(','))\n",
    "    print(\"exact word number: \" , len(new_words))\n",
    "    return new_words\n",
    "    \n",
    "def build_vocab_mp(month):\n",
    "    if month < 10:\n",
    "        m = '0' + str(month)\n",
    "    else:\n",
    "        m = str(month)\n",
    "    FP = 'data/ae_raw/ae_patients_365_2011' + m + '01.csv'\n",
    "    ae_targets_365_df = pd.read_csv(FP)\n",
    "    positive_df = ae_targets_365_df[(ae_targets_365_df[y_lst] != 0).any(1)]\n",
    "    print(\"postive shape: \", positive_df.shape)\n",
    "    return build_list(positive_df, x_lst[-120:])\n",
    "\n",
    "# import multiprocessing\n",
    "# from multiprocessing import Pool\n",
    "# num_workers = multiprocessing.cpu_count()\n",
    "# with Pool(processes=num_workers) as pool:\n",
    "#     words = pool.map(build_vocab_mp, list(range(1, 13)))\n",
    "    \n",
    "# for word in words:\n",
    "#     counter.update(word)\n",
    "# print(len(counter))\n",
    "# vocab = Vocab(counter, min_freq=1, specials=['<pad>', '<unk>'], specials_first=True)\n"
   ]
  },
  {
   "cell_type": "code",
   "execution_count": 9,
   "metadata": {},
   "outputs": [],
   "source": [
    "torch.save(vocab, 'data/ae_pos_vocab_last120_whole_non3')"
   ]
  },
  {
   "cell_type": "code",
   "execution_count": 24,
   "metadata": {},
   "outputs": [
    {
     "name": "stderr",
     "output_type": "stream",
     "text": [
      "/home/ec2-user/anaconda3/envs/pytorch_p36/lib/python3.6/site-packages/IPython/core/interactiveshell.py:2785: DtypeWarning: Columns (2,3,5,6,7,8,9,10,11,13,14,15,17,19,20,21,22,23,24,25,26,27,29,30,31,32,33,34,35,36,37,38,40,41,42,43,45,46,47,48,49,50,51,52,53,54,55,56,57,58,59,60,61,62,63,64,65,66,67,68,69,70,71,72,73,74,75,76,77,78,79,80,81,82,83,84,85,86,87,88,89,90,91,92,93,94,95,96,97,98,99,100,101,102,103,104,105,107,108,109,110,111,112,113,115,116,117,118,119,120,121,122,123,124,125,126,127,128,129,131,132,133,135,136,137,138,139,140,142,143,144,145,146,147,148,149,150,151,152,153,154,155,156,157,158,159,160,161,162,164,165,167,168,169,171,172,173,174,175,176,177,178,179,180,181,182,183,184,185,186,187,188,189,190,192,193,194,195,196,198,200,201,202,203,204,205,206,207,208,209,210,211,212,214,216,217,218,219,220,223,224,225,226,227,228,230,231,232,233,237,238,241,242,243,244,245,246,247,248,249,251,252,253,254,256,257,258,259,260,262,264,265,266,267,268,269,271,272,273,275,276,278,279,280,281,282,283,285,286,287,289,290,291,292,293,294,295,296,297,298,299,300,301,302,303,305,306,307,308,309,310,311,312,313,314,315,317,318,319,320,321,322,323,324,325,326,327,328,329,330,332,333,334,335,336,338,339,340,341,342,343,344,345,347,348,349,350,351,352,353,354,355,356,357,358,359,360,361,362,363,364,365,366) have mixed types. Specify dtype option on import or set low_memory=False.\n",
      "  interactivity=interactivity, compiler=compiler, result=result)\n"
     ]
    },
    {
     "name": "stdout",
     "output_type": "stream",
     "text": [
      "month size:  768843225\n",
      "99879\n",
      "(1886796, 387)\n",
      "postive shape:  (198397, 387)\n",
      "start word number:  (17855730,)\n",
      "exact word number:  24615926\n"
     ]
    },
    {
     "name": "stderr",
     "output_type": "stream",
     "text": [
      "/home/ec2-user/anaconda3/envs/pytorch_p36/lib/python3.6/site-packages/IPython/core/interactiveshell.py:2785: DtypeWarning: Columns (1,3,5,6,7,8,9,11,12,13,14,15,16,17,19,20,21,24,25,26,27,28,30,32,33,34,35,36,38,39,40,41,42,43,44,45,46,47,48,49,50,51,53,54,55,56,57,59,60,61,62,63,64,66,68,69,70,71,72,73,74,75,76,77,78,79,80,81,82,83,84,86,87,88,89,90,91,92,95,96,97,98,100,101,102,103,104,105,106,107,108,110,111,112,113,116,117,118,119,120,122,123,125,126,127,128,129,130,131,132,133,134,138,139,140,141,142,143,144,145,146,147,148,149,150,152,153,154,155,157,158,159,160,161,162,163,164,165,166,167,168,169,170,171,172,173,174,175,176,177,178,179,180,181,182,183,184,186,187,188,189,190,191,192,193,194,196,200,202,203,204,207,208,209,210,213,214,216,218,220,222,223,224,226,227,230,231,236,237,238,239,240,241,242,243,244,246,247,248,249,250,251,252,253,254,255,256,257,258,259,261,263,264,265,266,269,270,271,272,273,274,275,276,277,279,280,281,282,283,284,285,286,287,288,289,290,291,292,293,294,295,296,297,298,299,300,301,302,303,304,305,306,307,308,309,311,313,314,315,316,317,318,319,320,321,322,323,326,328,329,330,331,332,333,334,335,336,337,339,341,342,343,344,346,347,348,349,350,351,352,353,354,355,356,357,359,361,362,363,364,365,366) have mixed types. Specify dtype option on import or set low_memory=False.\n",
      "  interactivity=interactivity, compiler=compiler, result=result)\n"
     ]
    },
    {
     "name": "stdout",
     "output_type": "stream",
     "text": [
      "month size:  763305255\n",
      "100453\n",
      "(1871912, 387)\n",
      "postive shape:  (197781, 387)\n",
      "start word number:  (17800290,)\n",
      "exact word number:  25243592\n"
     ]
    },
    {
     "name": "stderr",
     "output_type": "stream",
     "text": [
      "/home/ec2-user/anaconda3/envs/pytorch_p36/lib/python3.6/site-packages/IPython/core/interactiveshell.py:2785: DtypeWarning: Columns (3,4,6,8,10,11,14,16,18,20,21,23,24,25,27,28,29,31,32,33,35,39,41,42,44,45,46,47,49,51,52,53,58,59,60,61,62,64,65,66,67,68,70,71,73,74,75,77,79,80,81,85,86,87,88,89,91,92,93,94,95,96,97,98,101,102,103,105,106,108,109,111,112,113,114,115,116,119,120,121,122,123,124,126,127,128,129,130,131,134,135,136,137,138,139,140,141,143,144,145,146,150,151,152,155,158,159,164,165,167,170,171,172,173,175,178,179,183,186,193,195,200,206,207,208,212,213,214,220,221,224,225,227,228,231,232,233,234,235,237,238,239,240,241,242,243,244,245,246,247,248,249,251,252,254,255,256,260,261,262,263,266,267,268,269,270,272,273,275,276,277,278,280,282,283,284,285,286,287,289,290,291,293,295,296,297,298,299,300,301,303,304,305,306,307,308,310,311,312,313,314,315,316,317,318,319,320,321,322,324,325,326,327,328,329,331,332,333,339,340,341,342,343,344,345,346,347,350,352,353,354,355,357,358,360,361,362,363,365,366) have mixed types. Specify dtype option on import or set low_memory=False.\n",
      "  interactivity=interactivity, compiler=compiler, result=result)\n"
     ]
    },
    {
     "name": "stdout",
     "output_type": "stream",
     "text": [
      "month size:  757044756\n",
      "100937\n",
      "(1855251, 387)\n",
      "postive shape:  (182998, 387)\n",
      "start word number:  (16469820,)\n",
      "exact word number:  24377172\n"
     ]
    },
    {
     "name": "stderr",
     "output_type": "stream",
     "text": [
      "/home/ec2-user/anaconda3/envs/pytorch_p36/lib/python3.6/site-packages/IPython/core/interactiveshell.py:2785: DtypeWarning: Columns (1,2,3,5,6,7,8,9,10,11,12,13,15,16,17,18,19,20,21,22,23,24,25,26,27,28,29,30,31,32,33,34,35,36,37,39,40,41,42,43,44,45,46,47,48,49,50,51,52,53,54,55,56,57,58,59,60,61,62,64,65,66,67,68,69,70,71,72,73,74,75,76,77,78,79,80,82,83,84,85,86,87,88,89,91,92,93,94,96,97,98,99,100,101,102,103,104,105,106,107,108,109,111,113,114,115,117,118,119,120,121,123,124,126,127,128,129,130,131,132,133,134,135,136,137,139,140,141,142,145,147,148,149,150,151,152,153,155,156,157,158,159,160,161,162,163,164,165,166,169,170,171,172,175,176,177,178,179,180,182,183,184,185,186,187,188,189,190,191,192,193,194,195,196,197,198,200,201,202,203,205,206,207,208,209,210,211,212,214,215,216,218,219,220,221,222,223,224,225,226,227,228,229,230,231,232,233,235,236,238,239,240,241,242,243,244,245,246,247,249,250,251,252,253,254,255,256,257,258,259,260,261,262,263,264,265,266,267,268,269,270,271,272,273,274,275,276,277,278,279,280,281,282,283,284,285,286,287,288,289,290,291,292,293,295,296,297,298,300,301,302,303,304,305,306,307,308,309,310,312,313,314,315,316,317,318,319,320,321,322,323,324,325,326,327,328,329,330,331,332,333,334,335,336,337,338,341,342,343,344,345,346,347,348,349,350,351,352,353,354,355,356,357,358,359,360,362,364,365,366) have mixed types. Specify dtype option on import or set low_memory=False.\n",
      "  interactivity=interactivity, compiler=compiler, result=result)\n"
     ]
    },
    {
     "name": "stdout",
     "output_type": "stream",
     "text": [
      "month size:  751393395\n",
      "101093\n",
      "(1840492, 387)\n",
      "postive shape:  (189135, 387)\n",
      "start word number:  (17022150,)\n",
      "exact word number:  25032906\n"
     ]
    },
    {
     "name": "stderr",
     "output_type": "stream",
     "text": [
      "/home/ec2-user/anaconda3/envs/pytorch_p36/lib/python3.6/site-packages/IPython/core/interactiveshell.py:2785: DtypeWarning: Columns (5,6,13,20,25,26,27,33,34,35,40,41,44,47,48,52,54,55,61,62,66,68,69,71,75,76,82,83,89,90,96,97,98,103,104,118,131,132,139,145,146,152,153,159,160,166,167,173,174,176,178,179,180,181,183,188,194,195,201,202,207,208,209,210,214,215,216,221,222,223,229,230,235,236,237,240,243,244,250,251,257,258,261,264,265,266,271,272,278,279,285,286,292,293,296,299,300,305,306,307,310,312,313,314,317,320,321,323,326,327,328,333,335,337,340,341,342,347,348,349,350,353,355,356,360,362,363,364) have mixed types. Specify dtype option on import or set low_memory=False.\n",
      "  interactivity=interactivity, compiler=compiler, result=result)\n"
     ]
    },
    {
     "name": "stdout",
     "output_type": "stream",
     "text": [
      "month size:  745668504\n",
      "101137\n",
      "(1825655, 387)\n",
      "postive shape:  (189194, 387)\n",
      "start word number:  (17027460,)\n",
      "exact word number:  25033896\n"
     ]
    },
    {
     "name": "stderr",
     "output_type": "stream",
     "text": [
      "/home/ec2-user/anaconda3/envs/pytorch_p36/lib/python3.6/site-packages/IPython/core/interactiveshell.py:2785: DtypeWarning: Columns (3,4,10,11,17,18,24,25,26,27,30,31,32,37,38,39,41,45,46,52,53,58,59,60,66,67,68,74,80,81,88,94,95,99,101,102,108,109,116,122,123,129,130,134,136,137,141,143,144,147,148,149,150,151,156,157,158,162,164,165,166,171,172,174,177,178,179,180,181,183,184,185,186,191,192,193,194,195,196,198,199,200,201,206,207,208,210,213,214,217,219,220,221,226,227,228,234,235,237,239,241,242,243,245,246,248,249,250,255,256,259,261,262,263,264,266,267,268,269,270,271,272,273,274,275,276,277,279,280,282,283,284,285,290,291,294,295,296,297,298,299,301,304,305,307,309,310,311,312,315,318,319,320,323,325,326,328,329,332,333,334,337,339,340,345,346,347,351,353,354,356,360,361,362,364,365,366) have mixed types. Specify dtype option on import or set low_memory=False.\n",
      "  interactivity=interactivity, compiler=compiler, result=result)\n"
     ]
    },
    {
     "name": "stdout",
     "output_type": "stream",
     "text": [
      "month size:  739816290\n",
      "101403\n",
      "(1810267, 387)\n",
      "postive shape:  (170463, 387)\n",
      "start word number:  (15341670,)\n",
      "exact word number:  22818562\n"
     ]
    },
    {
     "name": "stderr",
     "output_type": "stream",
     "text": [
      "/home/ec2-user/anaconda3/envs/pytorch_p36/lib/python3.6/site-packages/IPython/core/interactiveshell.py:2785: DtypeWarning: Columns (7,8,15,21,22,28,29,35,36,43,57,64,77,78,85,91,92,98,99,103,105,106,112,113,117,118,119,120,126,127,133,140,141,146,147,148,149,153,154,155,161,162,168,169,172,175,176,182,183,185,189,190,195,196,197,203,204,206,210,211,217,218,224,225,231,232,237,238,239,245,246,252,253,259,260,266,267,273,274,279,280,281,286,287,288,294,295,296,300,301,302,308,309,312,315,316,322,323,324,328,329,330,336,337,338,340,343,344,349,350,351,357,358,364,365) have mixed types. Specify dtype option on import or set low_memory=False.\n",
      "  interactivity=interactivity, compiler=compiler, result=result)\n"
     ]
    },
    {
     "name": "stdout",
     "output_type": "stream",
     "text": [
      "month size:  733887450\n",
      "101353\n",
      "(1794997, 387)\n",
      "postive shape:  (183100, 387)\n",
      "start word number:  (16479000,)\n",
      "exact word number:  24249841\n"
     ]
    },
    {
     "name": "stderr",
     "output_type": "stream",
     "text": [
      "/home/ec2-user/anaconda3/envs/pytorch_p36/lib/python3.6/site-packages/IPython/core/interactiveshell.py:2785: DtypeWarning: Columns (5,12,26,47,54,60,61,74,81,82,86,87,88,89,96,103,110,115,116,117,122,123,124,130,131,137,138,144,145,151,152,158,159,165,166,173,179,180,185,187,193,194,199,200,201,207,208,214,215,221,222,228,229,235,236,242,243,249,250,255,256,257,263,264,270,271,272,273,277,278,284,285,289,291,292,298,299,306,307,308,310,312,313,319,320,325,326,327,328,332,333,334,340,341,347,348,354,355,361,362) have mixed types. Specify dtype option on import or set low_memory=False.\n",
      "  interactivity=interactivity, compiler=compiler, result=result)\n"
     ]
    },
    {
     "name": "stdout",
     "output_type": "stream",
     "text": [
      "month size:  727565418\n",
      "101340\n",
      "(1778674, 387)\n",
      "postive shape:  (180554, 387)\n",
      "start word number:  (16249860,)\n",
      "exact word number:  23898030\n"
     ]
    },
    {
     "name": "stderr",
     "output_type": "stream",
     "text": [
      "/home/ec2-user/anaconda3/envs/pytorch_p36/lib/python3.6/site-packages/IPython/core/interactiveshell.py:2785: DtypeWarning: Columns (10,23,24,37,42,45,51,52,56,58,59,65,66,69,72,73,79,80,85,86,87,92,93,94,98,101,107,108,114,115,122,125,128,129,135,136,137,142,143,149,150,153,155,156,157,161,164,170,171,176,177,178,184,185,191,192,198,199,201,205,206,211,212,213,217,219,220,225,226,227,233,234,239,240,241,242,247,248,252,254,255,259,260,261,262,265,267,268,269,275,276,277,283,289,290,293,296,297,303,304,307,309,310,311,317,318,324,325,331,332,338,339,340,346,353,360) have mixed types. Specify dtype option on import or set low_memory=False.\n",
      "  interactivity=interactivity, compiler=compiler, result=result)\n"
     ]
    },
    {
     "name": "stdout",
     "output_type": "stream",
     "text": [
      "month size:  718489881\n",
      "101556\n",
      "(1755007, 387)\n",
      "postive shape:  (185024, 387)\n",
      "start word number:  (16652160,)\n",
      "exact word number:  24476747\n"
     ]
    },
    {
     "name": "stderr",
     "output_type": "stream",
     "text": [
      "/home/ec2-user/anaconda3/envs/pytorch_p36/lib/python3.6/site-packages/IPython/core/interactiveshell.py:2785: DtypeWarning: Columns (7,14,20,25,27,28,35,42,48,49,54,55,56,62,63,69,70,76,77,84,90,91,94,97,98,102,103,104,105,107,110,111,112,117,118,119,120,124,125,126,132,133,139,140,145,146,147,150,151,153,154,157,160,161,167,168,170,174,175,180,181,182,184,188,189,195,196,202,203,207,209,210,211,216,217,220,223,224,228,229,230,231,234,237,238,239,244,245,246,251,252,258,259,263,265,266,273,277,279,280,286,287,293,294,300,301,308,309,315,321,322,329,336,350,356,357,364,365) have mixed types. Specify dtype option on import or set low_memory=False.\n",
      "  interactivity=interactivity, compiler=compiler, result=result)\n"
     ]
    },
    {
     "name": "stdout",
     "output_type": "stream",
     "text": [
      "month size:  708178266\n",
      "101445\n",
      "(1728473, 387)\n",
      "postive shape:  (183489, 387)\n",
      "start word number:  (16514010,)\n",
      "exact word number:  24382711\n"
     ]
    }
   ],
   "source": [
    "# read 11 months data and generate vocab\n",
    "for i in range(2, 12):\n",
    "    if i < 10:\n",
    "        m = '0' + str(i)\n",
    "    else:\n",
    "        m = str(i)\n",
    "    FP = 'data/ae_raw/ae_patients_365_2011' + m + '01.csv'\n",
    "    ae_targets_365_df = pd.read_csv(FP)\n",
    "    positive_df = ae_targets_365_df[(ae_targets_365_df[y_lst] != 0).any(1)]\n",
    "    print(\"postive shape: \", positive_df.shape)\n",
    "    counter.update(build_list(positive_df, x_lst[-90:]))    \n",
    "vocab = Vocab(counter, min_freq=1, specials=['<pad>', '<unk>'], specials_first=True)\n",
    "torch.save(vocab, 'data/ae_pos_vocab_last90_whole_non3')"
   ]
  },
  {
   "cell_type": "code",
   "execution_count": 26,
   "metadata": {},
   "outputs": [
    {
     "name": "stdout",
     "output_type": "stream",
     "text": [
      "28362\n"
     ]
    }
   ],
   "source": [
    "print(len(vocab))"
   ]
  },
  {
   "cell_type": "markdown",
   "metadata": {},
   "source": [
    "## Build dataset and save for script 2"
   ]
  },
  {
   "cell_type": "code",
   "execution_count": 3,
   "metadata": {},
   "outputs": [],
   "source": [
    "# Define the columns \n",
    "x_lst = [str(x) for x in range(365,-1,-1)]\n",
    "y_lst = ['d_5990', 'd_78605', 'd_486', 'd_78650', 'd_78079', 'd_78900', 'd_78609', 'd_7862', 'd_1101',\n",
    "         'd_78701', 'd_5789', 'd_78791', 'd_6826', 'd_78659', 'd_78907',\n",
    "         'd_7840', 'd_28860', 'd_4660', 'd_6829', 'd_00845']"
   ]
  },
  {
   "cell_type": "code",
   "execution_count": 4,
   "metadata": {},
   "outputs": [],
   "source": [
    "import time\n",
    "import random\n",
    "def build_dataset(df, vocab, feat_colnames, label_colnames, day_length=90, max_length=30, max_sentence_length=500):\n",
    "    '''\n",
    "    Subsets the entire dataset into a dataset to be used later.\n",
    "    - Specific vocabulary\n",
    "    - By number of days (whole dataset is 365)\n",
    "    \n",
    "    Returns a list of data and attributes needed by Script 2: patientid_dischargeid key, sequence of events, targets, and \n",
    "    mask (identifying padded regions)\n",
    "    '''\n",
    "    start_time = time.time()\n",
    "    print(\"used days: \", feat_colnames[-day_length], feat_colnames[-1])\n",
    "    \n",
    "    data = df[feat_colnames[-day_length:]].to_numpy()\n",
    "    labels = df[label_colnames].to_numpy()\n",
    "    \n",
    "    count = 0\n",
    "    sequence = []\n",
    "    valid_id = []\n",
    "    pad_mask = []\n",
    "\n",
    "    print(\"total size before: \", data.shape)\n",
    "    for i in range(len(data)):\n",
    "        sentence = []\n",
    "        mask = []\n",
    "        pos = []\n",
    "        for j in range(len(data[i])-1, -1, -1):\n",
    "            words = str(data[i][j])\n",
    "            if words == 'nan':\n",
    "                continue\n",
    "            words = words.replace('d_s', 'd_').replace(' ', '').split(', ')\n",
    "            words = sorted([vocab.stoi[w] if w in vocab.stoi else vocab.stoi['<unk>'] for w in words])\n",
    "            \n",
    "            if len(words) > max_length:\n",
    "                words = words[:max_length]\n",
    "        \n",
    "            \n",
    "            sentence = words + sentence\n",
    "\n",
    "            if len(sentence) > max_sentence_length:\n",
    "                sentence = sentence[-max_sentence_length:]\n",
    "                break\n",
    "                \n",
    "        if len(sentence) == 0:\n",
    "            if labels[i].any():\n",
    "                count += 1\n",
    "            continue\n",
    "            \n",
    "        valid_id.append(i)\n",
    "        pad_l = (max_sentence_length - len(sentence))\n",
    "        mask = [1] * len(sentence) + [0] * pad_l\n",
    "        sentence = sentence + [vocab.stoi['<pad>']] * pad_l\n",
    "        sequence.append(sentence)\n",
    "        pad_mask.append(mask)\n",
    "        \n",
    "    finish_time = time.time()\n",
    "    \n",
    "    print('New dataset created')\n",
    "    print(\"sequence length: \", len(sequence))\n",
    "    print(\"empty events with nonzero labels: \", count)\n",
    "    \n",
    "    labels = labels[valid_id]\n",
    "    patient_ids = df['patient_id'].to_numpy()[valid_id]\n",
    "    pad_mask = np.array(pad_mask)\n",
    "    sequence = np.array(sequence)\n",
    "    print(\"time: \", finish_time - start_time)\n",
    "    \n",
    "    return [patient_ids, sequence, labels, pad_mask]\n",
    "\n"
   ]
  },
  {
   "cell_type": "code",
   "execution_count": 5,
   "metadata": {},
   "outputs": [],
   "source": [
    "vocab = torch.load('data/ae_pos_vocab_last120_whole_non3')"
   ]
  },
  {
   "cell_type": "code",
   "execution_count": 11,
   "metadata": {},
   "outputs": [
    {
     "name": "stderr",
     "output_type": "stream",
     "text": [
      "/home/ec2-user/anaconda3/envs/pytorch_p36/lib/python3.6/multiprocessing/process.py:93: DtypeWarning: Columns (32,33,39,40,46,47,53,54,58,60,61,63,64,67,68,74,75,80,81,82,88,89,95,96,102,103,108,109,110,114,116,117,123,124,127,128,130,131,137,138,143,144,145,150,151,152,157,158,159,165,166,171,172,173,179,180,181,186,187,193,194,199,200,201,204,207,208,209,214,215,216,218,221,222,228,229,235,236,242,243,245,249,250,256,257,259,263,264,268,269,270,271,277,278,279,284,285,291,292,294,298,299,305,306,313,319,320,327,333,334,340,341,347,348,354,355,358,359,360,361,362) have mixed types.Specify dtype option on import or set low_memory=False.\n",
      "  self._target(*self._args, **self._kwargs)\n"
     ]
    },
    {
     "name": "stdout",
     "output_type": "stream",
     "text": [
      "month size:  12 749593458\n",
      "used days:  119 0\n",
      "total size before:  (1936934, 120)\n",
      "New dataset created\n",
      "sequence length:  1516165\n",
      "empty events with nonzero labels:  5818\n",
      "time:  225.47493076324463\n"
     ]
    }
   ],
   "source": [
    "import multiprocessing\n",
    "from multiprocessing import Pool\n",
    "num_workers = multiprocessing.cpu_count()\n",
    "\n",
    "def generate_procdata(m):\n",
    "    if m < 10:\n",
    "        m = '0' + str(m)\n",
    "    else:\n",
    "        m = str(m)\n",
    "    FP = 'data/ae_raw/ae_patients_365_2011' + m + '01.csv'\n",
    "    ae_targets_365_df = pd.read_csv(FP)\n",
    "    print(\"month size: \", str(m), ae_targets_365_df.size)\n",
    "    \n",
    "    whole_dataset = None\n",
    "    whole_dataset = build_dataset(ae_targets_365_df, vocab, x_lst, y_lst, day_length=120, max_length=30, max_sentence_length=500)\n",
    "    pickle.dump(whole_dataset, open(\"data/ae_process/np_ae_last120_vocab120_non3digit_month\"  + m + \".pkl\", 'wb'), protocol=4)  \n",
    "    \n",
    "with Pool(processes=num_workers) as pool:\n",
    "    pool.map(generate_procdata, [12])"
   ]
  },
  {
   "cell_type": "code",
   "execution_count": null,
   "metadata": {},
   "outputs": [],
   "source": [
    "print(type(words))"
   ]
  },
  {
   "cell_type": "code",
   "execution_count": 10,
   "metadata": {},
   "outputs": [
    {
     "name": "stderr",
     "output_type": "stream",
     "text": [
      "/home/ec2-user/anaconda3/envs/pytorch_p36/lib/python3.6/site-packages/IPython/core/interactiveshell.py:2785: DtypeWarning: Columns (3,5,6,7,13,14,15,17,20,21,22,26,27,28,30,31,34,35,37,40,41,42,43,45,46,47,48,49,53,54,55,56,61,62,63,68,69,70,73,74,75,76,77,79,81,82,83,84,87,89,90,91,96,97,98,99,103,104,105,108,110,111,112,115,116,117,118,119,120,121,124,125,126,128,129,132,133,135,136,137,138,139,140,143,145,146,147,148,149,151,152,153,154,155,156,157,159,160,161,162,165,166,167,168,171,172,174,175,176,177,178,180,181,182,184,185,186,187,188,189,190,191,192,194,195,196,200,201,202,203,204,205,207,208,209,210,216,217,218,223,224,230,231,237,238,244,245,246,252,259,266,267,273,275,279,280,282,283,285,286,287,290,291,293,294,296,297,298,299,300,301,306,307,308,310,311,313,314,315,318,320,321,322,324,325,327,328,329,330,331,332,333,334,335,336,342,343,345,346,347,348,349,350,351,352,354,355,356,357,358,359,360,361,363,364,365,366) have mixed types. Specify dtype option on import or set low_memory=False.\n",
      "  interactivity=interactivity, compiler=compiler, result=result)\n"
     ]
    },
    {
     "name": "stdout",
     "output_type": "stream",
     "text": [
      "month size:  2 730190052\n",
      "used days:  119 0\n",
      "total size before:  (1886796, 120)\n",
      "New dataset created\n",
      "sequence length:  1478943\n",
      "empty events with nonzero labels:  8265\n",
      "time:  839.4235293865204\n"
     ]
    },
    {
     "name": "stderr",
     "output_type": "stream",
     "text": [
      "/home/ec2-user/anaconda3/envs/pytorch_p36/lib/python3.6/site-packages/IPython/core/interactiveshell.py:2785: DtypeWarning: Columns (1,2,3,4,5,6,7,8,9,11,12,13,14,15,16,17,18,19,20,21,22,23,24,25,26,27,28,30,31,32,33,34,35,36,38,39,40,41,42,43,44,45,46,47,48,49,50,51,52,53,54,55,56,57,59,60,61,62,63,64,65,66,67,68,69,70,71,72,73,74,75,76,77,78,79,80,81,82,83,84,86,87,88,89,90,91,92,94,95,97,98,100,101,102,103,104,105,106,107,108,109,110,111,112,113,115,116,117,118,119,120,121,122,123,124,125,126,127,128,129,130,131,132,133,134,135,136,138,139,140,141,142,143,144,145,146,147,148,149,150,151,152,153,154,155,156,157,158,159,160,161,162,163,164,165,166,167,168,169,170,171,172,173,174,175,176,177,178,179,180,181,182,183,184,185,186,187,188,189,190,191,192,193,194,195,196,197,198,199,200,201,202,203,204,206,207,208,209,210,211,212,213,214,215,216,217,218,220,221,222,223,224,225,226,227,228,229,230,231,232,235,236,237,238,239,240,241,242,243,244,245,246,247,248,249,250,251,252,253,254,255,256,257,258,259,260,261,262,263,264,265,266,267,269,270,271,272,273,274,275,276,277,278,279,280,281,282,283,284,285,286,287,288,289,290,291,292,293,294,295,296,297,298,299,300,301,302,303,304,305,306,307,308,309,310,311,312,313,314,315,316,317,318,319,320,321,322,323,324,326,327,328,329,330,331,332,333,334,335,336,337,339,340,341,342,343,344,345,346,347,348,349,350,351,352,353,354,355,356,357,359,360,361,362,363,364,365,366) have mixed types. Specify dtype option on import or set low_memory=False.\n",
      "  interactivity=interactivity, compiler=compiler, result=result)\n"
     ]
    },
    {
     "name": "stdout",
     "output_type": "stream",
     "text": [
      "month size:  3 724429944\n",
      "used days:  119 0\n",
      "total size before:  (1871912, 120)\n",
      "New dataset created\n",
      "sequence length:  1454134\n",
      "empty events with nonzero labels:  8709\n",
      "time:  874.7379584312439\n"
     ]
    },
    {
     "name": "stderr",
     "output_type": "stream",
     "text": [
      "/home/ec2-user/anaconda3/envs/pytorch_p36/lib/python3.6/site-packages/IPython/core/interactiveshell.py:2785: DtypeWarning: Columns (3,4,10,11,18,24,25,31,32,38,39,44,45,46,51,52,53,58,59,60,61,65,66,67,68,73,74,80,81,87,88,92,94,95,96,101,102,108,109,111,115,116,121,122,123,129,130,131,135,136,137,142,143,144,145,150,151,157,158,159,164,165,171,172,179,185,186,200,207,213,214,219,220,221,227,228,231,234,235,239,240,241,242,246,248,249,255,256,260,261,262,263,267,268,269,270,275,276,277,278,283,284,286,287,289,290,291,296,297,298,304,305,307,308,311,312,315,316,318,319,321,324,325,326,330,331,332,333,337,339,340,341,344,345,346,347,352,353,354,355,360,361,366) have mixed types. Specify dtype option on import or set low_memory=False.\n",
      "  interactivity=interactivity, compiler=compiler, result=result)\n"
     ]
    },
    {
     "name": "stdout",
     "output_type": "stream",
     "text": [
      "month size:  4 717982137\n",
      "used days:  119 0\n",
      "total size before:  (1855251, 120)\n",
      "New dataset created\n",
      "sequence length:  1449697\n",
      "empty events with nonzero labels:  7870\n",
      "time:  856.9447572231293\n"
     ]
    },
    {
     "name": "stderr",
     "output_type": "stream",
     "text": [
      "/home/ec2-user/anaconda3/envs/pytorch_p36/lib/python3.6/site-packages/IPython/core/interactiveshell.py:2785: DtypeWarning: Columns (1,2,7,8,9,14,15,16,22,23,29,30,31,36,37,43,44,48,49,50,51,57,58,60,64,65,66,70,71,72,78,79,82,83,84,85,86,89,92,93,94,98,99,100,105,106,107,113,114,119,120,121,128,129,134,135,141,142,149,156,163,170,177,183,189,190,191,195,197,198,204,205,209,210,211,212,218,219,223,225,226,228,232,233,238,239,240,245,246,247,250,252,253,254,257,259,260,261,266,267,268,269,272,274,275,276,278,279,281,282,284,285,286,288,289,292,295,296,302,303,306,309,310,316,317,318,323,324,330,331,336,337,338,344,345,347,351,352,353,355,358,359,365,366) have mixed types. Specify dtype option on import or set low_memory=False.\n",
      "  interactivity=interactivity, compiler=compiler, result=result)\n"
     ]
    },
    {
     "name": "stdout",
     "output_type": "stream",
     "text": [
      "month size:  5 712270404\n",
      "used days:  119 0\n",
      "total size before:  (1840492, 120)\n",
      "New dataset created\n",
      "sequence length:  1452099\n",
      "empty events with nonzero labels:  8119\n",
      "time:  321.42476511001587\n"
     ]
    },
    {
     "name": "stderr",
     "output_type": "stream",
     "text": [
      "/home/ec2-user/anaconda3/envs/pytorch_p36/lib/python3.6/site-packages/IPython/core/interactiveshell.py:2785: DtypeWarning: Columns (6,13,17,19,20,26,27,31,33,34,35,38,40,41,44,45,47,48,50,52,54,55,61,62,66,68,69,71,74,75,76,82,83,88,89,90,96,97,98,103,104,111,125,131,132,138,139,146,152,153,156,159,160,163,166,167,168,169,172,173,174,175,178,179,180,181,182,183,188,191,192,194,195,199,201,202,206,207,208,209,210,211,214,215,216,217,219,220,221,222,223,229,230,231,233,235,236,237,240,241,243,244,246,247,249,250,251,254,255,257,258,263,264,265,266,268,270,271,272,274,278,279,280,281,283,284,285,286,292,293,297,299,300,303,305,306,307,310,311,313,314,317,320,321,326,327,328,329,333,335,336,337,341,342,343,347,348,349,353,354,355,356,360,362,363,364) have mixed types. Specify dtype option on import or set low_memory=False.\n",
      "  interactivity=interactivity, compiler=compiler, result=result)\n"
     ]
    },
    {
     "name": "stdout",
     "output_type": "stream",
     "text": [
      "month size:  6 706528485\n",
      "used days:  119 0\n",
      "total size before:  (1825655, 120)\n",
      "New dataset created\n",
      "sequence length:  1458385\n",
      "empty events with nonzero labels:  7842\n",
      "time:  323.964391708374\n"
     ]
    },
    {
     "name": "stderr",
     "output_type": "stream",
     "text": [
      "/home/ec2-user/anaconda3/envs/pytorch_p36/lib/python3.6/site-packages/IPython/core/interactiveshell.py:2785: DtypeWarning: Columns (3,4,10,11,16,17,18,24,25,31,32,36,38,39,45,46,52,53,58,59,60,66,67,68,73,80,81,87,88,95,101,102,108,109,116,122,123,130,133,136,137,142,143,144,147,148,149,150,151,157,158,163,164,165,170,171,172,174,177,178,179,180,182,184,185,186,192,193,199,200,201,202,203,206,207,208,213,214,217,220,221,224,227,228,231,234,235,237,241,242,244,245,248,249,255,256,262,263,264,266,267,269,270,271,273,275,276,277,278,283,284,290,291,292,296,297,298,299,304,305,310,311,312,318,319,324,325,326,332,333,334,339,340,345,346,347,349,352,353,354,356,357,359,360,361,364,366) have mixed types. Specify dtype option on import or set low_memory=False.\n",
      "  interactivity=interactivity, compiler=compiler, result=result)\n"
     ]
    },
    {
     "name": "stdout",
     "output_type": "stream",
     "text": [
      "month size:  7 700573329\n",
      "used days:  119 0\n",
      "total size before:  (1810267, 120)\n",
      "New dataset created\n",
      "sequence length:  1462686\n",
      "empty events with nonzero labels:  6913\n",
      "time:  287.2219879627228\n"
     ]
    },
    {
     "name": "stderr",
     "output_type": "stream",
     "text": [
      "/home/ec2-user/anaconda3/envs/pytorch_p36/lib/python3.6/site-packages/IPython/core/interactiveshell.py:2785: DtypeWarning: Columns (1,7,8,14,15,21,22,28,29,30,31,35,36,37,43,49,50,56,57,64,78,85,92,98,99,100,105,106,112,113,117,118,119,120,126,127,133,134,140,141,145,146,147,148,149,153,154,155,161,162,168,169,175,176,178,180,181,182,183,185,189,190,191,193,194,196,197,202,203,204,206,210,211,216,217,218,223,224,225,231,232,234,237,238,239,245,246,247,248,252,253,258,259,260,266,267,269,272,273,274,275,280,281,286,287,288,294,295,300,301,302,303,307,308,309,315,316,317,321,322,323,324,328,329,330,333,335,337,338,340,343,344,350,351,352,355,356,357,358,361,363,364,365) have mixed types. Specify dtype option on import or set low_memory=False.\n",
      "  interactivity=interactivity, compiler=compiler, result=result)\n"
     ]
    },
    {
     "name": "stdout",
     "output_type": "stream",
     "text": [
      "month size:  8 694663839\n",
      "used days:  119 0\n",
      "total size before:  (1794997, 120)\n",
      "New dataset created\n",
      "sequence length:  1461779\n",
      "empty events with nonzero labels:  7383\n",
      "time:  275.817809343338\n"
     ]
    },
    {
     "name": "stderr",
     "output_type": "stream",
     "text": [
      "/home/ec2-user/anaconda3/envs/pytorch_p36/lib/python3.6/site-packages/IPython/core/interactiveshell.py:2785: DtypeWarning: Columns (5,6,12,19,26,33,40,47,54,60,61,68,74,75,81,82,86,87,88,89,95,96,102,103,106,109,110,113,115,116,117,122,123,124,130,131,136,137,138,141,144,145,151,152,153,155,157,158,159,162,163,164,165,166,172,173,178,179,180,186,187,193,194,199,200,201,204,206,207,208,214,215,219,221,222,224,228,229,233,234,235,236,237,241,242,243,248,249,250,256,257,259,261,262,263,264,269,270,271,272,275,277,278,279,282,284,285,288,289,290,291,292,298,299,305,306,307,308,309,313,319,320,325,326,327,333,334,340,341,346,347,348,354,355,357,360,361,362) have mixed types. Specify dtype option on import or set low_memory=False.\n",
      "  interactivity=interactivity, compiler=compiler, result=result)\n"
     ]
    },
    {
     "name": "stdout",
     "output_type": "stream",
     "text": [
      "month size:  9 688346838\n",
      "used days:  119 0\n",
      "total size before:  (1778674, 120)\n",
      "New dataset created\n",
      "sequence length:  1461131\n",
      "empty events with nonzero labels:  7419\n",
      "time:  288.7220561504364\n"
     ]
    },
    {
     "name": "stderr",
     "output_type": "stream",
     "text": [
      "/home/ec2-user/anaconda3/envs/pytorch_p36/lib/python3.6/site-packages/IPython/core/interactiveshell.py:2785: DtypeWarning: Columns (17,24,31,38,45,51,52,56,57,58,59,65,66,72,73,79,80,85,86,87,92,93,94,100,101,107,108,114,115,121,122,128,129,135,136,142,143,144,149,150,156,157,164,170,171,177,178,184,185,191,192,198,199,205,206,212,213,217,219,220,226,227,233,234,240,241,242,247,248,254,255,261,262,268,269,276,277,283,289,290,296,297,303,304,310,311,317,318,324,325,331,332,338,339,340,345,346,353,360) have mixed types. Specify dtype option on import or set low_memory=False.\n",
      "  interactivity=interactivity, compiler=compiler, result=result)\n"
     ]
    },
    {
     "name": "stdout",
     "output_type": "stream",
     "text": [
      "month size:  10 679187709\n",
      "used days:  119 0\n",
      "total size before:  (1755007, 120)\n",
      "New dataset created\n",
      "sequence length:  1476727\n",
      "empty events with nonzero labels:  7492\n",
      "time:  279.44660115242004\n"
     ]
    },
    {
     "name": "stderr",
     "output_type": "stream",
     "text": [
      "/home/ec2-user/anaconda3/envs/pytorch_p36/lib/python3.6/site-packages/IPython/core/interactiveshell.py:2785: DtypeWarning: Columns (7,13,14,21,25,26,27,28,35,42,48,49,54,55,56,62,63,69,70,76,77,83,84,90,91,97,98,103,104,105,111,112,119,125,126,133,139,140,146,147,153,154,160,161,167,168,174,175,181,182,188,189,195,196,202,203,208,209,210,211,224,230,231,236,237,238,244,245,246,251,252,258,259,265,266,272,273,280,286,287,293,294,300,301,308,314,322,335,342,343,357,364) have mixed types. Specify dtype option on import or set low_memory=False.\n",
      "  interactivity=interactivity, compiler=compiler, result=result)\n"
     ]
    },
    {
     "name": "stdout",
     "output_type": "stream",
     "text": [
      "month size:  11 668919051\n",
      "used days:  119 0\n",
      "total size before:  (1728473, 120)\n",
      "New dataset created\n",
      "sequence length:  1508506\n",
      "empty events with nonzero labels:  6336\n",
      "time:  279.8270537853241\n"
     ]
    }
   ],
   "source": [
    "# generate the whole data from 11 months\n",
    "for i in [1, 2, 3,4,5,6,7,8,9,10,11]:\n",
    "    if i < 10:\n",
    "        m = '0' + str(i)\n",
    "    else:\n",
    "        m = str(i)\n",
    "    \n",
    "    FP = 'data/ae_raw/ae_patients_365_2011' + m + '01.csv'\n",
    "    ae_targets_365_df = pd.read_csv(FP)\n",
    "    print(\"month size: \", str(i), ae_targets_365_df.size)\n",
    "    \n",
    "    whole_dataset = None\n",
    "    whole_dataset = build_dataset(ae_targets_365_df, vocab, x_lst, y_lst, day_length=120, max_length=30, max_sentence_length=500)\n",
    "    pickle.dump(whole_dataset, open(\"data/ae_process/np_ae_last120_non3digit_month\"  + m + \".pkl\", 'wb'), protocol=4)\n"
   ]
  },
  {
   "cell_type": "markdown",
   "metadata": {},
   "source": [
    "## Random things to check"
   ]
  },
  {
   "cell_type": "code",
   "execution_count": 90,
   "metadata": {},
   "outputs": [],
   "source": [
    "def get_count(df, vocab, feat_colnames, label_colnames, day_length=30, max_length=50, mode='eval', keep_length=6):\n",
    "    # create dataset\n",
    "    start_time = time.time()\n",
    "    print(\"used days: \", feat_colnames[-day_length], feat_colnames[-1])\n",
    "    data = df[feat_colnames[-day_length:]].to_numpy()\n",
    "    sequence = []\n",
    "    print(\"total size before: \", data.shape)\n",
    "    max_count = 0\n",
    "    max_day = 0\n",
    "    days = 0\n",
    "    mid_days = 0\n",
    "    day_dict = {}\n",
    "    labels = df[label_colnames].to_numpy()\n",
    "    for i in range(len(data)):\n",
    "        sentence = []\n",
    "        if not labels[i].any():\n",
    "            continue\n",
    "        mask = []\n",
    "        count = 0\n",
    "        \n",
    "        for j in range(len(data[i])):\n",
    "            \n",
    "            words = str(data[i][j]).replace('d_s', 'd_')\n",
    "            if words == 'nan':\n",
    "                continue\n",
    "            words = words.split(', ')\n",
    "            \n",
    "            if len(words) > max_length:\n",
    "                days += 1\n",
    "            if len(words) > max_length - 5:\n",
    "                mid_days += 1\n",
    "            max_day = max(max_day, len(words))\n",
    "            #print(max_day)\n",
    "            count += len(words)\n",
    "            '''words = sorted([vocab.stoi[w] if w in vocab.stoi else vocab.stoi['<unk>'] for w in words])\n",
    "            \n",
    "            if len(words) > max_length:\n",
    "                words = words[:max_length]\n",
    "            \n",
    "            words = words + [vocab.stoi['<pad>']] * (max_length - len(words))\n",
    "                    \n",
    "            sentence.append(words)'''\n",
    "        max_count = max(max_count, count)\n",
    "        #if count == 0:\n",
    "           # print(\"empty: \", i)\n",
    "        if count in day_dict:\n",
    "            day_dict[count] += 1\n",
    "        else:\n",
    "            day_dict[count] = 1\n",
    "    print(max_count, max_day, days, mid_days)\n",
    "    return day_dict"
   ]
  },
  {
   "cell_type": "code",
   "execution_count": 91,
   "metadata": {},
   "outputs": [
    {
     "name": "stdout",
     "output_type": "stream",
     "text": [
      "used days:  119 0\n",
      "total size before:  (1903423, 120)\n",
      "1118 65 588 2134\n"
     ]
    }
   ],
   "source": [
    "day_dict = get_count(np_ae, vocab, x_lst, y_lst, day_length=120, max_length=30)"
   ]
  },
  {
   "cell_type": "code",
   "execution_count": 140,
   "metadata": {},
   "outputs": [
    {
     "name": "stdout",
     "output_type": "stream",
     "text": [
      "[[1. 1. 1. 0. 0. 0. 0. 0. 0. 0. 0. 0. 0. 0. 0. 0. 0. 0. 0. 0. 0. 0. 0. 0.\n",
      "  0. 0. 0. 0. 0. 0.]\n",
      " [0. 0. 0. 0. 0. 0. 0. 0. 0. 0. 0. 0. 0. 0. 0. 0. 0. 0. 0. 0. 0. 0. 0. 0.\n",
      "  0. 0. 0. 0. 0. 0.]\n",
      " [0. 0. 0. 0. 0. 0. 0. 0. 0. 0. 0. 0. 0. 0. 0. 0. 0. 0. 0. 0. 0. 0. 0. 0.\n",
      "  0. 0. 0. 0. 0. 0.]\n",
      " [0. 0. 0. 0. 0. 0. 0. 0. 0. 0. 0. 0. 0. 0. 0. 0. 0. 0. 0. 0. 0. 0. 0. 0.\n",
      "  0. 0. 0. 0. 0. 0.]\n",
      " [0. 0. 0. 0. 0. 0. 0. 0. 0. 0. 0. 0. 0. 0. 0. 0. 0. 0. 0. 0. 0. 0. 0. 0.\n",
      "  0. 0. 0. 0. 0. 0.]]\n",
      "[[  28   83 1182    0    0    0    0    0    0    0    0    0    0    0\n",
      "     0    0    0    0    0    0    0    0    0    0    0    0    0    0\n",
      "     0    0]\n",
      " [   2    0    0    0    0    0    0    0    0    0    0    0    0    0\n",
      "     0    0    0    0    0    0    0    0    0    0    0    0    0    0\n",
      "     0    0]\n",
      " [   2    0    0    0    0    0    0    0    0    0    0    0    0    0\n",
      "     0    0    0    0    0    0    0    0    0    0    0    0    0    0\n",
      "     0    0]\n",
      " [   2    0    0    0    0    0    0    0    0    0    0    0    0    0\n",
      "     0    0    0    0    0    0    0    0    0    0    0    0    0    0\n",
      "     0    0]\n",
      " [   2    0    0    0    0    0    0    0    0    0    0    0    0    0\n",
      "     0    0    0    0    0    0    0    0    0    0    0    0    0    0\n",
      "     0    0]]\n"
     ]
    }
   ],
   "source": [
    "row = random.randint(0, 1562223)\n",
    "print(whole_dataset[3][row][:5])\n",
    "print(whole_dataset[1][row][:5])"
   ]
  },
  {
   "cell_type": "code",
   "execution_count": 77,
   "metadata": {},
   "outputs": [
    {
     "name": "stdout",
     "output_type": "stream",
     "text": [
      "download: s3://cmsai-mrk-amzn/CSVModelInputs/miguel/ae_patients_365_20110101_wo_0s.csv to data/ae_patients_365_20110101_wo_0s.csv\n"
     ]
    }
   ],
   "source": [
    "! aws s3 cp s3://cmsai-mrk-amzn/CSVModelInputs/miguel/ae_patients_365_20110101_wo_0s.csv data/"
   ]
  },
  {
   "cell_type": "code",
   "execution_count": null,
   "metadata": {},
   "outputs": [],
   "source": []
  }
 ],
 "metadata": {
  "kernelspec": {
   "display_name": "conda_pytorch_p36",
   "language": "python",
   "name": "conda_pytorch_p36"
  },
  "language_info": {
   "codemirror_mode": {
    "name": "ipython",
    "version": 3
   },
   "file_extension": ".py",
   "mimetype": "text/x-python",
   "name": "python",
   "nbconvert_exporter": "python",
   "pygments_lexer": "ipython3",
   "version": "3.6.10"
  }
 },
 "nbformat": 4,
 "nbformat_minor": 4
}
