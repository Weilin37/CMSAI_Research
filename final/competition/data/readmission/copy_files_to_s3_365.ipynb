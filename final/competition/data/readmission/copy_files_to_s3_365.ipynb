{
 "cells": [
  {
   "cell_type": "code",
   "execution_count": 1,
   "metadata": {},
   "outputs": [],
   "source": [
    "import boto3, os"
   ]
  },
  {
   "cell_type": "code",
   "execution_count": 2,
   "metadata": {},
   "outputs": [],
   "source": [
    "s3 = boto3.resource('s3')"
   ]
  },
  {
   "cell_type": "markdown",
   "metadata": {},
   "source": [
    "**Upload 365 Raw Training Data**"
   ]
  },
  {
   "cell_type": "code",
   "execution_count": 3,
   "metadata": {},
   "outputs": [],
   "source": [
    "train_filename = 'raw_train_data.csv'\n",
    "train_fps = [os.path.join(f'./fold_{idx}/train/', train_filename) for idx in range(5)]"
   ]
  },
  {
   "cell_type": "code",
   "execution_count": 4,
   "metadata": {},
   "outputs": [
    {
     "name": "stdout",
     "output_type": "stream",
     "text": [
      "Written to : FinalData/RE/Data/Preprocessed/Raw/365/fold_0/train/raw_train_data.csv\n",
      "Written to : FinalData/RE/Data/Preprocessed/Raw/365/fold_1/train/raw_train_data.csv\n",
      "Written to : FinalData/RE/Data/Preprocessed/Raw/365/fold_2/train/raw_train_data.csv\n",
      "Written to : FinalData/RE/Data/Preprocessed/Raw/365/fold_3/train/raw_train_data.csv\n",
      "Written to : FinalData/RE/Data/Preprocessed/Raw/365/fold_4/train/raw_train_data.csv\n"
     ]
    }
   ],
   "source": [
    "for fold, fp in enumerate(train_fps):\n",
    "    destination = f'FinalData/RE/Data/Preprocessed/Raw/365/fold_{fold}/train/{train_filename}' \n",
    "    s3.meta.client.upload_file(fp, 'cmsai-mrk-amzn', destination)\n",
    "    print(f'Written to : {destination}')"
   ]
  },
  {
   "cell_type": "markdown",
   "metadata": {},
   "source": [
    "**Upoad 365 Raw Test files**"
   ]
  },
  {
   "cell_type": "code",
   "execution_count": 6,
   "metadata": {},
   "outputs": [],
   "source": [
    "test_filename = 'raw_test_data.csv'\n",
    "test_fps = [os.path.join(f'./fold_{idx}/test/', test_filename) for idx in range(5)]"
   ]
  },
  {
   "cell_type": "code",
   "execution_count": 7,
   "metadata": {
    "scrolled": true
   },
   "outputs": [
    {
     "name": "stdout",
     "output_type": "stream",
     "text": [
      "Written to : FinalData/RE/Data/Preprocessed/Raw/365/fold_0/test/raw_test_data.csv\n",
      "Written to : FinalData/RE/Data/Preprocessed/Raw/365/fold_1/test/raw_test_data.csv\n",
      "Written to : FinalData/RE/Data/Preprocessed/Raw/365/fold_2/test/raw_test_data.csv\n",
      "Written to : FinalData/RE/Data/Preprocessed/Raw/365/fold_3/test/raw_test_data.csv\n",
      "Written to : FinalData/RE/Data/Preprocessed/Raw/365/fold_4/test/raw_test_data.csv\n"
     ]
    }
   ],
   "source": [
    "for fold, fp in enumerate(test_fps):\n",
    "    destination = f'FinalData/RE/Data/Preprocessed/Raw/365/fold_{fold}/test/{test_filename}' \n",
    "    s3.meta.client.upload_file(fp, 'cmsai-mrk-amzn', destination)\n",
    "    print(f'Written to : {destination}')"
   ]
  },
  {
   "cell_type": "code",
   "execution_count": null,
   "metadata": {},
   "outputs": [],
   "source": []
  },
  {
   "cell_type": "markdown",
   "metadata": {},
   "source": [
    "**Upload 365 Anonymized Training Data**"
   ]
  },
  {
   "cell_type": "code",
   "execution_count": 8,
   "metadata": {},
   "outputs": [],
   "source": [
    "train_filename = 'raw_train_data_anony.csv'\n",
    "train_fps = [os.path.join(f'./fold_{idx}/train/', train_filename) for idx in range(5)]"
   ]
  },
  {
   "cell_type": "code",
   "execution_count": 9,
   "metadata": {},
   "outputs": [
    {
     "name": "stdout",
     "output_type": "stream",
     "text": [
      "Written to : FinalData/RE/Data/Preprocessed/Anonymized/365/fold_0/train/raw_train_data_anony.csv\n",
      "Written to : FinalData/RE/Data/Preprocessed/Anonymized/365/fold_1/train/raw_train_data_anony.csv\n",
      "Written to : FinalData/RE/Data/Preprocessed/Anonymized/365/fold_2/train/raw_train_data_anony.csv\n",
      "Written to : FinalData/RE/Data/Preprocessed/Anonymized/365/fold_3/train/raw_train_data_anony.csv\n",
      "Written to : FinalData/RE/Data/Preprocessed/Anonymized/365/fold_4/train/raw_train_data_anony.csv\n"
     ]
    }
   ],
   "source": [
    "for fold, fp in enumerate(train_fps):\n",
    "    destination = f'FinalData/RE/Data/Preprocessed/Anonymized/365/fold_{fold}/train/{train_filename}' \n",
    "    s3.meta.client.upload_file(fp, 'cmsai-mrk-amzn', destination)\n",
    "    print(f'Written to : {destination}')"
   ]
  },
  {
   "cell_type": "code",
   "execution_count": null,
   "metadata": {},
   "outputs": [],
   "source": []
  },
  {
   "cell_type": "markdown",
   "metadata": {},
   "source": [
    "**Upoad 365 Raw Test files**"
   ]
  },
  {
   "cell_type": "code",
   "execution_count": 10,
   "metadata": {},
   "outputs": [],
   "source": [
    "test_filename = 'raw_test_data_anony.csv'\n",
    "test_fps = [os.path.join(f'./fold_{idx}/test/', test_filename) for idx in range(5)]"
   ]
  },
  {
   "cell_type": "code",
   "execution_count": 11,
   "metadata": {
    "scrolled": true
   },
   "outputs": [
    {
     "name": "stdout",
     "output_type": "stream",
     "text": [
      "Written to : FinalData/RE/Data/Preprocessed/Anonymized/365/fold_0/test/raw_test_data_anony.csv\n",
      "Written to : FinalData/RE/Data/Preprocessed/Anonymized/365/fold_1/test/raw_test_data_anony.csv\n",
      "Written to : FinalData/RE/Data/Preprocessed/Anonymized/365/fold_2/test/raw_test_data_anony.csv\n",
      "Written to : FinalData/RE/Data/Preprocessed/Anonymized/365/fold_3/test/raw_test_data_anony.csv\n",
      "Written to : FinalData/RE/Data/Preprocessed/Anonymized/365/fold_4/test/raw_test_data_anony.csv\n"
     ]
    }
   ],
   "source": [
    "for fold, fp in enumerate(test_fps):\n",
    "    destination = f'FinalData/RE/Data/Preprocessed/Anonymized/365/fold_{fold}/test/{test_filename}' \n",
    "    s3.meta.client.upload_file(fp, 'cmsai-mrk-amzn', destination)\n",
    "    print(f'Written to : {destination}')"
   ]
  },
  {
   "cell_type": "code",
   "execution_count": null,
   "metadata": {},
   "outputs": [],
   "source": []
  },
  {
   "cell_type": "code",
   "execution_count": null,
   "metadata": {},
   "outputs": [],
   "source": []
  },
  {
   "cell_type": "code",
   "execution_count": null,
   "metadata": {},
   "outputs": [],
   "source": []
  },
  {
   "cell_type": "code",
   "execution_count": null,
   "metadata": {},
   "outputs": [],
   "source": []
  },
  {
   "cell_type": "code",
   "execution_count": null,
   "metadata": {},
   "outputs": [],
   "source": []
  },
  {
   "cell_type": "code",
   "execution_count": null,
   "metadata": {},
   "outputs": [],
   "source": []
  },
  {
   "cell_type": "markdown",
   "metadata": {},
   "source": [
    "**Upload 1000 flattened, 30 days training files anonymized**"
   ]
  },
  {
   "cell_type": "code",
   "execution_count": 10,
   "metadata": {},
   "outputs": [],
   "source": [
    "train_filename = 'raw_train_data_1000_30days_anony.csv'\n",
    "train_fps = [os.path.join(f'./fold_{idx}/train/', train_filename) for idx in range(5)]"
   ]
  },
  {
   "cell_type": "code",
   "execution_count": null,
   "metadata": {},
   "outputs": [
    {
     "name": "stdout",
     "output_type": "stream",
     "text": [
      "Written to : FinalData/RE/Data/Preprocessed/1000/fold_1/train/raw_train_data_1000_30days_anony.csv\n",
      "Written to : FinalData/RE/Data/Preprocessed/1000/fold_2/train/raw_train_data_1000_30days_anony.csv\n",
      "Written to : FinalData/RE/Data/Preprocessed/1000/fold_3/train/raw_train_data_1000_30days_anony.csv\n",
      "Written to : FinalData/RE/Data/Preprocessed/1000/fold_4/train/raw_train_data_1000_30days_anony.csv\n"
     ]
    }
   ],
   "source": [
    "for fold, fp in enumerate(train_fps):\n",
    "    destination = f'FinalData/RE/Data/Preprocessed/1000/fold_{fold}/train/{train_filename}' \n",
    "    s3.meta.client.upload_file(fp, 'cmsai-mrk-amzn', destination)\n",
    "    print(f'Written to : {destination}')"
   ]
  },
  {
   "cell_type": "code",
   "execution_count": null,
   "metadata": {},
   "outputs": [],
   "source": []
  },
  {
   "cell_type": "markdown",
   "metadata": {},
   "source": [
    "**Upoad 1000 flattened, 30 days test files anonymized**"
   ]
  },
  {
   "cell_type": "code",
   "execution_count": 12,
   "metadata": {},
   "outputs": [],
   "source": [
    "test_filename = 'raw_test_data_1000_30days_anony.csv'\n",
    "test_fps = [os.path.join(f'./fold_{idx}/test/', test_filename) for idx in range(5)]"
   ]
  },
  {
   "cell_type": "code",
   "execution_count": 13,
   "metadata": {},
   "outputs": [
    {
     "name": "stdout",
     "output_type": "stream",
     "text": [
      "Written to : FinalData/RE/Data/Preprocessed/1000/fold_0/test/raw_test_data_1000_30days_anony.csv\n",
      "Written to : FinalData/RE/Data/Preprocessed/1000/fold_1/test/raw_test_data_1000_30days_anony.csv\n",
      "Written to : FinalData/RE/Data/Preprocessed/1000/fold_2/test/raw_test_data_1000_30days_anony.csv\n",
      "Written to : FinalData/RE/Data/Preprocessed/1000/fold_3/test/raw_test_data_1000_30days_anony.csv\n",
      "Written to : FinalData/RE/Data/Preprocessed/1000/fold_4/test/raw_test_data_1000_30days_anony.csv\n"
     ]
    }
   ],
   "source": [
    "for fold, fp in enumerate(test_fps):\n",
    "    destination = f'FinalData/RE/Data/Preprocessed/1000/fold_{fold}/test/{test_filename}' \n",
    "    s3.meta.client.upload_file(fp, 'cmsai-mrk-amzn', destination)\n",
    "    print(f'Written to : {destination}')"
   ]
  },
  {
   "cell_type": "code",
   "execution_count": null,
   "metadata": {},
   "outputs": [],
   "source": []
  },
  {
   "cell_type": "markdown",
   "metadata": {},
   "source": [
    "**Upload 1000 flattened, 365 days training files anonymized**"
   ]
  },
  {
   "cell_type": "code",
   "execution_count": 14,
   "metadata": {},
   "outputs": [],
   "source": [
    "train_filename = 'raw_train_data_1000_365days_anony.csv'\n",
    "train_fps = [os.path.join(f'./fold_{idx}/train/', train_filename) for idx in range(5)]"
   ]
  },
  {
   "cell_type": "code",
   "execution_count": 15,
   "metadata": {},
   "outputs": [
    {
     "name": "stdout",
     "output_type": "stream",
     "text": [
      "Written to : FinalData/RE/Data/Preprocessed/1000/fold_0/train/raw_train_data_1000_365days_anony.csv\n",
      "Written to : FinalData/RE/Data/Preprocessed/1000/fold_1/train/raw_train_data_1000_365days_anony.csv\n",
      "Written to : FinalData/RE/Data/Preprocessed/1000/fold_2/train/raw_train_data_1000_365days_anony.csv\n",
      "Written to : FinalData/RE/Data/Preprocessed/1000/fold_3/train/raw_train_data_1000_365days_anony.csv\n",
      "Written to : FinalData/RE/Data/Preprocessed/1000/fold_4/train/raw_train_data_1000_365days_anony.csv\n"
     ]
    }
   ],
   "source": [
    "for fold, fp in enumerate(train_fps):\n",
    "    destination = f'FinalData/RE/Data/Preprocessed/1000/fold_{fold}/train/{train_filename}' \n",
    "    s3.meta.client.upload_file(fp, 'cmsai-mrk-amzn', destination)\n",
    "    print(f'Written to : {destination}')"
   ]
  },
  {
   "cell_type": "markdown",
   "metadata": {},
   "source": [
    "**Upoad 1000 flattened, 30 days test files anonymized**"
   ]
  },
  {
   "cell_type": "code",
   "execution_count": 16,
   "metadata": {},
   "outputs": [],
   "source": [
    "test_filename = 'raw_test_data_1000_365days_anony.csv'\n",
    "test_fps = [os.path.join(f'./fold_{idx}/test/', test_filename) for idx in range(5)]"
   ]
  },
  {
   "cell_type": "code",
   "execution_count": 17,
   "metadata": {},
   "outputs": [
    {
     "name": "stdout",
     "output_type": "stream",
     "text": [
      "Written to : FinalData/RE/Data/Preprocessed/1000/fold_0/test/raw_test_data_1000_365days_anony.csv\n",
      "Written to : FinalData/RE/Data/Preprocessed/1000/fold_1/test/raw_test_data_1000_365days_anony.csv\n",
      "Written to : FinalData/RE/Data/Preprocessed/1000/fold_2/test/raw_test_data_1000_365days_anony.csv\n",
      "Written to : FinalData/RE/Data/Preprocessed/1000/fold_3/test/raw_test_data_1000_365days_anony.csv\n",
      "Written to : FinalData/RE/Data/Preprocessed/1000/fold_4/test/raw_test_data_1000_365days_anony.csv\n"
     ]
    }
   ],
   "source": [
    "for fold, fp in enumerate(test_fps):\n",
    "    destination = f'FinalData/RE/Data/Preprocessed/1000/fold_{fold}/test/{test_filename}' \n",
    "    s3.meta.client.upload_file(fp, 'cmsai-mrk-amzn', destination)\n",
    "    print(f'Written to : {destination}')"
   ]
  },
  {
   "cell_type": "code",
   "execution_count": null,
   "metadata": {},
   "outputs": [],
   "source": []
  },
  {
   "cell_type": "markdown",
   "metadata": {},
   "source": [
    "**Move to raw and 1000 folder structure**"
   ]
  },
  {
   "cell_type": "markdown",
   "metadata": {},
   "source": [
    "Move anonymize data"
   ]
  },
  {
   "cell_type": "code",
   "execution_count": 29,
   "metadata": {},
   "outputs": [
    {
     "name": "stdout",
     "output_type": "stream",
     "text": [
      "File already moved: FinalData/RE/Data/Preprocessed/Anonymized/1000/fold_0/test/raw_test_data_1000_365days_anony.csv\n",
      "Written from FinalData/RE/Data/Preprocessed/1000/fold_1/test/raw_test_data_1000_365days_anony.csv \n",
      " to : FinalData/RE/Data/Preprocessed/Anonymized/1000/fold_1/test/raw_test_data_1000_365days_anony.csv\n",
      "Deleted FinalData/RE/Data/Preprocessed/1000/fold_1/test/raw_test_data_1000_365days_anony.csv\n",
      "Written from FinalData/RE/Data/Preprocessed/1000/fold_2/test/raw_test_data_1000_365days_anony.csv \n",
      " to : FinalData/RE/Data/Preprocessed/Anonymized/1000/fold_2/test/raw_test_data_1000_365days_anony.csv\n",
      "Deleted FinalData/RE/Data/Preprocessed/1000/fold_2/test/raw_test_data_1000_365days_anony.csv\n",
      "Written from FinalData/RE/Data/Preprocessed/1000/fold_3/test/raw_test_data_1000_365days_anony.csv \n",
      " to : FinalData/RE/Data/Preprocessed/Anonymized/1000/fold_3/test/raw_test_data_1000_365days_anony.csv\n",
      "Deleted FinalData/RE/Data/Preprocessed/1000/fold_3/test/raw_test_data_1000_365days_anony.csv\n",
      "Written from FinalData/RE/Data/Preprocessed/1000/fold_4/test/raw_test_data_1000_365days_anony.csv \n",
      " to : FinalData/RE/Data/Preprocessed/Anonymized/1000/fold_4/test/raw_test_data_1000_365days_anony.csv\n",
      "Deleted FinalData/RE/Data/Preprocessed/1000/fold_4/test/raw_test_data_1000_365days_anony.csv\n",
      "Written from FinalData/RE/Data/Preprocessed/1000/fold_0/test/raw_test_data_1000_30days_anony.csv \n",
      " to : FinalData/RE/Data/Preprocessed/Anonymized/1000/fold_0/test/raw_test_data_1000_30days_anony.csv\n",
      "Deleted FinalData/RE/Data/Preprocessed/1000/fold_0/test/raw_test_data_1000_30days_anony.csv\n",
      "File already moved: FinalData/RE/Data/Preprocessed/Anonymized/1000/fold_1/test/raw_test_data_1000_30days_anony.csv\n",
      "Written from FinalData/RE/Data/Preprocessed/1000/fold_2/test/raw_test_data_1000_30days_anony.csv \n",
      " to : FinalData/RE/Data/Preprocessed/Anonymized/1000/fold_2/test/raw_test_data_1000_30days_anony.csv\n",
      "Deleted FinalData/RE/Data/Preprocessed/1000/fold_2/test/raw_test_data_1000_30days_anony.csv\n",
      "Written from FinalData/RE/Data/Preprocessed/1000/fold_3/test/raw_test_data_1000_30days_anony.csv \n",
      " to : FinalData/RE/Data/Preprocessed/Anonymized/1000/fold_3/test/raw_test_data_1000_30days_anony.csv\n",
      "Deleted FinalData/RE/Data/Preprocessed/1000/fold_3/test/raw_test_data_1000_30days_anony.csv\n",
      "Written from FinalData/RE/Data/Preprocessed/1000/fold_4/test/raw_test_data_1000_30days_anony.csv \n",
      " to : FinalData/RE/Data/Preprocessed/Anonymized/1000/fold_4/test/raw_test_data_1000_30days_anony.csv\n",
      "Deleted FinalData/RE/Data/Preprocessed/1000/fold_4/test/raw_test_data_1000_30days_anony.csv\n"
     ]
    }
   ],
   "source": [
    "bucketname= 'cmsai-mrk-amzn'\n",
    "test_filenames = ['raw_test_data_1000_365days_anony.csv', 'raw_test_data_1000_30days_anony.csv']\n",
    "for test_filename in test_filenames:\n",
    "    for fold in range(5):\n",
    "        destination = f'FinalData/RE/Data/Preprocessed/Anonymized/1000/fold_{fold}/test/{test_filename}' \n",
    "        source = f'FinalData/RE/Data/Preprocessed/1000/fold_{fold}/test/{test_filename}' \n",
    "        try:\n",
    "            s3.Object(bucketname, destination).copy_from(CopySource= bucketname + '/' + source)\n",
    "\n",
    "            print(f'Written from {source} \\n to : {destination}')\n",
    "\n",
    "            s3.Object(bucketname, source).delete()\n",
    "            print(f'Deleted {source}')\n",
    "        except:\n",
    "            print(f'File already moved: {destination}')"
   ]
  },
  {
   "cell_type": "code",
   "execution_count": 28,
   "metadata": {},
   "outputs": [
    {
     "name": "stdout",
     "output_type": "stream",
     "text": [
      "File already moved: FinalData/RE/Data/Preprocessed/Anonymized/1000/fold_0/train/raw_train_data_1000_365days_anony.csv\n",
      "Written from FinalData/RE/Data/Preprocessed/1000/fold_1/train/raw_train_data_1000_365days_anony.csv \n",
      " to : FinalData/RE/Data/Preprocessed/Anonymized/1000/fold_1/train/raw_train_data_1000_365days_anony.csv\n",
      "Deleted FinalData/RE/Data/Preprocessed/1000/fold_1/train/raw_train_data_1000_365days_anony.csv\n",
      "Written from FinalData/RE/Data/Preprocessed/1000/fold_2/train/raw_train_data_1000_365days_anony.csv \n",
      " to : FinalData/RE/Data/Preprocessed/Anonymized/1000/fold_2/train/raw_train_data_1000_365days_anony.csv\n",
      "Deleted FinalData/RE/Data/Preprocessed/1000/fold_2/train/raw_train_data_1000_365days_anony.csv\n",
      "Written from FinalData/RE/Data/Preprocessed/1000/fold_3/train/raw_train_data_1000_365days_anony.csv \n",
      " to : FinalData/RE/Data/Preprocessed/Anonymized/1000/fold_3/train/raw_train_data_1000_365days_anony.csv\n",
      "Deleted FinalData/RE/Data/Preprocessed/1000/fold_3/train/raw_train_data_1000_365days_anony.csv\n",
      "Written from FinalData/RE/Data/Preprocessed/1000/fold_4/train/raw_train_data_1000_365days_anony.csv \n",
      " to : FinalData/RE/Data/Preprocessed/Anonymized/1000/fold_4/train/raw_train_data_1000_365days_anony.csv\n",
      "Deleted FinalData/RE/Data/Preprocessed/1000/fold_4/train/raw_train_data_1000_365days_anony.csv\n",
      "Written from FinalData/RE/Data/Preprocessed/1000/fold_0/train/raw_train_data_1000_30days_anony.csv \n",
      " to : FinalData/RE/Data/Preprocessed/Anonymized/1000/fold_0/train/raw_train_data_1000_30days_anony.csv\n",
      "Deleted FinalData/RE/Data/Preprocessed/1000/fold_0/train/raw_train_data_1000_30days_anony.csv\n",
      "File already moved: FinalData/RE/Data/Preprocessed/Anonymized/1000/fold_1/train/raw_train_data_1000_30days_anony.csv\n",
      "Written from FinalData/RE/Data/Preprocessed/1000/fold_2/train/raw_train_data_1000_30days_anony.csv \n",
      " to : FinalData/RE/Data/Preprocessed/Anonymized/1000/fold_2/train/raw_train_data_1000_30days_anony.csv\n",
      "Deleted FinalData/RE/Data/Preprocessed/1000/fold_2/train/raw_train_data_1000_30days_anony.csv\n",
      "Written from FinalData/RE/Data/Preprocessed/1000/fold_3/train/raw_train_data_1000_30days_anony.csv \n",
      " to : FinalData/RE/Data/Preprocessed/Anonymized/1000/fold_3/train/raw_train_data_1000_30days_anony.csv\n",
      "Deleted FinalData/RE/Data/Preprocessed/1000/fold_3/train/raw_train_data_1000_30days_anony.csv\n",
      "Written from FinalData/RE/Data/Preprocessed/1000/fold_4/train/raw_train_data_1000_30days_anony.csv \n",
      " to : FinalData/RE/Data/Preprocessed/Anonymized/1000/fold_4/train/raw_train_data_1000_30days_anony.csv\n",
      "Deleted FinalData/RE/Data/Preprocessed/1000/fold_4/train/raw_train_data_1000_30days_anony.csv\n"
     ]
    }
   ],
   "source": [
    "bucketname= 'cmsai-mrk-amzn'\n",
    "train_filenames = ['raw_train_data_1000_365days_anony.csv', 'raw_train_data_1000_30days_anony.csv']\n",
    "for train_filename in train_filenames:\n",
    "    for fold in range(5):\n",
    "        destination = f'FinalData/RE/Data/Preprocessed/Anonymized/1000/fold_{fold}/train/{train_filename}' \n",
    "        source = f'FinalData/RE/Data/Preprocessed/1000/fold_{fold}/train/{train_filename}' \n",
    "        source_dict = {\n",
    "            'Bucket' : bucketname,\n",
    "            'Key' : source\n",
    "        }\n",
    "        try:\n",
    "            s3.meta.client.copy(source_dict, bucketname, destination)\n",
    "            print(f'Written from {source} \\n to : {destination}')\n",
    "\n",
    "            s3.Object(bucketname, source).delete()\n",
    "            print(f'Deleted {source}')\n",
    "        except:\n",
    "            print(f'File already moved: {destination}')"
   ]
  },
  {
   "cell_type": "markdown",
   "metadata": {},
   "source": [
    "Move raw data"
   ]
  },
  {
   "cell_type": "code",
   "execution_count": 27,
   "metadata": {},
   "outputs": [
    {
     "name": "stdout",
     "output_type": "stream",
     "text": [
      "File already moved: FinalData/RE/Data/Preprocessed/Raw/1000/fold_0/test/raw_test_data_1000_365days.csv\n",
      "Written from FinalData/RE/Data/Preprocessed/1000/fold_1/test/raw_test_data_1000_365days.csv \n",
      " to : FinalData/RE/Data/Preprocessed/Raw/1000/fold_1/test/raw_test_data_1000_365days.csv\n",
      "Deleted FinalData/RE/Data/Preprocessed/1000/fold_1/test/raw_test_data_1000_365days.csv\n",
      "Written from FinalData/RE/Data/Preprocessed/1000/fold_2/test/raw_test_data_1000_365days.csv \n",
      " to : FinalData/RE/Data/Preprocessed/Raw/1000/fold_2/test/raw_test_data_1000_365days.csv\n",
      "Deleted FinalData/RE/Data/Preprocessed/1000/fold_2/test/raw_test_data_1000_365days.csv\n",
      "Written from FinalData/RE/Data/Preprocessed/1000/fold_3/test/raw_test_data_1000_365days.csv \n",
      " to : FinalData/RE/Data/Preprocessed/Raw/1000/fold_3/test/raw_test_data_1000_365days.csv\n",
      "Deleted FinalData/RE/Data/Preprocessed/1000/fold_3/test/raw_test_data_1000_365days.csv\n",
      "Written from FinalData/RE/Data/Preprocessed/1000/fold_4/test/raw_test_data_1000_365days.csv \n",
      " to : FinalData/RE/Data/Preprocessed/Raw/1000/fold_4/test/raw_test_data_1000_365days.csv\n",
      "Deleted FinalData/RE/Data/Preprocessed/1000/fold_4/test/raw_test_data_1000_365days.csv\n",
      "Written from FinalData/RE/Data/Preprocessed/1000/fold_0/test/raw_test_data_1000_30days.csv \n",
      " to : FinalData/RE/Data/Preprocessed/Raw/1000/fold_0/test/raw_test_data_1000_30days.csv\n",
      "Deleted FinalData/RE/Data/Preprocessed/1000/fold_0/test/raw_test_data_1000_30days.csv\n",
      "File already moved: FinalData/RE/Data/Preprocessed/Raw/1000/fold_1/test/raw_test_data_1000_30days.csv\n",
      "Written from FinalData/RE/Data/Preprocessed/1000/fold_2/test/raw_test_data_1000_30days.csv \n",
      " to : FinalData/RE/Data/Preprocessed/Raw/1000/fold_2/test/raw_test_data_1000_30days.csv\n",
      "Deleted FinalData/RE/Data/Preprocessed/1000/fold_2/test/raw_test_data_1000_30days.csv\n",
      "Written from FinalData/RE/Data/Preprocessed/1000/fold_3/test/raw_test_data_1000_30days.csv \n",
      " to : FinalData/RE/Data/Preprocessed/Raw/1000/fold_3/test/raw_test_data_1000_30days.csv\n",
      "Deleted FinalData/RE/Data/Preprocessed/1000/fold_3/test/raw_test_data_1000_30days.csv\n",
      "Written from FinalData/RE/Data/Preprocessed/1000/fold_4/test/raw_test_data_1000_30days.csv \n",
      " to : FinalData/RE/Data/Preprocessed/Raw/1000/fold_4/test/raw_test_data_1000_30days.csv\n",
      "Deleted FinalData/RE/Data/Preprocessed/1000/fold_4/test/raw_test_data_1000_30days.csv\n"
     ]
    }
   ],
   "source": [
    "bucketname= 'cmsai-mrk-amzn'\n",
    "test_filenames = ['raw_test_data_1000_365days.csv', 'raw_test_data_1000_30days.csv']\n",
    "for test_filename in test_filenames:\n",
    "    for fold in range(5):\n",
    "        destination = f'FinalData/RE/Data/Preprocessed/Raw/1000/fold_{fold}/test/{test_filename}' \n",
    "        source = f'FinalData/RE/Data/Preprocessed/1000/fold_{fold}/test/{test_filename}' \n",
    "        try:\n",
    "            s3.Object(bucketname, destination).copy_from(CopySource= bucketname + '/' + source)\n",
    "\n",
    "            print(f'Written from {source} \\n to : {destination}')\n",
    "\n",
    "            s3.Object(bucketname, source).delete()\n",
    "            print(f'Deleted {source}')\n",
    "        except:\n",
    "            print(f'File already moved: {destination}')"
   ]
  },
  {
   "cell_type": "code",
   "execution_count": 30,
   "metadata": {},
   "outputs": [
    {
     "name": "stdout",
     "output_type": "stream",
     "text": [
      "Written from FinalData/RE/Data/Preprocessed/1000/fold_0/train/raw_train_data_1000_365days.csv \n",
      " to : FinalData/RE/Data/Preprocessed/Raw/1000/fold_0/train/raw_train_data_1000_365days.csv\n",
      "Deleted FinalData/RE/Data/Preprocessed/1000/fold_0/train/raw_train_data_1000_365days.csv\n",
      "Written from FinalData/RE/Data/Preprocessed/1000/fold_1/train/raw_train_data_1000_365days.csv \n",
      " to : FinalData/RE/Data/Preprocessed/Raw/1000/fold_1/train/raw_train_data_1000_365days.csv\n",
      "Deleted FinalData/RE/Data/Preprocessed/1000/fold_1/train/raw_train_data_1000_365days.csv\n",
      "Written from FinalData/RE/Data/Preprocessed/1000/fold_2/train/raw_train_data_1000_365days.csv \n",
      " to : FinalData/RE/Data/Preprocessed/Raw/1000/fold_2/train/raw_train_data_1000_365days.csv\n",
      "Deleted FinalData/RE/Data/Preprocessed/1000/fold_2/train/raw_train_data_1000_365days.csv\n",
      "Written from FinalData/RE/Data/Preprocessed/1000/fold_3/train/raw_train_data_1000_365days.csv \n",
      " to : FinalData/RE/Data/Preprocessed/Raw/1000/fold_3/train/raw_train_data_1000_365days.csv\n",
      "Deleted FinalData/RE/Data/Preprocessed/1000/fold_3/train/raw_train_data_1000_365days.csv\n",
      "Written from FinalData/RE/Data/Preprocessed/1000/fold_4/train/raw_train_data_1000_365days.csv \n",
      " to : FinalData/RE/Data/Preprocessed/Raw/1000/fold_4/train/raw_train_data_1000_365days.csv\n",
      "Deleted FinalData/RE/Data/Preprocessed/1000/fold_4/train/raw_train_data_1000_365days.csv\n",
      "Written from FinalData/RE/Data/Preprocessed/1000/fold_0/train/raw_train_data_1000_30days.csv \n",
      " to : FinalData/RE/Data/Preprocessed/Raw/1000/fold_0/train/raw_train_data_1000_30days.csv\n",
      "Deleted FinalData/RE/Data/Preprocessed/1000/fold_0/train/raw_train_data_1000_30days.csv\n",
      "Written from FinalData/RE/Data/Preprocessed/1000/fold_1/train/raw_train_data_1000_30days.csv \n",
      " to : FinalData/RE/Data/Preprocessed/Raw/1000/fold_1/train/raw_train_data_1000_30days.csv\n",
      "Deleted FinalData/RE/Data/Preprocessed/1000/fold_1/train/raw_train_data_1000_30days.csv\n",
      "Written from FinalData/RE/Data/Preprocessed/1000/fold_2/train/raw_train_data_1000_30days.csv \n",
      " to : FinalData/RE/Data/Preprocessed/Raw/1000/fold_2/train/raw_train_data_1000_30days.csv\n",
      "Deleted FinalData/RE/Data/Preprocessed/1000/fold_2/train/raw_train_data_1000_30days.csv\n",
      "Written from FinalData/RE/Data/Preprocessed/1000/fold_3/train/raw_train_data_1000_30days.csv \n",
      " to : FinalData/RE/Data/Preprocessed/Raw/1000/fold_3/train/raw_train_data_1000_30days.csv\n",
      "Deleted FinalData/RE/Data/Preprocessed/1000/fold_3/train/raw_train_data_1000_30days.csv\n",
      "Written from FinalData/RE/Data/Preprocessed/1000/fold_4/train/raw_train_data_1000_30days.csv \n",
      " to : FinalData/RE/Data/Preprocessed/Raw/1000/fold_4/train/raw_train_data_1000_30days.csv\n",
      "Deleted FinalData/RE/Data/Preprocessed/1000/fold_4/train/raw_train_data_1000_30days.csv\n"
     ]
    }
   ],
   "source": [
    "bucketname= 'cmsai-mrk-amzn'\n",
    "train_filenames = ['raw_train_data_1000_365days.csv', 'raw_train_data_1000_30days.csv']\n",
    "for train_filename in train_filenames:\n",
    "    for fold in range(5):\n",
    "        \n",
    "        destination = f'FinalData/RE/Data/Preprocessed/Raw/1000/fold_{fold}/train/{train_filename}' \n",
    "        source = f'FinalData/RE/Data/Preprocessed/1000/fold_{fold}/train/{train_filename}' \n",
    "        source_dict = {\n",
    "            'Bucket' : bucketname,\n",
    "            'Key' : source\n",
    "        }\n",
    "        \n",
    "        try:\n",
    "            s3.meta.client.copy(source_dict, bucketname, destination)\n",
    "            print(f'Written from {source} \\n to : {destination}')\n",
    "\n",
    "            s3.Object(bucketname, source).delete()\n",
    "            print(f'Deleted {source}')\n",
    "            \n",
    "        except:\n",
    "            print(f'File already moved: {destination}')"
   ]
  },
  {
   "cell_type": "code",
   "execution_count": null,
   "metadata": {},
   "outputs": [],
   "source": []
  },
  {
   "cell_type": "markdown",
   "metadata": {},
   "source": [
    "**Move Vocabulary**"
   ]
  },
  {
   "cell_type": "code",
   "execution_count": 31,
   "metadata": {},
   "outputs": [
    {
     "name": "stdout",
     "output_type": "stream",
     "text": [
      "Written to : FinalData/RE/Data/Preprocessed/Anonymized/1000/fold_0/vocab/vocab_1000_vall_30days\n",
      "Written to : FinalData/RE/Data/Preprocessed/Anonymized/1000/fold_1/vocab/vocab_1000_vall_30days\n",
      "Written to : FinalData/RE/Data/Preprocessed/Anonymized/1000/fold_2/vocab/vocab_1000_vall_30days\n",
      "Written to : FinalData/RE/Data/Preprocessed/Anonymized/1000/fold_3/vocab/vocab_1000_vall_30days\n",
      "Written to : FinalData/RE/Data/Preprocessed/Anonymized/1000/fold_4/vocab/vocab_1000_vall_30days\n",
      "Written to : FinalData/RE/Data/Preprocessed/Anonymized/1000/fold_0/vocab/vocab_1000_vall_365days\n",
      "Written to : FinalData/RE/Data/Preprocessed/Anonymized/1000/fold_1/vocab/vocab_1000_vall_365days\n",
      "Written to : FinalData/RE/Data/Preprocessed/Anonymized/1000/fold_2/vocab/vocab_1000_vall_365days\n",
      "Written to : FinalData/RE/Data/Preprocessed/Anonymized/1000/fold_3/vocab/vocab_1000_vall_365days\n",
      "Written to : FinalData/RE/Data/Preprocessed/Anonymized/1000/fold_4/vocab/vocab_1000_vall_365days\n"
     ]
    }
   ],
   "source": [
    "vocab_filenames = ['vocab_1000_vall_30days', 'vocab_1000_vall_365days']\n",
    "for vocab_filename in vocab_filenames:\n",
    "    for fold in range(5):\n",
    "        destination = f'FinalData/RE/Data/Preprocessed/Anonymized/1000/fold_{fold}/vocab/{vocab_filename}' \n",
    "        s3.meta.client.upload_file(fp, 'cmsai-mrk-amzn', destination)\n",
    "        print(f'Written to : {destination}')"
   ]
  },
  {
   "cell_type": "code",
   "execution_count": null,
   "metadata": {},
   "outputs": [],
   "source": []
  }
 ],
 "metadata": {
  "kernelspec": {
   "display_name": "conda_pytorch_latest_p36",
   "language": "python",
   "name": "conda_pytorch_latest_p36"
  },
  "language_info": {
   "codemirror_mode": {
    "name": "ipython",
    "version": 3
   },
   "file_extension": ".py",
   "mimetype": "text/x-python",
   "name": "python",
   "nbconvert_exporter": "python",
   "pygments_lexer": "ipython3",
   "version": "3.6.10"
  }
 },
 "nbformat": 4,
 "nbformat_minor": 4
}
