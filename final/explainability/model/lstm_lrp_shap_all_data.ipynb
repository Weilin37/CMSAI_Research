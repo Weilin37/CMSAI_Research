{
 "cells": [
  {
   "cell_type": "markdown",
   "metadata": {},
   "source": [
    "## Merge LSTM LRP and SHAP of All Test/Val Data"
   ]
  },
  {
   "cell_type": "code",
   "execution_count": 10,
   "metadata": {},
   "outputs": [],
   "source": [
    "import pickle\n",
    "import os\n",
    "import sys\n",
    "from scipy import stats\n",
    "import numpy as np\n",
    "\n",
    "from imp_utils import *"
   ]
  },
  {
   "cell_type": "code",
   "execution_count": 11,
   "metadata": {},
   "outputs": [],
   "source": [
    "IS_SYNTHETIC = True #Whether data is synthetic\n",
    "SEQ_LEN = 30\n",
    "MODEL_NAME = \"lstm\"\n",
    "DATA_TYPE = \"event\"  # event/sequence\n",
    "BEST_EPOCH = 2\n",
    "DATA_SPLIT = 'val' #val/test\n",
    "\n",
    "RESULTS_DIR = f'./output/synthetic/{DATA_TYPE}/{SEQ_LEN}/{MODEL_NAME}/importances/'\n",
    "\n",
    "SHAP_RESULTS_PATH = os.path.join(RESULTS_DIR, f\"{DATA_SPLIT}_all_shap_{BEST_EPOCH}.pkl\")\n",
    "LRP_RESULTS_PATH = os.path.join(RESULTS_DIR, f\"{DATA_SPLIT}_all_lrp_{BEST_EPOCH}.pkl\")\n",
    "OUTPUT_PATH = os.path.join(RESULTS_DIR, f\"{DATA_SPLIT}_all_lrp_shap_{BEST_EPOCH}.pkl\")"
   ]
  },
  {
   "cell_type": "code",
   "execution_count": 29,
   "metadata": {},
   "outputs": [],
   "source": [
    "with open(SHAP_RESULTS_PATH, 'rb') as fp:\n",
    "    shap_results = pickle.load(fp)\n",
    "    \n",
    "with open(LRP_RESULTS_PATH, 'rb') as fp:\n",
    "    lrp_results = pickle.load(fp)"
   ]
  },
  {
   "cell_type": "code",
   "execution_count": 31,
   "metadata": {},
   "outputs": [
    {
     "name": "stdout",
     "output_type": "stream",
     "text": [
      "LRP: 7000\n",
      "SHAP: 7000\n"
     ]
    }
   ],
   "source": [
    "print(f\"LRP: {len(lrp_results[BEST_EPOCH])}\")\n",
    "print(f\"SHAP: {len(shap_results[BEST_EPOCH])}\")\n",
    "assert len(lrp_results[BEST_EPOCH]) == len(shap_results[BEST_EPOCH])"
   ]
  },
  {
   "cell_type": "markdown",
   "metadata": {},
   "source": [
    "## Merge LRP and SHAP scores"
   ]
  },
  {
   "cell_type": "code",
   "execution_count": 32,
   "metadata": {},
   "outputs": [],
   "source": [
    "for pid in lrp_results[BEST_EPOCH].keys():\n",
    "    orig_len = lrp_results[BEST_EPOCH][pid][\"imp\"].shape[0]\n",
    "    lrp_results[BEST_EPOCH][pid][\"imp\"] = lrp_results[BEST_EPOCH][pid][\"imp\"].merge(\n",
    "        shap_results[BEST_EPOCH][pid][\"imp\"], on=[\"seq_idx\", \"token\"]\n",
    "    )\n",
    "    assert orig_len == lrp_results[BEST_EPOCH][pid][\"imp\"].shape[0]\n",
    "    lrp_results[BEST_EPOCH][pid][\"imp\"] = lrp_results[BEST_EPOCH][pid][\"imp\"][\n",
    "        [\"idx\", \"seq_idx\", \"token\", \"att_weights\", \"lrp_scores\", \"shap_scores\"]\n",
    "    ]\n",
    "results = lrp_results"
   ]
  },
  {
   "cell_type": "markdown",
   "metadata": {},
   "source": [
    "## Calculate similarity scores"
   ]
  },
  {
   "cell_type": "code",
   "execution_count": 35,
   "metadata": {},
   "outputs": [],
   "source": [
    "# calculate similarity indexes\n",
    "epoch_lrp_shap_t_corr = []\n",
    "epoch_lrp_sim = []\n",
    "epoch_shap_sim = []"
   ]
  },
  {
   "cell_type": "code",
   "execution_count": null,
   "metadata": {},
   "outputs": [],
   "source": []
  },
  {
   "cell_type": "code",
   "execution_count": 36,
   "metadata": {},
   "outputs": [],
   "source": [
    "for pid in results[BEST_EPOCH].keys():\n",
    "    imp_df = results[BEST_EPOCH][pid][\"imp\"]\n",
    "    imp_df[\"u_token\"] = [\n",
    "        str(seq) + \"_\" + str(token)\n",
    "        for seq, token in zip(imp_df[\"seq_idx\"], imp_df[\"token\"])\n",
    "    ]\n",
    "    results[BEST_EPOCH][pid][\"lrp_shap_t_corr\"] = get_wtau(\n",
    "        imp_df[\"lrp_scores\"], imp_df[\"shap_scores\"]\n",
    "    )\n",
    "\n",
    "    # gt similarity\n",
    "    lrp_sim = imp_utils.get_intersection_similarity(\n",
    "        imp_df.lrp_scores, imp_df.token, freedom=0, is_synthetic=IS_SYNTHETIC\n",
    "    )\n",
    "    shap_sim = imp_utils.get_intersection_similarity(\n",
    "        imp_df.shap_scores, imp_df.token, freedom=0, is_synthetic=IS_SYNTHETIC\n",
    "    )\n",
    "    att_sim = imp_utils.get_intersection_similarity(\n",
    "        imp_df.att_weights, imp_df.token, freedom=0, is_synthetic=IS_SYNTHETIC\n",
    "    )\n",
    "    results[BEST_EPOCH][pid][\"lrp_sim\"] = lrp_sim\n",
    "    results[BEST_EPOCH][pid][\"shap_sim\"] = shap_sim\n",
    "    results[BEST_EPOCH][pid][\"att_sim\"] = att_sim"
   ]
  },
  {
   "cell_type": "code",
   "execution_count": 37,
   "metadata": {},
   "outputs": [
    {
     "data": {
      "text/html": [
       "<div>\n",
       "<style scoped>\n",
       "    .dataframe tbody tr th:only-of-type {\n",
       "        vertical-align: middle;\n",
       "    }\n",
       "\n",
       "    .dataframe tbody tr th {\n",
       "        vertical-align: top;\n",
       "    }\n",
       "\n",
       "    .dataframe thead th {\n",
       "        text-align: right;\n",
       "    }\n",
       "</style>\n",
       "<table border=\"1\" class=\"dataframe\">\n",
       "  <thead>\n",
       "    <tr style=\"text-align: right;\">\n",
       "      <th></th>\n",
       "      <th>idx</th>\n",
       "      <th>seq_idx</th>\n",
       "      <th>token</th>\n",
       "      <th>att_weights</th>\n",
       "      <th>lrp_scores</th>\n",
       "      <th>shap_scores</th>\n",
       "      <th>u_token</th>\n",
       "    </tr>\n",
       "  </thead>\n",
       "  <tbody>\n",
       "    <tr>\n",
       "      <th>0</th>\n",
       "      <td>3</td>\n",
       "      <td>0</td>\n",
       "      <td>ankle_sprain_N</td>\n",
       "      <td>0.002363</td>\n",
       "      <td>-0.570503</td>\n",
       "      <td>-0.019583</td>\n",
       "      <td>0_ankle_sprain_N</td>\n",
       "    </tr>\n",
       "    <tr>\n",
       "      <th>1</th>\n",
       "      <td>4</td>\n",
       "      <td>1</td>\n",
       "      <td>headache_N</td>\n",
       "      <td>0.003156</td>\n",
       "      <td>-0.833891</td>\n",
       "      <td>-0.012810</td>\n",
       "      <td>1_headache_N</td>\n",
       "    </tr>\n",
       "    <tr>\n",
       "      <th>2</th>\n",
       "      <td>2</td>\n",
       "      <td>2</td>\n",
       "      <td>backache_N</td>\n",
       "      <td>0.006852</td>\n",
       "      <td>-1.070633</td>\n",
       "      <td>-0.016969</td>\n",
       "      <td>2_backache_N</td>\n",
       "    </tr>\n",
       "    <tr>\n",
       "      <th>3</th>\n",
       "      <td>18</td>\n",
       "      <td>3</td>\n",
       "      <td>peanut_allergy_N</td>\n",
       "      <td>0.022434</td>\n",
       "      <td>-1.016982</td>\n",
       "      <td>-0.020836</td>\n",
       "      <td>3_peanut_allergy_N</td>\n",
       "    </tr>\n",
       "    <tr>\n",
       "      <th>4</th>\n",
       "      <td>20</td>\n",
       "      <td>4</td>\n",
       "      <td>metabolic_disorder_H</td>\n",
       "      <td>0.059690</td>\n",
       "      <td>7.179713</td>\n",
       "      <td>0.118016</td>\n",
       "      <td>4_metabolic_disorder_H</td>\n",
       "    </tr>\n",
       "  </tbody>\n",
       "</table>\n",
       "</div>"
      ],
      "text/plain": [
       "   idx  seq_idx                 token  att_weights  lrp_scores  shap_scores  \\\n",
       "0    3        0        ankle_sprain_N     0.002363   -0.570503    -0.019583   \n",
       "1    4        1            headache_N     0.003156   -0.833891    -0.012810   \n",
       "2    2        2            backache_N     0.006852   -1.070633    -0.016969   \n",
       "3   18        3      peanut_allergy_N     0.022434   -1.016982    -0.020836   \n",
       "4   20        4  metabolic_disorder_H     0.059690    7.179713     0.118016   \n",
       "\n",
       "                  u_token  \n",
       "0        0_ankle_sprain_N  \n",
       "1            1_headache_N  \n",
       "2            2_backache_N  \n",
       "3      3_peanut_allergy_N  \n",
       "4  4_metabolic_disorder_H  "
      ]
     },
     "execution_count": 37,
     "metadata": {},
     "output_type": "execute_result"
    }
   ],
   "source": [
    "results[BEST_EPOCH][pid]['imp'].head()"
   ]
  },
  {
   "cell_type": "markdown",
   "metadata": {},
   "source": [
    "## Save all combined results"
   ]
  },
  {
   "cell_type": "code",
   "execution_count": 39,
   "metadata": {},
   "outputs": [],
   "source": [
    "with open(OUTPUT_PATH, 'wb') as fpath:\n",
    "    pickle.dump(results, fpath)\n",
    "print(f'Importance Scores Successfully Merged and Saved to {OUTPUT_PATH}!')"
   ]
  },
  {
   "cell_type": "code",
   "execution_count": null,
   "metadata": {},
   "outputs": [],
   "source": []
  }
 ],
 "metadata": {
  "kernelspec": {
   "display_name": "conda_pytorch_p36",
   "language": "python",
   "name": "conda_pytorch_p36"
  },
  "language_info": {
   "codemirror_mode": {
    "name": "ipython",
    "version": 3
   },
   "file_extension": ".py",
   "mimetype": "text/x-python",
   "name": "python",
   "nbconvert_exporter": "python",
   "pygments_lexer": "ipython3",
   "version": "3.6.13"
  }
 },
 "nbformat": 4,
 "nbformat_minor": 4
}
