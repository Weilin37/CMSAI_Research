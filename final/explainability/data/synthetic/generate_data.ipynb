{
 "cells": [
  {
   "cell_type": "markdown",
   "metadata": {},
   "source": [
    "## Generating Synthetic Dataset\n",
    "**Authors:**<br>\n",
    "Lin Lee Cheong <br>\n",
    "Tesfagabir Meharizghi<br>\n",
    "Guang Yang<br>\n",
    "\n",
    "**Date:**<br>\n",
    "03/31/2021\n",
    "\n",
    "## Introduction\n",
    "The purpose of this notebook is to generate synthetic datasets that mimic medical claims datasets while maintaining sufficient ground truth understanding the different model explainability methods, such as attention weights, SHAP and LRP. Each patient is assigned a series of events, with events as proxies of real diagnosis, procedure and medication billing codes. Events fall into four categories: adverse (A), helper (H), unhelper (U) and noise (N). Adverse (A) and helper (H) events represent severe disease diagnoses and lead to higher probabilities of a bad outcome or positive label. Unhelper (U) events symbolize low risk, rewarding procedures that decrease the likelihood of adverse outcome. Noise(N) events represent insignificant, temporary side effects and does not impact the final outcome. Each dataset is categorized in to 7 groups based on the number of non-noise tokens in the sequence. These are:\n",
    "\n",
    "* `AAH` → 2 adverse and 1 helper tokens\n",
    "* `AHH` → 1 adverse and 2 helper tokens\n",
    "* `AH` → 1 adverse and 1 helper tokens\n",
    "* `AU` → 1 helper and 1 unhelper tokens\n",
    "* `AUU` → 1 adverse and 2 unhelper tokens\n",
    "* `HUU` → 1 helper and 2 unhelper tokens\n",
    "* `UU` → 2 unhelper tokens\n",
    "\n",
    "There are two types of datasets generated here:\n",
    "\n",
    "### Event-based Dataset\n",
    "In this type of dataset, the presence or absence of a set of events or tokens, without regard to the sequence of events, is the primary driver of binary outcome labels. The positive label for each category is driven as follows:\n",
    "Total number of observations\n",
    "* `AAH` → 90% of being positive label\n",
    "* `AHH` → 80% of being positive label\n",
    "* `AH` → 70% of being positive label\n",
    "* `AU` → 40% of being positive label\n",
    "* `AUU` → 30% of being positive label\n",
    "* `HUU` → 20% of being positive label\n",
    "* `UU` → 10% of being positive label\n",
    "\n",
    "### Sequence-based Dataset\n",
    "These type dataset has a temporal effect where more recent events have a bigger impact on the outcome in the near future.\n",
    "\n",
    "Positive label is driven by a sequence of tokens\n",
    "- Positive label probability is driven by the following formula\n",
    "``` min(1.0, math.exp(-(a * ta)) + math.exp(-(h * th)) - math.exp(-(u * tu))) ```\n",
    "Where:\n",
    "- `a` is a constant related to `_A` events. It is the inverse of the contribution of `_A` events for positive label\n",
    "- `h` is a constant related to `_H` events. It is the inverse of the contribution of `_H` events for positive label\n",
    "- `u` is a constant related to `_U` events. It is the inverse of the contribution of `_U` events for positive label\n",
    "\n",
    "- `ta` is the absolute position of the `_A` event in the sequence from the end.\n",
    "- `th` is the absolute position of the `_H` event in the sequence from the end.\n",
    "- `tu` is the absolute position of the `_U` event in the sequence from the end.\n",
    "\n",
    "For more information, refer to this [paper](https://)"
   ]
  },
  {
   "cell_type": "markdown",
   "metadata": {},
   "source": [
    "## Load Python Packages"
   ]
  },
  {
   "cell_type": "code",
   "execution_count": 1,
   "metadata": {},
   "outputs": [
    {
     "data": {
      "application/javascript": [
       "\n",
       "            setTimeout(function() {\n",
       "                var nbb_cell_id = 1;\n",
       "                var nbb_unformatted_code = \"%load_ext nb_black\\n\\n%load_ext autoreload\\n\\n%autoreload 2\";\n",
       "                var nbb_formatted_code = \"%load_ext nb_black\\n\\n%load_ext autoreload\\n\\n%autoreload 2\";\n",
       "                var nbb_cells = Jupyter.notebook.get_cells();\n",
       "                for (var i = 0; i < nbb_cells.length; ++i) {\n",
       "                    if (nbb_cells[i].input_prompt_number == nbb_cell_id) {\n",
       "                        if (nbb_cells[i].get_text() == nbb_unformatted_code) {\n",
       "                             nbb_cells[i].set_text(nbb_formatted_code);\n",
       "                        }\n",
       "                        break;\n",
       "                    }\n",
       "                }\n",
       "            }, 500);\n",
       "            "
      ],
      "text/plain": [
       "<IPython.core.display.Javascript object>"
      ]
     },
     "metadata": {},
     "output_type": "display_data"
    }
   ],
   "source": [
    "%load_ext nb_black\n",
    "\n",
    "%load_ext autoreload\n",
    "\n",
    "%autoreload 2"
   ]
  },
  {
   "cell_type": "code",
   "execution_count": 2,
   "metadata": {},
   "outputs": [
    {
     "data": {
      "application/javascript": [
       "\n",
       "            setTimeout(function() {\n",
       "                var nbb_cell_id = 2;\n",
       "                var nbb_unformatted_code = \"import yaml\\nimport string\\nimport os\\nimport numpy as np\\nimport pandas as pd\\nimport math\\nimport random\\nimport json\\nimport seaborn as sns\\nimport matplotlib.pyplot as plt\\n\\nimport utils\";\n",
       "                var nbb_formatted_code = \"import yaml\\nimport string\\nimport os\\nimport numpy as np\\nimport pandas as pd\\nimport math\\nimport random\\nimport json\\nimport seaborn as sns\\nimport matplotlib.pyplot as plt\\n\\nimport utils\";\n",
       "                var nbb_cells = Jupyter.notebook.get_cells();\n",
       "                for (var i = 0; i < nbb_cells.length; ++i) {\n",
       "                    if (nbb_cells[i].input_prompt_number == nbb_cell_id) {\n",
       "                        if (nbb_cells[i].get_text() == nbb_unformatted_code) {\n",
       "                             nbb_cells[i].set_text(nbb_formatted_code);\n",
       "                        }\n",
       "                        break;\n",
       "                    }\n",
       "                }\n",
       "            }, 500);\n",
       "            "
      ],
      "text/plain": [
       "<IPython.core.display.Javascript object>"
      ]
     },
     "metadata": {},
     "output_type": "display_data"
    }
   ],
   "source": [
    "import yaml\n",
    "import string\n",
    "import os\n",
    "import numpy as np\n",
    "import pandas as pd\n",
    "import math\n",
    "import random\n",
    "import json\n",
    "import seaborn as sns\n",
    "import matplotlib.pyplot as plt\n",
    "\n",
    "import utils"
   ]
  },
  {
   "cell_type": "markdown",
   "metadata": {},
   "source": [
    "## Define Constants"
   ]
  },
  {
   "cell_type": "code",
   "execution_count": 3,
   "metadata": {},
   "outputs": [
    {
     "data": {
      "application/javascript": [
       "\n",
       "            setTimeout(function() {\n",
       "                var nbb_cell_id = 3;\n",
       "                var nbb_unformatted_code = \"SEQ_LEN = 30\\nTOKENS_PATH = \\\"./tokens.yaml\\\"\\n\\n#Paths for event-based dataset\\nEVENT_TRAIN_PATH = f\\\"data/event/{SEQ_LEN}/train.csv\\\"\\nEVENT_VAL_PATH = f\\\"data/event/{SEQ_LEN}/val.csv\\\"\\nEVENT_TEST_PATH = f\\\"data/event/{SEQ_LEN}/test.csv\\\"\\n\\n#Paths for sequence-based dataset\\nSEQUENCE_TRAIN_PATH = f\\\"data/sequence/{SEQ_LEN}/train.csv\\\"\\nSEQUENCE_VAL_PATH = f\\\"data/sequence/{SEQ_LEN}/val.csv\\\"\\nSEQUENCE_TEST_PATH = f\\\"data/sequence/{SEQ_LEN}/test.csv\\\"\\n\\nUID_COLNAME = \\\"patient_id\\\" #Unique ID Column Name\\nUID_LEN = 10 #Patient ID Length\\n\\nSEQUENCE_TYPES = ['AAH', 'AHH', 'AH', 'HU', 'AUU', 'HUU', 'UU']\\nSEQUENCE_BASE_PROBS = [0.9, 0.8, 0.7, 0.4, 0.3, 0.2, 0.1]\\n\\n# Total patients in the each data split\\nN_TRAIN = 21000\\nN_VAL = 7000\\nN_TEST = 7000\\n\\n#Total patients for each group/category\\nN_TRAIN_PER_SEQ_TYPE = N_TRAIN//len(SEQUENCE_TYPES)\\nN_VAL_PER_SEQ_TYPE = N_VAL//len(SEQUENCE_TYPES)\\nN_TEST_PER_SEQ_TYPE = N_TEST//len(SEQUENCE_TYPES)\\n\\n# Mappings of the token groups with the abbreviation\\nTOKEN_MAPPINGS = {\\n    \\\"A\\\": \\\"adverse_tokens\\\",\\n    \\\"H\\\": \\\"adverse_helper_tokens\\\",\\n    \\\"U\\\": \\\"adverse_unhelper_tokens\\\",\\n}\";\n",
       "                var nbb_formatted_code = \"SEQ_LEN = 30\\nTOKENS_PATH = \\\"./tokens.yaml\\\"\\n\\n# Paths for event-based dataset\\nEVENT_TRAIN_PATH = f\\\"data/event/{SEQ_LEN}/train.csv\\\"\\nEVENT_VAL_PATH = f\\\"data/event/{SEQ_LEN}/val.csv\\\"\\nEVENT_TEST_PATH = f\\\"data/event/{SEQ_LEN}/test.csv\\\"\\n\\n# Paths for sequence-based dataset\\nSEQUENCE_TRAIN_PATH = f\\\"data/sequence/{SEQ_LEN}/train.csv\\\"\\nSEQUENCE_VAL_PATH = f\\\"data/sequence/{SEQ_LEN}/val.csv\\\"\\nSEQUENCE_TEST_PATH = f\\\"data/sequence/{SEQ_LEN}/test.csv\\\"\\n\\nUID_COLNAME = \\\"patient_id\\\"  # Unique ID Column Name\\nUID_LEN = 10  # Patient ID Length\\n\\nSEQUENCE_TYPES = [\\\"AAH\\\", \\\"AHH\\\", \\\"AH\\\", \\\"HU\\\", \\\"AUU\\\", \\\"HUU\\\", \\\"UU\\\"]\\nSEQUENCE_BASE_PROBS = [0.9, 0.8, 0.7, 0.4, 0.3, 0.2, 0.1]\\n\\n# Total patients in the each data split\\nN_TRAIN = 21000\\nN_VAL = 7000\\nN_TEST = 7000\\n\\n# Total patients for each group/category\\nN_TRAIN_PER_SEQ_TYPE = N_TRAIN // len(SEQUENCE_TYPES)\\nN_VAL_PER_SEQ_TYPE = N_VAL // len(SEQUENCE_TYPES)\\nN_TEST_PER_SEQ_TYPE = N_TEST // len(SEQUENCE_TYPES)\\n\\n# Mappings of the token groups with the abbreviation\\nTOKEN_MAPPINGS = {\\n    \\\"A\\\": \\\"adverse_tokens\\\",\\n    \\\"H\\\": \\\"adverse_helper_tokens\\\",\\n    \\\"U\\\": \\\"adverse_unhelper_tokens\\\",\\n}\";\n",
       "                var nbb_cells = Jupyter.notebook.get_cells();\n",
       "                for (var i = 0; i < nbb_cells.length; ++i) {\n",
       "                    if (nbb_cells[i].input_prompt_number == nbb_cell_id) {\n",
       "                        if (nbb_cells[i].get_text() == nbb_unformatted_code) {\n",
       "                             nbb_cells[i].set_text(nbb_formatted_code);\n",
       "                        }\n",
       "                        break;\n",
       "                    }\n",
       "                }\n",
       "            }, 500);\n",
       "            "
      ],
      "text/plain": [
       "<IPython.core.display.Javascript object>"
      ]
     },
     "metadata": {},
     "output_type": "display_data"
    }
   ],
   "source": [
    "SEQ_LEN = 30\n",
    "TOKENS_PATH = \"./tokens.yaml\"\n",
    "\n",
    "#Paths for event-based dataset\n",
    "EVENT_TRAIN_PATH = f\"data/event/{SEQ_LEN}/train.csv\"\n",
    "EVENT_VAL_PATH = f\"data/event/{SEQ_LEN}/val.csv\"\n",
    "EVENT_TEST_PATH = f\"data/event/{SEQ_LEN}/test.csv\"\n",
    "\n",
    "#Paths for sequence-based dataset\n",
    "SEQUENCE_TRAIN_PATH = f\"data/sequence/{SEQ_LEN}/train.csv\"\n",
    "SEQUENCE_VAL_PATH = f\"data/sequence/{SEQ_LEN}/val.csv\"\n",
    "SEQUENCE_TEST_PATH = f\"data/sequence/{SEQ_LEN}/test.csv\"\n",
    "\n",
    "UID_COLNAME = \"patient_id\" #Unique ID Column Name\n",
    "UID_LEN = 10 #Patient ID Length\n",
    "\n",
    "SEQUENCE_TYPES = ['AAH', 'AHH', 'AH', 'HU', 'AUU', 'HUU', 'UU']\n",
    "SEQUENCE_BASE_PROBS = [0.9, 0.8, 0.7, 0.4, 0.3, 0.2, 0.1]\n",
    "\n",
    "# Total patients in the each data split\n",
    "N_TRAIN = 21000\n",
    "N_VAL = 7000\n",
    "N_TEST = 7000\n",
    "\n",
    "#Total patients for each group/category\n",
    "N_TRAIN_PER_SEQ_TYPE = N_TRAIN//len(SEQUENCE_TYPES)\n",
    "N_VAL_PER_SEQ_TYPE = N_VAL//len(SEQUENCE_TYPES)\n",
    "N_TEST_PER_SEQ_TYPE = N_TEST//len(SEQUENCE_TYPES)\n",
    "\n",
    "# Mappings of the token groups with the abbreviation\n",
    "TOKEN_MAPPINGS = {\n",
    "    \"A\": \"adverse_tokens\",\n",
    "    \"H\": \"adverse_helper_tokens\",\n",
    "    \"U\": \"adverse_unhelper_tokens\",\n",
    "}"
   ]
  },
  {
   "cell_type": "markdown",
   "metadata": {},
   "source": [
    "## Generate Dataset"
   ]
  },
  {
   "cell_type": "code",
   "execution_count": 4,
   "metadata": {},
   "outputs": [
    {
     "name": "stdout",
     "output_type": "stream",
     "text": [
      "adverse_tokens: 10 tokens\n",
      "adverse_helper_tokens: 10 tokens\n",
      "adverse_unhelper_tokens: 10 tokens\n",
      "noise_tokens: 15 tokens\n"
     ]
    },
    {
     "data": {
      "application/javascript": [
       "\n",
       "            setTimeout(function() {\n",
       "                var nbb_cell_id = 4;\n",
       "                var nbb_unformatted_code = \"# Load tokens from yaml file path\\ntokens = utils.load_tokens(TOKENS_PATH)\\nfor key in tokens.keys():\\n    print(f\\\"{key}: {len(tokens[key])} tokens\\\")\";\n",
       "                var nbb_formatted_code = \"# Load tokens from yaml file path\\ntokens = utils.load_tokens(TOKENS_PATH)\\nfor key in tokens.keys():\\n    print(f\\\"{key}: {len(tokens[key])} tokens\\\")\";\n",
       "                var nbb_cells = Jupyter.notebook.get_cells();\n",
       "                for (var i = 0; i < nbb_cells.length; ++i) {\n",
       "                    if (nbb_cells[i].input_prompt_number == nbb_cell_id) {\n",
       "                        if (nbb_cells[i].get_text() == nbb_unformatted_code) {\n",
       "                             nbb_cells[i].set_text(nbb_formatted_code);\n",
       "                        }\n",
       "                        break;\n",
       "                    }\n",
       "                }\n",
       "            }, 500);\n",
       "            "
      ],
      "text/plain": [
       "<IPython.core.display.Javascript object>"
      ]
     },
     "metadata": {},
     "output_type": "display_data"
    }
   ],
   "source": [
    "# Load tokens from yaml file path\n",
    "tokens = utils.load_tokens(TOKENS_PATH)\n",
    "for key in tokens.keys():\n",
    "    print(f\"{key}: {len(tokens[key])} tokens\")"
   ]
  },
  {
   "cell_type": "code",
   "execution_count": 5,
   "metadata": {},
   "outputs": [
    {
     "name": "stdout",
     "output_type": "stream",
     "text": [
      "adverse_tokens\n",
      "Total: 10\n",
      "['Acute_Myocardial_Infarction_A', 'hypertension_A', 'arrhythmia_A', 'congestive_heart_failure_A', 'heart_valve_failure_A', 'pulmonary_embolism_A', 'ventricular_aneurysm_A', 'ventricular_hypertrophy_A', 'cardiomyopathy_A', 'Chronic_Obstructive_Pulmonary_Disease_A']\n",
      "--------------------------------------------------\n",
      "adverse_helper_tokens\n",
      "Total: 10\n",
      "['sleep_apnea_H', 'pneumonia_H', 'coronary_artery_disease_H', 'edema_H', 'troponin_H', 'Brain_Natriuretic_Peptide_H', 'alchoholism_H', 'metabolic_disorder_H', 'elevated_creatinine_H', 'electrolyte_imbalance_H']\n",
      "--------------------------------------------------\n",
      "adverse_unhelper_tokens\n",
      "Total: 10\n",
      "['Percutaneous_Coronary_Intervention_U', 'electrical_cardioversion_U', 'catheter_ablation_U', 'pacemaker_U', 'cardiac_rehab_U', 'sleep_apnea_treatment_U', 'ACE_inhibitors_U', 'ARB_U', 'diuretics_U', 'beta_blockers_U']\n",
      "--------------------------------------------------\n",
      "noise_tokens\n",
      "Total: 15\n",
      "['eye_exam_N', 'annual_physical_N', 'hay_fever_N', 'headache_N', 'foot_pain_N', 'backache_N', 'cold_sore_N', 'myopia_N', 'cut_finger_N', 'ankle_sprain_N', 'ACL_tear_N', 'quad_injury_N', 'dental_exam_N', 'ingrown_nail_N', 'peanut_allergy_N']\n",
      "--------------------------------------------------\n"
     ]
    },
    {
     "data": {
      "application/javascript": [
       "\n",
       "            setTimeout(function() {\n",
       "                var nbb_cell_id = 5;\n",
       "                var nbb_unformatted_code = \"#Display all tokens\\nfor key, tok in tokens.items():\\n    print(key)\\n    print(f'Total: {len(tok)}')\\n    print(tok)\\n    print(\\\"-\\\" * 50)\";\n",
       "                var nbb_formatted_code = \"# Display all tokens\\nfor key, tok in tokens.items():\\n    print(key)\\n    print(f\\\"Total: {len(tok)}\\\")\\n    print(tok)\\n    print(\\\"-\\\" * 50)\";\n",
       "                var nbb_cells = Jupyter.notebook.get_cells();\n",
       "                for (var i = 0; i < nbb_cells.length; ++i) {\n",
       "                    if (nbb_cells[i].input_prompt_number == nbb_cell_id) {\n",
       "                        if (nbb_cells[i].get_text() == nbb_unformatted_code) {\n",
       "                             nbb_cells[i].set_text(nbb_formatted_code);\n",
       "                        }\n",
       "                        break;\n",
       "                    }\n",
       "                }\n",
       "            }, 500);\n",
       "            "
      ],
      "text/plain": [
       "<IPython.core.display.Javascript object>"
      ]
     },
     "metadata": {},
     "output_type": "display_data"
    }
   ],
   "source": [
    "#Display all tokens\n",
    "for key, tok in tokens.items():\n",
    "    print(key)\n",
    "    print(f'Total: {len(tok)}')\n",
    "    print(tok)\n",
    "    print(\"-\" * 50)"
   ]
  },
  {
   "cell_type": "markdown",
   "metadata": {},
   "source": [
    "### Generate sequence of events for each patient (without target labels)"
   ]
  },
  {
   "cell_type": "code",
   "execution_count": 6,
   "metadata": {},
   "outputs": [
    {
     "data": {
      "application/javascript": [
       "\n",
       "            setTimeout(function() {\n",
       "                var nbb_cell_id = 6;\n",
       "                var nbb_unformatted_code = \"#Train data\\ndf_train = utils.get_sequences(SEQ_LEN, \\n                   tokens=tokens, \\n                   token_mappings=TOKEN_MAPPINGS, \\n                   seq_types=SEQUENCE_TYPES, \\n                   n_seq_per_type=N_TRAIN_PER_SEQ_TYPE, \\n                   uid_colname=UID_COLNAME, \\n                   uid_len=UID_LEN\\n                  )\\n\\n#Validation data\\ndf_val = utils.get_sequences(SEQ_LEN, \\n                   tokens=tokens, \\n                   token_mappings=TOKEN_MAPPINGS, \\n                   seq_types=SEQUENCE_TYPES, \\n                   n_seq_per_type=N_VAL_PER_SEQ_TYPE, \\n                   uid_colname=UID_COLNAME, \\n                   uid_len=UID_LEN\\n                  )\\n\\n#Test data\\ndf_test = utils.get_sequences(SEQ_LEN, \\n                   tokens=tokens, \\n                   token_mappings=TOKEN_MAPPINGS, \\n                   seq_types=SEQUENCE_TYPES, \\n                   n_seq_per_type=N_TEST_PER_SEQ_TYPE, \\n                   uid_colname=UID_COLNAME, \\n                   uid_len=UID_LEN\\n                  )\";\n",
       "                var nbb_formatted_code = \"# Train data\\ndf_train = utils.get_sequences(\\n    SEQ_LEN,\\n    tokens=tokens,\\n    token_mappings=TOKEN_MAPPINGS,\\n    seq_types=SEQUENCE_TYPES,\\n    n_seq_per_type=N_TRAIN_PER_SEQ_TYPE,\\n    uid_colname=UID_COLNAME,\\n    uid_len=UID_LEN,\\n)\\n\\n# Validation data\\ndf_val = utils.get_sequences(\\n    SEQ_LEN,\\n    tokens=tokens,\\n    token_mappings=TOKEN_MAPPINGS,\\n    seq_types=SEQUENCE_TYPES,\\n    n_seq_per_type=N_VAL_PER_SEQ_TYPE,\\n    uid_colname=UID_COLNAME,\\n    uid_len=UID_LEN,\\n)\\n\\n# Test data\\ndf_test = utils.get_sequences(\\n    SEQ_LEN,\\n    tokens=tokens,\\n    token_mappings=TOKEN_MAPPINGS,\\n    seq_types=SEQUENCE_TYPES,\\n    n_seq_per_type=N_TEST_PER_SEQ_TYPE,\\n    uid_colname=UID_COLNAME,\\n    uid_len=UID_LEN,\\n)\";\n",
       "                var nbb_cells = Jupyter.notebook.get_cells();\n",
       "                for (var i = 0; i < nbb_cells.length; ++i) {\n",
       "                    if (nbb_cells[i].input_prompt_number == nbb_cell_id) {\n",
       "                        if (nbb_cells[i].get_text() == nbb_unformatted_code) {\n",
       "                             nbb_cells[i].set_text(nbb_formatted_code);\n",
       "                        }\n",
       "                        break;\n",
       "                    }\n",
       "                }\n",
       "            }, 500);\n",
       "            "
      ],
      "text/plain": [
       "<IPython.core.display.Javascript object>"
      ]
     },
     "metadata": {},
     "output_type": "display_data"
    }
   ],
   "source": [
    "#Train data\n",
    "df_train = utils.get_sequences(SEQ_LEN, \n",
    "                   tokens=tokens, \n",
    "                   token_mappings=TOKEN_MAPPINGS, \n",
    "                   seq_types=SEQUENCE_TYPES, \n",
    "                   n_seq_per_type=N_TRAIN_PER_SEQ_TYPE, \n",
    "                   uid_colname=UID_COLNAME, \n",
    "                   uid_len=UID_LEN\n",
    "                  )\n",
    "\n",
    "#Validation data\n",
    "df_val = utils.get_sequences(SEQ_LEN, \n",
    "                   tokens=tokens, \n",
    "                   token_mappings=TOKEN_MAPPINGS, \n",
    "                   seq_types=SEQUENCE_TYPES, \n",
    "                   n_seq_per_type=N_VAL_PER_SEQ_TYPE, \n",
    "                   uid_colname=UID_COLNAME, \n",
    "                   uid_len=UID_LEN\n",
    "                  )\n",
    "\n",
    "#Test data\n",
    "df_test = utils.get_sequences(SEQ_LEN, \n",
    "                   tokens=tokens, \n",
    "                   token_mappings=TOKEN_MAPPINGS, \n",
    "                   seq_types=SEQUENCE_TYPES, \n",
    "                   n_seq_per_type=N_TEST_PER_SEQ_TYPE, \n",
    "                   uid_colname=UID_COLNAME, \n",
    "                   uid_len=UID_LEN\n",
    "                  )"
   ]
  },
  {
   "cell_type": "code",
   "execution_count": 7,
   "metadata": {},
   "outputs": [
    {
     "name": "stdout",
     "output_type": "stream",
     "text": [
      "Train: (21000, 31), Val: (7000, 31), Test: (7000, 31)\n"
     ]
    },
    {
     "data": {
      "application/javascript": [
       "\n",
       "            setTimeout(function() {\n",
       "                var nbb_cell_id = 7;\n",
       "                var nbb_unformatted_code = \"print(f'Train: {df_train.shape}, Val: {df_val.shape}, Test: {df_test.shape}')\";\n",
       "                var nbb_formatted_code = \"print(f\\\"Train: {df_train.shape}, Val: {df_val.shape}, Test: {df_test.shape}\\\")\";\n",
       "                var nbb_cells = Jupyter.notebook.get_cells();\n",
       "                for (var i = 0; i < nbb_cells.length; ++i) {\n",
       "                    if (nbb_cells[i].input_prompt_number == nbb_cell_id) {\n",
       "                        if (nbb_cells[i].get_text() == nbb_unformatted_code) {\n",
       "                             nbb_cells[i].set_text(nbb_formatted_code);\n",
       "                        }\n",
       "                        break;\n",
       "                    }\n",
       "                }\n",
       "            }, 500);\n",
       "            "
      ],
      "text/plain": [
       "<IPython.core.display.Javascript object>"
      ]
     },
     "metadata": {},
     "output_type": "display_data"
    }
   ],
   "source": [
    "print(f'Train: {df_train.shape}, Val: {df_val.shape}, Test: {df_test.shape}')"
   ]
  },
  {
   "cell_type": "code",
   "execution_count": 8,
   "metadata": {},
   "outputs": [
    {
     "data": {
      "text/html": [
       "<div>\n",
       "<style scoped>\n",
       "    .dataframe tbody tr th:only-of-type {\n",
       "        vertical-align: middle;\n",
       "    }\n",
       "\n",
       "    .dataframe tbody tr th {\n",
       "        vertical-align: top;\n",
       "    }\n",
       "\n",
       "    .dataframe thead th {\n",
       "        text-align: right;\n",
       "    }\n",
       "</style>\n",
       "<table border=\"1\" class=\"dataframe\">\n",
       "  <thead>\n",
       "    <tr style=\"text-align: right;\">\n",
       "      <th></th>\n",
       "      <th>29</th>\n",
       "      <th>28</th>\n",
       "      <th>27</th>\n",
       "      <th>26</th>\n",
       "      <th>25</th>\n",
       "      <th>24</th>\n",
       "      <th>23</th>\n",
       "      <th>22</th>\n",
       "      <th>21</th>\n",
       "      <th>20</th>\n",
       "      <th>...</th>\n",
       "      <th>8</th>\n",
       "      <th>7</th>\n",
       "      <th>6</th>\n",
       "      <th>5</th>\n",
       "      <th>4</th>\n",
       "      <th>3</th>\n",
       "      <th>2</th>\n",
       "      <th>1</th>\n",
       "      <th>0</th>\n",
       "      <th>sequence_type</th>\n",
       "    </tr>\n",
       "    <tr>\n",
       "      <th>patient_id</th>\n",
       "      <th></th>\n",
       "      <th></th>\n",
       "      <th></th>\n",
       "      <th></th>\n",
       "      <th></th>\n",
       "      <th></th>\n",
       "      <th></th>\n",
       "      <th></th>\n",
       "      <th></th>\n",
       "      <th></th>\n",
       "      <th></th>\n",
       "      <th></th>\n",
       "      <th></th>\n",
       "      <th></th>\n",
       "      <th></th>\n",
       "      <th></th>\n",
       "      <th></th>\n",
       "      <th></th>\n",
       "      <th></th>\n",
       "      <th></th>\n",
       "      <th></th>\n",
       "    </tr>\n",
       "  </thead>\n",
       "  <tbody>\n",
       "    <tr>\n",
       "      <th>42R8IXZIK2</th>\n",
       "      <td>&lt;pad&gt;</td>\n",
       "      <td>&lt;pad&gt;</td>\n",
       "      <td>&lt;pad&gt;</td>\n",
       "      <td>&lt;pad&gt;</td>\n",
       "      <td>&lt;pad&gt;</td>\n",
       "      <td>&lt;pad&gt;</td>\n",
       "      <td>&lt;pad&gt;</td>\n",
       "      <td>&lt;pad&gt;</td>\n",
       "      <td>&lt;pad&gt;</td>\n",
       "      <td>&lt;pad&gt;</td>\n",
       "      <td>...</td>\n",
       "      <td>eye_exam_N</td>\n",
       "      <td>myopia_N</td>\n",
       "      <td>quad_injury_N</td>\n",
       "      <td>pneumonia_H</td>\n",
       "      <td>hay_fever_N</td>\n",
       "      <td>backache_N</td>\n",
       "      <td>Chronic_Obstructive_Pulmonary_Disease_A</td>\n",
       "      <td>hay_fever_N</td>\n",
       "      <td>dental_exam_N</td>\n",
       "      <td>AH</td>\n",
       "    </tr>\n",
       "    <tr>\n",
       "      <th>YU03GXIPV2</th>\n",
       "      <td>&lt;pad&gt;</td>\n",
       "      <td>&lt;pad&gt;</td>\n",
       "      <td>&lt;pad&gt;</td>\n",
       "      <td>&lt;pad&gt;</td>\n",
       "      <td>&lt;pad&gt;</td>\n",
       "      <td>&lt;pad&gt;</td>\n",
       "      <td>&lt;pad&gt;</td>\n",
       "      <td>&lt;pad&gt;</td>\n",
       "      <td>&lt;pad&gt;</td>\n",
       "      <td>&lt;pad&gt;</td>\n",
       "      <td>...</td>\n",
       "      <td>ACL_tear_N</td>\n",
       "      <td>annual_physical_N</td>\n",
       "      <td>troponin_H</td>\n",
       "      <td>congestive_heart_failure_A</td>\n",
       "      <td>myopia_N</td>\n",
       "      <td>peanut_allergy_N</td>\n",
       "      <td>backache_N</td>\n",
       "      <td>hay_fever_N</td>\n",
       "      <td>myopia_N</td>\n",
       "      <td>AH</td>\n",
       "    </tr>\n",
       "    <tr>\n",
       "      <th>Q1915GS5V5</th>\n",
       "      <td>&lt;pad&gt;</td>\n",
       "      <td>&lt;pad&gt;</td>\n",
       "      <td>&lt;pad&gt;</td>\n",
       "      <td>&lt;pad&gt;</td>\n",
       "      <td>&lt;pad&gt;</td>\n",
       "      <td>&lt;pad&gt;</td>\n",
       "      <td>&lt;pad&gt;</td>\n",
       "      <td>&lt;pad&gt;</td>\n",
       "      <td>&lt;pad&gt;</td>\n",
       "      <td>cut_finger_N</td>\n",
       "      <td>...</td>\n",
       "      <td>ingrown_nail_N</td>\n",
       "      <td>cold_sore_N</td>\n",
       "      <td>cold_sore_N</td>\n",
       "      <td>ingrown_nail_N</td>\n",
       "      <td>pneumonia_H</td>\n",
       "      <td>myopia_N</td>\n",
       "      <td>dental_exam_N</td>\n",
       "      <td>dental_exam_N</td>\n",
       "      <td>hay_fever_N</td>\n",
       "      <td>AHH</td>\n",
       "    </tr>\n",
       "    <tr>\n",
       "      <th>4S1YJIM5NK</th>\n",
       "      <td>&lt;pad&gt;</td>\n",
       "      <td>&lt;pad&gt;</td>\n",
       "      <td>&lt;pad&gt;</td>\n",
       "      <td>&lt;pad&gt;</td>\n",
       "      <td>&lt;pad&gt;</td>\n",
       "      <td>&lt;pad&gt;</td>\n",
       "      <td>&lt;pad&gt;</td>\n",
       "      <td>&lt;pad&gt;</td>\n",
       "      <td>&lt;pad&gt;</td>\n",
       "      <td>&lt;pad&gt;</td>\n",
       "      <td>...</td>\n",
       "      <td>alchoholism_H</td>\n",
       "      <td>eye_exam_N</td>\n",
       "      <td>ACL_tear_N</td>\n",
       "      <td>ACL_tear_N</td>\n",
       "      <td>ankle_sprain_N</td>\n",
       "      <td>ventricular_aneurysm_A</td>\n",
       "      <td>dental_exam_N</td>\n",
       "      <td>peanut_allergy_N</td>\n",
       "      <td>annual_physical_N</td>\n",
       "      <td>AH</td>\n",
       "    </tr>\n",
       "    <tr>\n",
       "      <th>6W22CK0326</th>\n",
       "      <td>&lt;pad&gt;</td>\n",
       "      <td>&lt;pad&gt;</td>\n",
       "      <td>&lt;pad&gt;</td>\n",
       "      <td>&lt;pad&gt;</td>\n",
       "      <td>&lt;pad&gt;</td>\n",
       "      <td>&lt;pad&gt;</td>\n",
       "      <td>&lt;pad&gt;</td>\n",
       "      <td>&lt;pad&gt;</td>\n",
       "      <td>&lt;pad&gt;</td>\n",
       "      <td>&lt;pad&gt;</td>\n",
       "      <td>...</td>\n",
       "      <td>foot_pain_N</td>\n",
       "      <td>backache_N</td>\n",
       "      <td>catheter_ablation_U</td>\n",
       "      <td>hay_fever_N</td>\n",
       "      <td>headache_N</td>\n",
       "      <td>pacemaker_U</td>\n",
       "      <td>myopia_N</td>\n",
       "      <td>annual_physical_N</td>\n",
       "      <td>foot_pain_N</td>\n",
       "      <td>HUU</td>\n",
       "    </tr>\n",
       "  </tbody>\n",
       "</table>\n",
       "<p>5 rows × 31 columns</p>\n",
       "</div>"
      ],
      "text/plain": [
       "               29     28     27     26     25     24     23     22     21  \\\n",
       "patient_id                                                                  \n",
       "42R8IXZIK2  <pad>  <pad>  <pad>  <pad>  <pad>  <pad>  <pad>  <pad>  <pad>   \n",
       "YU03GXIPV2  <pad>  <pad>  <pad>  <pad>  <pad>  <pad>  <pad>  <pad>  <pad>   \n",
       "Q1915GS5V5  <pad>  <pad>  <pad>  <pad>  <pad>  <pad>  <pad>  <pad>  <pad>   \n",
       "4S1YJIM5NK  <pad>  <pad>  <pad>  <pad>  <pad>  <pad>  <pad>  <pad>  <pad>   \n",
       "6W22CK0326  <pad>  <pad>  <pad>  <pad>  <pad>  <pad>  <pad>  <pad>  <pad>   \n",
       "\n",
       "                      20  ...               8                  7  \\\n",
       "patient_id                ...                                      \n",
       "42R8IXZIK2         <pad>  ...      eye_exam_N           myopia_N   \n",
       "YU03GXIPV2         <pad>  ...      ACL_tear_N  annual_physical_N   \n",
       "Q1915GS5V5  cut_finger_N  ...  ingrown_nail_N        cold_sore_N   \n",
       "4S1YJIM5NK         <pad>  ...   alchoholism_H         eye_exam_N   \n",
       "6W22CK0326         <pad>  ...     foot_pain_N         backache_N   \n",
       "\n",
       "                              6                           5               4  \\\n",
       "patient_id                                                                    \n",
       "42R8IXZIK2        quad_injury_N                 pneumonia_H     hay_fever_N   \n",
       "YU03GXIPV2           troponin_H  congestive_heart_failure_A        myopia_N   \n",
       "Q1915GS5V5          cold_sore_N              ingrown_nail_N     pneumonia_H   \n",
       "4S1YJIM5NK           ACL_tear_N                  ACL_tear_N  ankle_sprain_N   \n",
       "6W22CK0326  catheter_ablation_U                 hay_fever_N      headache_N   \n",
       "\n",
       "                                 3                                        2  \\\n",
       "patient_id                                                                    \n",
       "42R8IXZIK2              backache_N  Chronic_Obstructive_Pulmonary_Disease_A   \n",
       "YU03GXIPV2        peanut_allergy_N                               backache_N   \n",
       "Q1915GS5V5                myopia_N                            dental_exam_N   \n",
       "4S1YJIM5NK  ventricular_aneurysm_A                            dental_exam_N   \n",
       "6W22CK0326             pacemaker_U                                 myopia_N   \n",
       "\n",
       "                            1                  0 sequence_type  \n",
       "patient_id                                                      \n",
       "42R8IXZIK2        hay_fever_N      dental_exam_N            AH  \n",
       "YU03GXIPV2        hay_fever_N           myopia_N            AH  \n",
       "Q1915GS5V5      dental_exam_N        hay_fever_N           AHH  \n",
       "4S1YJIM5NK   peanut_allergy_N  annual_physical_N            AH  \n",
       "6W22CK0326  annual_physical_N        foot_pain_N           HUU  \n",
       "\n",
       "[5 rows x 31 columns]"
      ]
     },
     "execution_count": 8,
     "metadata": {},
     "output_type": "execute_result"
    },
    {
     "data": {
      "application/javascript": [
       "\n",
       "            setTimeout(function() {\n",
       "                var nbb_cell_id = 8;\n",
       "                var nbb_unformatted_code = \"df_train.head()\";\n",
       "                var nbb_formatted_code = \"df_train.head()\";\n",
       "                var nbb_cells = Jupyter.notebook.get_cells();\n",
       "                for (var i = 0; i < nbb_cells.length; ++i) {\n",
       "                    if (nbb_cells[i].input_prompt_number == nbb_cell_id) {\n",
       "                        if (nbb_cells[i].get_text() == nbb_unformatted_code) {\n",
       "                             nbb_cells[i].set_text(nbb_formatted_code);\n",
       "                        }\n",
       "                        break;\n",
       "                    }\n",
       "                }\n",
       "            }, 500);\n",
       "            "
      ],
      "text/plain": [
       "<IPython.core.display.Javascript object>"
      ]
     },
     "metadata": {},
     "output_type": "display_data"
    }
   ],
   "source": [
    "df_train.head()"
   ]
  },
  {
   "cell_type": "markdown",
   "metadata": {},
   "source": [
    "### Generate event-based dataset with target labels"
   ]
  },
  {
   "cell_type": "code",
   "execution_count": 9,
   "metadata": {},
   "outputs": [
    {
     "data": {
      "application/javascript": [
       "\n",
       "            setTimeout(function() {\n",
       "                var nbb_cell_id = 9;\n",
       "                var nbb_unformatted_code = \"#Train Data (event-based)\\ndf_train_event = utils.generate_dataset(df_train,\\n                           SEQ_LEN, \\n                           seq_types=SEQUENCE_TYPES, \\n                           seq_base_probs=SEQUENCE_BASE_PROBS,\\n                           data_type='event'\\n                           )\\n\\n#Val Data (event-based)\\ndf_val_event = utils.generate_dataset(df_val,\\n                           SEQ_LEN, \\n                           seq_types=SEQUENCE_TYPES, \\n                           seq_base_probs=SEQUENCE_BASE_PROBS,\\n                           data_type='event'\\n                           )\\n\\n#Test Data (event-based)\\ndf_test_event = utils.generate_dataset(df_test,\\n                           SEQ_LEN, \\n                           seq_types=SEQUENCE_TYPES, \\n                           seq_base_probs=SEQUENCE_BASE_PROBS,\\n                           data_type='event'\\n                           )\";\n",
       "                var nbb_formatted_code = \"# Train Data (event-based)\\ndf_train_event = utils.generate_dataset(\\n    df_train,\\n    SEQ_LEN,\\n    seq_types=SEQUENCE_TYPES,\\n    seq_base_probs=SEQUENCE_BASE_PROBS,\\n    data_type=\\\"event\\\",\\n)\\n\\n# Val Data (event-based)\\ndf_val_event = utils.generate_dataset(\\n    df_val,\\n    SEQ_LEN,\\n    seq_types=SEQUENCE_TYPES,\\n    seq_base_probs=SEQUENCE_BASE_PROBS,\\n    data_type=\\\"event\\\",\\n)\\n\\n# Test Data (event-based)\\ndf_test_event = utils.generate_dataset(\\n    df_test,\\n    SEQ_LEN,\\n    seq_types=SEQUENCE_TYPES,\\n    seq_base_probs=SEQUENCE_BASE_PROBS,\\n    data_type=\\\"event\\\",\\n)\";\n",
       "                var nbb_cells = Jupyter.notebook.get_cells();\n",
       "                for (var i = 0; i < nbb_cells.length; ++i) {\n",
       "                    if (nbb_cells[i].input_prompt_number == nbb_cell_id) {\n",
       "                        if (nbb_cells[i].get_text() == nbb_unformatted_code) {\n",
       "                             nbb_cells[i].set_text(nbb_formatted_code);\n",
       "                        }\n",
       "                        break;\n",
       "                    }\n",
       "                }\n",
       "            }, 500);\n",
       "            "
      ],
      "text/plain": [
       "<IPython.core.display.Javascript object>"
      ]
     },
     "metadata": {},
     "output_type": "display_data"
    }
   ],
   "source": [
    "#Train Data (event-based)\n",
    "df_train_event = utils.generate_dataset(df_train,\n",
    "                           SEQ_LEN, \n",
    "                           seq_types=SEQUENCE_TYPES, \n",
    "                           seq_base_probs=SEQUENCE_BASE_PROBS,\n",
    "                           data_type='event'\n",
    "                           )\n",
    "\n",
    "#Val Data (event-based)\n",
    "df_val_event = utils.generate_dataset(df_val,\n",
    "                           SEQ_LEN, \n",
    "                           seq_types=SEQUENCE_TYPES, \n",
    "                           seq_base_probs=SEQUENCE_BASE_PROBS,\n",
    "                           data_type='event'\n",
    "                           )\n",
    "\n",
    "#Test Data (event-based)\n",
    "df_test_event = utils.generate_dataset(df_test,\n",
    "                           SEQ_LEN, \n",
    "                           seq_types=SEQUENCE_TYPES, \n",
    "                           seq_base_probs=SEQUENCE_BASE_PROBS,\n",
    "                           data_type='event'\n",
    "                           )"
   ]
  },
  {
   "cell_type": "code",
   "execution_count": 10,
   "metadata": {},
   "outputs": [
    {
     "name": "stdout",
     "output_type": "stream",
     "text": [
      "(21000, 33)\n"
     ]
    },
    {
     "data": {
      "text/html": [
       "<div>\n",
       "<style scoped>\n",
       "    .dataframe tbody tr th:only-of-type {\n",
       "        vertical-align: middle;\n",
       "    }\n",
       "\n",
       "    .dataframe tbody tr th {\n",
       "        vertical-align: top;\n",
       "    }\n",
       "\n",
       "    .dataframe thead th {\n",
       "        text-align: right;\n",
       "    }\n",
       "</style>\n",
       "<table border=\"1\" class=\"dataframe\">\n",
       "  <thead>\n",
       "    <tr style=\"text-align: right;\">\n",
       "      <th></th>\n",
       "      <th>29</th>\n",
       "      <th>28</th>\n",
       "      <th>27</th>\n",
       "      <th>26</th>\n",
       "      <th>25</th>\n",
       "      <th>24</th>\n",
       "      <th>23</th>\n",
       "      <th>22</th>\n",
       "      <th>21</th>\n",
       "      <th>20</th>\n",
       "      <th>...</th>\n",
       "      <th>6</th>\n",
       "      <th>5</th>\n",
       "      <th>4</th>\n",
       "      <th>3</th>\n",
       "      <th>2</th>\n",
       "      <th>1</th>\n",
       "      <th>0</th>\n",
       "      <th>sequence_type</th>\n",
       "      <th>proba</th>\n",
       "      <th>label</th>\n",
       "    </tr>\n",
       "    <tr>\n",
       "      <th>patient_id</th>\n",
       "      <th></th>\n",
       "      <th></th>\n",
       "      <th></th>\n",
       "      <th></th>\n",
       "      <th></th>\n",
       "      <th></th>\n",
       "      <th></th>\n",
       "      <th></th>\n",
       "      <th></th>\n",
       "      <th></th>\n",
       "      <th></th>\n",
       "      <th></th>\n",
       "      <th></th>\n",
       "      <th></th>\n",
       "      <th></th>\n",
       "      <th></th>\n",
       "      <th></th>\n",
       "      <th></th>\n",
       "      <th></th>\n",
       "      <th></th>\n",
       "      <th></th>\n",
       "    </tr>\n",
       "  </thead>\n",
       "  <tbody>\n",
       "    <tr>\n",
       "      <th>42R8IXZIK2</th>\n",
       "      <td>&lt;pad&gt;</td>\n",
       "      <td>&lt;pad&gt;</td>\n",
       "      <td>&lt;pad&gt;</td>\n",
       "      <td>&lt;pad&gt;</td>\n",
       "      <td>&lt;pad&gt;</td>\n",
       "      <td>&lt;pad&gt;</td>\n",
       "      <td>&lt;pad&gt;</td>\n",
       "      <td>&lt;pad&gt;</td>\n",
       "      <td>&lt;pad&gt;</td>\n",
       "      <td>&lt;pad&gt;</td>\n",
       "      <td>...</td>\n",
       "      <td>quad_injury_N</td>\n",
       "      <td>pneumonia_H</td>\n",
       "      <td>hay_fever_N</td>\n",
       "      <td>backache_N</td>\n",
       "      <td>Chronic_Obstructive_Pulmonary_Disease_A</td>\n",
       "      <td>hay_fever_N</td>\n",
       "      <td>dental_exam_N</td>\n",
       "      <td>AH</td>\n",
       "      <td>0.7</td>\n",
       "      <td>1</td>\n",
       "    </tr>\n",
       "    <tr>\n",
       "      <th>YU03GXIPV2</th>\n",
       "      <td>&lt;pad&gt;</td>\n",
       "      <td>&lt;pad&gt;</td>\n",
       "      <td>&lt;pad&gt;</td>\n",
       "      <td>&lt;pad&gt;</td>\n",
       "      <td>&lt;pad&gt;</td>\n",
       "      <td>&lt;pad&gt;</td>\n",
       "      <td>&lt;pad&gt;</td>\n",
       "      <td>&lt;pad&gt;</td>\n",
       "      <td>&lt;pad&gt;</td>\n",
       "      <td>&lt;pad&gt;</td>\n",
       "      <td>...</td>\n",
       "      <td>troponin_H</td>\n",
       "      <td>congestive_heart_failure_A</td>\n",
       "      <td>myopia_N</td>\n",
       "      <td>peanut_allergy_N</td>\n",
       "      <td>backache_N</td>\n",
       "      <td>hay_fever_N</td>\n",
       "      <td>myopia_N</td>\n",
       "      <td>AH</td>\n",
       "      <td>0.7</td>\n",
       "      <td>1</td>\n",
       "    </tr>\n",
       "    <tr>\n",
       "      <th>Q1915GS5V5</th>\n",
       "      <td>&lt;pad&gt;</td>\n",
       "      <td>&lt;pad&gt;</td>\n",
       "      <td>&lt;pad&gt;</td>\n",
       "      <td>&lt;pad&gt;</td>\n",
       "      <td>&lt;pad&gt;</td>\n",
       "      <td>&lt;pad&gt;</td>\n",
       "      <td>&lt;pad&gt;</td>\n",
       "      <td>&lt;pad&gt;</td>\n",
       "      <td>&lt;pad&gt;</td>\n",
       "      <td>cut_finger_N</td>\n",
       "      <td>...</td>\n",
       "      <td>cold_sore_N</td>\n",
       "      <td>ingrown_nail_N</td>\n",
       "      <td>pneumonia_H</td>\n",
       "      <td>myopia_N</td>\n",
       "      <td>dental_exam_N</td>\n",
       "      <td>dental_exam_N</td>\n",
       "      <td>hay_fever_N</td>\n",
       "      <td>AHH</td>\n",
       "      <td>0.8</td>\n",
       "      <td>1</td>\n",
       "    </tr>\n",
       "    <tr>\n",
       "      <th>4S1YJIM5NK</th>\n",
       "      <td>&lt;pad&gt;</td>\n",
       "      <td>&lt;pad&gt;</td>\n",
       "      <td>&lt;pad&gt;</td>\n",
       "      <td>&lt;pad&gt;</td>\n",
       "      <td>&lt;pad&gt;</td>\n",
       "      <td>&lt;pad&gt;</td>\n",
       "      <td>&lt;pad&gt;</td>\n",
       "      <td>&lt;pad&gt;</td>\n",
       "      <td>&lt;pad&gt;</td>\n",
       "      <td>&lt;pad&gt;</td>\n",
       "      <td>...</td>\n",
       "      <td>ACL_tear_N</td>\n",
       "      <td>ACL_tear_N</td>\n",
       "      <td>ankle_sprain_N</td>\n",
       "      <td>ventricular_aneurysm_A</td>\n",
       "      <td>dental_exam_N</td>\n",
       "      <td>peanut_allergy_N</td>\n",
       "      <td>annual_physical_N</td>\n",
       "      <td>AH</td>\n",
       "      <td>0.7</td>\n",
       "      <td>1</td>\n",
       "    </tr>\n",
       "    <tr>\n",
       "      <th>6W22CK0326</th>\n",
       "      <td>&lt;pad&gt;</td>\n",
       "      <td>&lt;pad&gt;</td>\n",
       "      <td>&lt;pad&gt;</td>\n",
       "      <td>&lt;pad&gt;</td>\n",
       "      <td>&lt;pad&gt;</td>\n",
       "      <td>&lt;pad&gt;</td>\n",
       "      <td>&lt;pad&gt;</td>\n",
       "      <td>&lt;pad&gt;</td>\n",
       "      <td>&lt;pad&gt;</td>\n",
       "      <td>&lt;pad&gt;</td>\n",
       "      <td>...</td>\n",
       "      <td>catheter_ablation_U</td>\n",
       "      <td>hay_fever_N</td>\n",
       "      <td>headache_N</td>\n",
       "      <td>pacemaker_U</td>\n",
       "      <td>myopia_N</td>\n",
       "      <td>annual_physical_N</td>\n",
       "      <td>foot_pain_N</td>\n",
       "      <td>HUU</td>\n",
       "      <td>0.2</td>\n",
       "      <td>0</td>\n",
       "    </tr>\n",
       "  </tbody>\n",
       "</table>\n",
       "<p>5 rows × 33 columns</p>\n",
       "</div>"
      ],
      "text/plain": [
       "               29     28     27     26     25     24     23     22     21  \\\n",
       "patient_id                                                                  \n",
       "42R8IXZIK2  <pad>  <pad>  <pad>  <pad>  <pad>  <pad>  <pad>  <pad>  <pad>   \n",
       "YU03GXIPV2  <pad>  <pad>  <pad>  <pad>  <pad>  <pad>  <pad>  <pad>  <pad>   \n",
       "Q1915GS5V5  <pad>  <pad>  <pad>  <pad>  <pad>  <pad>  <pad>  <pad>  <pad>   \n",
       "4S1YJIM5NK  <pad>  <pad>  <pad>  <pad>  <pad>  <pad>  <pad>  <pad>  <pad>   \n",
       "6W22CK0326  <pad>  <pad>  <pad>  <pad>  <pad>  <pad>  <pad>  <pad>  <pad>   \n",
       "\n",
       "                      20  ...                    6  \\\n",
       "patient_id                ...                        \n",
       "42R8IXZIK2         <pad>  ...        quad_injury_N   \n",
       "YU03GXIPV2         <pad>  ...           troponin_H   \n",
       "Q1915GS5V5  cut_finger_N  ...          cold_sore_N   \n",
       "4S1YJIM5NK         <pad>  ...           ACL_tear_N   \n",
       "6W22CK0326         <pad>  ...  catheter_ablation_U   \n",
       "\n",
       "                                     5               4  \\\n",
       "patient_id                                               \n",
       "42R8IXZIK2                 pneumonia_H     hay_fever_N   \n",
       "YU03GXIPV2  congestive_heart_failure_A        myopia_N   \n",
       "Q1915GS5V5              ingrown_nail_N     pneumonia_H   \n",
       "4S1YJIM5NK                  ACL_tear_N  ankle_sprain_N   \n",
       "6W22CK0326                 hay_fever_N      headache_N   \n",
       "\n",
       "                                 3                                        2  \\\n",
       "patient_id                                                                    \n",
       "42R8IXZIK2              backache_N  Chronic_Obstructive_Pulmonary_Disease_A   \n",
       "YU03GXIPV2        peanut_allergy_N                               backache_N   \n",
       "Q1915GS5V5                myopia_N                            dental_exam_N   \n",
       "4S1YJIM5NK  ventricular_aneurysm_A                            dental_exam_N   \n",
       "6W22CK0326             pacemaker_U                                 myopia_N   \n",
       "\n",
       "                            1                  0 sequence_type proba label  \n",
       "patient_id                                                                  \n",
       "42R8IXZIK2        hay_fever_N      dental_exam_N            AH   0.7     1  \n",
       "YU03GXIPV2        hay_fever_N           myopia_N            AH   0.7     1  \n",
       "Q1915GS5V5      dental_exam_N        hay_fever_N           AHH   0.8     1  \n",
       "4S1YJIM5NK   peanut_allergy_N  annual_physical_N            AH   0.7     1  \n",
       "6W22CK0326  annual_physical_N        foot_pain_N           HUU   0.2     0  \n",
       "\n",
       "[5 rows x 33 columns]"
      ]
     },
     "execution_count": 10,
     "metadata": {},
     "output_type": "execute_result"
    },
    {
     "data": {
      "application/javascript": [
       "\n",
       "            setTimeout(function() {\n",
       "                var nbb_cell_id = 10;\n",
       "                var nbb_unformatted_code = \"print(df_train_event.shape)\\ndf_train_event.head()\";\n",
       "                var nbb_formatted_code = \"print(df_train_event.shape)\\ndf_train_event.head()\";\n",
       "                var nbb_cells = Jupyter.notebook.get_cells();\n",
       "                for (var i = 0; i < nbb_cells.length; ++i) {\n",
       "                    if (nbb_cells[i].input_prompt_number == nbb_cell_id) {\n",
       "                        if (nbb_cells[i].get_text() == nbb_unformatted_code) {\n",
       "                             nbb_cells[i].set_text(nbb_formatted_code);\n",
       "                        }\n",
       "                        break;\n",
       "                    }\n",
       "                }\n",
       "            }, 500);\n",
       "            "
      ],
      "text/plain": [
       "<IPython.core.display.Javascript object>"
      ]
     },
     "metadata": {},
     "output_type": "display_data"
    }
   ],
   "source": [
    "print(df_train_event.shape)\n",
    "df_train_event.head()"
   ]
  },
  {
   "cell_type": "markdown",
   "metadata": {},
   "source": [
    "### Generate sequence-based dataset with target labels"
   ]
  },
  {
   "cell_type": "code",
   "execution_count": 11,
   "metadata": {},
   "outputs": [
    {
     "data": {
      "application/javascript": [
       "\n",
       "            setTimeout(function() {\n",
       "                var nbb_cell_id = 11;\n",
       "                var nbb_unformatted_code = \"#Train Data(sequence-based)\\ndf_train_seq = utils.generate_dataset(df_train,\\n                           SEQ_LEN, \\n                           seq_types=SEQUENCE_TYPES, \\n                           seq_base_probs=SEQUENCE_BASE_PROBS,\\n                           data_type='sequence'\\n                           )\\n\\n#Validation Data(sequence-based)\\ndf_val_seq = utils.generate_dataset(df_val,\\n                           SEQ_LEN, \\n                           seq_types=SEQUENCE_TYPES, \\n                           seq_base_probs=SEQUENCE_BASE_PROBS,\\n                           data_type='sequence'\\n                           )\\n\\n#Test Data(sequence-based)\\ndf_test_seq = utils.generate_dataset(df_test,\\n                           SEQ_LEN, \\n                           seq_types=SEQUENCE_TYPES, \\n                           seq_base_probs=SEQUENCE_BASE_PROBS,\\n                           data_type='sequence'\\n                           )\";\n",
       "                var nbb_formatted_code = \"# Train Data(sequence-based)\\ndf_train_seq = utils.generate_dataset(\\n    df_train,\\n    SEQ_LEN,\\n    seq_types=SEQUENCE_TYPES,\\n    seq_base_probs=SEQUENCE_BASE_PROBS,\\n    data_type=\\\"sequence\\\",\\n)\\n\\n# Validation Data(sequence-based)\\ndf_val_seq = utils.generate_dataset(\\n    df_val,\\n    SEQ_LEN,\\n    seq_types=SEQUENCE_TYPES,\\n    seq_base_probs=SEQUENCE_BASE_PROBS,\\n    data_type=\\\"sequence\\\",\\n)\\n\\n# Test Data(sequence-based)\\ndf_test_seq = utils.generate_dataset(\\n    df_test,\\n    SEQ_LEN,\\n    seq_types=SEQUENCE_TYPES,\\n    seq_base_probs=SEQUENCE_BASE_PROBS,\\n    data_type=\\\"sequence\\\",\\n)\";\n",
       "                var nbb_cells = Jupyter.notebook.get_cells();\n",
       "                for (var i = 0; i < nbb_cells.length; ++i) {\n",
       "                    if (nbb_cells[i].input_prompt_number == nbb_cell_id) {\n",
       "                        if (nbb_cells[i].get_text() == nbb_unformatted_code) {\n",
       "                             nbb_cells[i].set_text(nbb_formatted_code);\n",
       "                        }\n",
       "                        break;\n",
       "                    }\n",
       "                }\n",
       "            }, 500);\n",
       "            "
      ],
      "text/plain": [
       "<IPython.core.display.Javascript object>"
      ]
     },
     "metadata": {},
     "output_type": "display_data"
    }
   ],
   "source": [
    "#Train Data(sequence-based)\n",
    "df_train_seq = utils.generate_dataset(df_train,\n",
    "                           SEQ_LEN, \n",
    "                           seq_types=SEQUENCE_TYPES, \n",
    "                           seq_base_probs=SEQUENCE_BASE_PROBS,\n",
    "                           data_type='sequence'\n",
    "                           )\n",
    "\n",
    "#Validation Data(sequence-based)\n",
    "df_val_seq = utils.generate_dataset(df_val,\n",
    "                           SEQ_LEN, \n",
    "                           seq_types=SEQUENCE_TYPES, \n",
    "                           seq_base_probs=SEQUENCE_BASE_PROBS,\n",
    "                           data_type='sequence'\n",
    "                           )\n",
    "\n",
    "#Test Data(sequence-based)\n",
    "df_test_seq = utils.generate_dataset(df_test,\n",
    "                           SEQ_LEN, \n",
    "                           seq_types=SEQUENCE_TYPES, \n",
    "                           seq_base_probs=SEQUENCE_BASE_PROBS,\n",
    "                           data_type='sequence'\n",
    "                           )"
   ]
  },
  {
   "cell_type": "code",
   "execution_count": 12,
   "metadata": {},
   "outputs": [
    {
     "name": "stdout",
     "output_type": "stream",
     "text": [
      "(21000, 33)\n"
     ]
    },
    {
     "data": {
      "text/html": [
       "<div>\n",
       "<style scoped>\n",
       "    .dataframe tbody tr th:only-of-type {\n",
       "        vertical-align: middle;\n",
       "    }\n",
       "\n",
       "    .dataframe tbody tr th {\n",
       "        vertical-align: top;\n",
       "    }\n",
       "\n",
       "    .dataframe thead th {\n",
       "        text-align: right;\n",
       "    }\n",
       "</style>\n",
       "<table border=\"1\" class=\"dataframe\">\n",
       "  <thead>\n",
       "    <tr style=\"text-align: right;\">\n",
       "      <th></th>\n",
       "      <th>29</th>\n",
       "      <th>28</th>\n",
       "      <th>27</th>\n",
       "      <th>26</th>\n",
       "      <th>25</th>\n",
       "      <th>24</th>\n",
       "      <th>23</th>\n",
       "      <th>22</th>\n",
       "      <th>21</th>\n",
       "      <th>20</th>\n",
       "      <th>...</th>\n",
       "      <th>6</th>\n",
       "      <th>5</th>\n",
       "      <th>4</th>\n",
       "      <th>3</th>\n",
       "      <th>2</th>\n",
       "      <th>1</th>\n",
       "      <th>0</th>\n",
       "      <th>sequence_type</th>\n",
       "      <th>proba</th>\n",
       "      <th>label</th>\n",
       "    </tr>\n",
       "    <tr>\n",
       "      <th>patient_id</th>\n",
       "      <th></th>\n",
       "      <th></th>\n",
       "      <th></th>\n",
       "      <th></th>\n",
       "      <th></th>\n",
       "      <th></th>\n",
       "      <th></th>\n",
       "      <th></th>\n",
       "      <th></th>\n",
       "      <th></th>\n",
       "      <th></th>\n",
       "      <th></th>\n",
       "      <th></th>\n",
       "      <th></th>\n",
       "      <th></th>\n",
       "      <th></th>\n",
       "      <th></th>\n",
       "      <th></th>\n",
       "      <th></th>\n",
       "      <th></th>\n",
       "      <th></th>\n",
       "    </tr>\n",
       "  </thead>\n",
       "  <tbody>\n",
       "    <tr>\n",
       "      <th>42R8IXZIK2</th>\n",
       "      <td>&lt;pad&gt;</td>\n",
       "      <td>&lt;pad&gt;</td>\n",
       "      <td>&lt;pad&gt;</td>\n",
       "      <td>&lt;pad&gt;</td>\n",
       "      <td>&lt;pad&gt;</td>\n",
       "      <td>&lt;pad&gt;</td>\n",
       "      <td>&lt;pad&gt;</td>\n",
       "      <td>&lt;pad&gt;</td>\n",
       "      <td>&lt;pad&gt;</td>\n",
       "      <td>&lt;pad&gt;</td>\n",
       "      <td>...</td>\n",
       "      <td>quad_injury_N</td>\n",
       "      <td>pneumonia_H</td>\n",
       "      <td>hay_fever_N</td>\n",
       "      <td>backache_N</td>\n",
       "      <td>Chronic_Obstructive_Pulmonary_Disease_A</td>\n",
       "      <td>hay_fever_N</td>\n",
       "      <td>dental_exam_N</td>\n",
       "      <td>AH</td>\n",
       "      <td>1.0000</td>\n",
       "      <td>1</td>\n",
       "    </tr>\n",
       "    <tr>\n",
       "      <th>YU03GXIPV2</th>\n",
       "      <td>&lt;pad&gt;</td>\n",
       "      <td>&lt;pad&gt;</td>\n",
       "      <td>&lt;pad&gt;</td>\n",
       "      <td>&lt;pad&gt;</td>\n",
       "      <td>&lt;pad&gt;</td>\n",
       "      <td>&lt;pad&gt;</td>\n",
       "      <td>&lt;pad&gt;</td>\n",
       "      <td>&lt;pad&gt;</td>\n",
       "      <td>&lt;pad&gt;</td>\n",
       "      <td>&lt;pad&gt;</td>\n",
       "      <td>...</td>\n",
       "      <td>troponin_H</td>\n",
       "      <td>congestive_heart_failure_A</td>\n",
       "      <td>myopia_N</td>\n",
       "      <td>peanut_allergy_N</td>\n",
       "      <td>backache_N</td>\n",
       "      <td>hay_fever_N</td>\n",
       "      <td>myopia_N</td>\n",
       "      <td>AH</td>\n",
       "      <td>0.9077</td>\n",
       "      <td>1</td>\n",
       "    </tr>\n",
       "    <tr>\n",
       "      <th>Q1915GS5V5</th>\n",
       "      <td>&lt;pad&gt;</td>\n",
       "      <td>&lt;pad&gt;</td>\n",
       "      <td>&lt;pad&gt;</td>\n",
       "      <td>&lt;pad&gt;</td>\n",
       "      <td>&lt;pad&gt;</td>\n",
       "      <td>&lt;pad&gt;</td>\n",
       "      <td>&lt;pad&gt;</td>\n",
       "      <td>&lt;pad&gt;</td>\n",
       "      <td>&lt;pad&gt;</td>\n",
       "      <td>cut_finger_N</td>\n",
       "      <td>...</td>\n",
       "      <td>cold_sore_N</td>\n",
       "      <td>ingrown_nail_N</td>\n",
       "      <td>pneumonia_H</td>\n",
       "      <td>myopia_N</td>\n",
       "      <td>dental_exam_N</td>\n",
       "      <td>dental_exam_N</td>\n",
       "      <td>hay_fever_N</td>\n",
       "      <td>AHH</td>\n",
       "      <td>0.6597</td>\n",
       "      <td>0</td>\n",
       "    </tr>\n",
       "    <tr>\n",
       "      <th>4S1YJIM5NK</th>\n",
       "      <td>&lt;pad&gt;</td>\n",
       "      <td>&lt;pad&gt;</td>\n",
       "      <td>&lt;pad&gt;</td>\n",
       "      <td>&lt;pad&gt;</td>\n",
       "      <td>&lt;pad&gt;</td>\n",
       "      <td>&lt;pad&gt;</td>\n",
       "      <td>&lt;pad&gt;</td>\n",
       "      <td>&lt;pad&gt;</td>\n",
       "      <td>&lt;pad&gt;</td>\n",
       "      <td>&lt;pad&gt;</td>\n",
       "      <td>...</td>\n",
       "      <td>ACL_tear_N</td>\n",
       "      <td>ACL_tear_N</td>\n",
       "      <td>ankle_sprain_N</td>\n",
       "      <td>ventricular_aneurysm_A</td>\n",
       "      <td>dental_exam_N</td>\n",
       "      <td>peanut_allergy_N</td>\n",
       "      <td>annual_physical_N</td>\n",
       "      <td>AH</td>\n",
       "      <td>0.9427</td>\n",
       "      <td>1</td>\n",
       "    </tr>\n",
       "    <tr>\n",
       "      <th>6W22CK0326</th>\n",
       "      <td>&lt;pad&gt;</td>\n",
       "      <td>&lt;pad&gt;</td>\n",
       "      <td>&lt;pad&gt;</td>\n",
       "      <td>&lt;pad&gt;</td>\n",
       "      <td>&lt;pad&gt;</td>\n",
       "      <td>&lt;pad&gt;</td>\n",
       "      <td>&lt;pad&gt;</td>\n",
       "      <td>&lt;pad&gt;</td>\n",
       "      <td>&lt;pad&gt;</td>\n",
       "      <td>&lt;pad&gt;</td>\n",
       "      <td>...</td>\n",
       "      <td>catheter_ablation_U</td>\n",
       "      <td>hay_fever_N</td>\n",
       "      <td>headache_N</td>\n",
       "      <td>pacemaker_U</td>\n",
       "      <td>myopia_N</td>\n",
       "      <td>annual_physical_N</td>\n",
       "      <td>foot_pain_N</td>\n",
       "      <td>HUU</td>\n",
       "      <td>0.1000</td>\n",
       "      <td>0</td>\n",
       "    </tr>\n",
       "  </tbody>\n",
       "</table>\n",
       "<p>5 rows × 33 columns</p>\n",
       "</div>"
      ],
      "text/plain": [
       "               29     28     27     26     25     24     23     22     21  \\\n",
       "patient_id                                                                  \n",
       "42R8IXZIK2  <pad>  <pad>  <pad>  <pad>  <pad>  <pad>  <pad>  <pad>  <pad>   \n",
       "YU03GXIPV2  <pad>  <pad>  <pad>  <pad>  <pad>  <pad>  <pad>  <pad>  <pad>   \n",
       "Q1915GS5V5  <pad>  <pad>  <pad>  <pad>  <pad>  <pad>  <pad>  <pad>  <pad>   \n",
       "4S1YJIM5NK  <pad>  <pad>  <pad>  <pad>  <pad>  <pad>  <pad>  <pad>  <pad>   \n",
       "6W22CK0326  <pad>  <pad>  <pad>  <pad>  <pad>  <pad>  <pad>  <pad>  <pad>   \n",
       "\n",
       "                      20  ...                    6  \\\n",
       "patient_id                ...                        \n",
       "42R8IXZIK2         <pad>  ...        quad_injury_N   \n",
       "YU03GXIPV2         <pad>  ...           troponin_H   \n",
       "Q1915GS5V5  cut_finger_N  ...          cold_sore_N   \n",
       "4S1YJIM5NK         <pad>  ...           ACL_tear_N   \n",
       "6W22CK0326         <pad>  ...  catheter_ablation_U   \n",
       "\n",
       "                                     5               4  \\\n",
       "patient_id                                               \n",
       "42R8IXZIK2                 pneumonia_H     hay_fever_N   \n",
       "YU03GXIPV2  congestive_heart_failure_A        myopia_N   \n",
       "Q1915GS5V5              ingrown_nail_N     pneumonia_H   \n",
       "4S1YJIM5NK                  ACL_tear_N  ankle_sprain_N   \n",
       "6W22CK0326                 hay_fever_N      headache_N   \n",
       "\n",
       "                                 3                                        2  \\\n",
       "patient_id                                                                    \n",
       "42R8IXZIK2              backache_N  Chronic_Obstructive_Pulmonary_Disease_A   \n",
       "YU03GXIPV2        peanut_allergy_N                               backache_N   \n",
       "Q1915GS5V5                myopia_N                            dental_exam_N   \n",
       "4S1YJIM5NK  ventricular_aneurysm_A                            dental_exam_N   \n",
       "6W22CK0326             pacemaker_U                                 myopia_N   \n",
       "\n",
       "                            1                  0 sequence_type   proba label  \n",
       "patient_id                                                                    \n",
       "42R8IXZIK2        hay_fever_N      dental_exam_N            AH  1.0000     1  \n",
       "YU03GXIPV2        hay_fever_N           myopia_N            AH  0.9077     1  \n",
       "Q1915GS5V5      dental_exam_N        hay_fever_N           AHH  0.6597     0  \n",
       "4S1YJIM5NK   peanut_allergy_N  annual_physical_N            AH  0.9427     1  \n",
       "6W22CK0326  annual_physical_N        foot_pain_N           HUU  0.1000     0  \n",
       "\n",
       "[5 rows x 33 columns]"
      ]
     },
     "execution_count": 12,
     "metadata": {},
     "output_type": "execute_result"
    },
    {
     "data": {
      "application/javascript": [
       "\n",
       "            setTimeout(function() {\n",
       "                var nbb_cell_id = 12;\n",
       "                var nbb_unformatted_code = \"print(df_train_seq.shape)\\ndf_train_seq.head()\";\n",
       "                var nbb_formatted_code = \"print(df_train_seq.shape)\\ndf_train_seq.head()\";\n",
       "                var nbb_cells = Jupyter.notebook.get_cells();\n",
       "                for (var i = 0; i < nbb_cells.length; ++i) {\n",
       "                    if (nbb_cells[i].input_prompt_number == nbb_cell_id) {\n",
       "                        if (nbb_cells[i].get_text() == nbb_unformatted_code) {\n",
       "                             nbb_cells[i].set_text(nbb_formatted_code);\n",
       "                        }\n",
       "                        break;\n",
       "                    }\n",
       "                }\n",
       "            }, 500);\n",
       "            "
      ],
      "text/plain": [
       "<IPython.core.display.Javascript object>"
      ]
     },
     "metadata": {},
     "output_type": "display_data"
    }
   ],
   "source": [
    "print(df_train_seq.shape)\n",
    "df_train_seq.head()"
   ]
  },
  {
   "cell_type": "markdown",
   "metadata": {},
   "source": [
    "## Data Visualization"
   ]
  },
  {
   "cell_type": "markdown",
   "metadata": {},
   "source": [
    "### Distribution of Tokens"
   ]
  },
  {
   "cell_type": "code",
   "execution_count": 13,
   "metadata": {},
   "outputs": [
    {
     "data": {
      "image/png": "[encoded data removed]",
      "text/plain": [
       "<Figure size 720x360 with 1 Axes>"
      ]
     },
     "metadata": {
      "needs_background": "light"
     },
     "output_type": "display_data"
    },
    {
     "data": {
      "image/png": "[encoded data removed]",
      "text/plain": [
       "<Figure size 720x360 with 1 Axes>"
      ]
     },
     "metadata": {
      "needs_background": "light"
     },
     "output_type": "display_data"
    },
    {
     "data": {
      "image/png": "[encoded data removed]",
      "text/plain": [
       "<Figure size 720x360 with 1 Axes>"
      ]
     },
     "metadata": {
      "needs_background": "light"
     },
     "output_type": "display_data"
    },
    {
     "data": {
      "application/javascript": [
       "\n",
       "            setTimeout(function() {\n",
       "                var nbb_cell_id = 13;\n",
       "                var nbb_unformatted_code = \"#Train Data\\nutils.plot_features_distribution(df_train, seq_len=SEQ_LEN, split=\\\"Train\\\", normalize=True)\\n\\n#Val Data\\nutils.plot_features_distribution(df_val, seq_len=SEQ_LEN, split=\\\"Validation\\\", normalize=True)\\n\\n#Test Data\\nutils.plot_features_distribution(df_test, seq_len=SEQ_LEN, split=\\\"Test\\\", normalize=True)\";\n",
       "                var nbb_formatted_code = \"# Train Data\\nutils.plot_features_distribution(\\n    df_train, seq_len=SEQ_LEN, split=\\\"Train\\\", normalize=True\\n)\\n\\n# Val Data\\nutils.plot_features_distribution(\\n    df_val, seq_len=SEQ_LEN, split=\\\"Validation\\\", normalize=True\\n)\\n\\n# Test Data\\nutils.plot_features_distribution(df_test, seq_len=SEQ_LEN, split=\\\"Test\\\", normalize=True)\";\n",
       "                var nbb_cells = Jupyter.notebook.get_cells();\n",
       "                for (var i = 0; i < nbb_cells.length; ++i) {\n",
       "                    if (nbb_cells[i].input_prompt_number == nbb_cell_id) {\n",
       "                        if (nbb_cells[i].get_text() == nbb_unformatted_code) {\n",
       "                             nbb_cells[i].set_text(nbb_formatted_code);\n",
       "                        }\n",
       "                        break;\n",
       "                    }\n",
       "                }\n",
       "            }, 500);\n",
       "            "
      ],
      "text/plain": [
       "<IPython.core.display.Javascript object>"
      ]
     },
     "metadata": {},
     "output_type": "display_data"
    }
   ],
   "source": [
    "#Train Data\n",
    "utils.plot_features_distribution(df_train, seq_len=SEQ_LEN, split=\"Train\", normalize=True)\n",
    "\n",
    "#Val Data\n",
    "utils.plot_features_distribution(df_val, seq_len=SEQ_LEN, split=\"Validation\", normalize=True)\n",
    "\n",
    "#Test Data\n",
    "utils.plot_features_distribution(df_test, seq_len=SEQ_LEN, split=\"Test\", normalize=True)"
   ]
  },
  {
   "cell_type": "markdown",
   "metadata": {},
   "source": [
    "### Class Imbalance"
   ]
  },
  {
   "cell_type": "code",
   "execution_count": 14,
   "metadata": {},
   "outputs": [
    {
     "data": {
      "image/png": "[encoded data removed]",
      "text/plain": [
       "<Figure size 864x360 with 3 Axes>"
      ]
     },
     "metadata": {
      "needs_background": "light"
     },
     "output_type": "display_data"
    },
    {
     "data": {
      "application/javascript": [
       "\n",
       "            setTimeout(function() {\n",
       "                var nbb_cell_id = 14;\n",
       "                var nbb_unformatted_code = \"#Event-based Dataset\\nfig, axes = plt.subplots(1, 3, sharey=True, figsize=(12, 5))\\nfig.suptitle('Class Imbalance (Event-based Dataset)')\\nvalues = df_train_event.label.value_counts(normalize=True)\\nsns.barplot(ax=axes[0], x=values.index, y=values.values)\\naxes[0].set_xlabel('Classes')\\naxes[0].set_ylabel('Frequency(%)')\\naxes[0].set_title('Train Data')\\n\\nvalues = df_val_event.label.value_counts(normalize=True)\\nsns.barplot(ax=axes[1], x=values.index, y=values.values)\\naxes[1].set_xlabel('Classes')\\naxes[1].set_ylabel('Frequency(%)')\\naxes[1].set_title('Validation Data')\\n\\nvalues = df_test_event.label.value_counts(normalize=True)\\nsns.barplot(ax=axes[2], x=values.index, y=values.values)\\naxes[2].set_xlabel('Classes')\\naxes[2].set_ylabel('Frequency(%)')\\naxes[2].set_title('Test Data')\\n\\nplt.show()\";\n",
       "                var nbb_formatted_code = \"# Event-based Dataset\\nfig, axes = plt.subplots(1, 3, sharey=True, figsize=(12, 5))\\nfig.suptitle(\\\"Class Imbalance (Event-based Dataset)\\\")\\nvalues = df_train_event.label.value_counts(normalize=True)\\nsns.barplot(ax=axes[0], x=values.index, y=values.values)\\naxes[0].set_xlabel(\\\"Classes\\\")\\naxes[0].set_ylabel(\\\"Frequency(%)\\\")\\naxes[0].set_title(\\\"Train Data\\\")\\n\\nvalues = df_val_event.label.value_counts(normalize=True)\\nsns.barplot(ax=axes[1], x=values.index, y=values.values)\\naxes[1].set_xlabel(\\\"Classes\\\")\\naxes[1].set_ylabel(\\\"Frequency(%)\\\")\\naxes[1].set_title(\\\"Validation Data\\\")\\n\\nvalues = df_test_event.label.value_counts(normalize=True)\\nsns.barplot(ax=axes[2], x=values.index, y=values.values)\\naxes[2].set_xlabel(\\\"Classes\\\")\\naxes[2].set_ylabel(\\\"Frequency(%)\\\")\\naxes[2].set_title(\\\"Test Data\\\")\\n\\nplt.show()\";\n",
       "                var nbb_cells = Jupyter.notebook.get_cells();\n",
       "                for (var i = 0; i < nbb_cells.length; ++i) {\n",
       "                    if (nbb_cells[i].input_prompt_number == nbb_cell_id) {\n",
       "                        if (nbb_cells[i].get_text() == nbb_unformatted_code) {\n",
       "                             nbb_cells[i].set_text(nbb_formatted_code);\n",
       "                        }\n",
       "                        break;\n",
       "                    }\n",
       "                }\n",
       "            }, 500);\n",
       "            "
      ],
      "text/plain": [
       "<IPython.core.display.Javascript object>"
      ]
     },
     "metadata": {},
     "output_type": "display_data"
    }
   ],
   "source": [
    "#Event-based Dataset\n",
    "fig, axes = plt.subplots(1, 3, sharey=True, figsize=(12, 5))\n",
    "fig.suptitle('Class Imbalance (Event-based Dataset)')\n",
    "values = df_train_event.label.value_counts(normalize=True)\n",
    "sns.barplot(ax=axes[0], x=values.index, y=values.values)\n",
    "axes[0].set_xlabel('Classes')\n",
    "axes[0].set_ylabel('Frequency(%)')\n",
    "axes[0].set_title('Train Data')\n",
    "\n",
    "values = df_val_event.label.value_counts(normalize=True)\n",
    "sns.barplot(ax=axes[1], x=values.index, y=values.values)\n",
    "axes[1].set_xlabel('Classes')\n",
    "axes[1].set_ylabel('Frequency(%)')\n",
    "axes[1].set_title('Validation Data')\n",
    "\n",
    "values = df_test_event.label.value_counts(normalize=True)\n",
    "sns.barplot(ax=axes[2], x=values.index, y=values.values)\n",
    "axes[2].set_xlabel('Classes')\n",
    "axes[2].set_ylabel('Frequency(%)')\n",
    "axes[2].set_title('Test Data')\n",
    "\n",
    "plt.show()"
   ]
  },
  {
   "cell_type": "code",
   "execution_count": 15,
   "metadata": {},
   "outputs": [
    {
     "data": {
      "image/png": "[encoded data removed]",
      "text/plain": [
       "<Figure size 864x360 with 3 Axes>"
      ]
     },
     "metadata": {
      "needs_background": "light"
     },
     "output_type": "display_data"
    },
    {
     "data": {
      "application/javascript": [
       "\n",
       "            setTimeout(function() {\n",
       "                var nbb_cell_id = 15;\n",
       "                var nbb_unformatted_code = \"#Sequence-based Dataset\\nfig, axes = plt.subplots(1, 3, sharey=True, figsize=(12, 5))\\nfig.suptitle('Class Imbalance (Sequence-based Dataset)')\\nvalues = df_train_seq.label.value_counts(normalize=True)\\nsns.barplot(ax=axes[0], x=values.index, y=values.values)\\naxes[0].set_xlabel('Classes')\\naxes[0].set_ylabel('Frequency(%)')\\naxes[0].set_title('Train Data')\\n\\nvalues = df_val_seq.label.value_counts(normalize=True)\\nsns.barplot(ax=axes[1], x=values.index, y=values.values)\\naxes[1].set_xlabel('Classes')\\naxes[1].set_ylabel('Frequency(%)')\\naxes[1].set_title('Validation Data')\\n\\nvalues = df_test_seq.label.value_counts(normalize=True)\\nsns.barplot(ax=axes[2], x=values.index, y=values.values)\\naxes[2].set_xlabel('Classes')\\naxes[2].set_ylabel('Frequency(%)')\\naxes[2].set_title('Test Data')\\n\\nplt.show()\";\n",
       "                var nbb_formatted_code = \"# Sequence-based Dataset\\nfig, axes = plt.subplots(1, 3, sharey=True, figsize=(12, 5))\\nfig.suptitle(\\\"Class Imbalance (Sequence-based Dataset)\\\")\\nvalues = df_train_seq.label.value_counts(normalize=True)\\nsns.barplot(ax=axes[0], x=values.index, y=values.values)\\naxes[0].set_xlabel(\\\"Classes\\\")\\naxes[0].set_ylabel(\\\"Frequency(%)\\\")\\naxes[0].set_title(\\\"Train Data\\\")\\n\\nvalues = df_val_seq.label.value_counts(normalize=True)\\nsns.barplot(ax=axes[1], x=values.index, y=values.values)\\naxes[1].set_xlabel(\\\"Classes\\\")\\naxes[1].set_ylabel(\\\"Frequency(%)\\\")\\naxes[1].set_title(\\\"Validation Data\\\")\\n\\nvalues = df_test_seq.label.value_counts(normalize=True)\\nsns.barplot(ax=axes[2], x=values.index, y=values.values)\\naxes[2].set_xlabel(\\\"Classes\\\")\\naxes[2].set_ylabel(\\\"Frequency(%)\\\")\\naxes[2].set_title(\\\"Test Data\\\")\\n\\nplt.show()\";\n",
       "                var nbb_cells = Jupyter.notebook.get_cells();\n",
       "                for (var i = 0; i < nbb_cells.length; ++i) {\n",
       "                    if (nbb_cells[i].input_prompt_number == nbb_cell_id) {\n",
       "                        if (nbb_cells[i].get_text() == nbb_unformatted_code) {\n",
       "                             nbb_cells[i].set_text(nbb_formatted_code);\n",
       "                        }\n",
       "                        break;\n",
       "                    }\n",
       "                }\n",
       "            }, 500);\n",
       "            "
      ],
      "text/plain": [
       "<IPython.core.display.Javascript object>"
      ]
     },
     "metadata": {},
     "output_type": "display_data"
    }
   ],
   "source": [
    "#Sequence-based Dataset\n",
    "fig, axes = plt.subplots(1, 3, sharey=True, figsize=(12, 5))\n",
    "fig.suptitle('Class Imbalance (Sequence-based Dataset)')\n",
    "values = df_train_seq.label.value_counts(normalize=True)\n",
    "sns.barplot(ax=axes[0], x=values.index, y=values.values)\n",
    "axes[0].set_xlabel('Classes')\n",
    "axes[0].set_ylabel('Frequency(%)')\n",
    "axes[0].set_title('Train Data')\n",
    "\n",
    "values = df_val_seq.label.value_counts(normalize=True)\n",
    "sns.barplot(ax=axes[1], x=values.index, y=values.values)\n",
    "axes[1].set_xlabel('Classes')\n",
    "axes[1].set_ylabel('Frequency(%)')\n",
    "axes[1].set_title('Validation Data')\n",
    "\n",
    "values = df_test_seq.label.value_counts(normalize=True)\n",
    "sns.barplot(ax=axes[2], x=values.index, y=values.values)\n",
    "axes[2].set_xlabel('Classes')\n",
    "axes[2].set_ylabel('Frequency(%)')\n",
    "axes[2].set_title('Test Data')\n",
    "\n",
    "plt.show()"
   ]
  },
  {
   "cell_type": "markdown",
   "metadata": {},
   "source": [
    "### Distribution of probabilities for each sequence types"
   ]
  },
  {
   "cell_type": "code",
   "execution_count": 16,
   "metadata": {},
   "outputs": [
    {
     "data": {
      "image/png": "[encoded data removed]",
      "text/plain": [
       "<Figure size 1080x360 with 3 Axes>"
      ]
     },
     "metadata": {
      "needs_background": "light"
     },
     "output_type": "display_data"
    },
    {
     "data": {
      "application/javascript": [
       "\n",
       "            setTimeout(function() {\n",
       "                var nbb_cell_id = 16;\n",
       "                var nbb_unformatted_code = \"#Event-based dataset\\nfig, axes = plt.subplots(1, 3, figsize=(15, 5))\\nfig.suptitle('Probability Distribution (Event-based Dataset)')\\nsns.violinplot(ax=axes[0], x=\\\"sequence_type\\\", y=\\\"proba\\\", data=df_train_event, order=SEQUENCE_TYPES)\\naxes[0].set_title('Train Data')\\n\\nsns.violinplot(ax=axes[1], x=\\\"sequence_type\\\", y=\\\"proba\\\", data=df_val_event, order=SEQUENCE_TYPES)\\naxes[1].set_title('Validation Data')\\n\\nsns.violinplot(ax=axes[2], x=\\\"sequence_type\\\", y=\\\"proba\\\", data=df_test_event, order=SEQUENCE_TYPES)\\naxes[2].set_title('Test Data')\\n#sns.despine()\\nplt.show()\";\n",
       "                var nbb_formatted_code = \"# Event-based dataset\\nfig, axes = plt.subplots(1, 3, figsize=(15, 5))\\nfig.suptitle(\\\"Probability Distribution (Event-based Dataset)\\\")\\nsns.violinplot(\\n    ax=axes[0], x=\\\"sequence_type\\\", y=\\\"proba\\\", data=df_train_event, order=SEQUENCE_TYPES\\n)\\naxes[0].set_title(\\\"Train Data\\\")\\n\\nsns.violinplot(\\n    ax=axes[1], x=\\\"sequence_type\\\", y=\\\"proba\\\", data=df_val_event, order=SEQUENCE_TYPES\\n)\\naxes[1].set_title(\\\"Validation Data\\\")\\n\\nsns.violinplot(\\n    ax=axes[2], x=\\\"sequence_type\\\", y=\\\"proba\\\", data=df_test_event, order=SEQUENCE_TYPES\\n)\\naxes[2].set_title(\\\"Test Data\\\")\\n# sns.despine()\\nplt.show()\";\n",
       "                var nbb_cells = Jupyter.notebook.get_cells();\n",
       "                for (var i = 0; i < nbb_cells.length; ++i) {\n",
       "                    if (nbb_cells[i].input_prompt_number == nbb_cell_id) {\n",
       "                        if (nbb_cells[i].get_text() == nbb_unformatted_code) {\n",
       "                             nbb_cells[i].set_text(nbb_formatted_code);\n",
       "                        }\n",
       "                        break;\n",
       "                    }\n",
       "                }\n",
       "            }, 500);\n",
       "            "
      ],
      "text/plain": [
       "<IPython.core.display.Javascript object>"
      ]
     },
     "metadata": {},
     "output_type": "display_data"
    }
   ],
   "source": [
    "#Event-based dataset\n",
    "fig, axes = plt.subplots(1, 3, figsize=(15, 5))\n",
    "fig.suptitle('Probability Distribution (Event-based Dataset)')\n",
    "sns.violinplot(ax=axes[0], x=\"sequence_type\", y=\"proba\", data=df_train_event, order=SEQUENCE_TYPES)\n",
    "axes[0].set_title('Train Data')\n",
    "\n",
    "sns.violinplot(ax=axes[1], x=\"sequence_type\", y=\"proba\", data=df_val_event, order=SEQUENCE_TYPES)\n",
    "axes[1].set_title('Validation Data')\n",
    "\n",
    "sns.violinplot(ax=axes[2], x=\"sequence_type\", y=\"proba\", data=df_test_event, order=SEQUENCE_TYPES)\n",
    "axes[2].set_title('Test Data')\n",
    "#sns.despine()\n",
    "plt.show()"
   ]
  },
  {
   "cell_type": "code",
   "execution_count": 17,
   "metadata": {},
   "outputs": [
    {
     "data": {
      "image/png": "[encoded data removed]",
      "text/plain": [
       "<Figure size 1440x360 with 3 Axes>"
      ]
     },
     "metadata": {
      "needs_background": "light"
     },
     "output_type": "display_data"
    },
    {
     "data": {
      "application/javascript": [
       "\n",
       "            setTimeout(function() {\n",
       "                var nbb_cell_id = 17;\n",
       "                var nbb_unformatted_code = \"#Sequence-based dataset\\nfig, axes = plt.subplots(1, 3, figsize=(20, 5))\\nfig.suptitle('Probability Distribution (Sequence-based Dataset)')\\nsns.violinplot(ax=axes[0], x=\\\"sequence_type\\\", y=\\\"proba\\\", data=df_train_seq, order=SEQUENCE_TYPES)\\naxes[0].set_title('Train Data')\\n\\nsns.violinplot(ax=axes[1], x=\\\"sequence_type\\\", y=\\\"proba\\\", data=df_val_seq, order=SEQUENCE_TYPES)\\naxes[1].set_title('Validation Data')\\n\\nsns.violinplot(ax=axes[2], x=\\\"sequence_type\\\", y=\\\"proba\\\", data=df_test_seq, order=SEQUENCE_TYPES)\\naxes[2].set_title('Test Data')\\n#sns.despine()\\nplt.show()\";\n",
       "                var nbb_formatted_code = \"# Sequence-based dataset\\nfig, axes = plt.subplots(1, 3, figsize=(20, 5))\\nfig.suptitle(\\\"Probability Distribution (Sequence-based Dataset)\\\")\\nsns.violinplot(\\n    ax=axes[0], x=\\\"sequence_type\\\", y=\\\"proba\\\", data=df_train_seq, order=SEQUENCE_TYPES\\n)\\naxes[0].set_title(\\\"Train Data\\\")\\n\\nsns.violinplot(\\n    ax=axes[1], x=\\\"sequence_type\\\", y=\\\"proba\\\", data=df_val_seq, order=SEQUENCE_TYPES\\n)\\naxes[1].set_title(\\\"Validation Data\\\")\\n\\nsns.violinplot(\\n    ax=axes[2], x=\\\"sequence_type\\\", y=\\\"proba\\\", data=df_test_seq, order=SEQUENCE_TYPES\\n)\\naxes[2].set_title(\\\"Test Data\\\")\\n# sns.despine()\\nplt.show()\";\n",
       "                var nbb_cells = Jupyter.notebook.get_cells();\n",
       "                for (var i = 0; i < nbb_cells.length; ++i) {\n",
       "                    if (nbb_cells[i].input_prompt_number == nbb_cell_id) {\n",
       "                        if (nbb_cells[i].get_text() == nbb_unformatted_code) {\n",
       "                             nbb_cells[i].set_text(nbb_formatted_code);\n",
       "                        }\n",
       "                        break;\n",
       "                    }\n",
       "                }\n",
       "            }, 500);\n",
       "            "
      ],
      "text/plain": [
       "<IPython.core.display.Javascript object>"
      ]
     },
     "metadata": {},
     "output_type": "display_data"
    }
   ],
   "source": [
    "#Sequence-based dataset\n",
    "fig, axes = plt.subplots(1, 3, figsize=(20, 5))\n",
    "fig.suptitle('Probability Distribution (Sequence-based Dataset)')\n",
    "sns.violinplot(ax=axes[0], x=\"sequence_type\", y=\"proba\", data=df_train_seq, order=SEQUENCE_TYPES)\n",
    "axes[0].set_title('Train Data')\n",
    "\n",
    "sns.violinplot(ax=axes[1], x=\"sequence_type\", y=\"proba\", data=df_val_seq, order=SEQUENCE_TYPES)\n",
    "axes[1].set_title('Validation Data')\n",
    "\n",
    "sns.violinplot(ax=axes[2], x=\"sequence_type\", y=\"proba\", data=df_test_seq, order=SEQUENCE_TYPES)\n",
    "axes[2].set_title('Test Data')\n",
    "#sns.despine()\n",
    "plt.show()"
   ]
  },
  {
   "cell_type": "markdown",
   "metadata": {},
   "source": [
    "## Save Data"
   ]
  },
  {
   "cell_type": "code",
   "execution_count": 18,
   "metadata": {},
   "outputs": [
    {
     "name": "stdout",
     "output_type": "stream",
     "text": [
      "Successfully Saved!\n"
     ]
    },
    {
     "data": {
      "application/javascript": [
       "\n",
       "            setTimeout(function() {\n",
       "                var nbb_cell_id = 18;\n",
       "                var nbb_unformatted_code = \"#Event-based\\noutput_dir = os.path.dirname(EVENT_TRAIN_PATH)\\nos.makedirs(output_dir, exist_ok=True)\\n\\ndf_train_event.to_csv(EVENT_TRAIN_PATH)\\ndf_val_event.to_csv(EVENT_VAL_PATH)\\ndf_test_event.to_csv(EVENT_TEST_PATH)\\nprint('Successfully Saved!')\";\n",
       "                var nbb_formatted_code = \"# Event-based\\noutput_dir = os.path.dirname(EVENT_TRAIN_PATH)\\nos.makedirs(output_dir, exist_ok=True)\\n\\ndf_train_event.to_csv(EVENT_TRAIN_PATH)\\ndf_val_event.to_csv(EVENT_VAL_PATH)\\ndf_test_event.to_csv(EVENT_TEST_PATH)\\nprint(\\\"Successfully Saved!\\\")\";\n",
       "                var nbb_cells = Jupyter.notebook.get_cells();\n",
       "                for (var i = 0; i < nbb_cells.length; ++i) {\n",
       "                    if (nbb_cells[i].input_prompt_number == nbb_cell_id) {\n",
       "                        if (nbb_cells[i].get_text() == nbb_unformatted_code) {\n",
       "                             nbb_cells[i].set_text(nbb_formatted_code);\n",
       "                        }\n",
       "                        break;\n",
       "                    }\n",
       "                }\n",
       "            }, 500);\n",
       "            "
      ],
      "text/plain": [
       "<IPython.core.display.Javascript object>"
      ]
     },
     "metadata": {},
     "output_type": "display_data"
    }
   ],
   "source": [
    "#Event-based\n",
    "output_dir = os.path.dirname(EVENT_TRAIN_PATH)\n",
    "os.makedirs(output_dir, exist_ok=True)\n",
    "\n",
    "df_train_event.to_csv(EVENT_TRAIN_PATH)\n",
    "df_val_event.to_csv(EVENT_VAL_PATH)\n",
    "df_test_event.to_csv(EVENT_TEST_PATH)\n",
    "print('Successfully Saved!')"
   ]
  },
  {
   "cell_type": "code",
   "execution_count": 19,
   "metadata": {},
   "outputs": [
    {
     "name": "stdout",
     "output_type": "stream",
     "text": [
      "Successfully Saved!\n"
     ]
    },
    {
     "data": {
      "application/javascript": [
       "\n",
       "            setTimeout(function() {\n",
       "                var nbb_cell_id = 19;\n",
       "                var nbb_unformatted_code = \"#Sequence-based\\noutput_dir = os.path.dirname(SEQUENCE_TRAIN_PATH)\\nos.makedirs(output_dir, exist_ok=True)\\n\\ndf_train_seq.to_csv(SEQUENCE_TRAIN_PATH)\\ndf_val_seq.to_csv(SEQUENCE_VAL_PATH)\\ndf_test_seq.to_csv(SEQUENCE_TEST_PATH)\\nprint('Successfully Saved!')\";\n",
       "                var nbb_formatted_code = \"# Sequence-based\\noutput_dir = os.path.dirname(SEQUENCE_TRAIN_PATH)\\nos.makedirs(output_dir, exist_ok=True)\\n\\ndf_train_seq.to_csv(SEQUENCE_TRAIN_PATH)\\ndf_val_seq.to_csv(SEQUENCE_VAL_PATH)\\ndf_test_seq.to_csv(SEQUENCE_TEST_PATH)\\nprint(\\\"Successfully Saved!\\\")\";\n",
       "                var nbb_cells = Jupyter.notebook.get_cells();\n",
       "                for (var i = 0; i < nbb_cells.length; ++i) {\n",
       "                    if (nbb_cells[i].input_prompt_number == nbb_cell_id) {\n",
       "                        if (nbb_cells[i].get_text() == nbb_unformatted_code) {\n",
       "                             nbb_cells[i].set_text(nbb_formatted_code);\n",
       "                        }\n",
       "                        break;\n",
       "                    }\n",
       "                }\n",
       "            }, 500);\n",
       "            "
      ],
      "text/plain": [
       "<IPython.core.display.Javascript object>"
      ]
     },
     "metadata": {},
     "output_type": "display_data"
    }
   ],
   "source": [
    "#Sequence-based\n",
    "output_dir = os.path.dirname(SEQUENCE_TRAIN_PATH)\n",
    "os.makedirs(output_dir, exist_ok=True)\n",
    "\n",
    "df_train_seq.to_csv(SEQUENCE_TRAIN_PATH)\n",
    "df_val_seq.to_csv(SEQUENCE_VAL_PATH)\n",
    "df_test_seq.to_csv(SEQUENCE_TEST_PATH)\n",
    "print('Successfully Saved!')"
   ]
  },
  {
   "cell_type": "code",
   "execution_count": null,
   "metadata": {},
   "outputs": [],
   "source": []
  }
 ],
 "metadata": {
  "kernelspec": {
   "display_name": "conda_pytorch_p36",
   "language": "python",
   "name": "conda_pytorch_p36"
  },
  "language_info": {
   "codemirror_mode": {
    "name": "ipython",
    "version": 3
   },
   "file_extension": ".py",
   "mimetype": "text/x-python",
   "name": "python",
   "nbconvert_exporter": "python",
   "pygments_lexer": "ipython3",
   "version": "3.6.13"
  }
 },
 "nbformat": 4,
 "nbformat_minor": 4
}
