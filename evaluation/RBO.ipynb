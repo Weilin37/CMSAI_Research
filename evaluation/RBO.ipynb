{
 "cells": [
  {
   "cell_type": "code",
   "execution_count": null,
   "metadata": {},
   "outputs": [],
   "source": [
    "!pip install -e git+https://github.com/changyaochen/rbo.git@master#egg=rbo"
   ]
  },
  {
   "cell_type": "code",
   "execution_count": 7,
   "metadata": {},
   "outputs": [],
   "source": [
    "import rbo\n",
    "import pandas as pd\n",
    "import numpy as np\n",
    "import matplotlib.pyplot as plt\n",
    "from numpy import log as ln"
   ]
  },
  {
   "cell_type": "code",
   "execution_count": 19,
   "metadata": {},
   "outputs": [
    {
     "name": "stdout",
     "output_type": "stream",
     "text": [
      "0.8608640572092918\n"
     ]
    }
   ],
   "source": [
    "### Calculate the p\n",
    "p = 0.8\n",
    "d = 5\n",
    "# get terms\n",
    "log_term = np.log(1/(1-p))\n",
    "sum_term = 0\n",
    "divisor_term = (1-p)/p\n",
    "first_term = 1-(p**(d-1))\n",
    "for i in range(1,d):\n",
    "    sum_term = sum_term + (p**i)/(i)\n",
    "    \n",
    "Wrbo = first_term + (divisor_term)*d*(log_term-sum_term)\n",
    "\n",
    "## looks like p = 0.8, d=5 gives 86% weight on first 5 terms\n",
    "print(Wrbo)"
   ]
  },
  {
   "cell_type": "code",
   "execution_count": 21,
   "metadata": {},
   "outputs": [
    {
     "data": {
      "image/png": "[encoded data removed]",
      "text/plain": [
       "<Figure size 432x288 with 1 Axes>"
      ]
     },
     "metadata": {
      "needs_background": "light"
     },
     "output_type": "display_data"
    }
   ],
   "source": [
    "# Read shap validation files\n",
    "lstm_att = pd.read_pickle('shap_values/lstm-att/val_shap_00.pkl')\n",
    "lstm = pd.read_pickle('shap_values/lstm/val_shap_00.pkl')\n",
    "\n",
    "similarity_list = []\n",
    "# Loop through shap data\n",
    "for index, item in enumerate(lstm_att[0]):\n",
    "    # Get list of features and scores for each patient\n",
    "    lstm_att_features = lstm_att[0][index]\n",
    "    lstm_att_scores = lstm_att[1][index]\n",
    "    lstm_features = lstm[0][index]\n",
    "    lstm_scores = lstm[1][index]\n",
    "    \n",
    "    # Convert the data into the dataframe\n",
    "    # features\n",
    "    df_lstm_att = pd.DataFrame(lstm_att_features, columns = ['features'])\n",
    "    df_lstm_att['scores'] = lstm_att_scores\n",
    "    \n",
    "    # shap scores\n",
    "    df_lstm = pd.DataFrame(lstm_features, columns = ['features'])\n",
    "    df_lstm['scores'] = lstm_scores\n",
    "    \n",
    "    # indices\n",
    "    df_lstm_att['index'] = np.arange(df_lstm_att.shape[0])\n",
    "    df_lstm['index'] = np.arange(df_lstm.shape[0])\n",
    "    \n",
    "    # Order the dataframe by score, descending order\n",
    "    df_lstm = df_lstm.sort_values(by=['scores'], ascending=False)\n",
    "    df_lstm_att = df_lstm_att.sort_values(by=['scores'], ascending=False)\n",
    "    \n",
    "    # Convert back to list\n",
    "    o_lstm_att = df_lstm_att['index'].tolist()\n",
    "    o_lstm = df_lstm['index'].tolist()\n",
    "    \n",
    "    similarity = rbo.RankingSimilarity(o_lstm, o_lstm_att).rbo()\n",
    "    similarity_list.append(similarity)\n",
    "    \n",
    "    \n",
    "    # Plot scores distribution\n",
    "    plt.plot(df_lstm['scores'].tolist())"
   ]
  },
  {
   "cell_type": "code",
   "execution_count": 22,
   "metadata": {},
   "outputs": [
    {
     "data": {
      "text/plain": [
       "(0.0, 10.0)"
      ]
     },
     "execution_count": 22,
     "metadata": {},
     "output_type": "execute_result"
    },
    {
     "data": {
      "image/png": "[encoded data removed]",
      "text/plain": [
       "<Figure size 432x288 with 1 Axes>"
      ]
     },
     "metadata": {
      "needs_background": "light"
     },
     "output_type": "display_data"
    }
   ],
   "source": [
    "# An \"interface\" to matplotlib.axes.Axes.hist() method\n",
    "n, bins, patches = plt.hist(x=similarity_list, bins='auto', color='#0504aa',\n",
    "                            alpha=0.7, rwidth=0.85)\n",
    "plt.grid(axis='y', alpha=0.75)\n",
    "plt.xlabel('Value')\n",
    "plt.ylabel('Frequency')\n",
    "maxfreq = n.max()\n",
    "# Set a clean upper y-axis limit.\n",
    "plt.ylim(ymax=np.ceil(maxfreq / 10) * 10 if maxfreq % 10 else maxfreq + 2)"
   ]
  },
  {
   "cell_type": "code",
   "execution_count": null,
   "metadata": {},
   "outputs": [],
   "source": []
  }
 ],
 "metadata": {
  "kernelspec": {
   "display_name": "Python 3",
   "language": "python",
   "name": "python3"
  },
  "language_info": {
   "codemirror_mode": {
    "name": "ipython",
    "version": 3
   },
   "file_extension": ".py",
   "mimetype": "text/x-python",
   "name": "python",
   "nbconvert_exporter": "python",
   "pygments_lexer": "ipython3",
   "version": "3.8.5"
  }
 },
 "nbformat": 4,
 "nbformat_minor": 4
}
